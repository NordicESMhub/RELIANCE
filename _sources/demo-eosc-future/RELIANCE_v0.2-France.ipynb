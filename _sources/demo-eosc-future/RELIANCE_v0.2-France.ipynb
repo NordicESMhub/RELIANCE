{
 "cells": [
  {
   "cell_type": "markdown",
   "id": "suited-forty",
   "metadata": {},
   "source": [
    "<img src='https://www.reliance-project.eu/wp-content/uploads/2021/03/Asset-8mdpi.svg' alt='Layout' align='left' width='25%'></img> \n",
    "<img src='https://media-exp1.licdn.com/dms/image/C560BAQFFDze0s3l-pQ/company-logo_200_200/0?e=2159024400&v=beta&t=jG_sh9NpwE6yc2TspIcL2YUR2X7OBzTrRSu6w7sNYtc' alt='Layout' align='right' width='10%'></img> "
   ]
  },
  {
   "cell_type": "markdown",
   "id": "defensive-penguin",
   "metadata": {},
   "source": [
    "# Using CAMS European air quality analysis from Copernicus Atmosphere Monitoring with RELIANCE services\n",
    "\n",
    "## Analysis over France"
   ]
  },
  {
   "cell_type": "markdown",
   "id": "duplicate-coaching",
   "metadata": {},
   "source": [
    "<div class=\"alert alert-success alert-info\">\n",
    "<b>How to discover RELIANCE datacube resources (spatial and temporal search and subsetting)</b></div>"
   ]
  },
  {
   "cell_type": "markdown",
   "id": "streaming-utilization",
   "metadata": {},
   "source": [
    "This notebook shows how to discover and access the [Copernicus Atmosphere Monitoring](https://ads.atmosphere.copernicus.eu/#!/home) products available in the **RELIANCE** datacube resources, by using the functionalities provided in the <font color='blue'> **Adam API** </font>. The process is structured in 6 steps, including example of data analysis and visualization with the Python libraries installed in the Jupyter environment.\n",
    "\n",
    "- [1. Data Management](#1.Data_Management)\n",
    "- [2. Authentication](#2.Authentication)\n",
    "- [3. Datasets Discovery](#3.Datasets_Discovery)\n",
    "- [4. Products Discovery](#4.Products_Discovery)\n",
    "- [5. Data Access](#5.Data_Access)\n",
    "- [6. Data Analysis and Visualizarion](#6.Data_Analysis_Visualization)\n",
    "- [7. Create Research Object and Share my work](#7.rohub)"
   ]
  },
  {
   "cell_type": "markdown",
   "id": "46e47939-5420-4275-b820-09b0eca5d5d0",
   "metadata": {},
   "source": [
    "## <a id=1.Data_Management></a> **Step 1: Data Management** \n",
    "- Organize my data:\n",
    "    - Define a prefix for my project (you may need to adjust it for your own usage on your infrastructure). \n",
    "    - `input` folder where all the data used as input to my Jupyter Notebook is stored (and eventually shared)\n",
    "    - `output` folder where all the results to keep are stored\n",
    "    - `tool` folder where all the tools, including this Jupyter Notebook will be copied for sharing\n",
    "- Create all corresponding folders"
   ]
  },
  {
   "cell_type": "markdown",
   "id": "a5457c11-6238-43d2-a98a-ef0b8bfecd9a",
   "metadata": {},
   "source": [
    "### Import Python packages"
   ]
  },
  {
   "cell_type": "code",
   "execution_count": 5,
   "id": "solar-timing",
   "metadata": {},
   "outputs": [],
   "source": [
    "import os\n",
    "import warnings\n",
    "import pathlib"
   ]
  },
  {
   "cell_type": "code",
   "execution_count": 6,
   "id": "heard-terminal",
   "metadata": {},
   "outputs": [],
   "source": [
    "warnings.filterwarnings('ignore')"
   ]
  },
  {
   "cell_type": "markdown",
   "id": "27155406-3f0b-4302-8122-79889725a110",
   "metadata": {},
   "source": [
    "### Create folders"
   ]
  },
  {
   "cell_type": "code",
   "execution_count": 7,
   "id": "7e282cc7-748c-4785-af96-1aeed4d334de",
   "metadata": {
    "tags": []
   },
   "outputs": [
    {
     "name": "stdout",
     "output_type": "stream",
     "text": [
      "WORKDIR FOLDER:  /home/jovyan/datahub/Reliance/Climate\n"
     ]
    }
   ],
   "source": [
    "WORKDIR_FOLDER = os.path.join(os.environ['HOME'], \"datahub/Reliance/Climate\")\n",
    "print(\"WORKDIR FOLDER: \", WORKDIR_FOLDER)"
   ]
  },
  {
   "cell_type": "code",
   "execution_count": 8,
   "id": "f1a03583-8a6a-4c36-939b-f0ab479dd673",
   "metadata": {},
   "outputs": [],
   "source": [
    "INPUT_DATA_DIR = os.path.join(WORKDIR_FOLDER, 'input')\n",
    "OUTPUT_DATA_DIR = os.path.join(WORKDIR_FOLDER, 'output')\n",
    "TOOL_DATA_DIR = os.path.join(WORKDIR_FOLDER, 'tool')\n",
    "\n",
    "list_folders = [INPUT_DATA_DIR, OUTPUT_DATA_DIR, TOOL_DATA_DIR]\n",
    "\n",
    "for folder in list_folders:\n",
    "    pathlib.Path(folder).mkdir(parents=True, exist_ok=True)"
   ]
  },
  {
   "cell_type": "markdown",
   "id": "functional-trade",
   "metadata": {},
   "source": [
    "## <a id=2.Authentication></a> **Step 2: Authentication** "
   ]
  },
  {
   "cell_type": "markdown",
   "id": "interesting-modification",
   "metadata": {},
   "source": [
    "The following lines of code will show the personal **Adam API-Key** of the user and the endpoint currently in use, that provide access to the products in the related catalogue. At the end of the execution, if the authentication process is successfull the personal token and the expiration time should be returned as outputs."
   ]
  },
  {
   "cell_type": "code",
   "execution_count": 12,
   "id": "split-nutrition",
   "metadata": {},
   "outputs": [
    {
     "name": "stdout",
     "output_type": "stream",
     "text": [
      "Collecting adamapi\n",
      "  Using cached adamapi-2.0.11-py3-none-any.whl (14 kB)\n",
      "Requirement already satisfied: requests>=2.22.0 in /opt/conda/lib/python3.8/site-packages (from adamapi) (2.25.1)\n",
      "Requirement already satisfied: imageio in /opt/conda/lib/python3.8/site-packages (from adamapi) (2.9.0)\n",
      "Requirement already satisfied: idna<3,>=2.5 in /opt/conda/lib/python3.8/site-packages (from requests>=2.22.0->adamapi) (2.10)\n",
      "Requirement already satisfied: urllib3<1.27,>=1.21.1 in /opt/conda/lib/python3.8/site-packages (from requests>=2.22.0->adamapi) (1.26.4)\n",
      "Requirement already satisfied: chardet<5,>=3.0.2 in /opt/conda/lib/python3.8/site-packages (from requests>=2.22.0->adamapi) (4.0.0)\n",
      "Requirement already satisfied: certifi>=2017.4.17 in /opt/conda/lib/python3.8/site-packages (from requests>=2.22.0->adamapi) (2021.10.8)\n",
      "Requirement already satisfied: pillow in /opt/conda/lib/python3.8/site-packages (from imageio->adamapi) (8.1.2)\n",
      "Requirement already satisfied: numpy in /opt/conda/lib/python3.8/site-packages (from imageio->adamapi) (1.19.5)\n",
      "Installing collected packages: adamapi\n",
      "Successfully installed adamapi-2.0.11\n",
      "Note: you may need to restart the kernel to use updated packages.\n"
     ]
    }
   ],
   "source": [
    "pip install adamapi"
   ]
  },
  {
   "cell_type": "code",
   "execution_count": 13,
   "id": "740cf688-4717-4bc5-ab4a-7287496d33ea",
   "metadata": {},
   "outputs": [],
   "source": [
    "adam_key = open(os.path.join(os.environ['HOME'],\"adam-key\")).read().rstrip()"
   ]
  },
  {
   "cell_type": "code",
   "execution_count": 15,
   "id": "norwegian-evans",
   "metadata": {},
   "outputs": [
    {
     "data": {
      "text/plain": [
       "{'expires_at': '2022-01-17T16:45:56.329Z',\n",
       " 'access_token': '48c59a806afa41ef811f5dafe8277cb1',\n",
       " 'refresh_token': 'c366297d635d490e8279df67e7c35215',\n",
       " 'expires_in': 3600}"
      ]
     },
     "execution_count": 15,
     "metadata": {},
     "output_type": "execute_result"
    }
   ],
   "source": [
    "import adamapi as adam\n",
    "a = adam.Auth()\n",
    "\n",
    "a.setKey(adam_key)\n",
    "a.setAdamCore('https://reliance.adamplatform.eu')\n",
    "a.authorize() "
   ]
  },
  {
   "cell_type": "markdown",
   "id": "mathematical-writing",
   "metadata": {
    "jupyter": {
     "outputs_hidden": true
    },
    "tags": []
   },
   "source": [
    "## <a id=3.Datasets_Discovery></a> **Step 3: Datasets Discovery**"
   ]
  },
  {
   "cell_type": "markdown",
   "id": "adult-warning",
   "metadata": {},
   "source": [
    "After the authorization, the user can browse the whole catalogue, structured as a JSON object after a pagination process,  displaying all the available datasets. This operation can be executed with the <font color='blue'> **getDatasets()** </font> function without including any argument. Some lines of code should be added to parse the Json object and extract the names of the datasets.The Json object can be handled as a Python dictionary."
   ]
  },
  {
   "cell_type": "markdown",
   "id": "premier-thomas",
   "metadata": {},
   "source": [
    "### Pre-filter datasets\n",
    "\n",
    "We will discover all the available datasets in the ADAM platform but will only print elements of interest **EU_CAMS** e.g. [European air quality datasets](https://ads.atmosphere.copernicus.eu/cdsapp#!/dataset/cams-europe-air-quality-forecasts?tab=overview) from Copernicus Atmosphere Monitoring Service"
   ]
  },
  {
   "cell_type": "code",
   "execution_count": 72,
   "id": "controlled-soccer",
   "metadata": {},
   "outputs": [],
   "source": [
    "def list_datasets(a, search=\"\"):\n",
    "    datasets = adam.Datasets(a)\n",
    "    catalogue = datasets.getDatasets()\n",
    "\n",
    "# Extracting the size of the catalogue\n",
    "\n",
    "    total = catalogue['properties']['totalResults']\n",
    "    items = catalogue['properties']['itemsPerPage']\n",
    "    pages = total // items\n",
    "    \n",
    "    print('\\033[1;34m')\n",
    "    print('----------------------------------------------------------------------')\n",
    "    print( 'List of available datasets:')\n",
    "    print ('\\033[0;0m')\n",
    "\n",
    "# Extracting the list of datasets across the whole catalogue\n",
    "\n",
    "    for i in range(0, pages):\n",
    "        page = datasets.getDatasets(page=i)\n",
    "        for element in page['content']:\n",
    "            if search == \"\" or search in element['title']:\n",
    "                print(element['title'] + \" --> datasetId = \" + element['datasetId'])\n",
    "    return datasets"
   ]
  },
  {
   "cell_type": "code",
   "execution_count": 73,
   "id": "3ddaa981-bb77-4a8a-a610-fedd54d1e288",
   "metadata": {
    "tags": []
   },
   "outputs": [
    {
     "name": "stdout",
     "output_type": "stream",
     "text": [
      "\u001b[1;34m\n",
      "----------------------------------------------------------------------\n",
      "List of available datasets:\n",
      "\u001b[0;0m\n",
      "EU_CAMS_SURFACE_C2H3NO5_G --> datasetId = 69619:EU_CAMS_SURFACE_C2H3NO5_G\n",
      "EU_CAMS_SURFACE_CO_G --> datasetId = 69620:EU_CAMS_SURFACE_CO_G\n",
      "EU_CAMS_SURFACE_NH3_G --> datasetId = 69621:EU_CAMS_SURFACE_NH3_G\n",
      "EU_CAMS_SURFACE_NMVOC_G --> datasetId = 69622:EU_CAMS_SURFACE_NMVOC_G\n",
      "EU_CAMS_SURFACE_NO2_G --> datasetId = 69623:EU_CAMS_SURFACE_NO2_G\n",
      "EU_CAMS_SURFACE_NO_G --> datasetId = 69624:EU_CAMS_SURFACE_NO_G\n",
      "EU_CAMS_SURFACE_O3_G --> datasetId = 69625:EU_CAMS_SURFACE_O3_G\n",
      "EU_CAMS_SURFACE_PM10_G --> datasetId = 69626:EU_CAMS_SURFACE_PM10_G\n",
      "EU_CAMS_SURFACE_PM25_G --> datasetId = 69627:EU_CAMS_SURFACE_PM25_G\n",
      "EU_CAMS_SURFACE_REC_G --> datasetId = 69628:EU_CAMS_SURFACE_REC_G\n",
      "EU_CAMS_SURFACE_SIA_G --> datasetId = 69629:EU_CAMS_SURFACE_SIA_G\n",
      "EU_CAMS_SURFACE_SO2_G --> datasetId = 69630:EU_CAMS_SURFACE_SO2_G\n",
      "EU_CAMS_SURFACE_TEC_G --> datasetId = 69631:EU_CAMS_SURFACE_TEC_G\n"
     ]
    }
   ],
   "source": [
    "datasets = list_datasets(a, search=\"EU_CAMS\")"
   ]
  },
  {
   "cell_type": "markdown",
   "id": "complimentary-daily",
   "metadata": {},
   "source": [
    "We are interested by **Particulate matter < 10 µm (PM10)** so we will discover **EU_CAMS_SURFACE_PM10_G** and print the metadata of this particular dataset, showing the data provenance."
   ]
  },
  {
   "cell_type": "code",
   "execution_count": 74,
   "id": "disabled-parish",
   "metadata": {
    "tags": []
   },
   "outputs": [
    {
     "name": "stdout",
     "output_type": "stream",
     "text": [
      "\u001b[1;34mMetadata of 69626:EU_CAMS_SURFACE_PM10_G:\n",
      "\u001b[0;0m\n",
      "datasetId: 69626:EU_CAMS_SURFACE_PM10_G\n",
      "creationDate: 2021-07-12T02:00:00Z\n",
      "dataType: Float32\n",
      "epsg: 4326\n",
      "keywords: []\n",
      "license: {'documentationUrl': '', 'dataProviderName': 'ADS', 'dataProviderUrl': '', 'licenseId': '', 'dataPolicy': '', 'doi': '', 'credits': ''}\n",
      "maxValue: [2645.995849609375]\n",
      "minValue: [0.003789698239415884]\n",
      "numberOfRecords: 61598\n",
      "profile: {'profileSchema': 'eo_profile_schema.json', 'name': 'Earth Observation', 'mission': 'CAMS', 'sensor': 'CAMS', 'processingLevel': 'forecast', 'instrument': '', 'platform': ''}\n",
      "resolutionUnit: degree\n",
      "temporalResolution: Hourly\n",
      "unit: \n",
      "unitDescription: \n",
      "updateDate: 2022-01-17T12:01:44Z\n",
      "geometry: {'type': 'Polygon', 'coordinates': [[[-25.000012, 29.999997], [44.999988, 29.999997], [44.999988, 71.999997], [-25.000012, 71.999997], [-25.000012, 29.999997]]]}\n",
      "resolutions: [0.1]\n",
      "anyText: 4326,ESA,Daily,ESA\n",
      "applications: ['Atmosphere']\n",
      "datasetManager: govoni@meeo.it\n",
      "datasetManagerOrganisation: meeo\n",
      "description: This dataset provides daily air quality analyses and forecasts for Europe.\n",
      "\n",
      "CAMS produces specific daily air quality analyses and forecasts for the European domain at significantly higher spatial resolution (0.1 degrees, approx. 10km) than is available from the global analyses and forecasts. The production is based on an ensemble of nine air quality forecasting systems across Europe. A median ensemble is calculated from individual outputs, since ensemble products yield on average better performance than the individual model products. The spread between the nine models are used to provide an estimate of the forecast uncertainty. The analysis combines model data with observations provided by the European Environment Agency (EEA) into a complete and consistent dataset using various data assimilation techniques depending upon the air-quality forecasting system used. In parallel, air quality forecasts are produced once a day for the next four days. Both the analysis and the forecast are available at hourly time steps at seven height levels.\n",
      "\n",
      "Note that only nitrogen monoxide, nitrogen dioxide, sulphur dioxide, ozone, PM2.5, PM10 and dust are regularly validated against in situ observations, and therefore forecasts of all other variables are unvalidated and should be considered experimental.\n",
      "title: EU_CAMS_SURFACE_PM10_G\n",
      "noDataValue: 0\n",
      "timeReferenceSystem: UTC\n",
      "units: µg m-3\n",
      "unitsDescription: PM10\n",
      "services: ['MWCS', 'ADAM', 'AdamApi']\n",
      "technicalManager: govoni@meeo.it\n",
      "filtersEnabled: {'type': 'object', 'title': 'Dataset filters', 'properties': {'startDate': {'title': 'Start Date', 'type': 'string', 'format': 'date', 'text_rule': 'false', 'ops_only': 'false', 'math_rule': 'false', 'order_rule': 'false', 'pattern': '^d{4}-[01]d-[0-3]d(T[0-2]d:[0-9]d:[0-9]dZ)?$'}, 'endDate': {'title': 'End Date', 'type': 'string', 'format': 'date', 'ops_only': 'false', 'text_rule': 'false', 'math_rule': 'false', 'order_rule': 'false', 'pattern': '^d{4}-[01]d-[0-3]d(T[0-2]d:[0-9]d:[0-9]dZ)?$'}}}\n",
      "starDate: 2018-07-12T00:00:00Z\n",
      "endDate: 2022-01-16T23:00:00Z\n",
      "accounting: {'unit': 0.0032}\n"
     ]
    }
   ],
   "source": [
    "datasetID = '69626:EU_CAMS_SURFACE_PM10_G'\n",
    "\n",
    "print('\\033[1;34m' + 'Metadata of ' + datasetID + ':')\n",
    "print ('\\033[0;0m')\n",
    "\n",
    "paged = datasets.getDatasets(datasetID)\n",
    "for i in paged.items():\n",
    "    print(str(i[0]) + ': ' + str(i[1]))"
   ]
  },
  {
   "cell_type": "markdown",
   "id": "electronic-special",
   "metadata": {},
   "source": [
    "## <a id=4.Products_Discovery></a> **Step 4: Products Discovery**"
   ]
  },
  {
   "cell_type": "markdown",
   "id": "ahead-terminal",
   "metadata": {},
   "source": [
    "The products discovery operation related to a specific dataset is implemented in the Adam API with the <font color='blue'> **getProducts()** </font> function. A combined **spatial and temporal search** can be requested by specifying the <font color='red'> **datasetId** </font> for the selected dataset,the <font color='red'> **geometry** </font> argument that specifies the <u>Area Of Interest</u> and a temporal range, defined by `startDate` and `endDate` . The geometry must **<u>always</u>** be defined by a <font color='red'> **GeoJson object** </font> that describes the polygon in the **<u>counterclockwise winding order**</u>. The optional arguments `startIndex` and `maxRecords` can set the list of the results returned as an output. The results of the search are displayed with their metadata and they are sorted starting from the most recent product."
   ]
  },
  {
   "cell_type": "markdown",
   "id": "unlimited-tonight",
   "metadata": {},
   "source": [
    "### Generate geometry for France\n",
    "The geometry field is extracted from a GeoJSON object , retrieving the value of the \"feature\" element.\n"
   ]
  },
  {
   "cell_type": "code",
   "execution_count": 41,
   "id": "a5d1bf5c-23e9-4c70-87e7-5add8c74bb9e",
   "metadata": {},
   "outputs": [
    {
     "name": "stdout",
     "output_type": "stream",
     "text": [
      "Collecting wget\n",
      "  Downloading wget-3.2.zip (10 kB)\n",
      "Building wheels for collected packages: wget\n",
      "  Building wheel for wget (setup.py) ... \u001b[?25ldone\n",
      "\u001b[?25h  Created wheel for wget: filename=wget-3.2-py3-none-any.whl size=9680 sha256=28a5f6f20cc30bf0122342aa5142fa8764267b3321bf11507c368c9c1a7670ca\n",
      "  Stored in directory: /home/jovyan/.cache/pip/wheels/bd/a8/c3/3cf2c14a1837a4e04bd98631724e81f33f462d86a1d895fae0\n",
      "Successfully built wget\n",
      "Installing collected packages: wget\n",
      "Successfully installed wget-3.2\n",
      "Note: you may need to restart the kernel to use updated packages.\n"
     ]
    }
   ],
   "source": [
    "pip install wget"
   ]
  },
  {
   "cell_type": "code",
   "execution_count": 42,
   "id": "125be7f1-f966-437c-a7d5-846608e41561",
   "metadata": {},
   "outputs": [],
   "source": [
    "import wget"
   ]
  },
  {
   "cell_type": "code",
   "execution_count": 43,
   "id": "f16928b2-2513-42ed-8b71-5069aa2642fb",
   "metadata": {},
   "outputs": [],
   "source": [
    "url = 'https://raw.githubusercontent.com/mledoze/countries/master/data/fra.geo.json'"
   ]
  },
  {
   "cell_type": "code",
   "execution_count": 75,
   "id": "7e26d420-d4ba-44f4-92bd-ca79893e03c7",
   "metadata": {},
   "outputs": [
    {
     "data": {
      "text/plain": [
       "'/home/jovyan/datahub/Reliance/Climate/input/fra.geo.json'"
      ]
     },
     "execution_count": 75,
     "metadata": {},
     "output_type": "execute_result"
    }
   ],
   "source": [
    "local_path_geom = os.path.join(INPUT_DATA_DIR, os.path.basename(url))\n",
    "local_path_geom"
   ]
  },
  {
   "cell_type": "code",
   "execution_count": 76,
   "id": "31ba9784-e794-4089-b83d-a878d8f1e0e3",
   "metadata": {},
   "outputs": [],
   "source": [
    "if not (pathlib.Path(local_path_geom).exists()):\n",
    "        wget.download(url, out=INPUT_DATA_DIR)"
   ]
  },
  {
   "cell_type": "markdown",
   "id": "twelve-president",
   "metadata": {},
   "source": [
    "### Search data"
   ]
  },
  {
   "cell_type": "code",
   "execution_count": 57,
   "id": "hydraulic-opening",
   "metadata": {},
   "outputs": [
    {
     "name": "stdout",
     "output_type": "stream",
     "text": [
      "Collecting geojson_rewind\n",
      "  Using cached geojson_rewind-1.0.2-py3-none-any.whl (4.9 kB)\n",
      "Installing collected packages: geojson-rewind\n",
      "Successfully installed geojson-rewind-1.0.2\n",
      "Note: you may need to restart the kernel to use updated packages.\n"
     ]
    }
   ],
   "source": [
    "pip install geojson_rewind"
   ]
  },
  {
   "cell_type": "code",
   "execution_count": 58,
   "id": "capable-ministry",
   "metadata": {},
   "outputs": [],
   "source": [
    "from geojson_rewind import rewind\n",
    "import json"
   ]
  },
  {
   "cell_type": "markdown",
   "id": "higher-burns",
   "metadata": {},
   "source": [
    "The GeoJson object needs to be rearranged according to the counterclockwise winding order.This operation is executed in the next few lines to obtain \n",
    "a geometry that meets the requirements of the method. **Geom_1** is the final result to be used in the discovery operation."
   ]
  },
  {
   "cell_type": "code",
   "execution_count": 62,
   "id": "offensive-rochester",
   "metadata": {},
   "outputs": [],
   "source": [
    "with open(local_path_geom) as f:\n",
    "    geom_dict = json.load(f)\n",
    "output = rewind(geom_dict)    \n",
    "geom_1 = str(geom_dict['features'][0]['geometry'])"
   ]
  },
  {
   "cell_type": "markdown",
   "id": "pretty-shark",
   "metadata": {},
   "source": [
    "Copernicus air quality analyses are hourly product but when we select a given date, we will only get the first 10 products. \n",
    "Below, we make a list of the first 10 available products for the 1st September 2020 e.g. we restrict our search to this date."
   ]
  },
  {
   "cell_type": "code",
   "execution_count": 63,
   "id": "expensive-subsection",
   "metadata": {},
   "outputs": [],
   "source": [
    "start_date = '2019-09-01'\n",
    "end_date = '2019-09-01'"
   ]
  },
  {
   "cell_type": "code",
   "execution_count": 79,
   "id": "functioning-gibraltar",
   "metadata": {
    "tags": []
   },
   "outputs": [
    {
     "name": "stdout",
     "output_type": "stream",
     "text": [
      "\u001b[1;34mList of available products (maximum 10 products printed):\n",
      "\u001b[0;0m\n",
      "\u001b[1;31;1m#1\n",
      "\u001b[0m\n",
      "_id: {'$oid': '60ef2c3d6dfebc0806c75279'}\n",
      "datasetId: EU_CAMS_SURFACE_PM10_G\n",
      "productDate: 2019-09-01T23:00:00Z\n",
      "productId: EU_CAMS_SURFACE_PM10_G_20190901230000.tif\n",
      "geometry: {'geometries': [{'type': 'Polygon', 'coordinates': [[[-25.000012, 29.999997], [44.999988, 29.999997], [44.999988, 71.999997], [-25.000012, 71.999997], [-25.000012, 29.999997]]]}], 'type': 'GeometryCollection'}\n",
      "insertDate: 2021-07-14T18:26:05Z\n",
      "status: Online\n",
      "------------------------------------\n",
      "\u001b[1;31;1m#2\n",
      "\u001b[0m\n",
      "_id: {'$oid': '60ef2c3d6dfebc0806c75276'}\n",
      "datasetId: EU_CAMS_SURFACE_PM10_G\n",
      "productDate: 2019-09-01T22:00:00Z\n",
      "productId: EU_CAMS_SURFACE_PM10_G_20190901220000.tif\n",
      "geometry: {'geometries': [{'type': 'Polygon', 'coordinates': [[[-25.000012, 29.999997], [44.999988, 29.999997], [44.999988, 71.999997], [-25.000012, 71.999997], [-25.000012, 29.999997]]]}], 'type': 'GeometryCollection'}\n",
      "insertDate: 2021-07-14T18:26:05Z\n",
      "status: Online\n",
      "------------------------------------\n",
      "\u001b[1;31;1m#3\n",
      "\u001b[0m\n",
      "_id: {'$oid': '60ef2c3d6dfebc0806c7526b'}\n",
      "datasetId: EU_CAMS_SURFACE_PM10_G\n",
      "productDate: 2019-09-01T21:00:00Z\n",
      "productId: EU_CAMS_SURFACE_PM10_G_20190901210000.tif\n",
      "geometry: {'geometries': [{'type': 'Polygon', 'coordinates': [[[-25.000012, 29.999997], [44.999988, 29.999997], [44.999988, 71.999997], [-25.000012, 71.999997], [-25.000012, 29.999997]]]}], 'type': 'GeometryCollection'}\n",
      "insertDate: 2021-07-14T18:26:05Z\n",
      "status: Online\n",
      "------------------------------------\n",
      "\u001b[1;31;1m#4\n",
      "\u001b[0m\n",
      "_id: {'$oid': '60ef2c3d6dfebc0806c75269'}\n",
      "datasetId: EU_CAMS_SURFACE_PM10_G\n",
      "productDate: 2019-09-01T20:00:00Z\n",
      "productId: EU_CAMS_SURFACE_PM10_G_20190901200000.tif\n",
      "geometry: {'geometries': [{'type': 'Polygon', 'coordinates': [[[-25.000012, 29.999997], [44.999988, 29.999997], [44.999988, 71.999997], [-25.000012, 71.999997], [-25.000012, 29.999997]]]}], 'type': 'GeometryCollection'}\n",
      "insertDate: 2021-07-14T18:26:05Z\n",
      "status: Online\n",
      "------------------------------------\n",
      "\u001b[1;31;1m#5\n",
      "\u001b[0m\n",
      "_id: {'$oid': '60ef2c3d6dfebc0806c75260'}\n",
      "datasetId: EU_CAMS_SURFACE_PM10_G\n",
      "productDate: 2019-09-01T19:00:00Z\n",
      "productId: EU_CAMS_SURFACE_PM10_G_20190901190000.tif\n",
      "geometry: {'geometries': [{'type': 'Polygon', 'coordinates': [[[-25.000012, 29.999997], [44.999988, 29.999997], [44.999988, 71.999997], [-25.000012, 71.999997], [-25.000012, 29.999997]]]}], 'type': 'GeometryCollection'}\n",
      "insertDate: 2021-07-14T18:26:05Z\n",
      "status: Online\n",
      "------------------------------------\n",
      "\u001b[1;31;1m#6\n",
      "\u001b[0m\n",
      "_id: {'$oid': '60ef2c3d6dfebc0806c75263'}\n",
      "datasetId: EU_CAMS_SURFACE_PM10_G\n",
      "productDate: 2019-09-01T18:00:00Z\n",
      "productId: EU_CAMS_SURFACE_PM10_G_20190901180000.tif\n",
      "geometry: {'geometries': [{'type': 'Polygon', 'coordinates': [[[-25.000012, 29.999997], [44.999988, 29.999997], [44.999988, 71.999997], [-25.000012, 71.999997], [-25.000012, 29.999997]]]}], 'type': 'GeometryCollection'}\n",
      "insertDate: 2021-07-14T18:26:05Z\n",
      "status: Online\n",
      "------------------------------------\n",
      "\u001b[1;31;1m#7\n",
      "\u001b[0m\n",
      "_id: {'$oid': '60ef2c3d6dfebc0806c75255'}\n",
      "datasetId: EU_CAMS_SURFACE_PM10_G\n",
      "productDate: 2019-09-01T17:00:00Z\n",
      "productId: EU_CAMS_SURFACE_PM10_G_20190901170000.tif\n",
      "geometry: {'geometries': [{'type': 'Polygon', 'coordinates': [[[-25.000012, 29.999997], [44.999988, 29.999997], [44.999988, 71.999997], [-25.000012, 71.999997], [-25.000012, 29.999997]]]}], 'type': 'GeometryCollection'}\n",
      "insertDate: 2021-07-14T18:26:05Z\n",
      "status: Online\n",
      "------------------------------------\n",
      "\u001b[1;31;1m#8\n",
      "\u001b[0m\n",
      "_id: {'$oid': '60ef2c3d6dfebc0806c75250'}\n",
      "datasetId: EU_CAMS_SURFACE_PM10_G\n",
      "productDate: 2019-09-01T16:00:00Z\n",
      "productId: EU_CAMS_SURFACE_PM10_G_20190901160000.tif\n",
      "geometry: {'geometries': [{'type': 'Polygon', 'coordinates': [[[-25.000012, 29.999997], [44.999988, 29.999997], [44.999988, 71.999997], [-25.000012, 71.999997], [-25.000012, 29.999997]]]}], 'type': 'GeometryCollection'}\n",
      "insertDate: 2021-07-14T18:26:05Z\n",
      "status: Online\n",
      "------------------------------------\n",
      "\u001b[1;31;1m#9\n",
      "\u001b[0m\n",
      "_id: {'$oid': '60ef2c3d6dfebc0806c7524a'}\n",
      "datasetId: EU_CAMS_SURFACE_PM10_G\n",
      "productDate: 2019-09-01T15:00:00Z\n",
      "productId: EU_CAMS_SURFACE_PM10_G_20190901150000.tif\n",
      "geometry: {'geometries': [{'type': 'Polygon', 'coordinates': [[[-25.000012, 29.999997], [44.999988, 29.999997], [44.999988, 71.999997], [-25.000012, 71.999997], [-25.000012, 29.999997]]]}], 'type': 'GeometryCollection'}\n",
      "insertDate: 2021-07-14T18:26:05Z\n",
      "status: Online\n",
      "------------------------------------\n",
      "\u001b[1;31;1m#10\n",
      "\u001b[0m\n",
      "_id: {'$oid': '60ef2c3d6dfebc0806c7524c'}\n",
      "datasetId: EU_CAMS_SURFACE_PM10_G\n",
      "productDate: 2019-09-01T14:00:00Z\n",
      "productId: EU_CAMS_SURFACE_PM10_G_20190901140000.tif\n",
      "geometry: {'geometries': [{'type': 'Polygon', 'coordinates': [[[-25.000012, 29.999997], [44.999988, 29.999997], [44.999988, 71.999997], [-25.000012, 71.999997], [-25.000012, 29.999997]]]}], 'type': 'GeometryCollection'}\n",
      "insertDate: 2021-07-14T18:26:05Z\n",
      "status: Online\n",
      "------------------------------------\n"
     ]
    }
   ],
   "source": [
    "search = adam.Search( a )\n",
    "results = search.getProducts(\n",
    "    datasetID, \n",
    "    geometry=geom_1,\n",
    "    startDate=start_date,\n",
    "    endDate=end_date\n",
    " )\n",
    "\n",
    "# Printing the results\n",
    "\n",
    "print('\\033[1;34m' + 'List of available products (maximum 10 products printed):')\n",
    "print ('\\033[0;0m')\n",
    "\n",
    "count = 1\n",
    "for i in results['content']:\n",
    "        print(\"\\033[1;31;1m\" + \"#\" + str(count))\n",
    "        print ('\\033[0m')\n",
    "        for k in i.items():\n",
    "            print(str(k[0]) + ': ' + str(k[1]))\n",
    "        count = count+1\n",
    "        print('------------------------------------')"
   ]
  },
  {
   "cell_type": "markdown",
   "id": "alone-ordinance",
   "metadata": {},
   "source": [
    "## <a id=5.Data_Access></a> **Step 5: Data Access**"
   ]
  },
  {
   "cell_type": "markdown",
   "id": "brave-occupation",
   "metadata": {},
   "source": [
    "After the data discovery operation that retrieves the availability of products in the catalogue, it is possible to access the data with the <font color='blue'> **getData** </font> function. Each product in the output list intersects the selected geometry and the following example shows how to access a specific product from the list of results obtained in the previous step. While the <font color='red'> **datasetId** </font> is always a mandatory parameter, for each data access request the <font color='blue'> **getData** </font> function needs only one of the following arguments: <font color='red'> **geometry** </font> or <font color='red'> **productId** </font>, that is the value of the <font color='blue'> **_id** </font> field in each product metadata. In the case of a <u>**spatial and temporal search**</u> the geometry must be provided to the function, together with the time range of interest. \n",
    "The output of the <font color='blue'> **getData** </font> function is <u>always</u> a <font color='red'> **.zip** </font> file containing the data retrieved with the data access request, providing the spatial **subset** of the product. The zip file will contain a geotiff file for each of the spatial subsets extracted in the selected time range."
   ]
  },
  {
   "cell_type": "markdown",
   "id": "collective-estimate",
   "metadata": {},
   "source": [
    "#### Define a function to select a time range and get data"
   ]
  },
  {
   "cell_type": "code",
   "execution_count": 80,
   "id": "indie-coaching",
   "metadata": {},
   "outputs": [],
   "source": [
    "def getZipData(auth, dataset_info):\n",
    "    if not (pathlib.Path(pathlib.Path(dataset_info['outputFname']).stem).exists() or pathlib.Path(dataset_info['outputFname']).exists()):\n",
    "        data=adam.GetData(auth)\n",
    "        image = data.getData(\n",
    "        datasetId = dataset_info['datasetID'],\n",
    "        startDate = dataset_info['startDate'],\n",
    "        endDate = dataset_info['endDate'],\n",
    "        geometry = dataset_info['geometry'],\n",
    "        outputFname = dataset_info['outputFname'])\n",
    "        print(image)"
   ]
  },
  {
   "cell_type": "markdown",
   "id": "younger-invalid",
   "metadata": {},
   "source": [
    "#### Get PM10 for each day of September 2019, 2020 and 2021 (time 00:00:00)\n",
    "\n",
    "This process can take a bit of time so be patient!"
   ]
  },
  {
   "cell_type": "code",
   "execution_count": 81,
   "id": "charitable-nightmare",
   "metadata": {},
   "outputs": [],
   "source": [
    "import time\n",
    "from IPython.display import clear_output"
   ]
  },
  {
   "cell_type": "code",
   "execution_count": 82,
   "id": "sudden-insert",
   "metadata": {
    "tags": []
   },
   "outputs": [
    {
     "name": "stdout",
     "output_type": "stream",
     "text": [
      "\u001b[1mProcessing time: 0.0\n"
     ]
    }
   ],
   "source": [
    "start = time.time()\n",
    "\n",
    "for year in ['2019', '2020', '2021']:\n",
    "    datasetInfo = {\n",
    "    'datasetID' : '69626:EU_CAMS_SURFACE_PM10_G',\n",
    "    'startDate' : year + '-09-01',\n",
    "    'endDate' : year + '-09-30',\n",
    "    'geometry' : geom_1,\n",
    "    'outputFname' : INPUT_DATA_DIR + '/PM10_FR_ADAMAPI_' + year + '.zip'\n",
    "    }\n",
    "    getZipData(a, datasetInfo)\n",
    "    \n",
    "end = time.time()\n",
    "clear_output(wait=True)\n",
    "delta1 = end - start\n",
    "print('\\033[1m'+'Processing time: ' + str(round(delta1,2)))"
   ]
  },
  {
   "cell_type": "markdown",
   "id": "current-commercial",
   "metadata": {},
   "source": [
    "## <a id=6.Data_Analysis_Visualization></a> **Step 6: Data Analysis and Visualization**"
   ]
  },
  {
   "cell_type": "markdown",
   "id": "collectible-tragedy",
   "metadata": {},
   "source": [
    "The data retrieved via the Adam API are now available as a zip file that must be unzipped to directly handle the data in a geotiff format. Then with the Python packages provided in the Jupyter environment it is possible to process and visualized the requested product."
   ]
  },
  {
   "cell_type": "markdown",
   "id": "separated-temple",
   "metadata": {},
   "source": [
    "#### Unzip data"
   ]
  },
  {
   "cell_type": "code",
   "execution_count": 83,
   "id": "eight-willow",
   "metadata": {},
   "outputs": [],
   "source": [
    "import zipfile"
   ]
  },
  {
   "cell_type": "code",
   "execution_count": 84,
   "id": "extensive-checkout",
   "metadata": {},
   "outputs": [],
   "source": [
    "def unzipData(filename, out_prefix):\n",
    "    with zipfile.ZipFile(filename, 'r') as zip_ref:\n",
    "        zip_ref.extractall(path = os.path.join(out_prefix, pathlib.Path(filename).stem))"
   ]
  },
  {
   "cell_type": "code",
   "execution_count": null,
   "id": "354824b9-cdec-4b4c-a662-0027e4001106",
   "metadata": {},
   "outputs": [],
   "source": [
    "for year in ['2019', '2020', '2021']:\n",
    "    filename = INPUT_DATA_DIR + '/PM10_FR_ADAMAPI_' + year + '.zip'\n",
    "    target_file = pathlib.Path(os.path.join(INPUT_DATA_DIR, pathlib.Path(pathlib.Path(filename).stem)))\n",
    "    if not target_file.exists():\n",
    "        unzipData(filename, INPUT_DATA_DIR)"
   ]
  },
  {
   "cell_type": "markdown",
   "id": "initial-gregory",
   "metadata": {},
   "source": [
    "#### Read data and make a monthly average"
   ]
  },
  {
   "cell_type": "code",
   "execution_count": 91,
   "id": "looking-moderator",
   "metadata": {},
   "outputs": [],
   "source": [
    "import xarray as xr\n",
    "import glob"
   ]
  },
  {
   "cell_type": "markdown",
   "id": "twenty-venice",
   "metadata": {},
   "source": [
    "We now read these files using `xarray`. First, we make a list of all the geotiff files in a given folder. To ensure each raster is labelled correctly with its time, we can use a helper function `paths_to_datetimeindex()` to extract time information from the file paths we obtained above. We then load and concatenate each dataset along the time dimension using `xarray.open_rasterio()`, convert the resulting `xarray.DataArray` to a `xarray.Dataset`, and give the variable a more useful name (**PM10**)"
   ]
  },
  {
   "cell_type": "code",
   "execution_count": 92,
   "id": "backed-memory",
   "metadata": {},
   "outputs": [],
   "source": [
    "from datetime import datetime"
   ]
  },
  {
   "cell_type": "code",
   "execution_count": 93,
   "id": "upset-finance",
   "metadata": {},
   "outputs": [],
   "source": [
    "def paths_to_datetimeindex(paths):\n",
    "    return  [datetime.strptime(date.split('_')[-1].split('.')[0], '%Y-%m-%dt%f') for date in paths]"
   ]
  },
  {
   "cell_type": "code",
   "execution_count": 94,
   "id": "external-gambling",
   "metadata": {},
   "outputs": [],
   "source": [
    "def getData(dirtif):\n",
    "    geotiff_list = glob.glob(dirtif)\n",
    "    # Create variable used for time axis\n",
    "    time_var = xr.Variable('time', paths_to_datetimeindex(geotiff_list))\n",
    "    # Load in and concatenate all individual GeoTIFFs\n",
    "    geotiffs_da = xr.concat([xr.open_rasterio(i, parse_coordinates=True) for i in geotiff_list],\n",
    "                        dim=time_var)\n",
    "    # Covert our xarray.DataArray into a xarray.Dataset\n",
    "    geotiffs_da = geotiffs_da.to_dataset('band')\n",
    "    # Rename the dimensions to make it CF-convention compliant\n",
    "    geotiffs_da = geotiffs_da.rename_dims({'y': 'latitude', 'x':'longitude'})\n",
    "    # Rename the variable to a more useful name\n",
    "    geotiffs_da = geotiffs_da.rename_vars({1: 'PM10', 'y':'latitude', 'x':'longitude'})\n",
    "\n",
    "    return geotiffs_da"
   ]
  },
  {
   "cell_type": "code",
   "execution_count": 95,
   "id": "owned-replication",
   "metadata": {
    "tags": []
   },
   "outputs": [
    {
     "data": {
      "text/html": [
       "<div><svg style=\"position: absolute; width: 0; height: 0; overflow: hidden\">\n",
       "<defs>\n",
       "<symbol id=\"icon-database\" viewBox=\"0 0 32 32\">\n",
       "<path d=\"M16 0c-8.837 0-16 2.239-16 5v4c0 2.761 7.163 5 16 5s16-2.239 16-5v-4c0-2.761-7.163-5-16-5z\"></path>\n",
       "<path d=\"M16 17c-8.837 0-16-2.239-16-5v6c0 2.761 7.163 5 16 5s16-2.239 16-5v-6c0 2.761-7.163 5-16 5z\"></path>\n",
       "<path d=\"M16 26c-8.837 0-16-2.239-16-5v6c0 2.761 7.163 5 16 5s16-2.239 16-5v-6c0 2.761-7.163 5-16 5z\"></path>\n",
       "</symbol>\n",
       "<symbol id=\"icon-file-text2\" viewBox=\"0 0 32 32\">\n",
       "<path d=\"M28.681 7.159c-0.694-0.947-1.662-2.053-2.724-3.116s-2.169-2.030-3.116-2.724c-1.612-1.182-2.393-1.319-2.841-1.319h-15.5c-1.378 0-2.5 1.121-2.5 2.5v27c0 1.378 1.122 2.5 2.5 2.5h23c1.378 0 2.5-1.122 2.5-2.5v-19.5c0-0.448-0.137-1.23-1.319-2.841zM24.543 5.457c0.959 0.959 1.712 1.825 2.268 2.543h-4.811v-4.811c0.718 0.556 1.584 1.309 2.543 2.268zM28 29.5c0 0.271-0.229 0.5-0.5 0.5h-23c-0.271 0-0.5-0.229-0.5-0.5v-27c0-0.271 0.229-0.5 0.5-0.5 0 0 15.499-0 15.5 0v7c0 0.552 0.448 1 1 1h7v19.5z\"></path>\n",
       "<path d=\"M23 26h-14c-0.552 0-1-0.448-1-1s0.448-1 1-1h14c0.552 0 1 0.448 1 1s-0.448 1-1 1z\"></path>\n",
       "<path d=\"M23 22h-14c-0.552 0-1-0.448-1-1s0.448-1 1-1h14c0.552 0 1 0.448 1 1s-0.448 1-1 1z\"></path>\n",
       "<path d=\"M23 18h-14c-0.552 0-1-0.448-1-1s0.448-1 1-1h14c0.552 0 1 0.448 1 1s-0.448 1-1 1z\"></path>\n",
       "</symbol>\n",
       "</defs>\n",
       "</svg>\n",
       "<style>/* CSS stylesheet for displaying xarray objects in jupyterlab.\n",
       " *\n",
       " */\n",
       "\n",
       ":root {\n",
       "  --xr-font-color0: var(--jp-content-font-color0, rgba(0, 0, 0, 1));\n",
       "  --xr-font-color2: var(--jp-content-font-color2, rgba(0, 0, 0, 0.54));\n",
       "  --xr-font-color3: var(--jp-content-font-color3, rgba(0, 0, 0, 0.38));\n",
       "  --xr-border-color: var(--jp-border-color2, #e0e0e0);\n",
       "  --xr-disabled-color: var(--jp-layout-color3, #bdbdbd);\n",
       "  --xr-background-color: var(--jp-layout-color0, white);\n",
       "  --xr-background-color-row-even: var(--jp-layout-color1, white);\n",
       "  --xr-background-color-row-odd: var(--jp-layout-color2, #eeeeee);\n",
       "}\n",
       "\n",
       "html[theme=dark],\n",
       "body.vscode-dark {\n",
       "  --xr-font-color0: rgba(255, 255, 255, 1);\n",
       "  --xr-font-color2: rgba(255, 255, 255, 0.54);\n",
       "  --xr-font-color3: rgba(255, 255, 255, 0.38);\n",
       "  --xr-border-color: #1F1F1F;\n",
       "  --xr-disabled-color: #515151;\n",
       "  --xr-background-color: #111111;\n",
       "  --xr-background-color-row-even: #111111;\n",
       "  --xr-background-color-row-odd: #313131;\n",
       "}\n",
       "\n",
       ".xr-wrap {\n",
       "  display: block;\n",
       "  min-width: 300px;\n",
       "  max-width: 700px;\n",
       "}\n",
       "\n",
       ".xr-text-repr-fallback {\n",
       "  /* fallback to plain text repr when CSS is not injected (untrusted notebook) */\n",
       "  display: none;\n",
       "}\n",
       "\n",
       ".xr-header {\n",
       "  padding-top: 6px;\n",
       "  padding-bottom: 6px;\n",
       "  margin-bottom: 4px;\n",
       "  border-bottom: solid 1px var(--xr-border-color);\n",
       "}\n",
       "\n",
       ".xr-header > div,\n",
       ".xr-header > ul {\n",
       "  display: inline;\n",
       "  margin-top: 0;\n",
       "  margin-bottom: 0;\n",
       "}\n",
       "\n",
       ".xr-obj-type,\n",
       ".xr-array-name {\n",
       "  margin-left: 2px;\n",
       "  margin-right: 10px;\n",
       "}\n",
       "\n",
       ".xr-obj-type {\n",
       "  color: var(--xr-font-color2);\n",
       "}\n",
       "\n",
       ".xr-sections {\n",
       "  padding-left: 0 !important;\n",
       "  display: grid;\n",
       "  grid-template-columns: 150px auto auto 1fr 20px 20px;\n",
       "}\n",
       "\n",
       ".xr-section-item {\n",
       "  display: contents;\n",
       "}\n",
       "\n",
       ".xr-section-item input {\n",
       "  display: none;\n",
       "}\n",
       "\n",
       ".xr-section-item input + label {\n",
       "  color: var(--xr-disabled-color);\n",
       "}\n",
       "\n",
       ".xr-section-item input:enabled + label {\n",
       "  cursor: pointer;\n",
       "  color: var(--xr-font-color2);\n",
       "}\n",
       "\n",
       ".xr-section-item input:enabled + label:hover {\n",
       "  color: var(--xr-font-color0);\n",
       "}\n",
       "\n",
       ".xr-section-summary {\n",
       "  grid-column: 1;\n",
       "  color: var(--xr-font-color2);\n",
       "  font-weight: 500;\n",
       "}\n",
       "\n",
       ".xr-section-summary > span {\n",
       "  display: inline-block;\n",
       "  padding-left: 0.5em;\n",
       "}\n",
       "\n",
       ".xr-section-summary-in:disabled + label {\n",
       "  color: var(--xr-font-color2);\n",
       "}\n",
       "\n",
       ".xr-section-summary-in + label:before {\n",
       "  display: inline-block;\n",
       "  content: '►';\n",
       "  font-size: 11px;\n",
       "  width: 15px;\n",
       "  text-align: center;\n",
       "}\n",
       "\n",
       ".xr-section-summary-in:disabled + label:before {\n",
       "  color: var(--xr-disabled-color);\n",
       "}\n",
       "\n",
       ".xr-section-summary-in:checked + label:before {\n",
       "  content: '▼';\n",
       "}\n",
       "\n",
       ".xr-section-summary-in:checked + label > span {\n",
       "  display: none;\n",
       "}\n",
       "\n",
       ".xr-section-summary,\n",
       ".xr-section-inline-details {\n",
       "  padding-top: 4px;\n",
       "  padding-bottom: 4px;\n",
       "}\n",
       "\n",
       ".xr-section-inline-details {\n",
       "  grid-column: 2 / -1;\n",
       "}\n",
       "\n",
       ".xr-section-details {\n",
       "  display: none;\n",
       "  grid-column: 1 / -1;\n",
       "  margin-bottom: 5px;\n",
       "}\n",
       "\n",
       ".xr-section-summary-in:checked ~ .xr-section-details {\n",
       "  display: contents;\n",
       "}\n",
       "\n",
       ".xr-array-wrap {\n",
       "  grid-column: 1 / -1;\n",
       "  display: grid;\n",
       "  grid-template-columns: 20px auto;\n",
       "}\n",
       "\n",
       ".xr-array-wrap > label {\n",
       "  grid-column: 1;\n",
       "  vertical-align: top;\n",
       "}\n",
       "\n",
       ".xr-preview {\n",
       "  color: var(--xr-font-color3);\n",
       "}\n",
       "\n",
       ".xr-array-preview,\n",
       ".xr-array-data {\n",
       "  padding: 0 5px !important;\n",
       "  grid-column: 2;\n",
       "}\n",
       "\n",
       ".xr-array-data,\n",
       ".xr-array-in:checked ~ .xr-array-preview {\n",
       "  display: none;\n",
       "}\n",
       "\n",
       ".xr-array-in:checked ~ .xr-array-data,\n",
       ".xr-array-preview {\n",
       "  display: inline-block;\n",
       "}\n",
       "\n",
       ".xr-dim-list {\n",
       "  display: inline-block !important;\n",
       "  list-style: none;\n",
       "  padding: 0 !important;\n",
       "  margin: 0;\n",
       "}\n",
       "\n",
       ".xr-dim-list li {\n",
       "  display: inline-block;\n",
       "  padding: 0;\n",
       "  margin: 0;\n",
       "}\n",
       "\n",
       ".xr-dim-list:before {\n",
       "  content: '(';\n",
       "}\n",
       "\n",
       ".xr-dim-list:after {\n",
       "  content: ')';\n",
       "}\n",
       "\n",
       ".xr-dim-list li:not(:last-child):after {\n",
       "  content: ',';\n",
       "  padding-right: 5px;\n",
       "}\n",
       "\n",
       ".xr-has-index {\n",
       "  font-weight: bold;\n",
       "}\n",
       "\n",
       ".xr-var-list,\n",
       ".xr-var-item {\n",
       "  display: contents;\n",
       "}\n",
       "\n",
       ".xr-var-item > div,\n",
       ".xr-var-item label,\n",
       ".xr-var-item > .xr-var-name span {\n",
       "  background-color: var(--xr-background-color-row-even);\n",
       "  margin-bottom: 0;\n",
       "}\n",
       "\n",
       ".xr-var-item > .xr-var-name:hover span {\n",
       "  padding-right: 5px;\n",
       "}\n",
       "\n",
       ".xr-var-list > li:nth-child(odd) > div,\n",
       ".xr-var-list > li:nth-child(odd) > label,\n",
       ".xr-var-list > li:nth-child(odd) > .xr-var-name span {\n",
       "  background-color: var(--xr-background-color-row-odd);\n",
       "}\n",
       "\n",
       ".xr-var-name {\n",
       "  grid-column: 1;\n",
       "}\n",
       "\n",
       ".xr-var-dims {\n",
       "  grid-column: 2;\n",
       "}\n",
       "\n",
       ".xr-var-dtype {\n",
       "  grid-column: 3;\n",
       "  text-align: right;\n",
       "  color: var(--xr-font-color2);\n",
       "}\n",
       "\n",
       ".xr-var-preview {\n",
       "  grid-column: 4;\n",
       "}\n",
       "\n",
       ".xr-var-name,\n",
       ".xr-var-dims,\n",
       ".xr-var-dtype,\n",
       ".xr-preview,\n",
       ".xr-attrs dt {\n",
       "  white-space: nowrap;\n",
       "  overflow: hidden;\n",
       "  text-overflow: ellipsis;\n",
       "  padding-right: 10px;\n",
       "}\n",
       "\n",
       ".xr-var-name:hover,\n",
       ".xr-var-dims:hover,\n",
       ".xr-var-dtype:hover,\n",
       ".xr-attrs dt:hover {\n",
       "  overflow: visible;\n",
       "  width: auto;\n",
       "  z-index: 1;\n",
       "}\n",
       "\n",
       ".xr-var-attrs,\n",
       ".xr-var-data {\n",
       "  display: none;\n",
       "  background-color: var(--xr-background-color) !important;\n",
       "  padding-bottom: 5px !important;\n",
       "}\n",
       "\n",
       ".xr-var-attrs-in:checked ~ .xr-var-attrs,\n",
       ".xr-var-data-in:checked ~ .xr-var-data {\n",
       "  display: block;\n",
       "}\n",
       "\n",
       ".xr-var-data > table {\n",
       "  float: right;\n",
       "}\n",
       "\n",
       ".xr-var-name span,\n",
       ".xr-var-data,\n",
       ".xr-attrs {\n",
       "  padding-left: 25px !important;\n",
       "}\n",
       "\n",
       ".xr-attrs,\n",
       ".xr-var-attrs,\n",
       ".xr-var-data {\n",
       "  grid-column: 1 / -1;\n",
       "}\n",
       "\n",
       "dl.xr-attrs {\n",
       "  padding: 0;\n",
       "  margin: 0;\n",
       "  display: grid;\n",
       "  grid-template-columns: 125px auto;\n",
       "}\n",
       "\n",
       ".xr-attrs dt,\n",
       ".xr-attrs dd {\n",
       "  padding: 0;\n",
       "  margin: 0;\n",
       "  float: left;\n",
       "  padding-right: 10px;\n",
       "  width: auto;\n",
       "}\n",
       "\n",
       ".xr-attrs dt {\n",
       "  font-weight: normal;\n",
       "  grid-column: 1;\n",
       "}\n",
       "\n",
       ".xr-attrs dt:hover span {\n",
       "  display: inline-block;\n",
       "  background: var(--xr-background-color);\n",
       "  padding-right: 10px;\n",
       "}\n",
       "\n",
       ".xr-attrs dd {\n",
       "  grid-column: 2;\n",
       "  white-space: pre-wrap;\n",
       "  word-break: break-all;\n",
       "}\n",
       "\n",
       ".xr-icon-database,\n",
       ".xr-icon-file-text2 {\n",
       "  display: inline-block;\n",
       "  vertical-align: middle;\n",
       "  width: 1em;\n",
       "  height: 1.5em !important;\n",
       "  stroke-width: 0;\n",
       "  stroke: currentColor;\n",
       "  fill: currentColor;\n",
       "}\n",
       "</style><pre class='xr-text-repr-fallback'>&lt;xarray.Dataset&gt;\n",
       "Dimensions:    (time: 90, latitude: 98, longitude: 148)\n",
       "Coordinates:\n",
       "  * latitude   (latitude) float64 51.05 50.95 50.85 50.75 ... 41.55 41.45 41.35\n",
       "  * longitude  (longitude) float64 -5.15 -5.05 -4.95 -4.85 ... 9.35 9.45 9.55\n",
       "  * time       (time) datetime64[ns] 2021-09-30 2021-09-29 ... 2019-09-01\n",
       "Data variables:\n",
       "    PM10       (time, latitude, longitude) float32 0.0 0.0 0.0 ... 0.0 0.0 0.0\n",
       "Attributes:\n",
       "    transform:      (0.1, 0.0, -5.200012009298998, 0.0, -0.1, 51.09999699761336)\n",
       "    crs:            +init=epsg:4326\n",
       "    res:            (0.1, 0.1)\n",
       "    is_tiled:       0\n",
       "    nodatavals:     (0.0,)\n",
       "    scales:         (1.0,)\n",
       "    offsets:        (0.0,)\n",
       "    AREA_OR_POINT:  Area</pre><div class='xr-wrap' hidden><div class='xr-header'><div class='xr-obj-type'>xarray.Dataset</div></div><ul class='xr-sections'><li class='xr-section-item'><input id='section-c597dd44-8a12-4776-8d10-5993000ee1c8' class='xr-section-summary-in' type='checkbox' disabled ><label for='section-c597dd44-8a12-4776-8d10-5993000ee1c8' class='xr-section-summary'  title='Expand/collapse section'>Dimensions:</label><div class='xr-section-inline-details'><ul class='xr-dim-list'><li><span class='xr-has-index'>time</span>: 90</li><li><span class='xr-has-index'>latitude</span>: 98</li><li><span class='xr-has-index'>longitude</span>: 148</li></ul></div><div class='xr-section-details'></div></li><li class='xr-section-item'><input id='section-a27c2131-bdaa-48e4-8e2b-db11f6219978' class='xr-section-summary-in' type='checkbox'  checked><label for='section-a27c2131-bdaa-48e4-8e2b-db11f6219978' class='xr-section-summary' >Coordinates: <span>(3)</span></label><div class='xr-section-inline-details'></div><div class='xr-section-details'><ul class='xr-var-list'><li class='xr-var-item'><div class='xr-var-name'><span class='xr-has-index'>latitude</span></div><div class='xr-var-dims'>(latitude)</div><div class='xr-var-dtype'>float64</div><div class='xr-var-preview xr-preview'>51.05 50.95 50.85 ... 41.45 41.35</div><input id='attrs-a909c31f-0b78-4fe8-a33a-c41d2ddd69f3' class='xr-var-attrs-in' type='checkbox' disabled><label for='attrs-a909c31f-0b78-4fe8-a33a-c41d2ddd69f3' title='Show/Hide attributes'><svg class='icon xr-icon-file-text2'><use xlink:href='#icon-file-text2'></use></svg></label><input id='data-6d90f575-5ab1-4ddb-b5aa-303ad691ce85' class='xr-var-data-in' type='checkbox'><label for='data-6d90f575-5ab1-4ddb-b5aa-303ad691ce85' title='Show/Hide data repr'><svg class='icon xr-icon-database'><use xlink:href='#icon-database'></use></svg></label><div class='xr-var-attrs'><dl class='xr-attrs'></dl></div><div class='xr-var-data'><pre>array([51.049997, 50.949997, 50.849997, 50.749997, 50.649997, 50.549997,\n",
       "       50.449997, 50.349997, 50.249997, 50.149997, 50.049997, 49.949997,\n",
       "       49.849997, 49.749997, 49.649997, 49.549997, 49.449997, 49.349997,\n",
       "       49.249997, 49.149997, 49.049997, 48.949997, 48.849997, 48.749997,\n",
       "       48.649997, 48.549997, 48.449997, 48.349997, 48.249997, 48.149997,\n",
       "       48.049997, 47.949997, 47.849997, 47.749997, 47.649997, 47.549997,\n",
       "       47.449997, 47.349997, 47.249997, 47.149997, 47.049997, 46.949997,\n",
       "       46.849997, 46.749997, 46.649997, 46.549997, 46.449997, 46.349997,\n",
       "       46.249997, 46.149997, 46.049997, 45.949997, 45.849997, 45.749997,\n",
       "       45.649997, 45.549997, 45.449997, 45.349997, 45.249997, 45.149997,\n",
       "       45.049997, 44.949997, 44.849997, 44.749997, 44.649997, 44.549997,\n",
       "       44.449997, 44.349997, 44.249997, 44.149997, 44.049997, 43.949997,\n",
       "       43.849997, 43.749997, 43.649997, 43.549997, 43.449997, 43.349997,\n",
       "       43.249997, 43.149997, 43.049997, 42.949997, 42.849997, 42.749997,\n",
       "       42.649997, 42.549997, 42.449997, 42.349997, 42.249997, 42.149997,\n",
       "       42.049997, 41.949997, 41.849997, 41.749997, 41.649997, 41.549997,\n",
       "       41.449997, 41.349997])</pre></div></li><li class='xr-var-item'><div class='xr-var-name'><span class='xr-has-index'>longitude</span></div><div class='xr-var-dims'>(longitude)</div><div class='xr-var-dtype'>float64</div><div class='xr-var-preview xr-preview'>-5.15 -5.05 -4.95 ... 9.45 9.55</div><input id='attrs-9a590537-146c-4633-aab6-11a525665dae' class='xr-var-attrs-in' type='checkbox' disabled><label for='attrs-9a590537-146c-4633-aab6-11a525665dae' title='Show/Hide attributes'><svg class='icon xr-icon-file-text2'><use xlink:href='#icon-file-text2'></use></svg></label><input id='data-7e9ec490-a794-4c06-8015-09cf15052194' class='xr-var-data-in' type='checkbox'><label for='data-7e9ec490-a794-4c06-8015-09cf15052194' title='Show/Hide data repr'><svg class='icon xr-icon-database'><use xlink:href='#icon-database'></use></svg></label><div class='xr-var-attrs'><dl class='xr-attrs'></dl></div><div class='xr-var-data'><pre>array([-5.150012, -5.050012, -4.950012, -4.850012, -4.750012, -4.650012,\n",
       "       -4.550012, -4.450012, -4.350012, -4.250012, -4.150012, -4.050012,\n",
       "       -3.950012, -3.850012, -3.750012, -3.650012, -3.550012, -3.450012,\n",
       "       -3.350012, -3.250012, -3.150012, -3.050012, -2.950012, -2.850012,\n",
       "       -2.750012, -2.650012, -2.550012, -2.450012, -2.350012, -2.250012,\n",
       "       -2.150012, -2.050012, -1.950012, -1.850012, -1.750012, -1.650012,\n",
       "       -1.550012, -1.450012, -1.350012, -1.250012, -1.150012, -1.050012,\n",
       "       -0.950012, -0.850012, -0.750012, -0.650012, -0.550012, -0.450012,\n",
       "       -0.350012, -0.250012, -0.150012, -0.050012,  0.049988,  0.149988,\n",
       "        0.249988,  0.349988,  0.449988,  0.549988,  0.649988,  0.749988,\n",
       "        0.849988,  0.949988,  1.049988,  1.149988,  1.249988,  1.349988,\n",
       "        1.449988,  1.549988,  1.649988,  1.749988,  1.849988,  1.949988,\n",
       "        2.049988,  2.149988,  2.249988,  2.349988,  2.449988,  2.549988,\n",
       "        2.649988,  2.749988,  2.849988,  2.949988,  3.049988,  3.149988,\n",
       "        3.249988,  3.349988,  3.449988,  3.549988,  3.649988,  3.749988,\n",
       "        3.849988,  3.949988,  4.049988,  4.149988,  4.249988,  4.349988,\n",
       "        4.449988,  4.549988,  4.649988,  4.749988,  4.849988,  4.949988,\n",
       "        5.049988,  5.149988,  5.249988,  5.349988,  5.449988,  5.549988,\n",
       "        5.649988,  5.749988,  5.849988,  5.949988,  6.049988,  6.149988,\n",
       "        6.249988,  6.349988,  6.449988,  6.549988,  6.649988,  6.749988,\n",
       "        6.849988,  6.949988,  7.049988,  7.149988,  7.249988,  7.349988,\n",
       "        7.449988,  7.549988,  7.649988,  7.749988,  7.849988,  7.949988,\n",
       "        8.049988,  8.149988,  8.249988,  8.349988,  8.449988,  8.549988,\n",
       "        8.649988,  8.749988,  8.849988,  8.949988,  9.049988,  9.149988,\n",
       "        9.249988,  9.349988,  9.449988,  9.549988])</pre></div></li><li class='xr-var-item'><div class='xr-var-name'><span class='xr-has-index'>time</span></div><div class='xr-var-dims'>(time)</div><div class='xr-var-dtype'>datetime64[ns]</div><div class='xr-var-preview xr-preview'>2021-09-30 ... 2019-09-01</div><input id='attrs-e870b556-63b4-487e-a877-a039509b98c7' class='xr-var-attrs-in' type='checkbox' disabled><label for='attrs-e870b556-63b4-487e-a877-a039509b98c7' title='Show/Hide attributes'><svg class='icon xr-icon-file-text2'><use xlink:href='#icon-file-text2'></use></svg></label><input id='data-73b7fbde-f43d-466b-80f7-2b299a0775bb' class='xr-var-data-in' type='checkbox'><label for='data-73b7fbde-f43d-466b-80f7-2b299a0775bb' title='Show/Hide data repr'><svg class='icon xr-icon-database'><use xlink:href='#icon-database'></use></svg></label><div class='xr-var-attrs'><dl class='xr-attrs'></dl></div><div class='xr-var-data'><pre>array([&#x27;2021-09-30T00:00:00.000000000&#x27;, &#x27;2021-09-29T00:00:00.000000000&#x27;,\n",
       "       &#x27;2021-09-28T00:00:00.000000000&#x27;, &#x27;2021-09-27T00:00:00.000000000&#x27;,\n",
       "       &#x27;2021-09-26T00:00:00.000000000&#x27;, &#x27;2021-09-25T00:00:00.000000000&#x27;,\n",
       "       &#x27;2021-09-24T00:00:00.000000000&#x27;, &#x27;2021-09-23T00:00:00.000000000&#x27;,\n",
       "       &#x27;2021-09-22T00:00:00.000000000&#x27;, &#x27;2021-09-21T00:00:00.000000000&#x27;,\n",
       "       &#x27;2021-09-20T00:00:00.000000000&#x27;, &#x27;2021-09-19T00:00:00.000000000&#x27;,\n",
       "       &#x27;2021-09-18T00:00:00.000000000&#x27;, &#x27;2021-09-17T00:00:00.000000000&#x27;,\n",
       "       &#x27;2021-09-16T00:00:00.000000000&#x27;, &#x27;2021-09-15T00:00:00.000000000&#x27;,\n",
       "       &#x27;2021-09-14T00:00:00.000000000&#x27;, &#x27;2021-09-13T00:00:00.000000000&#x27;,\n",
       "       &#x27;2021-09-12T00:00:00.000000000&#x27;, &#x27;2021-09-11T00:00:00.000000000&#x27;,\n",
       "       &#x27;2021-09-10T00:00:00.000000000&#x27;, &#x27;2021-09-09T00:00:00.000000000&#x27;,\n",
       "       &#x27;2021-09-08T00:00:00.000000000&#x27;, &#x27;2021-09-07T00:00:00.000000000&#x27;,\n",
       "       &#x27;2021-09-06T00:00:00.000000000&#x27;, &#x27;2021-09-05T00:00:00.000000000&#x27;,\n",
       "       &#x27;2021-09-04T00:00:00.000000000&#x27;, &#x27;2021-09-03T00:00:00.000000000&#x27;,\n",
       "       &#x27;2021-09-02T00:00:00.000000000&#x27;, &#x27;2021-09-01T00:00:00.000000000&#x27;,\n",
       "       &#x27;2020-09-30T00:00:00.000000000&#x27;, &#x27;2020-09-29T00:00:00.000000000&#x27;,\n",
       "       &#x27;2020-09-28T00:00:00.000000000&#x27;, &#x27;2020-09-27T00:00:00.000000000&#x27;,\n",
       "       &#x27;2020-09-26T00:00:00.000000000&#x27;, &#x27;2020-09-25T00:00:00.000000000&#x27;,\n",
       "       &#x27;2020-09-24T00:00:00.000000000&#x27;, &#x27;2020-09-23T00:00:00.000000000&#x27;,\n",
       "       &#x27;2020-09-22T00:00:00.000000000&#x27;, &#x27;2020-09-21T00:00:00.000000000&#x27;,\n",
       "       &#x27;2020-09-20T00:00:00.000000000&#x27;, &#x27;2020-09-19T00:00:00.000000000&#x27;,\n",
       "       &#x27;2020-09-18T00:00:00.000000000&#x27;, &#x27;2020-09-17T00:00:00.000000000&#x27;,\n",
       "       &#x27;2020-09-16T00:00:00.000000000&#x27;, &#x27;2020-09-15T00:00:00.000000000&#x27;,\n",
       "       &#x27;2020-09-14T00:00:00.000000000&#x27;, &#x27;2020-09-13T00:00:00.000000000&#x27;,\n",
       "       &#x27;2020-09-12T00:00:00.000000000&#x27;, &#x27;2020-09-11T00:00:00.000000000&#x27;,\n",
       "       &#x27;2020-09-10T00:00:00.000000000&#x27;, &#x27;2020-09-09T00:00:00.000000000&#x27;,\n",
       "       &#x27;2020-09-08T00:00:00.000000000&#x27;, &#x27;2020-09-07T00:00:00.000000000&#x27;,\n",
       "       &#x27;2020-09-06T00:00:00.000000000&#x27;, &#x27;2020-09-05T00:00:00.000000000&#x27;,\n",
       "       &#x27;2020-09-04T00:00:00.000000000&#x27;, &#x27;2020-09-03T00:00:00.000000000&#x27;,\n",
       "       &#x27;2020-09-02T00:00:00.000000000&#x27;, &#x27;2020-09-01T00:00:00.000000000&#x27;,\n",
       "       &#x27;2019-09-30T00:00:00.000000000&#x27;, &#x27;2019-09-29T00:00:00.000000000&#x27;,\n",
       "       &#x27;2019-09-28T00:00:00.000000000&#x27;, &#x27;2019-09-27T00:00:00.000000000&#x27;,\n",
       "       &#x27;2019-09-26T00:00:00.000000000&#x27;, &#x27;2019-09-25T00:00:00.000000000&#x27;,\n",
       "       &#x27;2019-09-24T00:00:00.000000000&#x27;, &#x27;2019-09-23T00:00:00.000000000&#x27;,\n",
       "       &#x27;2019-09-22T00:00:00.000000000&#x27;, &#x27;2019-09-21T00:00:00.000000000&#x27;,\n",
       "       &#x27;2019-09-20T00:00:00.000000000&#x27;, &#x27;2019-09-19T00:00:00.000000000&#x27;,\n",
       "       &#x27;2019-09-18T00:00:00.000000000&#x27;, &#x27;2019-09-17T00:00:00.000000000&#x27;,\n",
       "       &#x27;2019-09-16T00:00:00.000000000&#x27;, &#x27;2019-09-15T00:00:00.000000000&#x27;,\n",
       "       &#x27;2019-09-14T00:00:00.000000000&#x27;, &#x27;2019-09-13T00:00:00.000000000&#x27;,\n",
       "       &#x27;2019-09-12T00:00:00.000000000&#x27;, &#x27;2019-09-11T00:00:00.000000000&#x27;,\n",
       "       &#x27;2019-09-10T00:00:00.000000000&#x27;, &#x27;2019-09-09T00:00:00.000000000&#x27;,\n",
       "       &#x27;2019-09-08T00:00:00.000000000&#x27;, &#x27;2019-09-07T00:00:00.000000000&#x27;,\n",
       "       &#x27;2019-09-06T00:00:00.000000000&#x27;, &#x27;2019-09-05T00:00:00.000000000&#x27;,\n",
       "       &#x27;2019-09-04T00:00:00.000000000&#x27;, &#x27;2019-09-03T00:00:00.000000000&#x27;,\n",
       "       &#x27;2019-09-02T00:00:00.000000000&#x27;, &#x27;2019-09-01T00:00:00.000000000&#x27;],\n",
       "      dtype=&#x27;datetime64[ns]&#x27;)</pre></div></li></ul></div></li><li class='xr-section-item'><input id='section-9df55c00-d4ee-4f2c-b145-e60695028c6c' class='xr-section-summary-in' type='checkbox'  checked><label for='section-9df55c00-d4ee-4f2c-b145-e60695028c6c' class='xr-section-summary' >Data variables: <span>(1)</span></label><div class='xr-section-inline-details'></div><div class='xr-section-details'><ul class='xr-var-list'><li class='xr-var-item'><div class='xr-var-name'><span>PM10</span></div><div class='xr-var-dims'>(time, latitude, longitude)</div><div class='xr-var-dtype'>float32</div><div class='xr-var-preview xr-preview'>0.0 0.0 0.0 0.0 ... 0.0 0.0 0.0 0.0</div><input id='attrs-6f0b1224-22a4-4bc2-97bc-7db9474fce41' class='xr-var-attrs-in' type='checkbox' ><label for='attrs-6f0b1224-22a4-4bc2-97bc-7db9474fce41' title='Show/Hide attributes'><svg class='icon xr-icon-file-text2'><use xlink:href='#icon-file-text2'></use></svg></label><input id='data-6e0e6f37-4ad3-4900-81e4-7d37f2a899fa' class='xr-var-data-in' type='checkbox'><label for='data-6e0e6f37-4ad3-4900-81e4-7d37f2a899fa' title='Show/Hide data repr'><svg class='icon xr-icon-database'><use xlink:href='#icon-database'></use></svg></label><div class='xr-var-attrs'><dl class='xr-attrs'><dt><span>units :</span></dt><dd>µg m-3</dd><dt><span>long_name :</span></dt><dd>Particulate matter &lt; 10 µm</dd></dl></div><div class='xr-var-data'><pre>array([[[0., 0., 0., ..., 0., 0., 0.],\n",
       "        [0., 0., 0., ..., 0., 0., 0.],\n",
       "        [0., 0., 0., ..., 0., 0., 0.],\n",
       "        ...,\n",
       "        [0., 0., 0., ..., 0., 0., 0.],\n",
       "        [0., 0., 0., ..., 0., 0., 0.],\n",
       "        [0., 0., 0., ..., 0., 0., 0.]],\n",
       "\n",
       "       [[0., 0., 0., ..., 0., 0., 0.],\n",
       "        [0., 0., 0., ..., 0., 0., 0.],\n",
       "        [0., 0., 0., ..., 0., 0., 0.],\n",
       "        ...,\n",
       "        [0., 0., 0., ..., 0., 0., 0.],\n",
       "        [0., 0., 0., ..., 0., 0., 0.],\n",
       "        [0., 0., 0., ..., 0., 0., 0.]],\n",
       "\n",
       "       [[0., 0., 0., ..., 0., 0., 0.],\n",
       "        [0., 0., 0., ..., 0., 0., 0.],\n",
       "        [0., 0., 0., ..., 0., 0., 0.],\n",
       "        ...,\n",
       "...\n",
       "        ...,\n",
       "        [0., 0., 0., ..., 0., 0., 0.],\n",
       "        [0., 0., 0., ..., 0., 0., 0.],\n",
       "        [0., 0., 0., ..., 0., 0., 0.]],\n",
       "\n",
       "       [[0., 0., 0., ..., 0., 0., 0.],\n",
       "        [0., 0., 0., ..., 0., 0., 0.],\n",
       "        [0., 0., 0., ..., 0., 0., 0.],\n",
       "        ...,\n",
       "        [0., 0., 0., ..., 0., 0., 0.],\n",
       "        [0., 0., 0., ..., 0., 0., 0.],\n",
       "        [0., 0., 0., ..., 0., 0., 0.]],\n",
       "\n",
       "       [[0., 0., 0., ..., 0., 0., 0.],\n",
       "        [0., 0., 0., ..., 0., 0., 0.],\n",
       "        [0., 0., 0., ..., 0., 0., 0.],\n",
       "        ...,\n",
       "        [0., 0., 0., ..., 0., 0., 0.],\n",
       "        [0., 0., 0., ..., 0., 0., 0.],\n",
       "        [0., 0., 0., ..., 0., 0., 0.]]], dtype=float32)</pre></div></li></ul></div></li><li class='xr-section-item'><input id='section-5a8c9445-b13f-418c-8de3-cdb256db9833' class='xr-section-summary-in' type='checkbox'  checked><label for='section-5a8c9445-b13f-418c-8de3-cdb256db9833' class='xr-section-summary' >Attributes: <span>(8)</span></label><div class='xr-section-inline-details'></div><div class='xr-section-details'><dl class='xr-attrs'><dt><span>transform :</span></dt><dd>(0.1, 0.0, -5.200012009298998, 0.0, -0.1, 51.09999699761336)</dd><dt><span>crs :</span></dt><dd>+init=epsg:4326</dd><dt><span>res :</span></dt><dd>(0.1, 0.1)</dd><dt><span>is_tiled :</span></dt><dd>0</dd><dt><span>nodatavals :</span></dt><dd>(0.0,)</dd><dt><span>scales :</span></dt><dd>(1.0,)</dd><dt><span>offsets :</span></dt><dd>(0.0,)</dd><dt><span>AREA_OR_POINT :</span></dt><dd>Area</dd></dl></div></li></ul></div></div>"
      ],
      "text/plain": [
       "<xarray.Dataset>\n",
       "Dimensions:    (time: 90, latitude: 98, longitude: 148)\n",
       "Coordinates:\n",
       "  * latitude   (latitude) float64 51.05 50.95 50.85 50.75 ... 41.55 41.45 41.35\n",
       "  * longitude  (longitude) float64 -5.15 -5.05 -4.95 -4.85 ... 9.35 9.45 9.55\n",
       "  * time       (time) datetime64[ns] 2021-09-30 2021-09-29 ... 2019-09-01\n",
       "Data variables:\n",
       "    PM10       (time, latitude, longitude) float32 0.0 0.0 0.0 ... 0.0 0.0 0.0\n",
       "Attributes:\n",
       "    transform:      (0.1, 0.0, -5.200012009298998, 0.0, -0.1, 51.09999699761336)\n",
       "    crs:            +init=epsg:4326\n",
       "    res:            (0.1, 0.1)\n",
       "    is_tiled:       0\n",
       "    nodatavals:     (0.0,)\n",
       "    scales:         (1.0,)\n",
       "    offsets:        (0.0,)\n",
       "    AREA_OR_POINT:  Area"
      ]
     },
     "execution_count": 95,
     "metadata": {},
     "output_type": "execute_result"
    }
   ],
   "source": [
    "geotiff_ds = getData( INPUT_DATA_DIR + '/PM10_FR_ADAMAPI_20*/*.tif')\n",
    "geotiff_ds['PM10'].attrs = {'units' : 'µg m-3', 'long_name' : 'Particulate matter < 10 µm'}\n",
    "geotiff_ds"
   ]
  },
  {
   "cell_type": "markdown",
   "id": "compliant-bahrain",
   "metadata": {},
   "source": [
    "#### Analyze data"
   ]
  },
  {
   "cell_type": "markdown",
   "id": "indirect-english",
   "metadata": {},
   "source": [
    "Make yearly average for September month"
   ]
  },
  {
   "cell_type": "code",
   "execution_count": 96,
   "id": "indie-reconstruction",
   "metadata": {},
   "outputs": [],
   "source": [
    "geotiff_dm = geotiff_ds.groupby('time.year').mean('time', keep_attrs=True)"
   ]
  },
  {
   "cell_type": "code",
   "execution_count": 97,
   "id": "dental-freight",
   "metadata": {
    "tags": []
   },
   "outputs": [
    {
     "data": {
      "text/html": [
       "<div><svg style=\"position: absolute; width: 0; height: 0; overflow: hidden\">\n",
       "<defs>\n",
       "<symbol id=\"icon-database\" viewBox=\"0 0 32 32\">\n",
       "<path d=\"M16 0c-8.837 0-16 2.239-16 5v4c0 2.761 7.163 5 16 5s16-2.239 16-5v-4c0-2.761-7.163-5-16-5z\"></path>\n",
       "<path d=\"M16 17c-8.837 0-16-2.239-16-5v6c0 2.761 7.163 5 16 5s16-2.239 16-5v-6c0 2.761-7.163 5-16 5z\"></path>\n",
       "<path d=\"M16 26c-8.837 0-16-2.239-16-5v6c0 2.761 7.163 5 16 5s16-2.239 16-5v-6c0 2.761-7.163 5-16 5z\"></path>\n",
       "</symbol>\n",
       "<symbol id=\"icon-file-text2\" viewBox=\"0 0 32 32\">\n",
       "<path d=\"M28.681 7.159c-0.694-0.947-1.662-2.053-2.724-3.116s-2.169-2.030-3.116-2.724c-1.612-1.182-2.393-1.319-2.841-1.319h-15.5c-1.378 0-2.5 1.121-2.5 2.5v27c0 1.378 1.122 2.5 2.5 2.5h23c1.378 0 2.5-1.122 2.5-2.5v-19.5c0-0.448-0.137-1.23-1.319-2.841zM24.543 5.457c0.959 0.959 1.712 1.825 2.268 2.543h-4.811v-4.811c0.718 0.556 1.584 1.309 2.543 2.268zM28 29.5c0 0.271-0.229 0.5-0.5 0.5h-23c-0.271 0-0.5-0.229-0.5-0.5v-27c0-0.271 0.229-0.5 0.5-0.5 0 0 15.499-0 15.5 0v7c0 0.552 0.448 1 1 1h7v19.5z\"></path>\n",
       "<path d=\"M23 26h-14c-0.552 0-1-0.448-1-1s0.448-1 1-1h14c0.552 0 1 0.448 1 1s-0.448 1-1 1z\"></path>\n",
       "<path d=\"M23 22h-14c-0.552 0-1-0.448-1-1s0.448-1 1-1h14c0.552 0 1 0.448 1 1s-0.448 1-1 1z\"></path>\n",
       "<path d=\"M23 18h-14c-0.552 0-1-0.448-1-1s0.448-1 1-1h14c0.552 0 1 0.448 1 1s-0.448 1-1 1z\"></path>\n",
       "</symbol>\n",
       "</defs>\n",
       "</svg>\n",
       "<style>/* CSS stylesheet for displaying xarray objects in jupyterlab.\n",
       " *\n",
       " */\n",
       "\n",
       ":root {\n",
       "  --xr-font-color0: var(--jp-content-font-color0, rgba(0, 0, 0, 1));\n",
       "  --xr-font-color2: var(--jp-content-font-color2, rgba(0, 0, 0, 0.54));\n",
       "  --xr-font-color3: var(--jp-content-font-color3, rgba(0, 0, 0, 0.38));\n",
       "  --xr-border-color: var(--jp-border-color2, #e0e0e0);\n",
       "  --xr-disabled-color: var(--jp-layout-color3, #bdbdbd);\n",
       "  --xr-background-color: var(--jp-layout-color0, white);\n",
       "  --xr-background-color-row-even: var(--jp-layout-color1, white);\n",
       "  --xr-background-color-row-odd: var(--jp-layout-color2, #eeeeee);\n",
       "}\n",
       "\n",
       "html[theme=dark],\n",
       "body.vscode-dark {\n",
       "  --xr-font-color0: rgba(255, 255, 255, 1);\n",
       "  --xr-font-color2: rgba(255, 255, 255, 0.54);\n",
       "  --xr-font-color3: rgba(255, 255, 255, 0.38);\n",
       "  --xr-border-color: #1F1F1F;\n",
       "  --xr-disabled-color: #515151;\n",
       "  --xr-background-color: #111111;\n",
       "  --xr-background-color-row-even: #111111;\n",
       "  --xr-background-color-row-odd: #313131;\n",
       "}\n",
       "\n",
       ".xr-wrap {\n",
       "  display: block;\n",
       "  min-width: 300px;\n",
       "  max-width: 700px;\n",
       "}\n",
       "\n",
       ".xr-text-repr-fallback {\n",
       "  /* fallback to plain text repr when CSS is not injected (untrusted notebook) */\n",
       "  display: none;\n",
       "}\n",
       "\n",
       ".xr-header {\n",
       "  padding-top: 6px;\n",
       "  padding-bottom: 6px;\n",
       "  margin-bottom: 4px;\n",
       "  border-bottom: solid 1px var(--xr-border-color);\n",
       "}\n",
       "\n",
       ".xr-header > div,\n",
       ".xr-header > ul {\n",
       "  display: inline;\n",
       "  margin-top: 0;\n",
       "  margin-bottom: 0;\n",
       "}\n",
       "\n",
       ".xr-obj-type,\n",
       ".xr-array-name {\n",
       "  margin-left: 2px;\n",
       "  margin-right: 10px;\n",
       "}\n",
       "\n",
       ".xr-obj-type {\n",
       "  color: var(--xr-font-color2);\n",
       "}\n",
       "\n",
       ".xr-sections {\n",
       "  padding-left: 0 !important;\n",
       "  display: grid;\n",
       "  grid-template-columns: 150px auto auto 1fr 20px 20px;\n",
       "}\n",
       "\n",
       ".xr-section-item {\n",
       "  display: contents;\n",
       "}\n",
       "\n",
       ".xr-section-item input {\n",
       "  display: none;\n",
       "}\n",
       "\n",
       ".xr-section-item input + label {\n",
       "  color: var(--xr-disabled-color);\n",
       "}\n",
       "\n",
       ".xr-section-item input:enabled + label {\n",
       "  cursor: pointer;\n",
       "  color: var(--xr-font-color2);\n",
       "}\n",
       "\n",
       ".xr-section-item input:enabled + label:hover {\n",
       "  color: var(--xr-font-color0);\n",
       "}\n",
       "\n",
       ".xr-section-summary {\n",
       "  grid-column: 1;\n",
       "  color: var(--xr-font-color2);\n",
       "  font-weight: 500;\n",
       "}\n",
       "\n",
       ".xr-section-summary > span {\n",
       "  display: inline-block;\n",
       "  padding-left: 0.5em;\n",
       "}\n",
       "\n",
       ".xr-section-summary-in:disabled + label {\n",
       "  color: var(--xr-font-color2);\n",
       "}\n",
       "\n",
       ".xr-section-summary-in + label:before {\n",
       "  display: inline-block;\n",
       "  content: '►';\n",
       "  font-size: 11px;\n",
       "  width: 15px;\n",
       "  text-align: center;\n",
       "}\n",
       "\n",
       ".xr-section-summary-in:disabled + label:before {\n",
       "  color: var(--xr-disabled-color);\n",
       "}\n",
       "\n",
       ".xr-section-summary-in:checked + label:before {\n",
       "  content: '▼';\n",
       "}\n",
       "\n",
       ".xr-section-summary-in:checked + label > span {\n",
       "  display: none;\n",
       "}\n",
       "\n",
       ".xr-section-summary,\n",
       ".xr-section-inline-details {\n",
       "  padding-top: 4px;\n",
       "  padding-bottom: 4px;\n",
       "}\n",
       "\n",
       ".xr-section-inline-details {\n",
       "  grid-column: 2 / -1;\n",
       "}\n",
       "\n",
       ".xr-section-details {\n",
       "  display: none;\n",
       "  grid-column: 1 / -1;\n",
       "  margin-bottom: 5px;\n",
       "}\n",
       "\n",
       ".xr-section-summary-in:checked ~ .xr-section-details {\n",
       "  display: contents;\n",
       "}\n",
       "\n",
       ".xr-array-wrap {\n",
       "  grid-column: 1 / -1;\n",
       "  display: grid;\n",
       "  grid-template-columns: 20px auto;\n",
       "}\n",
       "\n",
       ".xr-array-wrap > label {\n",
       "  grid-column: 1;\n",
       "  vertical-align: top;\n",
       "}\n",
       "\n",
       ".xr-preview {\n",
       "  color: var(--xr-font-color3);\n",
       "}\n",
       "\n",
       ".xr-array-preview,\n",
       ".xr-array-data {\n",
       "  padding: 0 5px !important;\n",
       "  grid-column: 2;\n",
       "}\n",
       "\n",
       ".xr-array-data,\n",
       ".xr-array-in:checked ~ .xr-array-preview {\n",
       "  display: none;\n",
       "}\n",
       "\n",
       ".xr-array-in:checked ~ .xr-array-data,\n",
       ".xr-array-preview {\n",
       "  display: inline-block;\n",
       "}\n",
       "\n",
       ".xr-dim-list {\n",
       "  display: inline-block !important;\n",
       "  list-style: none;\n",
       "  padding: 0 !important;\n",
       "  margin: 0;\n",
       "}\n",
       "\n",
       ".xr-dim-list li {\n",
       "  display: inline-block;\n",
       "  padding: 0;\n",
       "  margin: 0;\n",
       "}\n",
       "\n",
       ".xr-dim-list:before {\n",
       "  content: '(';\n",
       "}\n",
       "\n",
       ".xr-dim-list:after {\n",
       "  content: ')';\n",
       "}\n",
       "\n",
       ".xr-dim-list li:not(:last-child):after {\n",
       "  content: ',';\n",
       "  padding-right: 5px;\n",
       "}\n",
       "\n",
       ".xr-has-index {\n",
       "  font-weight: bold;\n",
       "}\n",
       "\n",
       ".xr-var-list,\n",
       ".xr-var-item {\n",
       "  display: contents;\n",
       "}\n",
       "\n",
       ".xr-var-item > div,\n",
       ".xr-var-item label,\n",
       ".xr-var-item > .xr-var-name span {\n",
       "  background-color: var(--xr-background-color-row-even);\n",
       "  margin-bottom: 0;\n",
       "}\n",
       "\n",
       ".xr-var-item > .xr-var-name:hover span {\n",
       "  padding-right: 5px;\n",
       "}\n",
       "\n",
       ".xr-var-list > li:nth-child(odd) > div,\n",
       ".xr-var-list > li:nth-child(odd) > label,\n",
       ".xr-var-list > li:nth-child(odd) > .xr-var-name span {\n",
       "  background-color: var(--xr-background-color-row-odd);\n",
       "}\n",
       "\n",
       ".xr-var-name {\n",
       "  grid-column: 1;\n",
       "}\n",
       "\n",
       ".xr-var-dims {\n",
       "  grid-column: 2;\n",
       "}\n",
       "\n",
       ".xr-var-dtype {\n",
       "  grid-column: 3;\n",
       "  text-align: right;\n",
       "  color: var(--xr-font-color2);\n",
       "}\n",
       "\n",
       ".xr-var-preview {\n",
       "  grid-column: 4;\n",
       "}\n",
       "\n",
       ".xr-var-name,\n",
       ".xr-var-dims,\n",
       ".xr-var-dtype,\n",
       ".xr-preview,\n",
       ".xr-attrs dt {\n",
       "  white-space: nowrap;\n",
       "  overflow: hidden;\n",
       "  text-overflow: ellipsis;\n",
       "  padding-right: 10px;\n",
       "}\n",
       "\n",
       ".xr-var-name:hover,\n",
       ".xr-var-dims:hover,\n",
       ".xr-var-dtype:hover,\n",
       ".xr-attrs dt:hover {\n",
       "  overflow: visible;\n",
       "  width: auto;\n",
       "  z-index: 1;\n",
       "}\n",
       "\n",
       ".xr-var-attrs,\n",
       ".xr-var-data {\n",
       "  display: none;\n",
       "  background-color: var(--xr-background-color) !important;\n",
       "  padding-bottom: 5px !important;\n",
       "}\n",
       "\n",
       ".xr-var-attrs-in:checked ~ .xr-var-attrs,\n",
       ".xr-var-data-in:checked ~ .xr-var-data {\n",
       "  display: block;\n",
       "}\n",
       "\n",
       ".xr-var-data > table {\n",
       "  float: right;\n",
       "}\n",
       "\n",
       ".xr-var-name span,\n",
       ".xr-var-data,\n",
       ".xr-attrs {\n",
       "  padding-left: 25px !important;\n",
       "}\n",
       "\n",
       ".xr-attrs,\n",
       ".xr-var-attrs,\n",
       ".xr-var-data {\n",
       "  grid-column: 1 / -1;\n",
       "}\n",
       "\n",
       "dl.xr-attrs {\n",
       "  padding: 0;\n",
       "  margin: 0;\n",
       "  display: grid;\n",
       "  grid-template-columns: 125px auto;\n",
       "}\n",
       "\n",
       ".xr-attrs dt,\n",
       ".xr-attrs dd {\n",
       "  padding: 0;\n",
       "  margin: 0;\n",
       "  float: left;\n",
       "  padding-right: 10px;\n",
       "  width: auto;\n",
       "}\n",
       "\n",
       ".xr-attrs dt {\n",
       "  font-weight: normal;\n",
       "  grid-column: 1;\n",
       "}\n",
       "\n",
       ".xr-attrs dt:hover span {\n",
       "  display: inline-block;\n",
       "  background: var(--xr-background-color);\n",
       "  padding-right: 10px;\n",
       "}\n",
       "\n",
       ".xr-attrs dd {\n",
       "  grid-column: 2;\n",
       "  white-space: pre-wrap;\n",
       "  word-break: break-all;\n",
       "}\n",
       "\n",
       ".xr-icon-database,\n",
       ".xr-icon-file-text2 {\n",
       "  display: inline-block;\n",
       "  vertical-align: middle;\n",
       "  width: 1em;\n",
       "  height: 1.5em !important;\n",
       "  stroke-width: 0;\n",
       "  stroke: currentColor;\n",
       "  fill: currentColor;\n",
       "}\n",
       "</style><pre class='xr-text-repr-fallback'>&lt;xarray.Dataset&gt;\n",
       "Dimensions:    (year: 3, latitude: 98, longitude: 148)\n",
       "Coordinates:\n",
       "  * latitude   (latitude) float64 51.05 50.95 50.85 50.75 ... 41.55 41.45 41.35\n",
       "  * longitude  (longitude) float64 -5.15 -5.05 -4.95 -4.85 ... 9.35 9.45 9.55\n",
       "  * year       (year) int64 2019 2020 2021\n",
       "Data variables:\n",
       "    PM10       (year, latitude, longitude) float32 0.0 0.0 0.0 ... 0.0 0.0 0.0\n",
       "Attributes:\n",
       "    transform:      (0.1, 0.0, -5.200012009298998, 0.0, -0.1, 51.09999699761336)\n",
       "    crs:            +init=epsg:4326\n",
       "    res:            (0.1, 0.1)\n",
       "    is_tiled:       0\n",
       "    nodatavals:     (0.0,)\n",
       "    scales:         (1.0,)\n",
       "    offsets:        (0.0,)\n",
       "    AREA_OR_POINT:  Area</pre><div class='xr-wrap' hidden><div class='xr-header'><div class='xr-obj-type'>xarray.Dataset</div></div><ul class='xr-sections'><li class='xr-section-item'><input id='section-f72244b9-ab43-469f-aa74-0eb0f362a422' class='xr-section-summary-in' type='checkbox' disabled ><label for='section-f72244b9-ab43-469f-aa74-0eb0f362a422' class='xr-section-summary'  title='Expand/collapse section'>Dimensions:</label><div class='xr-section-inline-details'><ul class='xr-dim-list'><li><span class='xr-has-index'>year</span>: 3</li><li><span class='xr-has-index'>latitude</span>: 98</li><li><span class='xr-has-index'>longitude</span>: 148</li></ul></div><div class='xr-section-details'></div></li><li class='xr-section-item'><input id='section-608f40c8-0ff4-44b5-94c9-cb950aa7fdbd' class='xr-section-summary-in' type='checkbox'  checked><label for='section-608f40c8-0ff4-44b5-94c9-cb950aa7fdbd' class='xr-section-summary' >Coordinates: <span>(3)</span></label><div class='xr-section-inline-details'></div><div class='xr-section-details'><ul class='xr-var-list'><li class='xr-var-item'><div class='xr-var-name'><span class='xr-has-index'>latitude</span></div><div class='xr-var-dims'>(latitude)</div><div class='xr-var-dtype'>float64</div><div class='xr-var-preview xr-preview'>51.05 50.95 50.85 ... 41.45 41.35</div><input id='attrs-9c86c27c-f739-41aa-8a9d-13f5c7a751f6' class='xr-var-attrs-in' type='checkbox' disabled><label for='attrs-9c86c27c-f739-41aa-8a9d-13f5c7a751f6' title='Show/Hide attributes'><svg class='icon xr-icon-file-text2'><use xlink:href='#icon-file-text2'></use></svg></label><input id='data-1fc3b222-2a51-411b-b2bd-3e736697b377' class='xr-var-data-in' type='checkbox'><label for='data-1fc3b222-2a51-411b-b2bd-3e736697b377' title='Show/Hide data repr'><svg class='icon xr-icon-database'><use xlink:href='#icon-database'></use></svg></label><div class='xr-var-attrs'><dl class='xr-attrs'></dl></div><div class='xr-var-data'><pre>array([51.049997, 50.949997, 50.849997, 50.749997, 50.649997, 50.549997,\n",
       "       50.449997, 50.349997, 50.249997, 50.149997, 50.049997, 49.949997,\n",
       "       49.849997, 49.749997, 49.649997, 49.549997, 49.449997, 49.349997,\n",
       "       49.249997, 49.149997, 49.049997, 48.949997, 48.849997, 48.749997,\n",
       "       48.649997, 48.549997, 48.449997, 48.349997, 48.249997, 48.149997,\n",
       "       48.049997, 47.949997, 47.849997, 47.749997, 47.649997, 47.549997,\n",
       "       47.449997, 47.349997, 47.249997, 47.149997, 47.049997, 46.949997,\n",
       "       46.849997, 46.749997, 46.649997, 46.549997, 46.449997, 46.349997,\n",
       "       46.249997, 46.149997, 46.049997, 45.949997, 45.849997, 45.749997,\n",
       "       45.649997, 45.549997, 45.449997, 45.349997, 45.249997, 45.149997,\n",
       "       45.049997, 44.949997, 44.849997, 44.749997, 44.649997, 44.549997,\n",
       "       44.449997, 44.349997, 44.249997, 44.149997, 44.049997, 43.949997,\n",
       "       43.849997, 43.749997, 43.649997, 43.549997, 43.449997, 43.349997,\n",
       "       43.249997, 43.149997, 43.049997, 42.949997, 42.849997, 42.749997,\n",
       "       42.649997, 42.549997, 42.449997, 42.349997, 42.249997, 42.149997,\n",
       "       42.049997, 41.949997, 41.849997, 41.749997, 41.649997, 41.549997,\n",
       "       41.449997, 41.349997])</pre></div></li><li class='xr-var-item'><div class='xr-var-name'><span class='xr-has-index'>longitude</span></div><div class='xr-var-dims'>(longitude)</div><div class='xr-var-dtype'>float64</div><div class='xr-var-preview xr-preview'>-5.15 -5.05 -4.95 ... 9.45 9.55</div><input id='attrs-09e39b70-124a-4de9-b02c-ce9fc2a062f4' class='xr-var-attrs-in' type='checkbox' disabled><label for='attrs-09e39b70-124a-4de9-b02c-ce9fc2a062f4' title='Show/Hide attributes'><svg class='icon xr-icon-file-text2'><use xlink:href='#icon-file-text2'></use></svg></label><input id='data-9ceacb3d-b135-4b36-a458-455ec6bdb7b9' class='xr-var-data-in' type='checkbox'><label for='data-9ceacb3d-b135-4b36-a458-455ec6bdb7b9' title='Show/Hide data repr'><svg class='icon xr-icon-database'><use xlink:href='#icon-database'></use></svg></label><div class='xr-var-attrs'><dl class='xr-attrs'></dl></div><div class='xr-var-data'><pre>array([-5.150012, -5.050012, -4.950012, -4.850012, -4.750012, -4.650012,\n",
       "       -4.550012, -4.450012, -4.350012, -4.250012, -4.150012, -4.050012,\n",
       "       -3.950012, -3.850012, -3.750012, -3.650012, -3.550012, -3.450012,\n",
       "       -3.350012, -3.250012, -3.150012, -3.050012, -2.950012, -2.850012,\n",
       "       -2.750012, -2.650012, -2.550012, -2.450012, -2.350012, -2.250012,\n",
       "       -2.150012, -2.050012, -1.950012, -1.850012, -1.750012, -1.650012,\n",
       "       -1.550012, -1.450012, -1.350012, -1.250012, -1.150012, -1.050012,\n",
       "       -0.950012, -0.850012, -0.750012, -0.650012, -0.550012, -0.450012,\n",
       "       -0.350012, -0.250012, -0.150012, -0.050012,  0.049988,  0.149988,\n",
       "        0.249988,  0.349988,  0.449988,  0.549988,  0.649988,  0.749988,\n",
       "        0.849988,  0.949988,  1.049988,  1.149988,  1.249988,  1.349988,\n",
       "        1.449988,  1.549988,  1.649988,  1.749988,  1.849988,  1.949988,\n",
       "        2.049988,  2.149988,  2.249988,  2.349988,  2.449988,  2.549988,\n",
       "        2.649988,  2.749988,  2.849988,  2.949988,  3.049988,  3.149988,\n",
       "        3.249988,  3.349988,  3.449988,  3.549988,  3.649988,  3.749988,\n",
       "        3.849988,  3.949988,  4.049988,  4.149988,  4.249988,  4.349988,\n",
       "        4.449988,  4.549988,  4.649988,  4.749988,  4.849988,  4.949988,\n",
       "        5.049988,  5.149988,  5.249988,  5.349988,  5.449988,  5.549988,\n",
       "        5.649988,  5.749988,  5.849988,  5.949988,  6.049988,  6.149988,\n",
       "        6.249988,  6.349988,  6.449988,  6.549988,  6.649988,  6.749988,\n",
       "        6.849988,  6.949988,  7.049988,  7.149988,  7.249988,  7.349988,\n",
       "        7.449988,  7.549988,  7.649988,  7.749988,  7.849988,  7.949988,\n",
       "        8.049988,  8.149988,  8.249988,  8.349988,  8.449988,  8.549988,\n",
       "        8.649988,  8.749988,  8.849988,  8.949988,  9.049988,  9.149988,\n",
       "        9.249988,  9.349988,  9.449988,  9.549988])</pre></div></li><li class='xr-var-item'><div class='xr-var-name'><span class='xr-has-index'>year</span></div><div class='xr-var-dims'>(year)</div><div class='xr-var-dtype'>int64</div><div class='xr-var-preview xr-preview'>2019 2020 2021</div><input id='attrs-2e9afcd3-d5af-4e3e-9036-27e6b7f35ea2' class='xr-var-attrs-in' type='checkbox' disabled><label for='attrs-2e9afcd3-d5af-4e3e-9036-27e6b7f35ea2' title='Show/Hide attributes'><svg class='icon xr-icon-file-text2'><use xlink:href='#icon-file-text2'></use></svg></label><input id='data-b05403c9-c147-486f-9fcb-bd612546b589' class='xr-var-data-in' type='checkbox'><label for='data-b05403c9-c147-486f-9fcb-bd612546b589' title='Show/Hide data repr'><svg class='icon xr-icon-database'><use xlink:href='#icon-database'></use></svg></label><div class='xr-var-attrs'><dl class='xr-attrs'></dl></div><div class='xr-var-data'><pre>array([2019, 2020, 2021])</pre></div></li></ul></div></li><li class='xr-section-item'><input id='section-d49ca8f6-6601-494e-97a9-85ce5f744032' class='xr-section-summary-in' type='checkbox'  checked><label for='section-d49ca8f6-6601-494e-97a9-85ce5f744032' class='xr-section-summary' >Data variables: <span>(1)</span></label><div class='xr-section-inline-details'></div><div class='xr-section-details'><ul class='xr-var-list'><li class='xr-var-item'><div class='xr-var-name'><span>PM10</span></div><div class='xr-var-dims'>(year, latitude, longitude)</div><div class='xr-var-dtype'>float32</div><div class='xr-var-preview xr-preview'>0.0 0.0 0.0 0.0 ... 0.0 0.0 0.0 0.0</div><input id='attrs-e075cf47-bb3f-40ff-a441-cd28cac40dca' class='xr-var-attrs-in' type='checkbox' ><label for='attrs-e075cf47-bb3f-40ff-a441-cd28cac40dca' title='Show/Hide attributes'><svg class='icon xr-icon-file-text2'><use xlink:href='#icon-file-text2'></use></svg></label><input id='data-576469f5-daa0-46d9-bcf2-adf4fdd05b99' class='xr-var-data-in' type='checkbox'><label for='data-576469f5-daa0-46d9-bcf2-adf4fdd05b99' title='Show/Hide data repr'><svg class='icon xr-icon-database'><use xlink:href='#icon-database'></use></svg></label><div class='xr-var-attrs'><dl class='xr-attrs'><dt><span>units :</span></dt><dd>µg m-3</dd><dt><span>long_name :</span></dt><dd>Particulate matter &lt; 10 µm</dd></dl></div><div class='xr-var-data'><pre>array([[[0., 0., 0., ..., 0., 0., 0.],\n",
       "        [0., 0., 0., ..., 0., 0., 0.],\n",
       "        [0., 0., 0., ..., 0., 0., 0.],\n",
       "        ...,\n",
       "        [0., 0., 0., ..., 0., 0., 0.],\n",
       "        [0., 0., 0., ..., 0., 0., 0.],\n",
       "        [0., 0., 0., ..., 0., 0., 0.]],\n",
       "\n",
       "       [[0., 0., 0., ..., 0., 0., 0.],\n",
       "        [0., 0., 0., ..., 0., 0., 0.],\n",
       "        [0., 0., 0., ..., 0., 0., 0.],\n",
       "        ...,\n",
       "        [0., 0., 0., ..., 0., 0., 0.],\n",
       "        [0., 0., 0., ..., 0., 0., 0.],\n",
       "        [0., 0., 0., ..., 0., 0., 0.]],\n",
       "\n",
       "       [[0., 0., 0., ..., 0., 0., 0.],\n",
       "        [0., 0., 0., ..., 0., 0., 0.],\n",
       "        [0., 0., 0., ..., 0., 0., 0.],\n",
       "        ...,\n",
       "        [0., 0., 0., ..., 0., 0., 0.],\n",
       "        [0., 0., 0., ..., 0., 0., 0.],\n",
       "        [0., 0., 0., ..., 0., 0., 0.]]], dtype=float32)</pre></div></li></ul></div></li><li class='xr-section-item'><input id='section-39611b14-71ea-4e8e-ac93-2c0a50f9c829' class='xr-section-summary-in' type='checkbox'  checked><label for='section-39611b14-71ea-4e8e-ac93-2c0a50f9c829' class='xr-section-summary' >Attributes: <span>(8)</span></label><div class='xr-section-inline-details'></div><div class='xr-section-details'><dl class='xr-attrs'><dt><span>transform :</span></dt><dd>(0.1, 0.0, -5.200012009298998, 0.0, -0.1, 51.09999699761336)</dd><dt><span>crs :</span></dt><dd>+init=epsg:4326</dd><dt><span>res :</span></dt><dd>(0.1, 0.1)</dd><dt><span>is_tiled :</span></dt><dd>0</dd><dt><span>nodatavals :</span></dt><dd>(0.0,)</dd><dt><span>scales :</span></dt><dd>(1.0,)</dd><dt><span>offsets :</span></dt><dd>(0.0,)</dd><dt><span>AREA_OR_POINT :</span></dt><dd>Area</dd></dl></div></li></ul></div></div>"
      ],
      "text/plain": [
       "<xarray.Dataset>\n",
       "Dimensions:    (year: 3, latitude: 98, longitude: 148)\n",
       "Coordinates:\n",
       "  * latitude   (latitude) float64 51.05 50.95 50.85 50.75 ... 41.55 41.45 41.35\n",
       "  * longitude  (longitude) float64 -5.15 -5.05 -4.95 -4.85 ... 9.35 9.45 9.55\n",
       "  * year       (year) int64 2019 2020 2021\n",
       "Data variables:\n",
       "    PM10       (year, latitude, longitude) float32 0.0 0.0 0.0 ... 0.0 0.0 0.0\n",
       "Attributes:\n",
       "    transform:      (0.1, 0.0, -5.200012009298998, 0.0, -0.1, 51.09999699761336)\n",
       "    crs:            +init=epsg:4326\n",
       "    res:            (0.1, 0.1)\n",
       "    is_tiled:       0\n",
       "    nodatavals:     (0.0,)\n",
       "    scales:         (1.0,)\n",
       "    offsets:        (0.0,)\n",
       "    AREA_OR_POINT:  Area"
      ]
     },
     "execution_count": 97,
     "metadata": {},
     "output_type": "execute_result"
    }
   ],
   "source": [
    "geotiff_dm"
   ]
  },
  {
   "cell_type": "markdown",
   "id": "delayed-clearing",
   "metadata": {},
   "source": [
    "#### Visualize data"
   ]
  },
  {
   "cell_type": "code",
   "execution_count": 98,
   "id": "388ee206-daf4-42a2-ae2c-dcdf8acdf71e",
   "metadata": {},
   "outputs": [
    {
     "name": "stdout",
     "output_type": "stream",
     "text": [
      "Collecting cmaps\n",
      "  Using cached cmaps-1.0.5-py3-none-any.whl\n",
      "Requirement already satisfied: matplotlib in /opt/conda/lib/python3.8/site-packages (from cmaps) (3.4.3)\n",
      "Requirement already satisfied: numpy in /opt/conda/lib/python3.8/site-packages (from cmaps) (1.19.5)\n",
      "Requirement already satisfied: kiwisolver>=1.0.1 in /opt/conda/lib/python3.8/site-packages (from matplotlib->cmaps) (1.3.1)\n",
      "Requirement already satisfied: pillow>=6.2.0 in /opt/conda/lib/python3.8/site-packages (from matplotlib->cmaps) (8.1.2)\n",
      "Requirement already satisfied: cycler>=0.10 in /opt/conda/lib/python3.8/site-packages (from matplotlib->cmaps) (0.10.0)\n",
      "Requirement already satisfied: python-dateutil>=2.7 in /opt/conda/lib/python3.8/site-packages (from matplotlib->cmaps) (2.8.1)\n",
      "Requirement already satisfied: pyparsing>=2.2.1 in /opt/conda/lib/python3.8/site-packages (from matplotlib->cmaps) (2.4.7)\n",
      "Requirement already satisfied: six in /opt/conda/lib/python3.8/site-packages (from cycler>=0.10->matplotlib->cmaps) (1.15.0)\n",
      "Installing collected packages: cmaps\n",
      "Successfully installed cmaps-1.0.5\n",
      "Note: you may need to restart the kernel to use updated packages.\n"
     ]
    }
   ],
   "source": [
    "pip install cmaps"
   ]
  },
  {
   "cell_type": "code",
   "execution_count": 99,
   "id": "known-thong",
   "metadata": {},
   "outputs": [],
   "source": [
    "import cartopy.crs as ccrs\n",
    "import matplotlib.pyplot as plt\n",
    "import cmaps"
   ]
  },
  {
   "cell_type": "code",
   "execution_count": 100,
   "id": "c5505520-0c2a-498f-ad12-01c3b2f095ca",
   "metadata": {},
   "outputs": [],
   "source": [
    "# To plot over France, taking a central longitude of 24 is fine. You may want to change it when plotting over different geographical areas\n",
    "central_longitude = 24.0"
   ]
  },
  {
   "cell_type": "code",
   "execution_count": 101,
   "id": "mechanical-lottery",
   "metadata": {},
   "outputs": [
    {
     "data": {
      "image/png": "[encoded data removed]",
      "text/plain": [
       "<Figure size 1800x576 with 4 Axes>"
      ]
     },
     "metadata": {
      "needs_background": "light"
     },
     "output_type": "display_data"
    }
   ],
   "source": [
    "# generate figure\n",
    "proj_plot = ccrs.Mercator(central_longitude=central_longitude)\n",
    "\n",
    "lcmap = cmaps.BlueYellowRed\n",
    "# Only plot values greater than 0\n",
    "p = geotiff_dm['PM10'].where(geotiff_dm['PM10'] > 0).plot(x='longitude', y='latitude',transform=ccrs.PlateCarree(),\n",
    "                            subplot_kws={\"projection\": proj_plot},\n",
    "                            size=8,\n",
    "                            col='year', col_wrap=3, robust=True, cmap=lcmap, add_colorbar=True)\n",
    "\n",
    "# We have to set the map's options on all four axes\n",
    "for ax,i in zip(p.axes.flat,  geotiff_dm.year.values):\n",
    "    ax.coastlines()\n",
    "    ax.set_title('Surface PM10\\n' + 'September ' + str(i), fontsize=10)\n",
    "\n",
    "plt.savefig(os.path.join(OUTPUT_DATA_DIR, 'PM10_september_FR_2019-2021.png'))"
   ]
  },
  {
   "cell_type": "markdown",
   "id": "toxic-discretion",
   "metadata": {},
   "source": [
    "#### Plot one single date"
   ]
  },
  {
   "cell_type": "code",
   "execution_count": 102,
   "id": "legislative-adoption",
   "metadata": {},
   "outputs": [
    {
     "data": {
      "image/png": "[encoded data removed]",
      "text/plain": [
       "<Figure size 720x720 with 2 Axes>"
      ]
     },
     "metadata": {
      "needs_background": "light"
     },
     "output_type": "display_data"
    }
   ],
   "source": [
    "fig=plt.figure(figsize=(10,10))\n",
    "# Define the projection\n",
    "crs=ccrs.PlateCarree()\n",
    "\n",
    "# We're using cartopy and are plotting in Orthographic projection \n",
    "# (see documentation on cartopy)\n",
    "ax = plt.subplot(1, 1, 1, projection=ccrs.Mercator(central_longitude=central_longitude))\n",
    "ax.coastlines(resolution='10m')\n",
    "\n",
    "# custom colormap\n",
    "\n",
    "lcmap = cmaps.BlueYellowRed\n",
    "\n",
    "# We need to project our data to the new Mercator projection and for this we use `transform`.\n",
    "# we set the original data projection in transform (here PlateCarree)\n",
    "# we only plot values greather than 0\n",
    "img = geotiff_ds['PM10'].where(geotiff_ds['PM10'] > 0).sel(time='2021-09-15').plot(ax=ax, transform=ccrs.PlateCarree(), cmap=lcmap)  \n",
    "\n",
    "# Title for plot\n",
    "plt.title('Surface PM10 \\n 15th September 2021 over France',fontsize = 16, fontweight = 'bold', pad=10)\n",
    "plt.savefig(os.path.join(OUTPUT_DATA_DIR, 'PM10_september_FR_2021-09-15.png'))"
   ]
  },
  {
   "cell_type": "markdown",
   "id": "unlike-stick",
   "metadata": {},
   "source": [
    "#### Interactive plot with bokeh"
   ]
  },
  {
   "cell_type": "code",
   "execution_count": 106,
   "id": "dimensional-religion",
   "metadata": {},
   "outputs": [],
   "source": [
    "import holoviews as hv\n",
    "import hvplot.xarray"
   ]
  },
  {
   "cell_type": "markdown",
   "id": "otherwise-evaluation",
   "metadata": {},
   "source": [
    "<div align=\"center\">\n",
    "    <h1 style=\"font-size:5vw\">PM10 over France from 1st September to 30th September 2021</h1>\n",
    "</div>"
   ]
  },
  {
   "cell_type": "code",
   "execution_count": 104,
   "id": "3b55c774-cc88-4778-a843-d8746dd0e25b",
   "metadata": {},
   "outputs": [],
   "source": [
    "geotiff_ds = geotiff_ds.sortby('time')"
   ]
  },
  {
   "cell_type": "code",
   "execution_count": 107,
   "id": "color-developer",
   "metadata": {
    "tags": []
   },
   "outputs": [
    {
     "name": "stdout",
     "output_type": "stream",
     "text": [
      "                                               \r"
     ]
    }
   ],
   "source": [
    "plot_start_time = '2021-09-01'\n",
    "plot_end_time = '2021-09-30'\n",
    "labels = geotiff_ds.hvplot.labels( text_font_size='6pt', text_color='blue').opts(xoffset=20)\n",
    "map_hv = geotiff_ds.where(geotiff_ds['PM10'] > 0).sel(time=slice(plot_start_time, plot_end_time)).PM10.hvplot(\n",
    "    groupby=\"time\",\n",
    "    cmap=lcmap,\n",
    "    geo=True,\n",
    "    coastline='10m',\n",
    "    frame_width=400,\n",
    "    clim=(0,35) \n",
    ")\n",
    "hv.save(map_hv, os.path.join(OUTPUT_DATA_DIR, \"interactive_map_\" + plot_start_time + \"_\" + plot_end_time + \".html\"), backend=\"bokeh\")"
   ]
  },
  {
   "cell_type": "markdown",
   "id": "00b430fb-cd20-4cae-a1c8-f7bab0dc05fd",
   "metadata": {},
   "source": [
    "#### Save Data Cube selection into netCDF"
   ]
  },
  {
   "cell_type": "code",
   "execution_count": 108,
   "id": "017e6edb-5478-4471-8036-4afcca4dc3aa",
   "metadata": {},
   "outputs": [],
   "source": [
    "geotiff_ds.to_netcdf( os.path.join(OUTPUT_DATA_DIR, \"PM10_september_FR_2019-2021.nc\"))"
   ]
  },
  {
   "cell_type": "markdown",
   "id": "centered-budapest",
   "metadata": {},
   "source": [
    "#### Plot a timeseries"
   ]
  },
  {
   "cell_type": "markdown",
   "id": "neural-evaluation",
   "metadata": {},
   "source": [
    "<div align=\"center\">\n",
    "    <h1 style=\"font-size:5vw\">PM10 over Paris from 1st September to 30th September 2021</h1>\n",
    "</div>"
   ]
  },
  {
   "cell_type": "markdown",
   "id": "painful-peeing",
   "metadata": {},
   "source": [
    "Sort times and then select one location"
   ]
  },
  {
   "cell_type": "code",
   "execution_count": 134,
   "id": "fifth-navigator",
   "metadata": {},
   "outputs": [],
   "source": [
    "# You may change this location accordingly\n",
    "location = \"Paris\"\n",
    "latitude = 48.864716\n",
    "longitude = 2.349014\n",
    "plot_end_time = '2021-09-01'\n",
    "plot_end_time = '2021-09-30'"
   ]
  },
  {
   "cell_type": "code",
   "execution_count": 124,
   "id": "enclosed-program",
   "metadata": {},
   "outputs": [],
   "source": [
    "ts = geotiff_ds['PM10'].where(geotiff_ds['PM10'] > 0). \\\n",
    "        sel(latitude=latitude, longitude=longitude, method='nearest'). \\\n",
    "        sel(time=slice(plot_start_time, plot_end_time))"
   ]
  },
  {
   "cell_type": "code",
   "execution_count": 125,
   "id": "chicken-henry",
   "metadata": {},
   "outputs": [],
   "source": [
    "ts_plot = ts.hvplot(color='purple') * ts.hvplot.scatter(marker='o', color='blue', size=15)"
   ]
  },
  {
   "cell_type": "code",
   "execution_count": 126,
   "id": "cad8e94a-a904-462e-a160-b87194e3c849",
   "metadata": {},
   "outputs": [
    {
     "data": {},
     "metadata": {},
     "output_type": "display_data"
    },
    {
     "data": {
      "application/vnd.holoviews_exec.v0+json": "",
      "text/html": [
       "<div id='4065'>\n",
       "\n",
       "\n",
       "\n",
       "\n",
       "\n",
       "  <div class=\"bk-root\" id=\"5dd5392b-e149-4222-b952-0041919eca15\" data-root-id=\"4065\"></div>\n",
       "</div>\n",
       "<script type=\"application/javascript\">(function(root) {\n",
       "  function embed_document(root) {\n",
       "    var docs_json = {\"59370c82-ebaf-4a04-8455-c245a7b97f19\":{\"defs\":[{\"extends\":null,\"module\":null,\"name\":\"ReactiveHTML1\",\"overrides\":[],\"properties\":[]},{\"extends\":null,\"module\":null,\"name\":\"FlexBox1\",\"overrides\":[],\"properties\":[{\"default\":\"flex-start\",\"kind\":null,\"name\":\"align_content\"},{\"default\":\"flex-start\",\"kind\":null,\"name\":\"align_items\"},{\"default\":\"row\",\"kind\":null,\"name\":\"flex_direction\"},{\"default\":\"wrap\",\"kind\":null,\"name\":\"flex_wrap\"},{\"default\":\"flex-start\",\"kind\":null,\"name\":\"justify_content\"}]},{\"extends\":null,\"module\":null,\"name\":\"TemplateActions1\",\"overrides\":[],\"properties\":[{\"default\":0,\"kind\":null,\"name\":\"open_modal\"},{\"default\":0,\"kind\":null,\"name\":\"close_modal\"}]},{\"extends\":null,\"module\":null,\"name\":\"MaterialTemplateActions1\",\"overrides\":[],\"properties\":[{\"default\":0,\"kind\":null,\"name\":\"open_modal\"},{\"default\":0,\"kind\":null,\"name\":\"close_modal\"}]}],\"roots\":{\"references\":[{\"attributes\":{\"text_color\":\"black\",\"text_font_size\":\"12pt\"},\"id\":\"4076\",\"type\":\"Title\"},{\"attributes\":{\"source\":{\"id\":\"4122\"}},\"id\":\"4129\",\"type\":\"CDSView\"},{\"attributes\":{\"data_source\":{\"id\":\"4122\"},\"glyph\":{\"id\":\"4125\"},\"hover_glyph\":null,\"muted_glyph\":{\"id\":\"4127\"},\"nonselection_glyph\":{\"id\":\"4126\"},\"selection_glyph\":{\"id\":\"4130\"},\"view\":{\"id\":\"4129\"}},\"id\":\"4128\",\"type\":\"GlyphRenderer\"},{\"attributes\":{\"line_alpha\":0.2,\"line_color\":\"purple\",\"line_width\":2,\"x\":{\"field\":\"time\"},\"y\":{\"field\":\"PM10\"}},\"id\":\"4118\",\"type\":\"Line\"},{\"attributes\":{\"mantissas\":[1,2,5],\"max_interval\":500.0,\"num_minor_ticks\":0},\"id\":\"4142\",\"type\":\"AdaptiveTicker\"},{\"attributes\":{},\"id\":\"4082\",\"type\":\"LinearScale\"},{\"attributes\":{\"axis_label\":\"Particulate matter < 10 \\u00b5m (\\u00b5g m-3)\",\"formatter\":{\"id\":\"4111\"},\"major_label_policy\":{\"id\":\"4112\"},\"ticker\":{\"id\":\"4089\"}},\"id\":\"4088\",\"type\":\"LinearAxis\"},{\"attributes\":{},\"id\":\"4111\",\"type\":\"BasicTickFormatter\"},{\"attributes\":{\"line_color\":\"purple\",\"line_width\":2,\"x\":{\"field\":\"time\"},\"y\":{\"field\":\"PM10\"}},\"id\":\"4116\",\"type\":\"Line\"},{\"attributes\":{},\"id\":\"4114\",\"type\":\"Selection\"},{\"attributes\":{\"axis\":{\"id\":\"4088\"},\"dimension\":1,\"grid_line_color\":null,\"ticker\":null},\"id\":\"4091\",\"type\":\"Grid\"},{\"attributes\":{\"axis\":{\"id\":\"4084\"},\"grid_line_color\":null,\"ticker\":null},\"id\":\"4087\",\"type\":\"Grid\"},{\"attributes\":{},\"id\":\"4141\",\"type\":\"UnionRenderers\"},{\"attributes\":{\"end\":25.872784423828126,\"reset_end\":25.872784423828126,\"reset_start\":9.163966369628906,\"start\":9.163966369628906,\"tags\":[[[\"PM10\",\"Particulate matter < 10 \\u00b5m\",\"\\u00b5g m-3\"]]]},\"id\":\"4070\",\"type\":\"Range1d\"},{\"attributes\":{\"bottom_units\":\"screen\",\"fill_alpha\":0.5,\"fill_color\":\"lightgrey\",\"left_units\":\"screen\",\"level\":\"overlay\",\"line_alpha\":1.0,\"line_color\":\"black\",\"line_dash\":[4,4],\"line_width\":2,\"right_units\":\"screen\",\"syncable\":false,\"top_units\":\"screen\"},\"id\":\"4097\",\"type\":\"BoxAnnotation\"},{\"attributes\":{\"axis_label\":\"time\",\"formatter\":{\"id\":\"4108\"},\"major_label_policy\":{\"id\":\"4109\"},\"ticker\":{\"id\":\"4085\"}},\"id\":\"4084\",\"type\":\"DatetimeAxis\"},{\"attributes\":{},\"id\":\"4089\",\"type\":\"BasicTicker\"},{\"attributes\":{\"months\":[0,2,4,6,8,10]},\"id\":\"4150\",\"type\":\"MonthsTicker\"},{\"attributes\":{\"angle\":{\"value\":0.0},\"fill_alpha\":{\"value\":1.0},\"fill_color\":{\"value\":\"blue\"},\"hatch_alpha\":{\"value\":1.0},\"hatch_color\":{\"value\":\"black\"},\"hatch_scale\":{\"value\":12.0},\"hatch_weight\":{\"value\":1.0},\"line_alpha\":{\"value\":1.0},\"line_cap\":{\"value\":\"butt\"},\"line_color\":{\"value\":\"blue\"},\"line_dash\":{\"value\":[]},\"line_dash_offset\":{\"value\":0},\"line_join\":{\"value\":\"bevel\"},\"line_width\":{\"value\":1},\"marker\":{\"value\":\"circle\"},\"size\":{\"value\":3.872983346207417},\"x\":{\"field\":\"time\"},\"y\":{\"field\":\"PM10\"}},\"id\":\"4130\",\"type\":\"Scatter\"},{\"attributes\":{\"base\":24,\"mantissas\":[1,2,4,6,8,12],\"max_interval\":43200000.0,\"min_interval\":3600000.0,\"num_minor_ticks\":0},\"id\":\"4144\",\"type\":\"AdaptiveTicker\"},{\"attributes\":{\"months\":[0,1,2,3,4,5,6,7,8,9,10,11]},\"id\":\"4149\",\"type\":\"MonthsTicker\"},{\"attributes\":{},\"id\":\"4123\",\"type\":\"Selection\"},{\"attributes\":{\"days\":[1,2,3,4,5,6,7,8,9,10,11,12,13,14,15,16,17,18,19,20,21,22,23,24,25,26,27,28,29,30,31]},\"id\":\"4145\",\"type\":\"DaysTicker\"},{\"attributes\":{\"data\":{\"PM10\":{\"__ndarray__\":\"tvOrQQhdqEHT18NBpvWvQcYAjkFP16tB1kihQf53qkGk6IBBkY8rQeLmKEFccoJBT2pyQfVsdkFDjZlBNBuNQXOBjEEB8YtBpamSQbBYY0Ep2LdBU6moQdEcv0HV2pVB7LSeQdR/c0H8szpBzwCJQZxrKUGMo2hB\",\"dtype\":\"float32\",\"order\":\"little\",\"shape\":[30]},\"time\":{\"__ndarray__\":\"AABAfOq5d0IAAADiPLp3QgAAwEePundCAACAreG6d0IAAEATNLt3QgAAAHmGu3dCAADA3ti7d0IAAIBEK7x3QgAAQKp9vHdCAAAAENC8d0IAAMB1Ir13QgAAgNt0vXdCAABAQce9d0IAAACnGb53QgAAwAxsvndCAACAcr6+d0IAAEDYEL93QgAAAD5jv3dCAADAo7W/d0IAAIAJCMB3QgAAQG9awHdCAAAA1azAd0IAAMA6/8B3QgAAgKBRwXdCAABABqTBd0IAAABs9sF3QgAAwNFIwndCAACAN5vCd0IAAECd7cJ3QgAAAANAw3dC\",\"dtype\":\"float64\",\"order\":\"little\",\"shape\":[30]}},\"selected\":{\"id\":\"4123\"},\"selection_policy\":{\"id\":\"4141\"}},\"id\":\"4122\",\"type\":\"ColumnDataSource\"},{\"attributes\":{\"days\":[1,15]},\"id\":\"4148\",\"type\":\"DaysTicker\"},{\"attributes\":{\"below\":[{\"id\":\"4084\"}],\"center\":[{\"id\":\"4087\"},{\"id\":\"4091\"}],\"height\":300,\"left\":[{\"id\":\"4088\"}],\"margin\":[5,5,5,5],\"min_border_bottom\":10,\"min_border_left\":10,\"min_border_right\":10,\"min_border_top\":10,\"renderers\":[{\"id\":\"4119\"},{\"id\":\"4128\"}],\"sizing_mode\":\"fixed\",\"title\":{\"id\":\"4076\"},\"toolbar\":{\"id\":\"4098\"},\"width\":700,\"x_range\":{\"id\":\"4069\"},\"x_scale\":{\"id\":\"4080\"},\"y_range\":{\"id\":\"4070\"},\"y_scale\":{\"id\":\"4082\"}},\"id\":\"4075\",\"subtype\":\"Figure\",\"type\":\"Plot\"},{\"attributes\":{\"line_color\":\"purple\",\"line_width\":2,\"x\":{\"field\":\"time\"},\"y\":{\"field\":\"PM10\"}},\"id\":\"4121\",\"type\":\"Line\"},{\"attributes\":{\"base\":60,\"mantissas\":[1,2,5,10,15,20,30],\"max_interval\":1800000.0,\"min_interval\":1000.0,\"num_minor_ticks\":0},\"id\":\"4143\",\"type\":\"AdaptiveTicker\"},{\"attributes\":{\"overlay\":{\"id\":\"4097\"}},\"id\":\"4095\",\"type\":\"BoxZoomTool\"},{\"attributes\":{\"days\":[1,8,15,22]},\"id\":\"4147\",\"type\":\"DaysTicker\"},{\"attributes\":{\"margin\":[5,5,5,5],\"name\":\"HSpacer16981\",\"sizing_mode\":\"stretch_width\"},\"id\":\"4347\",\"type\":\"Spacer\"},{\"attributes\":{},\"id\":\"4139\",\"type\":\"UnionRenderers\"},{\"attributes\":{\"days\":[1,4,7,10,13,16,19,22,25,28]},\"id\":\"4146\",\"type\":\"DaysTicker\"},{\"attributes\":{\"active_multi\":null,\"tools\":[{\"id\":\"4071\"},{\"id\":\"4092\"},{\"id\":\"4093\"},{\"id\":\"4094\"},{\"id\":\"4095\"},{\"id\":\"4096\"}]},\"id\":\"4098\",\"type\":\"Toolbar\"},{\"attributes\":{},\"id\":\"4112\",\"type\":\"AllLabels\"},{\"attributes\":{\"months\":[0,6]},\"id\":\"4152\",\"type\":\"MonthsTicker\"},{\"attributes\":{},\"id\":\"4153\",\"type\":\"YearsTicker\"},{\"attributes\":{\"source\":{\"id\":\"4113\"}},\"id\":\"4120\",\"type\":\"CDSView\"},{\"attributes\":{\"end\":1632960000000.0,\"reset_end\":1632960000000.0,\"reset_start\":1630454400000.0,\"start\":1630454400000.0,\"tags\":[[[\"time\",\"time\",null]]]},\"id\":\"4069\",\"type\":\"Range1d\"},{\"attributes\":{},\"id\":\"4108\",\"type\":\"DatetimeTickFormatter\"},{\"attributes\":{},\"id\":\"4096\",\"type\":\"ResetTool\"},{\"attributes\":{},\"id\":\"4080\",\"type\":\"LinearScale\"},{\"attributes\":{},\"id\":\"4109\",\"type\":\"AllLabels\"},{\"attributes\":{},\"id\":\"4092\",\"type\":\"SaveTool\"},{\"attributes\":{\"months\":[0,4,8]},\"id\":\"4151\",\"type\":\"MonthsTicker\"},{\"attributes\":{\"children\":[{\"id\":\"4066\"},{\"id\":\"4075\"},{\"id\":\"4347\"}],\"margin\":[0,0,0,0],\"name\":\"Row16976\",\"tags\":[\"embedded\"]},\"id\":\"4065\",\"type\":\"Row\"},{\"attributes\":{\"fill_color\":{\"value\":\"blue\"},\"line_color\":{\"value\":\"blue\"},\"size\":{\"value\":3.872983346207417},\"x\":{\"field\":\"time\"},\"y\":{\"field\":\"PM10\"}},\"id\":\"4125\",\"type\":\"Scatter\"},{\"attributes\":{\"num_minor_ticks\":5,\"tickers\":[{\"id\":\"4142\"},{\"id\":\"4143\"},{\"id\":\"4144\"},{\"id\":\"4145\"},{\"id\":\"4146\"},{\"id\":\"4147\"},{\"id\":\"4148\"},{\"id\":\"4149\"},{\"id\":\"4150\"},{\"id\":\"4151\"},{\"id\":\"4152\"},{\"id\":\"4153\"}]},\"id\":\"4085\",\"type\":\"DatetimeTicker\"},{\"attributes\":{\"margin\":[5,5,5,5],\"name\":\"HSpacer16980\",\"sizing_mode\":\"stretch_width\"},\"id\":\"4066\",\"type\":\"Spacer\"},{\"attributes\":{\"data\":{\"PM10\":{\"__ndarray__\":\"tvOrQQhdqEHT18NBpvWvQcYAjkFP16tB1kihQf53qkGk6IBBkY8rQeLmKEFccoJBT2pyQfVsdkFDjZlBNBuNQXOBjEEB8YtBpamSQbBYY0Ep2LdBU6moQdEcv0HV2pVB7LSeQdR/c0H8szpBzwCJQZxrKUGMo2hB\",\"dtype\":\"float32\",\"order\":\"little\",\"shape\":[30]},\"time\":{\"__ndarray__\":\"AABAfOq5d0IAAADiPLp3QgAAwEePundCAACAreG6d0IAAEATNLt3QgAAAHmGu3dCAADA3ti7d0IAAIBEK7x3QgAAQKp9vHdCAAAAENC8d0IAAMB1Ir13QgAAgNt0vXdCAABAQce9d0IAAACnGb53QgAAwAxsvndCAACAcr6+d0IAAEDYEL93QgAAAD5jv3dCAADAo7W/d0IAAIAJCMB3QgAAQG9awHdCAAAA1azAd0IAAMA6/8B3QgAAgKBRwXdCAABABqTBd0IAAABs9sF3QgAAwNFIwndCAACAN5vCd0IAAECd7cJ3QgAAAANAw3dC\",\"dtype\":\"float64\",\"order\":\"little\",\"shape\":[30]}},\"selected\":{\"id\":\"4114\"},\"selection_policy\":{\"id\":\"4139\"}},\"id\":\"4113\",\"type\":\"ColumnDataSource\"},{\"attributes\":{},\"id\":\"4094\",\"type\":\"WheelZoomTool\"},{\"attributes\":{\"data_source\":{\"id\":\"4113\"},\"glyph\":{\"id\":\"4116\"},\"hover_glyph\":null,\"muted_glyph\":{\"id\":\"4118\"},\"nonselection_glyph\":{\"id\":\"4117\"},\"selection_glyph\":{\"id\":\"4121\"},\"view\":{\"id\":\"4120\"}},\"id\":\"4119\",\"type\":\"GlyphRenderer\"},{\"attributes\":{\"fill_alpha\":{\"value\":0.2},\"fill_color\":{\"value\":\"blue\"},\"line_alpha\":{\"value\":0.2},\"line_color\":{\"value\":\"blue\"},\"size\":{\"value\":3.872983346207417},\"x\":{\"field\":\"time\"},\"y\":{\"field\":\"PM10\"}},\"id\":\"4127\",\"type\":\"Scatter\"},{\"attributes\":{\"callback\":null,\"formatters\":{\"@{time}\":\"datetime\"},\"renderers\":[{\"id\":\"4119\"},{\"id\":\"4128\"}],\"tags\":[\"hv_created\"],\"tooltips\":[[\"time\",\"@{time}{%F %T}\"],[\"Particulate matter < 10 \\u00b5m (\\u00b5g m-3)\",\"@{PM10}\"]]},\"id\":\"4071\",\"type\":\"HoverTool\"},{\"attributes\":{},\"id\":\"4093\",\"type\":\"PanTool\"},{\"attributes\":{\"line_alpha\":0.1,\"line_color\":\"purple\",\"line_width\":2,\"x\":{\"field\":\"time\"},\"y\":{\"field\":\"PM10\"}},\"id\":\"4117\",\"type\":\"Line\"},{\"attributes\":{\"fill_alpha\":{\"value\":0.1},\"fill_color\":{\"value\":\"blue\"},\"line_alpha\":{\"value\":0.1},\"line_color\":{\"value\":\"blue\"},\"size\":{\"value\":3.872983346207417},\"x\":{\"field\":\"time\"},\"y\":{\"field\":\"PM10\"}},\"id\":\"4126\",\"type\":\"Scatter\"}],\"root_ids\":[\"4065\"]},\"title\":\"Bokeh Application\",\"version\":\"2.3.1\"}};\n",
       "    var render_items = [{\"docid\":\"59370c82-ebaf-4a04-8455-c245a7b97f19\",\"root_ids\":[\"4065\"],\"roots\":{\"4065\":\"5dd5392b-e149-4222-b952-0041919eca15\"}}];\n",
       "    root.Bokeh.embed.embed_items_notebook(docs_json, render_items);\n",
       "  }\n",
       "  if (root.Bokeh !== undefined && root.Bokeh.Panel !== undefined) {\n",
       "    embed_document(root);\n",
       "  } else {\n",
       "    var attempts = 0;\n",
       "    var timer = setInterval(function(root) {\n",
       "      if (root.Bokeh !== undefined && root.Bokeh.Panel !== undefined) {\n",
       "        clearInterval(timer);\n",
       "        embed_document(root);\n",
       "      } else if (document.readyState == \"complete\") {\n",
       "        attempts++;\n",
       "        if (attempts > 200) {\n",
       "          clearInterval(timer);\n",
       "          console.log(\"Bokeh: ERROR: Unable to run BokehJS code because BokehJS library is missing\");\n",
       "        }\n",
       "      }\n",
       "    }, 25, root)\n",
       "  }\n",
       "})(window);</script>"
      ],
      "text/plain": [
       ":Overlay\n",
       "   .Curve.I   :Curve   [time]   (PM10)\n",
       "   .Scatter.I :Scatter   [time]   (PM10)"
      ]
     },
     "execution_count": 126,
     "metadata": {
      "application/vnd.holoviews_exec.v0+json": {
       "id": "4065"
      }
     },
     "output_type": "execute_result"
    }
   ],
   "source": [
    "ts_plot"
   ]
  },
  {
   "cell_type": "code",
   "execution_count": 127,
   "id": "c773f6c7-694c-467b-ac1d-3b21f59a5dbd",
   "metadata": {},
   "outputs": [],
   "source": [
    "hv.save(ts_plot, os.path.join(OUTPUT_DATA_DIR, \"interactive_timeseries_\" + location + \"_\" + plot_start_time + \"_\" + plot_end_time + \".html\"), backend=\"bokeh\")"
   ]
  },
  {
   "cell_type": "markdown",
   "id": "088dafc9-1235-4c5c-8039-268183c01267",
   "metadata": {},
   "source": [
    "#### Save timeseries into tabular (csv) file"
   ]
  },
  {
   "cell_type": "code",
   "execution_count": 128,
   "id": "6edf9ccb-45e5-4a85-8fd4-2fa158f61c4c",
   "metadata": {},
   "outputs": [],
   "source": [
    "ts.to_series().to_csv(os.path.join(OUTPUT_DATA_DIR, \"timeseries_paris_september2021.csv\"), sep='\\t')"
   ]
  },
  {
   "cell_type": "markdown",
   "id": "04c204a4-3a31-4805-aaf5-1d88cf3f3748",
   "metadata": {},
   "source": [
    "## <a id=7.rohub></a> **Step 7: Create Research Object and Share my work**"
   ]
  },
  {
   "cell_type": "markdown",
   "id": "ded3d204-e278-4d46-9d93-a04e5df8956d",
   "metadata": {},
   "source": [
    "## Create Research Object in ROHUB"
   ]
  },
  {
   "cell_type": "code",
   "execution_count": 89,
   "id": "cfb8d48c-c378-4837-a7cd-99a759ef1c77",
   "metadata": {},
   "outputs": [
    {
     "name": "stdout",
     "output_type": "stream",
     "text": [
      "Requirement already satisfied: rohub in /opt/conda/lib/python3.8/site-packages (1.0.0.post1)\n",
      "Requirement already satisfied: pandas in /opt/conda/lib/python3.8/site-packages (from rohub) (1.2.4)\n",
      "Requirement already satisfied: requests in /opt/conda/lib/python3.8/site-packages (from rohub) (2.25.1)\n",
      "Requirement already satisfied: python-dateutil>=2.7.3 in /opt/conda/lib/python3.8/site-packages (from pandas->rohub) (2.8.1)\n",
      "Requirement already satisfied: pytz>=2017.3 in /opt/conda/lib/python3.8/site-packages (from pandas->rohub) (2021.1)\n",
      "Requirement already satisfied: numpy>=1.16.5 in /opt/conda/lib/python3.8/site-packages (from pandas->rohub) (1.19.5)\n",
      "Requirement already satisfied: six>=1.5 in /opt/conda/lib/python3.8/site-packages (from python-dateutil>=2.7.3->pandas->rohub) (1.15.0)\n",
      "Requirement already satisfied: certifi>=2017.4.17 in /opt/conda/lib/python3.8/site-packages (from requests->rohub) (2021.10.8)\n",
      "Requirement already satisfied: chardet<5,>=3.0.2 in /opt/conda/lib/python3.8/site-packages (from requests->rohub) (4.0.0)\n",
      "Requirement already satisfied: urllib3<1.27,>=1.21.1 in /opt/conda/lib/python3.8/site-packages (from requests->rohub) (1.26.4)\n",
      "Requirement already satisfied: idna<3,>=2.5 in /opt/conda/lib/python3.8/site-packages (from requests->rohub) (2.10)\n",
      "Note: you may need to restart the kernel to use updated packages.\n"
     ]
    }
   ],
   "source": [
    "pip install rohub"
   ]
  },
  {
   "cell_type": "code",
   "execution_count": 186,
   "id": "24d4ac14-50e1-4b7f-b233-09f66ec892a1",
   "metadata": {},
   "outputs": [],
   "source": [
    "import os\n",
    "import pathlib\n",
    "from rohub import rohub, settings"
   ]
  },
  {
   "cell_type": "markdown",
   "id": "95e3211d-783a-40c1-bedf-9b51794e44ca",
   "metadata": {},
   "source": [
    "#### Authenticating\n",
    "\n",
    "- If the code cell below fails,  make sure you have created the two files:\n",
    "    - `rohub-user`: contains your rohub username\n",
    "    - `rohub-pwd`: contains your rohub password"
   ]
  },
  {
   "cell_type": "code",
   "execution_count": 221,
   "id": "98639345-9ea8-457d-9532-3c4aa6031801",
   "metadata": {},
   "outputs": [],
   "source": [
    "rohub_user = open(os.path.join(os.environ['HOME'],\"rohub-user\")).read().rstrip()\n",
    "rohub_pwd = open(os.path.join(os.environ['HOME'],\"rohub-pwd\")).read().rstrip()"
   ]
  },
  {
   "cell_type": "code",
   "execution_count": 222,
   "id": "5fcd2c68-0a16-4c3d-9087-64d3cb89fd7f",
   "metadata": {
    "tags": []
   },
   "outputs": [
    {
     "name": "stdout",
     "output_type": "stream",
     "text": [
      "Logged successfully as annefou@geo.uio.no.\n"
     ]
    }
   ],
   "source": [
    "rohub.login(username=rohub_user, password=rohub_pwd)"
   ]
  },
  {
   "cell_type": "markdown",
   "id": "17fc23ec-5e0c-4879-b7de-410b74b90df0",
   "metadata": {},
   "source": [
    "## Create a new Exectuable RO"
   ]
  },
  {
   "cell_type": "code",
   "execution_count": 223,
   "id": "b6160f17-24ed-43dd-9920-e1f72152472d",
   "metadata": {
    "tags": []
   },
   "outputs": [
    {
     "name": "stdout",
     "output_type": "stream",
     "text": [
      "Research Object was successfully created with id = b13d7b6a-66bf-40df-84c8-f9c88775b6c1\n"
     ]
    }
   ],
   "source": [
    "ro_title = \"Jupyter notebook demonstrating the usage of CAMS European air quality analysis from Copernicus Atmosphere Monitoring with RELIANCE services\"\n",
    "ro_research_areas = [\"Earth sciences\"]\n",
    "ro_description = \"This Research Object demonstrates how to use CAMS European air quality analysis from Copernicus Atmosphere Monitoring with RELIANCE services and compute monthly map of PM10 over a given geographical area.\"\n",
    "ro = rohub.ros_create(title=ro_title, research_areas=ro_research_areas, \n",
    "                      description=ro_description, \n",
    "                      template=\"Executable Research Object folders structure\",\n",
    "                      ros_type=\"Executable Research Object\")"
   ]
  },
  {
   "cell_type": "markdown",
   "id": "1b994bfa-3a31-4d73-a58f-6d7d8aa34d51",
   "metadata": {},
   "source": [
    "## Show metadata"
   ]
  },
  {
   "cell_type": "code",
   "execution_count": 224,
   "id": "b29df6ed-e245-41d3-bdd9-5a2189d3679f",
   "metadata": {
    "tags": []
   },
   "outputs": [
    {
     "data": {
      "text/plain": [
       "{'identifier': 'b13d7b6a-66bf-40df-84c8-f9c88775b6c1',\n",
       " 'shared_link': 'https://w3id.org/ro-id/b13d7b6a-66bf-40df-84c8-f9c88775b6c1',\n",
       " 'title': 'Jupyter notebook demonstrating the usage of CAMS European air quality analysis from Copernicus Atmosphere Monitoring with RELIANCE services',\n",
       " 'description': 'This Research Object demonstrates how to use CAMS European air quality analysis from Copernicus Atmosphere Monitoring with RELIANCE services and compute monthly map of PM10 over a given geographical area.',\n",
       " 'status': 'LIVE',\n",
       " 'access_mode': 'PUBLIC',\n",
       " 'type': 'Executable Research Object',\n",
       " 'template': 'Executable Research Object folders structure',\n",
       " 'created': '2022-01-18T18:28:05.432674Z',\n",
       " 'creator': 'annefou@geo.uio.no',\n",
       " 'modificator': None,\n",
       " 'modified': '2022-01-18T18:28:05.736775Z',\n",
       " 'importer': None,\n",
       " 'research_areas': ['Earth sciences'],\n",
       " 'owner': 'annefou@geo.uio.no',\n",
       " 'editors': [],\n",
       " 'readers': [],\n",
       " 'rating': '0.00',\n",
       " 'number_of_ratings': 0,\n",
       " 'number_of_likes': 0,\n",
       " 'number_of_dislikes': 0,\n",
       " 'quality': 0,\n",
       " 'size': 0,\n",
       " 'creation_mode': 'MANUAL',\n",
       " 'doi': None,\n",
       " 'api_link': 'https://api.rohub.org/api/ros/b13d7b6a-66bf-40df-84c8-f9c88775b6c1/'}"
      ]
     },
     "execution_count": 224,
     "metadata": {},
     "output_type": "execute_result"
    }
   ],
   "source": [
    "ro.show_metadata()"
   ]
  },
  {
   "cell_type": "markdown",
   "id": "93ae4992-c839-4cc8-9fe1-0418a0a23363",
   "metadata": {},
   "source": [
    "## Add additional authors and/or contributors to our Research Object"
   ]
  },
  {
   "cell_type": "code",
   "execution_count": 225,
   "id": "bed48137-f288-4542-90e0-4e2fdbb2268c",
   "metadata": {},
   "outputs": [
    {
     "data": {
      "text/html": [
       "<div>\n",
       "<style scoped>\n",
       "    .dataframe tbody tr th:only-of-type {\n",
       "        vertical-align: middle;\n",
       "    }\n",
       "\n",
       "    .dataframe tbody tr th {\n",
       "        vertical-align: top;\n",
       "    }\n",
       "\n",
       "    .dataframe thead th {\n",
       "        text-align: right;\n",
       "    }\n",
       "</style>\n",
       "<table border=\"1\" class=\"dataframe\">\n",
       "  <thead>\n",
       "    <tr style=\"text-align: right;\">\n",
       "      <th></th>\n",
       "      <th>identifier</th>\n",
       "      <th>username</th>\n",
       "      <th>display_name</th>\n",
       "      <th>affiliation</th>\n",
       "      <th>orcid_identifier</th>\n",
       "      <th>external</th>\n",
       "    </tr>\n",
       "  </thead>\n",
       "  <tbody>\n",
       "    <tr>\n",
       "      <th>0</th>\n",
       "      <td>1ac03644-c78c-4ca2-b0b4-2d9e40f671af</td>\n",
       "      <td>jeani@uio.no</td>\n",
       "      <td>Jean Iaquinta</td>\n",
       "      <td>UiO</td>\n",
       "      <td>0000-0002-8763-1643</td>\n",
       "      <td>True</td>\n",
       "    </tr>\n",
       "  </tbody>\n",
       "</table>\n",
       "</div>"
      ],
      "text/plain": [
       "                             identifier      username   display_name  \\\n",
       "0  1ac03644-c78c-4ca2-b0b4-2d9e40f671af  jeani@uio.no  Jean Iaquinta   \n",
       "\n",
       "  affiliation     orcid_identifier  external  \n",
       "0         UiO  0000-0002-8763-1643      True  "
      ]
     },
     "execution_count": 225,
     "metadata": {},
     "output_type": "execute_result"
    }
   ],
   "source": [
    "usernames = rohub.users_find(search=\"jeani@uio.no\")\n",
    "usernames"
   ]
  },
  {
   "cell_type": "code",
   "execution_count": 226,
   "id": "62a00f8b-856f-40e9-8df5-6e3d348e2345",
   "metadata": {},
   "outputs": [],
   "source": [
    "additional_username = usernames.loc[0,'username']"
   ]
  },
  {
   "cell_type": "code",
   "execution_count": 227,
   "id": "b6ac1e0d-0cb9-4084-852b-8b8f663dbde2",
   "metadata": {},
   "outputs": [
    {
     "name": "stdout",
     "output_type": "stream",
     "text": [
      "Agent: annefou@geo.uio.no recognized in the system.\n",
      "Agent: jeani@uio.no recognized in the system.\n"
     ]
    },
    {
     "data": {
      "text/plain": [
       "[{'username': 'annefou@geo.uio.no',\n",
       "  'name': 'annefou@geo.uio.no',\n",
       "  'display_name': 'Anne Fouilloux',\n",
       "  'orcid_identifier': '0000-0002-1784-2920',\n",
       "  'affiliation': 'Nordic e-Infrastructure Collaboration (NeIC)'},\n",
       " {'username': 'jeani@uio.no',\n",
       "  'name': 'jeani@uio.no',\n",
       "  'display_name': 'Jean Iaquinta',\n",
       "  'orcid_identifier': '0000-0002-8763-1643',\n",
       "  'affiliation': 'UiO'}]"
      ]
     },
     "execution_count": 227,
     "metadata": {},
     "output_type": "execute_result"
    }
   ],
   "source": [
    "ro.set_authors(agents=['annefou@geo.uio.no', additional_username])"
   ]
  },
  {
   "cell_type": "markdown",
   "id": "d610d675-ce0a-4c28-8f70-cc898cb181ca",
   "metadata": {},
   "source": [
    "## Add publisher/copyright holder\n",
    "\n",
    "- Use [Research Organization Registry (ROR)](https://ror.org/) to find the identifier of your organization"
   ]
  },
  {
   "cell_type": "markdown",
   "id": "90749caa-1db3-427a-a69e-07e5527aea88",
   "metadata": {},
   "source": [
    "### Add the University of Olso and the Nordic e-Infrastructure Collaboration as publishers "
   ]
  },
  {
   "cell_type": "code",
   "execution_count": 228,
   "id": "37736411-6705-4ecf-be0f-7c9bd2ae35fc",
   "metadata": {},
   "outputs": [],
   "source": [
    "NeIC_organization = {\"org_id\":\"https://neic.no/\",\n",
    "                    \"display_name\": \"Nordic e-Infrastructure Collaboration\", \n",
    "                     \"email\": \"\",\n",
    "                    \"ror_identifier\":\"04jcwf484\",\n",
    "                    \"organization_url\": \"https://neic.no/\"}"
   ]
  },
  {
   "cell_type": "code",
   "execution_count": 229,
   "id": "4aaffa6e-461e-4810-8470-572e3a6950d7",
   "metadata": {},
   "outputs": [],
   "source": [
    "UiO_organization = {\"org_id\":\"http://www.uio.no/english/\", \n",
    "                     \"display_name\": \"University of Oslo\", \n",
    "                     \"email\": \"\",\n",
    "                     \"ror_identifier\":\"01xtthb56\",\n",
    "                     \"organization_url\": \"http://www.uio.no/english/\"}"
   ]
  },
  {
   "cell_type": "code",
   "execution_count": 230,
   "id": "b9775742-1c33-45f1-bd3f-b224ad07f616",
   "metadata": {
    "tags": []
   },
   "outputs": [
    {
     "name": "stdout",
     "output_type": "stream",
     "text": [
      "Agent: {'org_id': 'https://neic.no/', 'display_name': 'Nordic e-Infrastructure Collaboration', 'email': '', 'ror_identifier': '04jcwf484', 'organization_url': 'https://neic.no/'} recognized in the system.\n",
      "Agent: {'org_id': 'http://www.uio.no/english/', 'display_name': 'University of Oslo', 'email': '', 'ror_identifier': '01xtthb56', 'organization_url': 'http://www.uio.no/english/'} recognized in the system.\n"
     ]
    },
    {
     "data": {
      "text/plain": [
       "[{'username': 'https://neic.no/',\n",
       "  'name': 'https://neic.no/',\n",
       "  'display_name': 'Nordic e-Infrastructure Collaboration'},\n",
       " {'username': 'http://www.uio.no/english/',\n",
       "  'name': 'http://www.uio.no/english/',\n",
       "  'display_name': 'University of Oslo'}]"
      ]
     },
     "execution_count": 230,
     "metadata": {},
     "output_type": "execute_result"
    }
   ],
   "source": [
    "ro.set_publishers(agents=[NeIC_organization, UiO_organization])"
   ]
  },
  {
   "cell_type": "code",
   "execution_count": 231,
   "id": "0f8ecf9d-8390-4d7e-b01a-a07272c7ad9b",
   "metadata": {
    "tags": []
   },
   "outputs": [
    {
     "name": "stdout",
     "output_type": "stream",
     "text": [
      "Agent: {'org_id': 'http://www.uio.no/english/', 'display_name': 'University of Oslo', 'email': '', 'ror_identifier': '01xtthb56', 'organization_url': 'http://www.uio.no/english/'} recognized in the system.\n"
     ]
    },
    {
     "data": {
      "text/plain": [
       "[{'username': 'http://www.uio.no/english/',\n",
       "  'name': 'http://www.uio.no/english/',\n",
       "  'display_name': 'University of Oslo'}]"
      ]
     },
     "execution_count": 231,
     "metadata": {},
     "output_type": "execute_result"
    }
   ],
   "source": [
    "ro.set_copyright_holders(agents=[UiO_organization])"
   ]
  },
  {
   "cell_type": "code",
   "execution_count": 232,
   "id": "a089ac8b-71c2-45ce-9c4f-9b2883bd2e24",
   "metadata": {},
   "outputs": [
    {
     "data": {
      "text/html": [
       "<div>\n",
       "<style scoped>\n",
       "    .dataframe tbody tr th:only-of-type {\n",
       "        vertical-align: middle;\n",
       "    }\n",
       "\n",
       "    .dataframe tbody tr th {\n",
       "        vertical-align: top;\n",
       "    }\n",
       "\n",
       "    .dataframe thead th {\n",
       "        text-align: right;\n",
       "    }\n",
       "</style>\n",
       "<table border=\"1\" class=\"dataframe\">\n",
       "  <thead>\n",
       "    <tr style=\"text-align: right;\">\n",
       "      <th></th>\n",
       "      <th>identifier</th>\n",
       "      <th>organization_id</th>\n",
       "      <th>display_name</th>\n",
       "      <th>email</th>\n",
       "      <th>url</th>\n",
       "      <th>ror_identifier</th>\n",
       "    </tr>\n",
       "  </thead>\n",
       "  <tbody>\n",
       "    <tr>\n",
       "      <th>0</th>\n",
       "      <td>92459295-cc33-40a2-b2ca-e416ad73a95e</td>\n",
       "      <td>neworg_1@example.org</td>\n",
       "      <td>Example Org 1</td>\n",
       "      <td>neworg1@example.org</td>\n",
       "      <td>http://neworg1.example.org</td>\n",
       "      <td>abcd123</td>\n",
       "    </tr>\n",
       "    <tr>\n",
       "      <th>1</th>\n",
       "      <td>556f3671-87b4-4576-b39d-654942ef248e</td>\n",
       "      <td>neworg_2@example.org</td>\n",
       "      <td>Example Org 2</td>\n",
       "      <td>neworg2@example.org</td>\n",
       "      <td>http://neworg2.example.org</td>\n",
       "      <td>abcd123</td>\n",
       "    </tr>\n",
       "    <tr>\n",
       "      <th>2</th>\n",
       "      <td>b1893a50-9f9b-49e8-8ab7-114152e29b9e</td>\n",
       "      <td>https://neic.no/</td>\n",
       "      <td>Nordic e-Infrastructure Collaboration</td>\n",
       "      <td></td>\n",
       "      <td>https://neic.no/</td>\n",
       "      <td>04jcwf484</td>\n",
       "    </tr>\n",
       "    <tr>\n",
       "      <th>3</th>\n",
       "      <td>64ec5402-1171-42f6-b9dd-6fa901ca9724</td>\n",
       "      <td>https://ror.org/025cj6e44</td>\n",
       "      <td>Poznan Supercomputing and Networking Center</td>\n",
       "      <td>office@man.poznan.pl</td>\n",
       "      <td>https://www.psnc.pl/</td>\n",
       "      <td>025cj6e44</td>\n",
       "    </tr>\n",
       "    <tr>\n",
       "      <th>4</th>\n",
       "      <td>f8b4ad0c-a4b1-4595-81a0-dcf42db083d4</td>\n",
       "      <td>http://www.uio.no/english/</td>\n",
       "      <td>University of Oslo</td>\n",
       "      <td></td>\n",
       "      <td>http://www.uio.no/english/</td>\n",
       "      <td>01xtthb56</td>\n",
       "    </tr>\n",
       "  </tbody>\n",
       "</table>\n",
       "</div>"
      ],
      "text/plain": [
       "                             identifier             organization_id  \\\n",
       "0  92459295-cc33-40a2-b2ca-e416ad73a95e        neworg_1@example.org   \n",
       "1  556f3671-87b4-4576-b39d-654942ef248e        neworg_2@example.org   \n",
       "2  b1893a50-9f9b-49e8-8ab7-114152e29b9e            https://neic.no/   \n",
       "3  64ec5402-1171-42f6-b9dd-6fa901ca9724   https://ror.org/025cj6e44   \n",
       "4  f8b4ad0c-a4b1-4595-81a0-dcf42db083d4  http://www.uio.no/english/   \n",
       "\n",
       "                                  display_name                 email  \\\n",
       "0                                Example Org 1   neworg1@example.org   \n",
       "1                                Example Org 2   neworg2@example.org   \n",
       "2        Nordic e-Infrastructure Collaboration                         \n",
       "3  Poznan Supercomputing and Networking Center  office@man.poznan.pl   \n",
       "4                           University of Oslo                         \n",
       "\n",
       "                          url ror_identifier  \n",
       "0  http://neworg1.example.org        abcd123  \n",
       "1  http://neworg2.example.org        abcd123  \n",
       "2            https://neic.no/      04jcwf484  \n",
       "3        https://www.psnc.pl/      025cj6e44  \n",
       "4  http://www.uio.no/english/      01xtthb56  "
      ]
     },
     "execution_count": 232,
     "metadata": {},
     "output_type": "execute_result"
    }
   ],
   "source": [
    "organizations = rohub.organizations_find()\n",
    "organizations"
   ]
  },
  {
   "cell_type": "markdown",
   "id": "329a6446-3a61-4cb2-8596-3a647ea5d630",
   "metadata": {},
   "source": [
    "## Add RO Funding information"
   ]
  },
  {
   "cell_type": "code",
   "execution_count": 233,
   "id": "c5749469-af20-4bb1-8105-d203daa4225d",
   "metadata": {
    "tags": []
   },
   "outputs": [],
   "source": [
    "grant_id=\"101017502\"\n",
    "grant_Name=\"RELIANCE\"\n",
    "grant_title=\"Research Lifecycle Management for Earth Science Communities and Copernicus Users\"\n",
    "funder_name=\"European Commission\"\n",
    "funder_doi=\"10.13039/501100000781\"\n",
    "\n",
    "#ro.set_funding(grant_identifier=grant_id, grant_name=grant_Name, funder_name=funder_name, grant_title=grant_title, funder_doi=funder_doi)"
   ]
  },
  {
   "cell_type": "markdown",
   "id": "9df5260b-45f3-443d-a267-de81347dd029",
   "metadata": {},
   "source": [
    "## Add RO license"
   ]
  },
  {
   "cell_type": "code",
   "execution_count": 234,
   "id": "a6b63732-e59a-4afd-aebe-072aa8650f17",
   "metadata": {},
   "outputs": [],
   "source": [
    "licenses = rohub.list_available_licenses()"
   ]
  },
  {
   "cell_type": "code",
   "execution_count": 235,
   "id": "c26017ad-8ac4-4120-b121-b565bc0ec8a4",
   "metadata": {
    "tags": []
   },
   "outputs": [
    {
     "data": {
      "text/plain": [
       "['0BSD', 'AAL', 'ADSL', 'AFL-1.1', 'AFL-1.2']"
      ]
     },
     "execution_count": 235,
     "metadata": {},
     "output_type": "execute_result"
    }
   ],
   "source": [
    "licenses[0:5]"
   ]
  },
  {
   "cell_type": "code",
   "execution_count": 236,
   "id": "1720bd51-ee45-4092-a88a-f290dd2c7f1b",
   "metadata": {},
   "outputs": [
    {
     "data": {
      "text/plain": [
       "{'identifier': 'MIT',\n",
       " 'title': 'MIT License',\n",
       " 'description': 'MIT License',\n",
       " 'created': '2016-09-12T02:51:35.895509+00:00',\n",
       " 'updated': '2021-10-07T08:21:23.483114+00:00',\n",
       " 'creator': None,\n",
       " 'status': 'active',\n",
       " 'url': 'https://opensource.org/licenses/MIT',\n",
       " 'custom': False}"
      ]
     },
     "execution_count": 236,
     "metadata": {},
     "output_type": "execute_result"
    }
   ],
   "source": [
    "ro.set_license(license_id='MIT') "
   ]
  },
  {
   "cell_type": "markdown",
   "id": "d5ff9bb6-e970-4a56-95bf-3eed86b737c4",
   "metadata": {},
   "source": [
    "## Aggregate Resources\n",
    "\n",
    "- We will be adding all the resources generated by our notebook (data and plots)\n",
    "- Our data and plots can also be shared in B2DROP so we will get the shared link from B2DROP and add it to our research object"
   ]
  },
  {
   "cell_type": "markdown",
   "id": "e9321b46-de48-4f9e-a729-3cc757f99473",
   "metadata": {},
   "source": [
    "### List RO folders for this type of RO"
   ]
  },
  {
   "cell_type": "code",
   "execution_count": 237,
   "id": "b8f82ad3-348f-424b-a239-3818ba3e4280",
   "metadata": {
    "tags": []
   },
   "outputs": [
    {
     "data": {
      "text/html": [
       "<div>\n",
       "<style scoped>\n",
       "    .dataframe tbody tr th:only-of-type {\n",
       "        vertical-align: middle;\n",
       "    }\n",
       "\n",
       "    .dataframe tbody tr th {\n",
       "        vertical-align: top;\n",
       "    }\n",
       "\n",
       "    .dataframe thead th {\n",
       "        text-align: right;\n",
       "    }\n",
       "</style>\n",
       "<table border=\"1\" class=\"dataframe\">\n",
       "  <thead>\n",
       "    <tr style=\"text-align: right;\">\n",
       "      <th></th>\n",
       "      <th>identifier</th>\n",
       "      <th>name</th>\n",
       "      <th>description</th>\n",
       "      <th>creator</th>\n",
       "      <th>created_on</th>\n",
       "      <th>modified_on</th>\n",
       "      <th>path</th>\n",
       "    </tr>\n",
       "  </thead>\n",
       "  <tbody>\n",
       "    <tr>\n",
       "      <th>0</th>\n",
       "      <td>e107aafc-acee-4e2e-b211-e3d2ff81affe</td>\n",
       "      <td>biblio</td>\n",
       "      <td>None</td>\n",
       "      <td>annefou@geo.uio.no</td>\n",
       "      <td>2022-01-18T18:28:05.875544+0000</td>\n",
       "      <td>2022-01-18T18:28:05.876593+0000</td>\n",
       "      <td>biblio</td>\n",
       "    </tr>\n",
       "    <tr>\n",
       "      <th>1</th>\n",
       "      <td>e7994c37-86b7-4072-a06f-71825b41181a</td>\n",
       "      <td>input</td>\n",
       "      <td>None</td>\n",
       "      <td>annefou@geo.uio.no</td>\n",
       "      <td>2022-01-18T18:28:05.875693+0000</td>\n",
       "      <td>2022-01-18T18:28:05.876703+0000</td>\n",
       "      <td>input</td>\n",
       "    </tr>\n",
       "    <tr>\n",
       "      <th>2</th>\n",
       "      <td>ab50dbb5-4132-4d6d-a19d-c31372e941e2</td>\n",
       "      <td>output</td>\n",
       "      <td>None</td>\n",
       "      <td>annefou@geo.uio.no</td>\n",
       "      <td>2022-01-18T18:28:05.875783+0000</td>\n",
       "      <td>2022-01-18T18:28:05.876770+0000</td>\n",
       "      <td>output</td>\n",
       "    </tr>\n",
       "    <tr>\n",
       "      <th>3</th>\n",
       "      <td>da2feea4-1c97-49c0-ab7d-85f5f3344399</td>\n",
       "      <td>tool</td>\n",
       "      <td>None</td>\n",
       "      <td>annefou@geo.uio.no</td>\n",
       "      <td>2022-01-18T18:28:05.875864+0000</td>\n",
       "      <td>2022-01-18T18:28:05.876832+0000</td>\n",
       "      <td>tool</td>\n",
       "    </tr>\n",
       "  </tbody>\n",
       "</table>\n",
       "</div>"
      ],
      "text/plain": [
       "                             identifier    name description  \\\n",
       "0  e107aafc-acee-4e2e-b211-e3d2ff81affe  biblio        None   \n",
       "1  e7994c37-86b7-4072-a06f-71825b41181a   input        None   \n",
       "2  ab50dbb5-4132-4d6d-a19d-c31372e941e2  output        None   \n",
       "3  da2feea4-1c97-49c0-ab7d-85f5f3344399    tool        None   \n",
       "\n",
       "              creator                       created_on  \\\n",
       "0  annefou@geo.uio.no  2022-01-18T18:28:05.875544+0000   \n",
       "1  annefou@geo.uio.no  2022-01-18T18:28:05.875693+0000   \n",
       "2  annefou@geo.uio.no  2022-01-18T18:28:05.875783+0000   \n",
       "3  annefou@geo.uio.no  2022-01-18T18:28:05.875864+0000   \n",
       "\n",
       "                       modified_on    path  \n",
       "0  2022-01-18T18:28:05.876593+0000  biblio  \n",
       "1  2022-01-18T18:28:05.876703+0000   input  \n",
       "2  2022-01-18T18:28:05.876770+0000  output  \n",
       "3  2022-01-18T18:28:05.876832+0000    tool  "
      ]
     },
     "execution_count": 237,
     "metadata": {},
     "output_type": "execute_result"
    }
   ],
   "source": [
    "myfolders = ro.list_folders()\n",
    "myfolders"
   ]
  },
  {
   "cell_type": "markdown",
   "id": "0f4c1732-7431-4c44-b61e-e57b535367d3",
   "metadata": {},
   "source": [
    "## Aggregate internal resources"
   ]
  },
  {
   "cell_type": "markdown",
   "id": "6200c842-c217-44a5-8ecf-7240c2ebb20b",
   "metadata": {},
   "source": [
    "### Add sketch to my RO"
   ]
  },
  {
   "cell_type": "code",
   "execution_count": 238,
   "id": "0908d97c-7db0-4527-9cac-96a135779e1a",
   "metadata": {},
   "outputs": [
    {
     "name": "stdout",
     "output_type": "stream",
     "text": [
      "Resource was successfully created with id = 759450a8-3a93-4fea-a270-3c5d6187aee3\n"
     ]
    },
    {
     "data": {
      "text/plain": [
       "Resource(identifier=759450a8-3a93-4fea-a270-3c5d6187aee3, post_request=False)"
      ]
     },
     "execution_count": 238,
     "metadata": {},
     "output_type": "execute_result"
    }
   ],
   "source": [
    "res_file_path = os.path.join(OUTPUT_DATA_DIR, 'PM10_september_FR_2019-2021.png')\n",
    "res_res_type = \"Sketch\"\n",
    "res_title = \"Particule matter < 10 μm [μg/m3] over France for September 2019, 2020 and 2021\"\n",
    "res_description = \"Monthly average maps of CAMS Particule matter < 10 μm [μg/m3] over France in 2019, 2020 and 2021\"\n",
    "res_folder =  myfolders[myfolders['name'] == 'output'].iloc[0]['identifier']\n",
    "\n",
    "ro.add_internal_resource(res_type=res_res_type, file_path=res_file_path, title=res_title, description=res_description, folder=res_folder)"
   ]
  },
  {
   "cell_type": "markdown",
   "id": "e8b80472-19c3-4e21-a3ae-2b606d918ff2",
   "metadata": {},
   "source": [
    "## Aggregate external resources"
   ]
  },
  {
   "cell_type": "markdown",
   "id": "e855b117-90d5-468a-92f7-2a24c6573f90",
   "metadata": {},
   "source": [
    "###  Get shared link from datahub\n",
    "1. Retrieve your client identifier, client secret and refresh token from https://aai.egi.eu/fedcloud/\n",
    "2. Create a new file in your HOME area for instance using nano (keep `$` character in front of HOME; this is meant to be an environment variable):\n",
    "```\n",
    "nano $HOME/egi_fedcloud.cfg\n",
    "```\n",
    "3. paste your client identifier, client secret and refresh token using the following syntax (do not forget `{` and `}` as well as comma `,` and columns `:`\n",
    "```\n",
    "{\n",
    "\"id\": \"XXXXXXXXXXXXXXXXX\",\n",
    "\"secret\": \"YYYYYYYYYYYYYYYYYYYYYYYYYYYYYYY\",\n",
    "\"token\": \"ffffffffffffffffffffffff\"\n",
    "}\n",
    "```\n",
    "4. You are ready to go. If you have issues, check first that the syntax is correct in your egi_fedcloud.cfg, that this file is located in the correct folder and than finally that your refresh token is still valid (check on https://aai.egi.eu/fedcloud/)"
   ]
  },
  {
   "cell_type": "code",
   "execution_count": 239,
   "id": "34371d8a-5192-4356-a3c3-040b0de3e469",
   "metadata": {},
   "outputs": [],
   "source": [
    "import os\n",
    "import json\n",
    "import requests\n",
    "import datetime\n",
    "import shutil"
   ]
  },
  {
   "cell_type": "markdown",
   "id": "3c6ab5eb-e1cb-41b1-b899-4891504bb7fa",
   "metadata": {},
   "source": [
    "#### EGI Datahub functions to initialize EGI datahub and get shared link"
   ]
  },
  {
   "cell_type": "code",
   "execution_count": 240,
   "id": "dfadd3d8-2d04-4ca5-aa43-dec5b5ebf418",
   "metadata": {},
   "outputs": [],
   "source": [
    "def egi_datahub_init():\n",
    "    egi_fedcloud_filename = os.path.join(os.environ['HOME'], 'egi_fedcloud.cfg')\n",
    "    with open(egi_fedcloud_filename, 'r') as convert_file:\n",
    "        tmp = convert_file.read()\n",
    "        egi_fedcloud_auth = json.loads(tmp)\n",
    "        try:\n",
    "            # Retrieving an OIDC token from Check-in\n",
    "            data = {\n",
    "                'client_id': egi_fedcloud_auth['id'],\n",
    "                'client_secret': egi_fedcloud_auth['secret'],\n",
    "                'refresh_token': egi_fedcloud_auth['token'],\n",
    "                'scope': 'openid email profile',\n",
    "                'grant_type': 'refresh_token'\n",
    "            }\n",
    "            response = requests.post('https://aai.egi.eu/oidc/token', data=data, auth=(egi_fedcloud_auth['id'], \n",
    "                                                                                       egi_fedcloud_auth['secret']))\n",
    "            #print(json.dumps(response.json(), indent=2))\n",
    "            EGItoken = response.json()['access_token']\n",
    "            headers = {\n",
    "                'X-Auth-Token': f\"egi:\" + EGItoken,\n",
    "                'Content-type': 'application/json',\n",
    "            }\n",
    "            # get current timestamp\n",
    "            ts = datetime.datetime.now().timestamp()\n",
    "            data = json.dumps({ \n",
    "                'name': 'REST and CDMI access token ' + str(ts), \n",
    "                'type': { \n",
    "                    'accessToken': {} \n",
    "                }, \n",
    "                'caveats': [ { \n",
    "                    'type': 'interface', \n",
    "                    'interface': 'rest' \n",
    "                }] \n",
    "            })\n",
    "\n",
    "            response = requests.post('https://datahub.egi.eu/api/v3/onezone/user/tokens/named', headers=headers, data=data)\n",
    "            DATAHUB_TOKEN = response.json()['token']\n",
    "            return DATAHUB_TOKEN\n",
    "        except:\n",
    "            print(\"EGI Datahub Authentication problem: check your credentials\")"
   ]
  },
  {
   "cell_type": "code",
   "execution_count": 241,
   "id": "e348c819-cb8d-4457-ae3c-6e5f5c40f85d",
   "metadata": {},
   "outputs": [],
   "source": [
    "def egi_datahub_getlink(datahub_token, filename):\n",
    "    bname = os.path.basename(filename)\n",
    "    datahub_remote_prefix = 'https://cesnet-oneprovider-01.datahub.egi.eu/api/v3/oneprovider/files/'\n",
    "    hname = filename.split('datahub/')[1]\n",
    "    datahub_location = os.path.join(datahub_remote_prefix, hname)\n",
    "    print(datahub_location)\n",
    "    headers = { 'X-Auth-Token': datahub_token }\n",
    "    response = requests.get(datahub_location, headers=headers)\n",
    "    dh_fileid = response.json()[0]['id']\n",
    "    \n",
    "    headers = { 'X-Auth-Token': datahub_token, 'Content-Type': 'application/json',}\n",
    "    data = json.dumps({ 'name': bname,\n",
    "    'fileId': dh_fileid\n",
    "    })\n",
    "    response = requests.post('https://cesnet-oneprovider-01.datahub.egi.eu/api/v3/oneprovider/shares', headers=headers, data=data)\n",
    "    # print(json.dumps(response.json(), indent=2))\n",
    "    shareIdGenerated=response.json()['shareId']\n",
    "    \n",
    "    headers = {'X-Auth-Token': datahub_token}\n",
    "    response = requests.get('https://cesnet-oneprovider-01.datahub.egi.eu/api/v3/oneprovider/shares/'+shareIdGenerated, headers=headers) \n",
    "    # print(json.dumps(response.json(), indent=2))\n",
    "    publicURL = response.json()['publicUrl']\n",
    "    return publicURL"
   ]
  },
  {
   "cell_type": "markdown",
   "id": "e751890a-e99b-4afd-94c0-5d390bfce105",
   "metadata": {},
   "source": [
    "### EGI DataHub initialization "
   ]
  },
  {
   "cell_type": "code",
   "execution_count": 242,
   "id": "837cbef8-1f87-435f-89d4-598df91c22d9",
   "metadata": {},
   "outputs": [],
   "source": [
    "DATAHUB_TOKEN = egi_datahub_init()"
   ]
  },
  {
   "cell_type": "markdown",
   "id": "2d6e6e90-4f5a-4bb0-a4b6-caf96debaf88",
   "metadata": {},
   "source": [
    "## Add inputs to my RO\n",
    "- I used ADAM to retrieve relevant data but to avoid my collaborators to re-download input data, I will be sharing what I retrieved from the data cube."
   ]
  },
  {
   "cell_type": "markdown",
   "id": "80b71bd0-b1ca-40e1-b389-5158a2505454",
   "metadata": {},
   "source": [
    "#### Geojson file used for rertieving data from ADAM data-cube"
   ]
  },
  {
   "cell_type": "code",
   "execution_count": 244,
   "id": "7009d65a-a7e9-4165-91b5-22fa3e22854c",
   "metadata": {},
   "outputs": [
    {
     "name": "stdout",
     "output_type": "stream",
     "text": [
      "/home/jovyan/datahub/Reliance/Climate/input/fra.geo.json\n",
      "https://cesnet-oneprovider-01.datahub.egi.eu/api/v3/oneprovider/files/Reliance/Climate/input/fra.geo.json\n",
      "Resource was successfully created with id = 39998d72-f5b0-4288-be3c-33685ea5157b\n"
     ]
    },
    {
     "data": {
      "text/plain": [
       "Resource(identifier=39998d72-f5b0-4288-be3c-33685ea5157b, post_request=False)"
      ]
     },
     "execution_count": 244,
     "metadata": {},
     "output_type": "execute_result"
    }
   ],
   "source": [
    "shared_input_path = os.path.join(INPUT_DATA_DIR, 'fra.geo.json')\n",
    "print(shared_input_path)\n",
    "res_file_url = egi_datahub_getlink(DATAHUB_TOKEN, shared_input_path)\n",
    "res_type = \"Dataset\"\n",
    "res_title = \"Geojson for France\"\n",
    "res_description = \"Geojson file used for retrieving data from the ADAM platform over France\"\n",
    "res_folder = myfolders[myfolders['name'] == 'input'].iloc[0]['identifier']\n",
    "ro.add_external_resource(res_type=res_type, url=res_file_url, title=res_title, description=res_description, folder=res_folder)"
   ]
  },
  {
   "cell_type": "markdown",
   "id": "3321bbac-3d1a-48b4-91a0-5ba0cd3e3435",
   "metadata": {},
   "source": [
    "#### Input data retrieved from ADAM data-cube"
   ]
  },
  {
   "cell_type": "code",
   "execution_count": 245,
   "id": "e48c303a-f07e-47c3-aa9c-9f6b89e4a2f1",
   "metadata": {},
   "outputs": [
    {
     "name": "stdout",
     "output_type": "stream",
     "text": [
      "/home/jovyan/datahub/Reliance/Climate/input/PM10_FR_ADAMAPI_2019\n",
      "https://cesnet-oneprovider-01.datahub.egi.eu/api/v3/oneprovider/files/Reliance/Climate/input/PM10_FR_ADAMAPI_2019\n",
      "Resource was successfully created with id = 0a5aac29-0ec5-4ebf-aacb-e68970f7bfff\n",
      "/home/jovyan/datahub/Reliance/Climate/input/PM10_FR_ADAMAPI_2020\n",
      "https://cesnet-oneprovider-01.datahub.egi.eu/api/v3/oneprovider/files/Reliance/Climate/input/PM10_FR_ADAMAPI_2020\n",
      "Resource was successfully created with id = 0e1c4d37-1802-483a-beea-de120ed93c67\n",
      "/home/jovyan/datahub/Reliance/Climate/input/PM10_FR_ADAMAPI_2021\n",
      "https://cesnet-oneprovider-01.datahub.egi.eu/api/v3/oneprovider/files/Reliance/Climate/input/PM10_FR_ADAMAPI_2021\n",
      "Resource was successfully created with id = ee5f9da0-4885-4cbc-bb57-c202f110c412\n"
     ]
    }
   ],
   "source": [
    "for year in ['2019', '2020', '2021']:\n",
    "    shared_input_path = os.path.join(INPUT_DATA_DIR, 'PM10_FR_ADAMAPI_' + year)\n",
    "    print(shared_input_path)\n",
    "    res_file_url = egi_datahub_getlink(DATAHUB_TOKEN, shared_input_path)\n",
    "    res_type = \"Data Cube Product\"\n",
    "    res_title = \"Data-Cube from ADAM platform over France in September \" + year\n",
    "    res_description = \"This dataset is a data-Cube retrieved from the ADAM platform over France in September \" + year\n",
    "    res_folder = myfolders[myfolders['name'] == 'input'].iloc[0]['identifier']\n",
    "    ro.add_external_resource(res_type=res_type, url=res_file_url, title=res_title, description=res_description, folder=res_folder)"
   ]
  },
  {
   "cell_type": "markdown",
   "id": "30a76383-0dd3-4be5-832e-23ddfc39618e",
   "metadata": {},
   "source": [
    "### Add our Jupyter Notebook to our RO\n",
    "- Make a copy of the current notebook to the tool folder for sharing as an external resources"
   ]
  },
  {
   "cell_type": "code",
   "execution_count": 246,
   "id": "2ea55433-5a43-4146-8f2f-ad6a3b6203fa",
   "metadata": {},
   "outputs": [],
   "source": [
    "notebook_filename = 'RELIANCE_v0.2-France.ipynb'\n",
    "local_notebook_path = os.path.join('./', notebook_filename)\n",
    "shared_notebook_path = os.path.join(TOOL_DATA_DIR, notebook_filename)"
   ]
  },
  {
   "cell_type": "code",
   "execution_count": 247,
   "id": "fe99f43a-af32-48f3-907c-951e6e08af07",
   "metadata": {},
   "outputs": [
    {
     "data": {
      "text/plain": [
       "'/home/jovyan/datahub/Reliance/Climate/tool/RELIANCE_v0.2-France.ipynb'"
      ]
     },
     "execution_count": 247,
     "metadata": {},
     "output_type": "execute_result"
    }
   ],
   "source": [
    "shared_notebook_path"
   ]
  },
  {
   "cell_type": "markdown",
   "id": "f2de8314-561a-4100-b0d4-b6e6e6b34351",
   "metadata": {},
   "source": [
    "#### Copy current notebook to shared datahub "
   ]
  },
  {
   "cell_type": "code",
   "execution_count": 248,
   "id": "08ba4a2c-76d7-470c-b85e-3965a7ff3de9",
   "metadata": {},
   "outputs": [
    {
     "data": {
      "text/plain": [
       "'/home/jovyan/datahub/Reliance/Climate/tool/RELIANCE_v0.2-France.ipynb'"
      ]
     },
     "execution_count": 248,
     "metadata": {},
     "output_type": "execute_result"
    }
   ],
   "source": [
    "bkfile = shared_notebook_path + '.bak'\n",
    "if os.path.exists(bkfile):\n",
    "    os.remove(bkfile)\n",
    "os.rename(shared_notebook_path, bkfile)\n",
    "shutil.copy2(local_notebook_path, shared_notebook_path)"
   ]
  },
  {
   "cell_type": "markdown",
   "id": "d0f4098b-e8b1-49e4-851c-8d164380f3d4",
   "metadata": {},
   "source": [
    "### Create a shared link for my Jupyter Notebook"
   ]
  },
  {
   "cell_type": "markdown",
   "id": "792f515b-988b-44d2-a555-57f961c166cc",
   "metadata": {},
   "source": [
    "#### Get public URL from EGI Datahub to share link in RO "
   ]
  },
  {
   "cell_type": "code",
   "execution_count": 249,
   "id": "ae96b55c-f027-410a-bd31-17590b2baf6c",
   "metadata": {
    "tags": []
   },
   "outputs": [
    {
     "name": "stdout",
     "output_type": "stream",
     "text": [
      "https://cesnet-oneprovider-01.datahub.egi.eu/api/v3/oneprovider/files/Reliance/Climate/tool/RELIANCE_v0.2-France.ipynb\n",
      "Resource was successfully created with id = 4fe02379-adae-4606-ba4f-287a4f81d287\n"
     ]
    },
    {
     "data": {
      "text/plain": [
       "Resource(identifier=4fe02379-adae-4606-ba4f-287a4f81d287, post_request=False)"
      ]
     },
     "execution_count": 249,
     "metadata": {},
     "output_type": "execute_result"
    }
   ],
   "source": [
    "res_file_url = egi_datahub_getlink(DATAHUB_TOKEN, shared_notebook_path)\n",
    "res_type = \"Jupyter Notebook\"\n",
    "res_title = \"Jupyter Notebook of CAMS European air quality analysis from Copernicus Atmosphere Monitoring with RELIANCE services\"\n",
    "res_description = \"Jupyter Notebook for discovering, accessing and processing RELIANCE data cube, and creating a Research Object with results, and finally publish it in Zenodo\"\n",
    "res_folder = myfolders[myfolders['name'] == 'tool'].iloc[0]['identifier']\n",
    "ro.add_external_resource(res_type=res_type, url=res_file_url, title=res_title, description=res_description, folder=res_folder)"
   ]
  },
  {
   "cell_type": "markdown",
   "id": "174a59a9-528d-477d-95c2-d6a61a00bca9",
   "metadata": {},
   "source": [
    "#### Add first plot as Image to my Research Object (external resource from EGI Datahub)"
   ]
  },
  {
   "cell_type": "code",
   "execution_count": 250,
   "id": "bb7f9de9-cb74-4ddf-a525-113145d1a2c7",
   "metadata": {
    "tags": []
   },
   "outputs": [
    {
     "name": "stdout",
     "output_type": "stream",
     "text": [
      "/home/jovyan/datahub/Reliance/Climate/output/PM10_september_FR_2019-2021.png\n",
      "https://cesnet-oneprovider-01.datahub.egi.eu/api/v3/oneprovider/files/Reliance/Climate/output/PM10_september_FR_2019-2021.png\n",
      "Resource was successfully created with id = 81a79803-e68c-49e8-92ef-e31ac47040d2\n"
     ]
    },
    {
     "data": {
      "text/plain": [
       "Resource(identifier=81a79803-e68c-49e8-92ef-e31ac47040d2, post_request=False)"
      ]
     },
     "execution_count": 250,
     "metadata": {},
     "output_type": "execute_result"
    }
   ],
   "source": [
    "shared_plot_path = os.path.join(OUTPUT_DATA_DIR, 'PM10_september_FR_2019-2021.png')\n",
    "print(shared_plot_path)\n",
    "res_file_url = egi_datahub_getlink(DATAHUB_TOKEN, shared_plot_path)\n",
    "res_type = \"Image\"\n",
    "res_title = \"Particule matter < 10 μm [μg/m3] over France for September 2019, 2020 and 2021\"\n",
    "res_description = \"Monthly average maps of CAMS Particule matter < 10 μm [μg/m3] over France in 2019, 2020 and 2021\"\n",
    "res_folder = myfolders[myfolders['name'] == 'output'].iloc[0]['identifier']\n",
    "ro.add_external_resource(res_type=res_type, url=res_file_url, title=res_title, description=res_description, folder=res_folder)"
   ]
  },
  {
   "cell_type": "markdown",
   "id": "4233eaa8-a6bd-4d86-b6fd-e5ed675ac944",
   "metadata": {},
   "source": [
    "#### Add second plot as Image to my Research Object (external resource from EGI Datahub)"
   ]
  },
  {
   "cell_type": "code",
   "execution_count": 251,
   "id": "c44512c5-a989-45a8-9b47-a66c8e0bc3c1",
   "metadata": {},
   "outputs": [
    {
     "name": "stdout",
     "output_type": "stream",
     "text": [
      "https://cesnet-oneprovider-01.datahub.egi.eu/api/v3/oneprovider/files/Reliance/Climate/output/PM10_september_FR_2021-09-15.png\n",
      "Resource was successfully created with id = de7387fe-96e1-4945-afdd-87d7055f5399\n"
     ]
    },
    {
     "data": {
      "text/plain": [
       "Resource(identifier=de7387fe-96e1-4945-afdd-87d7055f5399, post_request=False)"
      ]
     },
     "execution_count": 251,
     "metadata": {},
     "output_type": "execute_result"
    }
   ],
   "source": [
    "shared_plot_path = os.path.join(OUTPUT_DATA_DIR, 'PM10_september_FR_2021-09-15.png')\n",
    "res_file_url = egi_datahub_getlink(DATAHUB_TOKEN, shared_plot_path)\n",
    "res_type=\"Image\"\n",
    "res_title=\"Particule matter < 10 μm [μg/m3] over France on September 15, 2021\"\n",
    "res_description=\"Daily average maps of CAMS Particule matter < 10 μm [μg/m3] over France on September 15, 2021\"\n",
    "ro.add_external_resource(res_type=res_type, url=res_file_url, title=res_title, description=res_description, folder=res_folder)"
   ]
  },
  {
   "cell_type": "markdown",
   "id": "14bb1a0d-faf8-401c-aff9-f3409d3b95bb",
   "metadata": {},
   "source": [
    "#### Add timeseries for Paris (external resource from EGI Datahub)"
   ]
  },
  {
   "cell_type": "code",
   "execution_count": 252,
   "id": "ffed6799-8751-4623-9f73-d93fea1135b6",
   "metadata": {},
   "outputs": [
    {
     "name": "stdout",
     "output_type": "stream",
     "text": [
      "https://cesnet-oneprovider-01.datahub.egi.eu/api/v3/oneprovider/files/Reliance/Climate/output/timeseries_paris_september2021.csv\n",
      "Resource was successfully created with id = 030e5afa-283e-43f0-b572-01b60c65c6ca\n"
     ]
    },
    {
     "data": {
      "text/plain": [
       "Resource(identifier=030e5afa-283e-43f0-b572-01b60c65c6ca, post_request=False)"
      ]
     },
     "execution_count": 252,
     "metadata": {},
     "output_type": "execute_result"
    }
   ],
   "source": [
    "shared_plot_path = os.path.join(OUTPUT_DATA_DIR, 'timeseries_paris_september2021.csv')\n",
    "res_file_url = egi_datahub_getlink(DATAHUB_TOKEN, shared_plot_path)\n",
    "res_type=\"Result\"\n",
    "res_title=\"Timeseries of particule matter < 10 μm [μg/m3] over Paris in september 2021\"\n",
    "res_description=\"Daily average of CAMS Particule matter < 10 μm [μg/m3] over Paris in September 2021\"\n",
    "ro.add_external_resource(res_type=res_type, url=res_file_url, title=res_title, description=res_description, folder=res_folder)"
   ]
  },
  {
   "cell_type": "markdown",
   "id": "92b3e6eb-14a9-4f65-936f-2eb061688b4f",
   "metadata": {},
   "source": [
    "#### Add netCDF file corresponding to Data cube selection (external resource from EGI Datahub)"
   ]
  },
  {
   "cell_type": "code",
   "execution_count": 253,
   "id": "dd008fe4-c185-4567-a717-1ba03dee4bc9",
   "metadata": {},
   "outputs": [
    {
     "name": "stdout",
     "output_type": "stream",
     "text": [
      "https://cesnet-oneprovider-01.datahub.egi.eu/api/v3/oneprovider/files/Reliance/Climate/output/PM10_september_FR_2019-2021.nc\n",
      "Resource was successfully created with id = 9c8e8af4-6999-43d3-ad00-0c482ec7384b\n"
     ]
    },
    {
     "data": {
      "text/plain": [
       "Resource(identifier=9c8e8af4-6999-43d3-ad00-0c482ec7384b, post_request=False)"
      ]
     },
     "execution_count": 253,
     "metadata": {},
     "output_type": "execute_result"
    }
   ],
   "source": [
    "shared_plot_path = os.path.join(OUTPUT_DATA_DIR, 'PM10_september_FR_2019-2021.nc')\n",
    "res_file_url = egi_datahub_getlink(DATAHUB_TOKEN, shared_plot_path)\n",
    "res_type=\"Result\"\n",
    "res_title=\"netCDF data for daily PM10 concentration over France in September 2019, 2020 and 2021\"\n",
    "res_description=\"netCDF data corresponding to daily average of CAMS Particule matter < 10 μm [μg/m3] over France for September 2019, September 2020 and September 2021\"\n",
    "ro.add_external_resource(res_type=res_type, url=res_file_url, title=res_title, description=res_description, folder=res_folder)"
   ]
  },
  {
   "cell_type": "markdown",
   "id": "9fd455a2-6217-45c7-a69f-1249e82780be",
   "metadata": {},
   "source": [
    "## Additional metadata for the RO"
   ]
  },
  {
   "cell_type": "code",
   "execution_count": 254,
   "id": "d2ac9cfb-4118-4a5d-8ea0-28e59a161e8c",
   "metadata": {
    "tags": []
   },
   "outputs": [],
   "source": [
    "#ro.add_annotations(\"EOSC Jupyter Notebook\")\n",
    "#ro.add_annotations(\"Pangeo Notebook\")"
   ]
  },
  {
   "cell_type": "markdown",
   "id": "8503028a-155b-4f37-a357-81cd08a23b79",
   "metadata": {},
   "source": [
    "### Add geolocation to my Research Object\n",
    "- We need to transform our geojson file to geojson-ld"
   ]
  },
  {
   "cell_type": "code",
   "execution_count": 255,
   "id": "fa9ea80e-df4c-4e01-97a3-c1d665e3a540",
   "metadata": {},
   "outputs": [],
   "source": [
    "geojson_ld_file = os.path.join(INPUT_DATA_DIR, 'fra.geo-ld.json')\n",
    "bkfile = geojson_ld_file + '.bak'\n",
    "if os.path.exists(bkfile):\n",
    "    os.remove(bkfile)\n",
    "os.rename(geojson_ld_file, bkfile)\n",
    "shutil.copy2(os.path.join(INPUT_DATA_DIR, 'fra.geo.json'), geojson_ld_file)\n",
    "with open(geojson_ld_file , 'r+') as f:\n",
    "    data = json.load(f)\n",
    "    data['@context'] = { \"geojson\": \"https://purl.org/geojson/vocab#\" } \n",
    "    f.seek(0)        \n",
    "    json.dump(data, f, indent=None)\n",
    "    f.truncate()"
   ]
  },
  {
   "cell_type": "code",
   "execution_count": 256,
   "id": "5fabc44a-0519-4b5b-b747-8e0fc044ad0b",
   "metadata": {
    "tags": []
   },
   "outputs": [
    {
     "data": {
      "text/plain": [
       "[{'identifier': '4b10ec21-8232-4aee-b23d-ee9f37dce383',\n",
       "  'name': 'annotations/4b10ec21-8232-4aee-b23d-ee9f37dce383',\n",
       "  'filename': '.ro/annotations/4b10ec21-8232-4aee-b23d-ee9f37dce383.ttl',\n",
       "  'relation': False,\n",
       "  'read_only': False,\n",
       "  'target': 'b13d7b6a-66bf-40df-84c8-f9c88775b6c1',\n",
       "  'ro': 'b13d7b6a-66bf-40df-84c8-f9c88775b6c1',\n",
       "  'resources': [],\n",
       "  'created': '2022-01-18T18:30:45.529314+0000',\n",
       "  'creator': 'annefou@geo.uio.no',\n",
       "  'modificator': None,\n",
       "  'modified': '2022-01-18T18:30:45.529243+0000',\n",
       "  'authors_credits': ['annefou@geo.uio.no'],\n",
       "  'contributors_credits': [],\n",
       "  'api_link': 'https://api.rohub.org/api/annotations/4b10ec21-8232-4aee-b23d-ee9f37dce383/'}]"
      ]
     },
     "execution_count": 256,
     "metadata": {},
     "output_type": "execute_result"
    }
   ],
   "source": [
    "geolocation_file_path = os.path.join(INPUT_DATA_DIR, 'fra.geo-ld.json') \n",
    "ro.add_geolocation(body_specification_json=geolocation_file_path)"
   ]
  },
  {
   "cell_type": "markdown",
   "id": "5a3a8e18-c457-4577-b30f-4dfad3448997",
   "metadata": {},
   "source": [
    "### Export to RO-crate"
   ]
  },
  {
   "cell_type": "code",
   "execution_count": 257,
   "id": "7e35fe3b-c7fd-48f4-9549-e1d438eabf01",
   "metadata": {},
   "outputs": [
    {
     "name": "stdout",
     "output_type": "stream",
     "text": [
      "File was successfully downloaded.\n"
     ]
    }
   ],
   "source": [
    "ro.export_to_rocrate(filename=\"climate_EU-CAMS_ro-crate\", use_format=\"zip\")"
   ]
  },
  {
   "cell_type": "markdown",
   "id": "5899f543-fc33-4bfc-aba8-fe2351efbf8a",
   "metadata": {
    "tags": [
     "EOSC",
     "Jupyter",
     "Notebook",
     "Pangeo"
    ]
   },
   "source": [
    "### Take a snapshot of my RO"
   ]
  },
  {
   "cell_type": "code",
   "execution_count": 258,
   "id": "57ac1fb9-fdbf-4325-8095-a8fcc1bedb9d",
   "metadata": {},
   "outputs": [
    {
     "name": "stdout",
     "output_type": "stream",
     "text": [
      "Trying to confirm status of the job. It can take a while...\n"
     ]
    }
   ],
   "source": [
    "snapshot_id=ro.snapshot()"
   ]
  },
  {
   "cell_type": "markdown",
   "id": "23626464-5bc4-458f-9826-f106b22c159a",
   "metadata": {},
   "source": [
    "### Archive and publish to Zenodo, optionally assign DOI "
   ]
  },
  {
   "cell_type": "code",
   "execution_count": null,
   "id": "f55b77a8-dcef-4544-8681-cb894951b156",
   "metadata": {},
   "outputs": [],
   "source": [
    "snapshot_title=\"Jupyter Notebook Analysing the Air quality during Covid-19 pandemic using Copernicus Atmosphere Monitoring Service\"\n",
    "snapshot_id_pub=ro.snapshot(title=snapshot_title, create_doi=True, publication_services=[\"Zenodo\"])\n",
    "snapshot_id_pub"
   ]
  },
  {
   "cell_type": "markdown",
   "id": "33b6ef6e-d811-40e2-9852-e92925324939",
   "metadata": {},
   "source": [
    "### Load the published Research Object"
   ]
  },
  {
   "cell_type": "code",
   "execution_count": null,
   "id": "0c96bf47-7bd6-49db-8107-0267210beaec",
   "metadata": {
    "tags": []
   },
   "outputs": [],
   "source": [
    "published_ro = rohub.ros_load(identifier=snapshot_id)"
   ]
  },
  {
   "cell_type": "markdown",
   "id": "5f36bdf4-06a0-4511-a376-3a5d5fe99c37",
   "metadata": {},
   "source": [
    "### Show the DOI and get the link"
   ]
  },
  {
   "cell_type": "code",
   "execution_count": null,
   "id": "0cb0e238-72cb-4817-a531-7a035e503046",
   "metadata": {},
   "outputs": [],
   "source": [
    "published_ro.show_publication()"
   ]
  },
  {
   "cell_type": "markdown",
   "id": "a6ccc5b0-23bb-4159-833a-57fb1b45f4f4",
   "metadata": {},
   "source": [
    "### Fork and reuse existing RO to create derivative work"
   ]
  },
  {
   "cell_type": "code",
   "execution_count": null,
   "id": "9d4482db-b29b-417a-9654-3cb9197566e6",
   "metadata": {},
   "outputs": [],
   "source": [
    "fork_id=ro.fork(title=\"Forked Jupyter Notebook to analyze  the Air quality during Covid-19 pandemic using Copernicus Atmosphere Monitoring Servic\")\n",
    "forked_ro = rohub.ros_load(identifier=fork_id)\n",
    "forked_ro.show_metadata()"
   ]
  }
 ],
 "metadata": {
  "kernelspec": {
   "display_name": "Python 3",
   "language": "python",
   "name": "python3"
  },
  "language_info": {
   "codemirror_mode": {
    "name": "ipython",
    "version": 3
   },
   "file_extension": ".py",
   "mimetype": "text/x-python",
   "name": "python",
   "nbconvert_exporter": "python",
   "pygments_lexer": "ipython3",
   "version": "3.8.8"
  }
 },
 "nbformat": 4,
 "nbformat_minor": 5
}
