{
 "cells": [
  {
   "cell_type": "markdown",
   "id": "683cb732-de3a-4a88-becc-e46067707248",
   "metadata": {},
   "source": [
    "# Example to use Rohub from Jupyter notebook"
   ]
  },
  {
   "cell_type": "markdown",
   "id": "47c3f55b-9d3b-498f-8e27-f5284dfe5062",
   "metadata": {},
   "source": [
    "## Install library if not present"
   ]
  },
  {
   "cell_type": "code",
   "execution_count": 1,
   "id": "c173b019-6119-42c0-9f3d-58ea2623cd91",
   "metadata": {},
   "outputs": [
    {
     "name": "stdout",
     "output_type": "stream",
     "text": [
      "Requirement already satisfied: rohub in /opt/conda/lib/python3.8/site-packages (1.0.2)\n",
      "Requirement already satisfied: requests in /opt/conda/lib/python3.8/site-packages (from rohub) (2.25.1)\n",
      "Requirement already satisfied: pandas in /opt/conda/lib/python3.8/site-packages (from rohub) (1.2.4)\n",
      "Requirement already satisfied: python-dateutil>=2.7.3 in /opt/conda/lib/python3.8/site-packages (from pandas->rohub) (2.8.1)\n",
      "Requirement already satisfied: pytz>=2017.3 in /opt/conda/lib/python3.8/site-packages (from pandas->rohub) (2021.1)\n",
      "Requirement already satisfied: numpy>=1.16.5 in /opt/conda/lib/python3.8/site-packages (from pandas->rohub) (1.19.5)\n",
      "Requirement already satisfied: six>=1.5 in /opt/conda/lib/python3.8/site-packages (from python-dateutil>=2.7.3->pandas->rohub) (1.15.0)\n",
      "Requirement already satisfied: urllib3<1.27,>=1.21.1 in /opt/conda/lib/python3.8/site-packages (from requests->rohub) (1.26.4)\n",
      "Requirement already satisfied: idna<3,>=2.5 in /opt/conda/lib/python3.8/site-packages (from requests->rohub) (2.10)\n",
      "Requirement already satisfied: certifi>=2017.4.17 in /opt/conda/lib/python3.8/site-packages (from requests->rohub) (2021.10.8)\n",
      "Requirement already satisfied: chardet<5,>=3.0.2 in /opt/conda/lib/python3.8/site-packages (from requests->rohub) (4.0.0)\n",
      "Note: you may need to restart the kernel to use updated packages.\n"
     ]
    }
   ],
   "source": [
    "pip install rohub"
   ]
  },
  {
   "cell_type": "markdown",
   "id": "aba5dfa9-e883-4e72-b075-019dec8f5414",
   "metadata": {},
   "source": [
    "## Import library"
   ]
  },
  {
   "cell_type": "code",
   "execution_count": 2,
   "id": "8c6dfaad-cbf1-49be-8b2e-786e18c2e701",
   "metadata": {},
   "outputs": [],
   "source": [
    "import rohub"
   ]
  },
  {
   "cell_type": "markdown",
   "id": "6098e656-4d19-4d95-93ff-eca550195d05",
   "metadata": {},
   "source": [
    "## Authenticate"
   ]
  },
  {
   "cell_type": "markdown",
   "id": "eb2f6f21-e5a8-42a1-9a23-cfd8566de43c",
   "metadata": {},
   "source": [
    "- you need to create two files in /home/jovyan\n",
    "- rohub-user: contains your rohub username\n",
    "- rohub-pwd: add your password in this file"
   ]
  },
  {
   "cell_type": "code",
   "execution_count": 3,
   "id": "095bc66a-07be-41bf-98ec-0e5004e63c19",
   "metadata": {},
   "outputs": [
    {
     "name": "stdout",
     "output_type": "stream",
     "text": [
      "Logged successfully as annefou@geo.uio.no.\n"
     ]
    }
   ],
   "source": [
    "rohub_user = open(\"/home/jovyan/rohub-user\").read().rstrip()\n",
    "rohub_pwd = open(\"/home/jovyan/rohub-pwd\").read().rstrip()\n",
    "rohub.login(username=rohub_user, password=rohub_pwd)\n",
    "#rohub_client_id = open(\"/home/jovyan/rohub-client_id\").read().rstrip()\n",
    "#rohub_client_secret = open(\"/home/jovyan/rohub-client_secret\").read().rstrip()\n",
    "#rohub.login(client_id=rohub_client_id, client_secret=rohub_client_secret)"
   ]
  },
  {
   "cell_type": "markdown",
   "id": "cce19bd6-aa59-473e-9799-22b206aa8b96",
   "metadata": {},
   "source": [
    "## RO methods"
   ]
  },
  {
   "cell_type": "markdown",
   "id": "2ef46bd8-35d7-4564-9754-997df908c1d7",
   "metadata": {},
   "source": [
    "### Create new RO"
   ]
  },
  {
   "cell_type": "code",
   "execution_count": 4,
   "id": "e4951753-eace-4321-9884-f2e96e3ebe4d",
   "metadata": {},
   "outputs": [
    {
     "name": "stdout",
     "output_type": "stream",
     "text": [
      "Research Object was successfully created with id = 08d413f9-e434-4d50-a7ee-39b034f40ae0\n"
     ]
    }
   ],
   "source": [
    "ro_title=\"8th December - Copernicus Atmosphere Monitoring Service Data Cube Research Object\"\n",
    "ro_research_areas=[\"Earth sciences\"]\n",
    "ro_description=\"This Research Object demonstrate how to compute monthly map of PM10 over your country\"\n",
    "ro_ros_type=\"Data-centric Research Object\"\n",
    "\n",
    "ro = rohub.ros_create(title=ro_title, research_areas=ro_research_areas, description=ro_description, ros_type=ro_ros_type, use_template=True)\n"
   ]
  },
  {
   "cell_type": "markdown",
   "id": "8ded8f65-5e90-4245-a47e-0666bdcb3b74",
   "metadata": {},
   "source": [
    "### Find ROs"
   ]
  },
  {
   "cell_type": "code",
   "execution_count": 5,
   "id": "bcf0cf34-36a8-41a5-b289-0ee6c85daf5e",
   "metadata": {},
   "outputs": [
    {
     "data": {
      "text/html": [
       "<div>\n",
       "<style scoped>\n",
       "    .dataframe tbody tr th:only-of-type {\n",
       "        vertical-align: middle;\n",
       "    }\n",
       "\n",
       "    .dataframe tbody tr th {\n",
       "        vertical-align: top;\n",
       "    }\n",
       "\n",
       "    .dataframe thead th {\n",
       "        text-align: right;\n",
       "    }\n",
       "</style>\n",
       "<table border=\"1\" class=\"dataframe\">\n",
       "  <thead>\n",
       "    <tr style=\"text-align: right;\">\n",
       "      <th></th>\n",
       "      <th>identifier</th>\n",
       "      <th>title</th>\n",
       "      <th>description</th>\n",
       "      <th>type</th>\n",
       "      <th>research_areas</th>\n",
       "      <th>status</th>\n",
       "      <th>created_on</th>\n",
       "      <th>created_by</th>\n",
       "      <th>modified_on</th>\n",
       "      <th>access_mode</th>\n",
       "      <th>owner</th>\n",
       "      <th>shared_link</th>\n",
       "    </tr>\n",
       "  </thead>\n",
       "  <tbody>\n",
       "    <tr>\n",
       "      <th>0</th>\n",
       "      <td>08d413f9-e434-4d50-a7ee-39b034f40ae0</td>\n",
       "      <td>8th December - Copernicus Atmosphere Monitorin...</td>\n",
       "      <td>This Research Object demonstrate how to comput...</td>\n",
       "      <td>Data-centric Research Object</td>\n",
       "      <td>[Earth sciences]</td>\n",
       "      <td>LIVE</td>\n",
       "      <td>2022-01-23T11:25:52.956418+00:00</td>\n",
       "      <td>annefou@geo.uio.no</td>\n",
       "      <td>2022-01-23T11:25:53.472305+00:00</td>\n",
       "      <td>PUBLIC</td>\n",
       "      <td>annefou@geo.uio.no</td>\n",
       "      <td>https://w3id.org/ro-id/08d413f9-e434-4d50-a7ee...</td>\n",
       "    </tr>\n",
       "    <tr>\n",
       "      <th>1</th>\n",
       "      <td>629b2be8-2457-44e9-bf8f-8aaba3fde6a8</td>\n",
       "      <td>Changes in black carbon emissions over Europe ...</td>\n",
       "      <td>Following the emergence of the severe acute re...</td>\n",
       "      <td>Bibliography-centric Research Object</td>\n",
       "      <td>[Ecology, Meteorology]</td>\n",
       "      <td>LIVE</td>\n",
       "      <td>2021-12-10T09:59:37.625454+00:00</td>\n",
       "      <td>service-account-generation-service</td>\n",
       "      <td>2021-12-10T09:59:38.215213+00:00</td>\n",
       "      <td>PUBLIC</td>\n",
       "      <td>service-account-generation-service</td>\n",
       "      <td>https://w3id.org/ro-id/629b2be8-2457-44e9-bf8f...</td>\n",
       "    </tr>\n",
       "    <tr>\n",
       "      <th>2</th>\n",
       "      <td>6440c36b-44c8-48c5-9a2a-a3c47de70c8a</td>\n",
       "      <td>Copernicus Atmosphere Monitoring Service Data ...</td>\n",
       "      <td>This Research Object demonstrate how to comput...</td>\n",
       "      <td>Data-centric Research Object</td>\n",
       "      <td>[Earth sciences]</td>\n",
       "      <td>SNAPSHOT</td>\n",
       "      <td>2021-12-09T15:24:35.287031+00:00</td>\n",
       "      <td>rpalma@man.poznan.pl</td>\n",
       "      <td>2021-12-09T15:24:46.466543+00:00</td>\n",
       "      <td>PUBLIC</td>\n",
       "      <td>rpalma@man.poznan.pl</td>\n",
       "      <td>https://w3id.org/ro-id/6440c36b-44c8-48c5-9a2a...</td>\n",
       "    </tr>\n",
       "    <tr>\n",
       "      <th>3</th>\n",
       "      <td>57cf76e1-2179-4650-b48b-b5990dca86c1</td>\n",
       "      <td>Copernicus Atmosphere Monitoring Service Data ...</td>\n",
       "      <td>This Research Object demonstrate how to comput...</td>\n",
       "      <td>Data-centric Research Object</td>\n",
       "      <td>[Earth sciences]</td>\n",
       "      <td>SNAPSHOT</td>\n",
       "      <td>2021-12-09T15:20:19.561661+00:00</td>\n",
       "      <td>rpalma@man.poznan.pl</td>\n",
       "      <td>2021-12-09T15:20:30.133737+00:00</td>\n",
       "      <td>PUBLIC</td>\n",
       "      <td>rpalma@man.poznan.pl</td>\n",
       "      <td>https://w3id.org/ro-id/57cf76e1-2179-4650-b48b...</td>\n",
       "    </tr>\n",
       "    <tr>\n",
       "      <th>4</th>\n",
       "      <td>a08ddcb2-ae5f-40ba-b1b6-c64dd2e4d68c</td>\n",
       "      <td>Copernicus Atmosphere Monitoring Service Data ...</td>\n",
       "      <td>This Research Object demonstrate how to comput...</td>\n",
       "      <td>Data-centric Research Object</td>\n",
       "      <td>[Earth sciences]</td>\n",
       "      <td>SNAPSHOT</td>\n",
       "      <td>2021-12-09T15:19:07.190287+00:00</td>\n",
       "      <td>rpalma@man.poznan.pl</td>\n",
       "      <td>2021-12-09T15:19:24.584005+00:00</td>\n",
       "      <td>PUBLIC</td>\n",
       "      <td>rpalma@man.poznan.pl</td>\n",
       "      <td>https://w3id.org/ro-id/a08ddcb2-ae5f-40ba-b1b6...</td>\n",
       "    </tr>\n",
       "    <tr>\n",
       "      <th>5</th>\n",
       "      <td>c737f695-6715-4916-8bef-8fc0ce879760</td>\n",
       "      <td>Copernicus Atmosphere Monitoring Service Data ...</td>\n",
       "      <td>This Research Object demonstrate how to comput...</td>\n",
       "      <td>Data-centric Research Object</td>\n",
       "      <td>[Earth sciences]</td>\n",
       "      <td>SNAPSHOT</td>\n",
       "      <td>2021-12-08T22:04:42.703330+00:00</td>\n",
       "      <td>rpalma@man.poznan.pl</td>\n",
       "      <td>2021-12-08T22:05:13.391015+00:00</td>\n",
       "      <td>PUBLIC</td>\n",
       "      <td>rpalma@man.poznan.pl</td>\n",
       "      <td>https://w3id.org/ro-id/c737f695-6715-4916-8bef...</td>\n",
       "    </tr>\n",
       "    <tr>\n",
       "      <th>6</th>\n",
       "      <td>abebc0e7-87b6-4ed5-8a0e-9b71dc30e333</td>\n",
       "      <td>Copernicus Atmosphere Monitoring Service Data ...</td>\n",
       "      <td>This Research Object demonstrate how to comput...</td>\n",
       "      <td>Data-centric Research Object</td>\n",
       "      <td>[Earth sciences]</td>\n",
       "      <td>SNAPSHOT</td>\n",
       "      <td>2021-12-08T22:01:17.734019+00:00</td>\n",
       "      <td>rpalma@man.poznan.pl</td>\n",
       "      <td>2021-12-08T22:01:44.739807+00:00</td>\n",
       "      <td>PUBLIC</td>\n",
       "      <td>rpalma@man.poznan.pl</td>\n",
       "      <td>https://w3id.org/ro-id/abebc0e7-87b6-4ed5-8a0e...</td>\n",
       "    </tr>\n",
       "  </tbody>\n",
       "</table>\n",
       "</div>"
      ],
      "text/plain": [
       "                             identifier  \\\n",
       "0  08d413f9-e434-4d50-a7ee-39b034f40ae0   \n",
       "1  629b2be8-2457-44e9-bf8f-8aaba3fde6a8   \n",
       "2  6440c36b-44c8-48c5-9a2a-a3c47de70c8a   \n",
       "3  57cf76e1-2179-4650-b48b-b5990dca86c1   \n",
       "4  a08ddcb2-ae5f-40ba-b1b6-c64dd2e4d68c   \n",
       "5  c737f695-6715-4916-8bef-8fc0ce879760   \n",
       "6  abebc0e7-87b6-4ed5-8a0e-9b71dc30e333   \n",
       "\n",
       "                                               title  \\\n",
       "0  8th December - Copernicus Atmosphere Monitorin...   \n",
       "1  Changes in black carbon emissions over Europe ...   \n",
       "2  Copernicus Atmosphere Monitoring Service Data ...   \n",
       "3  Copernicus Atmosphere Monitoring Service Data ...   \n",
       "4  Copernicus Atmosphere Monitoring Service Data ...   \n",
       "5  Copernicus Atmosphere Monitoring Service Data ...   \n",
       "6  Copernicus Atmosphere Monitoring Service Data ...   \n",
       "\n",
       "                                         description  \\\n",
       "0  This Research Object demonstrate how to comput...   \n",
       "1  Following the emergence of the severe acute re...   \n",
       "2  This Research Object demonstrate how to comput...   \n",
       "3  This Research Object demonstrate how to comput...   \n",
       "4  This Research Object demonstrate how to comput...   \n",
       "5  This Research Object demonstrate how to comput...   \n",
       "6  This Research Object demonstrate how to comput...   \n",
       "\n",
       "                                   type          research_areas    status  \\\n",
       "0          Data-centric Research Object        [Earth sciences]      LIVE   \n",
       "1  Bibliography-centric Research Object  [Ecology, Meteorology]      LIVE   \n",
       "2          Data-centric Research Object        [Earth sciences]  SNAPSHOT   \n",
       "3          Data-centric Research Object        [Earth sciences]  SNAPSHOT   \n",
       "4          Data-centric Research Object        [Earth sciences]  SNAPSHOT   \n",
       "5          Data-centric Research Object        [Earth sciences]  SNAPSHOT   \n",
       "6          Data-centric Research Object        [Earth sciences]  SNAPSHOT   \n",
       "\n",
       "                         created_on                          created_by  \\\n",
       "0  2022-01-23T11:25:52.956418+00:00                  annefou@geo.uio.no   \n",
       "1  2021-12-10T09:59:37.625454+00:00  service-account-generation-service   \n",
       "2  2021-12-09T15:24:35.287031+00:00                rpalma@man.poznan.pl   \n",
       "3  2021-12-09T15:20:19.561661+00:00                rpalma@man.poznan.pl   \n",
       "4  2021-12-09T15:19:07.190287+00:00                rpalma@man.poznan.pl   \n",
       "5  2021-12-08T22:04:42.703330+00:00                rpalma@man.poznan.pl   \n",
       "6  2021-12-08T22:01:17.734019+00:00                rpalma@man.poznan.pl   \n",
       "\n",
       "                        modified_on access_mode  \\\n",
       "0  2022-01-23T11:25:53.472305+00:00      PUBLIC   \n",
       "1  2021-12-10T09:59:38.215213+00:00      PUBLIC   \n",
       "2  2021-12-09T15:24:46.466543+00:00      PUBLIC   \n",
       "3  2021-12-09T15:20:30.133737+00:00      PUBLIC   \n",
       "4  2021-12-09T15:19:24.584005+00:00      PUBLIC   \n",
       "5  2021-12-08T22:05:13.391015+00:00      PUBLIC   \n",
       "6  2021-12-08T22:01:44.739807+00:00      PUBLIC   \n",
       "\n",
       "                                owner  \\\n",
       "0                  annefou@geo.uio.no   \n",
       "1  service-account-generation-service   \n",
       "2                rpalma@man.poznan.pl   \n",
       "3                rpalma@man.poznan.pl   \n",
       "4                rpalma@man.poznan.pl   \n",
       "5                rpalma@man.poznan.pl   \n",
       "6                rpalma@man.poznan.pl   \n",
       "\n",
       "                                         shared_link  \n",
       "0  https://w3id.org/ro-id/08d413f9-e434-4d50-a7ee...  \n",
       "1  https://w3id.org/ro-id/629b2be8-2457-44e9-bf8f...  \n",
       "2  https://w3id.org/ro-id/6440c36b-44c8-48c5-9a2a...  \n",
       "3  https://w3id.org/ro-id/57cf76e1-2179-4650-b48b...  \n",
       "4  https://w3id.org/ro-id/a08ddcb2-ae5f-40ba-b1b6...  \n",
       "5  https://w3id.org/ro-id/c737f695-6715-4916-8bef...  \n",
       "6  https://w3id.org/ro-id/abebc0e7-87b6-4ed5-8a0e...  "
      ]
     },
     "execution_count": 5,
     "metadata": {},
     "output_type": "execute_result"
    }
   ],
   "source": [
    "rohub.ros_find(search=\"December\")"
   ]
  },
  {
   "cell_type": "markdown",
   "id": "e8744bec-3507-42f8-845c-40efdc5dff23",
   "metadata": {},
   "source": [
    "### List my ROs"
   ]
  },
  {
   "cell_type": "code",
   "execution_count": 6,
   "id": "26d00d22-6954-4aa5-a2e0-aaf5e3c8ddf2",
   "metadata": {},
   "outputs": [
    {
     "data": {
      "text/html": [
       "<div>\n",
       "<style scoped>\n",
       "    .dataframe tbody tr th:only-of-type {\n",
       "        vertical-align: middle;\n",
       "    }\n",
       "\n",
       "    .dataframe tbody tr th {\n",
       "        vertical-align: top;\n",
       "    }\n",
       "\n",
       "    .dataframe thead th {\n",
       "        text-align: right;\n",
       "    }\n",
       "</style>\n",
       "<table border=\"1\" class=\"dataframe\">\n",
       "  <thead>\n",
       "    <tr style=\"text-align: right;\">\n",
       "      <th></th>\n",
       "      <th>identifier</th>\n",
       "      <th>title</th>\n",
       "      <th>description</th>\n",
       "      <th>type</th>\n",
       "      <th>research_areas</th>\n",
       "      <th>status</th>\n",
       "      <th>created_on</th>\n",
       "      <th>created_by</th>\n",
       "      <th>modified_on</th>\n",
       "      <th>access_mode</th>\n",
       "      <th>owner</th>\n",
       "      <th>shared_link</th>\n",
       "    </tr>\n",
       "  </thead>\n",
       "  <tbody>\n",
       "    <tr>\n",
       "      <th>0</th>\n",
       "      <td>08d413f9-e434-4d50-a7ee-39b034f40ae0</td>\n",
       "      <td>8th December - Copernicus Atmosphere Monitorin...</td>\n",
       "      <td>This Research Object demonstrate how to comput...</td>\n",
       "      <td>Data-centric Research Object</td>\n",
       "      <td>[Earth sciences]</td>\n",
       "      <td>LIVE</td>\n",
       "      <td>2022-01-23T11:25:52.956418+00:00</td>\n",
       "      <td>annefou@geo.uio.no</td>\n",
       "      <td>2022-01-23T11:25:53.472305+00:00</td>\n",
       "      <td>PUBLIC</td>\n",
       "      <td>annefou@geo.uio.no</td>\n",
       "      <td>https://w3id.org/ro-id/08d413f9-e434-4d50-a7ee...</td>\n",
       "    </tr>\n",
       "    <tr>\n",
       "      <th>1</th>\n",
       "      <td>03961876-c21f-4384-966e-1413adf58477</td>\n",
       "      <td>Jupyter notebook demonstrating the usage of CA...</td>\n",
       "      <td>This Research Object demonstrates how to use C...</td>\n",
       "      <td>Executable Research Object</td>\n",
       "      <td>[Earth sciences]</td>\n",
       "      <td>SNAPSHOT</td>\n",
       "      <td>2022-01-18T19:06:48.630028+00:00</td>\n",
       "      <td>annefou@geo.uio.no</td>\n",
       "      <td>2022-01-18T19:06:57.061094+00:00</td>\n",
       "      <td>PUBLIC</td>\n",
       "      <td>annefou@geo.uio.no</td>\n",
       "      <td>https://w3id.org/ro-id/03961876-c21f-4384-966e...</td>\n",
       "    </tr>\n",
       "    <tr>\n",
       "      <th>2</th>\n",
       "      <td>0d5a0619-14d5-4b45-b925-a9432684f76a</td>\n",
       "      <td>Jupyter notebook demonstrating the usage of CA...</td>\n",
       "      <td>This Research Object demonstrates how to use C...</td>\n",
       "      <td>Executable Research Object</td>\n",
       "      <td>[Earth sciences]</td>\n",
       "      <td>SNAPSHOT</td>\n",
       "      <td>2022-01-18T18:30:54.174269+00:00</td>\n",
       "      <td>annefou@geo.uio.no</td>\n",
       "      <td>2022-01-18T18:31:03.342744+00:00</td>\n",
       "      <td>PUBLIC</td>\n",
       "      <td>annefou@geo.uio.no</td>\n",
       "      <td>https://w3id.org/ro-id/0d5a0619-14d5-4b45-b925...</td>\n",
       "    </tr>\n",
       "    <tr>\n",
       "      <th>3</th>\n",
       "      <td>d767e6c3-6cfd-4e68-a989-0b4cbe9236b5</td>\n",
       "      <td>Identification of sources of pollution events ...</td>\n",
       "      <td>Trajectory model (backwards) such as FLEXPART ...</td>\n",
       "      <td>Executable Research Object</td>\n",
       "      <td>[Applied sciences, Meteorology]</td>\n",
       "      <td>LIVE</td>\n",
       "      <td>2021-12-20T11:33:30.052359+00:00</td>\n",
       "      <td>annefou@geo.uio.no</td>\n",
       "      <td>2021-12-20T11:33:30.812716+00:00</td>\n",
       "      <td>PUBLIC</td>\n",
       "      <td>annefou@geo.uio.no</td>\n",
       "      <td>https://w3id.org/ro-id/d767e6c3-6cfd-4e68-a989...</td>\n",
       "    </tr>\n",
       "    <tr>\n",
       "      <th>4</th>\n",
       "      <td>5f2e7ab8-8122-41b3-8d53-060e09855fa7</td>\n",
       "      <td>Jupyter notebook comparing CAMS and air qualit...</td>\n",
       "      <td>Compare CAMS analysis with available observati...</td>\n",
       "      <td>Executable Research Object</td>\n",
       "      <td>[Applied sciences, Meteorology]</td>\n",
       "      <td>LIVE</td>\n",
       "      <td>2021-12-20T11:28:59.678934+00:00</td>\n",
       "      <td>annefou@geo.uio.no</td>\n",
       "      <td>2021-12-20T11:29:00.402870+00:00</td>\n",
       "      <td>PUBLIC</td>\n",
       "      <td>annefou@geo.uio.no</td>\n",
       "      <td>https://w3id.org/ro-id/5f2e7ab8-8122-41b3-8d53...</td>\n",
       "    </tr>\n",
       "    <tr>\n",
       "      <th>5</th>\n",
       "      <td>53aa90bf-c593-4e6d-923f-d4711ac4b0e1</td>\n",
       "      <td>Impact of the Covid-19 Lockdown on Air quality...</td>\n",
       "      <td>The COVID-19 pandemic has led to significant r...</td>\n",
       "      <td>Executable Research Object</td>\n",
       "      <td>[Applied sciences, Meteorology]</td>\n",
       "      <td>LIVE</td>\n",
       "      <td>2021-12-19T21:18:33.231894+00:00</td>\n",
       "      <td>annefou@geo.uio.no</td>\n",
       "      <td>2021-12-19T21:18:33.990652+00:00</td>\n",
       "      <td>PUBLIC</td>\n",
       "      <td>annefou@geo.uio.no</td>\n",
       "      <td>https://w3id.org/ro-id/53aa90bf-c593-4e6d-923f...</td>\n",
       "    </tr>\n",
       "  </tbody>\n",
       "</table>\n",
       "</div>"
      ],
      "text/plain": [
       "                             identifier  \\\n",
       "0  08d413f9-e434-4d50-a7ee-39b034f40ae0   \n",
       "1  03961876-c21f-4384-966e-1413adf58477   \n",
       "2  0d5a0619-14d5-4b45-b925-a9432684f76a   \n",
       "3  d767e6c3-6cfd-4e68-a989-0b4cbe9236b5   \n",
       "4  5f2e7ab8-8122-41b3-8d53-060e09855fa7   \n",
       "5  53aa90bf-c593-4e6d-923f-d4711ac4b0e1   \n",
       "\n",
       "                                               title  \\\n",
       "0  8th December - Copernicus Atmosphere Monitorin...   \n",
       "1  Jupyter notebook demonstrating the usage of CA...   \n",
       "2  Jupyter notebook demonstrating the usage of CA...   \n",
       "3  Identification of sources of pollution events ...   \n",
       "4  Jupyter notebook comparing CAMS and air qualit...   \n",
       "5  Impact of the Covid-19 Lockdown on Air quality...   \n",
       "\n",
       "                                         description  \\\n",
       "0  This Research Object demonstrate how to comput...   \n",
       "1  This Research Object demonstrates how to use C...   \n",
       "2  This Research Object demonstrates how to use C...   \n",
       "3  Trajectory model (backwards) such as FLEXPART ...   \n",
       "4  Compare CAMS analysis with available observati...   \n",
       "5  The COVID-19 pandemic has led to significant r...   \n",
       "\n",
       "                           type                   research_areas    status  \\\n",
       "0  Data-centric Research Object                 [Earth sciences]      LIVE   \n",
       "1    Executable Research Object                 [Earth sciences]  SNAPSHOT   \n",
       "2    Executable Research Object                 [Earth sciences]  SNAPSHOT   \n",
       "3    Executable Research Object  [Applied sciences, Meteorology]      LIVE   \n",
       "4    Executable Research Object  [Applied sciences, Meteorology]      LIVE   \n",
       "5    Executable Research Object  [Applied sciences, Meteorology]      LIVE   \n",
       "\n",
       "                         created_on          created_by  \\\n",
       "0  2022-01-23T11:25:52.956418+00:00  annefou@geo.uio.no   \n",
       "1  2022-01-18T19:06:48.630028+00:00  annefou@geo.uio.no   \n",
       "2  2022-01-18T18:30:54.174269+00:00  annefou@geo.uio.no   \n",
       "3  2021-12-20T11:33:30.052359+00:00  annefou@geo.uio.no   \n",
       "4  2021-12-20T11:28:59.678934+00:00  annefou@geo.uio.no   \n",
       "5  2021-12-19T21:18:33.231894+00:00  annefou@geo.uio.no   \n",
       "\n",
       "                        modified_on access_mode               owner  \\\n",
       "0  2022-01-23T11:25:53.472305+00:00      PUBLIC  annefou@geo.uio.no   \n",
       "1  2022-01-18T19:06:57.061094+00:00      PUBLIC  annefou@geo.uio.no   \n",
       "2  2022-01-18T18:31:03.342744+00:00      PUBLIC  annefou@geo.uio.no   \n",
       "3  2021-12-20T11:33:30.812716+00:00      PUBLIC  annefou@geo.uio.no   \n",
       "4  2021-12-20T11:29:00.402870+00:00      PUBLIC  annefou@geo.uio.no   \n",
       "5  2021-12-19T21:18:33.990652+00:00      PUBLIC  annefou@geo.uio.no   \n",
       "\n",
       "                                         shared_link  \n",
       "0  https://w3id.org/ro-id/08d413f9-e434-4d50-a7ee...  \n",
       "1  https://w3id.org/ro-id/03961876-c21f-4384-966e...  \n",
       "2  https://w3id.org/ro-id/0d5a0619-14d5-4b45-b925...  \n",
       "3  https://w3id.org/ro-id/d767e6c3-6cfd-4e68-a989...  \n",
       "4  https://w3id.org/ro-id/5f2e7ab8-8122-41b3-8d53...  \n",
       "5  https://w3id.org/ro-id/53aa90bf-c593-4e6d-923f...  "
      ]
     },
     "execution_count": 6,
     "metadata": {},
     "output_type": "execute_result"
    }
   ],
   "source": [
    "myros=rohub.list_my_ros()\n",
    "myros[0:10]"
   ]
  },
  {
   "cell_type": "markdown",
   "id": "54eaa5c3-62f7-4ca9-83f4-e334e3b0c3be",
   "metadata": {},
   "source": [
    "### Load RO"
   ]
  },
  {
   "cell_type": "code",
   "execution_count": 7,
   "id": "5eeac8a1-89b5-4103-8a46-febc3221b36c",
   "metadata": {},
   "outputs": [
    {
     "name": "stdout",
     "output_type": "stream",
     "text": [
      "Research Object was successfully loaded with id = 08d413f9-e434-4d50-a7ee-39b034f40ae0\n"
     ]
    }
   ],
   "source": [
    "ro_id=myros.loc[0,\"identifier\"]\n",
    "ro=rohub.ros_load(identifier=ro_id)"
   ]
  },
  {
   "cell_type": "markdown",
   "id": "a0133b72-b2da-4b87-ac69-3e5e74bc3019",
   "metadata": {},
   "source": [
    "### Show basic metadata"
   ]
  },
  {
   "cell_type": "code",
   "execution_count": 8,
   "id": "4e19294e-d67e-4bd1-8d98-b049d045dc3f",
   "metadata": {},
   "outputs": [
    {
     "data": {
      "text/plain": [
       "{'identifier': '08d413f9-e434-4d50-a7ee-39b034f40ae0',\n",
       " 'shared_link': 'https://w3id.org/ro-id/08d413f9-e434-4d50-a7ee-39b034f40ae0',\n",
       " 'title': '8th December - Copernicus Atmosphere Monitoring Service Data Cube Research Object',\n",
       " 'description': 'This Research Object demonstrate how to compute monthly map of PM10 over your country',\n",
       " 'status': 'LIVE',\n",
       " 'access_mode': 'PUBLIC',\n",
       " 'type': 'Data-centric Research Object',\n",
       " 'template': 'Data Centric Research Object folders structure',\n",
       " 'created': '2022-01-23T11:25:52.956418Z',\n",
       " 'creator': 'annefou@geo.uio.no',\n",
       " 'modificator': None,\n",
       " 'modified': '2022-01-23T11:25:53.139282Z',\n",
       " 'importer': None,\n",
       " 'research_areas': ['Earth sciences'],\n",
       " 'owner': 'annefou@geo.uio.no',\n",
       " 'editors': [],\n",
       " 'readers': [],\n",
       " 'rating': '0.00',\n",
       " 'number_of_ratings': 0,\n",
       " 'number_of_likes': 0,\n",
       " 'number_of_dislikes': 0,\n",
       " 'quality': 0,\n",
       " 'size': 0,\n",
       " 'creation_mode': 'MANUAL',\n",
       " 'doi': None,\n",
       " 'api_link': 'https://api.rohub.org/api/ros/08d413f9-e434-4d50-a7ee-39b034f40ae0/'}"
      ]
     },
     "execution_count": 8,
     "metadata": {},
     "output_type": "execute_result"
    }
   ],
   "source": [
    "ro.show_metadata()"
   ]
  },
  {
   "cell_type": "markdown",
   "id": "e77013ff-4998-41d4-abfb-61e7fc17e48f",
   "metadata": {},
   "source": [
    "### Add/modify basic metadata"
   ]
  },
  {
   "cell_type": "code",
   "execution_count": 9,
   "id": "4a89449c-31d7-4035-8acb-26bad4b98635",
   "metadata": {},
   "outputs": [
    {
     "data": {
      "text/plain": [
       "{'identifier': '08d413f9-e434-4d50-a7ee-39b034f40ae0',\n",
       " 'shared_link': 'https://w3id.org/ro-id/08d413f9-e434-4d50-a7ee-39b034f40ae0',\n",
       " 'title': '8th December - Copernicus Atmosphere Monitoring Service Data Cube Research Object',\n",
       " 'description': 'This Research Object demonstrate how to compute monthly map of PM10 over your country - modified',\n",
       " 'status': 'LIVE',\n",
       " 'access_mode': 'PUBLIC',\n",
       " 'type': 'Data-centric Research Object',\n",
       " 'template': 'Data Centric Research Object folders structure',\n",
       " 'created': '2022-01-23T11:25:52.956418Z',\n",
       " 'creator': 'annefou@geo.uio.no',\n",
       " 'modificator': 'annefou@geo.uio.no',\n",
       " 'modified': '2022-01-23T11:26:18.302214Z',\n",
       " 'importer': None,\n",
       " 'research_areas': ['Earth sciences'],\n",
       " 'owner': 'annefou@geo.uio.no',\n",
       " 'editors': ['annefou@geo.uio.no', 'dario.stelitano@ingv.it'],\n",
       " 'readers': [],\n",
       " 'rating': '0.00',\n",
       " 'number_of_ratings': 0,\n",
       " 'number_of_likes': 0,\n",
       " 'number_of_dislikes': 0,\n",
       " 'quality': 0,\n",
       " 'size': 0,\n",
       " 'creation_mode': 'MANUAL',\n",
       " 'doi': None,\n",
       " 'api_link': 'https://api.rohub.org/api/ros/08d413f9-e434-4d50-a7ee-39b034f40ae0/'}"
      ]
     },
     "execution_count": 9,
     "metadata": {},
     "output_type": "execute_result"
    }
   ],
   "source": [
    "ro.description=\"This Research Object demonstrate how to compute monthly map of PM10 over your country - modified\"\n",
    "ro.editors=[\"annefou@geo.uio.no\", \"dario.stelitano@ingv.it\"]\n",
    "ro.update()\n"
   ]
  },
  {
   "cell_type": "markdown",
   "id": "bb837091-e702-48f6-87bb-07a0943ca86e",
   "metadata": {},
   "source": [
    "### List RO Folders"
   ]
  },
  {
   "cell_type": "code",
   "execution_count": 10,
   "id": "b9457103-fe9f-4bba-8084-8f5339a7ab4c",
   "metadata": {},
   "outputs": [
    {
     "data": {
      "text/html": [
       "<div>\n",
       "<style scoped>\n",
       "    .dataframe tbody tr th:only-of-type {\n",
       "        vertical-align: middle;\n",
       "    }\n",
       "\n",
       "    .dataframe tbody tr th {\n",
       "        vertical-align: top;\n",
       "    }\n",
       "\n",
       "    .dataframe thead th {\n",
       "        text-align: right;\n",
       "    }\n",
       "</style>\n",
       "<table border=\"1\" class=\"dataframe\">\n",
       "  <thead>\n",
       "    <tr style=\"text-align: right;\">\n",
       "      <th></th>\n",
       "      <th>identifier</th>\n",
       "      <th>name</th>\n",
       "      <th>description</th>\n",
       "      <th>creator</th>\n",
       "      <th>created_on</th>\n",
       "      <th>modified_on</th>\n",
       "      <th>path</th>\n",
       "    </tr>\n",
       "  </thead>\n",
       "  <tbody>\n",
       "    <tr>\n",
       "      <th>0</th>\n",
       "      <td>f189a6b8-c273-4ba2-bc76-4abbdb0aa36f</td>\n",
       "      <td>biblio</td>\n",
       "      <td>None</td>\n",
       "      <td>annefou@geo.uio.no</td>\n",
       "      <td>2022-01-23T11:25:53.961646+0000</td>\n",
       "      <td>2022-01-23T11:25:53.963704+0000</td>\n",
       "      <td>biblio</td>\n",
       "    </tr>\n",
       "    <tr>\n",
       "      <th>1</th>\n",
       "      <td>afd2f5c3-d1f5-4ba5-ace2-e6a033520c91</td>\n",
       "      <td>data</td>\n",
       "      <td>None</td>\n",
       "      <td>annefou@geo.uio.no</td>\n",
       "      <td>2022-01-23T11:25:53.961987+0000</td>\n",
       "      <td>2022-01-23T11:25:53.963847+0000</td>\n",
       "      <td>data</td>\n",
       "    </tr>\n",
       "    <tr>\n",
       "      <th>2</th>\n",
       "      <td>7fe6b63e-2635-47f9-b75f-e93c80a1cee0</td>\n",
       "      <td>metadata</td>\n",
       "      <td>None</td>\n",
       "      <td>annefou@geo.uio.no</td>\n",
       "      <td>2022-01-23T11:25:53.962242+0000</td>\n",
       "      <td>2022-01-23T11:25:53.964010+0000</td>\n",
       "      <td>metadata</td>\n",
       "    </tr>\n",
       "    <tr>\n",
       "      <th>3</th>\n",
       "      <td>c4460626-996b-48db-81f6-b98c0bf90904</td>\n",
       "      <td>raw data</td>\n",
       "      <td>None</td>\n",
       "      <td>annefou@geo.uio.no</td>\n",
       "      <td>2022-01-23T11:25:53.962473+0000</td>\n",
       "      <td>2022-01-23T11:25:53.964195+0000</td>\n",
       "      <td>raw data</td>\n",
       "    </tr>\n",
       "  </tbody>\n",
       "</table>\n",
       "</div>"
      ],
      "text/plain": [
       "                             identifier      name description  \\\n",
       "0  f189a6b8-c273-4ba2-bc76-4abbdb0aa36f    biblio        None   \n",
       "1  afd2f5c3-d1f5-4ba5-ace2-e6a033520c91      data        None   \n",
       "2  7fe6b63e-2635-47f9-b75f-e93c80a1cee0  metadata        None   \n",
       "3  c4460626-996b-48db-81f6-b98c0bf90904  raw data        None   \n",
       "\n",
       "              creator                       created_on  \\\n",
       "0  annefou@geo.uio.no  2022-01-23T11:25:53.961646+0000   \n",
       "1  annefou@geo.uio.no  2022-01-23T11:25:53.961987+0000   \n",
       "2  annefou@geo.uio.no  2022-01-23T11:25:53.962242+0000   \n",
       "3  annefou@geo.uio.no  2022-01-23T11:25:53.962473+0000   \n",
       "\n",
       "                       modified_on      path  \n",
       "0  2022-01-23T11:25:53.963704+0000    biblio  \n",
       "1  2022-01-23T11:25:53.963847+0000      data  \n",
       "2  2022-01-23T11:25:53.964010+0000  metadata  \n",
       "3  2022-01-23T11:25:53.964195+0000  raw data  "
      ]
     },
     "execution_count": 10,
     "metadata": {},
     "output_type": "execute_result"
    }
   ],
   "source": [
    "myfolders = ro.list_folders()\n",
    "myfolders"
   ]
  },
  {
   "cell_type": "markdown",
   "id": "045fb58e-b5e6-497c-ac88-05a24c68fec5",
   "metadata": {
    "tags": []
   },
   "source": [
    "### Aggregate resource (internal)"
   ]
  },
  {
   "cell_type": "code",
   "execution_count": 11,
   "id": "6558c9e5-4cf2-4003-bf79-2c586f987deb",
   "metadata": {
    "tags": []
   },
   "outputs": [
    {
     "name": "stdout",
     "output_type": "stream",
     "text": [
      "Resource was successfully created with id = be4c5800-9058-4d43-967c-1b233da92d17\n"
     ]
    }
   ],
   "source": [
    "resi_res_type=\"Sketch\"\n",
    "resi_file_path=\"flow-dcro.png\"\n",
    "resi_title=\"Flow to compute monthly map\"\n",
    "resi_folder=myfolders.loc[0,\"identifier\"]\n",
    "\n",
    "my_res_int0=ro.add_internal_resource(res_type=resi_res_type,file_path=resi_file_path, title=resi_title, folder=resi_folder)\n"
   ]
  },
  {
   "cell_type": "markdown",
   "id": "131bfc83-b72a-4f3b-ba8d-874804b032d1",
   "metadata": {},
   "source": [
    "### Aggregate resouce (external)"
   ]
  },
  {
   "cell_type": "code",
   "execution_count": 12,
   "id": "190f391b-2162-437c-9c2b-e6536706a2a5",
   "metadata": {},
   "outputs": [
    {
     "name": "stdout",
     "output_type": "stream",
     "text": [
      "Resource was successfully created with id = 37598c0b-952e-45d9-8cdf-d306fc98230a\n"
     ]
    },
    {
     "data": {
      "text/plain": [
       "Resource(identifier=37598c0b-952e-45d9-8cdf-d306fc98230a, post_request=False)"
      ]
     },
     "execution_count": 12,
     "metadata": {},
     "output_type": "execute_result"
    }
   ],
   "source": [
    "rese_res_type=\"Data Cube Collection\"\n",
    "rese_file_url=\"https://reliance-das.adamplatform.eu/opensearch/datasets?datasetId=EU_CAMS_SURFACE_PM10_G\"\n",
    "rese_title=\"EU_CAMS_SURFACE_PM10_G\"\n",
    "rese_description=\"This dataset provides daily air quality analyses and forecasts for Europe.\\n\\nCAMS produces specific daily air quality analyses and forecasts for the European domain at significantly higher spatial resolution (0.1 degrees, approx. 10km) than is available from the global analyses and forecasts. The production is based on an ensemble of nine air quality forecasting systems across Europe. A median ensemble is calculated from individual outputs, since ensemble products yield on average better performance than the individual model products. The spread between the nine models are used to provide an estimate of the forecast uncertainty. The analysis combines model data with observations provided by the European Environment Agency (EEA) into a complete and consistent dataset using various data assimilation techniques depending upon the air-quality forecasting system used. In parallel, air quality forecasts are produced once a day for the next four days. Both the analysis and the forecast are available at hourly time steps at seven height levels.\\n\\nNote that only nitrogen monoxide, nitrogen dioxide, sulphur dioxide, ozone, PM2.5, PM10 and dust are regularly validated against in situ observations, and therefore forecasts of all other variables are unvalidated and should be considered experimental.\"\n",
    "\n",
    "ro.add_external_resource(res_type=rese_res_type, input_url=rese_file_url, title=rese_title, description= rese_description)\n"
   ]
  },
  {
   "cell_type": "code",
   "execution_count": 13,
   "id": "68e7d540-e90f-44f9-bab3-a4dbce9edc8f",
   "metadata": {},
   "outputs": [
    {
     "name": "stdout",
     "output_type": "stream",
     "text": [
      "Resource was successfully created with id = 8e0adfcf-57d5-4c55-9185-dc7a3b1b7e41\n"
     ]
    },
    {
     "data": {
      "text/plain": [
       "Resource(identifier=8e0adfcf-57d5-4c55-9185-dc7a3b1b7e41, post_request=False)"
      ]
     },
     "execution_count": 13,
     "metadata": {},
     "output_type": "execute_result"
    }
   ],
   "source": [
    "rese_res_type=\"Result\"\n",
    "rese_file_url=\"https://reliance-das.adamplatform.eu/wcs?service=WCS&Request=GetCoverage&CoverageID=EU_CAMS_SURFACE_PM10_G&subset=unix(2018-09-01,2018-09-01)&format=image/tiff\"\n",
    "rese_title=\"Daily PM10 concentration\"\n",
    "rese_description=\"Daily PM10 concentration for 1st September 2018 over Europe\"\n",
    "\n",
    "ro.add_external_resource(res_type=rese_res_type, input_url=rese_file_url, title=rese_title, description= rese_description)\n"
   ]
  },
  {
   "cell_type": "code",
   "execution_count": 14,
   "id": "8825af08-03e6-4ec5-951f-780cf8bcde05",
   "metadata": {},
   "outputs": [
    {
     "name": "stdout",
     "output_type": "stream",
     "text": [
      "Resource was successfully created with id = deba9c23-b217-48db-a38a-6d766751919f\n"
     ]
    },
    {
     "data": {
      "text/plain": [
       "Resource(identifier=deba9c23-b217-48db-a38a-6d766751919f, post_request=False)"
      ]
     },
     "execution_count": 14,
     "metadata": {},
     "output_type": "execute_result"
    }
   ],
   "source": [
    "rese_res_type=\"Data Cube Product\"\n",
    "rese_file_url=\"https://reliance-das.adamplatform.eu/opensearch/search?datasetId=EU_CAMS_SURFACE_PM10_G&startDate=2018-09-01&endDate=2018-09-01\"\n",
    "rese_title=\"Index of daily PM10 concentration for September 1st 2018\"\n",
    "rese_description=\"List of hourly PM10 concentration data for September 1st 2018 over Europe\"\n",
    "\n",
    "ro.add_external_resource(res_type=rese_res_type, input_url=rese_file_url, title=rese_title, description=rese_description)\n"
   ]
  },
  {
   "cell_type": "code",
   "execution_count": 15,
   "id": "508a6835-a14e-48d2-884e-323efb26940d",
   "metadata": {},
   "outputs": [
    {
     "name": "stdout",
     "output_type": "stream",
     "text": [
      "Resource was successfully created with id = d4642d82-a03a-497b-98cf-9339cffcb09a\n"
     ]
    }
   ],
   "source": [
    "rese_res_type=\"Jupyter Notebook\"\n",
    "rese_file_url=\"https://zenodo.org/record/5554786#.YYlWo9nMI-Q\"\n",
    "rese_title=\"Jupter Notebook of CAMS European air quality analysis from Copernicus Atmosphere Monitoring with RELIANCE services\"\n",
    "rese_description=\"Jupyter Notebook for discovering, accessing and processing RELIANCE data cube, and creating a Research Object with results, and finally publish it in Zenodo\"\n",
    "\n",
    "my_res_ext0=ro.add_external_resource(res_type=rese_res_type, input_url=rese_file_url, title=rese_title, description=rese_description)\n"
   ]
  },
  {
   "cell_type": "code",
   "execution_count": 16,
   "id": "add75fa3-5d00-41b4-9c84-e037f8794ba1",
   "metadata": {},
   "outputs": [
    {
     "name": "stdout",
     "output_type": "stream",
     "text": [
      "Resource was successfully created with id = 1a23e779-20c8-4a49-bf1d-33a44b07bb1b\n"
     ]
    }
   ],
   "source": [
    "rese_res_type=\"Dataset\"\n",
    "rese_file_url=\"https://box.psnc.pl/f/d90a0e1e0d/?raw=1\"\n",
    "rese_title=\"Catch data from Norway\"\n",
    "rese_description=\"Catch data records sample from 2019\"\n",
    "\n",
    "my_res_ext1=ro.add_external_resource(res_type=rese_res_type, input_url=rese_file_url, title=rese_title, description=rese_description)"
   ]
  },
  {
   "cell_type": "markdown",
   "id": "b828a23c-bc3d-4a56-bc5f-6a8ac38f7b19",
   "metadata": {},
   "source": [
    "### List RO resources"
   ]
  },
  {
   "cell_type": "code",
   "execution_count": 17,
   "id": "27cd8594-9579-4645-b6c9-968f9d2c37d3",
   "metadata": {},
   "outputs": [
    {
     "data": {
      "text/html": [
       "<div>\n",
       "<style scoped>\n",
       "    .dataframe tbody tr th:only-of-type {\n",
       "        vertical-align: middle;\n",
       "    }\n",
       "\n",
       "    .dataframe tbody tr th {\n",
       "        vertical-align: top;\n",
       "    }\n",
       "\n",
       "    .dataframe thead th {\n",
       "        text-align: right;\n",
       "    }\n",
       "</style>\n",
       "<table border=\"1\" class=\"dataframe\">\n",
       "  <thead>\n",
       "    <tr style=\"text-align: right;\">\n",
       "      <th></th>\n",
       "      <th>identifier</th>\n",
       "      <th>type</th>\n",
       "      <th>source</th>\n",
       "      <th>title</th>\n",
       "      <th>description</th>\n",
       "      <th>url</th>\n",
       "      <th>name</th>\n",
       "      <th>path</th>\n",
       "      <th>size</th>\n",
       "      <th>creator</th>\n",
       "      <th>created_on</th>\n",
       "      <th>modified_on</th>\n",
       "      <th>download_url</th>\n",
       "    </tr>\n",
       "  </thead>\n",
       "  <tbody>\n",
       "    <tr>\n",
       "      <th>0</th>\n",
       "      <td>1a23e779-20c8-4a49-bf1d-33a44b07bb1b</td>\n",
       "      <td>Dataset</td>\n",
       "      <td>external</td>\n",
       "      <td>Catch data from Norway</td>\n",
       "      <td>Catch data records sample from 2019</td>\n",
       "      <td>https://box.psnc.pl/f/d90a0e1e0d/?raw=1</td>\n",
       "      <td>Catch data from Norway</td>\n",
       "      <td>https://box.psnc.pl/f/d90a0e1e0d/?raw=1</td>\n",
       "      <td>NaN</td>\n",
       "      <td>annefou@geo.uio.no</td>\n",
       "      <td>2022-01-23T11:26:45.692570+0000</td>\n",
       "      <td>2022-01-23T11:26:45.693196+0000</td>\n",
       "      <td>https://box.psnc.pl/f/d90a0e1e0d/?raw=1</td>\n",
       "    </tr>\n",
       "    <tr>\n",
       "      <th>1</th>\n",
       "      <td>37598c0b-952e-45d9-8cdf-d306fc98230a</td>\n",
       "      <td>Data Cube Collection</td>\n",
       "      <td>external</td>\n",
       "      <td>EU_CAMS_SURFACE_PM10_G</td>\n",
       "      <td>This dataset provides daily air quality analys...</td>\n",
       "      <td>https://reliance-das.adamplatform.eu/opensearc...</td>\n",
       "      <td>EU_CAMS_SURFACE_PM10_G</td>\n",
       "      <td>https://reliance-das.adamplatform.eu/opensearc...</td>\n",
       "      <td>NaN</td>\n",
       "      <td>annefou@geo.uio.no</td>\n",
       "      <td>2022-01-23T11:26:34.948551+0000</td>\n",
       "      <td>2022-01-23T11:26:34.949461+0000</td>\n",
       "      <td>https://reliance-das.adamplatform.eu/opensearc...</td>\n",
       "    </tr>\n",
       "    <tr>\n",
       "      <th>2</th>\n",
       "      <td>deba9c23-b217-48db-a38a-6d766751919f</td>\n",
       "      <td>Data Cube Product</td>\n",
       "      <td>external</td>\n",
       "      <td>Index of daily PM10 concentration for Septembe...</td>\n",
       "      <td>List of hourly PM10 concentration data for Sep...</td>\n",
       "      <td>https://reliance-das.adamplatform.eu/opensearc...</td>\n",
       "      <td>Index of daily PM10 concentration for Septembe...</td>\n",
       "      <td>https://reliance-das.adamplatform.eu/opensearc...</td>\n",
       "      <td>NaN</td>\n",
       "      <td>annefou@geo.uio.no</td>\n",
       "      <td>2022-01-23T11:26:41.805590+0000</td>\n",
       "      <td>2022-01-23T11:26:41.806154+0000</td>\n",
       "      <td>https://reliance-das.adamplatform.eu/opensearc...</td>\n",
       "    </tr>\n",
       "    <tr>\n",
       "      <th>3</th>\n",
       "      <td>8e0adfcf-57d5-4c55-9185-dc7a3b1b7e41</td>\n",
       "      <td>Result</td>\n",
       "      <td>external</td>\n",
       "      <td>Daily PM10 concentration</td>\n",
       "      <td>Daily PM10 concentration for 1st September 201...</td>\n",
       "      <td>https://reliance-das.adamplatform.eu/wcs?servi...</td>\n",
       "      <td>Daily PM10 concentration</td>\n",
       "      <td>https://reliance-das.adamplatform.eu/wcs?servi...</td>\n",
       "      <td>NaN</td>\n",
       "      <td>annefou@geo.uio.no</td>\n",
       "      <td>2022-01-23T11:26:39.261026+0000</td>\n",
       "      <td>2022-01-23T11:26:39.261828+0000</td>\n",
       "      <td>https://reliance-das.adamplatform.eu/wcs?servi...</td>\n",
       "    </tr>\n",
       "    <tr>\n",
       "      <th>4</th>\n",
       "      <td>d4642d82-a03a-497b-98cf-9339cffcb09a</td>\n",
       "      <td>Jupyter Notebook</td>\n",
       "      <td>external</td>\n",
       "      <td>Jupter Notebook of CAMS European air quality a...</td>\n",
       "      <td>Jupyter Notebook for discovering, accessing an...</td>\n",
       "      <td>https://zenodo.org/record/5554786#.YYlWo9nMI-Q</td>\n",
       "      <td>Jupter Notebook of CAMS European air quality a...</td>\n",
       "      <td>https://zenodo.org/record/5554786#.YYlWo9nMI-Q</td>\n",
       "      <td>NaN</td>\n",
       "      <td>annefou@geo.uio.no</td>\n",
       "      <td>2022-01-23T11:26:43.290547+0000</td>\n",
       "      <td>2022-01-23T11:26:43.291617+0000</td>\n",
       "      <td>https://zenodo.org/record/5554786#.YYlWo9nMI-Q</td>\n",
       "    </tr>\n",
       "    <tr>\n",
       "      <th>5</th>\n",
       "      <td>be4c5800-9058-4d43-967c-1b233da92d17</td>\n",
       "      <td>Sketch</td>\n",
       "      <td>internal</td>\n",
       "      <td>Flow to compute monthly map</td>\n",
       "      <td>None</td>\n",
       "      <td>None</td>\n",
       "      <td>Flow to compute monthly map</td>\n",
       "      <td>biblio/flow-dcro.png</td>\n",
       "      <td>73394.0</td>\n",
       "      <td>annefou@geo.uio.no</td>\n",
       "      <td>2022-01-23T11:26:29.793829+0000</td>\n",
       "      <td>2022-01-23T11:26:29.794852+0000</td>\n",
       "      <td>https://api.rohub.org/api/resources/be4c5800-9...</td>\n",
       "    </tr>\n",
       "  </tbody>\n",
       "</table>\n",
       "</div>"
      ],
      "text/plain": [
       "                             identifier                  type    source  \\\n",
       "0  1a23e779-20c8-4a49-bf1d-33a44b07bb1b               Dataset  external   \n",
       "1  37598c0b-952e-45d9-8cdf-d306fc98230a  Data Cube Collection  external   \n",
       "2  deba9c23-b217-48db-a38a-6d766751919f     Data Cube Product  external   \n",
       "3  8e0adfcf-57d5-4c55-9185-dc7a3b1b7e41                Result  external   \n",
       "4  d4642d82-a03a-497b-98cf-9339cffcb09a      Jupyter Notebook  external   \n",
       "5  be4c5800-9058-4d43-967c-1b233da92d17                Sketch  internal   \n",
       "\n",
       "                                               title  \\\n",
       "0                             Catch data from Norway   \n",
       "1                             EU_CAMS_SURFACE_PM10_G   \n",
       "2  Index of daily PM10 concentration for Septembe...   \n",
       "3                           Daily PM10 concentration   \n",
       "4  Jupter Notebook of CAMS European air quality a...   \n",
       "5                        Flow to compute monthly map   \n",
       "\n",
       "                                         description  \\\n",
       "0                Catch data records sample from 2019   \n",
       "1  This dataset provides daily air quality analys...   \n",
       "2  List of hourly PM10 concentration data for Sep...   \n",
       "3  Daily PM10 concentration for 1st September 201...   \n",
       "4  Jupyter Notebook for discovering, accessing an...   \n",
       "5                                               None   \n",
       "\n",
       "                                                 url  \\\n",
       "0            https://box.psnc.pl/f/d90a0e1e0d/?raw=1   \n",
       "1  https://reliance-das.adamplatform.eu/opensearc...   \n",
       "2  https://reliance-das.adamplatform.eu/opensearc...   \n",
       "3  https://reliance-das.adamplatform.eu/wcs?servi...   \n",
       "4     https://zenodo.org/record/5554786#.YYlWo9nMI-Q   \n",
       "5                                               None   \n",
       "\n",
       "                                                name  \\\n",
       "0                             Catch data from Norway   \n",
       "1                             EU_CAMS_SURFACE_PM10_G   \n",
       "2  Index of daily PM10 concentration for Septembe...   \n",
       "3                           Daily PM10 concentration   \n",
       "4  Jupter Notebook of CAMS European air quality a...   \n",
       "5                        Flow to compute monthly map   \n",
       "\n",
       "                                                path     size  \\\n",
       "0            https://box.psnc.pl/f/d90a0e1e0d/?raw=1      NaN   \n",
       "1  https://reliance-das.adamplatform.eu/opensearc...      NaN   \n",
       "2  https://reliance-das.adamplatform.eu/opensearc...      NaN   \n",
       "3  https://reliance-das.adamplatform.eu/wcs?servi...      NaN   \n",
       "4     https://zenodo.org/record/5554786#.YYlWo9nMI-Q      NaN   \n",
       "5                               biblio/flow-dcro.png  73394.0   \n",
       "\n",
       "              creator                       created_on  \\\n",
       "0  annefou@geo.uio.no  2022-01-23T11:26:45.692570+0000   \n",
       "1  annefou@geo.uio.no  2022-01-23T11:26:34.948551+0000   \n",
       "2  annefou@geo.uio.no  2022-01-23T11:26:41.805590+0000   \n",
       "3  annefou@geo.uio.no  2022-01-23T11:26:39.261026+0000   \n",
       "4  annefou@geo.uio.no  2022-01-23T11:26:43.290547+0000   \n",
       "5  annefou@geo.uio.no  2022-01-23T11:26:29.793829+0000   \n",
       "\n",
       "                       modified_on  \\\n",
       "0  2022-01-23T11:26:45.693196+0000   \n",
       "1  2022-01-23T11:26:34.949461+0000   \n",
       "2  2022-01-23T11:26:41.806154+0000   \n",
       "3  2022-01-23T11:26:39.261828+0000   \n",
       "4  2022-01-23T11:26:43.291617+0000   \n",
       "5  2022-01-23T11:26:29.794852+0000   \n",
       "\n",
       "                                        download_url  \n",
       "0            https://box.psnc.pl/f/d90a0e1e0d/?raw=1  \n",
       "1  https://reliance-das.adamplatform.eu/opensearc...  \n",
       "2  https://reliance-das.adamplatform.eu/opensearc...  \n",
       "3  https://reliance-das.adamplatform.eu/wcs?servi...  \n",
       "4     https://zenodo.org/record/5554786#.YYlWo9nMI-Q  \n",
       "5  https://api.rohub.org/api/resources/be4c5800-9...  "
      ]
     },
     "execution_count": 17,
     "metadata": {},
     "output_type": "execute_result"
    }
   ],
   "source": [
    "ro.list_resources()"
   ]
  },
  {
   "cell_type": "markdown",
   "id": "7e7990c2-30a0-4022-bae9-242831e33a05",
   "metadata": {},
   "source": [
    "### Add geolocation\n",
    "- You can add a geojson ld file or directly its content here\n",
    "```\n",
    "ro.add_geolocation(body_specification_json=\"/home/jovyan/ROHub-API/files/EuropeBOX.geojson\")\n",
    "ro.add_geolocation(body_specification_json=\"/home/jovyan/ROHub-API/files/fra.geo-ld.json\")\n",
    "ro.add_geolocation(body_specification_json=\"/home/jovyan/ROHub-API/files/geojson-test-simple_mp.json\")\n",
    "```\n",
    "- In the example below, we direcly add the content (one single location)"
   ]
  },
  {
   "cell_type": "code",
   "execution_count": 18,
   "id": "4632f91b-1461-491b-943f-ee319e59c8e0",
   "metadata": {},
   "outputs": [
    {
     "data": {
      "text/plain": [
       "{'identifier': '7681649b-adf0-4b15-a5f3-8f6c88230347',\n",
       " 'shared_link': 'https://w3id.org/ro-id/08d413f9-e434-4d50-a7ee-39b034f40ae0/annotations/7681649b-adf0-4b15-a5f3-8f6c88230347',\n",
       " 'name': 'annotations/7681649b-adf0-4b15-a5f3-8f6c88230347',\n",
       " 'filename': '.ro/annotations/7681649b-adf0-4b15-a5f3-8f6c88230347.ttl',\n",
       " 'relation': False,\n",
       " 'read_only': False,\n",
       " 'target': '08d413f9-e434-4d50-a7ee-39b034f40ae0',\n",
       " 'ro': '08d413f9-e434-4d50-a7ee-39b034f40ae0',\n",
       " 'resources': [],\n",
       " 'created': '2022-01-23T11:26:54.788958+0000',\n",
       " 'creator': 'annefou@geo.uio.no',\n",
       " 'modificator': None,\n",
       " 'modified': '2022-01-23T11:26:54.788837+0000',\n",
       " 'authors_credits': ['annefou@geo.uio.no'],\n",
       " 'contributors_credits': [],\n",
       " 'api_link': 'https://api.rohub.org/api/annotations/7681649b-adf0-4b15-a5f3-8f6c88230347/'}"
      ]
     },
     "execution_count": 18,
     "metadata": {},
     "output_type": "execute_result"
    }
   ],
   "source": [
    "geojson_as_text_point_python= {\n",
    "  \"@context\": {\n",
    "    \"geojson\": \"https://purl.org/geojson/vocab#\"\n",
    "  },\n",
    "  \"type\": \"Feature\",\n",
    "  \"geometry\": {\n",
    "    \"type\": \"Point\",\n",
    "    \"coordinates\": [ 38.0, 38.0 ]\n",
    "  }\n",
    "}\n",
    "\n",
    "ro.add_geolocation(body_specification_json=geojson_as_text_point_python)\n"
   ]
  },
  {
   "cell_type": "markdown",
   "id": "bb390c3a-5081-44eb-a250-38dcfd45b99b",
   "metadata": {},
   "source": [
    "### Export to RO-crate"
   ]
  },
  {
   "cell_type": "code",
   "execution_count": 19,
   "id": "b5b35bb3-4281-4233-b5e3-74d0d9f96566",
   "metadata": {},
   "outputs": [
    {
     "name": "stdout",
     "output_type": "stream",
     "text": [
      "File was successfully downloaded.\n"
     ]
    }
   ],
   "source": [
    "#ro.export_to_rocrate(filename=\"my-ro-crate\")\n",
    "ro.export_to_rocrate(filename=\"my-ro-crate\", use_format=\"zip\")"
   ]
  },
  {
   "cell_type": "markdown",
   "id": "ae98d39e-f3e5-43c5-bdd6-bd38f16e4eb6",
   "metadata": {},
   "source": [
    "## Add authors/contributors/publishers/copyrightHolders"
   ]
  },
  {
   "cell_type": "markdown",
   "id": "8718bc86-687f-4287-8ce8-508d4895caa0",
   "metadata": {},
   "source": [
    "### List users"
   ]
  },
  {
   "cell_type": "code",
   "execution_count": 20,
   "id": "276cccd8-5006-4031-a90e-a1d8088e824f",
   "metadata": {},
   "outputs": [
    {
     "data": {
      "text/html": [
       "<div>\n",
       "<style scoped>\n",
       "    .dataframe tbody tr th:only-of-type {\n",
       "        vertical-align: middle;\n",
       "    }\n",
       "\n",
       "    .dataframe tbody tr th {\n",
       "        vertical-align: top;\n",
       "    }\n",
       "\n",
       "    .dataframe thead th {\n",
       "        text-align: right;\n",
       "    }\n",
       "</style>\n",
       "<table border=\"1\" class=\"dataframe\">\n",
       "  <thead>\n",
       "    <tr style=\"text-align: right;\">\n",
       "      <th></th>\n",
       "      <th>identifier</th>\n",
       "      <th>username</th>\n",
       "      <th>display_name</th>\n",
       "      <th>affiliation</th>\n",
       "      <th>description</th>\n",
       "      <th>areas_of_interest</th>\n",
       "      <th>orcid_identifier</th>\n",
       "      <th>external</th>\n",
       "    </tr>\n",
       "  </thead>\n",
       "  <tbody>\n",
       "    <tr>\n",
       "      <th>0</th>\n",
       "      <td>62277187-0f2e-4320-a6b0-7fe467f1b1c1</td>\n",
       "      <td>annefou@geo.uio.no</td>\n",
       "      <td>Anne Fouilloux</td>\n",
       "      <td>Nordic e-Infrastructure Collaboration (NeIC)</td>\n",
       "      <td>Research Software Engineer</td>\n",
       "      <td>Weather and Climate Science</td>\n",
       "      <td>0000-0002-1784-2920</td>\n",
       "      <td>False</td>\n",
       "    </tr>\n",
       "  </tbody>\n",
       "</table>\n",
       "</div>"
      ],
      "text/plain": [
       "                             identifier            username    display_name  \\\n",
       "0  62277187-0f2e-4320-a6b0-7fe467f1b1c1  annefou@geo.uio.no  Anne Fouilloux   \n",
       "\n",
       "                                    affiliation                 description  \\\n",
       "0  Nordic e-Infrastructure Collaboration (NeIC)  Research Software Engineer   \n",
       "\n",
       "             areas_of_interest     orcid_identifier  external  \n",
       "0  Weather and Climate Science  0000-0002-1784-2920     False  "
      ]
     },
     "execution_count": 20,
     "metadata": {},
     "output_type": "execute_result"
    }
   ],
   "source": [
    "usernames=rohub.users_find(search=\"Anne\")\n",
    "usernames"
   ]
  },
  {
   "cell_type": "code",
   "execution_count": 21,
   "id": "0f54ddb4-569e-4fa3-88fe-4aca1deb215a",
   "metadata": {},
   "outputs": [
    {
     "data": {
      "text/plain": [
       "'annefou@geo.uio.no'"
      ]
     },
     "execution_count": 21,
     "metadata": {},
     "output_type": "execute_result"
    }
   ],
   "source": [
    "user_id_anne=usernames.loc[0,\"username\"]\n",
    "user_id_anne"
   ]
  },
  {
   "cell_type": "code",
   "execution_count": 22,
   "id": "e19548d2-2e01-4c35-b206-f06dacf45c36",
   "metadata": {},
   "outputs": [
    {
     "data": {
      "text/html": [
       "<div>\n",
       "<style scoped>\n",
       "    .dataframe tbody tr th:only-of-type {\n",
       "        vertical-align: middle;\n",
       "    }\n",
       "\n",
       "    .dataframe tbody tr th {\n",
       "        vertical-align: top;\n",
       "    }\n",
       "\n",
       "    .dataframe thead th {\n",
       "        text-align: right;\n",
       "    }\n",
       "</style>\n",
       "<table border=\"1\" class=\"dataframe\">\n",
       "  <thead>\n",
       "    <tr style=\"text-align: right;\">\n",
       "      <th></th>\n",
       "      <th>identifier</th>\n",
       "      <th>username</th>\n",
       "      <th>display_name</th>\n",
       "      <th>affiliation</th>\n",
       "      <th>orcid_identifier</th>\n",
       "      <th>external</th>\n",
       "    </tr>\n",
       "  </thead>\n",
       "  <tbody>\n",
       "    <tr>\n",
       "      <th>0</th>\n",
       "      <td>c62bf5a8-72ff-45e3-a92a-7ba9f5a06e0e</td>\n",
       "      <td>https://orcid.org/0000-0003-3784-6651</td>\n",
       "      <td>Nieves Pepito</td>\n",
       "      <td>UNO-Recoletos</td>\n",
       "      <td>0000-0003-3784-6651</td>\n",
       "      <td>True</td>\n",
       "    </tr>\n",
       "  </tbody>\n",
       "</table>\n",
       "</div>"
      ],
      "text/plain": [
       "                             identifier  \\\n",
       "0  c62bf5a8-72ff-45e3-a92a-7ba9f5a06e0e   \n",
       "\n",
       "                                username   display_name    affiliation  \\\n",
       "0  https://orcid.org/0000-0003-3784-6651  Nieves Pepito  UNO-Recoletos   \n",
       "\n",
       "      orcid_identifier  external  \n",
       "0  0000-0003-3784-6651      True  "
      ]
     },
     "execution_count": 22,
     "metadata": {},
     "output_type": "execute_result"
    }
   ],
   "source": [
    "usernames=rohub.users_find(search=\"Nieves\")\n",
    "usernames"
   ]
  },
  {
   "cell_type": "code",
   "execution_count": 23,
   "id": "ed0c0c04-2749-4bc8-827e-38aa68b01ad4",
   "metadata": {
    "tags": []
   },
   "outputs": [
    {
     "data": {
      "text/plain": [
       "'https://orcid.org/0000-0003-3784-6651'"
      ]
     },
     "execution_count": 23,
     "metadata": {},
     "output_type": "execute_result"
    }
   ],
   "source": [
    "user_id_nieves=usernames.loc[0,\"username\"]\n",
    "user_id_nieves"
   ]
  },
  {
   "cell_type": "markdown",
   "id": "5b8ab500-9601-415e-a2ae-fb76377ef91c",
   "metadata": {},
   "source": [
    "### Add authors/contributors"
   ]
  },
  {
   "cell_type": "code",
   "execution_count": 24,
   "id": "edcd56c6-7070-4f25-9a1e-1c5fcee45a73",
   "metadata": {},
   "outputs": [
    {
     "name": "stdout",
     "output_type": "stream",
     "text": [
      "Agent: annefou@geo.uio.no recognized in the system.\n",
      "Agent: https://orcid.org/0000-0003-3784-6651 recognized in the system.\n"
     ]
    },
    {
     "data": {
      "text/plain": [
       "[{'identifier': '62277187-0f2e-4320-a6b0-7fe467f1b1c1',\n",
       "  'username': 'annefou@geo.uio.no',\n",
       "  'name': 'annefou@geo.uio.no',\n",
       "  'type': 'RohubUser',\n",
       "  'display_name': 'Anne Fouilloux',\n",
       "  'orcid_identifier': '0000-0002-1784-2920',\n",
       "  'affiliation': 'Nordic e-Infrastructure Collaboration (NeIC)'},\n",
       " {'identifier': 'c62bf5a8-72ff-45e3-a92a-7ba9f5a06e0e',\n",
       "  'username': 'https://orcid.org/0000-0003-3784-6651',\n",
       "  'name': 'https://orcid.org/0000-0003-3784-6651',\n",
       "  'type': 'ExternalUser',\n",
       "  'display_name': 'Nieves Pepito',\n",
       "  'orcid_identifier': '0000-0003-3784-6651',\n",
       "  'affiliation': 'UNO-Recoletos'}]"
      ]
     },
     "execution_count": 24,
     "metadata": {},
     "output_type": "execute_result"
    }
   ],
   "source": [
    "ro.set_authors(agents=[user_id_anne,user_id_nieves])\n",
    "#ro.set_authors(agents=[\"dontdoit@lochness.uk\"])"
   ]
  },
  {
   "cell_type": "code",
   "execution_count": 25,
   "id": "d48dc33e-ea2c-4765-a735-85640ce4f55d",
   "metadata": {},
   "outputs": [
    {
     "name": "stdout",
     "output_type": "stream",
     "text": [
      "Agent: {'user_id': 'rapnonexist_3@hotmail.com', 'display_name': 'Pepito Bato', 'email': 'example3@hotmail.com', 'orcid_id': '0000-0002-8316-3192', 'affiliation': 'PCSS'} recognized in the system.\n"
     ]
    },
    {
     "data": {
      "text/plain": [
       "[{'identifier': 'b1acadbf-fdfa-49c3-b9e2-86d1ae6a93c3',\n",
       "  'username': 'https://orcid.org/0000-0002-8316-3192',\n",
       "  'name': 'https://orcid.org/0000-0002-8316-3192',\n",
       "  'type': 'ExternalUser',\n",
       "  'display_name': 'Pepito Bato',\n",
       "  'orcid_identifier': '0000-0002-8316-3192',\n",
       "  'affiliation': 'PCSS'}]"
      ]
     },
     "execution_count": 25,
     "metadata": {},
     "output_type": "execute_result"
    }
   ],
   "source": [
    "ro.set_contributors(agents=[{\"user_id\":\"rapnonexist_3@hotmail.com\", \n",
    "                             \"display_name\": \"Pepito Bato\", \n",
    "                             \"email\":\"example3@hotmail.com\",\n",
    "                             \"orcid_id\":\"0000-0002-8316-3192\",\n",
    "                             \"affiliation\": \"PCSS\"}])\n"
   ]
  },
  {
   "cell_type": "markdown",
   "id": "d699e49e-fa94-4072-bf27-d7031b69a30f",
   "metadata": {},
   "source": [
    "### List organizations"
   ]
  },
  {
   "cell_type": "code",
   "execution_count": 26,
   "id": "ab8422f0-e3b0-47ea-b77f-02105cfc4a58",
   "metadata": {},
   "outputs": [
    {
     "data": {
      "text/html": [
       "<div>\n",
       "<style scoped>\n",
       "    .dataframe tbody tr th:only-of-type {\n",
       "        vertical-align: middle;\n",
       "    }\n",
       "\n",
       "    .dataframe tbody tr th {\n",
       "        vertical-align: top;\n",
       "    }\n",
       "\n",
       "    .dataframe thead th {\n",
       "        text-align: right;\n",
       "    }\n",
       "</style>\n",
       "<table border=\"1\" class=\"dataframe\">\n",
       "  <thead>\n",
       "    <tr style=\"text-align: right;\">\n",
       "      <th></th>\n",
       "      <th>identifier</th>\n",
       "      <th>organization_id</th>\n",
       "      <th>display_name</th>\n",
       "      <th>email</th>\n",
       "      <th>url</th>\n",
       "      <th>ror_identifier</th>\n",
       "    </tr>\n",
       "  </thead>\n",
       "  <tbody>\n",
       "    <tr>\n",
       "      <th>0</th>\n",
       "      <td>64ec5402-1171-42f6-b9dd-6fa901ca9724</td>\n",
       "      <td>https://ror.org/025cj6e44</td>\n",
       "      <td>Poznan Supercomputing and Networking Center</td>\n",
       "      <td>office@man.poznan.pl</td>\n",
       "      <td>https://www.psnc.pl/</td>\n",
       "      <td>025cj6e44</td>\n",
       "    </tr>\n",
       "  </tbody>\n",
       "</table>\n",
       "</div>"
      ],
      "text/plain": [
       "                             identifier            organization_id  \\\n",
       "0  64ec5402-1171-42f6-b9dd-6fa901ca9724  https://ror.org/025cj6e44   \n",
       "\n",
       "                                  display_name                 email  \\\n",
       "0  Poznan Supercomputing and Networking Center  office@man.poznan.pl   \n",
       "\n",
       "                    url ror_identifier  \n",
       "0  https://www.psnc.pl/      025cj6e44  "
      ]
     },
     "execution_count": 26,
     "metadata": {},
     "output_type": "execute_result"
    }
   ],
   "source": [
    "organizations=rohub.organizations_find(search=\"poznan\")\n",
    "organizations"
   ]
  },
  {
   "cell_type": "markdown",
   "id": "cffee19f-5c14-414a-a8d9-e2cf8524bd2c",
   "metadata": {},
   "source": [
    "### Add publisher/copyright holder"
   ]
  },
  {
   "cell_type": "code",
   "execution_count": 27,
   "id": "4bde648f-bcfd-463b-a2b5-bd683bf8b421",
   "metadata": {},
   "outputs": [
    {
     "name": "stdout",
     "output_type": "stream",
     "text": [
      "Agent: https://ror.org/025cj6e44 recognized in the system.\n"
     ]
    },
    {
     "data": {
      "text/plain": [
       "[{'identifier': '64ec5402-1171-42f6-b9dd-6fa901ca9724',\n",
       "  'username': 'https://ror.org/025cj6e44',\n",
       "  'name': 'https://ror.org/025cj6e44',\n",
       "  'type': 'Organization',\n",
       "  'display_name': 'Poznan Supercomputing and Networking Center'}]"
      ]
     },
     "execution_count": 27,
     "metadata": {},
     "output_type": "execute_result"
    }
   ],
   "source": [
    "ro.set_publishers(agents=[organizations.loc[0,\"organization_id\"]])"
   ]
  },
  {
   "cell_type": "code",
   "execution_count": 28,
   "id": "e202d803-bafb-4f7a-b2dc-18a7c7a1e1e9",
   "metadata": {
    "tags": []
   },
   "outputs": [
    {
     "name": "stdout",
     "output_type": "stream",
     "text": [
      "Agent: {'org_id': 'https://neic.no/', 'display_name': 'Nordic e-Infrastructure Collaboration', 'agent_type': 'organization', 'ror_identifier': '04jcwf484', 'organization_url': 'https://neic.no/'} recognized in the system.\n"
     ]
    },
    {
     "data": {
      "text/plain": [
       "[{'identifier': 'fbd9bdcf-4a1d-4ae8-9a90-6b9ec5a3b8b2',\n",
       "  'username': 'https://ror.org/04jcwf484',\n",
       "  'name': 'https://ror.org/04jcwf484',\n",
       "  'type': 'Organization',\n",
       "  'display_name': 'Nordic e-Infrastructure Collaboration'}]"
      ]
     },
     "execution_count": 28,
     "metadata": {},
     "output_type": "execute_result"
    }
   ],
   "source": [
    "ro.set_copyright_holders(agents=[{\"org_id\":\"https://neic.no/\",\n",
    "                    \"display_name\": \"Nordic e-Infrastructure Collaboration\", \n",
    "                     \"agent_type\": \"organization\",\n",
    "                    \"ror_identifier\":\"04jcwf484\",\n",
    "                    \"organization_url\": \"https://neic.no/\"}])"
   ]
  },
  {
   "cell_type": "markdown",
   "id": "a1d102a5-0477-4629-8c25-3b69e449905d",
   "metadata": {},
   "source": [
    "## Add RO license"
   ]
  },
  {
   "cell_type": "markdown",
   "id": "c863dbc9-fcc2-4a83-9287-9d5ef383b32a",
   "metadata": {},
   "source": [
    "### list available pre-defined licenses"
   ]
  },
  {
   "cell_type": "code",
   "execution_count": 29,
   "id": "fa86eaa8-2be7-42c7-b65c-be4853717240",
   "metadata": {
    "tags": []
   },
   "outputs": [
    {
     "data": {
      "text/plain": [
       "['0BSD',\n",
       " 'AAL',\n",
       " 'ADSL',\n",
       " 'AFL-1.1',\n",
       " 'AFL-1.2',\n",
       " 'AFL-2.0',\n",
       " 'AFL-2.1',\n",
       " 'AFL-3.0',\n",
       " 'AGPL-1.0',\n",
       " 'AGPL-1.0-only',\n",
       " 'AGPL-1.0-or-later',\n",
       " 'AGPL-3.0',\n",
       " 'AGPL-3.0-only',\n",
       " 'AGPL-3.0-or-later',\n",
       " 'AMDPLPA',\n",
       " 'AML',\n",
       " 'AMPAS',\n",
       " 'ANTLR-PD',\n",
       " 'ANTLR-PD-fallback',\n",
       " 'APAFML',\n",
       " 'APL-1.0',\n",
       " 'APSL-1.0',\n",
       " 'APSL-1.1',\n",
       " 'APSL-1.2',\n",
       " 'APSL-2.0',\n",
       " 'Abstyles',\n",
       " 'Adobe-2006',\n",
       " 'Adobe-Glyph',\n",
       " 'Afmparse',\n",
       " 'Against-DRM',\n",
       " 'Aladdin',\n",
       " 'Apache-1.0',\n",
       " 'Apache-1.1',\n",
       " 'Apache-2.0',\n",
       " 'Artistic-1.0',\n",
       " 'Artistic-1.0-Perl',\n",
       " 'Artistic-1.0-cl8',\n",
       " 'Artistic-2.0',\n",
       " 'BSD-1-Clause',\n",
       " 'BSD-2-Clause',\n",
       " 'BSD-2-Clause-FreeBSD',\n",
       " 'BSD-2-Clause-NetBSD',\n",
       " 'BSD-2-Clause-Patent',\n",
       " 'BSD-2-Clause-Views',\n",
       " 'BSD-3-Clause',\n",
       " 'BSD-3-Clause-Attribution',\n",
       " 'BSD-3-Clause-Clear',\n",
       " 'BSD-3-Clause-LBNL',\n",
       " 'BSD-3-Clause-Modification',\n",
       " 'BSD-3-Clause-No-Military-License',\n",
       " 'BSD-3-Clause-No-Nuclear-License',\n",
       " 'BSD-3-Clause-No-Nuclear-License-2014',\n",
       " 'BSD-3-Clause-No-Nuclear-Warranty',\n",
       " 'BSD-3-Clause-Open-MPI',\n",
       " 'BSD-4-Clause',\n",
       " 'BSD-4-Clause-Shortened',\n",
       " 'BSD-4-Clause-UC',\n",
       " 'BSD-Protection',\n",
       " 'BSD-Source-Code',\n",
       " 'BSL-1.0',\n",
       " 'BUSL-1.1',\n",
       " 'Bahyph',\n",
       " 'Barr',\n",
       " 'Beerware',\n",
       " 'BitTorrent-1.0',\n",
       " 'BitTorrent-1.1',\n",
       " 'BlueOak-1.0.0',\n",
       " 'Borceux',\n",
       " 'C-UDA-1.0',\n",
       " 'CAL-1.0',\n",
       " 'CAL-1.0-Combined-Work-Exception',\n",
       " 'CATOSL-1.1',\n",
       " 'CC-BY-1.0',\n",
       " 'CC-BY-2.0',\n",
       " 'CC-BY-2.5',\n",
       " 'CC-BY-2.5-AU',\n",
       " 'CC-BY-3.0',\n",
       " 'CC-BY-3.0-AT',\n",
       " 'CC-BY-3.0-DE',\n",
       " 'CC-BY-3.0-NL',\n",
       " 'CC-BY-3.0-US',\n",
       " 'CC-BY-4.0',\n",
       " 'CC-BY-NC-1.0',\n",
       " 'CC-BY-NC-2.0',\n",
       " 'CC-BY-NC-2.5',\n",
       " 'CC-BY-NC-3.0',\n",
       " 'CC-BY-NC-3.0-DE',\n",
       " 'CC-BY-NC-4.0',\n",
       " 'CC-BY-NC-ND-1.0',\n",
       " 'CC-BY-NC-ND-2.0',\n",
       " 'CC-BY-NC-ND-2.5',\n",
       " 'CC-BY-NC-ND-3.0',\n",
       " 'CC-BY-NC-ND-3.0-DE',\n",
       " 'CC-BY-NC-ND-3.0-IGO',\n",
       " 'CC-BY-NC-ND-4.0',\n",
       " 'CC-BY-NC-SA-1.0',\n",
       " 'CC-BY-NC-SA-2.0',\n",
       " 'CC-BY-NC-SA-2.0-FR',\n",
       " 'CC-BY-NC-SA-2.0-UK',\n",
       " 'CC-BY-NC-SA-2.5',\n",
       " 'CC-BY-NC-SA-3.0',\n",
       " 'CC-BY-NC-SA-3.0-DE',\n",
       " 'CC-BY-NC-SA-3.0-IGO',\n",
       " 'CC-BY-NC-SA-4.0',\n",
       " 'CC-BY-ND-1.0',\n",
       " 'CC-BY-ND-2.0',\n",
       " 'CC-BY-ND-2.5',\n",
       " 'CC-BY-ND-3.0',\n",
       " 'CC-BY-ND-3.0-DE',\n",
       " 'CC-BY-ND-4.0',\n",
       " 'CC-BY-SA-1.0',\n",
       " 'CC-BY-SA-2.0',\n",
       " 'CC-BY-SA-2.0-UK',\n",
       " 'CC-BY-SA-2.1-JP',\n",
       " 'CC-BY-SA-2.5',\n",
       " 'CC-BY-SA-3.0',\n",
       " 'CC-BY-SA-3.0-AT',\n",
       " 'CC-BY-SA-3.0-DE',\n",
       " 'CC-BY-SA-4.0',\n",
       " 'CC-PDDC',\n",
       " 'CC0-1.0',\n",
       " 'CDDL-1.0',\n",
       " 'CDDL-1.1',\n",
       " 'CDL-1.0',\n",
       " 'CDLA-Permissive-1.0',\n",
       " 'CDLA-Permissive-2.0',\n",
       " 'CDLA-Sharing-1.0',\n",
       " 'CECILL-1.0',\n",
       " 'CECILL-1.1',\n",
       " 'CECILL-2.0',\n",
       " 'CECILL-2.1',\n",
       " 'CECILL-B',\n",
       " 'CECILL-C',\n",
       " 'CERN-OHL-1.1',\n",
       " 'CERN-OHL-1.2',\n",
       " 'CERN-OHL-P-2.0',\n",
       " 'CERN-OHL-S-2.0',\n",
       " 'CERN-OHL-W-2.0',\n",
       " 'CNRI-Jython',\n",
       " 'CNRI-Python',\n",
       " 'CNRI-Python-GPL-Compatible',\n",
       " 'CPAL-1.0',\n",
       " 'CPL-1.0',\n",
       " 'CPOL-1.02',\n",
       " 'CUA-OPL-1.0',\n",
       " 'Caldera',\n",
       " 'ClArtistic',\n",
       " 'Condor-1.1',\n",
       " 'Crossword',\n",
       " 'CrystalStacker',\n",
       " 'Cube',\n",
       " 'D-FSL-1.0',\n",
       " 'DOC',\n",
       " 'DRL-1.0',\n",
       " 'DSDP',\n",
       " 'DSL',\n",
       " 'Dotseqn',\n",
       " 'ECL-1.0',\n",
       " 'ECL-2.0',\n",
       " 'EFL-1.0',\n",
       " 'EFL-2.0',\n",
       " 'EPICS',\n",
       " 'EPL-1.0',\n",
       " 'EPL-2.0',\n",
       " 'EUDatagrid',\n",
       " 'EUPL-1.0',\n",
       " 'EUPL-1.1',\n",
       " 'EUPL-1.2',\n",
       " 'Entessa',\n",
       " 'ErlPL-1.1',\n",
       " 'Eurosym',\n",
       " 'FAL-1.3',\n",
       " 'FSFAP',\n",
       " 'FSFUL',\n",
       " 'FSFULLR',\n",
       " 'FTL',\n",
       " 'Fair',\n",
       " 'Frameworx-1.0',\n",
       " 'FreeBSD-DOC',\n",
       " 'FreeImage',\n",
       " 'GD',\n",
       " 'GFDL-1.1',\n",
       " 'GFDL-1.1-invariants-only',\n",
       " 'GFDL-1.1-invariants-or-later',\n",
       " 'GFDL-1.1-no-invariants-only',\n",
       " 'GFDL-1.1-no-invariants-or-later',\n",
       " 'GFDL-1.1-only',\n",
       " 'GFDL-1.1-or-later',\n",
       " 'GFDL-1.2',\n",
       " 'GFDL-1.2-invariants-only',\n",
       " 'GFDL-1.2-invariants-or-later',\n",
       " 'GFDL-1.2-no-invariants-only',\n",
       " 'GFDL-1.2-no-invariants-or-later',\n",
       " 'GFDL-1.2-only',\n",
       " 'GFDL-1.2-or-later',\n",
       " 'GFDL-1.3',\n",
       " 'GFDL-1.3-invariants-only',\n",
       " 'GFDL-1.3-invariants-or-later',\n",
       " 'GFDL-1.3-no-cover-texts-no-invariant-sections',\n",
       " 'GFDL-1.3-no-invariants-only',\n",
       " 'GFDL-1.3-no-invariants-or-later',\n",
       " 'GFDL-1.3-only',\n",
       " 'GFDL-1.3-or-later',\n",
       " 'GL2PS',\n",
       " 'GLWTPL',\n",
       " 'GPL-1.0',\n",
       " 'GPL-1.0+',\n",
       " 'GPL-1.0-only',\n",
       " 'GPL-1.0-or-later',\n",
       " 'GPL-2.0',\n",
       " 'GPL-2.0+',\n",
       " 'GPL-2.0-only',\n",
       " 'GPL-2.0-or-later',\n",
       " 'GPL-2.0-with-GCC-exception',\n",
       " 'GPL-2.0-with-autoconf-exception',\n",
       " 'GPL-2.0-with-bison-exception',\n",
       " 'GPL-2.0-with-classpath-exception',\n",
       " 'GPL-2.0-with-font-exception',\n",
       " 'GPL-3.0',\n",
       " 'GPL-3.0+',\n",
       " 'GPL-3.0-only',\n",
       " 'GPL-3.0-or-later',\n",
       " 'GPL-3.0-with-GCC-exception',\n",
       " 'GPL-3.0-with-autoconf-exception',\n",
       " 'Giftware',\n",
       " 'Glide',\n",
       " 'Glulxe',\n",
       " 'HPND',\n",
       " 'HPND-sell-variant',\n",
       " 'HTMLTIDY',\n",
       " 'HaskellReport',\n",
       " 'Hippocratic-2.1',\n",
       " 'IBM-pibs',\n",
       " 'ICU',\n",
       " 'IJG',\n",
       " 'IPA',\n",
       " 'IPL-1.0',\n",
       " 'ISC',\n",
       " 'ImageMagick',\n",
       " 'Imlib2',\n",
       " 'Info-ZIP',\n",
       " 'Intel',\n",
       " 'Intel-ACPI',\n",
       " 'Interbase-1.0',\n",
       " 'JPNIC',\n",
       " 'JSON',\n",
       " 'JasPer-2.0',\n",
       " 'LAL-1.2',\n",
       " 'LAL-1.3',\n",
       " 'LGPL-2.0',\n",
       " 'LGPL-2.0+',\n",
       " 'LGPL-2.0-only',\n",
       " 'LGPL-2.0-or-later',\n",
       " 'LGPL-2.1',\n",
       " 'LGPL-2.1+',\n",
       " 'LGPL-2.1-only',\n",
       " 'LGPL-2.1-or-later',\n",
       " 'LGPL-3.0',\n",
       " 'LGPL-3.0+',\n",
       " 'LGPL-3.0-only',\n",
       " 'LGPL-3.0-or-later',\n",
       " 'LGPLLR',\n",
       " 'LO-FR-2.0',\n",
       " 'LPL-1.0',\n",
       " 'LPL-1.02',\n",
       " 'LPPL-1.0',\n",
       " 'LPPL-1.1',\n",
       " 'LPPL-1.2',\n",
       " 'LPPL-1.3a',\n",
       " 'LPPL-1.3c',\n",
       " 'Latex2e',\n",
       " 'Leptonica',\n",
       " 'LiLiQ-P-1.1',\n",
       " 'LiLiQ-R-1.1',\n",
       " 'LiLiQ-Rplus-1.1',\n",
       " 'Libpng',\n",
       " 'Linux-OpenIB',\n",
       " 'MIT',\n",
       " 'MIT-0',\n",
       " 'MIT-CMU',\n",
       " 'MIT-Modern-Variant',\n",
       " 'MIT-advertising',\n",
       " 'MIT-enna',\n",
       " 'MIT-feh',\n",
       " 'MIT-open-group',\n",
       " 'MITNFA',\n",
       " 'MPL-1.0',\n",
       " 'MPL-1.1',\n",
       " 'MPL-2.0',\n",
       " 'MPL-2.0-no-copyleft-exception',\n",
       " 'MS-PL',\n",
       " 'MS-RL',\n",
       " 'MTLL',\n",
       " 'MakeIndex',\n",
       " 'MirOS',\n",
       " 'Motosoto',\n",
       " 'MulanPSL-1.0',\n",
       " 'MulanPSL-2.0',\n",
       " 'Multics',\n",
       " 'Mup',\n",
       " 'NAIST-2003',\n",
       " 'NASA-1.3',\n",
       " 'NBPL-1.0',\n",
       " 'NCGL-UK-2.0',\n",
       " 'NCSA',\n",
       " 'NGPL',\n",
       " 'NIST-PD',\n",
       " 'NIST-PD-fallback',\n",
       " 'NLOD-1.0',\n",
       " 'NLOD-2.0',\n",
       " 'NLPL',\n",
       " 'NOSL',\n",
       " 'NPL-1.0',\n",
       " 'NPL-1.1',\n",
       " 'NPOSL-3.0',\n",
       " 'NRL',\n",
       " 'NTP',\n",
       " 'NTP-0',\n",
       " 'Naumen',\n",
       " 'Net-SNMP',\n",
       " 'NetCDF',\n",
       " 'Newsletr',\n",
       " 'Nokia',\n",
       " 'Noweb',\n",
       " 'Nunit',\n",
       " 'O-UDA-1.0',\n",
       " 'OCCT-PL',\n",
       " 'OCLC-2.0',\n",
       " 'ODC-By-1.0',\n",
       " 'ODC-PDDL-1.0',\n",
       " 'ODbL-1.0',\n",
       " 'OFL-1.0',\n",
       " 'OFL-1.0-RFN',\n",
       " 'OFL-1.0-no-RFN',\n",
       " 'OFL-1.1',\n",
       " 'OFL-1.1-RFN',\n",
       " 'OFL-1.1-no-RFN',\n",
       " 'OGC-1.0',\n",
       " 'OGDL-Taiwan-1.0',\n",
       " 'OGL-Canada-2.0',\n",
       " 'OGL-UK-1.0',\n",
       " 'OGL-UK-2.0',\n",
       " 'OGL-UK-3.0',\n",
       " 'OGTSL',\n",
       " 'OLDAP-1.1',\n",
       " 'OLDAP-1.2',\n",
       " 'OLDAP-1.3',\n",
       " 'OLDAP-1.4',\n",
       " 'OLDAP-2.0',\n",
       " 'OLDAP-2.0.1',\n",
       " 'OLDAP-2.1',\n",
       " 'OLDAP-2.2',\n",
       " 'OLDAP-2.2.1',\n",
       " 'OLDAP-2.2.2',\n",
       " 'OLDAP-2.3',\n",
       " 'OLDAP-2.4',\n",
       " 'OLDAP-2.5',\n",
       " 'OLDAP-2.6',\n",
       " 'OLDAP-2.7',\n",
       " 'OLDAP-2.8',\n",
       " 'OML',\n",
       " 'OPL-1.0',\n",
       " 'OPUBL-1.0',\n",
       " 'OSET-PL-2.1',\n",
       " 'OSL-1.0',\n",
       " 'OSL-1.1',\n",
       " 'OSL-2.0',\n",
       " 'OSL-2.1',\n",
       " 'OSL-3.0',\n",
       " 'OpenSSL',\n",
       " 'PDDL-1.0',\n",
       " 'PHP-3.0',\n",
       " 'PHP-3.01',\n",
       " 'PSF-2.0',\n",
       " 'Parity-6.0.0',\n",
       " 'Parity-7.0.0',\n",
       " 'Plexus',\n",
       " 'PolyForm-Noncommercial-1.0.0',\n",
       " 'PolyForm-Small-Business-1.0.0',\n",
       " 'PostgreSQL',\n",
       " 'Python-2.0',\n",
       " 'QPL-1.0',\n",
       " 'Qhull',\n",
       " 'RHeCos-1.1',\n",
       " 'RPL-1.1',\n",
       " 'RPL-1.5',\n",
       " 'RPSL-1.0',\n",
       " 'RSA-MD',\n",
       " 'RSCPL',\n",
       " 'Rdisc',\n",
       " 'Ruby',\n",
       " 'SAX-PD',\n",
       " 'SCEA',\n",
       " 'SGI-B-1.0',\n",
       " 'SGI-B-1.1',\n",
       " 'SGI-B-2.0',\n",
       " 'SHL-0.5',\n",
       " 'SHL-0.51',\n",
       " 'SISSL',\n",
       " 'SISSL-1.2',\n",
       " 'SMLNJ',\n",
       " 'SMPPL',\n",
       " 'SNIA',\n",
       " 'SPL-1.0',\n",
       " 'SSH-OpenSSH',\n",
       " 'SSH-short',\n",
       " 'SSPL-1.0',\n",
       " 'SWL',\n",
       " 'Saxpath',\n",
       " 'Sendmail',\n",
       " 'Sendmail-8.23',\n",
       " 'SimPL-2.0',\n",
       " 'Sleepycat',\n",
       " 'Spencer-86',\n",
       " 'Spencer-94',\n",
       " 'Spencer-99',\n",
       " 'StandardML-NJ',\n",
       " 'SugarCRM-1.1.3',\n",
       " 'TAPR-OHL-1.0',\n",
       " 'TCL',\n",
       " 'TCP-wrappers',\n",
       " 'TMate',\n",
       " 'TORQUE-1.1',\n",
       " 'TOSL',\n",
       " 'TU-Berlin-1.0',\n",
       " 'TU-Berlin-2.0',\n",
       " 'UCL-1.0',\n",
       " 'UPL-1.0',\n",
       " 'Unicode-DFS-2015',\n",
       " 'Unicode-DFS-2016',\n",
       " 'Unicode-TOU',\n",
       " 'Unlicense',\n",
       " 'VOSTROM',\n",
       " 'VSL-1.0',\n",
       " 'Vim',\n",
       " 'W3C',\n",
       " 'W3C-19980720',\n",
       " 'W3C-20150513',\n",
       " 'WTFPL',\n",
       " 'Watcom-1.0',\n",
       " 'Wsuipa',\n",
       " 'X11',\n",
       " 'XFree86-1.1',\n",
       " 'XSkat',\n",
       " 'Xerox',\n",
       " 'Xnet',\n",
       " 'YPL-1.0',\n",
       " 'YPL-1.1',\n",
       " 'ZPL-1.1',\n",
       " 'ZPL-2.0',\n",
       " 'ZPL-2.1',\n",
       " 'Zed',\n",
       " 'Zend-2.0',\n",
       " 'Zimbra-1.3',\n",
       " 'Zimbra-1.4',\n",
       " 'Zlib',\n",
       " 'acme-cc',\n",
       " 'blessing',\n",
       " 'bsd-license',\n",
       " 'bzip2-1.0.5',\n",
       " 'bzip2-1.0.6',\n",
       " 'canada-crown',\n",
       " 'cc-nc',\n",
       " 'copyleft-next-0.3.0',\n",
       " 'copyleft-next-0.3.1',\n",
       " 'curl',\n",
       " 'diffmark',\n",
       " 'dli-model-use',\n",
       " 'dvipdfm',\n",
       " 'eCos-2.0',\n",
       " 'eGenix',\n",
       " 'etalab-2.0',\n",
       " 'eurofound',\n",
       " 'gSOAP-1.3b',\n",
       " 'geo-no-fee-unrestricted',\n",
       " 'geogratis',\n",
       " 'gnuplot',\n",
       " 'hesa-withrights',\n",
       " 'iMatix',\n",
       " 'jabber-osl',\n",
       " 'libpng-2.0',\n",
       " 'libselinux-1.0',\n",
       " 'libtiff',\n",
       " 'localauth-withrights',\n",
       " 'lucent-plan9',\n",
       " 'met-office-cp',\n",
       " 'mitre',\n",
       " 'mpich2',\n",
       " 'my-example-license1',\n",
       " 'notspecified',\n",
       " 'other-at',\n",
       " 'other-closed',\n",
       " 'other-nc',\n",
       " 'other-open',\n",
       " 'other-pd',\n",
       " 'psfrag',\n",
       " 'psutils',\n",
       " 'ukclickusepsi',\n",
       " 'ukcrown',\n",
       " 'ukcrown-withrights',\n",
       " 'ukpsi',\n",
       " 'user-jsim',\n",
       " 'wxWindows',\n",
       " 'xinetd',\n",
       " 'xpp',\n",
       " 'zenodo-freetoread-1.0',\n",
       " 'zlib-acknowledgement']"
      ]
     },
     "execution_count": 29,
     "metadata": {},
     "output_type": "execute_result"
    }
   ],
   "source": [
    "rohub.list_available_licenses()"
   ]
  },
  {
   "cell_type": "markdown",
   "id": "0cb84129-705d-4389-9aaf-c35b0daf2e68",
   "metadata": {},
   "source": [
    "### set license"
   ]
  },
  {
   "cell_type": "code",
   "execution_count": 30,
   "id": "81e765b2-b065-4bc8-b3a6-229d0957174f",
   "metadata": {},
   "outputs": [
    {
     "data": {
      "text/plain": [
       "{'identifier': '0BSD',\n",
       " 'title': 'BSD Zero Clause License',\n",
       " 'description': 'BSD Zero Clause License',\n",
       " 'created': '2018-11-22T14:50:27.019476+00:00',\n",
       " 'updated': '2021-10-07T08:21:24.882291+00:00',\n",
       " 'creator': None,\n",
       " 'status': 'active',\n",
       " 'url': 'http://landley.net/toybox/license.html',\n",
       " 'custom': False}"
      ]
     },
     "execution_count": 30,
     "metadata": {},
     "output_type": "execute_result"
    }
   ],
   "source": [
    "ro.set_license(license_id=rohub.list_available_licenses()[0]) "
   ]
  },
  {
   "cell_type": "code",
   "execution_count": 31,
   "id": "17b3b231-e2c6-48ab-93b7-ba75bb6cb13c",
   "metadata": {},
   "outputs": [
    {
     "data": {
      "text/plain": [
       "['active', 'retired']"
      ]
     },
     "execution_count": 31,
     "metadata": {},
     "output_type": "execute_result"
    }
   ],
   "source": [
    "rohub.list_valid_license_status()"
   ]
  },
  {
   "cell_type": "code",
   "execution_count": 32,
   "id": "1aaf1c57-0c94-46eb-ac0f-577db94c3442",
   "metadata": {},
   "outputs": [
    {
     "data": {
      "text/plain": [
       "[{'identifier': 'acme-cc',\n",
       "  'title': 'ACME Inc. Commercial License',\n",
       "  'description': None,\n",
       "  'status': 'active',\n",
       "  'url': 'http://www.acme.org/licence-commercial',\n",
       "  'created': '2021-12-09T13:54:10.927006Z',\n",
       "  'updated': None,\n",
       "  'creator': 'rpalma@man.poznan.pl',\n",
       "  'api_link': 'https://api.rohub.org/api/custom-licenses/acme-cc/'},\n",
       " {'identifier': 'my-example-license1',\n",
       "  'title': 'My example license',\n",
       "  'description': 'this is an example license',\n",
       "  'status': 'active',\n",
       "  'url': 'http://myexample.org/license',\n",
       "  'created': '2021-11-08T16:18:29.048012Z',\n",
       "  'updated': None,\n",
       "  'creator': 'rpalma@man.poznan.pl',\n",
       "  'api_link': 'https://api.rohub.org/api/custom-licenses/my-example-license1/'}]"
      ]
     },
     "execution_count": 32,
     "metadata": {},
     "output_type": "execute_result"
    }
   ],
   "source": [
    "rohub.list_custom_licenses() "
   ]
  },
  {
   "cell_type": "markdown",
   "id": "4cf71f90-a176-403c-b508-5d66e77f5298",
   "metadata": {},
   "source": [
    "## Add RO Funding information"
   ]
  },
  {
   "cell_type": "markdown",
   "id": "3f593c4b-4e0f-4191-b2e9-0b19af75ded2",
   "metadata": {},
   "source": [
    "### list predefined funders"
   ]
  },
  {
   "cell_type": "code",
   "execution_count": 33,
   "id": "1d6f4310-6e7a-49ef-bd47-13a03d0a1b96",
   "metadata": {
    "tags": []
   },
   "outputs": [
    {
     "data": {
      "text/plain": [
       "{1: {'api_url': 'https://zenodo.org/api/funders/10.13039/501100010363',\n",
       "  'acronym': [],\n",
       "  'identifiers': {'oaf': None},\n",
       "  'name': 'Minister Erna Hamiltons Legat for Videnskab og Kunst',\n",
       "  'doi': '10.13039/501100010363'},\n",
       " 2: {'api_url': 'https://zenodo.org/api/funders/10.13039/501100009192',\n",
       "  'acronym': [],\n",
       "  'identifiers': {'oaf': None},\n",
       "  'name': 'Alberta Innovates',\n",
       "  'doi': '10.13039/501100009192'},\n",
       " 3: {'api_url': 'https://zenodo.org/api/funders/10.13039/100013028',\n",
       "  'acronym': [],\n",
       "  'identifiers': {'oaf': None},\n",
       "  'name': 'Frank McGraw Memorial Chair in Cancer Research',\n",
       "  'doi': '10.13039/100013028'},\n",
       " 4: {'api_url': 'https://zenodo.org/api/funders/10.13039/501100009191',\n",
       "  'acronym': [],\n",
       "  'identifiers': {'oaf': None},\n",
       "  'name': \"Attorney-General's Department, Australian Government\",\n",
       "  'doi': '10.13039/501100009191'},\n",
       " 5: {'api_url': 'https://zenodo.org/api/funders/10.13039/100011344',\n",
       "  'acronym': [],\n",
       "  'identifiers': {'oaf': None},\n",
       "  'name': 'McDougall Trust',\n",
       "  'doi': '10.13039/100011344'},\n",
       " 6: {'api_url': 'https://zenodo.org/api/funders/10.13039/501100009188',\n",
       "  'acronym': [],\n",
       "  'identifiers': {'oaf': None},\n",
       "  'name': 'Department of Agriculture and Water Resources, Australian Government',\n",
       "  'doi': '10.13039/501100009188'},\n",
       " 7: {'api_url': 'https://zenodo.org/api/funders/10.13039/501100010362',\n",
       "  'acronym': [],\n",
       "  'identifiers': {'oaf': None},\n",
       "  'name': 'Medical Workshop',\n",
       "  'doi': '10.13039/501100010362'},\n",
       " 8: {'api_url': 'https://zenodo.org/api/funders/10.13039/501100010361',\n",
       "  'acronym': [],\n",
       "  'identifiers': {'oaf': None},\n",
       "  'name': 'Max Fodgaard Fonden',\n",
       "  'doi': '10.13039/501100010361'},\n",
       " 9: {'api_url': 'https://zenodo.org/api/funders/10.13039/100013013',\n",
       "  'acronym': [],\n",
       "  'identifiers': {'oaf': None},\n",
       "  'name': 'Target ALS',\n",
       "  'doi': '10.13039/100013013'},\n",
       " 10: {'api_url': 'https://zenodo.org/api/funders/10.13039/501100009187',\n",
       "  'acronym': [],\n",
       "  'identifiers': {'oaf': None},\n",
       "  'name': 'Medical Research Foundation',\n",
       "  'doi': '10.13039/501100009187'},\n",
       " 11: {'api_url': 'https://zenodo.org/api/funders/10.13039/501100010360',\n",
       "  'acronym': [],\n",
       "  'identifiers': {'oaf': None},\n",
       "  'name': 'Marie og M.B. Richters Fond',\n",
       "  'doi': '10.13039/501100010360'},\n",
       " 12: {'api_url': 'https://zenodo.org/api/funders/10.13039/501100008134',\n",
       "  'acronym': [],\n",
       "  'identifiers': {'oaf': None},\n",
       "  'name': 'Office of the Royal Society',\n",
       "  'doi': '10.13039/501100008134'},\n",
       " 13: {'api_url': 'https://zenodo.org/api/funders/10.13039/501100009163',\n",
       "  'acronym': [],\n",
       "  'identifiers': {'oaf': None},\n",
       "  'name': 'Centre of Latin American Studies, University of Cambridge',\n",
       "  'doi': '10.13039/501100009163'},\n",
       " 14: {'api_url': 'https://zenodo.org/api/funders/10.13039/501100009158',\n",
       "  'acronym': [],\n",
       "  'identifiers': {'oaf': None},\n",
       "  'name': 'Kawasaki Medical School',\n",
       "  'doi': '10.13039/501100009158'},\n",
       " 15: {'api_url': 'https://zenodo.org/api/funders/10.13039/501100009161',\n",
       "  'acronym': [],\n",
       "  'identifiers': {'oaf': None},\n",
       "  'name': 'Maurice and Vivienne Wohl Charitable Foundation',\n",
       "  'doi': '10.13039/501100009161'},\n",
       " 16: {'api_url': 'https://zenodo.org/api/funders/10.13039/501100010357',\n",
       "  'acronym': [],\n",
       "  'identifiers': {'oaf': None},\n",
       "  'name': 'Ingeniør K. A. Rohde og hustrus Legat',\n",
       "  'doi': '10.13039/501100010357'},\n",
       " 17: {'api_url': 'https://zenodo.org/api/funders/10.13039/501100009160',\n",
       "  'acronym': [],\n",
       "  'identifiers': {'oaf': None},\n",
       "  'name': 'Université Toulouse III - Paul Sabatier',\n",
       "  'doi': '10.13039/501100009160'},\n",
       " 18: {'api_url': 'https://zenodo.org/api/funders/10.13039/501100010339',\n",
       "  'acronym': [],\n",
       "  'identifiers': {'oaf': None},\n",
       "  'name': 'Ingeniør Otto Christensens Fond',\n",
       "  'doi': '10.13039/501100010339'},\n",
       " 19: {'api_url': 'https://zenodo.org/api/funders/10.13039/501100009156',\n",
       "  'acronym': [],\n",
       "  'identifiers': {'oaf': None},\n",
       "  'name': 'Nantong Science and Technology Bureau',\n",
       "  'doi': '10.13039/501100009156'},\n",
       " 20: {'api_url': 'https://zenodo.org/api/funders/10.13039/501100010358',\n",
       "  'acronym': [],\n",
       "  'identifiers': {'oaf': None},\n",
       "  'name': 'KV Fonden',\n",
       "  'doi': '10.13039/501100010358'},\n",
       " 21: {'api_url': 'https://zenodo.org/api/funders/10.13039/501100009153',\n",
       "  'acronym': [],\n",
       "  'identifiers': {'oaf': None},\n",
       "  'name': 'Fundación MEDINA',\n",
       "  'doi': '10.13039/501100009153'},\n",
       " 22: {'api_url': 'https://zenodo.org/api/funders/10.13039/501100009159',\n",
       "  'acronym': [],\n",
       "  'identifiers': {'oaf': None},\n",
       "  'name': 'Lianyungang Science and Technology Bureau',\n",
       "  'doi': '10.13039/501100009159'},\n",
       " 23: {'api_url': 'https://zenodo.org/api/funders/10.13039/501100010332',\n",
       "  'acronym': [],\n",
       "  'identifiers': {'oaf': None},\n",
       "  'name': 'Stichting Winckel-Sweep',\n",
       "  'doi': '10.13039/501100010332'},\n",
       " 24: {'api_url': 'https://zenodo.org/api/funders/10.13039/501100010352',\n",
       "  'acronym': [],\n",
       "  'identifiers': {'oaf': None},\n",
       "  'name': 'Helen Rudes Fond',\n",
       "  'doi': '10.13039/501100010352'},\n",
       " 25: {'api_url': 'https://zenodo.org/api/funders/10.13039/100011331',\n",
       "  'acronym': [],\n",
       "  'identifiers': {'oaf': None},\n",
       "  'name': 'Monique Weill-Caulier Trust',\n",
       "  'doi': '10.13039/100011331'},\n",
       " 26: {'api_url': 'https://zenodo.org/api/funders/10.13039/501100009152',\n",
       "  'acronym': [],\n",
       "  'identifiers': {'oaf': None},\n",
       "  'name': 'Fundación Antoni de Gimbernat',\n",
       "  'doi': '10.13039/501100009152'},\n",
       " 27: {'api_url': 'https://zenodo.org/api/funders/10.13039/501100009154',\n",
       "  'acronym': [],\n",
       "  'identifiers': {'oaf': None},\n",
       "  'name': 'Fundación Juan March',\n",
       "  'doi': '10.13039/501100009154'},\n",
       " 28: {'api_url': 'https://zenodo.org/api/funders/10.13039/501100010350',\n",
       "  'acronym': [],\n",
       "  'identifiers': {'oaf': None},\n",
       "  'name': 'Grete og Sigurd Pedersens Fond',\n",
       "  'doi': '10.13039/501100010350'},\n",
       " 29: {'api_url': 'https://zenodo.org/api/funders/10.13039/501100010351',\n",
       "  'acronym': [],\n",
       "  'identifiers': {'oaf': None},\n",
       "  'name': 'Grosserer M. Brogaard og Hustrus Mindefond',\n",
       "  'doi': '10.13039/501100010351'},\n",
       " 30: {'api_url': 'https://zenodo.org/api/funders/10.13039/501100010349',\n",
       "  'acronym': [],\n",
       "  'identifiers': {'oaf': None},\n",
       "  'name': 'Friedrich Wilhelm Frank og hustru Angelina Franks Mindelegat',\n",
       "  'doi': '10.13039/501100010349'}}"
      ]
     },
     "execution_count": 33,
     "metadata": {},
     "output_type": "execute_result"
    }
   ],
   "source": [
    "rohub.zenodo_list_funders(number_of_results=30)"
   ]
  },
  {
   "cell_type": "markdown",
   "id": "fc988839-3942-49e8-b832-772660e6a293",
   "metadata": {},
   "source": [
    "### set funding"
   ]
  },
  {
   "cell_type": "code",
   "execution_count": 34,
   "id": "0ec6f301-6fc9-4ab2-a403-79993666f7ee",
   "metadata": {},
   "outputs": [
    {
     "data": {
      "text/plain": [
       "'9f36e64f-ca72-4830-b694-8a895fcb5ce7'"
      ]
     },
     "execution_count": 34,
     "metadata": {},
     "output_type": "execute_result"
    }
   ],
   "source": [
    "grant_id=\"101017502\"\n",
    "grant_Name=\"RELIANCE\"\n",
    "grant_title=\"Research Lifecycle Management for Earth Science Communities and Copernicus Users\"\n",
    "funder_name=\"European Commission\"\n",
    "funder_doi=\"10.13039/501100000781\"\n",
    "\n",
    "ro.add_funding(grant_identifier=grant_id, grant_name=grant_Name, funder_name=funder_name,\n",
    "grant_title=grant_title, funder_doi=funder_doi)"
   ]
  },
  {
   "cell_type": "markdown",
   "id": "553b5445-1690-49eb-a0d5-ad16985b8366",
   "metadata": {},
   "source": [
    "## RO Evolution"
   ]
  },
  {
   "cell_type": "markdown",
   "id": "470232a1-4bfb-4222-8f90-584bfb405b26",
   "metadata": {
    "tags": []
   },
   "source": [
    "### Create simple snapshot/archive\n",
    "- Uncomment the lines below if you really want to create a snapshot.\n",
    "- We usually recommend to create snapshot of real scientific work, corresponding for instance at a milestone in your work."
   ]
  },
  {
   "cell_type": "code",
   "execution_count": 35,
   "id": "8ab275ee-41f8-4816-a216-a85d47807365",
   "metadata": {},
   "outputs": [],
   "source": [
    "# snapshot_id=ro.snapshot()\n",
    "# snapshot_id"
   ]
  },
  {
   "cell_type": "markdown",
   "id": "a49a1b4b-fbff-47c9-b959-a0274c72f189",
   "metadata": {
    "tags": []
   },
   "source": [
    "### Create snapshot/archive, optionally assign DOI + publish it in Zenodo"
   ]
  },
  {
   "cell_type": "code",
   "execution_count": 36,
   "id": "2bb8fd73-71fc-4b52-8aa7-b9b58c577288",
   "metadata": {
    "tags": []
   },
   "outputs": [],
   "source": [
    "snapshot_title=\"Copernicus Atmosphere Monitoring Service Data Cube RO December 8th - published v1\"\n",
    "# Uncomment the line below to publish in zenodo and get a DOI\n",
    "# snapshot_id_pub=ro.snapshot(title=snapshot_title, create_doi=True, publication_services=[\"Zenodo\"])\n",
    "#snapshot_id_pub"
   ]
  },
  {
   "cell_type": "markdown",
   "id": "3b4282fb-aa0b-4087-a69c-b1805dcc2f66",
   "metadata": {},
   "source": [
    "#### Load published snapshot/archive and list zenodo id/doi"
   ]
  },
  {
   "cell_type": "code",
   "execution_count": 40,
   "id": "fd00dd0a-8dbf-482e-8d0e-e50be30d7cdc",
   "metadata": {},
   "outputs": [
    {
     "name": "stdout",
     "output_type": "stream",
     "text": [
      "Research Object was successfully loaded with id = 57cf76e1-2179-4650-b48b-b5990dca86c1\n"
     ]
    },
    {
     "data": {
      "text/plain": [
       "[]"
      ]
     },
     "execution_count": 40,
     "metadata": {},
     "output_type": "execute_result"
    }
   ],
   "source": [
    "snapshot_id_pub = '57cf76e1-2179-4650-b48b-b5990dca86c1'\n",
    "published_ro = rohub.ros_load(identifier=snapshot_id_pub)\n",
    "published_ro.list_publications()"
   ]
  },
  {
   "cell_type": "markdown",
   "id": "d62e53a6-17f2-4015-ba49-0974e2d1287f",
   "metadata": {},
   "source": [
    "### Create snapshot/archive, optionally assign DOI + publish it in B2Share"
   ]
  },
  {
   "cell_type": "code",
   "execution_count": 41,
   "id": "7563a2c2-2e3c-4a02-9c70-fdaf7094564a",
   "metadata": {},
   "outputs": [],
   "source": [
    "snapshot_title=\"Copernicus Atmosphere Monitoring Service Data Cube RO December 8th - published v2\"\n",
    "# Uncomment the two lines below to create a snapshot and publish it in B2SHARE\n",
    "# snapshot_id_pub=ro.snapshot(title=snapshot_title, create_doi=False, publication_services=[\"B2SHARE\"])\n",
    "# snapshot_id_pub"
   ]
  },
  {
   "cell_type": "markdown",
   "id": "5b4151d2-b0bf-4d5f-a2f8-7178ad583ac4",
   "metadata": {},
   "source": [
    "### Fork existing RO to reuse it for my own purposes"
   ]
  },
  {
   "cell_type": "code",
   "execution_count": 42,
   "id": "9d6b3b8c-2a9a-4b31-8403-8a183141c822",
   "metadata": {},
   "outputs": [
    {
     "name": "stdout",
     "output_type": "stream",
     "text": [
      "Trying to confirm status of the job. It can take a while...\n",
      "Research Object was successfully loaded with id = 21116679-72c9-4751-8db1-82c558dfa879\n"
     ]
    },
    {
     "data": {
      "text/plain": [
       "{'identifier': '21116679-72c9-4751-8db1-82c558dfa879',\n",
       " 'shared_link': 'https://w3id.org/ro-id/21116679-72c9-4751-8db1-82c558dfa879',\n",
       " 'title': 'Forked Copernicus Atmosphere Monitoring Service Data Cube RO December 8th',\n",
       " 'description': 'This Research Object demonstrate how to compute monthly map of PM10 over your country - modified',\n",
       " 'status': 'FORK',\n",
       " 'access_mode': 'PUBLIC',\n",
       " 'type': 'Data-centric Research Object',\n",
       " 'template': 'Data Centric Research Object folders structure',\n",
       " 'created': '2022-01-23T11:25:52.956418Z',\n",
       " 'creator': 'annefou@geo.uio.no',\n",
       " 'modificator': None,\n",
       " 'modified': '2022-01-23T11:31:29.276408Z',\n",
       " 'importer': None,\n",
       " 'research_areas': ['Earth sciences'],\n",
       " 'owner': 'annefou@geo.uio.no',\n",
       " 'editors': ['annefou@geo.uio.no', 'dario.stelitano@ingv.it'],\n",
       " 'readers': [],\n",
       " 'rating': '0.00',\n",
       " 'number_of_ratings': 0,\n",
       " 'number_of_likes': 0,\n",
       " 'number_of_dislikes': 0,\n",
       " 'quality': 0,\n",
       " 'size': 0,\n",
       " 'creation_mode': 'MANUAL',\n",
       " 'doi': None,\n",
       " 'api_link': 'https://api.rohub.org/api/ros/21116679-72c9-4751-8db1-82c558dfa879/'}"
      ]
     },
     "execution_count": 42,
     "metadata": {},
     "output_type": "execute_result"
    }
   ],
   "source": [
    "fork_id=ro.fork(title=\"Forked Copernicus Atmosphere Monitoring Service Data Cube RO December 8th\")\n",
    "forked_ro = rohub.ros_load(identifier=fork_id)\n",
    "forked_ro.show_metadata()\n",
    "#%time fork_id=ro.fork()"
   ]
  },
  {
   "cell_type": "markdown",
   "id": "1e13abaf-0671-435f-931b-a792c969c1c0",
   "metadata": {},
   "source": [
    "## Resource methods"
   ]
  },
  {
   "cell_type": "markdown",
   "id": "368fffa5-4e19-4f21-b6e3-e39b74cdd34b",
   "metadata": {},
   "source": [
    "### Load resource"
   ]
  },
  {
   "cell_type": "code",
   "execution_count": 43,
   "id": "55177085-5d12-4f4b-b9ca-ddffd19f3163",
   "metadata": {},
   "outputs": [
    {
     "data": {
      "text/html": [
       "<div>\n",
       "<style scoped>\n",
       "    .dataframe tbody tr th:only-of-type {\n",
       "        vertical-align: middle;\n",
       "    }\n",
       "\n",
       "    .dataframe tbody tr th {\n",
       "        vertical-align: top;\n",
       "    }\n",
       "\n",
       "    .dataframe thead th {\n",
       "        text-align: right;\n",
       "    }\n",
       "</style>\n",
       "<table border=\"1\" class=\"dataframe\">\n",
       "  <thead>\n",
       "    <tr style=\"text-align: right;\">\n",
       "      <th></th>\n",
       "      <th>identifier</th>\n",
       "      <th>type</th>\n",
       "      <th>source</th>\n",
       "      <th>title</th>\n",
       "      <th>description</th>\n",
       "      <th>url</th>\n",
       "      <th>name</th>\n",
       "      <th>path</th>\n",
       "      <th>size</th>\n",
       "      <th>creator</th>\n",
       "      <th>created_on</th>\n",
       "      <th>modified_on</th>\n",
       "      <th>download_url</th>\n",
       "    </tr>\n",
       "  </thead>\n",
       "  <tbody>\n",
       "    <tr>\n",
       "      <th>0</th>\n",
       "      <td>1a23e779-20c8-4a49-bf1d-33a44b07bb1b</td>\n",
       "      <td>Dataset</td>\n",
       "      <td>external</td>\n",
       "      <td>Catch data from Norway</td>\n",
       "      <td>Catch data records sample from 2019</td>\n",
       "      <td>https://box.psnc.pl/f/d90a0e1e0d/?raw=1</td>\n",
       "      <td>Catch data from Norway</td>\n",
       "      <td>https://box.psnc.pl/f/d90a0e1e0d/?raw=1</td>\n",
       "      <td>NaN</td>\n",
       "      <td>annefou@geo.uio.no</td>\n",
       "      <td>2022-01-23T11:26:45.692570+0000</td>\n",
       "      <td>2022-01-23T11:26:45.693196+0000</td>\n",
       "      <td>https://box.psnc.pl/f/d90a0e1e0d/?raw=1</td>\n",
       "    </tr>\n",
       "    <tr>\n",
       "      <th>1</th>\n",
       "      <td>37598c0b-952e-45d9-8cdf-d306fc98230a</td>\n",
       "      <td>Data Cube Collection</td>\n",
       "      <td>external</td>\n",
       "      <td>EU_CAMS_SURFACE_PM10_G</td>\n",
       "      <td>This dataset provides daily air quality analys...</td>\n",
       "      <td>https://reliance-das.adamplatform.eu/opensearc...</td>\n",
       "      <td>EU_CAMS_SURFACE_PM10_G</td>\n",
       "      <td>https://reliance-das.adamplatform.eu/opensearc...</td>\n",
       "      <td>NaN</td>\n",
       "      <td>annefou@geo.uio.no</td>\n",
       "      <td>2022-01-23T11:26:34.948551+0000</td>\n",
       "      <td>2022-01-23T11:26:34.949461+0000</td>\n",
       "      <td>https://reliance-das.adamplatform.eu/opensearc...</td>\n",
       "    </tr>\n",
       "    <tr>\n",
       "      <th>2</th>\n",
       "      <td>deba9c23-b217-48db-a38a-6d766751919f</td>\n",
       "      <td>Data Cube Product</td>\n",
       "      <td>external</td>\n",
       "      <td>Index of daily PM10 concentration for Septembe...</td>\n",
       "      <td>List of hourly PM10 concentration data for Sep...</td>\n",
       "      <td>https://reliance-das.adamplatform.eu/opensearc...</td>\n",
       "      <td>Index of daily PM10 concentration for Septembe...</td>\n",
       "      <td>https://reliance-das.adamplatform.eu/opensearc...</td>\n",
       "      <td>NaN</td>\n",
       "      <td>annefou@geo.uio.no</td>\n",
       "      <td>2022-01-23T11:26:41.805590+0000</td>\n",
       "      <td>2022-01-23T11:26:41.806154+0000</td>\n",
       "      <td>https://reliance-das.adamplatform.eu/opensearc...</td>\n",
       "    </tr>\n",
       "    <tr>\n",
       "      <th>3</th>\n",
       "      <td>8e0adfcf-57d5-4c55-9185-dc7a3b1b7e41</td>\n",
       "      <td>Result</td>\n",
       "      <td>external</td>\n",
       "      <td>Daily PM10 concentration</td>\n",
       "      <td>Daily PM10 concentration for 1st September 201...</td>\n",
       "      <td>https://reliance-das.adamplatform.eu/wcs?servi...</td>\n",
       "      <td>Daily PM10 concentration</td>\n",
       "      <td>https://reliance-das.adamplatform.eu/wcs?servi...</td>\n",
       "      <td>NaN</td>\n",
       "      <td>annefou@geo.uio.no</td>\n",
       "      <td>2022-01-23T11:26:39.261026+0000</td>\n",
       "      <td>2022-01-23T11:26:39.261828+0000</td>\n",
       "      <td>https://reliance-das.adamplatform.eu/wcs?servi...</td>\n",
       "    </tr>\n",
       "    <tr>\n",
       "      <th>4</th>\n",
       "      <td>d4642d82-a03a-497b-98cf-9339cffcb09a</td>\n",
       "      <td>Jupyter Notebook</td>\n",
       "      <td>external</td>\n",
       "      <td>Jupter Notebook of CAMS European air quality a...</td>\n",
       "      <td>Jupyter Notebook for discovering, accessing an...</td>\n",
       "      <td>https://zenodo.org/record/5554786#.YYlWo9nMI-Q</td>\n",
       "      <td>Jupter Notebook of CAMS European air quality a...</td>\n",
       "      <td>https://zenodo.org/record/5554786#.YYlWo9nMI-Q</td>\n",
       "      <td>NaN</td>\n",
       "      <td>annefou@geo.uio.no</td>\n",
       "      <td>2022-01-23T11:26:43.290547+0000</td>\n",
       "      <td>2022-01-23T11:26:43.291617+0000</td>\n",
       "      <td>https://zenodo.org/record/5554786#.YYlWo9nMI-Q</td>\n",
       "    </tr>\n",
       "    <tr>\n",
       "      <th>5</th>\n",
       "      <td>be4c5800-9058-4d43-967c-1b233da92d17</td>\n",
       "      <td>Sketch</td>\n",
       "      <td>internal</td>\n",
       "      <td>Flow to compute monthly map</td>\n",
       "      <td>None</td>\n",
       "      <td>None</td>\n",
       "      <td>Flow to compute monthly map</td>\n",
       "      <td>biblio/flow-dcro.png</td>\n",
       "      <td>73394.0</td>\n",
       "      <td>annefou@geo.uio.no</td>\n",
       "      <td>2022-01-23T11:26:29.793829+0000</td>\n",
       "      <td>2022-01-23T11:26:29.794852+0000</td>\n",
       "      <td>https://api.rohub.org/api/resources/be4c5800-9...</td>\n",
       "    </tr>\n",
       "  </tbody>\n",
       "</table>\n",
       "</div>"
      ],
      "text/plain": [
       "                             identifier                  type    source  \\\n",
       "0  1a23e779-20c8-4a49-bf1d-33a44b07bb1b               Dataset  external   \n",
       "1  37598c0b-952e-45d9-8cdf-d306fc98230a  Data Cube Collection  external   \n",
       "2  deba9c23-b217-48db-a38a-6d766751919f     Data Cube Product  external   \n",
       "3  8e0adfcf-57d5-4c55-9185-dc7a3b1b7e41                Result  external   \n",
       "4  d4642d82-a03a-497b-98cf-9339cffcb09a      Jupyter Notebook  external   \n",
       "5  be4c5800-9058-4d43-967c-1b233da92d17                Sketch  internal   \n",
       "\n",
       "                                               title  \\\n",
       "0                             Catch data from Norway   \n",
       "1                             EU_CAMS_SURFACE_PM10_G   \n",
       "2  Index of daily PM10 concentration for Septembe...   \n",
       "3                           Daily PM10 concentration   \n",
       "4  Jupter Notebook of CAMS European air quality a...   \n",
       "5                        Flow to compute monthly map   \n",
       "\n",
       "                                         description  \\\n",
       "0                Catch data records sample from 2019   \n",
       "1  This dataset provides daily air quality analys...   \n",
       "2  List of hourly PM10 concentration data for Sep...   \n",
       "3  Daily PM10 concentration for 1st September 201...   \n",
       "4  Jupyter Notebook for discovering, accessing an...   \n",
       "5                                               None   \n",
       "\n",
       "                                                 url  \\\n",
       "0            https://box.psnc.pl/f/d90a0e1e0d/?raw=1   \n",
       "1  https://reliance-das.adamplatform.eu/opensearc...   \n",
       "2  https://reliance-das.adamplatform.eu/opensearc...   \n",
       "3  https://reliance-das.adamplatform.eu/wcs?servi...   \n",
       "4     https://zenodo.org/record/5554786#.YYlWo9nMI-Q   \n",
       "5                                               None   \n",
       "\n",
       "                                                name  \\\n",
       "0                             Catch data from Norway   \n",
       "1                             EU_CAMS_SURFACE_PM10_G   \n",
       "2  Index of daily PM10 concentration for Septembe...   \n",
       "3                           Daily PM10 concentration   \n",
       "4  Jupter Notebook of CAMS European air quality a...   \n",
       "5                        Flow to compute monthly map   \n",
       "\n",
       "                                                path     size  \\\n",
       "0            https://box.psnc.pl/f/d90a0e1e0d/?raw=1      NaN   \n",
       "1  https://reliance-das.adamplatform.eu/opensearc...      NaN   \n",
       "2  https://reliance-das.adamplatform.eu/opensearc...      NaN   \n",
       "3  https://reliance-das.adamplatform.eu/wcs?servi...      NaN   \n",
       "4     https://zenodo.org/record/5554786#.YYlWo9nMI-Q      NaN   \n",
       "5                               biblio/flow-dcro.png  73394.0   \n",
       "\n",
       "              creator                       created_on  \\\n",
       "0  annefou@geo.uio.no  2022-01-23T11:26:45.692570+0000   \n",
       "1  annefou@geo.uio.no  2022-01-23T11:26:34.948551+0000   \n",
       "2  annefou@geo.uio.no  2022-01-23T11:26:41.805590+0000   \n",
       "3  annefou@geo.uio.no  2022-01-23T11:26:39.261026+0000   \n",
       "4  annefou@geo.uio.no  2022-01-23T11:26:43.290547+0000   \n",
       "5  annefou@geo.uio.no  2022-01-23T11:26:29.793829+0000   \n",
       "\n",
       "                       modified_on  \\\n",
       "0  2022-01-23T11:26:45.693196+0000   \n",
       "1  2022-01-23T11:26:34.949461+0000   \n",
       "2  2022-01-23T11:26:41.806154+0000   \n",
       "3  2022-01-23T11:26:39.261828+0000   \n",
       "4  2022-01-23T11:26:43.291617+0000   \n",
       "5  2022-01-23T11:26:29.794852+0000   \n",
       "\n",
       "                                        download_url  \n",
       "0            https://box.psnc.pl/f/d90a0e1e0d/?raw=1  \n",
       "1  https://reliance-das.adamplatform.eu/opensearc...  \n",
       "2  https://reliance-das.adamplatform.eu/opensearc...  \n",
       "3  https://reliance-das.adamplatform.eu/wcs?servi...  \n",
       "4     https://zenodo.org/record/5554786#.YYlWo9nMI-Q  \n",
       "5  https://api.rohub.org/api/resources/be4c5800-9...  "
      ]
     },
     "execution_count": 43,
     "metadata": {},
     "output_type": "execute_result"
    }
   ],
   "source": [
    "results=ro.list_resources()\n",
    "results"
   ]
  },
  {
   "cell_type": "code",
   "execution_count": 51,
   "id": "7b856237-95c4-47e9-b42e-7baf4b8b89b2",
   "metadata": {
    "tags": []
   },
   "outputs": [
    {
     "name": "stdout",
     "output_type": "stream",
     "text": [
      "Resource was successfully loaded with id = be4c5800-9058-4d43-967c-1b233da92d17\n"
     ]
    }
   ],
   "source": [
    "my_res1=rohub.resource_load(identifier=results.loc[5,\"identifier\"])"
   ]
  },
  {
   "cell_type": "markdown",
   "id": "18a851c0-9c06-4a63-99ef-4647363b055d",
   "metadata": {},
   "source": [
    "### show basic metadata"
   ]
  },
  {
   "cell_type": "code",
   "execution_count": 52,
   "id": "c3189bb9-fd9b-4d1d-86fe-3b9c1a450888",
   "metadata": {},
   "outputs": [
    {
     "data": {
      "text/plain": [
       "{'identifier': 'be4c5800-9058-4d43-967c-1b233da92d17',\n",
       " 'type': 'Sketch',\n",
       " 'source': 'internal',\n",
       " 'title': 'Flow to compute monthly map',\n",
       " 'description': None,\n",
       " 'url': None,\n",
       " 'folder': 'f189a6b8-c273-4ba2-bc76-4abbdb0aa36f',\n",
       " 'path': 'biblio/flow-dcro.png',\n",
       " 'size': 73394,\n",
       " 'creator': 'annefou@geo.uio.no',\n",
       " 'created_on': '2022-01-23T11:26:29.793829+0000',\n",
       " 'modified_on': '2022-01-23T11:26:29.794852+0000',\n",
       " 'download_url': 'https://api.rohub.org/api/resources/be4c5800-9058-4d43-967c-1b233da92d17/download/'}"
      ]
     },
     "execution_count": 52,
     "metadata": {},
     "output_type": "execute_result"
    }
   ],
   "source": [
    "my_res1.show_metadata()"
   ]
  },
  {
   "cell_type": "markdown",
   "id": "633af189-f251-4178-bc6d-e0112c4c09cc",
   "metadata": {},
   "source": [
    "### Add/modify metadata"
   ]
  },
  {
   "cell_type": "code",
   "execution_count": 54,
   "id": "727d6004-8c97-4e37-82b4-376e2d3b4dc7",
   "metadata": {
    "tags": []
   },
   "outputs": [
    {
     "data": {
      "text/plain": [
       "{'title': 'Flow to compute monthly map - updated',\n",
       " 'folder': '7fe6b63e-2635-47f9-b75f-e93c80a1cee0',\n",
       " 'description': 'This resource has this description',\n",
       " 'type': 'Sketch'}"
      ]
     },
     "execution_count": 54,
     "metadata": {},
     "output_type": "execute_result"
    }
   ],
   "source": [
    "my_res1.title=\"Flow to compute monthly map - updated\"\n",
    "my_res1.description=\"This resource has this description\"\n",
    "my_res1.folder=myfolders.loc[2,\"identifier\"]\n",
    "my_res1.update_metadata()"
   ]
  },
  {
   "cell_type": "markdown",
   "id": "cef47663-f6f8-4c4c-a74f-af48482fc338",
   "metadata": {},
   "source": [
    "### Modify content (internal resource)"
   ]
  },
  {
   "cell_type": "code",
   "execution_count": 55,
   "id": "b23c9309-617c-410b-ad33-c3eb344ffcda",
   "metadata": {},
   "outputs": [
    {
     "data": {
      "text/plain": [
       "{'identifier': 'be4c5800-9058-4d43-967c-1b233da92d17',\n",
       " 'shared_link': 'https://w3id.org/ro-id/08d413f9-e434-4d50-a7ee-39b034f40ae0/resources/be4c5800-9058-4d43-967c-1b233da92d17',\n",
       " 'title': 'Flow to compute monthly map - updated',\n",
       " 'folder': '7fe6b63e-2635-47f9-b75f-e93c80a1cee0',\n",
       " 'ros': ['08d413f9-e434-4d50-a7ee-39b034f40ae0'],\n",
       " 'description': 'This resource has this description',\n",
       " 'url': None,\n",
       " 'name': 'Flow to compute monthly map - updated',\n",
       " 'filename': 'ro-explained.png',\n",
       " 'path': 'metadata/ro-explained.png',\n",
       " 'size': 48346,\n",
       " 'download_url': 'https://api.rohub.org/api/resources/be4c5800-9058-4d43-967c-1b233da92d17/download/',\n",
       " 'type': 'Sketch',\n",
       " 'created': '2022-01-23T11:26:29.793829+0000',\n",
       " 'creator': 'annefou@geo.uio.no',\n",
       " 'modificator': 'annefou@geo.uio.no',\n",
       " 'modified': '2022-01-23T11:33:59.827890+0000',\n",
       " 'created_on': '2022-01-23T11:26:29.793829+0000',\n",
       " 'created_by': 'annefou@geo.uio.no',\n",
       " 'modified_on': '2022-01-23T11:33:59.827890+0000',\n",
       " 'modified_by': 'annefou@geo.uio.no',\n",
       " 'original_created_on': None,\n",
       " 'original_created_by': None,\n",
       " 'original_creator_name': None,\n",
       " 'authors_credits': ['annefou@geo.uio.no'],\n",
       " 'contributors_credits': [],\n",
       " 'shared': False,\n",
       " 'doi': None,\n",
       " 'read_only': False,\n",
       " 'api_link': 'https://api.rohub.org/api/resources/be4c5800-9058-4d43-967c-1b233da92d17/'}"
      ]
     },
     "execution_count": 55,
     "metadata": {},
     "output_type": "execute_result"
    }
   ],
   "source": [
    "resi_file_path=\"ro-explained.png\"\n",
    "my_res1.update_content(file_path=resi_file_path)"
   ]
  },
  {
   "cell_type": "markdown",
   "id": "5379f376-4953-41ac-bd66-8f5b913f6cb1",
   "metadata": {},
   "source": [
    "### Modify content (external resource)"
   ]
  },
  {
   "cell_type": "code",
   "execution_count": 56,
   "id": "1363b033-965e-4aa3-b5f9-24c712576d9b",
   "metadata": {
    "tags": []
   },
   "outputs": [
    {
     "name": "stdout",
     "output_type": "stream",
     "text": [
      "Resource was successfully loaded with id = 8e0adfcf-57d5-4c55-9185-dc7a3b1b7e41\n"
     ]
    },
    {
     "data": {
      "text/plain": [
       "{'identifier': '8e0adfcf-57d5-4c55-9185-dc7a3b1b7e41',\n",
       " 'shared_link': 'https://w3id.org/ro-id/08d413f9-e434-4d50-a7ee-39b034f40ae0/resources/8e0adfcf-57d5-4c55-9185-dc7a3b1b7e41',\n",
       " 'title': 'Daily PM10 concentration',\n",
       " 'folder': None,\n",
       " 'ros': ['08d413f9-e434-4d50-a7ee-39b034f40ae0'],\n",
       " 'description': 'Daily PM10 concentration for 1st September 2018 over Europe',\n",
       " 'url': 'https://zenodo.org/record/5554786#.YYlWo9nMI-X',\n",
       " 'name': 'Daily PM10 concentration',\n",
       " 'filename': None,\n",
       " 'path': 'https://zenodo.org/record/5554786#.YYlWo9nMI-X',\n",
       " 'size': None,\n",
       " 'download_url': 'https://zenodo.org/record/5554786#.YYlWo9nMI-X',\n",
       " 'type': 'Result',\n",
       " 'created': '2022-01-23T11:26:39.261026+0000',\n",
       " 'creator': 'annefou@geo.uio.no',\n",
       " 'modificator': 'annefou@geo.uio.no',\n",
       " 'modified': '2022-01-23T11:34:11.275740+0000',\n",
       " 'created_on': '2022-01-23T11:26:39.261026+0000',\n",
       " 'created_by': 'annefou@geo.uio.no',\n",
       " 'modified_on': '2022-01-23T11:34:11.275740+0000',\n",
       " 'modified_by': 'annefou@geo.uio.no',\n",
       " 'original_created_on': None,\n",
       " 'original_created_by': None,\n",
       " 'original_creator_name': None,\n",
       " 'authors_credits': ['annefou@geo.uio.no'],\n",
       " 'contributors_credits': [],\n",
       " 'shared': False,\n",
       " 'doi': None,\n",
       " 'read_only': False,\n",
       " 'api_link': 'https://api.rohub.org/api/resources/8e0adfcf-57d5-4c55-9185-dc7a3b1b7e41/'}"
      ]
     },
     "execution_count": 56,
     "metadata": {},
     "output_type": "execute_result"
    }
   ],
   "source": [
    "my_res1_ext=rohub.resource_load(identifier=results.loc[3,\"identifier\"])\n",
    "rese_file_url=\"https://zenodo.org/record/5554786#.YYlWo9nMI-X\"\n",
    "my_res1_ext.update_content(input_url=rese_file_url)"
   ]
  },
  {
   "cell_type": "markdown",
   "id": "32e6f2c0-0e59-4af3-8f8f-850f271ac3ea",
   "metadata": {
    "tags": []
   },
   "source": [
    "### Retrieve resource"
   ]
  },
  {
   "cell_type": "code",
   "execution_count": 57,
   "id": "bb677073-5b10-437d-929f-31062f780ff9",
   "metadata": {},
   "outputs": [
    {
     "name": "stdout",
     "output_type": "stream",
     "text": [
      "File was successfully downloaded.\n"
     ]
    }
   ],
   "source": [
    "file=my_res1.download(resource_filename=\"myresource1.png\")\n"
   ]
  },
  {
   "cell_type": "code",
   "execution_count": 58,
   "id": "87e0ae43-bef6-439a-8ea7-9450e0e76c2a",
   "metadata": {},
   "outputs": [
    {
     "data": {
      "image/png": "[encoded data removed]",
      "text/plain": [
       "<IPython.core.display.Image object>"
      ]
     },
     "execution_count": 58,
     "metadata": {},
     "output_type": "execute_result"
    }
   ],
   "source": [
    "from IPython.display import Image\n",
    "Image(filename=file) "
   ]
  },
  {
   "cell_type": "code",
   "execution_count": 59,
   "id": "0faf10fc-eed7-4a90-b9a0-d59d548b1038",
   "metadata": {},
   "outputs": [
    {
     "name": "stdout",
     "output_type": "stream",
     "text": [
      "Resource was successfully loaded with id = 37598c0b-952e-45d9-8cdf-d306fc98230a\n",
      "File was successfully downloaded.\n",
      "                datasetId          creationDate dataType  epsg keywords  \\\n",
      "0  EU_CAMS_SURFACE_PM10_G  2021-07-12T02:00:00Z  Float32  4326       []   \n",
      "\n",
      "                                             license               maxDate  \\\n",
      "0  {'documentationUrl': '', 'dataProviderName': '...  2022-01-21T23:00:00Z   \n",
      "\n",
      "              maxValue               minDate                minValue  ...  \\\n",
      "0  [2645.995849609375]  2018-07-12T00:00:00Z  [0.003789698239415884]  ...   \n",
      "\n",
      "                               endpoint ingestionInfo legend  \\\n",
      "0  https://reliance-das.adamplatform.eu                   []   \n",
      "\n",
      "   pathToOriginalData project               services technicalManager  \\\n",
      "0                          []  [MWCS, ADAM, AdamApi]   govoni@meeo.it   \n",
      "\n",
      "  _schemaValidity                                            pricing  \\\n",
      "0            True  {'nativeSource': {'name': 'nfs', 'cost': 0.003...   \n",
      "\n",
      "                                      filtersEnabled  \n",
      "0  {'type': 'object', 'title': 'Dataset filters',...  \n",
      "\n",
      "[1 rows x 47 columns]\n"
     ]
    }
   ],
   "source": [
    "my_res2_ext=rohub.resource_load(identifier=results.loc[1,\"identifier\"])\n",
    "my_res2_ext.download(resource_filename=\"myres_ext2.json\")\n",
    "\n",
    "#import json\n",
    "#with open(\"myres_ext2.json\") as jsonFile:\n",
    "#    jsonObject = json.load(jsonFile)\n",
    "#    jsonFile.close()\n",
    "#jsonObject\n",
    "\n",
    "import json\n",
    "import pandas as pd\n",
    "data = json.load(open('myres_ext2.json'))\n",
    "\n",
    "df = pd.DataFrame(data[\"features\"])\n",
    "print (df)"
   ]
  },
  {
   "cell_type": "code",
   "execution_count": 60,
   "id": "118f11d4-0a97-46ae-8835-da8c2fb55cbc",
   "metadata": {},
   "outputs": [
    {
     "name": "stdout",
     "output_type": "stream",
     "text": [
      "Resource was successfully loaded with id = deba9c23-b217-48db-a38a-6d766751919f\n",
      "File was successfully downloaded.\n"
     ]
    },
    {
     "data": {
      "text/html": [
       "<div>\n",
       "<style scoped>\n",
       "    .dataframe tbody tr th:only-of-type {\n",
       "        vertical-align: middle;\n",
       "    }\n",
       "\n",
       "    .dataframe tbody tr th {\n",
       "        vertical-align: top;\n",
       "    }\n",
       "\n",
       "    .dataframe thead th {\n",
       "        text-align: right;\n",
       "    }\n",
       "</style>\n",
       "<table border=\"1\" class=\"dataframe\">\n",
       "  <thead>\n",
       "    <tr style=\"text-align: right;\">\n",
       "      <th></th>\n",
       "      <th>{\"type\":\"FeatureCollection\"</th>\n",
       "      <th>properties:{\"id\":\"http://reliance-das.adamplatform.eu/opensearch/search?endDate=2018-09-01T23:59:59Z&amp;startDate=2018-09-01T00:00:00Z&amp;datasetId=EU_CAMS_SURFACE_PM10_G&amp;startIndex=0\"</th>\n",
       "      <th>query:{\"request\":[{\"endDate\":\"2018-09-01T23:59:59Z\"</th>\n",
       "      <th>startDate:\"2018-09-01T00:00:00Z\"</th>\n",
       "      <th>datasetId:\"EU_CAMS_SURFACE_PM10_G\"}]}</th>\n",
       "      <th>itemsPerPage:\"10\"</th>\n",
       "      <th>Index:\"0\"</th>\n",
       "      <th>totalResults:24</th>\n",
       "      <th>links:[{\"first\":\"http://reliance-das.adamplatform.eu/opensearch/search?endDate=2018-09-01T23:59:59Z&amp;startDate=2018-09-01T00:00:00Z&amp;datasetId=EU_CAMS_SURFACE_PM10_G&amp;maxRecords=10&amp;startIndex=0\"}</th>\n",
       "      <th>{\"next\":\"http://reliance-das.adamplatform.eu/opensearch/search?endDate=2018-09-01T23:59:59Z&amp;startDate=2018-09-01T00:00:00Z&amp;datasetId=EU_CAMS_SURFACE_PM10_G&amp;maxRecords=10&amp;startIndex=10\"}</th>\n",
       "      <th>...</th>\n",
       "      <th>69.999996999999993363 ].18</th>\n",
       "      <th>[ -25.000012000000001677.18</th>\n",
       "      <th>69.999996999999993363 ].19</th>\n",
       "      <th>[ -25.000012000000001677.19</th>\n",
       "      <th>29.999997000000000469 ] ] ] } ].9</th>\n",
       "      <th>\"type\": \"GeometryCollection\" }.9</th>\n",
       "      <th>\"insertDate\": \"2021-07-12T16:38:56Z\".5</th>\n",
       "      <th>\"productPath\": \"\\/reliance\\/CAMS\\/GTIFF\\/2018\\/09\\/01\\/EU_CAMS_SURFACE_PM10_G_20180901090000.tif\"</th>\n",
       "      <th>\"source\": \"nfs:\\/\\/192.168.1.80:\\/volume1\\/VOL100T\".9</th>\n",
       "      <th>\"status\": \"Online\" }]}</th>\n",
       "    </tr>\n",
       "  </thead>\n",
       "  <tbody>\n",
       "  </tbody>\n",
       "</table>\n",
       "<p>0 rows × 212 columns</p>\n",
       "</div>"
      ],
      "text/plain": [
       "Empty DataFrame\n",
       "Columns: [{\"type\":\"FeatureCollection\", properties:{\"id\":\"http://reliance-das.adamplatform.eu/opensearch/search?endDate=2018-09-01T23:59:59Z&startDate=2018-09-01T00:00:00Z&datasetId=EU_CAMS_SURFACE_PM10_G&startIndex=0\", query:{\"request\":[{\"endDate\":\"2018-09-01T23:59:59Z\", startDate:\"2018-09-01T00:00:00Z\", datasetId:\"EU_CAMS_SURFACE_PM10_G\"}]}, itemsPerPage:\"10\", Index:\"0\", totalResults:24, links:[{\"first\":\"http://reliance-das.adamplatform.eu/opensearch/search?endDate=2018-09-01T23:59:59Z&startDate=2018-09-01T00:00:00Z&datasetId=EU_CAMS_SURFACE_PM10_G&maxRecords=10&startIndex=0\"}, {\"next\":\"http://reliance-das.adamplatform.eu/opensearch/search?endDate=2018-09-01T23:59:59Z&startDate=2018-09-01T00:00:00Z&datasetId=EU_CAMS_SURFACE_PM10_G&maxRecords=10&startIndex=10\"}, {\"last\":\"http://reliance-das.adamplatform.eu/opensearch/search?endDate=2018-09-01T23:59:59Z&startDate=2018-09-01T00:00:00Z&datasetId=EU_CAMS_SURFACE_PM10_G&maxRecords=10&startIndex=23\"}, {\"description\":\"http://localhost/opensearch/describe.xml\"}]}, features:[{ \"_id\": { \"$oid\": \"60ec701f6dfebc08064e2c53\" },  \"datasetId\": \"EU_CAMS_SURFACE_PM10_G\",  \"productDate\": \"2018-09-01T00:00:00Z\",  \"productId\": \"EU_CAMS_SURFACE_PM10_G_20180901000000.tif\",  \"geometry\": { \"geometries\": [ { \"type\": \"Polygon\",  \"coordinates\": [ [ [ -25.000012000000001677,  29.999997000000000469 ],  [ 44.999988000000001875,  29.999997000000000469 ].1,  [ 44.999988000000001875.1,  69.999996999999993363 ],  [ -25.000012000000001677,  69.999996999999993363 ].1,  [ -25.000012000000001677.1,  29.999997000000000469 ] ] ] } ],  \"type\": \"GeometryCollection\" },  \"insertDate\": \"2021-07-12T16:38:55Z\",  \"productPath\": \"\\/reliance\\/CAMS\\/GTIFF\\/2018\\/09\\/01\\/EU_CAMS_SURFACE_PM10_G_20180901000000.tif\",  \"source\": \"nfs:\\/\\/192.168.1.80:\\/volume1\\/VOL100T\",  \"status\": \"Online\" }, { \"_id\": { \"$oid\": \"60ec701f6dfebc08064e2c57\" },  \"datasetId\": \"EU_CAMS_SURFACE_PM10_G\".1,  \"productDate\": \"2018-09-01T01:00:00Z\",  \"productId\": \"EU_CAMS_SURFACE_PM10_G_20180901010000.tif\",  \"geometry\": { \"geometries\": [ { \"type\": \"Polygon\".1,  \"coordinates\": [ [ [ -25.000012000000001677.1,  29.999997000000000469 ].2,  [ 44.999988000000001875.2,  29.999997000000000469 ].3,  [ 44.999988000000001875.3,  69.999996999999993363 ].2,  [ -25.000012000000001677.2,  69.999996999999993363 ].3,  [ -25.000012000000001677.3,  29.999997000000000469 ] ] ] } ].1,  \"type\": \"GeometryCollection\" }.1,  \"insertDate\": \"2021-07-12T16:38:55Z\".1,  \"productPath\": \"\\/reliance\\/CAMS\\/GTIFF\\/2018\\/09\\/01\\/EU_CAMS_SURFACE_PM10_G_20180901010000.tif\",  \"source\": \"nfs:\\/\\/192.168.1.80:\\/volume1\\/VOL100T\".1,  \"status\": \"Online\" }.1, { \"_id\": { \"$oid\": \"60ec701f6dfebc08064e2c5b\" },  \"datasetId\": \"EU_CAMS_SURFACE_PM10_G\".2,  \"productDate\": \"2018-09-01T02:00:00Z\",  \"productId\": \"EU_CAMS_SURFACE_PM10_G_20180901020000.tif\",  \"geometry\": { \"geometries\": [ { \"type\": \"Polygon\".2,  \"coordinates\": [ [ [ -25.000012000000001677.2,  29.999997000000000469 ].4,  [ 44.999988000000001875.4,  29.999997000000000469 ].5,  [ 44.999988000000001875.5,  69.999996999999993363 ].4,  [ -25.000012000000001677.4,  69.999996999999993363 ].5,  [ -25.000012000000001677.5,  29.999997000000000469 ] ] ] } ].2,  \"type\": \"GeometryCollection\" }.2,  \"insertDate\": \"2021-07-12T16:38:55Z\".2,  \"productPath\": \"\\/reliance\\/CAMS\\/GTIFF\\/2018\\/09\\/01\\/EU_CAMS_SURFACE_PM10_G_20180901020000.tif\",  \"source\": \"nfs:\\/\\/192.168.1.80:\\/volume1\\/VOL100T\".2,  \"status\": \"Online\" }.2, { \"_id\": { \"$oid\": \"60ec70206dfebc08064e2c60\" },  \"datasetId\": \"EU_CAMS_SURFACE_PM10_G\".3,  \"productDate\": \"2018-09-01T03:00:00Z\",  \"productId\": \"EU_CAMS_SURFACE_PM10_G_20180901030000.tif\",  \"geometry\": { \"geometries\": [ { \"type\": \"Polygon\".3,  \"coordinates\": [ [ [ -25.000012000000001677.3,  29.999997000000000469 ].6,  [ 44.999988000000001875.6,  29.999997000000000469 ].7,  [ 44.999988000000001875.7,  69.999996999999993363 ].6,  [ -25.000012000000001677.6,  69.999996999999993363 ].7,  [ -25.000012000000001677.7,  29.999997000000000469 ] ] ] } ].3,  \"type\": \"GeometryCollection\" }.3,  \"insertDate\": \"2021-07-12T16:38:55Z\".3,  \"productPath\": \"\\/reliance\\/CAMS\\/GTIFF\\/2018\\/09\\/01\\/EU_CAMS_SURFACE_PM10_G_20180901030000.tif\",  \"source\": \"nfs:\\/\\/192.168.1.80:\\/volume1\\/VOL100T\".3,  \"status\": \"Online\" }.3, { \"_id\": { \"$oid\": \"60ec70206dfebc08064e2c64\" },  \"datasetId\": \"EU_CAMS_SURFACE_PM10_G\".4,  \"productDate\": \"2018-09-01T04:00:00Z\",  \"productId\": \"EU_CAMS_SURFACE_PM10_G_20180901040000.tif\",  \"geometry\": { \"geometries\": [ { \"type\": \"Polygon\".4,  \"coordinates\": [ [ [ -25.000012000000001677.4,  29.999997000000000469 ].8,  [ 44.999988000000001875.8, ...]\n",
       "Index: []\n",
       "\n",
       "[0 rows x 212 columns]"
      ]
     },
     "execution_count": 60,
     "metadata": {},
     "output_type": "execute_result"
    }
   ],
   "source": [
    "my_res3_ext=rohub.resource_load(identifier=results.loc[2,\"identifier\"])\n",
    "my_res3_ext.download(resource_filename=\"myres_ext3.csv\")\n",
    "\n",
    "import pandas as pd\n",
    "pd.read_csv(\"myres_ext3.csv\")"
   ]
  },
  {
   "cell_type": "markdown",
   "id": "68016f88-227f-4f98-8a60-81e0d75086b7",
   "metadata": {
    "tags": []
   },
   "source": [
    "### Assign DOI\n",
    "- uncomment if you want to assign a DOI. Please, bear in mind that DOI should only be assigned for \"real\" scientific work!"
   ]
  },
  {
   "cell_type": "code",
   "execution_count": 61,
   "id": "2b59a17a-df12-4019-b30a-b8514b08c248",
   "metadata": {},
   "outputs": [],
   "source": [
    "# my_res1_ext.assign_doi()"
   ]
  },
  {
   "cell_type": "markdown",
   "id": "2e2700cc-ad87-4dd8-a8ff-b17a2899fdb2",
   "metadata": {},
   "source": [
    "## Utils"
   ]
  },
  {
   "cell_type": "markdown",
   "id": "5a85793f-393f-451a-aebb-c52e36a84c7b",
   "metadata": {},
   "source": [
    "### remove RO"
   ]
  },
  {
   "cell_type": "code",
   "execution_count": 62,
   "id": "c506b2ca-57fa-4eb2-bf2d-7abd00fad827",
   "metadata": {
    "tags": []
   },
   "outputs": [
    {
     "name": "stdout",
     "output_type": "stream",
     "text": [
      "Trying to confirm status of the job. It can take a while...\n"
     ]
    },
    {
     "data": {
      "text/plain": [
       "{'identifier': '1442c3cc-eae4-4e26-bf56-75e7376320cd',\n",
       " 'created_by': 'annefou@geo.uio.no',\n",
       " 'created_on': '2022-01-23T11:34:29.734163+0000',\n",
       " 'started_on': '2022-01-23T11:34:29.778191+0000',\n",
       " 'finished_on': '2022-01-23T11:34:32.876462+0000',\n",
       " 'operation': 'RO_DELETE',\n",
       " 'status': 'SUCCESS',\n",
       " 'input': 'RO identifier for remove: 21116679-72c9-4751-8db1-82c558dfa879',\n",
       " 'output': 'Task done successfully',\n",
       " 'results': '21116679-72c9-4751-8db1-82c558dfa879',\n",
       " 'warnings': None,\n",
       " 'execution': '3.098271',\n",
       " 'api_link': 'https://api.rohub.org/api/jobs/1442c3cc-eae4-4e26-bf56-75e7376320cd/'}"
      ]
     },
     "execution_count": 62,
     "metadata": {},
     "output_type": "execute_result"
    }
   ],
   "source": [
    "forked_ro.delete()\n",
    "#ro_id_to_delete=\"55a0fbe5-fde3-40cb-9ea0-1eacd3cda8d1\"\n",
    "#rohub.ros_delete(identifier=ro_id_to_delete)"
   ]
  },
  {
   "cell_type": "markdown",
   "id": "bb06e56f-01f6-44d1-9769-526e8c80149e",
   "metadata": {},
   "source": [
    "### show user id"
   ]
  },
  {
   "cell_type": "code",
   "execution_count": 63,
   "id": "b6ce0c86-3397-4a8a-9045-565024972a0f",
   "metadata": {},
   "outputs": [
    {
     "data": {
      "text/plain": [
       "'62277187-0f2e-4320-a6b0-7fe467f1b1c1'"
      ]
     },
     "execution_count": 63,
     "metadata": {},
     "output_type": "execute_result"
    }
   ],
   "source": [
    "rohub.show_user_id()"
   ]
  },
  {
   "cell_type": "markdown",
   "id": "933c1985-a529-4f41-8bad-7a4be128d519",
   "metadata": {},
   "source": [
    "### show possible values for RO types, Resources types, templates, etc."
   ]
  },
  {
   "cell_type": "code",
   "execution_count": 64,
   "id": "8ae655f0-1eb0-4bc0-89f1-67f83cbeb6e9",
   "metadata": {},
   "outputs": [
    {
     "data": {
      "text/plain": [
       "['Acoustics',\n",
       " 'Aerodynamics',\n",
       " 'Agronomy',\n",
       " 'Analytical chemistry',\n",
       " 'Applied sciences',\n",
       " 'Astronautics',\n",
       " 'Astronomy',\n",
       " 'Atom',\n",
       " 'Biochemistry',\n",
       " 'Biology',\n",
       " 'Biometrics',\n",
       " 'Botany',\n",
       " 'Cartography',\n",
       " 'Chemistry',\n",
       " 'Climatology',\n",
       " 'Cosmology',\n",
       " 'Cultural geography',\n",
       " 'Cybernetics',\n",
       " 'Cytology',\n",
       " 'Earth observation',\n",
       " 'Earth sciences',\n",
       " 'Ecology',\n",
       " 'Economic geography',\n",
       " 'Electrochemistry',\n",
       " 'Electronics',\n",
       " 'Electrotechnology',\n",
       " 'Embryo and foetus',\n",
       " 'Environmental research',\n",
       " 'Fundamental particle',\n",
       " 'Genetics',\n",
       " 'Geochemistry',\n",
       " 'Geographical information system',\n",
       " 'Geography',\n",
       " 'Geology',\n",
       " 'Geomorphology',\n",
       " 'Geophysics',\n",
       " 'Hazard science',\n",
       " 'Histology',\n",
       " 'Historical geography',\n",
       " 'Human geography',\n",
       " 'Hydrogeology',\n",
       " 'Hydrology',\n",
       " 'Industrial chemistry',\n",
       " 'Information science',\n",
       " 'Ionising radiation',\n",
       " 'Laser physics',\n",
       " 'Life sciences',\n",
       " 'Mathematics',\n",
       " 'Medical science',\n",
       " 'Meteorology',\n",
       " 'Metrology',\n",
       " 'Microorganism',\n",
       " 'Mineralogy',\n",
       " 'Neurobiology',\n",
       " 'Nuclear physics',\n",
       " 'Oceanography',\n",
       " 'Optics',\n",
       " 'Parasitology',\n",
       " 'Petrology',\n",
       " 'Pharmacology',\n",
       " 'Pharmacy',\n",
       " 'Photochemistry',\n",
       " 'Photographic industry',\n",
       " 'Physical sciences',\n",
       " 'Plasma physics',\n",
       " 'Political geography',\n",
       " 'Radiobiology',\n",
       " 'Regional geography',\n",
       " 'Sedimentology',\n",
       " 'Seismology',\n",
       " 'Social sciences',\n",
       " 'Soil analysis',\n",
       " 'Soil chemistry',\n",
       " 'Soil science',\n",
       " 'Soil type',\n",
       " 'Space science',\n",
       " 'Spectrometry',\n",
       " 'Stem cell',\n",
       " 'Thermodynamics',\n",
       " 'Volcanology',\n",
       " 'Zoology']"
      ]
     },
     "execution_count": 64,
     "metadata": {},
     "output_type": "execute_result"
    }
   ],
   "source": [
    "rohub.list_valid_research_areas()"
   ]
  },
  {
   "cell_type": "code",
   "execution_count": 65,
   "id": "44f889e7-f7a9-49cb-a36b-6d6b2f20d189",
   "metadata": {},
   "outputs": [
    {
     "data": {
      "text/plain": [
       "['Basic Research Object',\n",
       " 'Bibliography-centric Research Object',\n",
       " 'Data-centric Research Object',\n",
       " 'Executable Research Object',\n",
       " 'Process-centric Research Object',\n",
       " 'Service-centric Research Object',\n",
       " 'Software-centric Research Object',\n",
       " 'Workflow-centric Research Object']"
      ]
     },
     "execution_count": 65,
     "metadata": {},
     "output_type": "execute_result"
    }
   ],
   "source": [
    "rohub.list_valid_ros_types()"
   ]
  },
  {
   "cell_type": "code",
   "execution_count": 66,
   "id": "9bdf7730-7047-4340-9e37-d0f39a892d22",
   "metadata": {},
   "outputs": [
    {
     "data": {
      "text/plain": [
       "['B2SHARE', 'ZENODO']"
      ]
     },
     "execution_count": 66,
     "metadata": {},
     "output_type": "execute_result"
    }
   ],
   "source": [
    "rohub.list_valid_publication_services()"
   ]
  },
  {
   "cell_type": "code",
   "execution_count": 67,
   "id": "00ef17ad-dca5-478b-82e0-c2d527e2ade9",
   "metadata": {},
   "outputs": [
    {
     "data": {
      "text/plain": [
       "['Beanshell Script',\n",
       " 'Bibliographic Resource',\n",
       " 'Command Line Tool',\n",
       " 'Conclusion',\n",
       " 'Dataset',\n",
       " 'Document',\n",
       " 'Example Run',\n",
       " 'File',\n",
       " 'Hypothesis',\n",
       " 'Image',\n",
       " 'Meeting Minutes',\n",
       " 'Paper',\n",
       " 'PROCESS',\n",
       " 'Process Run',\n",
       " 'Prospective Run',\n",
       " 'Python Script',\n",
       " 'REST Service',\n",
       " 'R Script',\n",
       " 'Research Question',\n",
       " 'Result',\n",
       " 'Result Generation Run',\n",
       " 'SOAP Service',\n",
       " 'Script',\n",
       " 'Sketch',\n",
       " 'Web Service',\n",
       " 'Workflow',\n",
       " 'Workflow Definition',\n",
       " 'Workflow Run',\n",
       " 'Data Cube Collection',\n",
       " 'Data Cube Product',\n",
       " 'Audio',\n",
       " 'Computational workflow',\n",
       " 'Course',\n",
       " 'Creative work',\n",
       " 'How to',\n",
       " 'Jupyter Notebook',\n",
       " 'Other',\n",
       " 'Physical object',\n",
       " 'Poster',\n",
       " 'Presentation',\n",
       " 'Publication',\n",
       " 'Research Object',\n",
       " 'Software',\n",
       " 'Software source code',\n",
       " 'Video']"
      ]
     },
     "execution_count": 67,
     "metadata": {},
     "output_type": "execute_result"
    }
   ],
   "source": [
    "rohub.list_valid_resource_types()"
   ]
  },
  {
   "cell_type": "code",
   "execution_count": 68,
   "id": "d3fad5e7-c9c3-4263-9bd7-2cd76e8ff456",
   "metadata": {},
   "outputs": [
    {
     "data": {
      "text/plain": [
       "['MANUAL', 'IMPORTED', 'AUTOMATIC']"
      ]
     },
     "execution_count": 68,
     "metadata": {},
     "output_type": "execute_result"
    }
   ],
   "source": [
    "rohub.list_valid_creation_modes()"
   ]
  },
  {
   "cell_type": "code",
   "execution_count": 69,
   "id": "b5c51b78-5023-4498-8271-1857c00f4970",
   "metadata": {},
   "outputs": [
    {
     "data": {
      "text/plain": [
       "['PUBLIC', 'PRIVATE', 'OPEN']"
      ]
     },
     "execution_count": 69,
     "metadata": {},
     "output_type": "execute_result"
    }
   ],
   "source": [
    "rohub.list_valid_access_modes()"
   ]
  },
  {
   "cell_type": "code",
   "execution_count": 70,
   "id": "4d093754-9bde-40bb-848e-3aa063f0c094",
   "metadata": {},
   "outputs": [
    {
     "data": {
      "text/plain": [
       "[{'identifier': 'acme-cc',\n",
       "  'title': 'ACME Inc. Commercial License',\n",
       "  'description': None,\n",
       "  'status': 'active',\n",
       "  'url': 'http://www.acme.org/licence-commercial',\n",
       "  'created': '2021-12-09T13:54:10.927006Z',\n",
       "  'updated': None,\n",
       "  'creator': 'rpalma@man.poznan.pl',\n",
       "  'api_link': 'https://api.rohub.org/api/custom-licenses/acme-cc/'},\n",
       " {'identifier': 'my-example-license1',\n",
       "  'title': 'My example license',\n",
       "  'description': 'this is an example license',\n",
       "  'status': 'active',\n",
       "  'url': 'http://myexample.org/license',\n",
       "  'created': '2021-11-08T16:18:29.048012Z',\n",
       "  'updated': None,\n",
       "  'creator': 'rpalma@man.poznan.pl',\n",
       "  'api_link': 'https://api.rohub.org/api/custom-licenses/my-example-license1/'}]"
      ]
     },
     "execution_count": 70,
     "metadata": {},
     "output_type": "execute_result"
    }
   ],
   "source": [
    "rohub.list_custom_licenses()"
   ]
  },
  {
   "cell_type": "code",
   "execution_count": 71,
   "id": "3e8f91f8-3e6d-4231-b9f9-eeff478682ed",
   "metadata": {
    "tags": []
   },
   "outputs": [
    {
     "data": {
      "text/plain": [
       "['0BSD',\n",
       " 'AAL',\n",
       " 'ADSL',\n",
       " 'AFL-1.1',\n",
       " 'AFL-1.2',\n",
       " 'AFL-2.0',\n",
       " 'AFL-2.1',\n",
       " 'AFL-3.0',\n",
       " 'AGPL-1.0',\n",
       " 'AGPL-1.0-only',\n",
       " 'AGPL-1.0-or-later',\n",
       " 'AGPL-3.0',\n",
       " 'AGPL-3.0-only',\n",
       " 'AGPL-3.0-or-later',\n",
       " 'AMDPLPA',\n",
       " 'AML',\n",
       " 'AMPAS',\n",
       " 'ANTLR-PD',\n",
       " 'ANTLR-PD-fallback',\n",
       " 'APAFML',\n",
       " 'APL-1.0',\n",
       " 'APSL-1.0',\n",
       " 'APSL-1.1',\n",
       " 'APSL-1.2',\n",
       " 'APSL-2.0',\n",
       " 'Abstyles',\n",
       " 'Adobe-2006',\n",
       " 'Adobe-Glyph',\n",
       " 'Afmparse',\n",
       " 'Against-DRM',\n",
       " 'Aladdin',\n",
       " 'Apache-1.0',\n",
       " 'Apache-1.1',\n",
       " 'Apache-2.0',\n",
       " 'Artistic-1.0',\n",
       " 'Artistic-1.0-Perl',\n",
       " 'Artistic-1.0-cl8',\n",
       " 'Artistic-2.0',\n",
       " 'BSD-1-Clause',\n",
       " 'BSD-2-Clause',\n",
       " 'BSD-2-Clause-FreeBSD',\n",
       " 'BSD-2-Clause-NetBSD',\n",
       " 'BSD-2-Clause-Patent',\n",
       " 'BSD-2-Clause-Views',\n",
       " 'BSD-3-Clause',\n",
       " 'BSD-3-Clause-Attribution',\n",
       " 'BSD-3-Clause-Clear',\n",
       " 'BSD-3-Clause-LBNL',\n",
       " 'BSD-3-Clause-Modification',\n",
       " 'BSD-3-Clause-No-Military-License',\n",
       " 'BSD-3-Clause-No-Nuclear-License',\n",
       " 'BSD-3-Clause-No-Nuclear-License-2014',\n",
       " 'BSD-3-Clause-No-Nuclear-Warranty',\n",
       " 'BSD-3-Clause-Open-MPI',\n",
       " 'BSD-4-Clause',\n",
       " 'BSD-4-Clause-Shortened',\n",
       " 'BSD-4-Clause-UC',\n",
       " 'BSD-Protection',\n",
       " 'BSD-Source-Code',\n",
       " 'BSL-1.0',\n",
       " 'BUSL-1.1',\n",
       " 'Bahyph',\n",
       " 'Barr',\n",
       " 'Beerware',\n",
       " 'BitTorrent-1.0',\n",
       " 'BitTorrent-1.1',\n",
       " 'BlueOak-1.0.0',\n",
       " 'Borceux',\n",
       " 'C-UDA-1.0',\n",
       " 'CAL-1.0',\n",
       " 'CAL-1.0-Combined-Work-Exception',\n",
       " 'CATOSL-1.1',\n",
       " 'CC-BY-1.0',\n",
       " 'CC-BY-2.0',\n",
       " 'CC-BY-2.5',\n",
       " 'CC-BY-2.5-AU',\n",
       " 'CC-BY-3.0',\n",
       " 'CC-BY-3.0-AT',\n",
       " 'CC-BY-3.0-DE',\n",
       " 'CC-BY-3.0-NL',\n",
       " 'CC-BY-3.0-US',\n",
       " 'CC-BY-4.0',\n",
       " 'CC-BY-NC-1.0',\n",
       " 'CC-BY-NC-2.0',\n",
       " 'CC-BY-NC-2.5',\n",
       " 'CC-BY-NC-3.0',\n",
       " 'CC-BY-NC-3.0-DE',\n",
       " 'CC-BY-NC-4.0',\n",
       " 'CC-BY-NC-ND-1.0',\n",
       " 'CC-BY-NC-ND-2.0',\n",
       " 'CC-BY-NC-ND-2.5',\n",
       " 'CC-BY-NC-ND-3.0',\n",
       " 'CC-BY-NC-ND-3.0-DE',\n",
       " 'CC-BY-NC-ND-3.0-IGO',\n",
       " 'CC-BY-NC-ND-4.0',\n",
       " 'CC-BY-NC-SA-1.0',\n",
       " 'CC-BY-NC-SA-2.0',\n",
       " 'CC-BY-NC-SA-2.0-FR',\n",
       " 'CC-BY-NC-SA-2.0-UK',\n",
       " 'CC-BY-NC-SA-2.5',\n",
       " 'CC-BY-NC-SA-3.0',\n",
       " 'CC-BY-NC-SA-3.0-DE',\n",
       " 'CC-BY-NC-SA-3.0-IGO',\n",
       " 'CC-BY-NC-SA-4.0',\n",
       " 'CC-BY-ND-1.0',\n",
       " 'CC-BY-ND-2.0',\n",
       " 'CC-BY-ND-2.5',\n",
       " 'CC-BY-ND-3.0',\n",
       " 'CC-BY-ND-3.0-DE',\n",
       " 'CC-BY-ND-4.0',\n",
       " 'CC-BY-SA-1.0',\n",
       " 'CC-BY-SA-2.0',\n",
       " 'CC-BY-SA-2.0-UK',\n",
       " 'CC-BY-SA-2.1-JP',\n",
       " 'CC-BY-SA-2.5',\n",
       " 'CC-BY-SA-3.0',\n",
       " 'CC-BY-SA-3.0-AT',\n",
       " 'CC-BY-SA-3.0-DE',\n",
       " 'CC-BY-SA-4.0',\n",
       " 'CC-PDDC',\n",
       " 'CC0-1.0',\n",
       " 'CDDL-1.0',\n",
       " 'CDDL-1.1',\n",
       " 'CDL-1.0',\n",
       " 'CDLA-Permissive-1.0',\n",
       " 'CDLA-Permissive-2.0',\n",
       " 'CDLA-Sharing-1.0',\n",
       " 'CECILL-1.0',\n",
       " 'CECILL-1.1',\n",
       " 'CECILL-2.0',\n",
       " 'CECILL-2.1',\n",
       " 'CECILL-B',\n",
       " 'CECILL-C',\n",
       " 'CERN-OHL-1.1',\n",
       " 'CERN-OHL-1.2',\n",
       " 'CERN-OHL-P-2.0',\n",
       " 'CERN-OHL-S-2.0',\n",
       " 'CERN-OHL-W-2.0',\n",
       " 'CNRI-Jython',\n",
       " 'CNRI-Python',\n",
       " 'CNRI-Python-GPL-Compatible',\n",
       " 'CPAL-1.0',\n",
       " 'CPL-1.0',\n",
       " 'CPOL-1.02',\n",
       " 'CUA-OPL-1.0',\n",
       " 'Caldera',\n",
       " 'ClArtistic',\n",
       " 'Condor-1.1',\n",
       " 'Crossword',\n",
       " 'CrystalStacker',\n",
       " 'Cube',\n",
       " 'D-FSL-1.0',\n",
       " 'DOC',\n",
       " 'DRL-1.0',\n",
       " 'DSDP',\n",
       " 'DSL',\n",
       " 'Dotseqn',\n",
       " 'ECL-1.0',\n",
       " 'ECL-2.0',\n",
       " 'EFL-1.0',\n",
       " 'EFL-2.0',\n",
       " 'EPICS',\n",
       " 'EPL-1.0',\n",
       " 'EPL-2.0',\n",
       " 'EUDatagrid',\n",
       " 'EUPL-1.0',\n",
       " 'EUPL-1.1',\n",
       " 'EUPL-1.2',\n",
       " 'Entessa',\n",
       " 'ErlPL-1.1',\n",
       " 'Eurosym',\n",
       " 'FAL-1.3',\n",
       " 'FSFAP',\n",
       " 'FSFUL',\n",
       " 'FSFULLR',\n",
       " 'FTL',\n",
       " 'Fair',\n",
       " 'Frameworx-1.0',\n",
       " 'FreeBSD-DOC',\n",
       " 'FreeImage',\n",
       " 'GD',\n",
       " 'GFDL-1.1',\n",
       " 'GFDL-1.1-invariants-only',\n",
       " 'GFDL-1.1-invariants-or-later',\n",
       " 'GFDL-1.1-no-invariants-only',\n",
       " 'GFDL-1.1-no-invariants-or-later',\n",
       " 'GFDL-1.1-only',\n",
       " 'GFDL-1.1-or-later',\n",
       " 'GFDL-1.2',\n",
       " 'GFDL-1.2-invariants-only',\n",
       " 'GFDL-1.2-invariants-or-later',\n",
       " 'GFDL-1.2-no-invariants-only',\n",
       " 'GFDL-1.2-no-invariants-or-later',\n",
       " 'GFDL-1.2-only',\n",
       " 'GFDL-1.2-or-later',\n",
       " 'GFDL-1.3',\n",
       " 'GFDL-1.3-invariants-only',\n",
       " 'GFDL-1.3-invariants-or-later',\n",
       " 'GFDL-1.3-no-cover-texts-no-invariant-sections',\n",
       " 'GFDL-1.3-no-invariants-only',\n",
       " 'GFDL-1.3-no-invariants-or-later',\n",
       " 'GFDL-1.3-only',\n",
       " 'GFDL-1.3-or-later',\n",
       " 'GL2PS',\n",
       " 'GLWTPL',\n",
       " 'GPL-1.0',\n",
       " 'GPL-1.0+',\n",
       " 'GPL-1.0-only',\n",
       " 'GPL-1.0-or-later',\n",
       " 'GPL-2.0',\n",
       " 'GPL-2.0+',\n",
       " 'GPL-2.0-only',\n",
       " 'GPL-2.0-or-later',\n",
       " 'GPL-2.0-with-GCC-exception',\n",
       " 'GPL-2.0-with-autoconf-exception',\n",
       " 'GPL-2.0-with-bison-exception',\n",
       " 'GPL-2.0-with-classpath-exception',\n",
       " 'GPL-2.0-with-font-exception',\n",
       " 'GPL-3.0',\n",
       " 'GPL-3.0+',\n",
       " 'GPL-3.0-only',\n",
       " 'GPL-3.0-or-later',\n",
       " 'GPL-3.0-with-GCC-exception',\n",
       " 'GPL-3.0-with-autoconf-exception',\n",
       " 'Giftware',\n",
       " 'Glide',\n",
       " 'Glulxe',\n",
       " 'HPND',\n",
       " 'HPND-sell-variant',\n",
       " 'HTMLTIDY',\n",
       " 'HaskellReport',\n",
       " 'Hippocratic-2.1',\n",
       " 'IBM-pibs',\n",
       " 'ICU',\n",
       " 'IJG',\n",
       " 'IPA',\n",
       " 'IPL-1.0',\n",
       " 'ISC',\n",
       " 'ImageMagick',\n",
       " 'Imlib2',\n",
       " 'Info-ZIP',\n",
       " 'Intel',\n",
       " 'Intel-ACPI',\n",
       " 'Interbase-1.0',\n",
       " 'JPNIC',\n",
       " 'JSON',\n",
       " 'JasPer-2.0',\n",
       " 'LAL-1.2',\n",
       " 'LAL-1.3',\n",
       " 'LGPL-2.0',\n",
       " 'LGPL-2.0+',\n",
       " 'LGPL-2.0-only',\n",
       " 'LGPL-2.0-or-later',\n",
       " 'LGPL-2.1',\n",
       " 'LGPL-2.1+',\n",
       " 'LGPL-2.1-only',\n",
       " 'LGPL-2.1-or-later',\n",
       " 'LGPL-3.0',\n",
       " 'LGPL-3.0+',\n",
       " 'LGPL-3.0-only',\n",
       " 'LGPL-3.0-or-later',\n",
       " 'LGPLLR',\n",
       " 'LO-FR-2.0',\n",
       " 'LPL-1.0',\n",
       " 'LPL-1.02',\n",
       " 'LPPL-1.0',\n",
       " 'LPPL-1.1',\n",
       " 'LPPL-1.2',\n",
       " 'LPPL-1.3a',\n",
       " 'LPPL-1.3c',\n",
       " 'Latex2e',\n",
       " 'Leptonica',\n",
       " 'LiLiQ-P-1.1',\n",
       " 'LiLiQ-R-1.1',\n",
       " 'LiLiQ-Rplus-1.1',\n",
       " 'Libpng',\n",
       " 'Linux-OpenIB',\n",
       " 'MIT',\n",
       " 'MIT-0',\n",
       " 'MIT-CMU',\n",
       " 'MIT-Modern-Variant',\n",
       " 'MIT-advertising',\n",
       " 'MIT-enna',\n",
       " 'MIT-feh',\n",
       " 'MIT-open-group',\n",
       " 'MITNFA',\n",
       " 'MPL-1.0',\n",
       " 'MPL-1.1',\n",
       " 'MPL-2.0',\n",
       " 'MPL-2.0-no-copyleft-exception',\n",
       " 'MS-PL',\n",
       " 'MS-RL',\n",
       " 'MTLL',\n",
       " 'MakeIndex',\n",
       " 'MirOS',\n",
       " 'Motosoto',\n",
       " 'MulanPSL-1.0',\n",
       " 'MulanPSL-2.0',\n",
       " 'Multics',\n",
       " 'Mup',\n",
       " 'NAIST-2003',\n",
       " 'NASA-1.3',\n",
       " 'NBPL-1.0',\n",
       " 'NCGL-UK-2.0',\n",
       " 'NCSA',\n",
       " 'NGPL',\n",
       " 'NIST-PD',\n",
       " 'NIST-PD-fallback',\n",
       " 'NLOD-1.0',\n",
       " 'NLOD-2.0',\n",
       " 'NLPL',\n",
       " 'NOSL',\n",
       " 'NPL-1.0',\n",
       " 'NPL-1.1',\n",
       " 'NPOSL-3.0',\n",
       " 'NRL',\n",
       " 'NTP',\n",
       " 'NTP-0',\n",
       " 'Naumen',\n",
       " 'Net-SNMP',\n",
       " 'NetCDF',\n",
       " 'Newsletr',\n",
       " 'Nokia',\n",
       " 'Noweb',\n",
       " 'Nunit',\n",
       " 'O-UDA-1.0',\n",
       " 'OCCT-PL',\n",
       " 'OCLC-2.0',\n",
       " 'ODC-By-1.0',\n",
       " 'ODC-PDDL-1.0',\n",
       " 'ODbL-1.0',\n",
       " 'OFL-1.0',\n",
       " 'OFL-1.0-RFN',\n",
       " 'OFL-1.0-no-RFN',\n",
       " 'OFL-1.1',\n",
       " 'OFL-1.1-RFN',\n",
       " 'OFL-1.1-no-RFN',\n",
       " 'OGC-1.0',\n",
       " 'OGDL-Taiwan-1.0',\n",
       " 'OGL-Canada-2.0',\n",
       " 'OGL-UK-1.0',\n",
       " 'OGL-UK-2.0',\n",
       " 'OGL-UK-3.0',\n",
       " 'OGTSL',\n",
       " 'OLDAP-1.1',\n",
       " 'OLDAP-1.2',\n",
       " 'OLDAP-1.3',\n",
       " 'OLDAP-1.4',\n",
       " 'OLDAP-2.0',\n",
       " 'OLDAP-2.0.1',\n",
       " 'OLDAP-2.1',\n",
       " 'OLDAP-2.2',\n",
       " 'OLDAP-2.2.1',\n",
       " 'OLDAP-2.2.2',\n",
       " 'OLDAP-2.3',\n",
       " 'OLDAP-2.4',\n",
       " 'OLDAP-2.5',\n",
       " 'OLDAP-2.6',\n",
       " 'OLDAP-2.7',\n",
       " 'OLDAP-2.8',\n",
       " 'OML',\n",
       " 'OPL-1.0',\n",
       " 'OPUBL-1.0',\n",
       " 'OSET-PL-2.1',\n",
       " 'OSL-1.0',\n",
       " 'OSL-1.1',\n",
       " 'OSL-2.0',\n",
       " 'OSL-2.1',\n",
       " 'OSL-3.0',\n",
       " 'OpenSSL',\n",
       " 'PDDL-1.0',\n",
       " 'PHP-3.0',\n",
       " 'PHP-3.01',\n",
       " 'PSF-2.0',\n",
       " 'Parity-6.0.0',\n",
       " 'Parity-7.0.0',\n",
       " 'Plexus',\n",
       " 'PolyForm-Noncommercial-1.0.0',\n",
       " 'PolyForm-Small-Business-1.0.0',\n",
       " 'PostgreSQL',\n",
       " 'Python-2.0',\n",
       " 'QPL-1.0',\n",
       " 'Qhull',\n",
       " 'RHeCos-1.1',\n",
       " 'RPL-1.1',\n",
       " 'RPL-1.5',\n",
       " 'RPSL-1.0',\n",
       " 'RSA-MD',\n",
       " 'RSCPL',\n",
       " 'Rdisc',\n",
       " 'Ruby',\n",
       " 'SAX-PD',\n",
       " 'SCEA',\n",
       " 'SGI-B-1.0',\n",
       " 'SGI-B-1.1',\n",
       " 'SGI-B-2.0',\n",
       " 'SHL-0.5',\n",
       " 'SHL-0.51',\n",
       " 'SISSL',\n",
       " 'SISSL-1.2',\n",
       " 'SMLNJ',\n",
       " 'SMPPL',\n",
       " 'SNIA',\n",
       " 'SPL-1.0',\n",
       " 'SSH-OpenSSH',\n",
       " 'SSH-short',\n",
       " 'SSPL-1.0',\n",
       " 'SWL',\n",
       " 'Saxpath',\n",
       " 'Sendmail',\n",
       " 'Sendmail-8.23',\n",
       " 'SimPL-2.0',\n",
       " 'Sleepycat',\n",
       " 'Spencer-86',\n",
       " 'Spencer-94',\n",
       " 'Spencer-99',\n",
       " 'StandardML-NJ',\n",
       " 'SugarCRM-1.1.3',\n",
       " 'TAPR-OHL-1.0',\n",
       " 'TCL',\n",
       " 'TCP-wrappers',\n",
       " 'TMate',\n",
       " 'TORQUE-1.1',\n",
       " 'TOSL',\n",
       " 'TU-Berlin-1.0',\n",
       " 'TU-Berlin-2.0',\n",
       " 'UCL-1.0',\n",
       " 'UPL-1.0',\n",
       " 'Unicode-DFS-2015',\n",
       " 'Unicode-DFS-2016',\n",
       " 'Unicode-TOU',\n",
       " 'Unlicense',\n",
       " 'VOSTROM',\n",
       " 'VSL-1.0',\n",
       " 'Vim',\n",
       " 'W3C',\n",
       " 'W3C-19980720',\n",
       " 'W3C-20150513',\n",
       " 'WTFPL',\n",
       " 'Watcom-1.0',\n",
       " 'Wsuipa',\n",
       " 'X11',\n",
       " 'XFree86-1.1',\n",
       " 'XSkat',\n",
       " 'Xerox',\n",
       " 'Xnet',\n",
       " 'YPL-1.0',\n",
       " 'YPL-1.1',\n",
       " 'ZPL-1.1',\n",
       " 'ZPL-2.0',\n",
       " 'ZPL-2.1',\n",
       " 'Zed',\n",
       " 'Zend-2.0',\n",
       " 'Zimbra-1.3',\n",
       " 'Zimbra-1.4',\n",
       " 'Zlib',\n",
       " 'acme-cc',\n",
       " 'blessing',\n",
       " 'bsd-license',\n",
       " 'bzip2-1.0.5',\n",
       " 'bzip2-1.0.6',\n",
       " 'canada-crown',\n",
       " 'cc-nc',\n",
       " 'copyleft-next-0.3.0',\n",
       " 'copyleft-next-0.3.1',\n",
       " 'curl',\n",
       " 'diffmark',\n",
       " 'dli-model-use',\n",
       " 'dvipdfm',\n",
       " 'eCos-2.0',\n",
       " 'eGenix',\n",
       " 'etalab-2.0',\n",
       " 'eurofound',\n",
       " 'gSOAP-1.3b',\n",
       " 'geo-no-fee-unrestricted',\n",
       " 'geogratis',\n",
       " 'gnuplot',\n",
       " 'hesa-withrights',\n",
       " 'iMatix',\n",
       " 'jabber-osl',\n",
       " 'libpng-2.0',\n",
       " 'libselinux-1.0',\n",
       " 'libtiff',\n",
       " 'localauth-withrights',\n",
       " 'lucent-plan9',\n",
       " 'met-office-cp',\n",
       " 'mitre',\n",
       " 'mpich2',\n",
       " 'my-example-license1',\n",
       " 'notspecified',\n",
       " 'other-at',\n",
       " 'other-closed',\n",
       " 'other-nc',\n",
       " 'other-open',\n",
       " 'other-pd',\n",
       " 'psfrag',\n",
       " 'psutils',\n",
       " 'ukclickusepsi',\n",
       " 'ukcrown',\n",
       " 'ukcrown-withrights',\n",
       " 'ukpsi',\n",
       " 'user-jsim',\n",
       " 'wxWindows',\n",
       " 'xinetd',\n",
       " 'xpp',\n",
       " 'zenodo-freetoread-1.0',\n",
       " 'zlib-acknowledgement']"
      ]
     },
     "execution_count": 71,
     "metadata": {},
     "output_type": "execute_result"
    }
   ],
   "source": [
    "rohub.list_available_licenses()"
   ]
  },
  {
   "cell_type": "code",
   "execution_count": 72,
   "id": "caff18b5-73d0-4175-89c7-d8b0f5c1c1cb",
   "metadata": {},
   "outputs": [
    {
     "data": {
      "text/plain": [
       "{'Basic Research Object': None,\n",
       " 'Bibliography-centric Research Object': ['Bibliography Centric Research Object folders structure'],\n",
       " 'Data-centric Research Object': ['Data Centric Research Object folders structure'],\n",
       " 'Executable Research Object': ['Executable Research Object folders structure'],\n",
       " 'Process-centric Research Object': None,\n",
       " 'Service-centric Research Object': None,\n",
       " 'Software-centric Research Object': None,\n",
       " 'Workflow-centric Research Object': ['Workflow Centric Research Object folders structure']}"
      ]
     },
     "execution_count": 72,
     "metadata": {},
     "output_type": "execute_result"
    }
   ],
   "source": [
    "rohub.show_valid_type_matching_for_ros()"
   ]
  },
  {
   "cell_type": "markdown",
   "id": "af3f8253-e2a4-49c6-a715-627667d15641",
   "metadata": {},
   "source": [
    "### load full metadata"
   ]
  },
  {
   "cell_type": "code",
   "execution_count": 76,
   "id": "10e6fac8-61e0-41e4-83ac-3c458b76153a",
   "metadata": {},
   "outputs": [],
   "source": [
    "ro.load_full_metadata()"
   ]
  },
  {
   "cell_type": "code",
   "execution_count": 77,
   "id": "c732d7ef-be60-487d-82d2-c0d765008f3f",
   "metadata": {
    "tags": []
   },
   "outputs": [
    {
     "data": {
      "text/plain": [
       "{'identifier': '08d413f9-e434-4d50-a7ee-39b034f40ae0',\n",
       " 'shared_link': 'https://w3id.org/ro-id/08d413f9-e434-4d50-a7ee-39b034f40ae0',\n",
       " 'title': '8th December - Copernicus Atmosphere Monitoring Service Data Cube Research Object',\n",
       " 'description': 'This Research Object demonstrate how to compute monthly map of PM10 over your country - modified',\n",
       " 'parent_ro': None,\n",
       " 'type': 'Data-centric Research Object',\n",
       " 'template': 'Data Centric Research Object folders structure',\n",
       " 'created': '2022-01-23T11:25:52.956418Z',\n",
       " 'creator': 'annefou@geo.uio.no',\n",
       " 'modificator': 'annefou@geo.uio.no',\n",
       " 'modified': '2022-01-23T11:34:11.800417Z',\n",
       " 'importer': None,\n",
       " 'imported': None,\n",
       " 'snapshotted': None,\n",
       " 'snapshooter': None,\n",
       " 'forked': None,\n",
       " 'forker': None,\n",
       " 'archived': None,\n",
       " 'archiver': None,\n",
       " 'created_on': '2022-01-23T11:25:52.956418+0000',\n",
       " 'created_by': 'annefou@geo.uio.no',\n",
       " 'modified_on': '2022-01-23T11:31:31.590675+0000',\n",
       " 'modified_by': 'annefou@geo.uio.no',\n",
       " 'original_created_on': None,\n",
       " 'original_created_by': None,\n",
       " 'original_creator_name': None,\n",
       " 'authors_credits': ['annefou@geo.uio.no',\n",
       "  'https://orcid.org/0000-0003-3784-6651'],\n",
       " 'contributors_credits': ['https://orcid.org/0000-0002-8316-3192'],\n",
       " 'status': 'LIVE',\n",
       " 'access_mode': 'PUBLIC',\n",
       " 'owner': 'annefou@geo.uio.no',\n",
       " 'editors': ['annefou@geo.uio.no', 'dario.stelitano@ingv.it'],\n",
       " 'readers': [],\n",
       " 'number_of_ratings': 0,\n",
       " 'rating': '0.00',\n",
       " 'number_of_likes': 0,\n",
       " 'number_of_dislikes': 0,\n",
       " 'quality': 0,\n",
       " 'quality_calculated_on': None,\n",
       " 'number_of_resources': 6,\n",
       " 'number_of_folders': 4,\n",
       " 'number_of_annotations': 31,\n",
       " 'number_of_all_aggregates': 41,\n",
       " 'number_of_comments': 0,\n",
       " 'number_of_snapshots': 0,\n",
       " 'number_of_forks': 0,\n",
       " 'number_of_archives': 0,\n",
       " 'number_of_events': 48,\n",
       " 'number_of_downloads': 1,\n",
       " 'number_of_views': 1,\n",
       " 'research_areas': ['Earth sciences'],\n",
       " 'read_only': False,\n",
       " 'creation_mode': 'MANUAL',\n",
       " 'golden': False,\n",
       " 'doi': None,\n",
       " 'cite_as': 'Fouilloux, Anne, Nieves Pepito, and Pepito Bato. \"8th December - Copernicus Atmosphere Monitoring Service Data Cube Research Object.\" ROHub. Jan 23 ,2022. https://w3id.org/ro-id/08d413f9-e434-4d50-a7ee-39b034f40ae0.',\n",
       " 'sketch': ['https://api.rohub.org/api/resources/be4c5800-9058-4d43-967c-1b233da92d17/download/'],\n",
       " 'geolocation': True,\n",
       " 'metadata': {'keywords': [],\n",
       "  'domains': [],\n",
       "  'places': [],\n",
       "  'organizations': [],\n",
       "  'persons': [],\n",
       "  'frequent_expressions': [],\n",
       "  'concepts': []},\n",
       " 'size': 59015,\n",
       " 'user_liked': False,\n",
       " 'user_disliked': False,\n",
       " 'user_rate': 0,\n",
       " 'license': '0BSD',\n",
       " 'funding': [],\n",
       " 'community': [],\n",
       " 'main_entity': [],\n",
       " 'api_link': 'https://api.rohub.org/api/ros/08d413f9-e434-4d50-a7ee-39b034f40ae0/'}"
      ]
     },
     "execution_count": 77,
     "metadata": {},
     "output_type": "execute_result"
    }
   ],
   "source": [
    "ro.show_full_metadata()"
   ]
  },
  {
   "cell_type": "markdown",
   "id": "1d24f7e4-e116-48b2-a5c4-69b281e6d866",
   "metadata": {},
   "source": [
    "### rohub library version"
   ]
  },
  {
   "cell_type": "code",
   "execution_count": 78,
   "id": "db924366-ab4e-4271-b1cc-caebd9e80990",
   "metadata": {},
   "outputs": [
    {
     "data": {
      "text/plain": [
       "'You are currently using package v1.0.2.'"
      ]
     },
     "execution_count": 78,
     "metadata": {},
     "output_type": "execute_result"
    }
   ],
   "source": [
    "rohub.version()"
   ]
  },
  {
   "cell_type": "markdown",
   "id": "c44ae7b0-a487-4d5f-b289-3b1ed7910759",
   "metadata": {},
   "source": [
    "### Set evolution setting"
   ]
  },
  {
   "cell_type": "code",
   "execution_count": 79,
   "id": "46cdc179-a967-412f-8c32-f33b6da3f7e8",
   "metadata": {},
   "outputs": [
    {
     "name": "stdout",
     "output_type": "stream",
     "text": [
      "number of retries is now changed to 50.\n"
     ]
    }
   ],
   "source": [
    "#default 30\n",
    "rohub.set_retries(50)"
   ]
  },
  {
   "cell_type": "code",
   "execution_count": 80,
   "id": "5fe83aca-9524-4b7f-94a0-4b80250fd61e",
   "metadata": {},
   "outputs": [
    {
     "name": "stdout",
     "output_type": "stream",
     "text": [
      "sleep_time is now changed to 5.\n"
     ]
    }
   ],
   "source": [
    "# default 2\n",
    "rohub.set_sleep_time(5)"
   ]
  },
  {
   "cell_type": "code",
   "execution_count": null,
   "id": "7c820cad-b184-43b9-a8bb-a7b9f2112966",
   "metadata": {},
   "outputs": [],
   "source": []
  }
 ],
 "metadata": {
  "kernelspec": {
   "display_name": "Python 3",
   "language": "python",
   "name": "python3"
  },
  "language_info": {
   "codemirror_mode": {
    "name": "ipython",
    "version": 3
   },
   "file_extension": ".py",
   "mimetype": "text/x-python",
   "name": "python",
   "nbconvert_exporter": "python",
   "pygments_lexer": "ipython3",
   "version": "3.8.8"
  }
 },
 "nbformat": 4,
 "nbformat_minor": 5
}
