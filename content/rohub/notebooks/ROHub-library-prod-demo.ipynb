{
 "cells": [
  {
   "cell_type": "markdown",
   "id": "47c3f55b-9d3b-498f-8e27-f5284dfe5062",
   "metadata": {},
   "source": [
    "## Install library if not present"
   ]
  },
  {
   "cell_type": "code",
   "execution_count": null,
   "id": "c173b019-6119-42c0-9f3d-58ea2623cd91",
   "metadata": {},
   "outputs": [],
   "source": [
    "pip install rohub"
   ]
  },
  {
   "cell_type": "markdown",
   "id": "aba5dfa9-e883-4e72-b075-019dec8f5414",
   "metadata": {},
   "source": [
    "## Import library"
   ]
  },
  {
   "cell_type": "code",
   "execution_count": null,
   "id": "8c6dfaad-cbf1-49be-8b2e-786e18c2e701",
   "metadata": {},
   "outputs": [],
   "source": [
    "import rohub"
   ]
  },
  {
   "cell_type": "markdown",
   "id": "6098e656-4d19-4d95-93ff-eca550195d05",
   "metadata": {},
   "source": [
    "## Authenticate"
   ]
  },
  {
   "cell_type": "code",
   "execution_count": null,
   "id": "095bc66a-07be-41bf-98ec-0e5004e63c19",
   "metadata": {},
   "outputs": [],
   "source": [
    "rohub_user = open(\"/home/jovyan/files/rohub-user\").read().rstrip()\n",
    "rohub_pwd = open(\"/home/jovyan/files/rohub-pwd\").read().rstrip()\n",
    "rohub.login(username=rohub_user, password=rohub_pwd)\n",
    "#rohub_client_id = open(\"/home/jovyan/files/rohub-client_id\").read().rstrip()\n",
    "#rohub_client_secret = open(\"/home/jovyan/files/rohub-client_secret\").read().rstrip()\n",
    "#rohub.login(client_id=rohub_client_id, client_secret=rohub_client_secret)"
   ]
  },
  {
   "cell_type": "markdown",
   "id": "cce19bd6-aa59-473e-9799-22b206aa8b96",
   "metadata": {},
   "source": [
    "## RO methods"
   ]
  },
  {
   "cell_type": "markdown",
   "id": "2ef46bd8-35d7-4564-9754-997df908c1d7",
   "metadata": {},
   "source": [
    "### Create new RO"
   ]
  },
  {
   "cell_type": "code",
   "execution_count": null,
   "id": "e4951753-eace-4321-9884-f2e96e3ebe4d",
   "metadata": {},
   "outputs": [],
   "source": [
    "ro_title=\"8th December - Copernicus Atmosphere Monitoring Service Data Cube Research Object\"\n",
    "ro_research_areas=[\"Earth sciences\"]\n",
    "ro_description=\"This Research Object demonstrate how to compute monthly map of PM10 over your country\"\n",
    "ro_ros_type=\"Data-centric Research Object\"\n",
    "ro_ros_template=\"Data Centric Research Object folders structure\"\n",
    "\n",
    "ro = rohub.ros_create(title=ro_title, research_areas=ro_research_areas, description=ro_description, ros_type=ro_ros_type, template=ro_ros_template)\n"
   ]
  },
  {
   "cell_type": "markdown",
   "id": "8ded8f65-5e90-4245-a47e-0666bdcb3b74",
   "metadata": {},
   "source": [
    "### Find ROs"
   ]
  },
  {
   "cell_type": "code",
   "execution_count": null,
   "id": "bcf0cf34-36a8-41a5-b289-0ee6c85daf5e",
   "metadata": {},
   "outputs": [],
   "source": [
    "rohub.ros_find(search=\"December\")"
   ]
  },
  {
   "cell_type": "markdown",
   "id": "e8744bec-3507-42f8-845c-40efdc5dff23",
   "metadata": {},
   "source": [
    "### List my ROs"
   ]
  },
  {
   "cell_type": "code",
   "execution_count": null,
   "id": "26d00d22-6954-4aa5-a2e0-aaf5e3c8ddf2",
   "metadata": {},
   "outputs": [],
   "source": [
    "myros=rohub.list_my_ros()\n",
    "myros[0:10]"
   ]
  },
  {
   "cell_type": "markdown",
   "id": "54eaa5c3-62f7-4ca9-83f4-e334e3b0c3be",
   "metadata": {},
   "source": [
    "### Load RO"
   ]
  },
  {
   "cell_type": "code",
   "execution_count": null,
   "id": "5eeac8a1-89b5-4103-8a46-febc3221b36c",
   "metadata": {},
   "outputs": [],
   "source": [
    "ro_id=myros.loc[0,\"identifier\"]\n",
    "ro=rohub.ros_load(identifier=ro_id)"
   ]
  },
  {
   "cell_type": "markdown",
   "id": "a0133b72-b2da-4b87-ac69-3e5e74bc3019",
   "metadata": {},
   "source": [
    "### Show basic metadata"
   ]
  },
  {
   "cell_type": "code",
   "execution_count": null,
   "id": "4e19294e-d67e-4bd1-8d98-b049d045dc3f",
   "metadata": {},
   "outputs": [],
   "source": [
    "ro.show_metadata()"
   ]
  },
  {
   "cell_type": "markdown",
   "id": "e77013ff-4998-41d4-abfb-61e7fc17e48f",
   "metadata": {},
   "source": [
    "### Add/modify basic metadata"
   ]
  },
  {
   "cell_type": "code",
   "execution_count": null,
   "id": "4a89449c-31d7-4035-8acb-26bad4b98635",
   "metadata": {},
   "outputs": [],
   "source": [
    "ro.description=\"This Research Object demonstrate how to compute monthly map of PM10 over your country - modified\"\n",
    "ro.editors=[\"annefou@geo.uio.no\", \"dario.stelitano@ingv.it\"]\n",
    "ro.update()\n"
   ]
  },
  {
   "cell_type": "markdown",
   "id": "bb837091-e702-48f6-87bb-07a0943ca86e",
   "metadata": {},
   "source": [
    "### List RO Folders"
   ]
  },
  {
   "cell_type": "code",
   "execution_count": null,
   "id": "b9457103-fe9f-4bba-8084-8f5339a7ab4c",
   "metadata": {},
   "outputs": [],
   "source": [
    "myfolders = ro.list_folders()\n",
    "myfolders"
   ]
  },
  {
   "cell_type": "markdown",
   "id": "045fb58e-b5e6-497c-ac88-05a24c68fec5",
   "metadata": {
    "tags": []
   },
   "source": [
    "### Aggregate resource (internal)"
   ]
  },
  {
   "cell_type": "code",
   "execution_count": null,
   "id": "6558c9e5-4cf2-4003-bf79-2c586f987deb",
   "metadata": {},
   "outputs": [],
   "source": [
    "resi_res_type=\"Sketch\"\n",
    "resi_file_path=\"/home/jovyan/files/flow-dcro.png\"\n",
    "resi_title=\"Flow to compute monthly map\"\n",
    "resi_folder=myfolders.loc[0,\"identifier\"]\n",
    "\n",
    "my_res_int0=ro.add_internal_resource(res_type=resi_res_type,file_path=resi_file_path, title=resi_title, folder=resi_folder)\n"
   ]
  },
  {
   "cell_type": "markdown",
   "id": "131bfc83-b72a-4f3b-ba8d-874804b032d1",
   "metadata": {},
   "source": [
    "### Aggregate resouce (external)"
   ]
  },
  {
   "cell_type": "code",
   "execution_count": null,
   "id": "190f391b-2162-437c-9c2b-e6536706a2a5",
   "metadata": {},
   "outputs": [],
   "source": [
    "rese_res_type=\"Data Cube Collection\"\n",
    "rese_file_url=\"https://reliance-das.adamplatform.eu/opensearch/datasets?datasetId=EU_CAMS_SURFACE_PM10_G\"\n",
    "rese_title=\"EU_CAMS_SURFACE_PM10_G\"\n",
    "rese_description=\"This dataset provides daily air quality analyses and forecasts for Europe.\\n\\nCAMS produces specific daily air quality analyses and forecasts for the European domain at significantly higher spatial resolution (0.1 degrees, approx. 10km) than is available from the global analyses and forecasts. The production is based on an ensemble of nine air quality forecasting systems across Europe. A median ensemble is calculated from individual outputs, since ensemble products yield on average better performance than the individual model products. The spread between the nine models are used to provide an estimate of the forecast uncertainty. The analysis combines model data with observations provided by the European Environment Agency (EEA) into a complete and consistent dataset using various data assimilation techniques depending upon the air-quality forecasting system used. In parallel, air quality forecasts are produced once a day for the next four days. Both the analysis and the forecast are available at hourly time steps at seven height levels.\\n\\nNote that only nitrogen monoxide, nitrogen dioxide, sulphur dioxide, ozone, PM2.5, PM10 and dust are regularly validated against in situ observations, and therefore forecasts of all other variables are unvalidated and should be considered experimental.\"\n",
    "\n",
    "ro.add_external_resource(res_type=rese_res_type, url=rese_file_url, title=rese_title, description= rese_description)\n"
   ]
  },
  {
   "cell_type": "code",
   "execution_count": null,
   "id": "68e7d540-e90f-44f9-bab3-a4dbce9edc8f",
   "metadata": {},
   "outputs": [],
   "source": [
    "rese_res_type=\"Result\"\n",
    "rese_file_url=\"https://reliance-das.adamplatform.eu/wcs?service=WCS&Request=GetCoverage&CoverageID=EU_CAMS_SURFACE_PM10_G&subset=unix(2018-09-01,2018-09-01)&format=image/tiff\"\n",
    "rese_title=\"Daily PM10 concentration\"\n",
    "rese_description=\"Daily PM10 concentration for 1st September 2018 over Europe\"\n",
    "\n",
    "ro.add_external_resource(res_type=rese_res_type, url=rese_file_url, title=rese_title, description= rese_description)\n"
   ]
  },
  {
   "cell_type": "code",
   "execution_count": null,
   "id": "8825af08-03e6-4ec5-951f-780cf8bcde05",
   "metadata": {},
   "outputs": [],
   "source": [
    "rese_res_type=\"Data Cube Product\"\n",
    "rese_file_url=\"https://reliance-das.adamplatform.eu/opensearch/search?datasetId=EU_CAMS_SURFACE_PM10_G&startDate=2018-09-01&endDate=2018-09-01\"\n",
    "rese_title=\"Index of daily PM10 concentration for September 1st 2018\"\n",
    "rese_description=\"List of hourly PM10 concentration data for September 1st 2018 over Europe\"\n",
    "\n",
    "ro.add_external_resource(res_type=rese_res_type, url=rese_file_url, title=rese_title, description=rese_description)\n"
   ]
  },
  {
   "cell_type": "code",
   "execution_count": null,
   "id": "508a6835-a14e-48d2-884e-323efb26940d",
   "metadata": {},
   "outputs": [],
   "source": [
    "rese_res_type=\"Jupyter Notebook\"\n",
    "rese_file_url=\"https://zenodo.org/record/5554786#.YYlWo9nMI-Q\"\n",
    "rese_title=\"Jupter Notebook of CAMS European air quality analysis from Copernicus Atmosphere Monitoring with RELIANCE services\"\n",
    "rese_description=\"Jupyter Notebook for discovering, accessing and processing RELIANCE data cube, and creating a Research Object with results, and finally publish it in Zenodo\"\n",
    "\n",
    "my_res_ext0=ro.add_external_resource(res_type=rese_res_type, url=rese_file_url, title=rese_title, description=rese_description)\n"
   ]
  },
  {
   "cell_type": "code",
   "execution_count": null,
   "id": "add75fa3-5d00-41b4-9c84-e037f8794ba1",
   "metadata": {},
   "outputs": [],
   "source": [
    "rese_res_type=\"Dataset\"\n",
    "rese_file_url=\"https://box.psnc.pl/f/d90a0e1e0d/?raw=1\"\n",
    "rese_title=\"Catch data from Norway\"\n",
    "rese_description=\"Catch data records sample from 2019\"\n",
    "\n",
    "my_res_ext1=ro.add_external_resource(res_type=rese_res_type, url=rese_file_url, title=rese_title, description=rese_description)"
   ]
  },
  {
   "cell_type": "markdown",
   "id": "b828a23c-bc3d-4a56-bc5f-6a8ac38f7b19",
   "metadata": {},
   "source": [
    "### List RO resources"
   ]
  },
  {
   "cell_type": "code",
   "execution_count": null,
   "id": "27cd8594-9579-4645-b6c9-968f9d2c37d3",
   "metadata": {},
   "outputs": [],
   "source": [
    "ro.list_resources()"
   ]
  },
  {
   "cell_type": "markdown",
   "id": "7e7990c2-30a0-4022-bae9-242831e33a05",
   "metadata": {},
   "source": [
    "### Add geolocation"
   ]
  },
  {
   "cell_type": "code",
   "execution_count": null,
   "id": "4632f91b-1461-491b-943f-ee319e59c8e0",
   "metadata": {},
   "outputs": [],
   "source": [
    "geojson_as_text_point_python= {\n",
    "  \"@context\": {\n",
    "    \"geojson\": \"https://purl.org/geojson/vocab#\"\n",
    "  },\n",
    "  \"type\": \"Feature\",\n",
    "  \"geometry\": {\n",
    "    \"type\": \"Point\",\n",
    "    \"coordinates\": [ 38.0, 38.0 ]\n",
    "  }\n",
    "}\n",
    "\n",
    "ro.add_geolocation(body_specification_json=geojson_as_text_point_python)\n"
   ]
  },
  {
   "cell_type": "code",
   "execution_count": null,
   "id": "58fc3bf9-d984-495d-93f2-e0e67cde7457",
   "metadata": {},
   "outputs": [],
   "source": [
    "#ro.add_geolocation(body_specification_json=\"/home/jovyan/ROHub-API/files/EuropeBOX.geojson\")\n",
    "#ro.add_geolocation(body_specification_json=\"/home/jovyan/ROHub-API/files/fra.geo-ld.json\")\n",
    "#ro.add_geolocation(body_specification_json=\"/home/jovyan/ROHub-API/files/geojson-test-simple_mp.json\")"
   ]
  },
  {
   "cell_type": "markdown",
   "id": "bb390c3a-5081-44eb-a250-38dcfd45b99b",
   "metadata": {},
   "source": [
    "### Export to RO-crate"
   ]
  },
  {
   "cell_type": "code",
   "execution_count": null,
   "id": "b5b35bb3-4281-4233-b5e3-74d0d9f96566",
   "metadata": {},
   "outputs": [],
   "source": [
    "#ro.export_to_rocrate(filename=\"my-ro-crate\")\n",
    "ro.export_to_rocrate(filename=\"my-ro-crate\", use_format=\"zip\")"
   ]
  },
  {
   "cell_type": "markdown",
   "id": "ae98d39e-f3e5-43c5-bdd6-bd38f16e4eb6",
   "metadata": {},
   "source": [
    "## Add authors/contributors/publishers/copyrightHolders"
   ]
  },
  {
   "cell_type": "markdown",
   "id": "8718bc86-687f-4287-8ce8-508d4895caa0",
   "metadata": {},
   "source": [
    "### List users"
   ]
  },
  {
   "cell_type": "code",
   "execution_count": null,
   "id": "276cccd8-5006-4031-a90e-a1d8088e824f",
   "metadata": {},
   "outputs": [],
   "source": [
    "usernames=rohub.users_find(search=\"Anne\")\n",
    "usernames"
   ]
  },
  {
   "cell_type": "code",
   "execution_count": null,
   "id": "0f54ddb4-569e-4fa3-88fe-4aca1deb215a",
   "metadata": {},
   "outputs": [],
   "source": [
    "user_id_anne=usernames.loc[0,\"username\"]\n",
    "user_id_anne"
   ]
  },
  {
   "cell_type": "code",
   "execution_count": null,
   "id": "e19548d2-2e01-4c35-b206-f06dacf45c36",
   "metadata": {},
   "outputs": [],
   "source": [
    "usernames=rohub.users_find(search=\"Nieves\")\n",
    "usernames"
   ]
  },
  {
   "cell_type": "code",
   "execution_count": null,
   "id": "ed0c0c04-2749-4bc8-827e-38aa68b01ad4",
   "metadata": {
    "tags": []
   },
   "outputs": [],
   "source": [
    "user_id_nieves=usernames.loc[0,\"username\"]\n",
    "user_id_nieves"
   ]
  },
  {
   "cell_type": "markdown",
   "id": "5b8ab500-9601-415e-a2ae-fb76377ef91c",
   "metadata": {},
   "source": [
    "### Add authors/contributors"
   ]
  },
  {
   "cell_type": "code",
   "execution_count": null,
   "id": "edcd56c6-7070-4f25-9a1e-1c5fcee45a73",
   "metadata": {},
   "outputs": [],
   "source": [
    "ro.set_authors(agents=[user_id_anne,user_id_nieves])\n",
    "#ro.set_authors(agents=[\"dontdoit@lochness.uk\"])"
   ]
  },
  {
   "cell_type": "code",
   "execution_count": null,
   "id": "d48dc33e-ea2c-4765-a735-85640ce4f55d",
   "metadata": {},
   "outputs": [],
   "source": [
    "ro.set_contributors(agents=[{\"user_id\":\"rapnonexist_3@hotmail.com\", \n",
    "                             \"display_name\": \"Pepito Bato\", \n",
    "                             \"email\":\"example3@hotmail.com\",\n",
    "                             \"orcid_id\":\"0000-0002-8316-3192\",\n",
    "                             \"affiliation\": \"PCSS\"}])\n"
   ]
  },
  {
   "cell_type": "markdown",
   "id": "d699e49e-fa94-4072-bf27-d7031b69a30f",
   "metadata": {},
   "source": [
    "### List organizations"
   ]
  },
  {
   "cell_type": "code",
   "execution_count": null,
   "id": "ab8422f0-e3b0-47ea-b77f-02105cfc4a58",
   "metadata": {},
   "outputs": [],
   "source": [
    "organizations=rohub.organizations_find(search=\"poznan\")\n",
    "organizations"
   ]
  },
  {
   "cell_type": "markdown",
   "id": "cffee19f-5c14-414a-a8d9-e2cf8524bd2c",
   "metadata": {},
   "source": [
    "### Add publisher/copyright holder"
   ]
  },
  {
   "cell_type": "code",
   "execution_count": null,
   "id": "4bde648f-bcfd-463b-a2b5-bd683bf8b421",
   "metadata": {},
   "outputs": [],
   "source": [
    "ro.set_publishers(agents=[organizations.loc[0,\"organization_id\"]])"
   ]
  },
  {
   "cell_type": "code",
   "execution_count": null,
   "id": "e202d803-bafb-4f7a-b2dc-18a7c7a1e1e9",
   "metadata": {},
   "outputs": [],
   "source": [
    "ro.set_copyright_holders(agents=[{\"org_id\":\"neworg_1@example.org\", \n",
    "                                  \"display_name\": \"Example Org 1\", \n",
    "                                  \"email\":\"neworg1@example.org\",\n",
    "                                  \"ror_identifier\":\"abcd123\",\n",
    "                                  \"organization_url\": \"http://neworg1.example.org\"}])\n",
    "#ro.set_copyright_holders(agents=[{\"dontexist\"}])"
   ]
  },
  {
   "cell_type": "markdown",
   "id": "a1d102a5-0477-4629-8c25-3b69e449905d",
   "metadata": {},
   "source": [
    "## Add RO license"
   ]
  },
  {
   "cell_type": "markdown",
   "id": "c863dbc9-fcc2-4a83-9287-9d5ef383b32a",
   "metadata": {},
   "source": [
    "### list available pre-defined licenses"
   ]
  },
  {
   "cell_type": "code",
   "execution_count": null,
   "id": "fa86eaa8-2be7-42c7-b65c-be4853717240",
   "metadata": {},
   "outputs": [],
   "source": [
    "rohub.list_available_licenses()"
   ]
  },
  {
   "cell_type": "markdown",
   "id": "0cb84129-705d-4389-9aaf-c35b0daf2e68",
   "metadata": {},
   "source": [
    "### set license"
   ]
  },
  {
   "cell_type": "code",
   "execution_count": null,
   "id": "81e765b2-b065-4bc8-b3a6-229d0957174f",
   "metadata": {},
   "outputs": [],
   "source": [
    "ro.set_license(license_id=rohub.list_available_licenses()[0]) "
   ]
  },
  {
   "cell_type": "markdown",
   "id": "6932e09c-fffb-44fa-ae01-fb4f8c182d13",
   "metadata": {},
   "source": [
    "### create custom license"
   ]
  },
  {
   "cell_type": "code",
   "execution_count": null,
   "id": "efb27a1b-0d84-4f06-9c38-5c57e9465afe",
   "metadata": {},
   "outputs": [],
   "source": [
    "license_identifier=\"acme-cc\"\n",
    "license_title=\"ACME Inc. Commercial License\"\n",
    "license_status=\"active\"\n",
    "license_url=\"http://www.acme.org/licence-commercial\"\n",
    "\n",
    "rohub.add_custom_license(identifier=license_identifier, title=license_title,\n",
    "    status=license_status, license_url=license_url)"
   ]
  },
  {
   "cell_type": "code",
   "execution_count": null,
   "id": "17b3b231-e2c6-48ab-93b7-ba75bb6cb13c",
   "metadata": {},
   "outputs": [],
   "source": [
    "rohub.list_valid_license_status()"
   ]
  },
  {
   "cell_type": "code",
   "execution_count": null,
   "id": "1aaf1c57-0c94-46eb-ac0f-577db94c3442",
   "metadata": {},
   "outputs": [],
   "source": [
    "rohub.list_custom_licenses() "
   ]
  },
  {
   "cell_type": "markdown",
   "id": "4cf71f90-a176-403c-b508-5d66e77f5298",
   "metadata": {},
   "source": [
    "## Add RO Funding information"
   ]
  },
  {
   "cell_type": "markdown",
   "id": "3f593c4b-4e0f-4191-b2e9-0b19af75ded2",
   "metadata": {},
   "source": [
    "### list predefined funders"
   ]
  },
  {
   "cell_type": "code",
   "execution_count": null,
   "id": "1d6f4310-6e7a-49ef-bd47-13a03d0a1b96",
   "metadata": {},
   "outputs": [],
   "source": [
    "rohub.zenodo_list_funders(number_of_results=30)"
   ]
  },
  {
   "cell_type": "markdown",
   "id": "fc988839-3942-49e8-b832-772660e6a293",
   "metadata": {},
   "source": [
    "### set funding"
   ]
  },
  {
   "cell_type": "code",
   "execution_count": null,
   "id": "0ec6f301-6fc9-4ab2-a403-79993666f7ee",
   "metadata": {},
   "outputs": [],
   "source": [
    "grant_id=\"101017502\"\n",
    "grant_Name=\"RELIANCE\"\n",
    "grant_title=\"Research Lifecycle Management for Earth Science Communities and Copernicus Users\"\n",
    "funder_name=\"European Commission\"\n",
    "funder_doi=\"10.13039/501100000781\"\n",
    "\n",
    "ro.set_funding(grant_identifier=grant_id, grant_name=grant_Name, funder_name=funder_name,\n",
    "grant_title=grant_title, funder_doi=funder_doi)"
   ]
  },
  {
   "cell_type": "markdown",
   "id": "553b5445-1690-49eb-a0d5-ad16985b8366",
   "metadata": {},
   "source": [
    "## RO Evolution"
   ]
  },
  {
   "cell_type": "markdown",
   "id": "470232a1-4bfb-4222-8f90-584bfb405b26",
   "metadata": {
    "tags": []
   },
   "source": [
    "### Create simple snapshot/archive"
   ]
  },
  {
   "cell_type": "code",
   "execution_count": null,
   "id": "8ab275ee-41f8-4816-a216-a85d47807365",
   "metadata": {},
   "outputs": [],
   "source": [
    "snapshot_id=ro.snapshot()\n",
    "snapshot_id"
   ]
  },
  {
   "cell_type": "markdown",
   "id": "a49a1b4b-fbff-47c9-b959-a0274c72f189",
   "metadata": {
    "tags": []
   },
   "source": [
    "### Create snapshot/archive, optionally assign DOI + publish it in Zenodo"
   ]
  },
  {
   "cell_type": "code",
   "execution_count": null,
   "id": "2bb8fd73-71fc-4b52-8aa7-b9b58c577288",
   "metadata": {
    "tags": []
   },
   "outputs": [],
   "source": [
    "snapshot_title=\"Copernicus Atmosphere Monitoring Service Data Cube RO December 8th - published v1\"\n",
    "snapshot_id_pub=ro.snapshot(title=snapshot_title, create_doi=True, publication_services=[\"Zenodo\"])\n",
    "snapshot_id_pub\n",
    "#%snapshot_id=ro.snapshot(create_doi=True, publication_services=[\"Zenodo\"])\n",
    "#%snapshot_id=ro.snapshot(publication_services=[\"Zenodo\"])\n"
   ]
  },
  {
   "cell_type": "markdown",
   "id": "3b4282fb-aa0b-4087-a69c-b1805dcc2f66",
   "metadata": {},
   "source": [
    "#### Load published snapshot/archive and list zenodo id/doi"
   ]
  },
  {
   "cell_type": "code",
   "execution_count": null,
   "id": "fd00dd0a-8dbf-482e-8d0e-e50be30d7cdc",
   "metadata": {},
   "outputs": [],
   "source": [
    "published_ro = rohub.ros_load(identifier=snapshot_id_pub)\n",
    "published_ro.list_publications()"
   ]
  },
  {
   "cell_type": "markdown",
   "id": "d62e53a6-17f2-4015-ba49-0974e2d1287f",
   "metadata": {},
   "source": [
    "### Create snapshot/archive, optionally assign DOI + publish it in B2Share"
   ]
  },
  {
   "cell_type": "code",
   "execution_count": null,
   "id": "7563a2c2-2e3c-4a02-9c70-fdaf7094564a",
   "metadata": {},
   "outputs": [],
   "source": [
    "snapshot_title=\"Copernicus Atmosphere Monitoring Service Data Cube RO December 8th - published v2\"\n",
    "snapshot_id_pub=ro.snapshot(title=snapshot_title, create_doi=False, publication_services=[\"B2SHARE\"])\n",
    "snapshot_id_pub"
   ]
  },
  {
   "cell_type": "markdown",
   "id": "b23a6e9f-9ba9-4b70-91af-6ad3456c9b79",
   "metadata": {},
   "source": [
    "#### Load published snapshot/archive and list b2share id/doi"
   ]
  },
  {
   "cell_type": "code",
   "execution_count": null,
   "id": "e9dba5ed-5454-4d29-97bd-6ead5048d3de",
   "metadata": {},
   "outputs": [],
   "source": [
    "published_ro = rohub.ros_load(identifier=snapshot_id_pub)\n",
    "published_ro.list_publications()"
   ]
  },
  {
   "cell_type": "markdown",
   "id": "5b4151d2-b0bf-4d5f-a2f8-7178ad583ac4",
   "metadata": {},
   "source": [
    "### Fork existing RO to reuse it for my own purposes"
   ]
  },
  {
   "cell_type": "code",
   "execution_count": null,
   "id": "9d6b3b8c-2a9a-4b31-8403-8a183141c822",
   "metadata": {},
   "outputs": [],
   "source": [
    "fork_id=ro.fork(title=\"Forked Copernicus Atmosphere Monitoring Service Data Cube RO December 8th\")\n",
    "forked_ro = rohub.ros_load(identifier=fork_id)\n",
    "forked_ro.show_metadata()\n",
    "#%time fork_id=ro.fork()"
   ]
  },
  {
   "cell_type": "markdown",
   "id": "1e13abaf-0671-435f-931b-a792c969c1c0",
   "metadata": {},
   "source": [
    "## Resource methods"
   ]
  },
  {
   "cell_type": "markdown",
   "id": "368fffa5-4e19-4f21-b6e3-e39b74cdd34b",
   "metadata": {},
   "source": [
    "### Load resource"
   ]
  },
  {
   "cell_type": "code",
   "execution_count": null,
   "id": "55177085-5d12-4f4b-b9ca-ddffd19f3163",
   "metadata": {},
   "outputs": [],
   "source": [
    "results=ro.list_resources()\n",
    "results"
   ]
  },
  {
   "cell_type": "code",
   "execution_count": null,
   "id": "7b856237-95c4-47e9-b42e-7baf4b8b89b2",
   "metadata": {
    "tags": []
   },
   "outputs": [],
   "source": [
    "my_res1=rohub.resource_load(identifier=results.loc[5,\"identifier\"])"
   ]
  },
  {
   "cell_type": "markdown",
   "id": "18a851c0-9c06-4a63-99ef-4647363b055d",
   "metadata": {},
   "source": [
    "### show basic metadata"
   ]
  },
  {
   "cell_type": "code",
   "execution_count": null,
   "id": "c3189bb9-fd9b-4d1d-86fe-3b9c1a450888",
   "metadata": {},
   "outputs": [],
   "source": [
    "my_res1.show_metadata()"
   ]
  },
  {
   "cell_type": "markdown",
   "id": "633af189-f251-4178-bc6d-e0112c4c09cc",
   "metadata": {},
   "source": [
    "### Add/modify metadata"
   ]
  },
  {
   "cell_type": "code",
   "execution_count": null,
   "id": "727d6004-8c97-4e37-82b4-376e2d3b4dc7",
   "metadata": {
    "tags": []
   },
   "outputs": [],
   "source": [
    "my_res1.title=\"Flow to compute monthly map - updated\"\n",
    "my_res1.description=\"This resource has this description\"\n",
    "my_res1.folder=myfolders.loc[2,\"identifier\"]\n",
    "my_res1.update_metadata()"
   ]
  },
  {
   "cell_type": "markdown",
   "id": "cef47663-f6f8-4c4c-a74f-af48482fc338",
   "metadata": {},
   "source": [
    "### Modify content (internal resource)"
   ]
  },
  {
   "cell_type": "code",
   "execution_count": null,
   "id": "b23c9309-617c-410b-ad33-c3eb344ffcda",
   "metadata": {},
   "outputs": [],
   "source": [
    "resi_file_path=\"/home/jovyan/files/Group 910.png\"\n",
    "my_res1.update_content(file_path=resi_file_path)"
   ]
  },
  {
   "cell_type": "markdown",
   "id": "5379f376-4953-41ac-bd66-8f5b913f6cb1",
   "metadata": {},
   "source": [
    "### Modify content (external resource)"
   ]
  },
  {
   "cell_type": "code",
   "execution_count": null,
   "id": "1363b033-965e-4aa3-b5f9-24c712576d9b",
   "metadata": {},
   "outputs": [],
   "source": [
    "my_res1_ext=rohub.resource_load(identifier=results.loc[3,\"identifier\"])\n",
    "rese_file_url=\"https://zenodo.org/record/5554786#.YYlWo9nMI-X\"\n",
    "my_res1_ext.update_content(input_url=rese_file_url)"
   ]
  },
  {
   "cell_type": "markdown",
   "id": "32e6f2c0-0e59-4af3-8f8f-850f271ac3ea",
   "metadata": {
    "tags": []
   },
   "source": [
    "### Retrieve resource"
   ]
  },
  {
   "cell_type": "code",
   "execution_count": null,
   "id": "bb677073-5b10-437d-929f-31062f780ff9",
   "metadata": {},
   "outputs": [],
   "source": [
    "file=my_res1.download(resource_filename=\"myresource1.png\")\n"
   ]
  },
  {
   "cell_type": "code",
   "execution_count": null,
   "id": "87e0ae43-bef6-439a-8ea7-9450e0e76c2a",
   "metadata": {},
   "outputs": [],
   "source": [
    "from IPython.display import Image\n",
    "Image(filename=file) "
   ]
  },
  {
   "cell_type": "code",
   "execution_count": null,
   "id": "0faf10fc-eed7-4a90-b9a0-d59d548b1038",
   "metadata": {},
   "outputs": [],
   "source": [
    "my_res2_ext=rohub.resource_load(identifier=results.loc[1,\"identifier\"])\n",
    "my_res2_ext.download(resource_filename=\"myres_ext2.json\")\n",
    "\n",
    "#import json\n",
    "#with open(\"myres_ext2.json\") as jsonFile:\n",
    "#    jsonObject = json.load(jsonFile)\n",
    "#    jsonFile.close()\n",
    "#jsonObject\n",
    "\n",
    "import json\n",
    "import pandas as pd\n",
    "data = json.load(open('myres_ext2.json'))\n",
    "\n",
    "df = pd.DataFrame(data[\"features\"])\n",
    "print (df)"
   ]
  },
  {
   "cell_type": "code",
   "execution_count": null,
   "id": "118f11d4-0a97-46ae-8835-da8c2fb55cbc",
   "metadata": {},
   "outputs": [],
   "source": [
    "my_res3_ext=rohub.resource_load(identifier=results.loc[2,\"identifier\"])\n",
    "my_res3_ext.download(resource_filename=\"myres_ext3.csv\")\n",
    "\n",
    "import pandas as pd\n",
    "pd.read_csv(\"myres_ext3.csv\")"
   ]
  },
  {
   "cell_type": "markdown",
   "id": "68016f88-227f-4f98-8a60-81e0d75086b7",
   "metadata": {
    "tags": []
   },
   "source": [
    "### Assign DOI"
   ]
  },
  {
   "cell_type": "code",
   "execution_count": null,
   "id": "2b59a17a-df12-4019-b30a-b8514b08c248",
   "metadata": {},
   "outputs": [],
   "source": [
    "my_res1_ext.assign_doi()"
   ]
  },
  {
   "cell_type": "markdown",
   "id": "2e2700cc-ad87-4dd8-a8ff-b17a2899fdb2",
   "metadata": {},
   "source": [
    "## Utils"
   ]
  },
  {
   "cell_type": "markdown",
   "id": "5a85793f-393f-451a-aebb-c52e36a84c7b",
   "metadata": {},
   "source": [
    "### remove RO"
   ]
  },
  {
   "cell_type": "code",
   "execution_count": null,
   "id": "c506b2ca-57fa-4eb2-bf2d-7abd00fad827",
   "metadata": {},
   "outputs": [],
   "source": [
    "forked_ro.delete()\n",
    "#ro_id_to_delete=\"55a0fbe5-fde3-40cb-9ea0-1eacd3cda8d1\"\n",
    "#rohub.ros_delete(identifier=ro_id_to_delete)"
   ]
  },
  {
   "cell_type": "markdown",
   "id": "bb06e56f-01f6-44d1-9769-526e8c80149e",
   "metadata": {},
   "source": [
    "### show user id"
   ]
  },
  {
   "cell_type": "code",
   "execution_count": null,
   "id": "b6ce0c86-3397-4a8a-9045-565024972a0f",
   "metadata": {},
   "outputs": [],
   "source": [
    "rohub.show_user_id()"
   ]
  },
  {
   "cell_type": "markdown",
   "id": "933c1985-a529-4f41-8bad-7a4be128d519",
   "metadata": {},
   "source": [
    "### show possible values for RO types, Resources types, templates, etc."
   ]
  },
  {
   "cell_type": "code",
   "execution_count": null,
   "id": "8ae655f0-1eb0-4bc0-89f1-67f83cbeb6e9",
   "metadata": {},
   "outputs": [],
   "source": [
    "rohub.list_valid_research_areas()"
   ]
  },
  {
   "cell_type": "code",
   "execution_count": null,
   "id": "44f889e7-f7a9-49cb-a36b-6d6b2f20d189",
   "metadata": {},
   "outputs": [],
   "source": [
    "rohub.list_valid_ros_types()"
   ]
  },
  {
   "cell_type": "code",
   "execution_count": null,
   "id": "9bdf7730-7047-4340-9e37-d0f39a892d22",
   "metadata": {},
   "outputs": [],
   "source": [
    "rohub.list_valid_publication_services()"
   ]
  },
  {
   "cell_type": "code",
   "execution_count": null,
   "id": "00ef17ad-dca5-478b-82e0-c2d527e2ade9",
   "metadata": {},
   "outputs": [],
   "source": [
    "rohub.list_valid_resource_types()"
   ]
  },
  {
   "cell_type": "code",
   "execution_count": null,
   "id": "d3fad5e7-c9c3-4263-9bd7-2cd76e8ff456",
   "metadata": {},
   "outputs": [],
   "source": [
    "rohub.list_valid_creation_modes()"
   ]
  },
  {
   "cell_type": "code",
   "execution_count": null,
   "id": "b5c51b78-5023-4498-8271-1857c00f4970",
   "metadata": {},
   "outputs": [],
   "source": [
    "rohub.list_valid_access_modes()"
   ]
  },
  {
   "cell_type": "code",
   "execution_count": null,
   "id": "4d093754-9bde-40bb-848e-3aa063f0c094",
   "metadata": {},
   "outputs": [],
   "source": [
    "rohub.list_custom_licenses()"
   ]
  },
  {
   "cell_type": "code",
   "execution_count": null,
   "id": "3e8f91f8-3e6d-4231-b9f9-eeff478682ed",
   "metadata": {},
   "outputs": [],
   "source": [
    "rohub.list_available_licenses()"
   ]
  },
  {
   "cell_type": "code",
   "execution_count": null,
   "id": "caff18b5-73d0-4175-89c7-d8b0f5c1c1cb",
   "metadata": {},
   "outputs": [],
   "source": [
    "rohub.show_valid_type_matching_for_ros()"
   ]
  },
  {
   "cell_type": "markdown",
   "id": "4901e031-47b7-43cc-b25e-2c29a33ce9a5",
   "metadata": {},
   "source": [
    "### create external user"
   ]
  },
  {
   "cell_type": "code",
   "execution_count": null,
   "id": "226023d0-8553-4fae-a4c7-c959b87d90fc",
   "metadata": {},
   "outputs": [],
   "source": [
    "rohub.external_user_add(user_id=\"https://orcid.org/0000-0003-3784-6651\", \n",
    "                        display_name=\"Nieves Pepito\", \n",
    "                        email=\"npepito@hotmail.com\",\n",
    "                        orcid_id=\"0000-0003-3784-6651\",\n",
    "                        affiliation=\"UNO-Recoletos\")"
   ]
  },
  {
   "cell_type": "markdown",
   "id": "3e34261f-bfc6-41c4-adf6-792c5f01dc9f",
   "metadata": {},
   "source": [
    "### create organization"
   ]
  },
  {
   "cell_type": "code",
   "execution_count": null,
   "id": "960edb4f-f779-4b4b-bf23-7b51615bf69c",
   "metadata": {},
   "outputs": [],
   "source": [
    "rohub.organization_add(organization_id=\"https://ror.org/025cj6e44\",\n",
    "                       display_name=\"Poznan Supercomputing and Networking Center\",\n",
    "                       email=\"office@man.poznan.pl\",\n",
    "                       ror_identifier=\"025cj6e44\",\n",
    "                       organization_url=\"https://www.psnc.pl/\")"
   ]
  },
  {
   "cell_type": "markdown",
   "id": "af3f8253-e2a4-49c6-a715-627667d15641",
   "metadata": {},
   "source": [
    "### load full metadata"
   ]
  },
  {
   "cell_type": "code",
   "execution_count": null,
   "id": "10e6fac8-61e0-41e4-83ac-3c458b76153a",
   "metadata": {},
   "outputs": [],
   "source": [
    "ro.load_full_metadata()"
   ]
  },
  {
   "cell_type": "code",
   "execution_count": null,
   "id": "c732d7ef-be60-487d-82d2-c0d765008f3f",
   "metadata": {},
   "outputs": [],
   "source": [
    "ro.show_full_metadata()"
   ]
  },
  {
   "cell_type": "markdown",
   "id": "1d24f7e4-e116-48b2-a5c4-69b281e6d866",
   "metadata": {},
   "source": [
    "### rohub library version"
   ]
  },
  {
   "cell_type": "code",
   "execution_count": null,
   "id": "db924366-ab4e-4271-b1cc-caebd9e80990",
   "metadata": {},
   "outputs": [],
   "source": [
    "rohub.version()"
   ]
  },
  {
   "cell_type": "markdown",
   "id": "c44ae7b0-a487-4d5f-b289-3b1ed7910759",
   "metadata": {},
   "source": [
    "### Set evolution setting"
   ]
  },
  {
   "cell_type": "code",
   "execution_count": null,
   "id": "46cdc179-a967-412f-8c32-f33b6da3f7e8",
   "metadata": {},
   "outputs": [],
   "source": [
    "#default 30\n",
    "rohub.set_retries(50)"
   ]
  },
  {
   "cell_type": "code",
   "execution_count": null,
   "id": "5fe83aca-9524-4b7f-94a0-4b80250fd61e",
   "metadata": {},
   "outputs": [],
   "source": [
    "# default 2\n",
    "rohub.set_sleep_time(5)"
   ]
  },
  {
   "cell_type": "markdown",
   "id": "1f6a3afe-b359-486e-a483-f1e199580ab1",
   "metadata": {},
   "source": [
    "### add annotation general"
   ]
  },
  {
   "cell_type": "code",
   "execution_count": null,
   "id": "2e89d38f-3780-49c2-b352-29f9767a4c03",
   "metadata": {},
   "outputs": [],
   "source": [
    "ro.add_annotations(body_specification_json=geojson_as_text_point)"
   ]
  },
  {
   "cell_type": "markdown",
   "id": "8fafd999-df7a-4ab5-be44-1fb7d459e473",
   "metadata": {},
   "source": [
    "### remove annotation"
   ]
  },
  {
   "cell_type": "code",
   "execution_count": null,
   "id": "602b43f9-941d-4e93-892f-a3c6e52ed664",
   "metadata": {},
   "outputs": [],
   "source": [
    "annot_id=\"e8589553-40de-4e49-b966-204502ce3780\"\n",
    "ro.delete_annotation(annotation_id=annot_id)"
   ]
  }
 ],
 "metadata": {
  "kernelspec": {
   "display_name": "Python 3",
   "language": "python",
   "name": "python3"
  },
  "language_info": {
   "codemirror_mode": {
    "name": "ipython",
    "version": 3
   },
   "file_extension": ".py",
   "mimetype": "text/x-python",
   "name": "python",
   "nbconvert_exporter": "python",
   "pygments_lexer": "ipython3",
   "version": "3.8.8"
  }
 },
 "nbformat": 4,
 "nbformat_minor": 5
}
