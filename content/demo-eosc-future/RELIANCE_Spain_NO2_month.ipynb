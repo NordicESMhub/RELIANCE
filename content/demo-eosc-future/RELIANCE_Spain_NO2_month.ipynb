{
 "cells": [
  {
   "cell_type": "markdown",
   "id": "suited-forty",
   "metadata": {},
   "source": [
    "<table style=\"width:100%\">\n",
    "  <tr>\n",
    "    <th><img src='https://www.reliance-project.eu/wp-content/uploads/2021/03/Asset-8mdpi.svg' alt='Layout' class=\"left\" width='65%'></img></th>\n",
    "    <th><img src='https://raw.githubusercontent.com/RELIANCE-EOSC/rohub-portal-documentation/main/images/image58.png' alt='Layout' align='center' width='65%'></img></th>\n",
    "    <th></img></p><img src='https://media-exp1.licdn.com/dms/image/C560BAQFFDze0s3l-pQ/company-logo_200_200/0?e=2159024400&v=beta&t=jG_sh9NpwE6yc2TspIcL2YUR2X7OBzTrRSu6w7sNYtc' alt='Layout' align='right' width='30%'></img></th>\n",
    "  </tr>\n",
    "</table>\n",
    "<br>\n",
    "<br>"
   ]
  },
  {
   "cell_type": "markdown",
   "id": "defensive-penguin",
   "metadata": {},
   "source": [
    "# NO2 over Spain with CAMS European air quality analysis using RELIANCE services\n",
    "\n",
    "## Analysis over a particular country and a town in the country of interest"
   ]
  },
  {
   "cell_type": "markdown",
   "id": "duplicate-coaching",
   "metadata": {},
   "source": [
    "<div class=\"alert alert-success alert-info\">\n",
    "<b>How to discover RELIANCE datacube resources (spatial & temporal search and subsetting), share resources using EGI datahub, and use RoHub to create FAIR digital Objects</b></div>"
   ]
  },
  {
   "cell_type": "markdown",
   "id": "streaming-utilization",
   "metadata": {},
   "source": [
    "This notebook shows how to discover and access the [Copernicus Atmosphere Monitoring](https://ads.atmosphere.copernicus.eu/#!/home) products available in the **RELIANCE** datacube resources, by using the functionalities provided in the <font color='blue'> **Adam API** </font>. The process is structured in 7 steps, including example of data analysis and visualization with the Python libraries installed in the Jupyter environment as well as the creation of a FAIR digital object on [RoHUB](https://reliance.rohub.org/) where all the resources used and generated in this notebook are aggregated.\n",
    "\n",
    "You can customize this Jupyter notebook, for instance by updating the content of [Data Management](#1.Data_Management) section.\n",
    "\n",
    "- [1. Data Management](#1_Data_Management)\n",
    "- [2. Authentication](#2_Authentication)\n",
    "- [3. Datasets Discovery](#3_Datasets_Discovery)\n",
    "- [4. Products Discovery](#4_Products_Discovery)\n",
    "- [5. Data Access](#5_Data_Access)\n",
    "- [6. Data Analysis and Visualizarion](#6_Data_Analysis_Visualization)\n",
    "- [7. Create Research Object and Share my work](#7_rohub)"
   ]
  },
  {
   "cell_type": "markdown",
   "id": "46e47939-5420-4275-b820-09b0eca5d5d0",
   "metadata": {},
   "source": [
    "<a id=1_Data_Management></a>\n",
    "## **Step 1: Data Management** "
   ]
  },
  {
   "cell_type": "markdown",
   "id": "c2775b64-10f3-4726-b648-f26cc5947e5c",
   "metadata": {},
   "source": [
    "### Authors \n",
    "- Make sure you first register to RoHub at [https://reliance.rohub.org/](https://reliance.rohub.org/). \n",
    "- We recommend you use your [ORCID](https://orcid.org/) identifier to login and register to EOSC services.\n",
    "- In the list of authors, add any co-authors using the email address they used when they registered in RoHub."
   ]
  },
  {
   "cell_type": "code",
   "execution_count": 1,
   "id": "27ae98cd-b52c-4299-a559-22cc56f8e838",
   "metadata": {},
   "outputs": [],
   "source": [
    "author_emails = ['annefou@geo.uio.no']\n",
    "contributor_emails = ['jeani@uio.no', 'mantovani@meeo.it']"
   ]
  },
  {
   "cell_type": "markdown",
   "id": "1fbddffc-cc3f-425a-ba76-61bdad445d33",
   "metadata": {},
   "source": [
    "### Add the University of Olso and the Nordic e-Infrastructure Collaboration as publishers "
   ]
  },
  {
   "cell_type": "code",
   "execution_count": 2,
   "id": "e8e7a032-a231-45b5-a05d-493e12eb0260",
   "metadata": {},
   "outputs": [],
   "source": [
    "UiO_organization = {\"org_id\":\"http://www.uio.no/english/\", \n",
    "                     \"display_name\": \"University of Oslo\", \n",
    "                     \"agent_type\": \"organization\",\n",
    "                     \"ror_identifier\":\"01xtthb56\",\n",
    "                     \"organization_url\": \"http://www.uio.no/english/\"}"
   ]
  },
  {
   "cell_type": "code",
   "execution_count": 3,
   "id": "62bf9523-3bf9-4348-806f-df641f29032f",
   "metadata": {},
   "outputs": [],
   "source": [
    "NeIC_organization = {\"org_id\":\"https://neic.no/\",\n",
    "                    \"display_name\": \"Nordic e-Infrastructure Collaboration\", \n",
    "                     \"agent_type\": \"organization\",\n",
    "                    \"ror_identifier\":\"04jcwf484\",\n",
    "                    \"organization_url\": \"https://neic.no/\"}"
   ]
  },
  {
   "cell_type": "code",
   "execution_count": 4,
   "id": "ce719f3a-eadf-43f1-b5fb-ea6e6116a89f",
   "metadata": {},
   "outputs": [],
   "source": [
    "list_publishers = [UiO_organization, NeIC_organization]"
   ]
  },
  {
   "cell_type": "code",
   "execution_count": 5,
   "id": "2b1f1057-e64f-4263-af61-05fc55b96d90",
   "metadata": {},
   "outputs": [],
   "source": [
    "list_copyright_holders = [UiO_organization]"
   ]
  },
  {
   "cell_type": "markdown",
   "id": "522436d4-bd1c-44d1-a9a4-d76e4620d6bf",
   "metadata": {},
   "source": [
    "### Add the funding\n",
    "- if your work is not funded set \n",
    "```\n",
    "funded_by = {}\n",
    "```"
   ]
  },
  {
   "cell_type": "code",
   "execution_count": 6,
   "id": "2c1ce214-c7ef-4ca7-a6d8-ed7d13e94e81",
   "metadata": {},
   "outputs": [],
   "source": [
    "funded_by = {\n",
    "\"grant_id\": \"101017502\",\n",
    "\"grant_Name\": \"RELIANCE\",\n",
    "\"grant_title\": \"Research Lifecycle Management for Earth Science Communities and Copernicus Users\",\n",
    "\"funder_name\": \"European Commission\",\n",
    "\"funder_doi\": \"10.13039/501100000781\",\n",
    "}"
   ]
  },
  {
   "cell_type": "markdown",
   "id": "d2c308f8-4677-4083-a7d0-e4d859668e62",
   "metadata": {},
   "source": [
    "### Choose a license for your FAIR digital object"
   ]
  },
  {
   "cell_type": "code",
   "execution_count": 7,
   "id": "d52d2be0-321d-4979-802a-8c81921ccf06",
   "metadata": {},
   "outputs": [
    {
     "name": "stdout",
     "output_type": "stream",
     "text": [
      "Requirement already satisfied: rohub in /opt/conda/envs/cams/lib/python3.9/site-packages (1.0.7)\n",
      "Requirement already satisfied: requests in /opt/conda/envs/cams/lib/python3.9/site-packages (from rohub) (2.27.1)\n",
      "Requirement already satisfied: pandas in /opt/conda/envs/cams/lib/python3.9/site-packages (from rohub) (1.4.2)\n",
      "Requirement already satisfied: python-dateutil>=2.8.1 in /opt/conda/envs/cams/lib/python3.9/site-packages (from pandas->rohub) (2.8.2)\n",
      "Requirement already satisfied: pytz>=2020.1 in /opt/conda/envs/cams/lib/python3.9/site-packages (from pandas->rohub) (2022.1)\n",
      "Requirement already satisfied: numpy>=1.18.5 in /opt/conda/envs/cams/lib/python3.9/site-packages (from pandas->rohub) (1.21.6)\n",
      "Requirement already satisfied: charset-normalizer~=2.0.0 in /opt/conda/envs/cams/lib/python3.9/site-packages (from requests->rohub) (2.0.12)\n",
      "Requirement already satisfied: idna<4,>=2.5 in /opt/conda/envs/cams/lib/python3.9/site-packages (from requests->rohub) (3.3)\n",
      "Requirement already satisfied: certifi>=2017.4.17 in /opt/conda/envs/cams/lib/python3.9/site-packages (from requests->rohub) (2021.10.8)\n",
      "Requirement already satisfied: urllib3<1.27,>=1.21.1 in /opt/conda/envs/cams/lib/python3.9/site-packages (from requests->rohub) (1.26.9)\n",
      "Requirement already satisfied: six>=1.5 in /opt/conda/envs/cams/lib/python3.9/site-packages (from python-dateutil>=2.8.1->pandas->rohub) (1.16.0)\n",
      "Note: you may need to restart the kernel to use updated packages.\n"
     ]
    }
   ],
   "source": [
    "pip install rohub"
   ]
  },
  {
   "cell_type": "code",
   "execution_count": 8,
   "id": "345038aa-f1e2-4897-bf89-1d1ab3f38462",
   "metadata": {},
   "outputs": [],
   "source": [
    "import rohub"
   ]
  },
  {
   "cell_type": "code",
   "execution_count": 9,
   "id": "a3a20bb8-4d0f-4d64-b006-7fbfe2d1ff78",
   "metadata": {
    "tags": []
   },
   "outputs": [
    {
     "data": {
      "text/plain": [
       "['0BSD', 'AAL', 'ADSL', 'AFL-1.1', 'AFL-1.2']"
      ]
     },
     "execution_count": 9,
     "metadata": {},
     "output_type": "execute_result"
    }
   ],
   "source": [
    "licenses = rohub.list_available_licenses()\n",
    "# Update line below to print more licenses\n",
    "licenses[0:5]"
   ]
  },
  {
   "cell_type": "code",
   "execution_count": 10,
   "id": "b8d1dcf9-22ac-4b9c-875e-857afd01df5a",
   "metadata": {},
   "outputs": [],
   "source": [
    "license = 'MIT'"
   ]
  },
  {
   "cell_type": "markdown",
   "id": "521673e0-e4b9-45e8-9802-197dcb6d9f66",
   "metadata": {},
   "source": [
    "### Organize my data using EGI datahub\n",
    "- Define a prefix for my project (you may need to adjust it for your own usage on your infrastructure). \n",
    "   - `input` folder where all the data used as input to my Jupyter Notebook is stored (and eventually shared)\n",
    "   - `output` folder where all the results to keep are stored\n",
    "   - `tool` folder where all the tools, including this Jupyter Notebook will be copied for sharing\n",
    "- Create all corresponding folders"
   ]
  },
  {
   "cell_type": "markdown",
   "id": "a5457c11-6238-43d2-a98a-ef0b8bfecd9a",
   "metadata": {},
   "source": [
    "### Import Python packages"
   ]
  },
  {
   "cell_type": "code",
   "execution_count": 11,
   "id": "solar-timing",
   "metadata": {},
   "outputs": [],
   "source": [
    "import os\n",
    "import warnings\n",
    "import pathlib"
   ]
  },
  {
   "cell_type": "code",
   "execution_count": 12,
   "id": "heard-terminal",
   "metadata": {},
   "outputs": [],
   "source": [
    "warnings.filterwarnings('ignore')"
   ]
  },
  {
   "cell_type": "markdown",
   "id": "47e3232f-8bb1-4f3e-a23d-9fd0e54f5fdb",
   "metadata": {},
   "source": [
    "## Initialization\n",
    "- Choose a country and add its name and country code\n",
    "- Choose the variable to analyze (PM10, PM25, NO2, O3, etc.)\n",
    "- Choose the area for your analysis"
   ]
  },
  {
   "cell_type": "markdown",
   "id": "c6303ab9-7790-4411-9483-efc6bda387ef",
   "metadata": {},
   "source": [
    "### Choose the country of interest"
   ]
  },
  {
   "cell_type": "code",
   "execution_count": 13,
   "id": "65ebd85f-819a-4208-8136-1054df5e6b9a",
   "metadata": {},
   "outputs": [],
   "source": [
    "country_code = 'ES' \n",
    "country_fullname = \"Spain\"\n",
    "town_fullname = 'Madrid' \n",
    "town_coordinates = {'latitude': 40.4168, 'longitude': 3.7038}\n",
    "variable_name = 'NO2'\n",
    "variable_unit = 'µg m-3'\n",
    "variable_long_name = 'Nitrogen Dioxide'\n",
    "month_name = 'March'\n",
    "month_number = '03'\n",
    "month_nb_days = '31'"
   ]
  },
  {
   "cell_type": "markdown",
   "id": "58dbc448-7309-4d42-be5e-c1e9896aa24c",
   "metadata": {},
   "source": [
    "### Geojson for selecting data from ADAM\n",
    "- The geometry field is extracted from a GeoJSON file, retrieving the value of the \"feature\" element.\n",
    "- To create a geojson file for the area of interest, you can use https://geojson.io/\n",
    "- Then paste the result below in the geojson variable"
   ]
  },
  {
   "cell_type": "code",
   "execution_count": 14,
   "id": "7f127d8f-2822-42df-9969-51ba87ec4c11",
   "metadata": {},
   "outputs": [],
   "source": [
    "geojson = \"\"\"{\"type\": \"FeatureCollection\",\"features\": [{\"type\": \"Feature\",\"properties\": {},\"geometry\": {\"type\": \"Polygon\",\"coordinates\": [[[3.05419921875,42.601619944327965],[-1.69189453125,43.46886761482925],[-8.10791015625,43.866218006556394],[-9.60205078125,43.03677585761058],[-9.11865234375,42.24478535602799],[-9.03076171875,40.245991504199026],[-9.580078125,39.07890809706475],[-9.73388671875,38.70265930723801],[-9.25048828125,38.30718056188316],[-8.942871093749998,38.25543637637947],[-9.052734375,37.142803443716836],[-9.29443359375,36.79169061907076],[-8.10791015625,36.89719446989036],[-7.778320312499999,36.79169061907076],[-7.27294921875,37.07271048132943],[-6.78955078125,36.86204269508728],[-6.17431640625,36.06686213257888],[-5.69091796875,35.90684930677121],[-5.09765625,36.08462129606931],[-4.74609375,36.33282808737917],[-4.10888671875,36.59788913307022],[-3.09814453125,36.54494944148322],[-2.43896484375,36.56260003738545],[-2.04345703125,36.63316209558658],[-1.69189453125,37.16031654673677],[-1.34033203125,37.43997405227057],[-0.439453125,37.49229399862877],[-0.59326171875,37.75334401310656],[-0.37353515625,38.272688535980976],[0.263671875,38.59970036588819],[0.3955078125,38.839707613545144],[0.06591796875,38.94232097947902],[-0.17578125,39.2832938689385],[-0.19775390625,39.58875727696545],[0.24169921874999997,39.977120098439634],[0.68115234375,40.463666324587685],[1.07666015625,40.83043687764923],[1.58203125,41.062786068733026],[2.2412109375,41.178653972331674],[2.83447265625,41.541477666790286],[3.33984375,41.73852846935917],[3.3618164062499996,42.13082130188811],[3.05419921875,42.601619944327965]]]}}]}\"\"\""
   ]
  },
  {
   "cell_type": "markdown",
   "id": "27155406-3f0b-4302-8122-79889725a110",
   "metadata": {},
   "source": [
    "### Create folders"
   ]
  },
  {
   "cell_type": "code",
   "execution_count": 15,
   "id": "7e282cc7-748c-4785-af96-1aeed4d334de",
   "metadata": {
    "tags": []
   },
   "outputs": [
    {
     "name": "stdout",
     "output_type": "stream",
     "text": [
      "WORKDIR FOLDER:  /home/jovyan/datahub/Reliance/Climate_ES_NO2_March\n"
     ]
    }
   ],
   "source": [
    "WORKDIR_FOLDER = os.path.join(os.environ['HOME'], \"datahub/Reliance/Climate\" + '_' + country_code + '_' + variable_name + '_' + month_name)\n",
    "print(\"WORKDIR FOLDER: \", WORKDIR_FOLDER)"
   ]
  },
  {
   "cell_type": "code",
   "execution_count": 16,
   "id": "f1a03583-8a6a-4c36-939b-f0ab479dd673",
   "metadata": {},
   "outputs": [],
   "source": [
    "INPUT_DATA_DIR = os.path.join(WORKDIR_FOLDER, 'input')\n",
    "OUTPUT_DATA_DIR = os.path.join(WORKDIR_FOLDER, 'output')\n",
    "TOOL_DATA_DIR = os.path.join(WORKDIR_FOLDER, 'tool')\n",
    "\n",
    "list_folders = [INPUT_DATA_DIR, OUTPUT_DATA_DIR, TOOL_DATA_DIR]\n",
    "\n",
    "for folder in list_folders:\n",
    "    pathlib.Path(folder).mkdir(parents=True, exist_ok=True)"
   ]
  },
  {
   "cell_type": "markdown",
   "id": "18f4f0e0-27f4-4b94-af4d-31c9cd579c12",
   "metadata": {},
   "source": [
    "### Geojson file for selecting data from ADAM\n",
    "- We dissolve geojson in case we have more than one polygon and then save the results into a geojson file"
   ]
  },
  {
   "cell_type": "code",
   "execution_count": 17,
   "id": "c3fe35e9-8160-434d-8a51-2fc09f251756",
   "metadata": {},
   "outputs": [
    {
     "name": "stderr",
     "output_type": "stream",
     "text": [
      "ERROR 1: PROJ: proj_create_from_database: Open of /opt/conda/envs/cams/share/proj failed\n"
     ]
    }
   ],
   "source": [
    "import cartopy\n",
    "import geopandas as gpd"
   ]
  },
  {
   "cell_type": "code",
   "execution_count": 18,
   "id": "a6b74f45-b70b-4a4c-b5d6-88ea7cfc7f24",
   "metadata": {},
   "outputs": [
    {
     "data": {
      "text/plain": [
       "'/home/jovyan/datahub/Reliance/Climate_ES_NO2_March/input/es.geo.json'"
      ]
     },
     "execution_count": 18,
     "metadata": {},
     "output_type": "execute_result"
    }
   ],
   "source": [
    "local_path_geom = os.path.join(INPUT_DATA_DIR, country_code.lower() + '.geo.json')\n",
    "local_path_geom"
   ]
  },
  {
   "cell_type": "code",
   "execution_count": 19,
   "id": "f81c3ab7-cc6f-4b06-9594-b50b28371887",
   "metadata": {},
   "outputs": [],
   "source": [
    "if (pathlib.Path(local_path_geom).exists()):\n",
    "    os.remove(local_path_geom)\n",
    "f = open(local_path_geom, \"w\")\n",
    "f.write(geojson)\n",
    "f.close()"
   ]
  },
  {
   "cell_type": "code",
   "execution_count": 20,
   "id": "245ceacb-ab07-46a4-90f6-03e4c9a5a958",
   "metadata": {
    "tags": []
   },
   "outputs": [],
   "source": [
    "data = gpd.read_file(local_path_geom)"
   ]
  },
  {
   "cell_type": "code",
   "execution_count": 21,
   "id": "91d2b98d-6873-4b3a-8cd4-7a5ad7540813",
   "metadata": {},
   "outputs": [],
   "source": [
    "single_shape = data.dissolve()"
   ]
  },
  {
   "cell_type": "markdown",
   "id": "6e13dc84-8fe6-4b36-a45f-eabe28dd2d90",
   "metadata": {},
   "source": [
    "### Show area of interest"
   ]
  },
  {
   "cell_type": "code",
   "execution_count": 22,
   "id": "7f1ca9e4-99cf-4fa4-9f99-af28b7e68a91",
   "metadata": {},
   "outputs": [
    {
     "data": {
      "text/plain": [
       "<AxesSubplot:>"
      ]
     },
     "execution_count": 22,
     "metadata": {},
     "output_type": "execute_result"
    },
    {
     "data": {
      "image/png": "[encoded data removed]",
      "text/plain": [
       "<Figure size 432x288 with 1 Axes>"
      ]
     },
     "metadata": {
      "needs_background": "light"
     },
     "output_type": "display_data"
    }
   ],
   "source": [
    "single_shape.plot()"
   ]
  },
  {
   "cell_type": "code",
   "execution_count": 23,
   "id": "4957dfeb-eac2-47ab-b821-bab70df6b54d",
   "metadata": {},
   "outputs": [],
   "source": [
    "if (pathlib.Path(local_path_geom).exists()):\n",
    "    os.remove(local_path_geom)"
   ]
  },
  {
   "cell_type": "code",
   "execution_count": 24,
   "id": "98fa511a-9253-450b-b608-784b7bdb341e",
   "metadata": {},
   "outputs": [],
   "source": [
    "single_shape.to_file(local_path_geom, driver='GeoJSON')"
   ]
  },
  {
   "cell_type": "markdown",
   "id": "functional-trade",
   "metadata": {},
   "source": [
    "## <a id=2_Authentication></a> **Step 2: Authentication** "
   ]
  },
  {
   "cell_type": "markdown",
   "id": "interesting-modification",
   "metadata": {},
   "source": [
    "The following lines of code will show the personal **Adam API-Key** of the user and the endpoint currently in use, that provides access to the products in the related catalogue. At the end of the execution, if the authentication process is successfull the personal token and the expiration time should be returned as outputs."
   ]
  },
  {
   "cell_type": "code",
   "execution_count": 25,
   "id": "split-nutrition",
   "metadata": {},
   "outputs": [
    {
     "name": "stdout",
     "output_type": "stream",
     "text": [
      "Requirement already satisfied: adamapi in /opt/conda/envs/cams/lib/python3.9/site-packages (2.0.11)\n",
      "Requirement already satisfied: requests>=2.22.0 in /opt/conda/envs/cams/lib/python3.9/site-packages (from adamapi) (2.27.1)\n",
      "Requirement already satisfied: imageio in /opt/conda/envs/cams/lib/python3.9/site-packages (from adamapi) (2.18.0)\n",
      "Requirement already satisfied: urllib3<1.27,>=1.21.1 in /opt/conda/envs/cams/lib/python3.9/site-packages (from requests>=2.22.0->adamapi) (1.26.9)\n",
      "Requirement already satisfied: idna<4,>=2.5 in /opt/conda/envs/cams/lib/python3.9/site-packages (from requests>=2.22.0->adamapi) (3.3)\n",
      "Requirement already satisfied: certifi>=2017.4.17 in /opt/conda/envs/cams/lib/python3.9/site-packages (from requests>=2.22.0->adamapi) (2021.10.8)\n",
      "Requirement already satisfied: charset-normalizer~=2.0.0 in /opt/conda/envs/cams/lib/python3.9/site-packages (from requests>=2.22.0->adamapi) (2.0.12)\n",
      "Requirement already satisfied: pillow>=8.3.2 in /opt/conda/envs/cams/lib/python3.9/site-packages (from imageio->adamapi) (9.1.0)\n",
      "Requirement already satisfied: numpy in /opt/conda/envs/cams/lib/python3.9/site-packages (from imageio->adamapi) (1.21.6)\n",
      "Note: you may need to restart the kernel to use updated packages.\n"
     ]
    }
   ],
   "source": [
    "pip install adamapi"
   ]
  },
  {
   "cell_type": "code",
   "execution_count": 26,
   "id": "740cf688-4717-4bc5-ab4a-7287496d33ea",
   "metadata": {},
   "outputs": [],
   "source": [
    "adam_key = open(os.path.join(os.environ['HOME'],\"adam-key\")).read().rstrip()"
   ]
  },
  {
   "cell_type": "code",
   "execution_count": 27,
   "id": "norwegian-evans",
   "metadata": {},
   "outputs": [
    {
     "data": {
      "text/plain": [
       "{'expires_at': '2022-05-01T21:13:33.370Z',\n",
       " 'access_token': '059132032d614608a8ab13916d25548e',\n",
       " 'refresh_token': '02ec2cfced264681a1465de6c7bfd59d',\n",
       " 'expires_in': 3600}"
      ]
     },
     "execution_count": 27,
     "metadata": {},
     "output_type": "execute_result"
    }
   ],
   "source": [
    "import adamapi as adam\n",
    "a = adam.Auth()\n",
    "\n",
    "a.setKey(adam_key)\n",
    "a.setAdamCore('https://reliance.adamplatform.eu')\n",
    "a.authorize() "
   ]
  },
  {
   "cell_type": "markdown",
   "id": "mathematical-writing",
   "metadata": {
    "jupyter": {
     "outputs_hidden": true
    },
    "tags": []
   },
   "source": [
    "## <a id=3_Datasets_Discovery></a> **Step 3: Datasets Discovery**"
   ]
  },
  {
   "cell_type": "markdown",
   "id": "adult-warning",
   "metadata": {},
   "source": [
    "After authorization, the user can browse the whole catalogue, structured as a JSON object after a pagination process,  displaying all the available datasets. This operation can be executed with the <font color='blue'> **getDatasets()** </font> function without including any argument. Some lines of code should be added to parse the Json object and extract the names of the datasets.The Json object can be handled as a Python dictionary."
   ]
  },
  {
   "cell_type": "markdown",
   "id": "premier-thomas",
   "metadata": {},
   "source": [
    "### Pre-filter datasets\n",
    "\n",
    "We will discover all the available datasets in the ADAM platform but will only print elements of interest **EU_CAMS** e.g. [European air quality datasets](https://ads.atmosphere.copernicus.eu/cdsapp#!/dataset/cams-europe-air-quality-forecasts?tab=overview) from Copernicus Atmosphere Monitoring Service"
   ]
  },
  {
   "cell_type": "code",
   "execution_count": 28,
   "id": "controlled-soccer",
   "metadata": {},
   "outputs": [],
   "source": [
    "def list_datasets(a, search=\"\", dataset_name=\"\"):\n",
    "    datasets = adam.Datasets(a)\n",
    "    catalogue = datasets.getDatasets()\n",
    "    datasetID = None\n",
    "\n",
    "# Extracting the size of the catalogue\n",
    "\n",
    "    total = catalogue['properties']['totalResults']\n",
    "    items = catalogue['properties']['itemsPerPage']\n",
    "    pages = total // items\n",
    "    \n",
    "    print('\\033[1;34m')\n",
    "    print('----------------------------------------------------------------------')\n",
    "    print( 'List of available datasets:')\n",
    "    print ('\\033[0;0m')\n",
    "\n",
    "# Extracting the list of datasets across the whole catalogue\n",
    "\n",
    "    for i in range(0, pages):\n",
    "        page = datasets.getDatasets(page=i)\n",
    "        for element in page['content']:\n",
    "            if search == \"\" or search in element['title']:\n",
    "                print(element['title'] + \" --> datasetId = \" + element['datasetId'])\n",
    "                if element['datasetId'].split(':')[1] == dataset_name:\n",
    "                    datasetID = element['datasetId']\n",
    "    return datasets, datasetID"
   ]
  },
  {
   "cell_type": "code",
   "execution_count": 29,
   "id": "3ddaa981-bb77-4a8a-a610-fedd54d1e288",
   "metadata": {
    "tags": []
   },
   "outputs": [
    {
     "name": "stdout",
     "output_type": "stream",
     "text": [
      "\u001b[1;34m\n",
      "----------------------------------------------------------------------\n",
      "List of available datasets:\n",
      "\u001b[0;0m\n",
      "CAMS European air quality forecasts: C2H3NO5 --> datasetId = 69619:EU_CAMS_SURFACE_C2H3NO5_G\n",
      "CAMS European air quality forecasts: CO --> datasetId = 69620:EU_CAMS_SURFACE_CO_G\n",
      "EU_CAMS_SURFACE_NH3_G --> datasetId = 69621:EU_CAMS_SURFACE_NH3_G\n",
      "CAMS European air quality forecasts: NMVOC --> datasetId = 69622:EU_CAMS_SURFACE_NMVOC_G\n",
      "CAMS European air quality forecasts: NO2 --> datasetId = 69623:EU_CAMS_SURFACE_NO2_G\n",
      "EU_CAMS_SURFACE_NO_G --> datasetId = 69624:EU_CAMS_SURFACE_NO_G\n",
      "CAMS European air quality forecasts: O3 --> datasetId = 69625:EU_CAMS_SURFACE_O3_G\n",
      "CAMS European air quality forecasts: PM10 --> datasetId = 69626:EU_CAMS_SURFACE_PM10_G\n",
      "CAMS European air quality forecasts: PM25 --> datasetId = 69627:EU_CAMS_SURFACE_PM25_G\n",
      "CAMS European air quality forecasts: REC --> datasetId = 69628:EU_CAMS_SURFACE_REC_G\n",
      "CAMS European air quality forecasts: SIA --> datasetId = 69629:EU_CAMS_SURFACE_SIA_G\n",
      "CAMS European air quality forecasts: SO2 --> datasetId = 69630:EU_CAMS_SURFACE_SO2_G\n",
      "CAMS European air quality forecasts: TEC --> datasetId = 69631:EU_CAMS_SURFACE_TEC_G\n"
     ]
    }
   ],
   "source": [
    "datasets, datasetID = list_datasets(a, search=\"CAMS\", dataset_name = 'EU_CAMS_SURFACE_' + variable_name + '_G')"
   ]
  },
  {
   "cell_type": "markdown",
   "id": "complimentary-daily",
   "metadata": {},
   "source": [
    "We are interested by one variable only so we will discover the corresponding dataset and print its metadata, showing the data provenance."
   ]
  },
  {
   "cell_type": "code",
   "execution_count": 30,
   "id": "7239ace3-3409-4f76-a147-523aab9bd361",
   "metadata": {},
   "outputs": [],
   "source": [
    "def get_metadata(datasetID, datasets, verbose=False):\n",
    "    print('\\033[1;34m' + 'Metadata of ' + datasetID + ':')\n",
    "    print ('\\033[0;0m')\n",
    "    \n",
    "    paged = datasets.getDatasets(datasetID)\n",
    "    for i in paged.items():\n",
    "        print(\"\\033[1m\" +  str(i[0]) + \"\\033[0m\" + ': ' + str(i[1]))\n",
    "    return paged"
   ]
  },
  {
   "cell_type": "code",
   "execution_count": 31,
   "id": "d2eca1f9-4f01-4056-9d59-5568e4023223",
   "metadata": {
    "tags": []
   },
   "outputs": [
    {
     "name": "stdout",
     "output_type": "stream",
     "text": [
      "\u001b[1;34mMetadata of 69623:EU_CAMS_SURFACE_NO2_G:\n",
      "\u001b[0;0m\n",
      "\u001b[1mdatasetId\u001b[0m: 69623:EU_CAMS_SURFACE_NO2_G\n",
      "\u001b[1mcreationDate\u001b[0m: 2021-07-12T00:00:00Z\n",
      "\u001b[1mdataType\u001b[0m: Float32\n",
      "\u001b[1mepsg\u001b[0m: 4326\n",
      "\u001b[1mkeywords\u001b[0m: []\n",
      "\u001b[1mlicense\u001b[0m: {'documentationUrl': '', 'dataProviderName': 'ADS', 'dataProviderUrl': '', 'licenseId': '', 'dataPolicy': '', 'doi': '', 'credits': ''}\n",
      "\u001b[1mmaxValue\u001b[0m: [1.354510459350422e-07]\n",
      "\u001b[1mminValue\u001b[0m: [0.0]\n",
      "\u001b[1mnumberOfRecords\u001b[0m: 132998\n",
      "\u001b[1mprofile\u001b[0m: {'profileSchema': 'eo_profile_schema.json', 'name': 'Earth Observation', 'mission': 'CAMS', 'sensor': 'CAMS', 'processingLevel': 'forecast', 'instrument': '', 'platform': ''}\n",
      "\u001b[1mresolutionUnit\u001b[0m: degree\n",
      "\u001b[1mtemporalResolution\u001b[0m: Hourly\n",
      "\u001b[1munit\u001b[0m: \n",
      "\u001b[1munitDescription\u001b[0m: \n",
      "\u001b[1mupdateDate\u001b[0m: 2022-05-01T12:03:32Z\n",
      "\u001b[1mgeometry\u001b[0m: {'type': 'Polygon', 'coordinates': [[[-25.000012, 29.999997], [44.999988, 29.999997], [44.999988, 71.999997], [-25.000012, 71.999997], [-25.000012, 29.999997]]]}\n",
      "\u001b[1mresolutions\u001b[0m: [0.1]\n",
      "\u001b[1manyText\u001b[0m: 4326,ESA,Daily,ESA\n",
      "\u001b[1mapplications\u001b[0m: ['Atmosphere']\n",
      "\u001b[1mdatasetManager\u001b[0m: govoni@meeo.it\n",
      "\u001b[1mdatasetManagerOrganisation\u001b[0m: meeo\n",
      "\u001b[1mdescription\u001b[0m: CAMS NITROGEN DIOXIDE\n",
      "\u001b[1mtitle\u001b[0m: CAMS European air quality forecasts: NO2\n",
      "\u001b[1mnoDataValue\u001b[0m: 0\n",
      "\u001b[1mtimeReferenceSystem\u001b[0m: UTC\n",
      "\u001b[1munits\u001b[0m: µg m-3\n",
      "\u001b[1munitsDescription\u001b[0m: nitrogen dioxide\n",
      "\u001b[1mservices\u001b[0m: ['MWCS', 'ADAM', 'AdamApi']\n",
      "\u001b[1mtechnicalManager\u001b[0m: govoni@meeo.it\n",
      "\u001b[1mfiltersEnabled\u001b[0m: {'type': 'object', 'title': 'Dataset filters', 'properties': {'startDate': {'title': 'Start Date', 'type': 'string', 'format': 'date', 'text_rule': 'false', 'ops_only': 'false', 'math_rule': 'false', 'order_rule': 'false', 'pattern': '^d{4}-[01]d-[0-3]d(T[0-2]d:[0-9]d:[0-9]dZ)?$'}, 'endDate': {'title': 'End Date', 'type': 'string', 'format': 'date', 'ops_only': 'false', 'text_rule': 'false', 'math_rule': 'false', 'order_rule': 'false', 'pattern': '^d{4}-[01]d-[0-3]d(T[0-2]d:[0-9]d:[0-9]dZ)?$'}}}\n",
      "\u001b[1mpreviews\u001b[0m: \n",
      "\u001b[1mstarDate\u001b[0m: 2018-07-12T00:00:00Z\n",
      "\u001b[1mendDate\u001b[0m: 2022-04-30T23:00:00Z\n",
      "\u001b[1maccounting\u001b[0m: {'unit': 0.0032}\n"
     ]
    }
   ],
   "source": [
    "metadata_variable = get_metadata(datasetID, datasets, verbose=True)"
   ]
  },
  {
   "cell_type": "markdown",
   "id": "electronic-special",
   "metadata": {},
   "source": [
    "## <a id=4_Products_Discovery></a> **Step 4: Products Discovery**"
   ]
  },
  {
   "cell_type": "markdown",
   "id": "ahead-terminal",
   "metadata": {},
   "source": [
    "The products discovery operation related to a specific dataset is implemented in the Adam API with the <font color='blue'> **getProducts()** </font> function. A combined **spatial and temporal search** can be requested by specifying the <font color='red'> **datasetId** </font> for the selected dataset, the <font color='red'> **geometry** </font> argument that specifies the <u>Area Of Interest</u>, and a temporal range defined by `startDate` and `endDate` . The geometry must **<u>always</u>** be defined by a <font color='red'> **GeoJson object** </font> that describes the polygon in the **<u>counterclockwise winding order**</u>. The optional arguments `startIndex` and `maxRecords` can set the list of the results returned as an output. The results of the search are displayed with their metadata and they are sorted starting from the most recent product."
   ]
  },
  {
   "cell_type": "markdown",
   "id": "twelve-president",
   "metadata": {},
   "source": [
    "### Search data"
   ]
  },
  {
   "cell_type": "code",
   "execution_count": 32,
   "id": "hydraulic-opening",
   "metadata": {},
   "outputs": [
    {
     "name": "stdout",
     "output_type": "stream",
     "text": [
      "Requirement already satisfied: geojson_rewind in /opt/conda/envs/cams/lib/python3.9/site-packages (1.0.2)\n",
      "Note: you may need to restart the kernel to use updated packages.\n"
     ]
    }
   ],
   "source": [
    "pip install geojson_rewind"
   ]
  },
  {
   "cell_type": "code",
   "execution_count": 33,
   "id": "capable-ministry",
   "metadata": {},
   "outputs": [],
   "source": [
    "from geojson_rewind import rewind\n",
    "import json"
   ]
  },
  {
   "cell_type": "markdown",
   "id": "higher-burns",
   "metadata": {},
   "source": [
    "The GeoJson object needs to be rearranged according to the counterclockwise winding order. This operation is executed in the next few lines to obtain \n",
    "a geometry that meets the requirements of the method. **Geom_1** is the final result to be used in the discovery operation."
   ]
  },
  {
   "cell_type": "code",
   "execution_count": 34,
   "id": "offensive-rochester",
   "metadata": {},
   "outputs": [],
   "source": [
    "with open(local_path_geom) as f:\n",
    "    geom_dict = json.load(f)\n",
    "output = rewind(geom_dict)    \n",
    "geom_1 = str(geom_dict['features'][0]['geometry'])"
   ]
  },
  {
   "cell_type": "markdown",
   "id": "pretty-shark",
   "metadata": {},
   "source": [
    "Copernicus air quality analyses are hourly product but when we select a given date, we will only get the first 10 products. \n",
    "Below, we make a list of the first 10 available products for the 1st day of the studied month in 2020 e.g. we restrict our search to this date."
   ]
  },
  {
   "cell_type": "code",
   "execution_count": 35,
   "id": "expensive-subsection",
   "metadata": {},
   "outputs": [],
   "source": [
    "start_date = '2019-' + month_number + '-01'\n",
    "end_date = start_date"
   ]
  },
  {
   "cell_type": "code",
   "execution_count": 36,
   "id": "functioning-gibraltar",
   "metadata": {
    "tags": []
   },
   "outputs": [
    {
     "name": "stdout",
     "output_type": "stream",
     "text": [
      "\u001b[1;34mList of available products (maximum 10 products printed):\n",
      "\u001b[0;0m\n",
      "\u001b[1;31;1m#1\n",
      "\u001b[0m\n",
      "_id: {'$oid': '60efc38a6dfebc080600e73b'}\n",
      "datasetId: EU_CAMS_SURFACE_NO2_G\n",
      "productDate: 2019-03-01T23:00:00Z\n",
      "productId: EU_CAMS_SURFACE_NO2_G_20190301230000.tif\n",
      "geometry: {'geometries': [{'type': 'Polygon', 'coordinates': [[[-25.000012, 29.999997], [44.999988, 29.999997], [44.999988, 69.999997], [-25.000012, 69.999997], [-25.000012, 29.999997]]]}], 'type': 'GeometryCollection'}\n",
      "insertDate: 2021-07-15T05:11:38Z\n",
      "status: Online\n",
      "productLink: {'tiff': 'https://reliance-das.adamplatform.eu/wcs?service=WCS&version=2.0.0&request=GetCoverage&format=image/tiff&coverageId=EU_CAMS_SURFACE_NO2_G&_id=60efc38a6dfebc080600e73b', 'png': 'https://reliance-das.adamplatform.eu/wcs?service=WCS&version=2.0.0&request=GetCoverage&format=image/png&coverageId=EU_CAMS_SURFACE_NO2_G&_id=60efc38a6dfebc080600e73b'}\n",
      "------------------------------------\n",
      "\u001b[1;31;1m#2\n",
      "\u001b[0m\n",
      "_id: {'$oid': '60efc38a6dfebc080600e735'}\n",
      "datasetId: EU_CAMS_SURFACE_NO2_G\n",
      "productDate: 2019-03-01T22:00:00Z\n",
      "productId: EU_CAMS_SURFACE_NO2_G_20190301220000.tif\n",
      "geometry: {'geometries': [{'type': 'Polygon', 'coordinates': [[[-25.000012, 29.999997], [44.999988, 29.999997], [44.999988, 69.999997], [-25.000012, 69.999997], [-25.000012, 29.999997]]]}], 'type': 'GeometryCollection'}\n",
      "insertDate: 2021-07-15T05:11:38Z\n",
      "status: Online\n",
      "productLink: {'tiff': 'https://reliance-das.adamplatform.eu/wcs?service=WCS&version=2.0.0&request=GetCoverage&format=image/tiff&coverageId=EU_CAMS_SURFACE_NO2_G&_id=60efc38a6dfebc080600e735', 'png': 'https://reliance-das.adamplatform.eu/wcs?service=WCS&version=2.0.0&request=GetCoverage&format=image/png&coverageId=EU_CAMS_SURFACE_NO2_G&_id=60efc38a6dfebc080600e735'}\n",
      "------------------------------------\n",
      "\u001b[1;31;1m#3\n",
      "\u001b[0m\n",
      "_id: {'$oid': '60efc38a6dfebc080600e738'}\n",
      "datasetId: EU_CAMS_SURFACE_NO2_G\n",
      "productDate: 2019-03-01T21:00:00Z\n",
      "productId: EU_CAMS_SURFACE_NO2_G_20190301210000.tif\n",
      "geometry: {'geometries': [{'type': 'Polygon', 'coordinates': [[[-25.000012, 29.999997], [44.999988, 29.999997], [44.999988, 69.999997], [-25.000012, 69.999997], [-25.000012, 29.999997]]]}], 'type': 'GeometryCollection'}\n",
      "insertDate: 2021-07-15T05:11:38Z\n",
      "status: Online\n",
      "productLink: {'tiff': 'https://reliance-das.adamplatform.eu/wcs?service=WCS&version=2.0.0&request=GetCoverage&format=image/tiff&coverageId=EU_CAMS_SURFACE_NO2_G&_id=60efc38a6dfebc080600e738', 'png': 'https://reliance-das.adamplatform.eu/wcs?service=WCS&version=2.0.0&request=GetCoverage&format=image/png&coverageId=EU_CAMS_SURFACE_NO2_G&_id=60efc38a6dfebc080600e738'}\n",
      "------------------------------------\n",
      "\u001b[1;31;1m#4\n",
      "\u001b[0m\n",
      "_id: {'$oid': '60efc38a6dfebc080600e732'}\n",
      "datasetId: EU_CAMS_SURFACE_NO2_G\n",
      "productDate: 2019-03-01T20:00:00Z\n",
      "productId: EU_CAMS_SURFACE_NO2_G_20190301200000.tif\n",
      "geometry: {'geometries': [{'type': 'Polygon', 'coordinates': [[[-25.000012, 29.999997], [44.999988, 29.999997], [44.999988, 69.999997], [-25.000012, 69.999997], [-25.000012, 29.999997]]]}], 'type': 'GeometryCollection'}\n",
      "insertDate: 2021-07-15T05:11:38Z\n",
      "status: Online\n",
      "productLink: {'tiff': 'https://reliance-das.adamplatform.eu/wcs?service=WCS&version=2.0.0&request=GetCoverage&format=image/tiff&coverageId=EU_CAMS_SURFACE_NO2_G&_id=60efc38a6dfebc080600e732', 'png': 'https://reliance-das.adamplatform.eu/wcs?service=WCS&version=2.0.0&request=GetCoverage&format=image/png&coverageId=EU_CAMS_SURFACE_NO2_G&_id=60efc38a6dfebc080600e732'}\n",
      "------------------------------------\n",
      "\u001b[1;31;1m#5\n",
      "\u001b[0m\n",
      "_id: {'$oid': '60efc38a6dfebc080600e72a'}\n",
      "datasetId: EU_CAMS_SURFACE_NO2_G\n",
      "productDate: 2019-03-01T19:00:00Z\n",
      "productId: EU_CAMS_SURFACE_NO2_G_20190301190000.tif\n",
      "geometry: {'geometries': [{'type': 'Polygon', 'coordinates': [[[-25.000012, 29.999997], [44.999988, 29.999997], [44.999988, 69.999997], [-25.000012, 69.999997], [-25.000012, 29.999997]]]}], 'type': 'GeometryCollection'}\n",
      "insertDate: 2021-07-15T05:11:38Z\n",
      "status: Online\n",
      "productLink: {'tiff': 'https://reliance-das.adamplatform.eu/wcs?service=WCS&version=2.0.0&request=GetCoverage&format=image/tiff&coverageId=EU_CAMS_SURFACE_NO2_G&_id=60efc38a6dfebc080600e72a', 'png': 'https://reliance-das.adamplatform.eu/wcs?service=WCS&version=2.0.0&request=GetCoverage&format=image/png&coverageId=EU_CAMS_SURFACE_NO2_G&_id=60efc38a6dfebc080600e72a'}\n",
      "------------------------------------\n",
      "\u001b[1;31;1m#6\n",
      "\u001b[0m\n",
      "_id: {'$oid': '60efc38a6dfebc080600e72e'}\n",
      "datasetId: EU_CAMS_SURFACE_NO2_G\n",
      "productDate: 2019-03-01T18:00:00Z\n",
      "productId: EU_CAMS_SURFACE_NO2_G_20190301180000.tif\n",
      "geometry: {'geometries': [{'type': 'Polygon', 'coordinates': [[[-25.000012, 29.999997], [44.999988, 29.999997], [44.999988, 69.999997], [-25.000012, 69.999997], [-25.000012, 29.999997]]]}], 'type': 'GeometryCollection'}\n",
      "insertDate: 2021-07-15T05:11:38Z\n",
      "status: Online\n",
      "productLink: {'tiff': 'https://reliance-das.adamplatform.eu/wcs?service=WCS&version=2.0.0&request=GetCoverage&format=image/tiff&coverageId=EU_CAMS_SURFACE_NO2_G&_id=60efc38a6dfebc080600e72e', 'png': 'https://reliance-das.adamplatform.eu/wcs?service=WCS&version=2.0.0&request=GetCoverage&format=image/png&coverageId=EU_CAMS_SURFACE_NO2_G&_id=60efc38a6dfebc080600e72e'}\n",
      "------------------------------------\n",
      "\u001b[1;31;1m#7\n",
      "\u001b[0m\n",
      "_id: {'$oid': '60efc38a6dfebc080600e722'}\n",
      "datasetId: EU_CAMS_SURFACE_NO2_G\n",
      "productDate: 2019-03-01T17:00:00Z\n",
      "productId: EU_CAMS_SURFACE_NO2_G_20190301170000.tif\n",
      "geometry: {'geometries': [{'type': 'Polygon', 'coordinates': [[[-25.000012, 29.999997], [44.999988, 29.999997], [44.999988, 69.999997], [-25.000012, 69.999997], [-25.000012, 29.999997]]]}], 'type': 'GeometryCollection'}\n",
      "insertDate: 2021-07-15T05:11:37Z\n",
      "status: Online\n",
      "productLink: {'tiff': 'https://reliance-das.adamplatform.eu/wcs?service=WCS&version=2.0.0&request=GetCoverage&format=image/tiff&coverageId=EU_CAMS_SURFACE_NO2_G&_id=60efc38a6dfebc080600e722', 'png': 'https://reliance-das.adamplatform.eu/wcs?service=WCS&version=2.0.0&request=GetCoverage&format=image/png&coverageId=EU_CAMS_SURFACE_NO2_G&_id=60efc38a6dfebc080600e722'}\n",
      "------------------------------------\n",
      "\u001b[1;31;1m#8\n",
      "\u001b[0m\n",
      "_id: {'$oid': '60efc38a6dfebc080600e724'}\n",
      "datasetId: EU_CAMS_SURFACE_NO2_G\n",
      "productDate: 2019-03-01T16:00:00Z\n",
      "productId: EU_CAMS_SURFACE_NO2_G_20190301160000.tif\n",
      "geometry: {'geometries': [{'type': 'Polygon', 'coordinates': [[[-25.000012, 29.999997], [44.999988, 29.999997], [44.999988, 69.999997], [-25.000012, 69.999997], [-25.000012, 29.999997]]]}], 'type': 'GeometryCollection'}\n",
      "insertDate: 2021-07-15T05:11:37Z\n",
      "status: Online\n",
      "productLink: {'tiff': 'https://reliance-das.adamplatform.eu/wcs?service=WCS&version=2.0.0&request=GetCoverage&format=image/tiff&coverageId=EU_CAMS_SURFACE_NO2_G&_id=60efc38a6dfebc080600e724', 'png': 'https://reliance-das.adamplatform.eu/wcs?service=WCS&version=2.0.0&request=GetCoverage&format=image/png&coverageId=EU_CAMS_SURFACE_NO2_G&_id=60efc38a6dfebc080600e724'}\n",
      "------------------------------------\n",
      "\u001b[1;31;1m#9\n",
      "\u001b[0m\n",
      "_id: {'$oid': '60efc3896dfebc080600e71e'}\n",
      "datasetId: EU_CAMS_SURFACE_NO2_G\n",
      "productDate: 2019-03-01T15:00:00Z\n",
      "productId: EU_CAMS_SURFACE_NO2_G_20190301150000.tif\n",
      "geometry: {'geometries': [{'type': 'Polygon', 'coordinates': [[[-25.000012, 29.999997], [44.999988, 29.999997], [44.999988, 69.999997], [-25.000012, 69.999997], [-25.000012, 29.999997]]]}], 'type': 'GeometryCollection'}\n",
      "insertDate: 2021-07-15T05:11:37Z\n",
      "status: Online\n",
      "productLink: {'tiff': 'https://reliance-das.adamplatform.eu/wcs?service=WCS&version=2.0.0&request=GetCoverage&format=image/tiff&coverageId=EU_CAMS_SURFACE_NO2_G&_id=60efc3896dfebc080600e71e', 'png': 'https://reliance-das.adamplatform.eu/wcs?service=WCS&version=2.0.0&request=GetCoverage&format=image/png&coverageId=EU_CAMS_SURFACE_NO2_G&_id=60efc3896dfebc080600e71e'}\n",
      "------------------------------------\n",
      "\u001b[1;31;1m#10\n",
      "\u001b[0m\n",
      "_id: {'$oid': '60efc3896dfebc080600e71a'}\n",
      "datasetId: EU_CAMS_SURFACE_NO2_G\n",
      "productDate: 2019-03-01T14:00:00Z\n",
      "productId: EU_CAMS_SURFACE_NO2_G_20190301140000.tif\n",
      "geometry: {'geometries': [{'type': 'Polygon', 'coordinates': [[[-25.000012, 29.999997], [44.999988, 29.999997], [44.999988, 69.999997], [-25.000012, 69.999997], [-25.000012, 29.999997]]]}], 'type': 'GeometryCollection'}\n",
      "insertDate: 2021-07-15T05:11:37Z\n",
      "status: Online\n",
      "productLink: {'tiff': 'https://reliance-das.adamplatform.eu/wcs?service=WCS&version=2.0.0&request=GetCoverage&format=image/tiff&coverageId=EU_CAMS_SURFACE_NO2_G&_id=60efc3896dfebc080600e71a', 'png': 'https://reliance-das.adamplatform.eu/wcs?service=WCS&version=2.0.0&request=GetCoverage&format=image/png&coverageId=EU_CAMS_SURFACE_NO2_G&_id=60efc3896dfebc080600e71a'}\n",
      "------------------------------------\n"
     ]
    }
   ],
   "source": [
    "search = adam.Search( a )\n",
    "results = search.getProducts(\n",
    "    datasetID, \n",
    "    geometry=geom_1,\n",
    "    startDate=start_date,\n",
    "    endDate=end_date\n",
    " )\n",
    "\n",
    "# Printing the results\n",
    "\n",
    "print('\\033[1;34m' + 'List of available products (maximum 10 products printed):')\n",
    "print ('\\033[0;0m')\n",
    "\n",
    "count = 1\n",
    "for i in results['content']:\n",
    "        print(\"\\033[1;31;1m\" + \"#\" + str(count))\n",
    "        print ('\\033[0m')\n",
    "        for k in i.items():\n",
    "            print(str(k[0]) + ': ' + str(k[1]))\n",
    "        count = count+1\n",
    "        print('------------------------------------')"
   ]
  },
  {
   "cell_type": "markdown",
   "id": "alone-ordinance",
   "metadata": {},
   "source": [
    "## <a id=5_Data_Access></a> **Step 5: Data Access**"
   ]
  },
  {
   "cell_type": "markdown",
   "id": "brave-occupation",
   "metadata": {},
   "source": [
    "After the data discovery operation that retrieves the availability of products in the catalogue, it is possible to access the data with the <font color='blue'> **getData** </font> function. Each product in the output list intersects the selected geometry and the following example shows how to access a specific product from the list of results obtained in the previous step. While the <font color='red'> **datasetId** </font> is always a mandatory parameter, for each data access request the <font color='blue'> **getData** </font> function needs only one of the following arguments: <font color='red'> **geometry** </font> or <font color='red'> **productId** </font>, that is the value of the <font color='blue'> **_id** </font> field in each product metadata. In the case of a <u>**spatial and temporal search**</u> the geometry must be provided to the function, together with the time range of interest. \n",
    "The output of the <font color='blue'> **getData** </font> function is <u>always</u> a <font color='red'> **.zip** </font> file containing the data retrieved with the data access request, providing the spatial **subset** of the product. The zip file will contain a geotiff file for each of the spatial subsets extracted in the selected time range."
   ]
  },
  {
   "cell_type": "markdown",
   "id": "collective-estimate",
   "metadata": {},
   "source": [
    "#### Define a function to select a time range and get data"
   ]
  },
  {
   "cell_type": "code",
   "execution_count": 37,
   "id": "indie-coaching",
   "metadata": {},
   "outputs": [],
   "source": [
    "def getZipData(auth, dataset_info):\n",
    "    if not (pathlib.Path(pathlib.Path(dataset_info['outputFname']).stem).exists() or pathlib.Path(dataset_info['outputFname']).exists()):\n",
    "        data=adam.GetData(auth)\n",
    "        image = data.getData(\n",
    "        datasetId = dataset_info['datasetID'],\n",
    "        startDate = dataset_info['startDate'],\n",
    "        endDate = dataset_info['endDate'],\n",
    "        geometry = dataset_info['geometry'],\n",
    "        outputFname = dataset_info['outputFname'])\n",
    "        print(image)"
   ]
  },
  {
   "cell_type": "markdown",
   "id": "younger-invalid",
   "metadata": {},
   "source": [
    "#### Get variable of interest for each day of the month we study for 2019, 2020 and 2021 (time 00:00:00)\n",
    "\n",
    "This process can take a bit of time so be patient!"
   ]
  },
  {
   "cell_type": "code",
   "execution_count": 38,
   "id": "charitable-nightmare",
   "metadata": {},
   "outputs": [],
   "source": [
    "import time\n",
    "from IPython.display import clear_output"
   ]
  },
  {
   "cell_type": "code",
   "execution_count": 39,
   "id": "sudden-insert",
   "metadata": {
    "tags": []
   },
   "outputs": [
    {
     "name": "stdout",
     "output_type": "stream",
     "text": [
      "\u001b[1mProcessing time: 0.0\n"
     ]
    }
   ],
   "source": [
    "start = time.time()\n",
    "\n",
    "for year in ['2019', '2020', '2021']:\n",
    "    datasetInfo = {\n",
    "    'datasetID' : datasetID,\n",
    "    'startDate' : year + '-' + month_number + '-01',\n",
    "    'endDate' : year + '-' + month_number + '-' + month_nb_days,\n",
    "    'geometry' : geom_1,\n",
    "    'outputFname' : INPUT_DATA_DIR + '/' + variable_name + '_' + country_code + '_ADAMAPI_' + year + '.zip'\n",
    "    }\n",
    "    getZipData(a, datasetInfo)\n",
    "    \n",
    "end = time.time()\n",
    "clear_output(wait=True)\n",
    "delta1 = end - start\n",
    "print('\\033[1m'+'Processing time: ' + str(round(delta1,2)))"
   ]
  },
  {
   "cell_type": "markdown",
   "id": "current-commercial",
   "metadata": {},
   "source": [
    "## <a id=6_Data_Analysis_Visualization></a> **Step 6: Data Analysis and Visualization**"
   ]
  },
  {
   "cell_type": "markdown",
   "id": "collectible-tragedy",
   "metadata": {},
   "source": [
    "The data retrieved via the Adam API is now available as a zip file that must be unzipped to directly handle the data in a geotiff format. Then with the Python packages provided in the Jupyter environment it is possible to process and visualized the requested product."
   ]
  },
  {
   "cell_type": "markdown",
   "id": "separated-temple",
   "metadata": {},
   "source": [
    "#### Unzip data"
   ]
  },
  {
   "cell_type": "code",
   "execution_count": 40,
   "id": "eight-willow",
   "metadata": {},
   "outputs": [],
   "source": [
    "import zipfile"
   ]
  },
  {
   "cell_type": "code",
   "execution_count": 41,
   "id": "extensive-checkout",
   "metadata": {},
   "outputs": [],
   "source": [
    "def unzipData(filename, out_prefix):\n",
    "    with zipfile.ZipFile(filename, 'r') as zip_ref:\n",
    "        zip_ref.extractall(path = os.path.join(out_prefix, pathlib.Path(filename).stem))"
   ]
  },
  {
   "cell_type": "code",
   "execution_count": 42,
   "id": "354824b9-cdec-4b4c-a662-0027e4001106",
   "metadata": {},
   "outputs": [],
   "source": [
    "for year in ['2019', '2020', '2021']:\n",
    "    filename = INPUT_DATA_DIR + '/' + variable_name + '_' + country_code + '_ADAMAPI_' + year + '.zip'\n",
    "    target_file = pathlib.Path(os.path.join(INPUT_DATA_DIR, pathlib.Path(pathlib.Path(filename).stem)))\n",
    "    if not target_file.exists():\n",
    "        unzipData(filename, INPUT_DATA_DIR)"
   ]
  },
  {
   "cell_type": "markdown",
   "id": "initial-gregory",
   "metadata": {},
   "source": [
    "#### Read data and make a monthly average"
   ]
  },
  {
   "cell_type": "code",
   "execution_count": 43,
   "id": "looking-moderator",
   "metadata": {},
   "outputs": [],
   "source": [
    "import xarray as xr\n",
    "import xesmf as xe\n",
    "import glob"
   ]
  },
  {
   "cell_type": "markdown",
   "id": "8f8040ce-ee94-4fbd-ab2c-72c7d72c4e48",
   "metadata": {},
   "source": [
    "We need to regrid data."
   ]
  },
  {
   "cell_type": "code",
   "execution_count": 44,
   "id": "fb4571b6-23a5-4850-956c-fff6ec69b8e7",
   "metadata": {},
   "outputs": [],
   "source": [
    "def read_file(filename, variable, metadata, factor=1):\n",
    "    tmp = xr.open_rasterio(filename, parse_coordinates=True)\n",
    "    # Convert our xarray.DataArray into a xarray.Dataset\n",
    "    tmp = tmp.to_dataset('band')*factor\n",
    "    # Rename the dimensions to make it CF-convention compliant\n",
    "    tmp = tmp.rename_dims({'y': 'latitude', 'x':'longitude'})\n",
    "    # Rename the variable to a more useful name\n",
    "    tmp = tmp.rename_vars({1: variable, 'y':'latitude', 'x':'longitude'})\n",
    "    tmp[variable].attrs = {'units' : metadata['units'], 'long_name' : metadata['description']}\n",
    "    return tmp"
   ]
  },
  {
   "cell_type": "code",
   "execution_count": 45,
   "id": "275b77d2-ae4f-41ac-bd23-ef2443a132cd",
   "metadata": {
    "tags": []
   },
   "outputs": [
    {
     "data": {
      "text/html": [
       "<div><svg style=\"position: absolute; width: 0; height: 0; overflow: hidden\">\n",
       "<defs>\n",
       "<symbol id=\"icon-database\" viewBox=\"0 0 32 32\">\n",
       "<path d=\"M16 0c-8.837 0-16 2.239-16 5v4c0 2.761 7.163 5 16 5s16-2.239 16-5v-4c0-2.761-7.163-5-16-5z\"></path>\n",
       "<path d=\"M16 17c-8.837 0-16-2.239-16-5v6c0 2.761 7.163 5 16 5s16-2.239 16-5v-6c0 2.761-7.163 5-16 5z\"></path>\n",
       "<path d=\"M16 26c-8.837 0-16-2.239-16-5v6c0 2.761 7.163 5 16 5s16-2.239 16-5v-6c0 2.761-7.163 5-16 5z\"></path>\n",
       "</symbol>\n",
       "<symbol id=\"icon-file-text2\" viewBox=\"0 0 32 32\">\n",
       "<path d=\"M28.681 7.159c-0.694-0.947-1.662-2.053-2.724-3.116s-2.169-2.030-3.116-2.724c-1.612-1.182-2.393-1.319-2.841-1.319h-15.5c-1.378 0-2.5 1.121-2.5 2.5v27c0 1.378 1.122 2.5 2.5 2.5h23c1.378 0 2.5-1.122 2.5-2.5v-19.5c0-0.448-0.137-1.23-1.319-2.841zM24.543 5.457c0.959 0.959 1.712 1.825 2.268 2.543h-4.811v-4.811c0.718 0.556 1.584 1.309 2.543 2.268zM28 29.5c0 0.271-0.229 0.5-0.5 0.5h-23c-0.271 0-0.5-0.229-0.5-0.5v-27c0-0.271 0.229-0.5 0.5-0.5 0 0 15.499-0 15.5 0v7c0 0.552 0.448 1 1 1h7v19.5z\"></path>\n",
       "<path d=\"M23 26h-14c-0.552 0-1-0.448-1-1s0.448-1 1-1h14c0.552 0 1 0.448 1 1s-0.448 1-1 1z\"></path>\n",
       "<path d=\"M23 22h-14c-0.552 0-1-0.448-1-1s0.448-1 1-1h14c0.552 0 1 0.448 1 1s-0.448 1-1 1z\"></path>\n",
       "<path d=\"M23 18h-14c-0.552 0-1-0.448-1-1s0.448-1 1-1h14c0.552 0 1 0.448 1 1s-0.448 1-1 1z\"></path>\n",
       "</symbol>\n",
       "</defs>\n",
       "</svg>\n",
       "<style>/* CSS stylesheet for displaying xarray objects in jupyterlab.\n",
       " *\n",
       " */\n",
       "\n",
       ":root {\n",
       "  --xr-font-color0: var(--jp-content-font-color0, rgba(0, 0, 0, 1));\n",
       "  --xr-font-color2: var(--jp-content-font-color2, rgba(0, 0, 0, 0.54));\n",
       "  --xr-font-color3: var(--jp-content-font-color3, rgba(0, 0, 0, 0.38));\n",
       "  --xr-border-color: var(--jp-border-color2, #e0e0e0);\n",
       "  --xr-disabled-color: var(--jp-layout-color3, #bdbdbd);\n",
       "  --xr-background-color: var(--jp-layout-color0, white);\n",
       "  --xr-background-color-row-even: var(--jp-layout-color1, white);\n",
       "  --xr-background-color-row-odd: var(--jp-layout-color2, #eeeeee);\n",
       "}\n",
       "\n",
       "html[theme=dark],\n",
       "body.vscode-dark {\n",
       "  --xr-font-color0: rgba(255, 255, 255, 1);\n",
       "  --xr-font-color2: rgba(255, 255, 255, 0.54);\n",
       "  --xr-font-color3: rgba(255, 255, 255, 0.38);\n",
       "  --xr-border-color: #1F1F1F;\n",
       "  --xr-disabled-color: #515151;\n",
       "  --xr-background-color: #111111;\n",
       "  --xr-background-color-row-even: #111111;\n",
       "  --xr-background-color-row-odd: #313131;\n",
       "}\n",
       "\n",
       ".xr-wrap {\n",
       "  display: block !important;\n",
       "  min-width: 300px;\n",
       "  max-width: 700px;\n",
       "}\n",
       "\n",
       ".xr-text-repr-fallback {\n",
       "  /* fallback to plain text repr when CSS is not injected (untrusted notebook) */\n",
       "  display: none;\n",
       "}\n",
       "\n",
       ".xr-header {\n",
       "  padding-top: 6px;\n",
       "  padding-bottom: 6px;\n",
       "  margin-bottom: 4px;\n",
       "  border-bottom: solid 1px var(--xr-border-color);\n",
       "}\n",
       "\n",
       ".xr-header > div,\n",
       ".xr-header > ul {\n",
       "  display: inline;\n",
       "  margin-top: 0;\n",
       "  margin-bottom: 0;\n",
       "}\n",
       "\n",
       ".xr-obj-type,\n",
       ".xr-array-name {\n",
       "  margin-left: 2px;\n",
       "  margin-right: 10px;\n",
       "}\n",
       "\n",
       ".xr-obj-type {\n",
       "  color: var(--xr-font-color2);\n",
       "}\n",
       "\n",
       ".xr-sections {\n",
       "  padding-left: 0 !important;\n",
       "  display: grid;\n",
       "  grid-template-columns: 150px auto auto 1fr 20px 20px;\n",
       "}\n",
       "\n",
       ".xr-section-item {\n",
       "  display: contents;\n",
       "}\n",
       "\n",
       ".xr-section-item input {\n",
       "  display: none;\n",
       "}\n",
       "\n",
       ".xr-section-item input + label {\n",
       "  color: var(--xr-disabled-color);\n",
       "}\n",
       "\n",
       ".xr-section-item input:enabled + label {\n",
       "  cursor: pointer;\n",
       "  color: var(--xr-font-color2);\n",
       "}\n",
       "\n",
       ".xr-section-item input:enabled + label:hover {\n",
       "  color: var(--xr-font-color0);\n",
       "}\n",
       "\n",
       ".xr-section-summary {\n",
       "  grid-column: 1;\n",
       "  color: var(--xr-font-color2);\n",
       "  font-weight: 500;\n",
       "}\n",
       "\n",
       ".xr-section-summary > span {\n",
       "  display: inline-block;\n",
       "  padding-left: 0.5em;\n",
       "}\n",
       "\n",
       ".xr-section-summary-in:disabled + label {\n",
       "  color: var(--xr-font-color2);\n",
       "}\n",
       "\n",
       ".xr-section-summary-in + label:before {\n",
       "  display: inline-block;\n",
       "  content: '►';\n",
       "  font-size: 11px;\n",
       "  width: 15px;\n",
       "  text-align: center;\n",
       "}\n",
       "\n",
       ".xr-section-summary-in:disabled + label:before {\n",
       "  color: var(--xr-disabled-color);\n",
       "}\n",
       "\n",
       ".xr-section-summary-in:checked + label:before {\n",
       "  content: '▼';\n",
       "}\n",
       "\n",
       ".xr-section-summary-in:checked + label > span {\n",
       "  display: none;\n",
       "}\n",
       "\n",
       ".xr-section-summary,\n",
       ".xr-section-inline-details {\n",
       "  padding-top: 4px;\n",
       "  padding-bottom: 4px;\n",
       "}\n",
       "\n",
       ".xr-section-inline-details {\n",
       "  grid-column: 2 / -1;\n",
       "}\n",
       "\n",
       ".xr-section-details {\n",
       "  display: none;\n",
       "  grid-column: 1 / -1;\n",
       "  margin-bottom: 5px;\n",
       "}\n",
       "\n",
       ".xr-section-summary-in:checked ~ .xr-section-details {\n",
       "  display: contents;\n",
       "}\n",
       "\n",
       ".xr-array-wrap {\n",
       "  grid-column: 1 / -1;\n",
       "  display: grid;\n",
       "  grid-template-columns: 20px auto;\n",
       "}\n",
       "\n",
       ".xr-array-wrap > label {\n",
       "  grid-column: 1;\n",
       "  vertical-align: top;\n",
       "}\n",
       "\n",
       ".xr-preview {\n",
       "  color: var(--xr-font-color3);\n",
       "}\n",
       "\n",
       ".xr-array-preview,\n",
       ".xr-array-data {\n",
       "  padding: 0 5px !important;\n",
       "  grid-column: 2;\n",
       "}\n",
       "\n",
       ".xr-array-data,\n",
       ".xr-array-in:checked ~ .xr-array-preview {\n",
       "  display: none;\n",
       "}\n",
       "\n",
       ".xr-array-in:checked ~ .xr-array-data,\n",
       ".xr-array-preview {\n",
       "  display: inline-block;\n",
       "}\n",
       "\n",
       ".xr-dim-list {\n",
       "  display: inline-block !important;\n",
       "  list-style: none;\n",
       "  padding: 0 !important;\n",
       "  margin: 0;\n",
       "}\n",
       "\n",
       ".xr-dim-list li {\n",
       "  display: inline-block;\n",
       "  padding: 0;\n",
       "  margin: 0;\n",
       "}\n",
       "\n",
       ".xr-dim-list:before {\n",
       "  content: '(';\n",
       "}\n",
       "\n",
       ".xr-dim-list:after {\n",
       "  content: ')';\n",
       "}\n",
       "\n",
       ".xr-dim-list li:not(:last-child):after {\n",
       "  content: ',';\n",
       "  padding-right: 5px;\n",
       "}\n",
       "\n",
       ".xr-has-index {\n",
       "  font-weight: bold;\n",
       "}\n",
       "\n",
       ".xr-var-list,\n",
       ".xr-var-item {\n",
       "  display: contents;\n",
       "}\n",
       "\n",
       ".xr-var-item > div,\n",
       ".xr-var-item label,\n",
       ".xr-var-item > .xr-var-name span {\n",
       "  background-color: var(--xr-background-color-row-even);\n",
       "  margin-bottom: 0;\n",
       "}\n",
       "\n",
       ".xr-var-item > .xr-var-name:hover span {\n",
       "  padding-right: 5px;\n",
       "}\n",
       "\n",
       ".xr-var-list > li:nth-child(odd) > div,\n",
       ".xr-var-list > li:nth-child(odd) > label,\n",
       ".xr-var-list > li:nth-child(odd) > .xr-var-name span {\n",
       "  background-color: var(--xr-background-color-row-odd);\n",
       "}\n",
       "\n",
       ".xr-var-name {\n",
       "  grid-column: 1;\n",
       "}\n",
       "\n",
       ".xr-var-dims {\n",
       "  grid-column: 2;\n",
       "}\n",
       "\n",
       ".xr-var-dtype {\n",
       "  grid-column: 3;\n",
       "  text-align: right;\n",
       "  color: var(--xr-font-color2);\n",
       "}\n",
       "\n",
       ".xr-var-preview {\n",
       "  grid-column: 4;\n",
       "}\n",
       "\n",
       ".xr-var-name,\n",
       ".xr-var-dims,\n",
       ".xr-var-dtype,\n",
       ".xr-preview,\n",
       ".xr-attrs dt {\n",
       "  white-space: nowrap;\n",
       "  overflow: hidden;\n",
       "  text-overflow: ellipsis;\n",
       "  padding-right: 10px;\n",
       "}\n",
       "\n",
       ".xr-var-name:hover,\n",
       ".xr-var-dims:hover,\n",
       ".xr-var-dtype:hover,\n",
       ".xr-attrs dt:hover {\n",
       "  overflow: visible;\n",
       "  width: auto;\n",
       "  z-index: 1;\n",
       "}\n",
       "\n",
       ".xr-var-attrs,\n",
       ".xr-var-data {\n",
       "  display: none;\n",
       "  background-color: var(--xr-background-color) !important;\n",
       "  padding-bottom: 5px !important;\n",
       "}\n",
       "\n",
       ".xr-var-attrs-in:checked ~ .xr-var-attrs,\n",
       ".xr-var-data-in:checked ~ .xr-var-data {\n",
       "  display: block;\n",
       "}\n",
       "\n",
       ".xr-var-data > table {\n",
       "  float: right;\n",
       "}\n",
       "\n",
       ".xr-var-name span,\n",
       ".xr-var-data,\n",
       ".xr-attrs {\n",
       "  padding-left: 25px !important;\n",
       "}\n",
       "\n",
       ".xr-attrs,\n",
       ".xr-var-attrs,\n",
       ".xr-var-data {\n",
       "  grid-column: 1 / -1;\n",
       "}\n",
       "\n",
       "dl.xr-attrs {\n",
       "  padding: 0;\n",
       "  margin: 0;\n",
       "  display: grid;\n",
       "  grid-template-columns: 125px auto;\n",
       "}\n",
       "\n",
       ".xr-attrs dt,\n",
       ".xr-attrs dd {\n",
       "  padding: 0;\n",
       "  margin: 0;\n",
       "  float: left;\n",
       "  padding-right: 10px;\n",
       "  width: auto;\n",
       "}\n",
       "\n",
       ".xr-attrs dt {\n",
       "  font-weight: normal;\n",
       "  grid-column: 1;\n",
       "}\n",
       "\n",
       ".xr-attrs dt:hover span {\n",
       "  display: inline-block;\n",
       "  background: var(--xr-background-color);\n",
       "  padding-right: 10px;\n",
       "}\n",
       "\n",
       ".xr-attrs dd {\n",
       "  grid-column: 2;\n",
       "  white-space: pre-wrap;\n",
       "  word-break: break-all;\n",
       "}\n",
       "\n",
       ".xr-icon-database,\n",
       ".xr-icon-file-text2 {\n",
       "  display: inline-block;\n",
       "  vertical-align: middle;\n",
       "  width: 1em;\n",
       "  height: 1.5em !important;\n",
       "  stroke-width: 0;\n",
       "  stroke: currentColor;\n",
       "  fill: currentColor;\n",
       "}\n",
       "</style><pre class='xr-text-repr-fallback'>&lt;xarray.Dataset&gt;\n",
       "Dimensions:    (latitude: 80, longitude: 132)\n",
       "Coordinates:\n",
       "  * latitude   (latitude) float64 43.85 43.75 43.65 43.55 ... 36.15 36.05 35.95\n",
       "  * longitude  (longitude) float64 -9.75 -9.65 -9.55 -9.45 ... 3.15 3.25 3.35\n",
       "Data variables:\n",
       "    NO2        (latitude, longitude) float32 0.0 0.0 0.0 0.0 ... 0.0 0.0 0.0 0.0\n",
       "Attributes:\n",
       "    transform:      (0.1, 0.0, -9.800012009298998, 0.0, -0.1, 43.899996997613...\n",
       "    crs:            +init=epsg:4326\n",
       "    res:            (0.1, 0.1)\n",
       "    is_tiled:       0\n",
       "    nodatavals:     (0.0,)\n",
       "    scales:         (1.0,)\n",
       "    offsets:        (0.0,)\n",
       "    AREA_OR_POINT:  Area</pre><div class='xr-wrap' style='display:none'><div class='xr-header'><div class='xr-obj-type'>xarray.Dataset</div></div><ul class='xr-sections'><li class='xr-section-item'><input id='section-c438bf6c-fa92-4e51-a0d6-a25f837c57fc' class='xr-section-summary-in' type='checkbox' disabled ><label for='section-c438bf6c-fa92-4e51-a0d6-a25f837c57fc' class='xr-section-summary'  title='Expand/collapse section'>Dimensions:</label><div class='xr-section-inline-details'><ul class='xr-dim-list'><li><span class='xr-has-index'>latitude</span>: 80</li><li><span class='xr-has-index'>longitude</span>: 132</li></ul></div><div class='xr-section-details'></div></li><li class='xr-section-item'><input id='section-e98fd978-6c5c-4586-9fd3-44762907c55b' class='xr-section-summary-in' type='checkbox'  checked><label for='section-e98fd978-6c5c-4586-9fd3-44762907c55b' class='xr-section-summary' >Coordinates: <span>(2)</span></label><div class='xr-section-inline-details'></div><div class='xr-section-details'><ul class='xr-var-list'><li class='xr-var-item'><div class='xr-var-name'><span class='xr-has-index'>latitude</span></div><div class='xr-var-dims'>(latitude)</div><div class='xr-var-dtype'>float64</div><div class='xr-var-preview xr-preview'>43.85 43.75 43.65 ... 36.05 35.95</div><input id='attrs-6279f512-7e06-42f6-9cca-bed0f6981b81' class='xr-var-attrs-in' type='checkbox' disabled><label for='attrs-6279f512-7e06-42f6-9cca-bed0f6981b81' title='Show/Hide attributes'><svg class='icon xr-icon-file-text2'><use xlink:href='#icon-file-text2'></use></svg></label><input id='data-60de7da7-eaa1-4b66-ae3c-7ef016ec57b3' class='xr-var-data-in' type='checkbox'><label for='data-60de7da7-eaa1-4b66-ae3c-7ef016ec57b3' title='Show/Hide data repr'><svg class='icon xr-icon-database'><use xlink:href='#icon-database'></use></svg></label><div class='xr-var-attrs'><dl class='xr-attrs'></dl></div><div class='xr-var-data'><pre>array([43.849997, 43.749997, 43.649997, 43.549997, 43.449997, 43.349997,\n",
       "       43.249997, 43.149997, 43.049997, 42.949997, 42.849997, 42.749997,\n",
       "       42.649997, 42.549997, 42.449997, 42.349997, 42.249997, 42.149997,\n",
       "       42.049997, 41.949997, 41.849997, 41.749997, 41.649997, 41.549997,\n",
       "       41.449997, 41.349997, 41.249997, 41.149997, 41.049997, 40.949997,\n",
       "       40.849997, 40.749997, 40.649997, 40.549997, 40.449997, 40.349997,\n",
       "       40.249997, 40.149997, 40.049997, 39.949997, 39.849997, 39.749997,\n",
       "       39.649997, 39.549997, 39.449997, 39.349997, 39.249997, 39.149997,\n",
       "       39.049997, 38.949997, 38.849997, 38.749997, 38.649997, 38.549997,\n",
       "       38.449997, 38.349997, 38.249997, 38.149997, 38.049997, 37.949997,\n",
       "       37.849997, 37.749997, 37.649997, 37.549997, 37.449997, 37.349997,\n",
       "       37.249997, 37.149997, 37.049997, 36.949997, 36.849997, 36.749997,\n",
       "       36.649997, 36.549997, 36.449997, 36.349997, 36.249997, 36.149997,\n",
       "       36.049997, 35.949997])</pre></div></li><li class='xr-var-item'><div class='xr-var-name'><span class='xr-has-index'>longitude</span></div><div class='xr-var-dims'>(longitude)</div><div class='xr-var-dtype'>float64</div><div class='xr-var-preview xr-preview'>-9.75 -9.65 -9.55 ... 3.25 3.35</div><input id='attrs-7e184fa8-94b1-41af-a1f2-687e6dc04a14' class='xr-var-attrs-in' type='checkbox' disabled><label for='attrs-7e184fa8-94b1-41af-a1f2-687e6dc04a14' title='Show/Hide attributes'><svg class='icon xr-icon-file-text2'><use xlink:href='#icon-file-text2'></use></svg></label><input id='data-76618598-2696-4d00-84a9-d6d64dce33dd' class='xr-var-data-in' type='checkbox'><label for='data-76618598-2696-4d00-84a9-d6d64dce33dd' title='Show/Hide data repr'><svg class='icon xr-icon-database'><use xlink:href='#icon-database'></use></svg></label><div class='xr-var-attrs'><dl class='xr-attrs'></dl></div><div class='xr-var-data'><pre>array([-9.750012, -9.650012, -9.550012, -9.450012, -9.350012, -9.250012,\n",
       "       -9.150012, -9.050012, -8.950012, -8.850012, -8.750012, -8.650012,\n",
       "       -8.550012, -8.450012, -8.350012, -8.250012, -8.150012, -8.050012,\n",
       "       -7.950012, -7.850012, -7.750012, -7.650012, -7.550012, -7.450012,\n",
       "       -7.350012, -7.250012, -7.150012, -7.050012, -6.950012, -6.850012,\n",
       "       -6.750012, -6.650012, -6.550012, -6.450012, -6.350012, -6.250012,\n",
       "       -6.150012, -6.050012, -5.950012, -5.850012, -5.750012, -5.650012,\n",
       "       -5.550012, -5.450012, -5.350012, -5.250012, -5.150012, -5.050012,\n",
       "       -4.950012, -4.850012, -4.750012, -4.650012, -4.550012, -4.450012,\n",
       "       -4.350012, -4.250012, -4.150012, -4.050012, -3.950012, -3.850012,\n",
       "       -3.750012, -3.650012, -3.550012, -3.450012, -3.350012, -3.250012,\n",
       "       -3.150012, -3.050012, -2.950012, -2.850012, -2.750012, -2.650012,\n",
       "       -2.550012, -2.450012, -2.350012, -2.250012, -2.150012, -2.050012,\n",
       "       -1.950012, -1.850012, -1.750012, -1.650012, -1.550012, -1.450012,\n",
       "       -1.350012, -1.250012, -1.150012, -1.050012, -0.950012, -0.850012,\n",
       "       -0.750012, -0.650012, -0.550012, -0.450012, -0.350012, -0.250012,\n",
       "       -0.150012, -0.050012,  0.049988,  0.149988,  0.249988,  0.349988,\n",
       "        0.449988,  0.549988,  0.649988,  0.749988,  0.849988,  0.949988,\n",
       "        1.049988,  1.149988,  1.249988,  1.349988,  1.449988,  1.549988,\n",
       "        1.649988,  1.749988,  1.849988,  1.949988,  2.049988,  2.149988,\n",
       "        2.249988,  2.349988,  2.449988,  2.549988,  2.649988,  2.749988,\n",
       "        2.849988,  2.949988,  3.049988,  3.149988,  3.249988,  3.349988])</pre></div></li></ul></div></li><li class='xr-section-item'><input id='section-77cbcd1c-88ce-4f9d-a8fd-7d482255473a' class='xr-section-summary-in' type='checkbox'  checked><label for='section-77cbcd1c-88ce-4f9d-a8fd-7d482255473a' class='xr-section-summary' >Data variables: <span>(1)</span></label><div class='xr-section-inline-details'></div><div class='xr-section-details'><ul class='xr-var-list'><li class='xr-var-item'><div class='xr-var-name'><span>NO2</span></div><div class='xr-var-dims'>(latitude, longitude)</div><div class='xr-var-dtype'>float32</div><div class='xr-var-preview xr-preview'>0.0 0.0 0.0 0.0 ... 0.0 0.0 0.0 0.0</div><input id='attrs-8169b629-c05e-4a86-b321-3f8aa90f77c5' class='xr-var-attrs-in' type='checkbox' ><label for='attrs-8169b629-c05e-4a86-b321-3f8aa90f77c5' title='Show/Hide attributes'><svg class='icon xr-icon-file-text2'><use xlink:href='#icon-file-text2'></use></svg></label><input id='data-13e98ad1-604a-410c-82f8-7533e0004342' class='xr-var-data-in' type='checkbox'><label for='data-13e98ad1-604a-410c-82f8-7533e0004342' title='Show/Hide data repr'><svg class='icon xr-icon-database'><use xlink:href='#icon-database'></use></svg></label><div class='xr-var-attrs'><dl class='xr-attrs'><dt><span>units :</span></dt><dd>µg m-3</dd><dt><span>long_name :</span></dt><dd>CAMS NITROGEN DIOXIDE</dd></dl></div><div class='xr-var-data'><pre>array([[0., 0., 0., ..., 0., 0., 0.],\n",
       "       [0., 0., 0., ..., 0., 0., 0.],\n",
       "       [0., 0., 0., ..., 0., 0., 0.],\n",
       "       ...,\n",
       "       [0., 0., 0., ..., 0., 0., 0.],\n",
       "       [0., 0., 0., ..., 0., 0., 0.],\n",
       "       [0., 0., 0., ..., 0., 0., 0.]], dtype=float32)</pre></div></li></ul></div></li><li class='xr-section-item'><input id='section-445cda47-ee64-4aff-9150-edc0a0595aca' class='xr-section-summary-in' type='checkbox'  checked><label for='section-445cda47-ee64-4aff-9150-edc0a0595aca' class='xr-section-summary' >Attributes: <span>(8)</span></label><div class='xr-section-inline-details'></div><div class='xr-section-details'><dl class='xr-attrs'><dt><span>transform :</span></dt><dd>(0.1, 0.0, -9.800012009298998, 0.0, -0.1, 43.899996997613364)</dd><dt><span>crs :</span></dt><dd>+init=epsg:4326</dd><dt><span>res :</span></dt><dd>(0.1, 0.1)</dd><dt><span>is_tiled :</span></dt><dd>0</dd><dt><span>nodatavals :</span></dt><dd>(0.0,)</dd><dt><span>scales :</span></dt><dd>(1.0,)</dd><dt><span>offsets :</span></dt><dd>(0.0,)</dd><dt><span>AREA_OR_POINT :</span></dt><dd>Area</dd></dl></div></li></ul></div></div>"
      ],
      "text/plain": [
       "<xarray.Dataset>\n",
       "Dimensions:    (latitude: 80, longitude: 132)\n",
       "Coordinates:\n",
       "  * latitude   (latitude) float64 43.85 43.75 43.65 43.55 ... 36.15 36.05 35.95\n",
       "  * longitude  (longitude) float64 -9.75 -9.65 -9.55 -9.45 ... 3.15 3.25 3.35\n",
       "Data variables:\n",
       "    NO2        (latitude, longitude) float32 0.0 0.0 0.0 0.0 ... 0.0 0.0 0.0 0.0\n",
       "Attributes:\n",
       "    transform:      (0.1, 0.0, -9.800012009298998, 0.0, -0.1, 43.899996997613...\n",
       "    crs:            +init=epsg:4326\n",
       "    res:            (0.1, 0.1)\n",
       "    is_tiled:       0\n",
       "    nodatavals:     (0.0,)\n",
       "    scales:         (1.0,)\n",
       "    offsets:        (0.0,)\n",
       "    AREA_OR_POINT:  Area"
      ]
     },
     "execution_count": 45,
     "metadata": {},
     "output_type": "execute_result"
    }
   ],
   "source": [
    "output_grid = read_file(INPUT_DATA_DIR + '/' + variable_name + '_' + country_code + '_ADAMAPI_2021/eu_cams_surface_' + variable_name.lower() + '_g_2021-' + month_number + '-' + month_nb_days + 't000000.tif', variable_name, metadata_variable)\n",
    "output_grid"
   ]
  },
  {
   "cell_type": "markdown",
   "id": "twenty-venice",
   "metadata": {},
   "source": [
    "We now read these files using `xarray`. First, we make a list of all the geotiff files in a given folder. To ensure each raster is labelled correctly with its time, we can use a helper function `paths_to_datetimeindex()` to extract time information from the file paths we obtained above. We then load and concatenate each dataset along the time dimension using `xarray.open_rasterio()`, convert the resulting `xarray.DataArray` to a `xarray.Dataset`, and give the variable a more useful name (**PM10**)"
   ]
  },
  {
   "cell_type": "code",
   "execution_count": 46,
   "id": "backed-memory",
   "metadata": {},
   "outputs": [],
   "source": [
    "from datetime import datetime"
   ]
  },
  {
   "cell_type": "code",
   "execution_count": 47,
   "id": "upset-finance",
   "metadata": {},
   "outputs": [],
   "source": [
    "def paths_to_datetimeindex(paths):\n",
    "    return  [datetime.strptime(date.split('_')[-1].split('.')[0], '%Y-%m-%dt%f') for date in paths]"
   ]
  },
  {
   "cell_type": "code",
   "execution_count": 48,
   "id": "00ba1ed9-3de0-4a93-bdcd-36a78cbe781a",
   "metadata": {},
   "outputs": [],
   "source": [
    "def getData(dirtif, variable, metadata, factor=1, grid_out=None):\n",
    "    geotiff_list = glob.glob(dirtif)\n",
    "    # Create variable used for time axis\n",
    "    time_var = xr.Variable('time', paths_to_datetimeindex(geotiff_list))\n",
    "    # Load in and concatenate all individual GeoTIFFs\n",
    "    xarray_list = []\n",
    "    if grid_out is not None:\n",
    "        nlats = len(grid_out.latitude.values)\n",
    "        nlons = len(grid_out.longitude.values)\n",
    "    for i in geotiff_list:\n",
    "        tmp = read_file(i, variable, metadata, factor=factor)\n",
    "        if grid_out is not None:\n",
    "            print(\"regridding \", i)\n",
    "            regridder = xe.Regridder(tmp, grid_out, 'conservative')\n",
    "            tmp_regrid = regridder(tmp, keep_attrs=True)\n",
    "            xarray_list.append(tmp_regrid)\n",
    "        else:\n",
    "            xarray_list.append(tmp)\n",
    "    #print(xarray_list[0:2])\n",
    "    geotiffs_da = xr.concat(xarray_list, dim=time_var)\n",
    "    return geotiffs_da"
   ]
  },
  {
   "cell_type": "code",
   "execution_count": 49,
   "id": "owned-replication",
   "metadata": {
    "tags": []
   },
   "outputs": [
    {
     "name": "stdout",
     "output_type": "stream",
     "text": [
      "regridding  /home/jovyan/datahub/Reliance/Climate_ES_NO2_March/input/NO2_ES_ADAMAPI_2021/eu_cams_surface_no2_g_2021-03-30t000000.tif\n",
      "regridding  /home/jovyan/datahub/Reliance/Climate_ES_NO2_March/input/NO2_ES_ADAMAPI_2021/eu_cams_surface_no2_g_2021-03-29t000000.tif\n",
      "regridding  /home/jovyan/datahub/Reliance/Climate_ES_NO2_March/input/NO2_ES_ADAMAPI_2021/eu_cams_surface_no2_g_2021-03-28t000000.tif\n",
      "regridding  /home/jovyan/datahub/Reliance/Climate_ES_NO2_March/input/NO2_ES_ADAMAPI_2021/eu_cams_surface_no2_g_2021-03-27t000000.tif\n",
      "regridding  /home/jovyan/datahub/Reliance/Climate_ES_NO2_March/input/NO2_ES_ADAMAPI_2021/eu_cams_surface_no2_g_2021-03-26t000000.tif\n",
      "regridding  /home/jovyan/datahub/Reliance/Climate_ES_NO2_March/input/NO2_ES_ADAMAPI_2021/eu_cams_surface_no2_g_2021-03-25t000000.tif\n",
      "regridding  /home/jovyan/datahub/Reliance/Climate_ES_NO2_March/input/NO2_ES_ADAMAPI_2021/eu_cams_surface_no2_g_2021-03-24t000000.tif\n",
      "regridding  /home/jovyan/datahub/Reliance/Climate_ES_NO2_March/input/NO2_ES_ADAMAPI_2021/eu_cams_surface_no2_g_2021-03-23t000000.tif\n",
      "regridding  /home/jovyan/datahub/Reliance/Climate_ES_NO2_March/input/NO2_ES_ADAMAPI_2021/eu_cams_surface_no2_g_2021-03-22t000000.tif\n",
      "regridding  /home/jovyan/datahub/Reliance/Climate_ES_NO2_March/input/NO2_ES_ADAMAPI_2021/eu_cams_surface_no2_g_2021-03-21t000000.tif\n",
      "regridding  /home/jovyan/datahub/Reliance/Climate_ES_NO2_March/input/NO2_ES_ADAMAPI_2021/eu_cams_surface_no2_g_2021-03-20t000000.tif\n",
      "regridding  /home/jovyan/datahub/Reliance/Climate_ES_NO2_March/input/NO2_ES_ADAMAPI_2021/eu_cams_surface_no2_g_2021-03-19t000000.tif\n",
      "regridding  /home/jovyan/datahub/Reliance/Climate_ES_NO2_March/input/NO2_ES_ADAMAPI_2021/eu_cams_surface_no2_g_2021-03-18t000000.tif\n",
      "regridding  /home/jovyan/datahub/Reliance/Climate_ES_NO2_March/input/NO2_ES_ADAMAPI_2021/eu_cams_surface_no2_g_2021-03-17t000000.tif\n",
      "regridding  /home/jovyan/datahub/Reliance/Climate_ES_NO2_March/input/NO2_ES_ADAMAPI_2021/eu_cams_surface_no2_g_2021-03-16t000000.tif\n",
      "regridding  /home/jovyan/datahub/Reliance/Climate_ES_NO2_March/input/NO2_ES_ADAMAPI_2021/eu_cams_surface_no2_g_2021-03-15t000000.tif\n",
      "regridding  /home/jovyan/datahub/Reliance/Climate_ES_NO2_March/input/NO2_ES_ADAMAPI_2021/eu_cams_surface_no2_g_2021-03-14t000000.tif\n",
      "regridding  /home/jovyan/datahub/Reliance/Climate_ES_NO2_March/input/NO2_ES_ADAMAPI_2021/eu_cams_surface_no2_g_2021-03-13t000000.tif\n",
      "regridding  /home/jovyan/datahub/Reliance/Climate_ES_NO2_March/input/NO2_ES_ADAMAPI_2021/eu_cams_surface_no2_g_2021-03-12t000000.tif\n",
      "regridding  /home/jovyan/datahub/Reliance/Climate_ES_NO2_March/input/NO2_ES_ADAMAPI_2021/eu_cams_surface_no2_g_2021-03-11t000000.tif\n",
      "regridding  /home/jovyan/datahub/Reliance/Climate_ES_NO2_March/input/NO2_ES_ADAMAPI_2021/eu_cams_surface_no2_g_2021-03-10t000000.tif\n",
      "regridding  /home/jovyan/datahub/Reliance/Climate_ES_NO2_March/input/NO2_ES_ADAMAPI_2021/eu_cams_surface_no2_g_2021-03-09t000000.tif\n",
      "regridding  /home/jovyan/datahub/Reliance/Climate_ES_NO2_March/input/NO2_ES_ADAMAPI_2021/eu_cams_surface_no2_g_2021-03-08t000000.tif\n",
      "regridding  /home/jovyan/datahub/Reliance/Climate_ES_NO2_March/input/NO2_ES_ADAMAPI_2021/eu_cams_surface_no2_g_2021-03-07t000000.tif\n",
      "regridding  /home/jovyan/datahub/Reliance/Climate_ES_NO2_March/input/NO2_ES_ADAMAPI_2021/eu_cams_surface_no2_g_2021-03-06t000000.tif\n",
      "regridding  /home/jovyan/datahub/Reliance/Climate_ES_NO2_March/input/NO2_ES_ADAMAPI_2021/eu_cams_surface_no2_g_2021-03-05t000000.tif\n",
      "regridding  /home/jovyan/datahub/Reliance/Climate_ES_NO2_March/input/NO2_ES_ADAMAPI_2021/eu_cams_surface_no2_g_2021-03-04t000000.tif\n",
      "regridding  /home/jovyan/datahub/Reliance/Climate_ES_NO2_March/input/NO2_ES_ADAMAPI_2021/eu_cams_surface_no2_g_2021-03-03t000000.tif\n",
      "regridding  /home/jovyan/datahub/Reliance/Climate_ES_NO2_March/input/NO2_ES_ADAMAPI_2021/eu_cams_surface_no2_g_2021-03-02t000000.tif\n",
      "regridding  /home/jovyan/datahub/Reliance/Climate_ES_NO2_March/input/NO2_ES_ADAMAPI_2021/eu_cams_surface_no2_g_2021-03-01t000000.tif\n",
      "regridding  /home/jovyan/datahub/Reliance/Climate_ES_NO2_March/input/NO2_ES_ADAMAPI_2021/eu_cams_surface_no2_g_2021-03-31t000000.tif\n",
      "regridding  /home/jovyan/datahub/Reliance/Climate_ES_NO2_March/input/NO2_ES_ADAMAPI_2020/eu_cams_surface_no2_g_2020-03-31t000000.tif\n",
      "regridding  /home/jovyan/datahub/Reliance/Climate_ES_NO2_March/input/NO2_ES_ADAMAPI_2020/eu_cams_surface_no2_g_2020-03-30t000000.tif\n",
      "regridding  /home/jovyan/datahub/Reliance/Climate_ES_NO2_March/input/NO2_ES_ADAMAPI_2020/eu_cams_surface_no2_g_2020-03-29t000000.tif\n",
      "regridding  /home/jovyan/datahub/Reliance/Climate_ES_NO2_March/input/NO2_ES_ADAMAPI_2020/eu_cams_surface_no2_g_2020-03-28t000000.tif\n",
      "regridding  /home/jovyan/datahub/Reliance/Climate_ES_NO2_March/input/NO2_ES_ADAMAPI_2020/eu_cams_surface_no2_g_2020-03-27t000000.tif\n",
      "regridding  /home/jovyan/datahub/Reliance/Climate_ES_NO2_March/input/NO2_ES_ADAMAPI_2020/eu_cams_surface_no2_g_2020-03-26t000000.tif\n",
      "regridding  /home/jovyan/datahub/Reliance/Climate_ES_NO2_March/input/NO2_ES_ADAMAPI_2020/eu_cams_surface_no2_g_2020-03-25t000000.tif\n",
      "regridding  /home/jovyan/datahub/Reliance/Climate_ES_NO2_March/input/NO2_ES_ADAMAPI_2020/eu_cams_surface_no2_g_2020-03-24t000000.tif\n",
      "regridding  /home/jovyan/datahub/Reliance/Climate_ES_NO2_March/input/NO2_ES_ADAMAPI_2020/eu_cams_surface_no2_g_2020-03-23t000000.tif\n",
      "regridding  /home/jovyan/datahub/Reliance/Climate_ES_NO2_March/input/NO2_ES_ADAMAPI_2020/eu_cams_surface_no2_g_2020-03-22t000000.tif\n",
      "regridding  /home/jovyan/datahub/Reliance/Climate_ES_NO2_March/input/NO2_ES_ADAMAPI_2020/eu_cams_surface_no2_g_2020-03-21t000000.tif\n",
      "regridding  /home/jovyan/datahub/Reliance/Climate_ES_NO2_March/input/NO2_ES_ADAMAPI_2020/eu_cams_surface_no2_g_2020-03-20t000000.tif\n",
      "regridding  /home/jovyan/datahub/Reliance/Climate_ES_NO2_March/input/NO2_ES_ADAMAPI_2020/eu_cams_surface_no2_g_2020-03-19t000000.tif\n",
      "regridding  /home/jovyan/datahub/Reliance/Climate_ES_NO2_March/input/NO2_ES_ADAMAPI_2020/eu_cams_surface_no2_g_2020-03-18t000000.tif\n",
      "regridding  /home/jovyan/datahub/Reliance/Climate_ES_NO2_March/input/NO2_ES_ADAMAPI_2020/eu_cams_surface_no2_g_2020-03-17t000000.tif\n",
      "regridding  /home/jovyan/datahub/Reliance/Climate_ES_NO2_March/input/NO2_ES_ADAMAPI_2020/eu_cams_surface_no2_g_2020-03-16t000000.tif\n",
      "regridding  /home/jovyan/datahub/Reliance/Climate_ES_NO2_March/input/NO2_ES_ADAMAPI_2020/eu_cams_surface_no2_g_2020-03-15t000000.tif\n",
      "regridding  /home/jovyan/datahub/Reliance/Climate_ES_NO2_March/input/NO2_ES_ADAMAPI_2020/eu_cams_surface_no2_g_2020-03-14t000000.tif\n",
      "regridding  /home/jovyan/datahub/Reliance/Climate_ES_NO2_March/input/NO2_ES_ADAMAPI_2020/eu_cams_surface_no2_g_2020-03-13t000000.tif\n",
      "regridding  /home/jovyan/datahub/Reliance/Climate_ES_NO2_March/input/NO2_ES_ADAMAPI_2020/eu_cams_surface_no2_g_2020-03-12t000000.tif\n",
      "regridding  /home/jovyan/datahub/Reliance/Climate_ES_NO2_March/input/NO2_ES_ADAMAPI_2020/eu_cams_surface_no2_g_2020-03-11t000000.tif\n",
      "regridding  /home/jovyan/datahub/Reliance/Climate_ES_NO2_March/input/NO2_ES_ADAMAPI_2020/eu_cams_surface_no2_g_2020-03-10t000000.tif\n",
      "regridding  /home/jovyan/datahub/Reliance/Climate_ES_NO2_March/input/NO2_ES_ADAMAPI_2020/eu_cams_surface_no2_g_2020-03-09t000000.tif\n",
      "regridding  /home/jovyan/datahub/Reliance/Climate_ES_NO2_March/input/NO2_ES_ADAMAPI_2020/eu_cams_surface_no2_g_2020-03-08t000000.tif\n",
      "regridding  /home/jovyan/datahub/Reliance/Climate_ES_NO2_March/input/NO2_ES_ADAMAPI_2020/eu_cams_surface_no2_g_2020-03-07t000000.tif\n",
      "regridding  /home/jovyan/datahub/Reliance/Climate_ES_NO2_March/input/NO2_ES_ADAMAPI_2020/eu_cams_surface_no2_g_2020-03-06t000000.tif\n",
      "regridding  /home/jovyan/datahub/Reliance/Climate_ES_NO2_March/input/NO2_ES_ADAMAPI_2020/eu_cams_surface_no2_g_2020-03-05t000000.tif\n",
      "regridding  /home/jovyan/datahub/Reliance/Climate_ES_NO2_March/input/NO2_ES_ADAMAPI_2020/eu_cams_surface_no2_g_2020-03-04t000000.tif\n",
      "regridding  /home/jovyan/datahub/Reliance/Climate_ES_NO2_March/input/NO2_ES_ADAMAPI_2020/eu_cams_surface_no2_g_2020-03-03t000000.tif\n",
      "regridding  /home/jovyan/datahub/Reliance/Climate_ES_NO2_March/input/NO2_ES_ADAMAPI_2020/eu_cams_surface_no2_g_2020-03-02t000000.tif\n",
      "regridding  /home/jovyan/datahub/Reliance/Climate_ES_NO2_March/input/NO2_ES_ADAMAPI_2020/eu_cams_surface_no2_g_2020-03-01t000000.tif\n",
      "regridding  /home/jovyan/datahub/Reliance/Climate_ES_NO2_March/input/NO2_ES_ADAMAPI_2019/eu_cams_surface_no2_g_2019-03-31t000000.tif\n",
      "regridding  /home/jovyan/datahub/Reliance/Climate_ES_NO2_March/input/NO2_ES_ADAMAPI_2019/eu_cams_surface_no2_g_2019-03-30t000000.tif\n",
      "regridding  /home/jovyan/datahub/Reliance/Climate_ES_NO2_March/input/NO2_ES_ADAMAPI_2019/eu_cams_surface_no2_g_2019-03-29t000000.tif\n",
      "regridding  /home/jovyan/datahub/Reliance/Climate_ES_NO2_March/input/NO2_ES_ADAMAPI_2019/eu_cams_surface_no2_g_2019-03-28t000000.tif\n",
      "regridding  /home/jovyan/datahub/Reliance/Climate_ES_NO2_March/input/NO2_ES_ADAMAPI_2019/eu_cams_surface_no2_g_2019-03-27t000000.tif\n",
      "regridding  /home/jovyan/datahub/Reliance/Climate_ES_NO2_March/input/NO2_ES_ADAMAPI_2019/eu_cams_surface_no2_g_2019-03-26t000000.tif\n",
      "regridding  /home/jovyan/datahub/Reliance/Climate_ES_NO2_March/input/NO2_ES_ADAMAPI_2019/eu_cams_surface_no2_g_2019-03-25t000000.tif\n",
      "regridding  /home/jovyan/datahub/Reliance/Climate_ES_NO2_March/input/NO2_ES_ADAMAPI_2019/eu_cams_surface_no2_g_2019-03-24t000000.tif\n",
      "regridding  /home/jovyan/datahub/Reliance/Climate_ES_NO2_March/input/NO2_ES_ADAMAPI_2019/eu_cams_surface_no2_g_2019-03-23t000000.tif\n",
      "regridding  /home/jovyan/datahub/Reliance/Climate_ES_NO2_March/input/NO2_ES_ADAMAPI_2019/eu_cams_surface_no2_g_2019-03-22t000000.tif\n",
      "regridding  /home/jovyan/datahub/Reliance/Climate_ES_NO2_March/input/NO2_ES_ADAMAPI_2019/eu_cams_surface_no2_g_2019-03-21t000000.tif\n",
      "regridding  /home/jovyan/datahub/Reliance/Climate_ES_NO2_March/input/NO2_ES_ADAMAPI_2019/eu_cams_surface_no2_g_2019-03-20t000000.tif\n",
      "regridding  /home/jovyan/datahub/Reliance/Climate_ES_NO2_March/input/NO2_ES_ADAMAPI_2019/eu_cams_surface_no2_g_2019-03-19t000000.tif\n",
      "regridding  /home/jovyan/datahub/Reliance/Climate_ES_NO2_March/input/NO2_ES_ADAMAPI_2019/eu_cams_surface_no2_g_2019-03-18t000000.tif\n",
      "regridding  /home/jovyan/datahub/Reliance/Climate_ES_NO2_March/input/NO2_ES_ADAMAPI_2019/eu_cams_surface_no2_g_2019-03-17t000000.tif\n",
      "regridding  /home/jovyan/datahub/Reliance/Climate_ES_NO2_March/input/NO2_ES_ADAMAPI_2019/eu_cams_surface_no2_g_2019-03-16t000000.tif\n",
      "regridding  /home/jovyan/datahub/Reliance/Climate_ES_NO2_March/input/NO2_ES_ADAMAPI_2019/eu_cams_surface_no2_g_2019-03-15t000000.tif\n",
      "regridding  /home/jovyan/datahub/Reliance/Climate_ES_NO2_March/input/NO2_ES_ADAMAPI_2019/eu_cams_surface_no2_g_2019-03-14t000000.tif\n",
      "regridding  /home/jovyan/datahub/Reliance/Climate_ES_NO2_March/input/NO2_ES_ADAMAPI_2019/eu_cams_surface_no2_g_2019-03-13t000000.tif\n",
      "regridding  /home/jovyan/datahub/Reliance/Climate_ES_NO2_March/input/NO2_ES_ADAMAPI_2019/eu_cams_surface_no2_g_2019-03-12t000000.tif\n",
      "regridding  /home/jovyan/datahub/Reliance/Climate_ES_NO2_March/input/NO2_ES_ADAMAPI_2019/eu_cams_surface_no2_g_2019-03-11t000000.tif\n",
      "regridding  /home/jovyan/datahub/Reliance/Climate_ES_NO2_March/input/NO2_ES_ADAMAPI_2019/eu_cams_surface_no2_g_2019-03-10t000000.tif\n",
      "regridding  /home/jovyan/datahub/Reliance/Climate_ES_NO2_March/input/NO2_ES_ADAMAPI_2019/eu_cams_surface_no2_g_2019-03-09t000000.tif\n",
      "regridding  /home/jovyan/datahub/Reliance/Climate_ES_NO2_March/input/NO2_ES_ADAMAPI_2019/eu_cams_surface_no2_g_2019-03-08t000000.tif\n",
      "regridding  /home/jovyan/datahub/Reliance/Climate_ES_NO2_March/input/NO2_ES_ADAMAPI_2019/eu_cams_surface_no2_g_2019-03-07t000000.tif\n",
      "regridding  /home/jovyan/datahub/Reliance/Climate_ES_NO2_March/input/NO2_ES_ADAMAPI_2019/eu_cams_surface_no2_g_2019-03-06t000000.tif\n",
      "regridding  /home/jovyan/datahub/Reliance/Climate_ES_NO2_March/input/NO2_ES_ADAMAPI_2019/eu_cams_surface_no2_g_2019-03-05t000000.tif\n",
      "regridding  /home/jovyan/datahub/Reliance/Climate_ES_NO2_March/input/NO2_ES_ADAMAPI_2019/eu_cams_surface_no2_g_2019-03-04t000000.tif\n",
      "regridding  /home/jovyan/datahub/Reliance/Climate_ES_NO2_March/input/NO2_ES_ADAMAPI_2019/eu_cams_surface_no2_g_2019-03-03t000000.tif\n",
      "regridding  /home/jovyan/datahub/Reliance/Climate_ES_NO2_March/input/NO2_ES_ADAMAPI_2019/eu_cams_surface_no2_g_2019-03-02t000000.tif\n",
      "regridding  /home/jovyan/datahub/Reliance/Climate_ES_NO2_March/input/NO2_ES_ADAMAPI_2019/eu_cams_surface_no2_g_2019-03-01t000000.tif\n"
     ]
    },
    {
     "data": {
      "text/html": [
       "<div><svg style=\"position: absolute; width: 0; height: 0; overflow: hidden\">\n",
       "<defs>\n",
       "<symbol id=\"icon-database\" viewBox=\"0 0 32 32\">\n",
       "<path d=\"M16 0c-8.837 0-16 2.239-16 5v4c0 2.761 7.163 5 16 5s16-2.239 16-5v-4c0-2.761-7.163-5-16-5z\"></path>\n",
       "<path d=\"M16 17c-8.837 0-16-2.239-16-5v6c0 2.761 7.163 5 16 5s16-2.239 16-5v-6c0 2.761-7.163 5-16 5z\"></path>\n",
       "<path d=\"M16 26c-8.837 0-16-2.239-16-5v6c0 2.761 7.163 5 16 5s16-2.239 16-5v-6c0 2.761-7.163 5-16 5z\"></path>\n",
       "</symbol>\n",
       "<symbol id=\"icon-file-text2\" viewBox=\"0 0 32 32\">\n",
       "<path d=\"M28.681 7.159c-0.694-0.947-1.662-2.053-2.724-3.116s-2.169-2.030-3.116-2.724c-1.612-1.182-2.393-1.319-2.841-1.319h-15.5c-1.378 0-2.5 1.121-2.5 2.5v27c0 1.378 1.122 2.5 2.5 2.5h23c1.378 0 2.5-1.122 2.5-2.5v-19.5c0-0.448-0.137-1.23-1.319-2.841zM24.543 5.457c0.959 0.959 1.712 1.825 2.268 2.543h-4.811v-4.811c0.718 0.556 1.584 1.309 2.543 2.268zM28 29.5c0 0.271-0.229 0.5-0.5 0.5h-23c-0.271 0-0.5-0.229-0.5-0.5v-27c0-0.271 0.229-0.5 0.5-0.5 0 0 15.499-0 15.5 0v7c0 0.552 0.448 1 1 1h7v19.5z\"></path>\n",
       "<path d=\"M23 26h-14c-0.552 0-1-0.448-1-1s0.448-1 1-1h14c0.552 0 1 0.448 1 1s-0.448 1-1 1z\"></path>\n",
       "<path d=\"M23 22h-14c-0.552 0-1-0.448-1-1s0.448-1 1-1h14c0.552 0 1 0.448 1 1s-0.448 1-1 1z\"></path>\n",
       "<path d=\"M23 18h-14c-0.552 0-1-0.448-1-1s0.448-1 1-1h14c0.552 0 1 0.448 1 1s-0.448 1-1 1z\"></path>\n",
       "</symbol>\n",
       "</defs>\n",
       "</svg>\n",
       "<style>/* CSS stylesheet for displaying xarray objects in jupyterlab.\n",
       " *\n",
       " */\n",
       "\n",
       ":root {\n",
       "  --xr-font-color0: var(--jp-content-font-color0, rgba(0, 0, 0, 1));\n",
       "  --xr-font-color2: var(--jp-content-font-color2, rgba(0, 0, 0, 0.54));\n",
       "  --xr-font-color3: var(--jp-content-font-color3, rgba(0, 0, 0, 0.38));\n",
       "  --xr-border-color: var(--jp-border-color2, #e0e0e0);\n",
       "  --xr-disabled-color: var(--jp-layout-color3, #bdbdbd);\n",
       "  --xr-background-color: var(--jp-layout-color0, white);\n",
       "  --xr-background-color-row-even: var(--jp-layout-color1, white);\n",
       "  --xr-background-color-row-odd: var(--jp-layout-color2, #eeeeee);\n",
       "}\n",
       "\n",
       "html[theme=dark],\n",
       "body.vscode-dark {\n",
       "  --xr-font-color0: rgba(255, 255, 255, 1);\n",
       "  --xr-font-color2: rgba(255, 255, 255, 0.54);\n",
       "  --xr-font-color3: rgba(255, 255, 255, 0.38);\n",
       "  --xr-border-color: #1F1F1F;\n",
       "  --xr-disabled-color: #515151;\n",
       "  --xr-background-color: #111111;\n",
       "  --xr-background-color-row-even: #111111;\n",
       "  --xr-background-color-row-odd: #313131;\n",
       "}\n",
       "\n",
       ".xr-wrap {\n",
       "  display: block !important;\n",
       "  min-width: 300px;\n",
       "  max-width: 700px;\n",
       "}\n",
       "\n",
       ".xr-text-repr-fallback {\n",
       "  /* fallback to plain text repr when CSS is not injected (untrusted notebook) */\n",
       "  display: none;\n",
       "}\n",
       "\n",
       ".xr-header {\n",
       "  padding-top: 6px;\n",
       "  padding-bottom: 6px;\n",
       "  margin-bottom: 4px;\n",
       "  border-bottom: solid 1px var(--xr-border-color);\n",
       "}\n",
       "\n",
       ".xr-header > div,\n",
       ".xr-header > ul {\n",
       "  display: inline;\n",
       "  margin-top: 0;\n",
       "  margin-bottom: 0;\n",
       "}\n",
       "\n",
       ".xr-obj-type,\n",
       ".xr-array-name {\n",
       "  margin-left: 2px;\n",
       "  margin-right: 10px;\n",
       "}\n",
       "\n",
       ".xr-obj-type {\n",
       "  color: var(--xr-font-color2);\n",
       "}\n",
       "\n",
       ".xr-sections {\n",
       "  padding-left: 0 !important;\n",
       "  display: grid;\n",
       "  grid-template-columns: 150px auto auto 1fr 20px 20px;\n",
       "}\n",
       "\n",
       ".xr-section-item {\n",
       "  display: contents;\n",
       "}\n",
       "\n",
       ".xr-section-item input {\n",
       "  display: none;\n",
       "}\n",
       "\n",
       ".xr-section-item input + label {\n",
       "  color: var(--xr-disabled-color);\n",
       "}\n",
       "\n",
       ".xr-section-item input:enabled + label {\n",
       "  cursor: pointer;\n",
       "  color: var(--xr-font-color2);\n",
       "}\n",
       "\n",
       ".xr-section-item input:enabled + label:hover {\n",
       "  color: var(--xr-font-color0);\n",
       "}\n",
       "\n",
       ".xr-section-summary {\n",
       "  grid-column: 1;\n",
       "  color: var(--xr-font-color2);\n",
       "  font-weight: 500;\n",
       "}\n",
       "\n",
       ".xr-section-summary > span {\n",
       "  display: inline-block;\n",
       "  padding-left: 0.5em;\n",
       "}\n",
       "\n",
       ".xr-section-summary-in:disabled + label {\n",
       "  color: var(--xr-font-color2);\n",
       "}\n",
       "\n",
       ".xr-section-summary-in + label:before {\n",
       "  display: inline-block;\n",
       "  content: '►';\n",
       "  font-size: 11px;\n",
       "  width: 15px;\n",
       "  text-align: center;\n",
       "}\n",
       "\n",
       ".xr-section-summary-in:disabled + label:before {\n",
       "  color: var(--xr-disabled-color);\n",
       "}\n",
       "\n",
       ".xr-section-summary-in:checked + label:before {\n",
       "  content: '▼';\n",
       "}\n",
       "\n",
       ".xr-section-summary-in:checked + label > span {\n",
       "  display: none;\n",
       "}\n",
       "\n",
       ".xr-section-summary,\n",
       ".xr-section-inline-details {\n",
       "  padding-top: 4px;\n",
       "  padding-bottom: 4px;\n",
       "}\n",
       "\n",
       ".xr-section-inline-details {\n",
       "  grid-column: 2 / -1;\n",
       "}\n",
       "\n",
       ".xr-section-details {\n",
       "  display: none;\n",
       "  grid-column: 1 / -1;\n",
       "  margin-bottom: 5px;\n",
       "}\n",
       "\n",
       ".xr-section-summary-in:checked ~ .xr-section-details {\n",
       "  display: contents;\n",
       "}\n",
       "\n",
       ".xr-array-wrap {\n",
       "  grid-column: 1 / -1;\n",
       "  display: grid;\n",
       "  grid-template-columns: 20px auto;\n",
       "}\n",
       "\n",
       ".xr-array-wrap > label {\n",
       "  grid-column: 1;\n",
       "  vertical-align: top;\n",
       "}\n",
       "\n",
       ".xr-preview {\n",
       "  color: var(--xr-font-color3);\n",
       "}\n",
       "\n",
       ".xr-array-preview,\n",
       ".xr-array-data {\n",
       "  padding: 0 5px !important;\n",
       "  grid-column: 2;\n",
       "}\n",
       "\n",
       ".xr-array-data,\n",
       ".xr-array-in:checked ~ .xr-array-preview {\n",
       "  display: none;\n",
       "}\n",
       "\n",
       ".xr-array-in:checked ~ .xr-array-data,\n",
       ".xr-array-preview {\n",
       "  display: inline-block;\n",
       "}\n",
       "\n",
       ".xr-dim-list {\n",
       "  display: inline-block !important;\n",
       "  list-style: none;\n",
       "  padding: 0 !important;\n",
       "  margin: 0;\n",
       "}\n",
       "\n",
       ".xr-dim-list li {\n",
       "  display: inline-block;\n",
       "  padding: 0;\n",
       "  margin: 0;\n",
       "}\n",
       "\n",
       ".xr-dim-list:before {\n",
       "  content: '(';\n",
       "}\n",
       "\n",
       ".xr-dim-list:after {\n",
       "  content: ')';\n",
       "}\n",
       "\n",
       ".xr-dim-list li:not(:last-child):after {\n",
       "  content: ',';\n",
       "  padding-right: 5px;\n",
       "}\n",
       "\n",
       ".xr-has-index {\n",
       "  font-weight: bold;\n",
       "}\n",
       "\n",
       ".xr-var-list,\n",
       ".xr-var-item {\n",
       "  display: contents;\n",
       "}\n",
       "\n",
       ".xr-var-item > div,\n",
       ".xr-var-item label,\n",
       ".xr-var-item > .xr-var-name span {\n",
       "  background-color: var(--xr-background-color-row-even);\n",
       "  margin-bottom: 0;\n",
       "}\n",
       "\n",
       ".xr-var-item > .xr-var-name:hover span {\n",
       "  padding-right: 5px;\n",
       "}\n",
       "\n",
       ".xr-var-list > li:nth-child(odd) > div,\n",
       ".xr-var-list > li:nth-child(odd) > label,\n",
       ".xr-var-list > li:nth-child(odd) > .xr-var-name span {\n",
       "  background-color: var(--xr-background-color-row-odd);\n",
       "}\n",
       "\n",
       ".xr-var-name {\n",
       "  grid-column: 1;\n",
       "}\n",
       "\n",
       ".xr-var-dims {\n",
       "  grid-column: 2;\n",
       "}\n",
       "\n",
       ".xr-var-dtype {\n",
       "  grid-column: 3;\n",
       "  text-align: right;\n",
       "  color: var(--xr-font-color2);\n",
       "}\n",
       "\n",
       ".xr-var-preview {\n",
       "  grid-column: 4;\n",
       "}\n",
       "\n",
       ".xr-var-name,\n",
       ".xr-var-dims,\n",
       ".xr-var-dtype,\n",
       ".xr-preview,\n",
       ".xr-attrs dt {\n",
       "  white-space: nowrap;\n",
       "  overflow: hidden;\n",
       "  text-overflow: ellipsis;\n",
       "  padding-right: 10px;\n",
       "}\n",
       "\n",
       ".xr-var-name:hover,\n",
       ".xr-var-dims:hover,\n",
       ".xr-var-dtype:hover,\n",
       ".xr-attrs dt:hover {\n",
       "  overflow: visible;\n",
       "  width: auto;\n",
       "  z-index: 1;\n",
       "}\n",
       "\n",
       ".xr-var-attrs,\n",
       ".xr-var-data {\n",
       "  display: none;\n",
       "  background-color: var(--xr-background-color) !important;\n",
       "  padding-bottom: 5px !important;\n",
       "}\n",
       "\n",
       ".xr-var-attrs-in:checked ~ .xr-var-attrs,\n",
       ".xr-var-data-in:checked ~ .xr-var-data {\n",
       "  display: block;\n",
       "}\n",
       "\n",
       ".xr-var-data > table {\n",
       "  float: right;\n",
       "}\n",
       "\n",
       ".xr-var-name span,\n",
       ".xr-var-data,\n",
       ".xr-attrs {\n",
       "  padding-left: 25px !important;\n",
       "}\n",
       "\n",
       ".xr-attrs,\n",
       ".xr-var-attrs,\n",
       ".xr-var-data {\n",
       "  grid-column: 1 / -1;\n",
       "}\n",
       "\n",
       "dl.xr-attrs {\n",
       "  padding: 0;\n",
       "  margin: 0;\n",
       "  display: grid;\n",
       "  grid-template-columns: 125px auto;\n",
       "}\n",
       "\n",
       ".xr-attrs dt,\n",
       ".xr-attrs dd {\n",
       "  padding: 0;\n",
       "  margin: 0;\n",
       "  float: left;\n",
       "  padding-right: 10px;\n",
       "  width: auto;\n",
       "}\n",
       "\n",
       ".xr-attrs dt {\n",
       "  font-weight: normal;\n",
       "  grid-column: 1;\n",
       "}\n",
       "\n",
       ".xr-attrs dt:hover span {\n",
       "  display: inline-block;\n",
       "  background: var(--xr-background-color);\n",
       "  padding-right: 10px;\n",
       "}\n",
       "\n",
       ".xr-attrs dd {\n",
       "  grid-column: 2;\n",
       "  white-space: pre-wrap;\n",
       "  word-break: break-all;\n",
       "}\n",
       "\n",
       ".xr-icon-database,\n",
       ".xr-icon-file-text2 {\n",
       "  display: inline-block;\n",
       "  vertical-align: middle;\n",
       "  width: 1em;\n",
       "  height: 1.5em !important;\n",
       "  stroke-width: 0;\n",
       "  stroke: currentColor;\n",
       "  fill: currentColor;\n",
       "}\n",
       "</style><pre class='xr-text-repr-fallback'>&lt;xarray.Dataset&gt;\n",
       "Dimensions:    (time: 93, latitude: 80, longitude: 132)\n",
       "Coordinates:\n",
       "  * longitude  (longitude) float64 -9.75 -9.65 -9.55 -9.45 ... 3.15 3.25 3.35\n",
       "  * latitude   (latitude) float64 43.85 43.75 43.65 43.55 ... 36.15 36.05 35.95\n",
       "  * time       (time) datetime64[ns] 2021-03-30 2021-03-29 ... 2019-03-01\n",
       "Data variables:\n",
       "    NO2        (time, latitude, longitude) float32 0.0 0.0 0.0 ... 0.0 0.0 0.0\n",
       "Attributes:\n",
       "    transform:      (0.1, 0.0, -9.800012009298998, 0.0, -0.1, 43.899996997613...\n",
       "    crs:            +init=epsg:4326\n",
       "    res:            (0.1, 0.1)\n",
       "    is_tiled:       0\n",
       "    nodatavals:     (0.0,)\n",
       "    scales:         (1.0,)\n",
       "    offsets:        (0.0,)\n",
       "    AREA_OR_POINT:  Area\n",
       "    regrid_method:  conservative</pre><div class='xr-wrap' style='display:none'><div class='xr-header'><div class='xr-obj-type'>xarray.Dataset</div></div><ul class='xr-sections'><li class='xr-section-item'><input id='section-400b8db1-9a2b-4db8-9379-845a4d413989' class='xr-section-summary-in' type='checkbox' disabled ><label for='section-400b8db1-9a2b-4db8-9379-845a4d413989' class='xr-section-summary'  title='Expand/collapse section'>Dimensions:</label><div class='xr-section-inline-details'><ul class='xr-dim-list'><li><span class='xr-has-index'>time</span>: 93</li><li><span class='xr-has-index'>latitude</span>: 80</li><li><span class='xr-has-index'>longitude</span>: 132</li></ul></div><div class='xr-section-details'></div></li><li class='xr-section-item'><input id='section-47c80a60-c56e-4cf3-b66e-b806bd124734' class='xr-section-summary-in' type='checkbox'  checked><label for='section-47c80a60-c56e-4cf3-b66e-b806bd124734' class='xr-section-summary' >Coordinates: <span>(3)</span></label><div class='xr-section-inline-details'></div><div class='xr-section-details'><ul class='xr-var-list'><li class='xr-var-item'><div class='xr-var-name'><span class='xr-has-index'>longitude</span></div><div class='xr-var-dims'>(longitude)</div><div class='xr-var-dtype'>float64</div><div class='xr-var-preview xr-preview'>-9.75 -9.65 -9.55 ... 3.25 3.35</div><input id='attrs-9419c63f-e350-463c-b549-943a31d13a0c' class='xr-var-attrs-in' type='checkbox' disabled><label for='attrs-9419c63f-e350-463c-b549-943a31d13a0c' title='Show/Hide attributes'><svg class='icon xr-icon-file-text2'><use xlink:href='#icon-file-text2'></use></svg></label><input id='data-cd3262cf-6bb6-45f9-911d-da7b90a57dae' class='xr-var-data-in' type='checkbox'><label for='data-cd3262cf-6bb6-45f9-911d-da7b90a57dae' title='Show/Hide data repr'><svg class='icon xr-icon-database'><use xlink:href='#icon-database'></use></svg></label><div class='xr-var-attrs'><dl class='xr-attrs'></dl></div><div class='xr-var-data'><pre>array([-9.750012, -9.650012, -9.550012, -9.450012, -9.350012, -9.250012,\n",
       "       -9.150012, -9.050012, -8.950012, -8.850012, -8.750012, -8.650012,\n",
       "       -8.550012, -8.450012, -8.350012, -8.250012, -8.150012, -8.050012,\n",
       "       -7.950012, -7.850012, -7.750012, -7.650012, -7.550012, -7.450012,\n",
       "       -7.350012, -7.250012, -7.150012, -7.050012, -6.950012, -6.850012,\n",
       "       -6.750012, -6.650012, -6.550012, -6.450012, -6.350012, -6.250012,\n",
       "       -6.150012, -6.050012, -5.950012, -5.850012, -5.750012, -5.650012,\n",
       "       -5.550012, -5.450012, -5.350012, -5.250012, -5.150012, -5.050012,\n",
       "       -4.950012, -4.850012, -4.750012, -4.650012, -4.550012, -4.450012,\n",
       "       -4.350012, -4.250012, -4.150012, -4.050012, -3.950012, -3.850012,\n",
       "       -3.750012, -3.650012, -3.550012, -3.450012, -3.350012, -3.250012,\n",
       "       -3.150012, -3.050012, -2.950012, -2.850012, -2.750012, -2.650012,\n",
       "       -2.550012, -2.450012, -2.350012, -2.250012, -2.150012, -2.050012,\n",
       "       -1.950012, -1.850012, -1.750012, -1.650012, -1.550012, -1.450012,\n",
       "       -1.350012, -1.250012, -1.150012, -1.050012, -0.950012, -0.850012,\n",
       "       -0.750012, -0.650012, -0.550012, -0.450012, -0.350012, -0.250012,\n",
       "       -0.150012, -0.050012,  0.049988,  0.149988,  0.249988,  0.349988,\n",
       "        0.449988,  0.549988,  0.649988,  0.749988,  0.849988,  0.949988,\n",
       "        1.049988,  1.149988,  1.249988,  1.349988,  1.449988,  1.549988,\n",
       "        1.649988,  1.749988,  1.849988,  1.949988,  2.049988,  2.149988,\n",
       "        2.249988,  2.349988,  2.449988,  2.549988,  2.649988,  2.749988,\n",
       "        2.849988,  2.949988,  3.049988,  3.149988,  3.249988,  3.349988])</pre></div></li><li class='xr-var-item'><div class='xr-var-name'><span class='xr-has-index'>latitude</span></div><div class='xr-var-dims'>(latitude)</div><div class='xr-var-dtype'>float64</div><div class='xr-var-preview xr-preview'>43.85 43.75 43.65 ... 36.05 35.95</div><input id='attrs-352854f8-727e-4e53-87c5-1193f4e82f61' class='xr-var-attrs-in' type='checkbox' disabled><label for='attrs-352854f8-727e-4e53-87c5-1193f4e82f61' title='Show/Hide attributes'><svg class='icon xr-icon-file-text2'><use xlink:href='#icon-file-text2'></use></svg></label><input id='data-ffea4a83-261a-49a0-8960-58f07c98495f' class='xr-var-data-in' type='checkbox'><label for='data-ffea4a83-261a-49a0-8960-58f07c98495f' title='Show/Hide data repr'><svg class='icon xr-icon-database'><use xlink:href='#icon-database'></use></svg></label><div class='xr-var-attrs'><dl class='xr-attrs'></dl></div><div class='xr-var-data'><pre>array([43.849997, 43.749997, 43.649997, 43.549997, 43.449997, 43.349997,\n",
       "       43.249997, 43.149997, 43.049997, 42.949997, 42.849997, 42.749997,\n",
       "       42.649997, 42.549997, 42.449997, 42.349997, 42.249997, 42.149997,\n",
       "       42.049997, 41.949997, 41.849997, 41.749997, 41.649997, 41.549997,\n",
       "       41.449997, 41.349997, 41.249997, 41.149997, 41.049997, 40.949997,\n",
       "       40.849997, 40.749997, 40.649997, 40.549997, 40.449997, 40.349997,\n",
       "       40.249997, 40.149997, 40.049997, 39.949997, 39.849997, 39.749997,\n",
       "       39.649997, 39.549997, 39.449997, 39.349997, 39.249997, 39.149997,\n",
       "       39.049997, 38.949997, 38.849997, 38.749997, 38.649997, 38.549997,\n",
       "       38.449997, 38.349997, 38.249997, 38.149997, 38.049997, 37.949997,\n",
       "       37.849997, 37.749997, 37.649997, 37.549997, 37.449997, 37.349997,\n",
       "       37.249997, 37.149997, 37.049997, 36.949997, 36.849997, 36.749997,\n",
       "       36.649997, 36.549997, 36.449997, 36.349997, 36.249997, 36.149997,\n",
       "       36.049997, 35.949997])</pre></div></li><li class='xr-var-item'><div class='xr-var-name'><span class='xr-has-index'>time</span></div><div class='xr-var-dims'>(time)</div><div class='xr-var-dtype'>datetime64[ns]</div><div class='xr-var-preview xr-preview'>2021-03-30 ... 2019-03-01</div><input id='attrs-e5e4b33a-7864-43a0-93af-5e0912b3101c' class='xr-var-attrs-in' type='checkbox' disabled><label for='attrs-e5e4b33a-7864-43a0-93af-5e0912b3101c' title='Show/Hide attributes'><svg class='icon xr-icon-file-text2'><use xlink:href='#icon-file-text2'></use></svg></label><input id='data-d835762b-dd6b-452d-8856-70c029626b1c' class='xr-var-data-in' type='checkbox'><label for='data-d835762b-dd6b-452d-8856-70c029626b1c' title='Show/Hide data repr'><svg class='icon xr-icon-database'><use xlink:href='#icon-database'></use></svg></label><div class='xr-var-attrs'><dl class='xr-attrs'></dl></div><div class='xr-var-data'><pre>array([&#x27;2021-03-30T00:00:00.000000000&#x27;, &#x27;2021-03-29T00:00:00.000000000&#x27;,\n",
       "       &#x27;2021-03-28T00:00:00.000000000&#x27;, &#x27;2021-03-27T00:00:00.000000000&#x27;,\n",
       "       &#x27;2021-03-26T00:00:00.000000000&#x27;, &#x27;2021-03-25T00:00:00.000000000&#x27;,\n",
       "       &#x27;2021-03-24T00:00:00.000000000&#x27;, &#x27;2021-03-23T00:00:00.000000000&#x27;,\n",
       "       &#x27;2021-03-22T00:00:00.000000000&#x27;, &#x27;2021-03-21T00:00:00.000000000&#x27;,\n",
       "       &#x27;2021-03-20T00:00:00.000000000&#x27;, &#x27;2021-03-19T00:00:00.000000000&#x27;,\n",
       "       &#x27;2021-03-18T00:00:00.000000000&#x27;, &#x27;2021-03-17T00:00:00.000000000&#x27;,\n",
       "       &#x27;2021-03-16T00:00:00.000000000&#x27;, &#x27;2021-03-15T00:00:00.000000000&#x27;,\n",
       "       &#x27;2021-03-14T00:00:00.000000000&#x27;, &#x27;2021-03-13T00:00:00.000000000&#x27;,\n",
       "       &#x27;2021-03-12T00:00:00.000000000&#x27;, &#x27;2021-03-11T00:00:00.000000000&#x27;,\n",
       "       &#x27;2021-03-10T00:00:00.000000000&#x27;, &#x27;2021-03-09T00:00:00.000000000&#x27;,\n",
       "       &#x27;2021-03-08T00:00:00.000000000&#x27;, &#x27;2021-03-07T00:00:00.000000000&#x27;,\n",
       "       &#x27;2021-03-06T00:00:00.000000000&#x27;, &#x27;2021-03-05T00:00:00.000000000&#x27;,\n",
       "       &#x27;2021-03-04T00:00:00.000000000&#x27;, &#x27;2021-03-03T00:00:00.000000000&#x27;,\n",
       "       &#x27;2021-03-02T00:00:00.000000000&#x27;, &#x27;2021-03-01T00:00:00.000000000&#x27;,\n",
       "       &#x27;2021-03-31T00:00:00.000000000&#x27;, &#x27;2020-03-31T00:00:00.000000000&#x27;,\n",
       "       &#x27;2020-03-30T00:00:00.000000000&#x27;, &#x27;2020-03-29T00:00:00.000000000&#x27;,\n",
       "       &#x27;2020-03-28T00:00:00.000000000&#x27;, &#x27;2020-03-27T00:00:00.000000000&#x27;,\n",
       "       &#x27;2020-03-26T00:00:00.000000000&#x27;, &#x27;2020-03-25T00:00:00.000000000&#x27;,\n",
       "       &#x27;2020-03-24T00:00:00.000000000&#x27;, &#x27;2020-03-23T00:00:00.000000000&#x27;,\n",
       "       &#x27;2020-03-22T00:00:00.000000000&#x27;, &#x27;2020-03-21T00:00:00.000000000&#x27;,\n",
       "       &#x27;2020-03-20T00:00:00.000000000&#x27;, &#x27;2020-03-19T00:00:00.000000000&#x27;,\n",
       "       &#x27;2020-03-18T00:00:00.000000000&#x27;, &#x27;2020-03-17T00:00:00.000000000&#x27;,\n",
       "       &#x27;2020-03-16T00:00:00.000000000&#x27;, &#x27;2020-03-15T00:00:00.000000000&#x27;,\n",
       "       &#x27;2020-03-14T00:00:00.000000000&#x27;, &#x27;2020-03-13T00:00:00.000000000&#x27;,\n",
       "       &#x27;2020-03-12T00:00:00.000000000&#x27;, &#x27;2020-03-11T00:00:00.000000000&#x27;,\n",
       "       &#x27;2020-03-10T00:00:00.000000000&#x27;, &#x27;2020-03-09T00:00:00.000000000&#x27;,\n",
       "       &#x27;2020-03-08T00:00:00.000000000&#x27;, &#x27;2020-03-07T00:00:00.000000000&#x27;,\n",
       "       &#x27;2020-03-06T00:00:00.000000000&#x27;, &#x27;2020-03-05T00:00:00.000000000&#x27;,\n",
       "       &#x27;2020-03-04T00:00:00.000000000&#x27;, &#x27;2020-03-03T00:00:00.000000000&#x27;,\n",
       "       &#x27;2020-03-02T00:00:00.000000000&#x27;, &#x27;2020-03-01T00:00:00.000000000&#x27;,\n",
       "       &#x27;2019-03-31T00:00:00.000000000&#x27;, &#x27;2019-03-30T00:00:00.000000000&#x27;,\n",
       "       &#x27;2019-03-29T00:00:00.000000000&#x27;, &#x27;2019-03-28T00:00:00.000000000&#x27;,\n",
       "       &#x27;2019-03-27T00:00:00.000000000&#x27;, &#x27;2019-03-26T00:00:00.000000000&#x27;,\n",
       "       &#x27;2019-03-25T00:00:00.000000000&#x27;, &#x27;2019-03-24T00:00:00.000000000&#x27;,\n",
       "       &#x27;2019-03-23T00:00:00.000000000&#x27;, &#x27;2019-03-22T00:00:00.000000000&#x27;,\n",
       "       &#x27;2019-03-21T00:00:00.000000000&#x27;, &#x27;2019-03-20T00:00:00.000000000&#x27;,\n",
       "       &#x27;2019-03-19T00:00:00.000000000&#x27;, &#x27;2019-03-18T00:00:00.000000000&#x27;,\n",
       "       &#x27;2019-03-17T00:00:00.000000000&#x27;, &#x27;2019-03-16T00:00:00.000000000&#x27;,\n",
       "       &#x27;2019-03-15T00:00:00.000000000&#x27;, &#x27;2019-03-14T00:00:00.000000000&#x27;,\n",
       "       &#x27;2019-03-13T00:00:00.000000000&#x27;, &#x27;2019-03-12T00:00:00.000000000&#x27;,\n",
       "       &#x27;2019-03-11T00:00:00.000000000&#x27;, &#x27;2019-03-10T00:00:00.000000000&#x27;,\n",
       "       &#x27;2019-03-09T00:00:00.000000000&#x27;, &#x27;2019-03-08T00:00:00.000000000&#x27;,\n",
       "       &#x27;2019-03-07T00:00:00.000000000&#x27;, &#x27;2019-03-06T00:00:00.000000000&#x27;,\n",
       "       &#x27;2019-03-05T00:00:00.000000000&#x27;, &#x27;2019-03-04T00:00:00.000000000&#x27;,\n",
       "       &#x27;2019-03-03T00:00:00.000000000&#x27;, &#x27;2019-03-02T00:00:00.000000000&#x27;,\n",
       "       &#x27;2019-03-01T00:00:00.000000000&#x27;], dtype=&#x27;datetime64[ns]&#x27;)</pre></div></li></ul></div></li><li class='xr-section-item'><input id='section-c3f6e0ee-d8aa-4731-bd52-a383525d9167' class='xr-section-summary-in' type='checkbox'  checked><label for='section-c3f6e0ee-d8aa-4731-bd52-a383525d9167' class='xr-section-summary' >Data variables: <span>(1)</span></label><div class='xr-section-inline-details'></div><div class='xr-section-details'><ul class='xr-var-list'><li class='xr-var-item'><div class='xr-var-name'><span>NO2</span></div><div class='xr-var-dims'>(time, latitude, longitude)</div><div class='xr-var-dtype'>float32</div><div class='xr-var-preview xr-preview'>0.0 0.0 0.0 0.0 ... 0.0 0.0 0.0 0.0</div><input id='attrs-ef6300b5-20c4-4702-a9b5-a1efb0ff6386' class='xr-var-attrs-in' type='checkbox' ><label for='attrs-ef6300b5-20c4-4702-a9b5-a1efb0ff6386' title='Show/Hide attributes'><svg class='icon xr-icon-file-text2'><use xlink:href='#icon-file-text2'></use></svg></label><input id='data-a4e80155-b22a-4f54-95c8-37346ab9690b' class='xr-var-data-in' type='checkbox'><label for='data-a4e80155-b22a-4f54-95c8-37346ab9690b' title='Show/Hide data repr'><svg class='icon xr-icon-database'><use xlink:href='#icon-database'></use></svg></label><div class='xr-var-attrs'><dl class='xr-attrs'><dt><span>units :</span></dt><dd>µg m-3</dd><dt><span>long_name :</span></dt><dd>Nitrogen Dioxide</dd></dl></div><div class='xr-var-data'><pre>array([[[0., 0., 0., ..., 0., 0., 0.],\n",
       "        [0., 0., 0., ..., 0., 0., 0.],\n",
       "        [0., 0., 0., ..., 0., 0., 0.],\n",
       "        ...,\n",
       "        [0., 0., 0., ..., 0., 0., 0.],\n",
       "        [0., 0., 0., ..., 0., 0., 0.],\n",
       "        [0., 0., 0., ..., 0., 0., 0.]],\n",
       "\n",
       "       [[0., 0., 0., ..., 0., 0., 0.],\n",
       "        [0., 0., 0., ..., 0., 0., 0.],\n",
       "        [0., 0., 0., ..., 0., 0., 0.],\n",
       "        ...,\n",
       "        [0., 0., 0., ..., 0., 0., 0.],\n",
       "        [0., 0., 0., ..., 0., 0., 0.],\n",
       "        [0., 0., 0., ..., 0., 0., 0.]],\n",
       "\n",
       "       [[0., 0., 0., ..., 0., 0., 0.],\n",
       "        [0., 0., 0., ..., 0., 0., 0.],\n",
       "        [0., 0., 0., ..., 0., 0., 0.],\n",
       "        ...,\n",
       "...\n",
       "        ...,\n",
       "        [0., 0., 0., ..., 0., 0., 0.],\n",
       "        [0., 0., 0., ..., 0., 0., 0.],\n",
       "        [0., 0., 0., ..., 0., 0., 0.]],\n",
       "\n",
       "       [[0., 0., 0., ..., 0., 0., 0.],\n",
       "        [0., 0., 0., ..., 0., 0., 0.],\n",
       "        [0., 0., 0., ..., 0., 0., 0.],\n",
       "        ...,\n",
       "        [0., 0., 0., ..., 0., 0., 0.],\n",
       "        [0., 0., 0., ..., 0., 0., 0.],\n",
       "        [0., 0., 0., ..., 0., 0., 0.]],\n",
       "\n",
       "       [[0., 0., 0., ..., 0., 0., 0.],\n",
       "        [0., 0., 0., ..., 0., 0., 0.],\n",
       "        [0., 0., 0., ..., 0., 0., 0.],\n",
       "        ...,\n",
       "        [0., 0., 0., ..., 0., 0., 0.],\n",
       "        [0., 0., 0., ..., 0., 0., 0.],\n",
       "        [0., 0., 0., ..., 0., 0., 0.]]], dtype=float32)</pre></div></li></ul></div></li><li class='xr-section-item'><input id='section-96893f2e-b1b1-4aec-a9cd-83a91ad283ae' class='xr-section-summary-in' type='checkbox'  checked><label for='section-96893f2e-b1b1-4aec-a9cd-83a91ad283ae' class='xr-section-summary' >Attributes: <span>(9)</span></label><div class='xr-section-inline-details'></div><div class='xr-section-details'><dl class='xr-attrs'><dt><span>transform :</span></dt><dd>(0.1, 0.0, -9.800012009298998, 0.0, -0.1, 43.899996997613364)</dd><dt><span>crs :</span></dt><dd>+init=epsg:4326</dd><dt><span>res :</span></dt><dd>(0.1, 0.1)</dd><dt><span>is_tiled :</span></dt><dd>0</dd><dt><span>nodatavals :</span></dt><dd>(0.0,)</dd><dt><span>scales :</span></dt><dd>(1.0,)</dd><dt><span>offsets :</span></dt><dd>(0.0,)</dd><dt><span>AREA_OR_POINT :</span></dt><dd>Area</dd><dt><span>regrid_method :</span></dt><dd>conservative</dd></dl></div></li></ul></div></div>"
      ],
      "text/plain": [
       "<xarray.Dataset>\n",
       "Dimensions:    (time: 93, latitude: 80, longitude: 132)\n",
       "Coordinates:\n",
       "  * longitude  (longitude) float64 -9.75 -9.65 -9.55 -9.45 ... 3.15 3.25 3.35\n",
       "  * latitude   (latitude) float64 43.85 43.75 43.65 43.55 ... 36.15 36.05 35.95\n",
       "  * time       (time) datetime64[ns] 2021-03-30 2021-03-29 ... 2019-03-01\n",
       "Data variables:\n",
       "    NO2        (time, latitude, longitude) float32 0.0 0.0 0.0 ... 0.0 0.0 0.0\n",
       "Attributes:\n",
       "    transform:      (0.1, 0.0, -9.800012009298998, 0.0, -0.1, 43.899996997613...\n",
       "    crs:            +init=epsg:4326\n",
       "    res:            (0.1, 0.1)\n",
       "    is_tiled:       0\n",
       "    nodatavals:     (0.0,)\n",
       "    scales:         (1.0,)\n",
       "    offsets:        (0.0,)\n",
       "    AREA_OR_POINT:  Area\n",
       "    regrid_method:  conservative"
      ]
     },
     "execution_count": 49,
     "metadata": {},
     "output_type": "execute_result"
    }
   ],
   "source": [
    "geotiff_ds = getData( INPUT_DATA_DIR + '/' + variable_name + '_'+ country_code + '_ADAMAPI_20*/*.tif', variable_name, metadata_variable, factor=1.e9, grid_out=output_grid)\n",
    "geotiff_ds[variable_name].attrs = {'units' : variable_unit, 'long_name' : variable_long_name }\n",
    "geotiff_ds"
   ]
  },
  {
   "cell_type": "markdown",
   "id": "compliant-bahrain",
   "metadata": {},
   "source": [
    "#### Analyze data"
   ]
  },
  {
   "cell_type": "markdown",
   "id": "indirect-english",
   "metadata": {},
   "source": [
    "Make yearly average for the month we study"
   ]
  },
  {
   "cell_type": "code",
   "execution_count": 50,
   "id": "indie-reconstruction",
   "metadata": {},
   "outputs": [],
   "source": [
    "geotiff_dm = geotiff_ds.groupby('time.year').mean('time', keep_attrs=True)"
   ]
  },
  {
   "cell_type": "code",
   "execution_count": 51,
   "id": "dental-freight",
   "metadata": {
    "tags": []
   },
   "outputs": [
    {
     "data": {
      "text/html": [
       "<div><svg style=\"position: absolute; width: 0; height: 0; overflow: hidden\">\n",
       "<defs>\n",
       "<symbol id=\"icon-database\" viewBox=\"0 0 32 32\">\n",
       "<path d=\"M16 0c-8.837 0-16 2.239-16 5v4c0 2.761 7.163 5 16 5s16-2.239 16-5v-4c0-2.761-7.163-5-16-5z\"></path>\n",
       "<path d=\"M16 17c-8.837 0-16-2.239-16-5v6c0 2.761 7.163 5 16 5s16-2.239 16-5v-6c0 2.761-7.163 5-16 5z\"></path>\n",
       "<path d=\"M16 26c-8.837 0-16-2.239-16-5v6c0 2.761 7.163 5 16 5s16-2.239 16-5v-6c0 2.761-7.163 5-16 5z\"></path>\n",
       "</symbol>\n",
       "<symbol id=\"icon-file-text2\" viewBox=\"0 0 32 32\">\n",
       "<path d=\"M28.681 7.159c-0.694-0.947-1.662-2.053-2.724-3.116s-2.169-2.030-3.116-2.724c-1.612-1.182-2.393-1.319-2.841-1.319h-15.5c-1.378 0-2.5 1.121-2.5 2.5v27c0 1.378 1.122 2.5 2.5 2.5h23c1.378 0 2.5-1.122 2.5-2.5v-19.5c0-0.448-0.137-1.23-1.319-2.841zM24.543 5.457c0.959 0.959 1.712 1.825 2.268 2.543h-4.811v-4.811c0.718 0.556 1.584 1.309 2.543 2.268zM28 29.5c0 0.271-0.229 0.5-0.5 0.5h-23c-0.271 0-0.5-0.229-0.5-0.5v-27c0-0.271 0.229-0.5 0.5-0.5 0 0 15.499-0 15.5 0v7c0 0.552 0.448 1 1 1h7v19.5z\"></path>\n",
       "<path d=\"M23 26h-14c-0.552 0-1-0.448-1-1s0.448-1 1-1h14c0.552 0 1 0.448 1 1s-0.448 1-1 1z\"></path>\n",
       "<path d=\"M23 22h-14c-0.552 0-1-0.448-1-1s0.448-1 1-1h14c0.552 0 1 0.448 1 1s-0.448 1-1 1z\"></path>\n",
       "<path d=\"M23 18h-14c-0.552 0-1-0.448-1-1s0.448-1 1-1h14c0.552 0 1 0.448 1 1s-0.448 1-1 1z\"></path>\n",
       "</symbol>\n",
       "</defs>\n",
       "</svg>\n",
       "<style>/* CSS stylesheet for displaying xarray objects in jupyterlab.\n",
       " *\n",
       " */\n",
       "\n",
       ":root {\n",
       "  --xr-font-color0: var(--jp-content-font-color0, rgba(0, 0, 0, 1));\n",
       "  --xr-font-color2: var(--jp-content-font-color2, rgba(0, 0, 0, 0.54));\n",
       "  --xr-font-color3: var(--jp-content-font-color3, rgba(0, 0, 0, 0.38));\n",
       "  --xr-border-color: var(--jp-border-color2, #e0e0e0);\n",
       "  --xr-disabled-color: var(--jp-layout-color3, #bdbdbd);\n",
       "  --xr-background-color: var(--jp-layout-color0, white);\n",
       "  --xr-background-color-row-even: var(--jp-layout-color1, white);\n",
       "  --xr-background-color-row-odd: var(--jp-layout-color2, #eeeeee);\n",
       "}\n",
       "\n",
       "html[theme=dark],\n",
       "body.vscode-dark {\n",
       "  --xr-font-color0: rgba(255, 255, 255, 1);\n",
       "  --xr-font-color2: rgba(255, 255, 255, 0.54);\n",
       "  --xr-font-color3: rgba(255, 255, 255, 0.38);\n",
       "  --xr-border-color: #1F1F1F;\n",
       "  --xr-disabled-color: #515151;\n",
       "  --xr-background-color: #111111;\n",
       "  --xr-background-color-row-even: #111111;\n",
       "  --xr-background-color-row-odd: #313131;\n",
       "}\n",
       "\n",
       ".xr-wrap {\n",
       "  display: block !important;\n",
       "  min-width: 300px;\n",
       "  max-width: 700px;\n",
       "}\n",
       "\n",
       ".xr-text-repr-fallback {\n",
       "  /* fallback to plain text repr when CSS is not injected (untrusted notebook) */\n",
       "  display: none;\n",
       "}\n",
       "\n",
       ".xr-header {\n",
       "  padding-top: 6px;\n",
       "  padding-bottom: 6px;\n",
       "  margin-bottom: 4px;\n",
       "  border-bottom: solid 1px var(--xr-border-color);\n",
       "}\n",
       "\n",
       ".xr-header > div,\n",
       ".xr-header > ul {\n",
       "  display: inline;\n",
       "  margin-top: 0;\n",
       "  margin-bottom: 0;\n",
       "}\n",
       "\n",
       ".xr-obj-type,\n",
       ".xr-array-name {\n",
       "  margin-left: 2px;\n",
       "  margin-right: 10px;\n",
       "}\n",
       "\n",
       ".xr-obj-type {\n",
       "  color: var(--xr-font-color2);\n",
       "}\n",
       "\n",
       ".xr-sections {\n",
       "  padding-left: 0 !important;\n",
       "  display: grid;\n",
       "  grid-template-columns: 150px auto auto 1fr 20px 20px;\n",
       "}\n",
       "\n",
       ".xr-section-item {\n",
       "  display: contents;\n",
       "}\n",
       "\n",
       ".xr-section-item input {\n",
       "  display: none;\n",
       "}\n",
       "\n",
       ".xr-section-item input + label {\n",
       "  color: var(--xr-disabled-color);\n",
       "}\n",
       "\n",
       ".xr-section-item input:enabled + label {\n",
       "  cursor: pointer;\n",
       "  color: var(--xr-font-color2);\n",
       "}\n",
       "\n",
       ".xr-section-item input:enabled + label:hover {\n",
       "  color: var(--xr-font-color0);\n",
       "}\n",
       "\n",
       ".xr-section-summary {\n",
       "  grid-column: 1;\n",
       "  color: var(--xr-font-color2);\n",
       "  font-weight: 500;\n",
       "}\n",
       "\n",
       ".xr-section-summary > span {\n",
       "  display: inline-block;\n",
       "  padding-left: 0.5em;\n",
       "}\n",
       "\n",
       ".xr-section-summary-in:disabled + label {\n",
       "  color: var(--xr-font-color2);\n",
       "}\n",
       "\n",
       ".xr-section-summary-in + label:before {\n",
       "  display: inline-block;\n",
       "  content: '►';\n",
       "  font-size: 11px;\n",
       "  width: 15px;\n",
       "  text-align: center;\n",
       "}\n",
       "\n",
       ".xr-section-summary-in:disabled + label:before {\n",
       "  color: var(--xr-disabled-color);\n",
       "}\n",
       "\n",
       ".xr-section-summary-in:checked + label:before {\n",
       "  content: '▼';\n",
       "}\n",
       "\n",
       ".xr-section-summary-in:checked + label > span {\n",
       "  display: none;\n",
       "}\n",
       "\n",
       ".xr-section-summary,\n",
       ".xr-section-inline-details {\n",
       "  padding-top: 4px;\n",
       "  padding-bottom: 4px;\n",
       "}\n",
       "\n",
       ".xr-section-inline-details {\n",
       "  grid-column: 2 / -1;\n",
       "}\n",
       "\n",
       ".xr-section-details {\n",
       "  display: none;\n",
       "  grid-column: 1 / -1;\n",
       "  margin-bottom: 5px;\n",
       "}\n",
       "\n",
       ".xr-section-summary-in:checked ~ .xr-section-details {\n",
       "  display: contents;\n",
       "}\n",
       "\n",
       ".xr-array-wrap {\n",
       "  grid-column: 1 / -1;\n",
       "  display: grid;\n",
       "  grid-template-columns: 20px auto;\n",
       "}\n",
       "\n",
       ".xr-array-wrap > label {\n",
       "  grid-column: 1;\n",
       "  vertical-align: top;\n",
       "}\n",
       "\n",
       ".xr-preview {\n",
       "  color: var(--xr-font-color3);\n",
       "}\n",
       "\n",
       ".xr-array-preview,\n",
       ".xr-array-data {\n",
       "  padding: 0 5px !important;\n",
       "  grid-column: 2;\n",
       "}\n",
       "\n",
       ".xr-array-data,\n",
       ".xr-array-in:checked ~ .xr-array-preview {\n",
       "  display: none;\n",
       "}\n",
       "\n",
       ".xr-array-in:checked ~ .xr-array-data,\n",
       ".xr-array-preview {\n",
       "  display: inline-block;\n",
       "}\n",
       "\n",
       ".xr-dim-list {\n",
       "  display: inline-block !important;\n",
       "  list-style: none;\n",
       "  padding: 0 !important;\n",
       "  margin: 0;\n",
       "}\n",
       "\n",
       ".xr-dim-list li {\n",
       "  display: inline-block;\n",
       "  padding: 0;\n",
       "  margin: 0;\n",
       "}\n",
       "\n",
       ".xr-dim-list:before {\n",
       "  content: '(';\n",
       "}\n",
       "\n",
       ".xr-dim-list:after {\n",
       "  content: ')';\n",
       "}\n",
       "\n",
       ".xr-dim-list li:not(:last-child):after {\n",
       "  content: ',';\n",
       "  padding-right: 5px;\n",
       "}\n",
       "\n",
       ".xr-has-index {\n",
       "  font-weight: bold;\n",
       "}\n",
       "\n",
       ".xr-var-list,\n",
       ".xr-var-item {\n",
       "  display: contents;\n",
       "}\n",
       "\n",
       ".xr-var-item > div,\n",
       ".xr-var-item label,\n",
       ".xr-var-item > .xr-var-name span {\n",
       "  background-color: var(--xr-background-color-row-even);\n",
       "  margin-bottom: 0;\n",
       "}\n",
       "\n",
       ".xr-var-item > .xr-var-name:hover span {\n",
       "  padding-right: 5px;\n",
       "}\n",
       "\n",
       ".xr-var-list > li:nth-child(odd) > div,\n",
       ".xr-var-list > li:nth-child(odd) > label,\n",
       ".xr-var-list > li:nth-child(odd) > .xr-var-name span {\n",
       "  background-color: var(--xr-background-color-row-odd);\n",
       "}\n",
       "\n",
       ".xr-var-name {\n",
       "  grid-column: 1;\n",
       "}\n",
       "\n",
       ".xr-var-dims {\n",
       "  grid-column: 2;\n",
       "}\n",
       "\n",
       ".xr-var-dtype {\n",
       "  grid-column: 3;\n",
       "  text-align: right;\n",
       "  color: var(--xr-font-color2);\n",
       "}\n",
       "\n",
       ".xr-var-preview {\n",
       "  grid-column: 4;\n",
       "}\n",
       "\n",
       ".xr-var-name,\n",
       ".xr-var-dims,\n",
       ".xr-var-dtype,\n",
       ".xr-preview,\n",
       ".xr-attrs dt {\n",
       "  white-space: nowrap;\n",
       "  overflow: hidden;\n",
       "  text-overflow: ellipsis;\n",
       "  padding-right: 10px;\n",
       "}\n",
       "\n",
       ".xr-var-name:hover,\n",
       ".xr-var-dims:hover,\n",
       ".xr-var-dtype:hover,\n",
       ".xr-attrs dt:hover {\n",
       "  overflow: visible;\n",
       "  width: auto;\n",
       "  z-index: 1;\n",
       "}\n",
       "\n",
       ".xr-var-attrs,\n",
       ".xr-var-data {\n",
       "  display: none;\n",
       "  background-color: var(--xr-background-color) !important;\n",
       "  padding-bottom: 5px !important;\n",
       "}\n",
       "\n",
       ".xr-var-attrs-in:checked ~ .xr-var-attrs,\n",
       ".xr-var-data-in:checked ~ .xr-var-data {\n",
       "  display: block;\n",
       "}\n",
       "\n",
       ".xr-var-data > table {\n",
       "  float: right;\n",
       "}\n",
       "\n",
       ".xr-var-name span,\n",
       ".xr-var-data,\n",
       ".xr-attrs {\n",
       "  padding-left: 25px !important;\n",
       "}\n",
       "\n",
       ".xr-attrs,\n",
       ".xr-var-attrs,\n",
       ".xr-var-data {\n",
       "  grid-column: 1 / -1;\n",
       "}\n",
       "\n",
       "dl.xr-attrs {\n",
       "  padding: 0;\n",
       "  margin: 0;\n",
       "  display: grid;\n",
       "  grid-template-columns: 125px auto;\n",
       "}\n",
       "\n",
       ".xr-attrs dt,\n",
       ".xr-attrs dd {\n",
       "  padding: 0;\n",
       "  margin: 0;\n",
       "  float: left;\n",
       "  padding-right: 10px;\n",
       "  width: auto;\n",
       "}\n",
       "\n",
       ".xr-attrs dt {\n",
       "  font-weight: normal;\n",
       "  grid-column: 1;\n",
       "}\n",
       "\n",
       ".xr-attrs dt:hover span {\n",
       "  display: inline-block;\n",
       "  background: var(--xr-background-color);\n",
       "  padding-right: 10px;\n",
       "}\n",
       "\n",
       ".xr-attrs dd {\n",
       "  grid-column: 2;\n",
       "  white-space: pre-wrap;\n",
       "  word-break: break-all;\n",
       "}\n",
       "\n",
       ".xr-icon-database,\n",
       ".xr-icon-file-text2 {\n",
       "  display: inline-block;\n",
       "  vertical-align: middle;\n",
       "  width: 1em;\n",
       "  height: 1.5em !important;\n",
       "  stroke-width: 0;\n",
       "  stroke: currentColor;\n",
       "  fill: currentColor;\n",
       "}\n",
       "</style><pre class='xr-text-repr-fallback'>&lt;xarray.Dataset&gt;\n",
       "Dimensions:    (year: 3, latitude: 80, longitude: 132)\n",
       "Coordinates:\n",
       "  * longitude  (longitude) float64 -9.75 -9.65 -9.55 -9.45 ... 3.15 3.25 3.35\n",
       "  * latitude   (latitude) float64 43.85 43.75 43.65 43.55 ... 36.15 36.05 35.95\n",
       "  * year       (year) int64 2019 2020 2021\n",
       "Data variables:\n",
       "    NO2        (year, latitude, longitude) float32 0.0 0.0 0.0 ... 0.0 0.0 0.0\n",
       "Attributes:\n",
       "    transform:      (0.1, 0.0, -9.800012009298998, 0.0, -0.1, 43.899996997613...\n",
       "    crs:            +init=epsg:4326\n",
       "    res:            (0.1, 0.1)\n",
       "    is_tiled:       0\n",
       "    nodatavals:     (0.0,)\n",
       "    scales:         (1.0,)\n",
       "    offsets:        (0.0,)\n",
       "    AREA_OR_POINT:  Area\n",
       "    regrid_method:  conservative</pre><div class='xr-wrap' style='display:none'><div class='xr-header'><div class='xr-obj-type'>xarray.Dataset</div></div><ul class='xr-sections'><li class='xr-section-item'><input id='section-541795ba-404b-4833-8151-33b92467b494' class='xr-section-summary-in' type='checkbox' disabled ><label for='section-541795ba-404b-4833-8151-33b92467b494' class='xr-section-summary'  title='Expand/collapse section'>Dimensions:</label><div class='xr-section-inline-details'><ul class='xr-dim-list'><li><span class='xr-has-index'>year</span>: 3</li><li><span class='xr-has-index'>latitude</span>: 80</li><li><span class='xr-has-index'>longitude</span>: 132</li></ul></div><div class='xr-section-details'></div></li><li class='xr-section-item'><input id='section-9a2055cd-a4ca-4c0f-9125-44e36077945e' class='xr-section-summary-in' type='checkbox'  checked><label for='section-9a2055cd-a4ca-4c0f-9125-44e36077945e' class='xr-section-summary' >Coordinates: <span>(3)</span></label><div class='xr-section-inline-details'></div><div class='xr-section-details'><ul class='xr-var-list'><li class='xr-var-item'><div class='xr-var-name'><span class='xr-has-index'>longitude</span></div><div class='xr-var-dims'>(longitude)</div><div class='xr-var-dtype'>float64</div><div class='xr-var-preview xr-preview'>-9.75 -9.65 -9.55 ... 3.25 3.35</div><input id='attrs-cf4d4cd6-0126-4b66-b783-f63045fa4132' class='xr-var-attrs-in' type='checkbox' disabled><label for='attrs-cf4d4cd6-0126-4b66-b783-f63045fa4132' title='Show/Hide attributes'><svg class='icon xr-icon-file-text2'><use xlink:href='#icon-file-text2'></use></svg></label><input id='data-285a23a4-04af-4245-96c4-e97121c40501' class='xr-var-data-in' type='checkbox'><label for='data-285a23a4-04af-4245-96c4-e97121c40501' title='Show/Hide data repr'><svg class='icon xr-icon-database'><use xlink:href='#icon-database'></use></svg></label><div class='xr-var-attrs'><dl class='xr-attrs'></dl></div><div class='xr-var-data'><pre>array([-9.750012, -9.650012, -9.550012, -9.450012, -9.350012, -9.250012,\n",
       "       -9.150012, -9.050012, -8.950012, -8.850012, -8.750012, -8.650012,\n",
       "       -8.550012, -8.450012, -8.350012, -8.250012, -8.150012, -8.050012,\n",
       "       -7.950012, -7.850012, -7.750012, -7.650012, -7.550012, -7.450012,\n",
       "       -7.350012, -7.250012, -7.150012, -7.050012, -6.950012, -6.850012,\n",
       "       -6.750012, -6.650012, -6.550012, -6.450012, -6.350012, -6.250012,\n",
       "       -6.150012, -6.050012, -5.950012, -5.850012, -5.750012, -5.650012,\n",
       "       -5.550012, -5.450012, -5.350012, -5.250012, -5.150012, -5.050012,\n",
       "       -4.950012, -4.850012, -4.750012, -4.650012, -4.550012, -4.450012,\n",
       "       -4.350012, -4.250012, -4.150012, -4.050012, -3.950012, -3.850012,\n",
       "       -3.750012, -3.650012, -3.550012, -3.450012, -3.350012, -3.250012,\n",
       "       -3.150012, -3.050012, -2.950012, -2.850012, -2.750012, -2.650012,\n",
       "       -2.550012, -2.450012, -2.350012, -2.250012, -2.150012, -2.050012,\n",
       "       -1.950012, -1.850012, -1.750012, -1.650012, -1.550012, -1.450012,\n",
       "       -1.350012, -1.250012, -1.150012, -1.050012, -0.950012, -0.850012,\n",
       "       -0.750012, -0.650012, -0.550012, -0.450012, -0.350012, -0.250012,\n",
       "       -0.150012, -0.050012,  0.049988,  0.149988,  0.249988,  0.349988,\n",
       "        0.449988,  0.549988,  0.649988,  0.749988,  0.849988,  0.949988,\n",
       "        1.049988,  1.149988,  1.249988,  1.349988,  1.449988,  1.549988,\n",
       "        1.649988,  1.749988,  1.849988,  1.949988,  2.049988,  2.149988,\n",
       "        2.249988,  2.349988,  2.449988,  2.549988,  2.649988,  2.749988,\n",
       "        2.849988,  2.949988,  3.049988,  3.149988,  3.249988,  3.349988])</pre></div></li><li class='xr-var-item'><div class='xr-var-name'><span class='xr-has-index'>latitude</span></div><div class='xr-var-dims'>(latitude)</div><div class='xr-var-dtype'>float64</div><div class='xr-var-preview xr-preview'>43.85 43.75 43.65 ... 36.05 35.95</div><input id='attrs-8a8bd7e3-b332-4411-891e-11d3e8d234a8' class='xr-var-attrs-in' type='checkbox' disabled><label for='attrs-8a8bd7e3-b332-4411-891e-11d3e8d234a8' title='Show/Hide attributes'><svg class='icon xr-icon-file-text2'><use xlink:href='#icon-file-text2'></use></svg></label><input id='data-c2695699-8998-496e-9377-39ed38652aba' class='xr-var-data-in' type='checkbox'><label for='data-c2695699-8998-496e-9377-39ed38652aba' title='Show/Hide data repr'><svg class='icon xr-icon-database'><use xlink:href='#icon-database'></use></svg></label><div class='xr-var-attrs'><dl class='xr-attrs'></dl></div><div class='xr-var-data'><pre>array([43.849997, 43.749997, 43.649997, 43.549997, 43.449997, 43.349997,\n",
       "       43.249997, 43.149997, 43.049997, 42.949997, 42.849997, 42.749997,\n",
       "       42.649997, 42.549997, 42.449997, 42.349997, 42.249997, 42.149997,\n",
       "       42.049997, 41.949997, 41.849997, 41.749997, 41.649997, 41.549997,\n",
       "       41.449997, 41.349997, 41.249997, 41.149997, 41.049997, 40.949997,\n",
       "       40.849997, 40.749997, 40.649997, 40.549997, 40.449997, 40.349997,\n",
       "       40.249997, 40.149997, 40.049997, 39.949997, 39.849997, 39.749997,\n",
       "       39.649997, 39.549997, 39.449997, 39.349997, 39.249997, 39.149997,\n",
       "       39.049997, 38.949997, 38.849997, 38.749997, 38.649997, 38.549997,\n",
       "       38.449997, 38.349997, 38.249997, 38.149997, 38.049997, 37.949997,\n",
       "       37.849997, 37.749997, 37.649997, 37.549997, 37.449997, 37.349997,\n",
       "       37.249997, 37.149997, 37.049997, 36.949997, 36.849997, 36.749997,\n",
       "       36.649997, 36.549997, 36.449997, 36.349997, 36.249997, 36.149997,\n",
       "       36.049997, 35.949997])</pre></div></li><li class='xr-var-item'><div class='xr-var-name'><span class='xr-has-index'>year</span></div><div class='xr-var-dims'>(year)</div><div class='xr-var-dtype'>int64</div><div class='xr-var-preview xr-preview'>2019 2020 2021</div><input id='attrs-6e675de0-bcd0-4c56-b1f8-6f020912f792' class='xr-var-attrs-in' type='checkbox' disabled><label for='attrs-6e675de0-bcd0-4c56-b1f8-6f020912f792' title='Show/Hide attributes'><svg class='icon xr-icon-file-text2'><use xlink:href='#icon-file-text2'></use></svg></label><input id='data-b9e81fae-b940-48ec-aff3-bb4b0e99ec2a' class='xr-var-data-in' type='checkbox'><label for='data-b9e81fae-b940-48ec-aff3-bb4b0e99ec2a' title='Show/Hide data repr'><svg class='icon xr-icon-database'><use xlink:href='#icon-database'></use></svg></label><div class='xr-var-attrs'><dl class='xr-attrs'></dl></div><div class='xr-var-data'><pre>array([2019, 2020, 2021])</pre></div></li></ul></div></li><li class='xr-section-item'><input id='section-4625080e-75e1-4397-bb4a-325006e16886' class='xr-section-summary-in' type='checkbox'  checked><label for='section-4625080e-75e1-4397-bb4a-325006e16886' class='xr-section-summary' >Data variables: <span>(1)</span></label><div class='xr-section-inline-details'></div><div class='xr-section-details'><ul class='xr-var-list'><li class='xr-var-item'><div class='xr-var-name'><span>NO2</span></div><div class='xr-var-dims'>(year, latitude, longitude)</div><div class='xr-var-dtype'>float32</div><div class='xr-var-preview xr-preview'>0.0 0.0 0.0 0.0 ... 0.0 0.0 0.0 0.0</div><input id='attrs-acd74017-41d6-4599-b0eb-6f86d9f78abe' class='xr-var-attrs-in' type='checkbox' ><label for='attrs-acd74017-41d6-4599-b0eb-6f86d9f78abe' title='Show/Hide attributes'><svg class='icon xr-icon-file-text2'><use xlink:href='#icon-file-text2'></use></svg></label><input id='data-1005d219-4e58-42a6-a9ea-3ee61b3340fe' class='xr-var-data-in' type='checkbox'><label for='data-1005d219-4e58-42a6-a9ea-3ee61b3340fe' title='Show/Hide data repr'><svg class='icon xr-icon-database'><use xlink:href='#icon-database'></use></svg></label><div class='xr-var-attrs'><dl class='xr-attrs'><dt><span>units :</span></dt><dd>µg m-3</dd><dt><span>long_name :</span></dt><dd>Nitrogen Dioxide</dd></dl></div><div class='xr-var-data'><pre>array([[[0., 0., 0., ..., 0., 0., 0.],\n",
       "        [0., 0., 0., ..., 0., 0., 0.],\n",
       "        [0., 0., 0., ..., 0., 0., 0.],\n",
       "        ...,\n",
       "        [0., 0., 0., ..., 0., 0., 0.],\n",
       "        [0., 0., 0., ..., 0., 0., 0.],\n",
       "        [0., 0., 0., ..., 0., 0., 0.]],\n",
       "\n",
       "       [[0., 0., 0., ..., 0., 0., 0.],\n",
       "        [0., 0., 0., ..., 0., 0., 0.],\n",
       "        [0., 0., 0., ..., 0., 0., 0.],\n",
       "        ...,\n",
       "        [0., 0., 0., ..., 0., 0., 0.],\n",
       "        [0., 0., 0., ..., 0., 0., 0.],\n",
       "        [0., 0., 0., ..., 0., 0., 0.]],\n",
       "\n",
       "       [[0., 0., 0., ..., 0., 0., 0.],\n",
       "        [0., 0., 0., ..., 0., 0., 0.],\n",
       "        [0., 0., 0., ..., 0., 0., 0.],\n",
       "        ...,\n",
       "        [0., 0., 0., ..., 0., 0., 0.],\n",
       "        [0., 0., 0., ..., 0., 0., 0.],\n",
       "        [0., 0., 0., ..., 0., 0., 0.]]], dtype=float32)</pre></div></li></ul></div></li><li class='xr-section-item'><input id='section-0ff302ab-347b-4adc-8467-3e08d6fa341d' class='xr-section-summary-in' type='checkbox'  checked><label for='section-0ff302ab-347b-4adc-8467-3e08d6fa341d' class='xr-section-summary' >Attributes: <span>(9)</span></label><div class='xr-section-inline-details'></div><div class='xr-section-details'><dl class='xr-attrs'><dt><span>transform :</span></dt><dd>(0.1, 0.0, -9.800012009298998, 0.0, -0.1, 43.899996997613364)</dd><dt><span>crs :</span></dt><dd>+init=epsg:4326</dd><dt><span>res :</span></dt><dd>(0.1, 0.1)</dd><dt><span>is_tiled :</span></dt><dd>0</dd><dt><span>nodatavals :</span></dt><dd>(0.0,)</dd><dt><span>scales :</span></dt><dd>(1.0,)</dd><dt><span>offsets :</span></dt><dd>(0.0,)</dd><dt><span>AREA_OR_POINT :</span></dt><dd>Area</dd><dt><span>regrid_method :</span></dt><dd>conservative</dd></dl></div></li></ul></div></div>"
      ],
      "text/plain": [
       "<xarray.Dataset>\n",
       "Dimensions:    (year: 3, latitude: 80, longitude: 132)\n",
       "Coordinates:\n",
       "  * longitude  (longitude) float64 -9.75 -9.65 -9.55 -9.45 ... 3.15 3.25 3.35\n",
       "  * latitude   (latitude) float64 43.85 43.75 43.65 43.55 ... 36.15 36.05 35.95\n",
       "  * year       (year) int64 2019 2020 2021\n",
       "Data variables:\n",
       "    NO2        (year, latitude, longitude) float32 0.0 0.0 0.0 ... 0.0 0.0 0.0\n",
       "Attributes:\n",
       "    transform:      (0.1, 0.0, -9.800012009298998, 0.0, -0.1, 43.899996997613...\n",
       "    crs:            +init=epsg:4326\n",
       "    res:            (0.1, 0.1)\n",
       "    is_tiled:       0\n",
       "    nodatavals:     (0.0,)\n",
       "    scales:         (1.0,)\n",
       "    offsets:        (0.0,)\n",
       "    AREA_OR_POINT:  Area\n",
       "    regrid_method:  conservative"
      ]
     },
     "execution_count": 51,
     "metadata": {},
     "output_type": "execute_result"
    }
   ],
   "source": [
    "geotiff_dm"
   ]
  },
  {
   "cell_type": "markdown",
   "id": "delayed-clearing",
   "metadata": {},
   "source": [
    "#### Visualize data"
   ]
  },
  {
   "cell_type": "code",
   "execution_count": 52,
   "id": "388ee206-daf4-42a2-ae2c-dcdf8acdf71e",
   "metadata": {},
   "outputs": [
    {
     "name": "stdout",
     "output_type": "stream",
     "text": [
      "Requirement already satisfied: cmaps in /opt/conda/envs/cams/lib/python3.9/site-packages (1.0.5)\n",
      "Requirement already satisfied: holoviews<1.14.8 in /opt/conda/envs/cams/lib/python3.9/site-packages (1.14.7)\n",
      "Requirement already satisfied: GeoViews in /opt/conda/envs/cams/lib/python3.9/site-packages (1.9.5)\n",
      "Requirement already satisfied: cartopy in /opt/conda/envs/cams/lib/python3.9/site-packages (0.20.2)\n",
      "Requirement already satisfied: matplotlib in /opt/conda/envs/cams/lib/python3.9/site-packages (from cmaps) (3.5.1)\n",
      "Requirement already satisfied: numpy in /opt/conda/envs/cams/lib/python3.9/site-packages (from cmaps) (1.21.6)\n",
      "Requirement already satisfied: pyviz-comms>=0.7.4 in /opt/conda/envs/cams/lib/python3.9/site-packages (from holoviews<1.14.8) (2.2.0)\n",
      "Requirement already satisfied: pandas>=0.20.0 in /opt/conda/envs/cams/lib/python3.9/site-packages (from holoviews<1.14.8) (1.4.2)\n",
      "Requirement already satisfied: param<2.0,>=1.9.3 in /opt/conda/envs/cams/lib/python3.9/site-packages (from holoviews<1.14.8) (1.12.1)\n",
      "Requirement already satisfied: colorcet in /opt/conda/envs/cams/lib/python3.9/site-packages (from holoviews<1.14.8) (3.0.0)\n",
      "Requirement already satisfied: panel>=0.8.0 in /opt/conda/envs/cams/lib/python3.9/site-packages (from holoviews<1.14.8) (0.12.6)\n",
      "Requirement already satisfied: packaging in /opt/conda/envs/cams/lib/python3.9/site-packages (from GeoViews) (20.9)\n",
      "Requirement already satisfied: bokeh<2.5,>=2.4.0 in /opt/conda/envs/cams/lib/python3.9/site-packages (from GeoViews) (2.4.2)\n",
      "Requirement already satisfied: pyshp>=2.1 in /opt/conda/envs/cams/lib/python3.9/site-packages (from cartopy) (2.2.0)\n",
      "Requirement already satisfied: pyproj>=3.0.0 in /opt/conda/envs/cams/lib/python3.9/site-packages (from cartopy) (3.3.1)\n",
      "Requirement already satisfied: shapely>=1.6.4 in /opt/conda/envs/cams/lib/python3.9/site-packages (from cartopy) (1.8.0)\n",
      "Requirement already satisfied: typing-extensions>=3.10.0 in /opt/conda/envs/cams/lib/python3.9/site-packages (from bokeh<2.5,>=2.4.0->GeoViews) (4.2.0)\n",
      "Requirement already satisfied: tornado>=5.1 in /opt/conda/envs/cams/lib/python3.9/site-packages (from bokeh<2.5,>=2.4.0->GeoViews) (6.1)\n",
      "Requirement already satisfied: Jinja2>=2.9 in /opt/conda/envs/cams/lib/python3.9/site-packages (from bokeh<2.5,>=2.4.0->GeoViews) (3.0.2)\n",
      "Requirement already satisfied: pillow>=7.1.0 in /opt/conda/envs/cams/lib/python3.9/site-packages (from bokeh<2.5,>=2.4.0->GeoViews) (9.1.0)\n",
      "Requirement already satisfied: PyYAML>=3.10 in /opt/conda/envs/cams/lib/python3.9/site-packages (from bokeh<2.5,>=2.4.0->GeoViews) (6.0)\n",
      "Requirement already satisfied: pyparsing>=2.2.1 in /opt/conda/envs/cams/lib/python3.9/site-packages (from matplotlib->cmaps) (3.0.8)\n",
      "Requirement already satisfied: kiwisolver>=1.0.1 in /opt/conda/envs/cams/lib/python3.9/site-packages (from matplotlib->cmaps) (1.4.2)\n",
      "Requirement already satisfied: python-dateutil>=2.7 in /opt/conda/envs/cams/lib/python3.9/site-packages (from matplotlib->cmaps) (2.8.2)\n",
      "Requirement already satisfied: fonttools>=4.22.0 in /opt/conda/envs/cams/lib/python3.9/site-packages (from matplotlib->cmaps) (4.33.3)\n",
      "Requirement already satisfied: cycler>=0.10 in /opt/conda/envs/cams/lib/python3.9/site-packages (from matplotlib->cmaps) (0.11.0)\n",
      "Requirement already satisfied: pytz>=2020.1 in /opt/conda/envs/cams/lib/python3.9/site-packages (from pandas>=0.20.0->holoviews<1.14.8) (2022.1)\n",
      "Requirement already satisfied: pyct>=0.4.4 in /opt/conda/envs/cams/lib/python3.9/site-packages (from panel>=0.8.0->holoviews<1.14.8) (0.4.6)\n",
      "Requirement already satisfied: markdown in /opt/conda/envs/cams/lib/python3.9/site-packages (from panel>=0.8.0->holoviews<1.14.8) (3.3.6)\n",
      "Requirement already satisfied: requests in /opt/conda/envs/cams/lib/python3.9/site-packages (from panel>=0.8.0->holoviews<1.14.8) (2.27.1)\n",
      "Requirement already satisfied: bleach in /opt/conda/envs/cams/lib/python3.9/site-packages (from panel>=0.8.0->holoviews<1.14.8) (5.0.0)\n",
      "Requirement already satisfied: tqdm>=4.48.0 in /opt/conda/envs/cams/lib/python3.9/site-packages (from panel>=0.8.0->holoviews<1.14.8) (4.64.0)\n",
      "Requirement already satisfied: certifi in /opt/conda/envs/cams/lib/python3.9/site-packages (from pyproj>=3.0.0->cartopy) (2021.10.8)\n",
      "Requirement already satisfied: MarkupSafe>=2.0 in /opt/conda/envs/cams/lib/python3.9/site-packages (from Jinja2>=2.9->bokeh<2.5,>=2.4.0->GeoViews) (2.1.1)\n",
      "Requirement already satisfied: six>=1.5 in /opt/conda/envs/cams/lib/python3.9/site-packages (from python-dateutil>=2.7->matplotlib->cmaps) (1.16.0)\n",
      "Requirement already satisfied: webencodings in /opt/conda/envs/cams/lib/python3.9/site-packages (from bleach->panel>=0.8.0->holoviews<1.14.8) (0.5.1)\n",
      "Requirement already satisfied: importlib-metadata>=4.4 in /opt/conda/envs/cams/lib/python3.9/site-packages (from markdown->panel>=0.8.0->holoviews<1.14.8) (4.11.3)\n",
      "Requirement already satisfied: charset-normalizer~=2.0.0 in /opt/conda/envs/cams/lib/python3.9/site-packages (from requests->panel>=0.8.0->holoviews<1.14.8) (2.0.12)\n",
      "Requirement already satisfied: urllib3<1.27,>=1.21.1 in /opt/conda/envs/cams/lib/python3.9/site-packages (from requests->panel>=0.8.0->holoviews<1.14.8) (1.26.9)\n",
      "Requirement already satisfied: idna<4,>=2.5 in /opt/conda/envs/cams/lib/python3.9/site-packages (from requests->panel>=0.8.0->holoviews<1.14.8) (3.3)\n",
      "Requirement already satisfied: zipp>=0.5 in /opt/conda/envs/cams/lib/python3.9/site-packages (from importlib-metadata>=4.4->markdown->panel>=0.8.0->holoviews<1.14.8) (3.8.0)\n",
      "Note: you may need to restart the kernel to use updated packages.\n"
     ]
    }
   ],
   "source": [
    "pip install cmaps \"holoviews<1.14.8\" GeoViews cartopy"
   ]
  },
  {
   "cell_type": "code",
   "execution_count": 53,
   "id": "known-thong",
   "metadata": {},
   "outputs": [],
   "source": [
    "import cartopy.crs as ccrs\n",
    "import matplotlib.pyplot as plt\n",
    "import cmaps"
   ]
  },
  {
   "cell_type": "code",
   "execution_count": 54,
   "id": "c5505520-0c2a-498f-ad12-01c3b2f095ca",
   "metadata": {},
   "outputs": [],
   "source": [
    "# To plot over Norway, taking a central longitude of 60 is fine. You may want to change it when plotting over different geographical areas\n",
    "central_longitude = town_coordinates['latitude']"
   ]
  },
  {
   "cell_type": "code",
   "execution_count": 55,
   "id": "mechanical-lottery",
   "metadata": {},
   "outputs": [
    {
     "data": {
      "image/png": "[encoded data removed]",
      "text/plain": [
       "<Figure size 1800x576 with 4 Axes>"
      ]
     },
     "metadata": {
      "needs_background": "light"
     },
     "output_type": "display_data"
    }
   ],
   "source": [
    "# generate figure\n",
    "proj_plot = ccrs.Mercator(central_longitude=central_longitude)\n",
    "\n",
    "lcmap = cmaps.BlueYellowRed\n",
    "# Only plot values greater than 0\n",
    "p = geotiff_dm[variable_name].where(geotiff_dm[variable_name] > 0).plot(x='longitude', y='latitude',\n",
    "                                                                 transform=ccrs.PlateCarree(),\n",
    "                                                                 subplot_kws={\"projection\": proj_plot},\n",
    "                                                                 size=8,\n",
    "                                                                 col='year', col_wrap=3, robust=True,\n",
    "                                                                 cmap=lcmap, add_colorbar=True)\n",
    "\n",
    "# We have to set the map's options on all four axes\n",
    "for ax,i in zip(p.axes.flat,  geotiff_dm.year.values):\n",
    "    ax.coastlines()\n",
    "    ax.set_title('Surface ' + variable_name + '\\n' + month_name + ' ' + str(i), fontsize=10)\n",
    "\n",
    "plot_file = os.path.join(OUTPUT_DATA_DIR, variable_name + '_' + month_name + '_' + country_code + '_2019-2021.png')\n",
    "if os.path.exists(plot_file + '.bak'):\n",
    "    os.remove(plot_file + '.bak')\n",
    "if os.path.exists(plot_file):\n",
    "    os.rename(plot_file, plot_file + '.bak') \n",
    "plt.savefig(plot_file)"
   ]
  },
  {
   "cell_type": "markdown",
   "id": "toxic-discretion",
   "metadata": {},
   "source": [
    "#### Plot one single date"
   ]
  },
  {
   "cell_type": "code",
   "execution_count": 56,
   "id": "legislative-adoption",
   "metadata": {},
   "outputs": [
    {
     "data": {
      "image/png": "[encoded data removed]",
      "text/plain": [
       "<Figure size 720x720 with 2 Axes>"
      ]
     },
     "metadata": {
      "needs_background": "light"
     },
     "output_type": "display_data"
    }
   ],
   "source": [
    "fig=plt.figure(figsize=(10,10))\n",
    "# Define the projection\n",
    "crs=ccrs.PlateCarree()\n",
    "\n",
    "# We're using cartopy and are plotting in Orthographic projection \n",
    "# (see documentation on cartopy)\n",
    "ax = plt.subplot(1, 1, 1, projection=ccrs.Mercator(central_longitude=central_longitude))\n",
    "ax.coastlines(resolution='10m')\n",
    "\n",
    "# custom colormap\n",
    "\n",
    "lcmap = cmaps.BlueYellowRed\n",
    "\n",
    "# We need to project our data to the new Mercator projection and for this we use `transform`.\n",
    "# we set the original data projection in transform (here PlateCarree)\n",
    "# we only plot values greather than 0\n",
    "img = geotiff_ds[variable_name].where(geotiff_ds[variable_name] > 0).sel(time='2021-' + month_number + '-15').plot(ax=ax,\n",
    "                                                                                                 transform=ccrs.PlateCarree(),\n",
    "                                                                                                 cmap=lcmap)  \n",
    "\n",
    "# Title for plot\n",
    "plt.title('Surface ' + variable_name + '\\n 15th ' + month_name + ' 2021 over ' + country_fullname,\n",
    "          fontsize = 16, fontweight = 'bold', pad=10)\n",
    "\n",
    "plot_file = os.path.join(OUTPUT_DATA_DIR, variable_name + '_' + month_name +' _' + country_code + '_2021-' + month_number + '-15.png')\n",
    "if os.path.exists(plot_file + '.bak'):\n",
    "    os.remove(plot_file + '.bak')\n",
    "if os.path.exists(plot_file):\n",
    "    os.rename(plot_file, plot_file + '.bak')  \n",
    "plt.savefig(plot_file)"
   ]
  },
  {
   "cell_type": "code",
   "execution_count": 57,
   "id": "3b55c774-cc88-4778-a843-d8746dd0e25b",
   "metadata": {},
   "outputs": [],
   "source": [
    "geotiff_ds = geotiff_ds.sortby('time')"
   ]
  },
  {
   "cell_type": "markdown",
   "id": "00b430fb-cd20-4cae-a1c8-f7bab0dc05fd",
   "metadata": {},
   "source": [
    "#### Save Data Cube selection into netCDF"
   ]
  },
  {
   "cell_type": "code",
   "execution_count": 58,
   "id": "017e6edb-5478-4471-8036-4afcca4dc3aa",
   "metadata": {},
   "outputs": [],
   "source": [
    "output_file = os.path.join(OUTPUT_DATA_DIR, variable_name + \"_\" + month_name + \"_\" + country_code + \"_2019-2021.nc\")\n",
    "if os.path.exists(output_file + '.bak'):\n",
    "    os.remove(output_file + '.bak')\n",
    "if os.path.exists(output_file):\n",
    "    os.rename(output_file, output_file + '.bak') \n",
    "geotiff_ds.to_netcdf(output_file)"
   ]
  },
  {
   "cell_type": "markdown",
   "id": "04c204a4-3a31-4805-aaf5-1d88cf3f3748",
   "metadata": {},
   "source": [
    "## <a id=7_rohub></a> **Step 7: Create Research Object and Share my work**"
   ]
  },
  {
   "cell_type": "markdown",
   "id": "ded3d204-e278-4d46-9d93-a04e5df8956d",
   "metadata": {},
   "source": [
    "## Create Research Object in ROHUB"
   ]
  },
  {
   "cell_type": "code",
   "execution_count": 59,
   "id": "cfb8d48c-c378-4837-a7cd-99a759ef1c77",
   "metadata": {},
   "outputs": [
    {
     "name": "stdout",
     "output_type": "stream",
     "text": [
      "Requirement already satisfied: rohub in /opt/conda/envs/cams/lib/python3.9/site-packages (1.0.7)\n",
      "Requirement already satisfied: requests in /opt/conda/envs/cams/lib/python3.9/site-packages (from rohub) (2.27.1)\n",
      "Requirement already satisfied: pandas in /opt/conda/envs/cams/lib/python3.9/site-packages (from rohub) (1.4.2)\n",
      "Requirement already satisfied: python-dateutil>=2.8.1 in /opt/conda/envs/cams/lib/python3.9/site-packages (from pandas->rohub) (2.8.2)\n",
      "Requirement already satisfied: pytz>=2020.1 in /opt/conda/envs/cams/lib/python3.9/site-packages (from pandas->rohub) (2022.1)\n",
      "Requirement already satisfied: numpy>=1.18.5 in /opt/conda/envs/cams/lib/python3.9/site-packages (from pandas->rohub) (1.21.6)\n",
      "Requirement already satisfied: urllib3<1.27,>=1.21.1 in /opt/conda/envs/cams/lib/python3.9/site-packages (from requests->rohub) (1.26.9)\n",
      "Requirement already satisfied: idna<4,>=2.5 in /opt/conda/envs/cams/lib/python3.9/site-packages (from requests->rohub) (3.3)\n",
      "Requirement already satisfied: charset-normalizer~=2.0.0 in /opt/conda/envs/cams/lib/python3.9/site-packages (from requests->rohub) (2.0.12)\n",
      "Requirement already satisfied: certifi>=2017.4.17 in /opt/conda/envs/cams/lib/python3.9/site-packages (from requests->rohub) (2021.10.8)\n",
      "Requirement already satisfied: six>=1.5 in /opt/conda/envs/cams/lib/python3.9/site-packages (from python-dateutil>=2.8.1->pandas->rohub) (1.16.0)\n",
      "Note: you may need to restart the kernel to use updated packages.\n"
     ]
    }
   ],
   "source": [
    "pip install rohub"
   ]
  },
  {
   "cell_type": "code",
   "execution_count": 60,
   "id": "24d4ac14-50e1-4b7f-b233-09f66ec892a1",
   "metadata": {},
   "outputs": [],
   "source": [
    "import os\n",
    "import pathlib\n",
    "from rohub import rohub, settings"
   ]
  },
  {
   "cell_type": "markdown",
   "id": "95e3211d-783a-40c1-bedf-9b51794e44ca",
   "metadata": {},
   "source": [
    "#### Authenticating\n",
    "\n",
    "- If the code cell below fails,  make sure you have created the two files:\n",
    "    - `rohub-user`: contains your rohub username\n",
    "    - `rohub-pwd`: contains your rohub password"
   ]
  },
  {
   "cell_type": "code",
   "execution_count": 61,
   "id": "98639345-9ea8-457d-9532-3c4aa6031801",
   "metadata": {},
   "outputs": [],
   "source": [
    "rohub_user = open(os.path.join(os.environ['HOME'],\"rohub-user\")).read().rstrip()\n",
    "rohub_pwd = open(os.path.join(os.environ['HOME'],\"rohub-pwd\")).read().rstrip()"
   ]
  },
  {
   "cell_type": "code",
   "execution_count": 62,
   "id": "5fcd2c68-0a16-4c3d-9087-64d3cb89fd7f",
   "metadata": {
    "tags": []
   },
   "outputs": [
    {
     "name": "stdout",
     "output_type": "stream",
     "text": [
      "Logged successfully as annefou@geo.uio.no.\n"
     ]
    }
   ],
   "source": [
    "rohub.login(username=rohub_user, password=rohub_pwd)"
   ]
  },
  {
   "cell_type": "markdown",
   "id": "17fc23ec-5e0c-4879-b7de-410b74b90df0",
   "metadata": {},
   "source": [
    "## Create a new Exectuable RO"
   ]
  },
  {
   "cell_type": "code",
   "execution_count": 63,
   "id": "b6160f17-24ed-43dd-9920-e1f72152472d",
   "metadata": {
    "tags": []
   },
   "outputs": [
    {
     "name": "stdout",
     "output_type": "stream",
     "text": [
      "Research Object was successfully created with id = 2f4c4963-ba0f-4069-a211-988fb62006ef\n"
     ]
    }
   ],
   "source": [
    "ro_title =  variable_name + ' (' + month_name + ' 2019, 2020, 2021) in ' + country_fullname + \" Jupyter notebook demonstrating the usage of CAMS European air quality analysis from Copernicus Atmosphere Monitoring with RELIANCE services\"\n",
    "ro_research_areas = [\"Earth sciences\"]\n",
    "ro_description = \"This Research Object demonstrates how to use CAMS European air quality analysis from Copernicus Atmosphere Monitoring with RELIANCE services and compute monthly map of \" + \\\n",
    "                 variable_name + \" over a given geographical area, here \" + country_fullname\n",
    "ro = rohub.ros_create(title=ro_title, research_areas=ro_research_areas, \n",
    "                      description=ro_description, \n",
    "                      use_template=True,\n",
    "                      ros_type=\"Executable Research Object\")"
   ]
  },
  {
   "cell_type": "markdown",
   "id": "1b994bfa-3a31-4d73-a58f-6d7d8aa34d51",
   "metadata": {},
   "source": [
    "## Show metadata"
   ]
  },
  {
   "cell_type": "code",
   "execution_count": 64,
   "id": "b29df6ed-e245-41d3-bdd9-5a2189d3679f",
   "metadata": {
    "tags": []
   },
   "outputs": [
    {
     "data": {
      "text/plain": [
       "{'identifier': '2f4c4963-ba0f-4069-a211-988fb62006ef',\n",
       " 'shared_link': 'https://w3id.org/ro-id/2f4c4963-ba0f-4069-a211-988fb62006ef',\n",
       " 'title': 'NO2 (March 2019, 2020, 2021) in Spain Jupyter notebook demonstrating the usage of CAMS European air quality analysis from Copernicus Atmosphere Monitoring with RELIANCE services',\n",
       " 'description': 'This Research Object demonstrates how to use CAMS European air quality analysis from Copernicus Atmosphere Monitoring with RELIANCE services and compute monthly map of NO2 over a given geographical area, here Spain',\n",
       " 'status': 'LIVE',\n",
       " 'access_mode': 'PUBLIC',\n",
       " 'type': 'Executable Research Object',\n",
       " 'template': 'Executable Research Object folders structure',\n",
       " 'created': '2022-05-01T20:15:42.899723Z',\n",
       " 'creator': 'annefou@geo.uio.no',\n",
       " 'modificator': None,\n",
       " 'modified': '2022-05-01T20:15:43.260263Z',\n",
       " 'importer': None,\n",
       " 'research_areas': ['Earth sciences'],\n",
       " 'owner': 'annefou@geo.uio.no',\n",
       " 'editors': [],\n",
       " 'readers': [],\n",
       " 'rating': '0.00',\n",
       " 'number_of_ratings': 0,\n",
       " 'number_of_likes': 0,\n",
       " 'number_of_dislikes': 0,\n",
       " 'completeness': 0,\n",
       " 'size': 0,\n",
       " 'creation_mode': 'MANUAL',\n",
       " 'doi': None,\n",
       " 'api_link': 'https://api.rohub.org/api/ros/2f4c4963-ba0f-4069-a211-988fb62006ef/'}"
      ]
     },
     "execution_count": 64,
     "metadata": {},
     "output_type": "execute_result"
    }
   ],
   "source": [
    "ro.show_metadata()"
   ]
  },
  {
   "cell_type": "markdown",
   "id": "93ae4992-c839-4cc8-9fe1-0418a0a23363",
   "metadata": {},
   "source": [
    "## Add additional authors and/or contributors to our Research Object"
   ]
  },
  {
   "cell_type": "code",
   "execution_count": 65,
   "id": "b6ac1e0d-0cb9-4084-852b-8b8f663dbde2",
   "metadata": {},
   "outputs": [
    {
     "name": "stdout",
     "output_type": "stream",
     "text": [
      "Agent: annefou@geo.uio.no recognized in the system.\n"
     ]
    },
    {
     "data": {
      "text/plain": [
       "[{'identifier': '62277187-0f2e-4320-a6b0-7fe467f1b1c1',\n",
       "  'username': 'annefou@geo.uio.no',\n",
       "  'name': 'annefou@geo.uio.no',\n",
       "  'type': 'RohubUser',\n",
       "  'order': 0,\n",
       "  'display_name': 'Anne Fouilloux',\n",
       "  'orcid_identifier': '0000-0002-1784-2920',\n",
       "  'affiliation': 'Nordic e-Infrastructure Collaboration (NeIC)'}]"
      ]
     },
     "execution_count": 65,
     "metadata": {},
     "output_type": "execute_result"
    }
   ],
   "source": [
    "ro.set_authors(agents=author_emails)"
   ]
  },
  {
   "cell_type": "code",
   "execution_count": 66,
   "id": "baae2136-734d-472c-a56c-a962f44dc420",
   "metadata": {},
   "outputs": [
    {
     "name": "stdout",
     "output_type": "stream",
     "text": [
      "Agent: jeani@uio.no recognized in the system.\n",
      "Agent: mantovani@meeo.it recognized in the system.\n"
     ]
    },
    {
     "data": {
      "text/plain": [
       "[{'identifier': '1ac03644-c78c-4ca2-b0b4-2d9e40f671af',\n",
       "  'username': 'jeani@uio.no',\n",
       "  'name': 'jeani@uio.no',\n",
       "  'type': 'ExternalUser',\n",
       "  'order': 0,\n",
       "  'display_name': 'Jean Iaquinta',\n",
       "  'orcid_identifier': '0000-0002-8763-1643',\n",
       "  'affiliation': 'UiO'},\n",
       " {'identifier': 'a498dafe-985b-4d0f-a7e4-ac8f0312f3fe',\n",
       "  'username': 'mantovani@meeo.it',\n",
       "  'name': 'mantovani@meeo.it',\n",
       "  'type': 'RohubUser',\n",
       "  'order': 1,\n",
       "  'display_name': 'Simone Mantovani'}]"
      ]
     },
     "execution_count": 66,
     "metadata": {},
     "output_type": "execute_result"
    }
   ],
   "source": [
    "ro.set_contributors(agents=contributor_emails)"
   ]
  },
  {
   "cell_type": "markdown",
   "id": "d610d675-ce0a-4c28-8f70-cc898cb181ca",
   "metadata": {},
   "source": [
    "## Add publisher/copyright holder\n",
    "\n",
    "- Use [Research Organization Registry (ROR)](https://ror.org/) to find the identifier of your organization"
   ]
  },
  {
   "cell_type": "markdown",
   "id": "90749caa-1db3-427a-a69e-07e5527aea88",
   "metadata": {},
   "source": [
    "### Add publishers "
   ]
  },
  {
   "cell_type": "code",
   "execution_count": 67,
   "id": "b9775742-1c33-45f1-bd3f-b224ad07f616",
   "metadata": {
    "tags": []
   },
   "outputs": [
    {
     "name": "stdout",
     "output_type": "stream",
     "text": [
      "Agent: {'org_id': 'http://www.uio.no/english/', 'display_name': 'University of Oslo', 'agent_type': 'organization', 'ror_identifier': '01xtthb56', 'organization_url': 'http://www.uio.no/english/'} recognized in the system.\n",
      "Agent: {'org_id': 'https://neic.no/', 'display_name': 'Nordic e-Infrastructure Collaboration', 'agent_type': 'organization', 'ror_identifier': '04jcwf484', 'organization_url': 'https://neic.no/'} recognized in the system.\n"
     ]
    },
    {
     "data": {
      "text/plain": [
       "[{'identifier': '1d581e9d-25e2-4029-bdeb-6c055a0db8e4',\n",
       "  'username': 'https://ror.org/01xtthb56',\n",
       "  'name': 'https://ror.org/01xtthb56',\n",
       "  'type': 'Organization',\n",
       "  'order': 0,\n",
       "  'display_name': 'University of Oslo'},\n",
       " {'identifier': 'fbd9bdcf-4a1d-4ae8-9a90-6b9ec5a3b8b2',\n",
       "  'username': 'https://ror.org/04jcwf484',\n",
       "  'name': 'https://ror.org/04jcwf484',\n",
       "  'type': 'Organization',\n",
       "  'order': 1,\n",
       "  'display_name': 'Nordic e-Infrastructure Collaboration'}]"
      ]
     },
     "execution_count": 67,
     "metadata": {},
     "output_type": "execute_result"
    }
   ],
   "source": [
    "ro.set_publishers(agents=list_publishers)"
   ]
  },
  {
   "cell_type": "code",
   "execution_count": 68,
   "id": "0f8ecf9d-8390-4d7e-b01a-a07272c7ad9b",
   "metadata": {
    "tags": []
   },
   "outputs": [
    {
     "name": "stdout",
     "output_type": "stream",
     "text": [
      "Agent: {'org_id': 'http://www.uio.no/english/', 'display_name': 'University of Oslo', 'agent_type': 'organization', 'ror_identifier': '01xtthb56', 'organization_url': 'http://www.uio.no/english/'} recognized in the system.\n"
     ]
    },
    {
     "data": {
      "text/plain": [
       "[{'identifier': '1d581e9d-25e2-4029-bdeb-6c055a0db8e4',\n",
       "  'username': 'https://ror.org/01xtthb56',\n",
       "  'name': 'https://ror.org/01xtthb56',\n",
       "  'type': 'Organization',\n",
       "  'order': 0,\n",
       "  'display_name': 'University of Oslo'}]"
      ]
     },
     "execution_count": 68,
     "metadata": {},
     "output_type": "execute_result"
    }
   ],
   "source": [
    "ro.set_copyright_holders(agents=list_copyright_holders)"
   ]
  },
  {
   "cell_type": "code",
   "execution_count": 69,
   "id": "a089ac8b-71c2-45ce-9c4f-9b2883bd2e24",
   "metadata": {},
   "outputs": [
    {
     "data": {
      "text/html": [
       "<div>\n",
       "<style scoped>\n",
       "    .dataframe tbody tr th:only-of-type {\n",
       "        vertical-align: middle;\n",
       "    }\n",
       "\n",
       "    .dataframe tbody tr th {\n",
       "        vertical-align: top;\n",
       "    }\n",
       "\n",
       "    .dataframe thead th {\n",
       "        text-align: right;\n",
       "    }\n",
       "</style>\n",
       "<table border=\"1\" class=\"dataframe\">\n",
       "  <thead>\n",
       "    <tr style=\"text-align: right;\">\n",
       "      <th></th>\n",
       "      <th>identifier</th>\n",
       "      <th>organization_id</th>\n",
       "      <th>display_name</th>\n",
       "      <th>email</th>\n",
       "      <th>url</th>\n",
       "      <th>ror_identifier</th>\n",
       "    </tr>\n",
       "  </thead>\n",
       "  <tbody>\n",
       "    <tr>\n",
       "      <th>0</th>\n",
       "      <td>9196f718-5be7-40da-a64e-6c6c8928b826</td>\n",
       "      <td>example_orgA@email.com</td>\n",
       "      <td>(example)Organization A</td>\n",
       "      <td>example_orgA@email.com</td>\n",
       "      <td>None</td>\n",
       "      <td>None</td>\n",
       "    </tr>\n",
       "    <tr>\n",
       "      <th>1</th>\n",
       "      <td>de98f5bb-083d-4822-9df7-b02f5d091c0b</td>\n",
       "      <td>environmental.ds.book@gmail.com</td>\n",
       "      <td>Environmental Data Science Book Community</td>\n",
       "      <td>environmental.ds.book@gmail.com</td>\n",
       "      <td>https://github.com/alan-turing-institute/envir...</td>\n",
       "      <td>None</td>\n",
       "    </tr>\n",
       "    <tr>\n",
       "      <th>2</th>\n",
       "      <td>92459295-cc33-40a2-b2ca-e416ad73a95e</td>\n",
       "      <td>neworg_1@example.org</td>\n",
       "      <td>Example Org 1</td>\n",
       "      <td>neworg1@example.org</td>\n",
       "      <td>http://neworg1.example.org</td>\n",
       "      <td>abcd123</td>\n",
       "    </tr>\n",
       "    <tr>\n",
       "      <th>3</th>\n",
       "      <td>556f3671-87b4-4576-b39d-654942ef248e</td>\n",
       "      <td>neworg_2@example.org</td>\n",
       "      <td>Example Org 2</td>\n",
       "      <td>neworg2@example.org</td>\n",
       "      <td>http://neworg2.example.org</td>\n",
       "      <td>abcd123</td>\n",
       "    </tr>\n",
       "    <tr>\n",
       "      <th>4</th>\n",
       "      <td>5835ec4b-1f51-4b3a-b4fc-924de28cb1d4</td>\n",
       "      <td>https://ror.org/abcd56789</td>\n",
       "      <td>Example Org 3</td>\n",
       "      <td>neworg3@example.org</td>\n",
       "      <td>http://neworg3.example.org</td>\n",
       "      <td>abcd56789</td>\n",
       "    </tr>\n",
       "    <tr>\n",
       "      <th>5</th>\n",
       "      <td>6c441255-cfb5-4a0c-868b-5b3b0ef0f6f9</td>\n",
       "      <td>https://ror.org/01zv3gf04</td>\n",
       "      <td>Finnish Geospatial Research Institute</td>\n",
       "      <td>None</td>\n",
       "      <td>http://www.fgi.fi/fgi/</td>\n",
       "      <td>01zv3gf04</td>\n",
       "    </tr>\n",
       "    <tr>\n",
       "      <th>6</th>\n",
       "      <td>54dcdbe9-026a-4c43-854c-d7c4546f27a4</td>\n",
       "      <td>https://ror.org/00qps9a02</td>\n",
       "      <td>Istituto Nazionale di Geofisica e Vulcanologia</td>\n",
       "      <td>None</td>\n",
       "      <td>http://www.ingv.it/en</td>\n",
       "      <td>00qps9a02</td>\n",
       "    </tr>\n",
       "    <tr>\n",
       "      <th>7</th>\n",
       "      <td>fbd9bdcf-4a1d-4ae8-9a90-6b9ec5a3b8b2</td>\n",
       "      <td>https://ror.org/04jcwf484</td>\n",
       "      <td>Nordic e-Infrastructure Collaboration</td>\n",
       "      <td>None</td>\n",
       "      <td>https://neic.no/</td>\n",
       "      <td>04jcwf484</td>\n",
       "    </tr>\n",
       "    <tr>\n",
       "      <th>8</th>\n",
       "      <td>64ec5402-1171-42f6-b9dd-6fa901ca9724</td>\n",
       "      <td>https://ror.org/025cj6e44</td>\n",
       "      <td>Poznan Supercomputing and Networking Center</td>\n",
       "      <td>office@man.poznan.pl</td>\n",
       "      <td>https://www.psnc.pl/</td>\n",
       "      <td>025cj6e44</td>\n",
       "    </tr>\n",
       "    <tr>\n",
       "      <th>9</th>\n",
       "      <td>ae2a953a-cb80-4bb3-b6a5-a1155ce15edc</td>\n",
       "      <td>https://ror.org/03srtnf24</td>\n",
       "      <td>Universidade Federal do Ceará</td>\n",
       "      <td>None</td>\n",
       "      <td>http://www.ufc.br/</td>\n",
       "      <td>03srtnf24</td>\n",
       "    </tr>\n",
       "    <tr>\n",
       "      <th>10</th>\n",
       "      <td>a3773158-c078-4193-bc44-a1d39a2bfe01</td>\n",
       "      <td>https://ror.org/03zga2b32</td>\n",
       "      <td>University of Bergen</td>\n",
       "      <td>None</td>\n",
       "      <td>http://www.uib.no/</td>\n",
       "      <td>03zga2b32</td>\n",
       "    </tr>\n",
       "    <tr>\n",
       "      <th>11</th>\n",
       "      <td>1d581e9d-25e2-4029-bdeb-6c055a0db8e4</td>\n",
       "      <td>https://ror.org/01xtthb56</td>\n",
       "      <td>University of Oslo</td>\n",
       "      <td>None</td>\n",
       "      <td>http://www.uio.no/english/</td>\n",
       "      <td>01xtthb56</td>\n",
       "    </tr>\n",
       "  </tbody>\n",
       "</table>\n",
       "</div>"
      ],
      "text/plain": [
       "                              identifier                  organization_id  \\\n",
       "0   9196f718-5be7-40da-a64e-6c6c8928b826           example_orgA@email.com   \n",
       "1   de98f5bb-083d-4822-9df7-b02f5d091c0b  environmental.ds.book@gmail.com   \n",
       "2   92459295-cc33-40a2-b2ca-e416ad73a95e             neworg_1@example.org   \n",
       "3   556f3671-87b4-4576-b39d-654942ef248e             neworg_2@example.org   \n",
       "4   5835ec4b-1f51-4b3a-b4fc-924de28cb1d4        https://ror.org/abcd56789   \n",
       "5   6c441255-cfb5-4a0c-868b-5b3b0ef0f6f9        https://ror.org/01zv3gf04   \n",
       "6   54dcdbe9-026a-4c43-854c-d7c4546f27a4        https://ror.org/00qps9a02   \n",
       "7   fbd9bdcf-4a1d-4ae8-9a90-6b9ec5a3b8b2        https://ror.org/04jcwf484   \n",
       "8   64ec5402-1171-42f6-b9dd-6fa901ca9724        https://ror.org/025cj6e44   \n",
       "9   ae2a953a-cb80-4bb3-b6a5-a1155ce15edc        https://ror.org/03srtnf24   \n",
       "10  a3773158-c078-4193-bc44-a1d39a2bfe01        https://ror.org/03zga2b32   \n",
       "11  1d581e9d-25e2-4029-bdeb-6c055a0db8e4        https://ror.org/01xtthb56   \n",
       "\n",
       "                                      display_name  \\\n",
       "0                          (example)Organization A   \n",
       "1        Environmental Data Science Book Community   \n",
       "2                                    Example Org 1   \n",
       "3                                    Example Org 2   \n",
       "4                                    Example Org 3   \n",
       "5            Finnish Geospatial Research Institute   \n",
       "6   Istituto Nazionale di Geofisica e Vulcanologia   \n",
       "7            Nordic e-Infrastructure Collaboration   \n",
       "8      Poznan Supercomputing and Networking Center   \n",
       "9                    Universidade Federal do Ceará   \n",
       "10                            University of Bergen   \n",
       "11                              University of Oslo   \n",
       "\n",
       "                              email  \\\n",
       "0            example_orgA@email.com   \n",
       "1   environmental.ds.book@gmail.com   \n",
       "2               neworg1@example.org   \n",
       "3               neworg2@example.org   \n",
       "4               neworg3@example.org   \n",
       "5                              None   \n",
       "6                              None   \n",
       "7                              None   \n",
       "8              office@man.poznan.pl   \n",
       "9                              None   \n",
       "10                             None   \n",
       "11                             None   \n",
       "\n",
       "                                                  url ror_identifier  \n",
       "0                                                None           None  \n",
       "1   https://github.com/alan-turing-institute/envir...           None  \n",
       "2                          http://neworg1.example.org        abcd123  \n",
       "3                          http://neworg2.example.org        abcd123  \n",
       "4                          http://neworg3.example.org      abcd56789  \n",
       "5                              http://www.fgi.fi/fgi/      01zv3gf04  \n",
       "6                               http://www.ingv.it/en      00qps9a02  \n",
       "7                                    https://neic.no/      04jcwf484  \n",
       "8                                https://www.psnc.pl/      025cj6e44  \n",
       "9                                  http://www.ufc.br/      03srtnf24  \n",
       "10                                 http://www.uib.no/      03zga2b32  \n",
       "11                         http://www.uio.no/english/      01xtthb56  "
      ]
     },
     "execution_count": 69,
     "metadata": {},
     "output_type": "execute_result"
    }
   ],
   "source": [
    "organizations = rohub.organizations_find()\n",
    "organizations"
   ]
  },
  {
   "cell_type": "markdown",
   "id": "329a6446-3a61-4cb2-8596-3a647ea5d630",
   "metadata": {},
   "source": [
    "## Add RO Funding information"
   ]
  },
  {
   "cell_type": "code",
   "execution_count": 70,
   "id": "c5749469-af20-4bb1-8105-d203daa4225d",
   "metadata": {
    "tags": []
   },
   "outputs": [],
   "source": [
    "if funded_by:\n",
    "    ro.add_funding(grant_identifier=funded_by[\"grant_id\"], grant_name=funded_by[\"grant_Name\"],\n",
    "                   funder_name=funded_by[\"funder_name\"], grant_title=funded_by[\"grant_title\"],\n",
    "                   funder_doi=funded_by[\"funder_doi\"])"
   ]
  },
  {
   "cell_type": "markdown",
   "id": "9df5260b-45f3-443d-a267-de81347dd029",
   "metadata": {},
   "source": [
    "## Add RO license"
   ]
  },
  {
   "cell_type": "code",
   "execution_count": 71,
   "id": "1720bd51-ee45-4092-a88a-f290dd2c7f1b",
   "metadata": {},
   "outputs": [
    {
     "data": {
      "text/plain": [
       "{'identifier': 'MIT',\n",
       " 'title': 'MIT License',\n",
       " 'description': 'MIT License',\n",
       " 'created': '2016-09-12T02:51:35.895509+00:00',\n",
       " 'updated': '2021-10-07T08:21:23.483114+00:00',\n",
       " 'creator': None,\n",
       " 'status': 'active',\n",
       " 'url': 'https://opensource.org/licenses/MIT',\n",
       " 'custom': False}"
      ]
     },
     "execution_count": 71,
     "metadata": {},
     "output_type": "execute_result"
    }
   ],
   "source": [
    "ro.set_license(license_id=license) "
   ]
  },
  {
   "cell_type": "markdown",
   "id": "d5ff9bb6-e970-4a56-95bf-3eed86b737c4",
   "metadata": {},
   "source": [
    "## Aggregate Resources\n",
    "\n",
    "- We will be adding all the resources generated by our notebook (data and plots)\n",
    "- Our data and plots can also be shared in B2DROP so we will get the shared link from B2DROP and add it to our research object"
   ]
  },
  {
   "cell_type": "markdown",
   "id": "e9321b46-de48-4f9e-a729-3cc757f99473",
   "metadata": {},
   "source": [
    "### List RO folders for this type of RO"
   ]
  },
  {
   "cell_type": "code",
   "execution_count": 72,
   "id": "b8f82ad3-348f-424b-a239-3818ba3e4280",
   "metadata": {
    "tags": []
   },
   "outputs": [
    {
     "data": {
      "text/html": [
       "<div>\n",
       "<style scoped>\n",
       "    .dataframe tbody tr th:only-of-type {\n",
       "        vertical-align: middle;\n",
       "    }\n",
       "\n",
       "    .dataframe tbody tr th {\n",
       "        vertical-align: top;\n",
       "    }\n",
       "\n",
       "    .dataframe thead th {\n",
       "        text-align: right;\n",
       "    }\n",
       "</style>\n",
       "<table border=\"1\" class=\"dataframe\">\n",
       "  <thead>\n",
       "    <tr style=\"text-align: right;\">\n",
       "      <th></th>\n",
       "      <th>identifier</th>\n",
       "      <th>name</th>\n",
       "      <th>description</th>\n",
       "      <th>creator</th>\n",
       "      <th>created_on</th>\n",
       "      <th>modified_on</th>\n",
       "      <th>path</th>\n",
       "    </tr>\n",
       "  </thead>\n",
       "  <tbody>\n",
       "    <tr>\n",
       "      <th>0</th>\n",
       "      <td>88b7d9fa-3c6a-4232-950c-736c3e0b3768</td>\n",
       "      <td>biblio</td>\n",
       "      <td>None</td>\n",
       "      <td>annefou@geo.uio.no</td>\n",
       "      <td>2022-05-01T20:15:43.450956+0000</td>\n",
       "      <td>2022-05-01T20:15:43.451840+0000</td>\n",
       "      <td>biblio</td>\n",
       "    </tr>\n",
       "    <tr>\n",
       "      <th>1</th>\n",
       "      <td>b97cbc88-03ab-47cc-be9e-673245513627</td>\n",
       "      <td>input</td>\n",
       "      <td>None</td>\n",
       "      <td>annefou@geo.uio.no</td>\n",
       "      <td>2022-05-01T20:15:43.451106+0000</td>\n",
       "      <td>2022-05-01T20:15:43.451943+0000</td>\n",
       "      <td>input</td>\n",
       "    </tr>\n",
       "    <tr>\n",
       "      <th>2</th>\n",
       "      <td>99d35a77-ae94-488f-9188-3440d14f3f82</td>\n",
       "      <td>output</td>\n",
       "      <td>None</td>\n",
       "      <td>annefou@geo.uio.no</td>\n",
       "      <td>2022-05-01T20:15:43.451189+0000</td>\n",
       "      <td>2022-05-01T20:15:43.452006+0000</td>\n",
       "      <td>output</td>\n",
       "    </tr>\n",
       "    <tr>\n",
       "      <th>3</th>\n",
       "      <td>af75adff-5015-4a9a-9317-432c577252ff</td>\n",
       "      <td>tool</td>\n",
       "      <td>None</td>\n",
       "      <td>annefou@geo.uio.no</td>\n",
       "      <td>2022-05-01T20:15:43.451263+0000</td>\n",
       "      <td>2022-05-01T20:15:43.452066+0000</td>\n",
       "      <td>tool</td>\n",
       "    </tr>\n",
       "  </tbody>\n",
       "</table>\n",
       "</div>"
      ],
      "text/plain": [
       "                             identifier    name description  \\\n",
       "0  88b7d9fa-3c6a-4232-950c-736c3e0b3768  biblio        None   \n",
       "1  b97cbc88-03ab-47cc-be9e-673245513627   input        None   \n",
       "2  99d35a77-ae94-488f-9188-3440d14f3f82  output        None   \n",
       "3  af75adff-5015-4a9a-9317-432c577252ff    tool        None   \n",
       "\n",
       "              creator                       created_on  \\\n",
       "0  annefou@geo.uio.no  2022-05-01T20:15:43.450956+0000   \n",
       "1  annefou@geo.uio.no  2022-05-01T20:15:43.451106+0000   \n",
       "2  annefou@geo.uio.no  2022-05-01T20:15:43.451189+0000   \n",
       "3  annefou@geo.uio.no  2022-05-01T20:15:43.451263+0000   \n",
       "\n",
       "                       modified_on    path  \n",
       "0  2022-05-01T20:15:43.451840+0000  biblio  \n",
       "1  2022-05-01T20:15:43.451943+0000   input  \n",
       "2  2022-05-01T20:15:43.452006+0000  output  \n",
       "3  2022-05-01T20:15:43.452066+0000    tool  "
      ]
     },
     "execution_count": 72,
     "metadata": {},
     "output_type": "execute_result"
    }
   ],
   "source": [
    "myfolders = ro.list_folders()\n",
    "myfolders"
   ]
  },
  {
   "cell_type": "markdown",
   "id": "0f4c1732-7431-4c44-b61e-e57b535367d3",
   "metadata": {},
   "source": [
    "## Aggregate internal resources"
   ]
  },
  {
   "cell_type": "markdown",
   "id": "6200c842-c217-44a5-8ecf-7240c2ebb20b",
   "metadata": {},
   "source": [
    "### Add sketch to my RO"
   ]
  },
  {
   "cell_type": "code",
   "execution_count": 73,
   "id": "0908d97c-7db0-4527-9cac-96a135779e1a",
   "metadata": {},
   "outputs": [
    {
     "name": "stdout",
     "output_type": "stream",
     "text": [
      "Resource was successfully created with id = faf2af90-0919-4f58-8bb3-412e21cc07c6\n"
     ]
    },
    {
     "data": {
      "text/plain": [
       "Resource(identifier=faf2af90-0919-4f58-8bb3-412e21cc07c6, post_request=False)"
      ]
     },
     "execution_count": 73,
     "metadata": {},
     "output_type": "execute_result"
    }
   ],
   "source": [
    "res_file_path = os.path.join(OUTPUT_DATA_DIR, variable_name + '_' + month_name + '_' + country_code + '_2019-2021.png')\n",
    "res_res_type = \"Sketch\"\n",
    "res_title = variable_long_name + \" [\" + variable_unit + \"] over \" + country_fullname + \" for \" + month_name + \"  2019, 2020 and 2021\"\n",
    "res_description = \"Monthly average maps of CAMS \" + variable_long_name + \" [\" + variable_unit + \"] over \" + country_fullname + \" in 2019, 2020 and 2021\"\n",
    "res_folder =  'output'\n",
    "\n",
    "ro.add_internal_resource(res_type=res_res_type, file_path=res_file_path, title=res_title, description=res_description, folder=res_folder)"
   ]
  },
  {
   "cell_type": "markdown",
   "id": "f3794372-e0df-48c0-863d-3c20d8bdbcd8",
   "metadata": {},
   "source": [
    "### Add conda environment to my RO"
   ]
  },
  {
   "cell_type": "code",
   "execution_count": 74,
   "id": "0fd00c09-8090-4072-ba6d-a29b2517851f",
   "metadata": {},
   "outputs": [],
   "source": [
    "def copy_conda_env(local_conda_path, shared_conda_path):\n",
    "    bkfile = shared_conda_path + '.bak'\n",
    "    if os.path.exists(bkfile):\n",
    "        os.remove(bkfile)\n",
    "    if os.path.exists(shared_conda_path):\n",
    "        os.rename(shared_conda_path, bkfile)\n",
    "    shutil.copy2(local_conda_path, shared_conda_path)"
   ]
  },
  {
   "cell_type": "code",
   "execution_count": 77,
   "id": "0fbe78ff-394f-4a92-93d9-fe75611a4ef0",
   "metadata": {},
   "outputs": [],
   "source": [
    "import datetime\n",
    "import shutil"
   ]
  },
  {
   "cell_type": "code",
   "execution_count": 78,
   "id": "5d13ae20-855f-469e-a046-403b3327429e",
   "metadata": {},
   "outputs": [
    {
     "name": "stdout",
     "output_type": "stream",
     "text": [
      "Resource was successfully created with id = 8cdd8c9c-cc05-47e6-bda4-c50ba1095929\n",
      "Resource was successfully created with id = 5fb2de1b-7f4d-417a-8282-c9a6bd8ce821\n",
      "Resource was successfully created with id = 6d99c455-e836-4094-9157-4007d558fccf\n"
     ]
    }
   ],
   "source": [
    "for os_name, conda_filename in zip(['', 'linux-64', 'osx-64'], ['cams-conda.yml', 'conda-lock-linux-64.yml', 'conda-lock-osx-64.yml']):\n",
    "    local_conda_path = os.path.join('./', conda_filename)\n",
    "    shared_conda_path = os.path.join(TOOL_DATA_DIR, conda_filename)\n",
    "    copy_conda_env(local_conda_path, shared_conda_path)\n",
    "    \n",
    "    res_file_path = os.path.join(INPUT_DATA_DIR, shared_conda_path)\n",
    "    res_res_type = \"Script\"\n",
    "    res_title = 'Conda environment ' + os_name\n",
    "    if os_name == \"\":\n",
    "        res_description = \"Conda environment used on EGI notebook on \" + datetime.date.today().strftime(\"%d/%m/%Y\")\n",
    "    else:\n",
    "        res_description = \"Conda environment generated with conda-lock for \" + os_name\n",
    "    res_folder =  'input'\n",
    "\n",
    "    ro.add_internal_resource(res_type=res_res_type, file_path=res_file_path, title=res_title, description=res_description, folder=res_folder)"
   ]
  },
  {
   "cell_type": "markdown",
   "id": "e8b80472-19c3-4e21-a3ae-2b606d918ff2",
   "metadata": {},
   "source": [
    "## Aggregate external resources"
   ]
  },
  {
   "cell_type": "markdown",
   "id": "e855b117-90d5-468a-92f7-2a24c6573f90",
   "metadata": {},
   "source": [
    "###  Get shared link from datahub\n",
    "1. Retrieve your client identifier, client secret and refresh token from https://aai.egi.eu/fedcloud/\n",
    "2. Create a new file in your HOME area for instance using nano (keep the `$` character in front of HOME; this is meant to be an environment variable):\n",
    "```\n",
    "nano $HOME/egi_fedcloud.cfg\n",
    "```\n",
    "3. Paste your client identifier, client secret and refresh token using the following syntax (do not forget `{` and `}` as well as comma `,` and columns `:`\n",
    "```\n",
    "{\n",
    "\"id\": \"XXXXXXXXXXXXXXXXX\",\n",
    "\"secret\": \"YYYYYYYYYYYYYYYYYYYYYYYYYYYYYYY\",\n",
    "\"token\": \"ffffffffffffffffffffffff\"\n",
    "}\n",
    "```\n",
    "4. You are ready to go. If you have issues, check first that the syntax is correct in your egi_fedcloud.cfg, that this file is located in the correct folder and then finally that your refresh token is still valid (check on https://aai.egi.eu/fedcloud/)"
   ]
  },
  {
   "cell_type": "code",
   "execution_count": 79,
   "id": "34371d8a-5192-4356-a3c3-040b0de3e469",
   "metadata": {},
   "outputs": [],
   "source": [
    "import os\n",
    "import json\n",
    "import requests"
   ]
  },
  {
   "cell_type": "markdown",
   "id": "3c6ab5eb-e1cb-41b1-b899-4891504bb7fa",
   "metadata": {},
   "source": [
    "#### EGI Datahub functions to initialize EGI datahub and get shared link"
   ]
  },
  {
   "cell_type": "code",
   "execution_count": 80,
   "id": "dfadd3d8-2d04-4ca5-aa43-dec5b5ebf418",
   "metadata": {},
   "outputs": [],
   "source": [
    "def egi_datahub_init():\n",
    "    egi_fedcloud_filename = os.path.join(os.environ['HOME'], 'egi_fedcloud.cfg')\n",
    "    with open(egi_fedcloud_filename, 'r') as convert_file:\n",
    "        tmp = convert_file.read()\n",
    "        egi_fedcloud_auth = json.loads(tmp)\n",
    "        try:\n",
    "            # Retrieving an OIDC token from Check-in\n",
    "            data = {\n",
    "                'client_id': egi_fedcloud_auth['id'],\n",
    "                'client_secret': egi_fedcloud_auth['secret'],\n",
    "                'refresh_token': egi_fedcloud_auth['token'],\n",
    "                'scope': 'openid email profile',\n",
    "                'grant_type': 'refresh_token'\n",
    "            }\n",
    "            response = requests.post('https://aai.egi.eu/oidc/token', data=data, auth=(egi_fedcloud_auth['id'], \n",
    "                                                                                       egi_fedcloud_auth['secret']))\n",
    "            #print(json.dumps(response.json(), indent=2))\n",
    "            EGItoken = response.json()['access_token']\n",
    "            headers = {\n",
    "                'X-Auth-Token': f\"egi:\" + EGItoken,\n",
    "                'Content-type': 'application/json',\n",
    "            }\n",
    "            # get current timestamp\n",
    "            ts = datetime.datetime.now().timestamp()\n",
    "            data = json.dumps({ \n",
    "                'name': 'REST and CDMI access token ' + str(ts), \n",
    "                'type': { \n",
    "                    'accessToken': {} \n",
    "                }, \n",
    "                'caveats': [ { \n",
    "                    'type': 'interface', \n",
    "                    'interface': 'rest' \n",
    "                }] \n",
    "            })\n",
    "\n",
    "            response = requests.post('https://datahub.egi.eu/api/v3/onezone/user/tokens/named', headers=headers, data=data)\n",
    "            DATAHUB_TOKEN = response.json()['token']\n",
    "            return DATAHUB_TOKEN\n",
    "        except:\n",
    "            print(\"EGI Datahub Authentication problem: check your credentials\")"
   ]
  },
  {
   "cell_type": "code",
   "execution_count": 81,
   "id": "e348c819-cb8d-4457-ae3c-6e5f5c40f85d",
   "metadata": {},
   "outputs": [],
   "source": [
    "def egi_datahub_getlink(datahub_token, filename):\n",
    "    bname = os.path.basename(filename)\n",
    "    datahub_remote_prefix = 'https://cesnet-oneprovider-01.datahub.egi.eu/api/v3/oneprovider/files/'\n",
    "    hname = filename.split('datahub/')[1]\n",
    "    datahub_location = os.path.join(datahub_remote_prefix, hname)\n",
    "    print(datahub_location)\n",
    "    headers = { 'X-Auth-Token': datahub_token }\n",
    "    response = requests.get(datahub_location, headers=headers)\n",
    "    dh_fileid = response.json()[0]['id']\n",
    "    \n",
    "    headers = { 'X-Auth-Token': datahub_token, 'Content-Type': 'application/json',}\n",
    "    data = json.dumps({ 'name': bname,\n",
    "    'fileId': dh_fileid\n",
    "    })\n",
    "    response = requests.post('https://cesnet-oneprovider-01.datahub.egi.eu/api/v3/oneprovider/shares', headers=headers, data=data)\n",
    "    # print(json.dumps(response.json(), indent=2))\n",
    "    shareIdGenerated=response.json()['shareId']\n",
    "    \n",
    "    headers = {'X-Auth-Token': datahub_token}\n",
    "    response = requests.get('https://cesnet-oneprovider-01.datahub.egi.eu/api/v3/oneprovider/shares/'+shareIdGenerated, headers=headers) \n",
    "    # print(json.dumps(response.json(), indent=2))\n",
    "    publicURL = response.json()['publicUrl']\n",
    "    return publicURL"
   ]
  },
  {
   "cell_type": "markdown",
   "id": "e751890a-e99b-4afd-94c0-5d390bfce105",
   "metadata": {},
   "source": [
    "### EGI DataHub initialization "
   ]
  },
  {
   "cell_type": "code",
   "execution_count": 82,
   "id": "837cbef8-1f87-435f-89d4-598df91c22d9",
   "metadata": {},
   "outputs": [],
   "source": [
    "DATAHUB_TOKEN = egi_datahub_init()"
   ]
  },
  {
   "cell_type": "markdown",
   "id": "2d6e6e90-4f5a-4bb0-a4b6-caf96debaf88",
   "metadata": {},
   "source": [
    "## Add inputs to my RO\n",
    "- I used ADAM to retrieve relevant data but I will be sharing what I retrieved from the data cube so that my collaborators do not have to re-download the same input data again."
   ]
  },
  {
   "cell_type": "markdown",
   "id": "80b71bd0-b1ca-40e1-b389-5158a2505454",
   "metadata": {},
   "source": [
    "#### Geojson file used for rertieving data from ADAM data-cube"
   ]
  },
  {
   "cell_type": "code",
   "execution_count": 83,
   "id": "7009d65a-a7e9-4165-91b5-22fa3e22854c",
   "metadata": {},
   "outputs": [
    {
     "name": "stdout",
     "output_type": "stream",
     "text": [
      "/home/jovyan/datahub/Reliance/Climate_ES_NO2_March/input/es.geo.json\n",
      "https://cesnet-oneprovider-01.datahub.egi.eu/api/v3/oneprovider/files/Reliance/Climate_ES_NO2_March/input/es.geo.json\n",
      "Resource was successfully created with id = 362b16ca-da9f-4d16-9b72-8f0d08a35ea2\n"
     ]
    },
    {
     "data": {
      "text/plain": [
       "Resource(identifier=362b16ca-da9f-4d16-9b72-8f0d08a35ea2, post_request=False)"
      ]
     },
     "execution_count": 83,
     "metadata": {},
     "output_type": "execute_result"
    }
   ],
   "source": [
    "shared_input_path = os.path.join(INPUT_DATA_DIR, country_code.lower() + '.geo.json')\n",
    "print(shared_input_path)\n",
    "res_file_url = egi_datahub_getlink(DATAHUB_TOKEN, shared_input_path)\n",
    "res_type = \"Dataset\"\n",
    "res_title = \"Geojson for \" + country_fullname\n",
    "res_description = \"Geojson file used for retrieving data from the ADAM platform over \" + country_fullname\n",
    "res_folder = 'input'\n",
    "ro.add_external_resource(res_type=res_type, input_url=res_file_url, title=res_title, description=res_description, folder=res_folder)"
   ]
  },
  {
   "cell_type": "markdown",
   "id": "3321bbac-3d1a-48b4-91a0-5ba0cd3e3435",
   "metadata": {},
   "source": [
    "#### Input data retrieved from ADAM data-cube"
   ]
  },
  {
   "cell_type": "code",
   "execution_count": 84,
   "id": "e48c303a-f07e-47c3-aa9c-9f6b89e4a2f1",
   "metadata": {},
   "outputs": [
    {
     "name": "stdout",
     "output_type": "stream",
     "text": [
      "/home/jovyan/datahub/Reliance/Climate_ES_NO2_March/input/NO2_ES_ADAMAPI_2019.zip\n",
      "https://cesnet-oneprovider-01.datahub.egi.eu/api/v3/oneprovider/files/Reliance/Climate_ES_NO2_March/input/NO2_ES_ADAMAPI_2019.zip\n",
      "Resource was successfully created with id = 9e9e9acd-8ed8-4618-b0e5-a6ec14e6e9b9\n",
      "/home/jovyan/datahub/Reliance/Climate_ES_NO2_March/input/NO2_ES_ADAMAPI_2020.zip\n",
      "https://cesnet-oneprovider-01.datahub.egi.eu/api/v3/oneprovider/files/Reliance/Climate_ES_NO2_March/input/NO2_ES_ADAMAPI_2020.zip\n",
      "Resource was successfully created with id = fd0b10cc-64d2-44b6-93f1-198f9ef216c0\n",
      "/home/jovyan/datahub/Reliance/Climate_ES_NO2_March/input/NO2_ES_ADAMAPI_2021.zip\n",
      "https://cesnet-oneprovider-01.datahub.egi.eu/api/v3/oneprovider/files/Reliance/Climate_ES_NO2_March/input/NO2_ES_ADAMAPI_2021.zip\n",
      "Resource was successfully created with id = e11e7b48-54da-4288-b645-5333b880c0c2\n"
     ]
    }
   ],
   "source": [
    "for year in ['2019', '2020', '2021']:\n",
    "    shared_input_path = os.path.join(INPUT_DATA_DIR, variable_name + '_' + country_code + '_ADAMAPI_' + year + '.zip')\n",
    "    print(shared_input_path)\n",
    "    res_file_url = egi_datahub_getlink(DATAHUB_TOKEN, shared_input_path)\n",
    "    res_type = \"Data Cube Product\"\n",
    "    res_title = \"Data-Cube from ADAM platform over \" + country_fullname + \" in \" + month_name + \" \" + year\n",
    "    res_description = \"This dataset is a data-Cube retrieved from the ADAM platform over \" + country_fullname + \" in \" + month_name + \" \" + year\n",
    "    res_folder ='input'\n",
    "    ro.add_external_resource(res_type=res_type, input_url=res_file_url, title=res_title, description=res_description, folder=res_folder)"
   ]
  },
  {
   "cell_type": "markdown",
   "id": "30a76383-0dd3-4be5-832e-23ddfc39618e",
   "metadata": {},
   "source": [
    "### Add our Jupyter Notebook to our RO\n",
    "- Make a copy of the current notebook to the tool folder for sharing as an external resource"
   ]
  },
  {
   "cell_type": "code",
   "execution_count": 85,
   "id": "2ea55433-5a43-4146-8f2f-ad6a3b6203fa",
   "metadata": {},
   "outputs": [],
   "source": [
    "notebook_filename = 'RELIANCE_' + country_fullname + '_' + variable_name + '_month.ipynb'\n",
    "local_notebook_path = os.path.join('./', notebook_filename)\n",
    "shared_notebook_path = os.path.join(TOOL_DATA_DIR, notebook_filename)"
   ]
  },
  {
   "cell_type": "code",
   "execution_count": 86,
   "id": "fe99f43a-af32-48f3-907c-951e6e08af07",
   "metadata": {},
   "outputs": [
    {
     "data": {
      "text/plain": [
       "'/home/jovyan/datahub/Reliance/Climate_ES_NO2_March/tool/RELIANCE_Spain_NO2_month.ipynb'"
      ]
     },
     "execution_count": 86,
     "metadata": {},
     "output_type": "execute_result"
    }
   ],
   "source": [
    "shared_notebook_path"
   ]
  },
  {
   "cell_type": "markdown",
   "id": "f2de8314-561a-4100-b0d4-b6e6e6b34351",
   "metadata": {},
   "source": [
    "#### Copy current notebook to shared datahub "
   ]
  },
  {
   "cell_type": "code",
   "execution_count": 87,
   "id": "08ba4a2c-76d7-470c-b85e-3965a7ff3de9",
   "metadata": {},
   "outputs": [
    {
     "data": {
      "text/plain": [
       "'/home/jovyan/datahub/Reliance/Climate_ES_NO2_March/tool/RELIANCE_Spain_NO2_month.ipynb'"
      ]
     },
     "execution_count": 87,
     "metadata": {},
     "output_type": "execute_result"
    }
   ],
   "source": [
    "bkfile = shared_notebook_path + '.bak'\n",
    "if os.path.exists(bkfile):\n",
    "    os.remove(bkfile)\n",
    "if os.path.exists(shared_notebook_path):\n",
    "    os.rename(shared_notebook_path, bkfile)\n",
    "shutil.copy2(local_notebook_path, shared_notebook_path)"
   ]
  },
  {
   "cell_type": "markdown",
   "id": "d0f4098b-e8b1-49e4-851c-8d164380f3d4",
   "metadata": {},
   "source": [
    "### Create a shared link for my Jupyter Notebook"
   ]
  },
  {
   "cell_type": "markdown",
   "id": "792f515b-988b-44d2-a555-57f961c166cc",
   "metadata": {},
   "source": [
    "#### Get public URL from EGI Datahub to share link in RO "
   ]
  },
  {
   "cell_type": "code",
   "execution_count": 88,
   "id": "ae96b55c-f027-410a-bd31-17590b2baf6c",
   "metadata": {
    "tags": []
   },
   "outputs": [
    {
     "name": "stdout",
     "output_type": "stream",
     "text": [
      "https://cesnet-oneprovider-01.datahub.egi.eu/api/v3/oneprovider/files/Reliance/Climate_ES_NO2_March/tool/RELIANCE_Spain_NO2_month.ipynb\n",
      "Resource was successfully created with id = faeb0e7e-7782-4e41-a199-a54300055ba4\n"
     ]
    },
    {
     "data": {
      "text/plain": [
       "Resource(identifier=faeb0e7e-7782-4e41-a199-a54300055ba4, post_request=False)"
      ]
     },
     "execution_count": 88,
     "metadata": {},
     "output_type": "execute_result"
    }
   ],
   "source": [
    "res_file_url = egi_datahub_getlink(DATAHUB_TOKEN, shared_notebook_path)\n",
    "res_type = \"Jupyter Notebook\"\n",
    "res_title = \"Jupyter Notebook of CAMS European air quality analysis from Copernicus Atmosphere Monitoring with RELIANCE services - Applied over \" + country_fullname + \" and variable \" + variable_long_name\n",
    "res_description = \"Jupyter Notebook for discovering, accessing and processing RELIANCE data cube, and creating a Research Object with results, and finally publish it in Zenodo\"\n",
    "res_folder = 'tool'\n",
    "ro.add_external_resource(res_type=res_type, input_url=res_file_url, title=res_title, description=res_description, folder=res_folder)"
   ]
  },
  {
   "cell_type": "markdown",
   "id": "aa8b2477-3695-453d-94e3-98a76f3ce3c9",
   "metadata": {},
   "source": [
    "#### Add link to Jupyter notebook in github"
   ]
  },
  {
   "cell_type": "code",
   "execution_count": null,
   "id": "65796b25-3c73-430e-a57a-9e91166ab157",
   "metadata": {},
   "outputs": [],
   "source": [
    "res_file_url = 'https://raw.githubusercontent.com/NordicESMhub/RELIANCE/main/content/demo-eosc-future/RELIANCE_Spain_NO2_month.ipynb'\n",
    "res_type = \"Jupyter Notebook\"\n",
    "res_title = \"Jupyter Notebook (Github) of CAMS European air quality analysis from Copernicus Atmosphere Monitoring with RELIANCE services - Applied over \" + country_fullname + \" and variable \" + variable_long_name\n",
    "res_description = \"Jupyter Notebook (stored in Github) for discovering, accessing and processing RELIANCE data cube, and creating a Research Object with results, and finally publish it in Zenodo\"\n",
    "res_folder = 'tool'\n",
    "ro.add_external_resource(res_type=res_type, input_url=res_file_url, title=res_title, description=res_description, folder=res_folder)"
   ]
  },
  {
   "cell_type": "markdown",
   "id": "640d037c-c57b-4846-af37-813a2b8fe2cb",
   "metadata": {},
   "source": [
    "#### Add link to online rendered Jupyter notebook"
   ]
  },
  {
   "cell_type": "code",
   "execution_count": null,
   "id": "3286bbe6-9594-4a02-93de-141b37875140",
   "metadata": {},
   "outputs": [],
   "source": [
    "res_file_url = 'https://nordicesmhub.github.io/RELIANCE/demo-eosc-future/RELIANCE_Spain_NO2_month.html'\n",
    "res_type = \"Web\"\n",
    "res_title = \"online rendered jupyter book of CAMS European air quality analysis from Copernicus Atmosphere Monitoring with RELIANCE services - Applied over \" + country_fullname + \" and variable \" + variable_long_name\n",
    "res_description = \"Jupyter Notebook (stored in Github) for discovering, accessing and processing RELIANCE data cube, and creating a Research Object with results, and finally publish it in Zenodo\"\n",
    "res_folder = 'tool'\n",
    "ro.add_external_resource(res_type=res_type, input_url=res_file_url, title=res_title, description=res_description, folder=res_folder)"
   ]
  },
  {
   "cell_type": "markdown",
   "id": "174a59a9-528d-477d-95c2-d6a61a00bca9",
   "metadata": {},
   "source": [
    "#### Add first plot as Image to my Research Object (external resource from EGI Datahub)"
   ]
  },
  {
   "cell_type": "code",
   "execution_count": 89,
   "id": "bb7f9de9-cb74-4ddf-a525-113145d1a2c7",
   "metadata": {
    "tags": []
   },
   "outputs": [
    {
     "name": "stdout",
     "output_type": "stream",
     "text": [
      "/home/jovyan/datahub/Reliance/Climate_ES_NO2_March/output/NO2_March_ES_2019-2021.png\n",
      "https://cesnet-oneprovider-01.datahub.egi.eu/api/v3/oneprovider/files/Reliance/Climate_ES_NO2_March/output/NO2_March_ES_2019-2021.png\n",
      "Resource was successfully created with id = e60982b1-2c52-4473-a428-8be1f9f9fb83\n"
     ]
    },
    {
     "data": {
      "text/plain": [
       "Resource(identifier=e60982b1-2c52-4473-a428-8be1f9f9fb83, post_request=False)"
      ]
     },
     "execution_count": 89,
     "metadata": {},
     "output_type": "execute_result"
    }
   ],
   "source": [
    "shared_plot_path = os.path.join(OUTPUT_DATA_DIR, variable_name + '_' + month_name + '_' + country_code + '_2019-2021.png')\n",
    "print(shared_plot_path)\n",
    "res_file_url = egi_datahub_getlink(DATAHUB_TOKEN, shared_plot_path)\n",
    "res_type = \"Image\"\n",
    "res_title = variable_long_name + \" [\" + variable_unit + \"] over \" + country_fullname + \" for \" +  month_name + \" 2019, 2020 and 2021\"\n",
    "res_description = \"Monthly average maps of CAMS \" + variable_long_name + \" [\" + variable_unit + \"] over \" + country_fullname + \" in 2019, 2020 and 2021\"\n",
    "res_folder = 'output'\n",
    "ro.add_external_resource(res_type=res_type, input_url=res_file_url, title=res_title, description=res_description, folder=res_folder)"
   ]
  },
  {
   "cell_type": "markdown",
   "id": "4233eaa8-a6bd-4d86-b6fd-e5ed675ac944",
   "metadata": {},
   "source": [
    "#### Add second plot as Image to my Research Object (external resource from EGI Datahub)"
   ]
  },
  {
   "cell_type": "code",
   "execution_count": 90,
   "id": "c44512c5-a989-45a8-9b47-a66c8e0bc3c1",
   "metadata": {},
   "outputs": [
    {
     "name": "stdout",
     "output_type": "stream",
     "text": [
      "https://cesnet-oneprovider-01.datahub.egi.eu/api/v3/oneprovider/files/Reliance/Climate_ES_NO2_March/output/NO2_March _ES_2021-03-15.png\n",
      "Resource was successfully created with id = 3a4d9e49-73e9-46d4-9ce2-f2c25c5f072c\n"
     ]
    },
    {
     "data": {
      "text/plain": [
       "Resource(identifier=3a4d9e49-73e9-46d4-9ce2-f2c25c5f072c, post_request=False)"
      ]
     },
     "execution_count": 90,
     "metadata": {},
     "output_type": "execute_result"
    }
   ],
   "source": [
    "shared_plot_path = os.path.join(OUTPUT_DATA_DIR, variable_name + '_' + month_name + ' _' + country_code + '_2021-' + month_number + '-15.png')\n",
    "res_file_url = egi_datahub_getlink(DATAHUB_TOKEN, shared_plot_path)\n",
    "res_type = \"Image\"\n",
    "res_title = variable_long_name + \" [\" + variable_unit + \"] over \" + country_fullname + \" on \" + month_name +  \" 15, 2021\"\n",
    "res_description=\"Daily average maps of CAMS \" + variable_long_name + variable_unit + \"] over \" + country_fullname + \" on \" + month_name + \" 15, 2021\"\n",
    "res_folder = 'output'\n",
    "ro.add_external_resource(res_type=res_type, input_url=res_file_url, title=res_title, description=res_description, folder=res_folder)"
   ]
  },
  {
   "cell_type": "markdown",
   "id": "92b3e6eb-14a9-4f65-936f-2eb061688b4f",
   "metadata": {},
   "source": [
    "#### Add netCDF file corresponding to Data cube selection (external resource from EGI Datahub)"
   ]
  },
  {
   "cell_type": "code",
   "execution_count": 91,
   "id": "dd008fe4-c185-4567-a717-1ba03dee4bc9",
   "metadata": {},
   "outputs": [
    {
     "name": "stdout",
     "output_type": "stream",
     "text": [
      "https://cesnet-oneprovider-01.datahub.egi.eu/api/v3/oneprovider/files/Reliance/Climate_ES_NO2_March/output/NO2_March_ES_2019-2021.nc\n",
      "Resource was successfully created with id = 6c3046e0-889f-45d6-8b34-84fdecc940a4\n"
     ]
    },
    {
     "data": {
      "text/plain": [
       "Resource(identifier=6c3046e0-889f-45d6-8b34-84fdecc940a4, post_request=False)"
      ]
     },
     "execution_count": 91,
     "metadata": {},
     "output_type": "execute_result"
    }
   ],
   "source": [
    "shared_plot_path = os.path.join(OUTPUT_DATA_DIR, variable_name + '_' + month_name + '_' + country_code + '_2019-2021.nc')\n",
    "res_file_url = egi_datahub_getlink(DATAHUB_TOKEN, shared_plot_path)\n",
    "res_type=\"Result\"\n",
    "res_title=\"netCDF data for daily \" + variable_name + \"over \" + country_fullname + \" in \" + month_name + \" 2019, 2020 and 2021\"\n",
    "res_description=\"netCDF data corresponding to daily average of CAMS \" + variable_long_name + \" [\" + variable_unit + \"] over \" + country_fullname + \" for \" +  month_name + \" 2019, \" + month_name + \" 2020 and \" + month_name + \" 2021\"\n",
    "res_folder = 'output'\n",
    "ro.add_external_resource(res_type=res_type, input_url=res_file_url, title=res_title, description=res_description, folder=res_folder)"
   ]
  },
  {
   "cell_type": "markdown",
   "id": "9fd455a2-6217-45c7-a69f-1249e82780be",
   "metadata": {},
   "source": [
    "## Additional metadata for the RO"
   ]
  },
  {
   "cell_type": "markdown",
   "id": "8503028a-155b-4f37-a357-81cd08a23b79",
   "metadata": {},
   "source": [
    "### Add geolocation to my Research Object\n",
    "- We need to transform our geojson file into geojson-ld"
   ]
  },
  {
   "cell_type": "code",
   "execution_count": 92,
   "id": "bf9eb7fe-c60c-46e7-9683-208dfc656dc4",
   "metadata": {},
   "outputs": [],
   "source": [
    "from geojson_rewind import rewind\n",
    "import json"
   ]
  },
  {
   "cell_type": "code",
   "execution_count": 93,
   "id": "fa9ea80e-df4c-4e01-97a3-c1d665e3a540",
   "metadata": {},
   "outputs": [],
   "source": [
    "geojson_ld_file = os.path.join(INPUT_DATA_DIR, country_code.lower() + '.geo-ld.json')\n",
    "bkfile = geojson_ld_file + '.bak'\n",
    "if os.path.exists(bkfile):\n",
    "    os.remove(bkfile)\n",
    "if os.path.exists(geojson_ld_file):\n",
    "    os.rename(geojson_ld_file, bkfile)\n",
    "shutil.copy2(os.path.join(INPUT_DATA_DIR, country_code.lower() + '.geo.json'), geojson_ld_file)\n",
    "\n",
    "with open(geojson_ld_file , 'r+') as f:\n",
    "    data = json.load(f)\n",
    "    output = rewind(data)\n",
    "    output['@context'] = { \"geojson\": \"https://purl.org/geojson/vocab#\" } \n",
    "    f.seek(0)        \n",
    "    json.dump(output, f, indent=None)\n",
    "    f.truncate()"
   ]
  },
  {
   "cell_type": "code",
   "execution_count": 94,
   "id": "96583bed-485e-44b7-9f28-a427af5f73cf",
   "metadata": {},
   "outputs": [
    {
     "data": {
      "text/plain": [
       "[{'identifier': 'e01b460d-db4f-4426-87ab-4495cf7b2860',\n",
       "  'shared_link': 'https://w3id.org/ro-id/2f4c4963-ba0f-4069-a211-988fb62006ef/annotations/e01b460d-db4f-4426-87ab-4495cf7b2860',\n",
       "  'name': 'annotations/e01b460d-db4f-4426-87ab-4495cf7b2860',\n",
       "  'filename': '.ro/annotations/e01b460d-db4f-4426-87ab-4495cf7b2860.ttl',\n",
       "  'relation': False,\n",
       "  'read_only': False,\n",
       "  'target': '2f4c4963-ba0f-4069-a211-988fb62006ef',\n",
       "  'ro': '2f4c4963-ba0f-4069-a211-988fb62006ef',\n",
       "  'resources': [],\n",
       "  'created': '2022-05-01T20:18:52.528984+0000',\n",
       "  'creator': 'annefou@geo.uio.no',\n",
       "  'modificator': None,\n",
       "  'modified': '2022-05-01T20:18:52.528921+0000',\n",
       "  'authors_credits': ['annefou@geo.uio.no'],\n",
       "  'contributors_credits': [],\n",
       "  'api_link': 'https://api.rohub.org/api/annotations/e01b460d-db4f-4426-87ab-4495cf7b2860/'}]"
      ]
     },
     "execution_count": 94,
     "metadata": {},
     "output_type": "execute_result"
    }
   ],
   "source": [
    "geolocation_file_path = os.path.join(INPUT_DATA_DIR, country_code.lower() + '.geo.json')\n",
    "ro.add_geolocation(body_specification_json=geolocation_file_path)"
   ]
  },
  {
   "cell_type": "markdown",
   "id": "cead124a-adc1-43f0-b7fa-d846df3c9d8b",
   "metadata": {},
   "source": [
    "### Add tags"
   ]
  },
  {
   "cell_type": "code",
   "execution_count": 95,
   "id": "9553b056-37c4-4366-a6dd-ba30360b39df",
   "metadata": {},
   "outputs": [
    {
     "data": {
      "text/plain": [
       "{'identifier': '279b32d0-848f-4aad-891d-31ac206e26ea',\n",
       " 'ro': '2f4c4963-ba0f-4069-a211-988fb62006ef',\n",
       " 'keywords': ['air quality',\n",
       "  'CAMS',\n",
       "  'copernicus',\n",
       "  'jupyter-notebook',\n",
       "  'NO2',\n",
       "  'Spain']}"
      ]
     },
     "execution_count": 95,
     "metadata": {},
     "output_type": "execute_result"
    }
   ],
   "source": [
    "ro.add_keywords(keywords=[country_fullname, \"CAMS\", \"air quality\", \"copernicus\", variable_name, \"jupyter-notebook\"])"
   ]
  },
  {
   "cell_type": "markdown",
   "id": "5a3a8e18-c457-4577-b30f-4dfad3448997",
   "metadata": {},
   "source": [
    "### Export to RO-crate"
   ]
  },
  {
   "cell_type": "code",
   "execution_count": 96,
   "id": "7e35fe3b-c7fd-48f4-9549-e1d438eabf01",
   "metadata": {},
   "outputs": [
    {
     "name": "stdout",
     "output_type": "stream",
     "text": [
      "File was successfully downloaded.\n"
     ]
    }
   ],
   "source": [
    "ro.export_to_rocrate(filename=\"climate_EU-CAMS_\" + country_code +  \"_\" + variable_name + \"_ro-crate\", use_format=\"zip\")"
   ]
  },
  {
   "cell_type": "markdown",
   "id": "5899f543-fc33-4bfc-aba8-fe2351efbf8a",
   "metadata": {
    "tags": [
     "EOSC",
     "Jupyter",
     "Notebook",
     "Pangeo"
    ]
   },
   "source": [
    "### Take a snapshot of my RO"
   ]
  },
  {
   "cell_type": "code",
   "execution_count": 97,
   "id": "57ac1fb9-fdbf-4325-8095-a8fcc1bedb9d",
   "metadata": {},
   "outputs": [],
   "source": [
    "#snapshot_id=ro.snapshot()"
   ]
  },
  {
   "cell_type": "markdown",
   "id": "23626464-5bc4-458f-9826-f106b22c159a",
   "metadata": {},
   "source": [
    "### Archive and publish to Zenodo, optionally assign DOI "
   ]
  },
  {
   "cell_type": "code",
   "execution_count": 106,
   "id": "f55b77a8-dcef-4544-8681-cb894951b156",
   "metadata": {},
   "outputs": [
    {
     "name": "stdout",
     "output_type": "stream",
     "text": [
      "Trying to confirm status of the job. It can take a while...\n"
     ]
    }
   ],
   "source": [
    "snapshot_title=\"Jupyter Notebook Analysing the Air quality during Covid-19 pandemic using Copernicus Atmosphere Monitoring Service - Applied over \"  + country_fullname + ' (' + month_name + \" 2019, 2020, 2021) with \" + variable_long_name\n",
    "#snapshot_id_pub=ro.snapshot(title=snapshot_title, create_doi=True, publication_services=[\"Zenodo\"])\n",
    "#snapshot_id_pub"
   ]
  },
  {
   "cell_type": "markdown",
   "id": "33b6ef6e-d811-40e2-9852-e92925324939",
   "metadata": {},
   "source": [
    "### Load the published Research Object"
   ]
  },
  {
   "cell_type": "code",
   "execution_count": 99,
   "id": "0c96bf47-7bd6-49db-8107-0267210beaec",
   "metadata": {
    "tags": []
   },
   "outputs": [],
   "source": [
    "#published_ro = rohub.ros_load(identifier=snapshot_id)"
   ]
  },
  {
   "cell_type": "markdown",
   "id": "5f36bdf4-06a0-4511-a376-3a5d5fe99c37",
   "metadata": {},
   "source": [
    "### Show the DOI and get the link"
   ]
  },
  {
   "cell_type": "code",
   "execution_count": 100,
   "id": "0cb0e238-72cb-4817-a531-7a035e503046",
   "metadata": {},
   "outputs": [],
   "source": [
    "#published_ro.show_publication()"
   ]
  },
  {
   "cell_type": "markdown",
   "id": "a6ccc5b0-23bb-4159-833a-57fb1b45f4f4",
   "metadata": {},
   "source": [
    "### Fork and reuse existing RO to create derivative work"
   ]
  },
  {
   "cell_type": "code",
   "execution_count": 101,
   "id": "9d4482db-b29b-417a-9654-3cb9197566e6",
   "metadata": {},
   "outputs": [],
   "source": [
    "#fork_id=ro.fork(title=\"Forked Jupyter Notebook to analyze  the Air quality during Covid-19 pandemic using Copernicus Atmosphere Monitoring Service\")\n",
    "#forked_ro = rohub.ros_load(identifier=fork_id)\n",
    "#forked_ro.show_metadata()"
   ]
  },
  {
   "cell_type": "code",
   "execution_count": 102,
   "id": "29a825b8-63df-4d91-9ffc-aa3cc295d977",
   "metadata": {},
   "outputs": [],
   "source": [
    "#ro.delete()"
   ]
  },
  {
   "cell_type": "code",
   "execution_count": null,
   "id": "428dea99-ba3b-46c2-b756-2d53745ceacb",
   "metadata": {},
   "outputs": [],
   "source": []
  }
 ],
 "metadata": {
  "kernelspec": {
   "display_name": "cams",
   "language": "python",
   "name": "cams"
  },
  "language_info": {
   "codemirror_mode": {
    "name": "ipython",
    "version": 3
   },
   "file_extension": ".py",
   "mimetype": "text/x-python",
   "name": "python",
   "nbconvert_exporter": "python",
   "pygments_lexer": "ipython3",
   "version": "3.9.12"
  }
 },
 "nbformat": 4,
 "nbformat_minor": 5
}
