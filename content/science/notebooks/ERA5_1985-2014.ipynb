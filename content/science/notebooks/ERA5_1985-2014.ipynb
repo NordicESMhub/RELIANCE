{
 "cells": [
  {
   "cell_type": "markdown",
   "metadata": {},
   "source": [
    "# Example ERA5 \n",
    "\n",
    "### Time period\n",
    "\n",
    "We will use data from 1985 to 2014.\n",
    "\n",
    "### Variables \n",
    "\n",
    "| shortname     |             Long name                   |      Units    |  levels |\n",
    "| ------------- |:---------------------------------------:| -------------:|--------:|\n",
    "| sf            |    snowfall                             |[m of water eq]| surface |\n",
    "| msr           |    mean_snowfall_rate                   |[kg m-2 s-1]   | surface |\n",
    "| cswc          |    specific_snow_water_content          | [kg kg-1]     |    pl   |\n",
    "| clwc          |    specific_cloud_liquid_water_content  |   [kg kg-1]   |    pl   |\n",
    "| clic          |    specific_cloud_ice_water_content     | [kg kg-1]     |    pl   |\n",
    "| t             |    temperature                          |  [K]          |    pl   |\n",
    "| 2t            |    2 metre temperature                  |  [K]          | surface |\n",
    "| tclw          |   Total column cloud liquid water       |  [kg m-2]     | single  |\n",
    "| tciw          |   Total column cloud ice water          |  [kg m-2]     | single  |\n",
    "| tp            |   Total precipitation                   |  [m]          | surface |\n",
    "\n",
    "\n",
    "\n",
    "\n"
   ]
  },
  {
   "cell_type": "markdown",
   "metadata": {},
   "source": [
    "## Import python packages"
   ]
  },
  {
   "cell_type": "code",
   "execution_count": 16,
   "metadata": {},
   "outputs": [],
   "source": [
    "\n",
    "# supress warnings\n",
    "import warnings\n",
    "warnings.filterwarnings('ignore') # don't output warnings\n",
    "\n",
    "# import packages\n",
    "import sys\n",
    "sys.path.append('/uio/kant/geo-metos-u1/franzihe/Documents/Python/globalsnow/eosc-nordic-climate-demonstrator/work/utils')\n",
    "import xarray as xr\n",
    "xr.set_options(display_style='html')\n",
    "import intake\n",
    "import cartopy.crs as ccrs\n",
    "import cartopy as cy\n",
    "import matplotlib.pyplot as plt\n",
    "from glob import glob\n",
    "from cmcrameri import cm\n",
    "\n",
    "import functions as fct\n",
    "\n"
   ]
  },
  {
   "cell_type": "code",
   "execution_count": 17,
   "metadata": {},
   "outputs": [
    {
     "name": "stdout",
     "output_type": "stream",
     "text": [
      "The autoreload extension is already loaded. To reload it, use:\n",
      "  %reload_ext autoreload\n"
     ]
    }
   ],
   "source": [
    "# reload imports\n",
    "%load_ext autoreload\n",
    "%autoreload 2"
   ]
  },
  {
   "cell_type": "markdown",
   "metadata": {},
   "source": [
    "Open ERA5 variables"
   ]
  },
  {
   "cell_type": "code",
   "execution_count": 18,
   "metadata": {},
   "outputs": [],
   "source": [
    "input_data = '/scratch/franzihe/input'\n",
    "output_data = '/scratch/franzihe/output'"
   ]
  },
  {
   "cell_type": "code",
   "execution_count": 19,
   "metadata": {},
   "outputs": [],
   "source": [
    "era_in = '{}/ERA5/monthly_means/0.25deg'.format(input_data)\n",
    "era_out = '{}/ERA5/monthly_means/1deg'.format(output_data)\n",
    "\n",
    "variable_id=[\n",
    "            'sf', \n",
    "            # 'tciw',\n",
    "            # 'tclw',\n",
    "            # '2t'\n",
    "            # 'tp'\n",
    "             ]"
   ]
  },
  {
   "cell_type": "markdown",
   "metadata": {},
   "source": [
    "# Regrid ERA5 data to common NorESM2-MM grid"
   ]
  },
  {
   "cell_type": "code",
   "execution_count": 20,
   "metadata": {},
   "outputs": [
    {
     "name": "stdout",
     "output_type": "stream",
     "text": [
      "Create weight file: bilinear_721x1440_192x288.nc\n",
      "Remove file bilinear_721x1440_192x288.nc\n",
      "using dimensions ('lat', 'lon') from data variable sf as the horizontal dimensions for this dataset.\n",
      "sf True\n",
      "file written: /scratch/franzihe/output/ERA5/monthly_means/1deg/Amon/sf_Amon_1deg_198501_201412.nc\n"
     ]
    }
   ],
   "source": [
    "\n",
    "starty = 1985; endy = 2014\n",
    "year_range = range(starty, endy+1)\n",
    "\n",
    "# Read in regridder data (NorESM)\n",
    "cmip_file = '/scratch/franzihe/input/cmip6_hist/1deg/grid_NorESM2-MM.nc'\n",
    "ds_out = xr.open_dataset(cmip_file)\n",
    "\n",
    "counter = 0\n",
    "for var_id in variable_id:\n",
    "    # select where data should be saved\n",
    "    filename = '{}_Amon_1deg_{}01_{}12.nc'.format(var_id, starty, endy)\n",
    "    era_file_out = era_out + '/Amon/' + filename\n",
    "    files = glob(era_file_out)\n",
    "            \n",
    "    \n",
    "    \n",
    "    # Input data from ERA5 with a resolution of 0.25x0.25deg to be regridded\n",
    "    era_file_in = glob('{}/{}_Amon_ERA5_*12.nc'.format(era_in, var_id,))        \n",
    "    ds_in = xr.open_mfdataset(era_file_in)\n",
    "    ds_in = ds_in.sel(time = ds_in.time.dt.year.isin(year_range)).squeeze()\n",
    "            \n",
    "    # Regrid data\n",
    "    ds_in_regrid = fct.regrid_data(ds_in, ds_out)\n",
    "                \n",
    "    # Shift the longitude from 0-->360 to -180-->180 and sort by longitude and time\n",
    "    ds_in_regrid = ds_in_regrid.assign_coords(lon=(((ds_in_regrid.lon + 180) % 360) - 180)).sortby('lon').sortby('time')\n",
    "    \n",
    "    if variable_id[0] == '2t':\n",
    "        ds_in_regrid = ds_in_regrid.rename_vars({'t2m':variable_id[0]}, )\n",
    "                \n",
    "    if era_file_out in files:\n",
    "        print('{} is downloaded'.format(era_file_out))\n",
    "        counter += 1\n",
    "        print('Have regridded in total: {:} files'.format(str(counter))) \n",
    "    else:           \n",
    "        # Save to netcdf file\n",
    "        ds_in_regrid.to_netcdf(era_file_out)\n",
    "        ds_in.close(); ds_out.close()\n",
    "        print('file written: {}'.format(era_file_out))\n",
    "        \n",
    "    "
   ]
  },
  {
   "cell_type": "markdown",
   "metadata": {},
   "source": [
    "# Assign attributes matching the CMIP6 data"
   ]
  },
  {
   "cell_type": "code",
   "execution_count": null,
   "metadata": {},
   "outputs": [],
   "source": [
    "if variable_id[0] == 'sf':\n",
    "    ds_in_regrid[variable_id[0]] = ds_in_regrid[variable_id[0]]*1000\n",
    "    ds_in_regrid[variable_id[0]].attrs = {'units': 'mm day-1', 'long_name': 'Snowfall',}\n",
    "    \n",
    "if variable_id[0] == 'tciw':\n",
    "    ds_in_regrid[variable_id[0]] = ds_in_regrid[variable_id[0]]*1000\n",
    "    ds_in_regrid[variable_id[0]].attrs = {'units': 'g m-2', 'long_name': 'Total column cloud ice water'}\n",
    "    \n",
    "if variable_id[0] == 'tclw':\n",
    "    ds_in_regrid[variable_id[0]] = ds_in_regrid[variable_id[0]]*1000\n",
    "    ds_in_regrid[variable_id[0]].attrs = {'units': 'g m-2', 'long_name': 'Total column cloud liquid water'}\n",
    "if variable_id[0] == 'tp':\n",
    "    # The hydrological parameters have effective units of \"m of water per day\" and so they should be multiplied by 1000 to convert to kgm-2day-1 or mmday-1.\n",
    "    ds_in_regrid[variable_id[0]] = ds_in_regrid[variable_id[0]]*1000\n",
    "    ds_in_regrid[variable_id[0]].attrs = {'units': 'mm day-1', 'long_name': 'Total precipitation'}"
   ]
  },
  {
   "cell_type": "markdown",
   "metadata": {},
   "source": [
    "# Create seasonal mean/spread of all regridded ERA5\n",
    "\n",
    "...and plot seasonal mean of each individual model"
   ]
  },
  {
   "cell_type": "code",
   "execution_count": null,
   "metadata": {},
   "outputs": [],
   "source": [
    "ds_in_regrid[variable_id[0]+'_season_mean'] = ds_in_regrid[variable_id[0]].groupby('time.season').mean('time', keep_attrs = True)\n",
    "\n",
    "ds_in_regrid[variable_id[0]+'_season_std'] = ds_in_regrid[variable_id[0]].groupby('time.season').std('time', keep_attrs = True)"
   ]
  },
  {
   "cell_type": "code",
   "execution_count": null,
   "metadata": {},
   "outputs": [],
   "source": [
    "if variable_id[0] == 'sf':\n",
    "    label='Snowfall (mm$\\,$day$^{-1}$)'\n",
    "    vmin = 0\n",
    "    vmax = 2.5\n",
    "    levels = 25\n",
    "    add_colorbar=False\n",
    "    vmin_std = vmin\n",
    "    vmax_std= 0.6\n",
    "if variable_id[0] == 'tp':  \n",
    "    label='Total precipitation (mm$\\,$day$^{-1}$)' \n",
    "    vmin = 0\n",
    "    vmax=9\n",
    "    levels = 90\n",
    "    add_colorbar=False\n",
    "    vmin_std =vmin\n",
    "    vmax_std = 2.4  \n",
    "if variable_id[0] == 'tciw':\n",
    "    label='Ice Water Path (g$\\,$m$^{-2}$)'\n",
    "    vmin = 0\n",
    "    vmax=100\n",
    "    levels = 25\n",
    "    add_colorbar = False\n",
    "    vmin_std =vmin\n",
    "    vmax_std = 20\n",
    "if variable_id[0] == 'tclw':\n",
    "    label='Liquid Water Path (g$\\,$m$^{-2}$)'\n",
    "    vmin = 0\n",
    "    vmax=100\n",
    "    levels = 25\n",
    "    add_colorbar = False\n",
    "    vmin_std =vmin\n",
    "    vmax_std = 20\n",
    "if variable_id[0] == '2t':\n",
    "    label='2-m temperature (K)'\n",
    "    vmin = 246\n",
    "    vmax=300\n",
    "    levels = 40\n",
    "    add_colorbar = False\n",
    "    vmin_std = 0\n",
    "    vmax_std=6\n"
   ]
  },
  {
   "cell_type": "code",
   "execution_count": null,
   "metadata": {},
   "outputs": [],
   "source": [
    "fig, axs, im = fct.plt_spatial_seasonal_mean(ds_in_regrid[variable_id[0]+'_season_mean'], vmin, vmax, levels, add_colorbar=False, title='ERA5 - high resolution (1985 - 2014)')\n",
    "\n",
    "fig.subplots_adjust(right=0.8)\n",
    "cbar_ax = fig.add_axes([1, 0.15, 0.025, 0.7])\n",
    "cb = fig.colorbar(im, cax=cbar_ax, orientation=\"vertical\", fraction=0.046, pad=0.04)\n",
    "cb.set_label(label='MEAN - {}'.format(label), weight='bold')\n",
    "\n",
    "plt.tight_layout()\n",
    "\n",
    "# save figure to png\n",
    "figdir = '/uio/kant/geo-metos-u1/franzihe/Documents/Figures/ERA5/'\n",
    "figname = '{}_season_1deg_{}_{}.png'.format(variable_id[0], starty, endy)\n",
    "plt.savefig(figdir + figname, format = 'png', bbox_inches = 'tight', transparent = False)"
   ]
  },
  {
   "cell_type": "code",
   "execution_count": null,
   "metadata": {},
   "outputs": [],
   "source": [
    "fig, axs, im = fct.plt_spatial_seasonal_mean(ds_in_regrid[variable_id[0]+'_season_mean'], vmin, vmax, levels, add_colorbar=False, title='ERA5 - high resolution (1985 - 2014)')\n",
    "\n",
    "fig.subplots_adjust(right=0.8)\n",
    "cbar_ax = fig.add_axes([1, 0.15, 0.025, 0.7])\n",
    "cb = fig.colorbar(im, cax=cbar_ax, orientation=\"vertical\", fraction=0.046, pad=0.04)\n",
    "cb.set_label(label='MEAN - {}'.format(label), weight='bold')\n",
    "\n",
    "for ax, i in zip(axs, ds_in_regrid[variable_id[0]+'_season_std'].season):\n",
    "    sm = ds_in_regrid[variable_id[0]+'_season_std'].sel(season=i).plot.contour(ax=ax, transform=ccrs.PlateCarree(), \n",
    "                                                                      robust=True,\n",
    "                                                                      vmin = vmin_std, vmax = vmax_std,\n",
    "                                                                       levels = 6,\n",
    "                                                                      cmap=cm.lajolla,\n",
    "                                                                      add_colorbar=False)\n",
    "    \n",
    "cbar_ax = fig.add_axes([1.10, 0.15, 0.025, 0.7])\n",
    "sb = fig.colorbar(sm, cax=cbar_ax, orientation=\"vertical\", fraction=0.046, pad=0.04)\n",
    "sb.set_label(label='STD - {}'.format(label), weight='bold')\n",
    "\n",
    "\n",
    "plt.tight_layout()\n"
   ]
  },
  {
   "cell_type": "code",
   "execution_count": null,
   "metadata": {},
   "outputs": [],
   "source": [
    "# save to netcdf\n",
    "filename = '{}_1deg_{}01_{}12.nc'.format(variable_id[0], starty, endy)\n",
    "nc_out = era_out + '/' + filename\n",
    "files = glob(nc_out)\n",
    "\n",
    "\n",
    "counter = 0 \n",
    "# Save to netcdf file\n",
    "if nc_out in files:\n",
    "    print('{} is downloaded'.format(nc_out))\n",
    "    counter += 1\n",
    "    print('Have saved in total: {:} files'.format(str(counter)))\n",
    "else:\n",
    "    ds_in_regrid.to_netcdf(nc_out)\n",
    "    print('file written: .{}'.format(nc_out))\n"
   ]
  },
  {
   "cell_type": "code",
   "execution_count": null,
   "metadata": {},
   "outputs": [],
   "source": []
  }
 ],
 "metadata": {
  "interpreter": {
   "hash": "7f24944080b15318569c1ef785be98f8dd5a0531d3a23558ab9e7edab213d92e"
  },
  "kernelspec": {
   "display_name": "Python 3.9.7 64-bit ('globalsnow': conda)",
   "name": "python3"
  },
  "language_info": {
   "codemirror_mode": {
    "name": "ipython",
    "version": 3
   },
   "file_extension": ".py",
   "mimetype": "text/x-python",
   "name": "python",
   "nbconvert_exporter": "python",
   "pygments_lexer": "ipython3",
   "version": "3.8.12"
  },
  "orig_nbformat": 4
 },
 "nbformat": 4,
 "nbformat_minor": 2
}
