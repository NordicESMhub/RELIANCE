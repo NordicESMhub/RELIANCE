{
 "cells": [
  {
   "cell_type": "markdown",
   "id": "fossil-constitution",
   "metadata": {},
   "source": [
    "<img src='https://www.reliance-project.eu/wp-content/uploads/2021/03/Asset-8mdpi.svg' alt='Layout' align='left' width='25%'></img> \n",
    "<img src='https://media-exp1.licdn.com/dms/image/C560BAQFFDze0s3l-pQ/company-logo_200_200/0?e=2159024400&v=beta&t=jG_sh9NpwE6yc2TspIcL2YUR2X7OBzTrRSu6w7sNYtc' alt='Layout' align='right' width='10%'></img> "
   ]
  },
  {
   "cell_type": "markdown",
   "id": "concrete-unknown",
   "metadata": {},
   "source": [
    "# Using CAMS European air quality analysis from Copernicus Atmosphere Monitoring with RELIANCE services\n",
    "\n",
    "## Analysis over Norway"
   ]
  },
  {
   "cell_type": "markdown",
   "id": "fabulous-quantity",
   "metadata": {},
   "source": [
    "<div class=\"alert alert-success alert-info\">\n",
    "<b>How to discover RELIANCE datacube resources (spatial and temporal search and subsetting)</b></div>"
   ]
  },
  {
   "cell_type": "markdown",
   "id": "vital-joint",
   "metadata": {},
   "source": [
    "This notebook shows how to discover and access the [Copernicus Atmosphere Monitoring](https://ads.atmosphere.copernicus.eu/#!/home) products available in the **RELIANCE** datacube resources, by using the functionalities provided in the <font color='blue'> **Adam API** </font>. The process is structured in 6 steps, including example of data analysis and visualization with the Python libraries installed in the Jupyter environment.\n",
    "\n",
    "- [1. Authentication](#1.Authentication)\n",
    "- [2. Datasets Discovery](#2.Datasets_Discovery)\n",
    "- [3. Products Discovery](#3.Products_Discovery)\n",
    "- [4. Data Access](#4.Data_Access)\n",
    "- [5. Data Analysis and Visualizarion](#5.Data_Analysis_Visualization)warnings.filterwarnings('ignore')"
   ]
  },
  {
   "cell_type": "code",
   "execution_count": 1,
   "id": "indonesian-comment",
   "metadata": {},
   "outputs": [],
   "source": [
    "import warnings"
   ]
  },
  {
   "cell_type": "code",
   "execution_count": 2,
   "id": "sunrise-newfoundland",
   "metadata": {},
   "outputs": [],
   "source": [
    "warnings.filterwarnings('ignore')"
   ]
  },
  {
   "cell_type": "markdown",
   "id": "electronic-karen",
   "metadata": {},
   "source": [
    "## <a id=1.Authentication></a> **Step 1: Authentication** "
   ]
  },
  {
   "cell_type": "markdown",
   "id": "convertible-powder",
   "metadata": {},
   "source": [
    "The following lines of code will show the personal **Adam API-Key** of the user and the endpoint currently in use, that provide access to the products in the related catalogue. At the end of the execution, if the authentication process is successfull the personal token and the expiration time should be returned as outputs."
   ]
  },
  {
   "cell_type": "code",
   "execution_count": 3,
   "id": "whole-bracelet",
   "metadata": {},
   "outputs": [
    {
     "name": "stdout",
     "output_type": "stream",
     "text": [
      "\u001b[33mWARNING: The directory '/home/jovyan/.cache/pip' or its parent directory is not owned or is not writable by the current user. The cache has been disabled. Check the permissions and owner of that directory. If executing pip with sudo, you may want sudo's -H flag.\u001b[0m\n",
      "Requirement already satisfied: adamapi in /opt/conda/lib/python3.8/site-packages (2.0.11)\n",
      "Requirement already satisfied: requests>=2.22.0 in /opt/conda/lib/python3.8/site-packages (from adamapi) (2.25.1)\n",
      "Requirement already satisfied: imageio in /opt/conda/lib/python3.8/site-packages (from adamapi) (2.9.0)\n",
      "Requirement already satisfied: certifi>=2017.4.17 in /opt/conda/lib/python3.8/site-packages (from requests>=2.22.0->adamapi) (2021.5.30)\n",
      "Requirement already satisfied: urllib3<1.27,>=1.21.1 in /opt/conda/lib/python3.8/site-packages (from requests>=2.22.0->adamapi) (1.26.7)\n",
      "Requirement already satisfied: idna<3,>=2.5 in /opt/conda/lib/python3.8/site-packages (from requests>=2.22.0->adamapi) (2.10)\n",
      "Requirement already satisfied: chardet<5,>=3.0.2 in /opt/conda/lib/python3.8/site-packages (from requests>=2.22.0->adamapi) (4.0.0)\n",
      "Requirement already satisfied: pillow in /opt/conda/lib/python3.8/site-packages (from imageio->adamapi) (8.1.2)\n",
      "Requirement already satisfied: numpy in /opt/conda/lib/python3.8/site-packages (from imageio->adamapi) (1.20.1)\n"
     ]
    }
   ],
   "source": [
    "!pip install adamapi"
   ]
  },
  {
   "cell_type": "code",
   "execution_count": 4,
   "id": "every-watch",
   "metadata": {},
   "outputs": [
    {
     "data": {
      "text/plain": [
       "{'expires_at': '2021-10-06T19:27:18.401Z',\n",
       " 'access_token': '9c5d09dedafe42eca1b4d03d645ddbaf',\n",
       " 'refresh_token': 'a9cab12f1c4e4dbc9d480cb38150f66e',\n",
       " 'expires_in': 3600}"
      ]
     },
     "execution_count": 4,
     "metadata": {},
     "output_type": "execute_result"
    }
   ],
   "source": [
    "import adamapi as adam\n",
    "a = adam.Auth()\n",
    "a.setKey('d2rPsRgBMM29mdFRP96juOvdPzg4ku2vwWEvnsBWXAM')\n",
    "a.setAdamCore('https://reliance.adamplatform.eu')\n",
    "a.authorize() "
   ]
  },
  {
   "cell_type": "markdown",
   "id": "cubic-means",
   "metadata": {
    "jupyter": {
     "outputs_hidden": true
    },
    "tags": []
   },
   "source": [
    "## <a id=2.Datasets_Discovery></a> **Step 2: Datasets Discovery**"
   ]
  },
  {
   "cell_type": "markdown",
   "id": "victorian-respondent",
   "metadata": {},
   "source": [
    "After the authorization, the user can browse the whole catalogue, structured as a JSON object after a pagination process,  displaying all the available datasets. This operation can be executed with the <font color='blue'> **getDatasets()** </font> function without including any argument. Some lines of code should be added to parse the Json object and extract the names of the datasets.The Json object can be handled as a Python dictionary."
   ]
  },
  {
   "cell_type": "markdown",
   "id": "exciting-messenger",
   "metadata": {},
   "source": [
    "### Pre-filter datasets\n",
    "\n",
    "We will discover all the available datasets in the ADAM platform but will only print elements of interest **EU_CAMS** e.g. [European air quality datasets](https://ads.atmosphere.copernicus.eu/cdsapp#!/dataset/cams-europe-air-quality-forecasts?tab=overview) from Copernicus Atmosphere Monitoring Service"
   ]
  },
  {
   "cell_type": "code",
   "execution_count": 5,
   "id": "adequate-earth",
   "metadata": {},
   "outputs": [
    {
     "name": "stdout",
     "output_type": "stream",
     "text": [
      "----------------------------------------------------------------------\n",
      "\u001b[1mList of available datasets:\n",
      "\u001b[0m\n",
      "EU_CAMS_SURFACE_C2H3NO5_G\u001b[1m --> datasetId \u001b[0m= 69619:EU_CAMS_SURFACE_C2H3NO5_G\n",
      "EU_CAMS_SURFACE_CO_G\u001b[1m --> datasetId \u001b[0m= 69620:EU_CAMS_SURFACE_CO_G\n",
      "EU_CAMS_SURFACE_NH3_G\u001b[1m --> datasetId \u001b[0m= 69621:EU_CAMS_SURFACE_NH3_G\n",
      "EU_CAMS_SURFACE_NMVOC_G\u001b[1m --> datasetId \u001b[0m= 69622:EU_CAMS_SURFACE_NMVOC_G\n",
      "EU_CAMS_SURFACE_NO2_G\u001b[1m --> datasetId \u001b[0m= 69623:EU_CAMS_SURFACE_NO2_G\n",
      "EU_CAMS_SURFACE_NO_G\u001b[1m --> datasetId \u001b[0m= 69624:EU_CAMS_SURFACE_NO_G\n",
      "EU_CAMS_SURFACE_O3_G\u001b[1m --> datasetId \u001b[0m= 69625:EU_CAMS_SURFACE_O3_G\n",
      "EU_CAMS_SURFACE_PM10_G\u001b[1m --> datasetId \u001b[0m= 69626:EU_CAMS_SURFACE_PM10_G\n",
      "EU_CAMS_SURFACE_PM25_G\u001b[1m --> datasetId \u001b[0m= 69627:EU_CAMS_SURFACE_PM25_G\n",
      "EU_CAMS_SURFACE_REC_G\u001b[1m --> datasetId \u001b[0m= 69628:EU_CAMS_SURFACE_REC_G\n",
      "EU_CAMS_SURFACE_SIA_G\u001b[1m --> datasetId \u001b[0m= 69629:EU_CAMS_SURFACE_SIA_G\n",
      "EU_CAMS_SURFACE_SO2_G\u001b[1m --> datasetId \u001b[0m= 69630:EU_CAMS_SURFACE_SO2_G\n",
      "EU_CAMS_SURFACE_TEC_G\u001b[1m --> datasetId \u001b[0m= 69631:EU_CAMS_SURFACE_TEC_G\n"
     ]
    }
   ],
   "source": [
    "from adamapi import Datasets\n",
    "\n",
    "datasets = Datasets(a)\n",
    "catalogue = datasets.getDatasets()\n",
    "\n",
    "#Extracting the size of the catalogue\n",
    "\n",
    "total = catalogue['properties']['totalResults']\n",
    "items = catalogue['properties']['itemsPerPage']\n",
    "pages = total//items\n",
    "\n",
    "print('----------------------------------------------------------------------')\n",
    "print('\\033[1m' + 'List of available datasets:')\n",
    "print ('\\033[0m')\n",
    "\n",
    "#Extracting the list of datasets across the whole catalogue\n",
    "\n",
    "for i in range(0,pages):\n",
    "    page = datasets.getDatasets(page = i)\n",
    "    for element in page['content']: \n",
    "        if 'EU_CAMS' in element['title'] :\n",
    "            print(element['title'] + \"\\033[1m\" + \" --> datasetId \"+ \"\\033[0m\" + \"= \" + element['datasetId'])"
   ]
  },
  {
   "cell_type": "markdown",
   "id": "exterior-thinking",
   "metadata": {},
   "source": [
    "We are interested by **Particulate matter < 10 µm (PM10)** so we will discover **EU_CAMS_SURFACE_PM10_G** and print the metadata of this particular dataset, showing the data provenance."
   ]
  },
  {
   "cell_type": "code",
   "execution_count": 6,
   "id": "limited-istanbul",
   "metadata": {
    "tags": []
   },
   "outputs": [
    {
     "name": "stdout",
     "output_type": "stream",
     "text": [
      "\u001b[1;34mMetadata of 69626:EU_CAMS_SURFACE_PM10_G:\n",
      "\u001b[0;0m\n",
      "\u001b[1mdatasetId\u001b[0m: 69626:EU_CAMS_SURFACE_PM10_G\n",
      "\u001b[1mcreationDate\u001b[0m: 2021-07-12T02:00:00Z\n",
      "\u001b[1mdataType\u001b[0m: Float32\n",
      "\u001b[1mepsg\u001b[0m: 4326\n",
      "\u001b[1mkeywords\u001b[0m: []\n",
      "\u001b[1mlicense\u001b[0m: {'documentationUrl': '', 'dataProviderName': 'ADS', 'dataProviderUrl': '', 'licenseId': '', 'dataPolicy': '', 'doi': '', 'credits': ''}\n",
      "\u001b[1mmaxValue\u001b[0m: [2645.995849609375]\n",
      "\u001b[1mminValue\u001b[0m: [0.003789698239415884]\n",
      "\u001b[1mnumberOfRecords\u001b[0m: 56702\n",
      "\u001b[1mprofile\u001b[0m: {'profileSchema': 'eo_profile_schema.json', 'name': 'Earth Observation', 'mission': 'CAMS', 'sensor': 'CAMS', 'processingLevel': 'forecast', 'instrument': '', 'platform': ''}\n",
      "\u001b[1mresolutionUnit\u001b[0m: degree\n",
      "\u001b[1mtemporalResolution\u001b[0m: Hourly\n",
      "\u001b[1munit\u001b[0m: \n",
      "\u001b[1munitDescription\u001b[0m: \n",
      "\u001b[1mupdateDate\u001b[0m: 2021-10-06T18:01:56Z\n",
      "\u001b[1mgeometry\u001b[0m: {'type': 'Polygon', 'coordinates': [[[-25.000012, 29.999997], [44.999988, 29.999997], [44.999988, 71.999997], [-25.000012, 71.999997], [-25.000012, 29.999997]]]}\n",
      "\u001b[1mresolutions\u001b[0m: [0.1]\n",
      "\u001b[1manyText\u001b[0m: 4326,ESA,Daily,ESA\n",
      "\u001b[1mapplications\u001b[0m: ['Atmosphere']\n",
      "\u001b[1mdatasetManager\u001b[0m: govoni@meeo.it\n",
      "\u001b[1mdatasetManagerOrganisation\u001b[0m: meeo\n",
      "\u001b[1mdescription\u001b[0m: This dataset provides daily air quality analyses and forecasts for Europe.\n",
      "\n",
      "CAMS produces specific daily air quality analyses and forecasts for the European domain at significantly higher spatial resolution (0.1 degrees, approx. 10km) than is available from the global analyses and forecasts. The production is based on an ensemble of nine air quality forecasting systems across Europe. A median ensemble is calculated from individual outputs, since ensemble products yield on average better performance than the individual model products. The spread between the nine models are used to provide an estimate of the forecast uncertainty. The analysis combines model data with observations provided by the European Environment Agency (EEA) into a complete and consistent dataset using various data assimilation techniques depending upon the air-quality forecasting system used. In parallel, air quality forecasts are produced once a day for the next four days. Both the analysis and the forecast are available at hourly time steps at seven height levels.\n",
      "\n",
      "Note that only nitrogen monoxide, nitrogen dioxide, sulphur dioxide, ozone, PM2.5, PM10 and dust are regularly validated against in situ observations, and therefore forecasts of all other variables are unvalidated and should be considered experimental.\n",
      "\u001b[1mtitle\u001b[0m: EU_CAMS_SURFACE_PM10_G\n",
      "\u001b[1mnoDataValue\u001b[0m: 0\n",
      "\u001b[1mtimeReferenceSystem\u001b[0m: UTC\n",
      "\u001b[1munits\u001b[0m: µg m-3\n",
      "\u001b[1munitsDescription\u001b[0m: PM10\n",
      "\u001b[1mservices\u001b[0m: ['MWCS', 'ADAM', 'AdamApi']\n",
      "\u001b[1mtechnicalManager\u001b[0m: govoni@meeo.it\n",
      "\u001b[1mfiltersEnabled\u001b[0m: {'type': 'object', 'title': 'Dataset filters', 'properties': {'startDate': {'title': 'Start Date', 'type': 'string', 'format': 'date', 'text_rule': 'false', 'ops_only': 'false', 'math_rule': 'false', 'order_rule': 'false', 'pattern': '^d{4}-[01]d-[0-3]d(T[0-2]d:[0-9]d:[0-9]dZ)?$'}, 'endDate': {'title': 'End Date', 'type': 'string', 'format': 'date', 'ops_only': 'false', 'text_rule': 'false', 'math_rule': 'false', 'order_rule': 'false', 'pattern': '^d{4}-[01]d-[0-3]d(T[0-2]d:[0-9]d:[0-9]dZ)?$'}}}\n",
      "\u001b[1mstarDate\u001b[0m: 2018-07-12T00:00:00Z\n",
      "\u001b[1mendDate\u001b[0m: 2021-10-05T23:00:00Z\n",
      "\u001b[1maccounting\u001b[0m: {'unit': 0.0032}\n"
     ]
    }
   ],
   "source": [
    "datasetID = '69626:EU_CAMS_SURFACE_PM10_G'\n",
    "\n",
    "print('\\033[1;34m' + 'Metadata of ' + datasetID + ':')\n",
    "print ('\\033[0;0m')\n",
    "\n",
    "paged = datasets.getDatasets(datasetID)\n",
    "for i in paged.items():\n",
    "    print(\"\\033[1m\" +  str(i[0]) + \"\\033[0m\" + ': ' + str(i[1]))"
   ]
  },
  {
   "cell_type": "markdown",
   "id": "effective-brazil",
   "metadata": {},
   "source": [
    "## <a id=3.Products_Discovery></a> **Step 3: Products Discovery**"
   ]
  },
  {
   "cell_type": "markdown",
   "id": "billion-theme",
   "metadata": {},
   "source": [
    "The products discovery operation related to a specific dataset is implemented in the Adam API with the <font color='blue'> **getProducts()** </font> function. A combined **spatial and temporal search** can be requested by specifying the <font color='red'> **datasetId** </font> for the selected dataset,the <font color='red'> **geometry** </font> argument that specifies the <u>Area Of Interest</u> and a temporal range, defined by `startDate` and `endDate` . The geometry must **<u>always</u>** be defined by a <font color='red'> **GeoJson object** </font> that describes the polygon in the **<u>counterclockwise winding order**</u>. The optional arguments `startIndex` and `maxRecords` can set the list of the results returned as an output. The results of the search are displayed with their metadata and they are sorted starting from the most recent product."
   ]
  },
  {
   "cell_type": "markdown",
   "id": "structured-struggle",
   "metadata": {},
   "source": [
    "### Generate geometry for a given country\n",
    "The geometry field is extracted from a GeoJSON object , retrieving the value of the \"feature\" element.\n"
   ]
  },
  {
   "cell_type": "code",
   "execution_count": 7,
   "id": "indirect-sigma",
   "metadata": {
    "collapsed": true,
    "jupyter": {
     "outputs_hidden": true
    },
    "tags": []
   },
   "outputs": [
    {
     "name": "stdout",
     "output_type": "stream",
     "text": [
      "--2021-10-06 18:27:58--  https://raw.githubusercontent.com/mledoze/countries/master/data/nor.geo.json\n",
      "Resolving raw.githubusercontent.com (raw.githubusercontent.com)... 185.199.108.133, 185.199.109.133, 185.199.110.133, ...\n",
      "Connecting to raw.githubusercontent.com (raw.githubusercontent.com)|185.199.108.133|:443... connected.\n",
      "HTTP request sent, awaiting response... 200 OK\n",
      "Length: 180319 (176K) [text/plain]\n",
      "Saving to: ‘nor.geo.json.1’\n",
      "\n",
      "nor.geo.json.1      100%[===================>] 176.09K  --.-KB/s    in 0.02s   \n",
      "\n",
      "2021-10-06 18:27:58 (9.94 MB/s) - ‘nor.geo.json.1’ saved [180319/180319]\n",
      "\n"
     ]
    }
   ],
   "source": [
    "!wget https://raw.githubusercontent.com/mledoze/countries/master/data/nor.geo.json"
   ]
  },
  {
   "cell_type": "markdown",
   "id": "smaller-journalism",
   "metadata": {},
   "source": [
    "### Search data"
   ]
  },
  {
   "cell_type": "code",
   "execution_count": 8,
   "id": "patent-ability",
   "metadata": {},
   "outputs": [
    {
     "name": "stdout",
     "output_type": "stream",
     "text": [
      "\u001b[33mWARNING: The directory '/home/jovyan/.cache/pip' or its parent directory is not owned or is not writable by the current user. The cache has been disabled. Check the permissions and owner of that directory. If executing pip with sudo, you may want sudo's -H flag.\u001b[0m\n",
      "Requirement already satisfied: geojson_rewind in /opt/conda/lib/python3.8/site-packages (1.0.1)\n"
     ]
    }
   ],
   "source": [
    "!pip install geojson_rewind"
   ]
  },
  {
   "cell_type": "code",
   "execution_count": 9,
   "id": "induced-performer",
   "metadata": {},
   "outputs": [],
   "source": [
    "from adamapi import Search\n",
    "from geojson_rewind import rewind\n",
    "import json"
   ]
  },
  {
   "cell_type": "markdown",
   "id": "agreed-salon",
   "metadata": {},
   "source": [
    "The GeoJson object needs to be rearranged according to the counterclockwise winding order.This operation is executed in the next few lines to obtain \n",
    "a geometry that meets the requirements of the method. **Geom_1** is the final result to be used in the discovery operation."
   ]
  },
  {
   "cell_type": "code",
   "execution_count": 10,
   "id": "pursuant-validity",
   "metadata": {},
   "outputs": [],
   "source": [
    "with open('nor.geo.json') as f:\n",
    "    geom_dict = json.load(f)\n",
    "output = rewind(geom_dict)    \n",
    "geom_1 = str(geom_dict['features'][0]['geometry'])"
   ]
  },
  {
   "cell_type": "markdown",
   "id": "certain-labor",
   "metadata": {},
   "source": [
    "Copernicus air quality analyses are hourly product but when we select a given date, we will only get the first 10 products. \n",
    "Below, we make a list of the first 10 available products for the 1st September 2020 e.g. we restrict our search to this date."
   ]
  },
  {
   "cell_type": "code",
   "execution_count": 11,
   "id": "ordinary-server",
   "metadata": {},
   "outputs": [],
   "source": [
    "start_date = '2019-09-01'\n",
    "end_date = '2019-09-01'"
   ]
  },
  {
   "cell_type": "code",
   "execution_count": 12,
   "id": "conservative-bronze",
   "metadata": {
    "tags": []
   },
   "outputs": [
    {
     "ename": "AdamApiError",
     "evalue": "Internal Server Error",
     "output_type": "error",
     "traceback": [
      "\u001b[0;31m---------------------------------------------------------------------------\u001b[0m",
      "\u001b[0;31mAdamApiError\u001b[0m                              Traceback (most recent call last)",
      "\u001b[0;32m<ipython-input-12-34f689e900d4>\u001b[0m in \u001b[0;36m<module>\u001b[0;34m\u001b[0m\n\u001b[1;32m      1\u001b[0m \u001b[0msearch\u001b[0m \u001b[0;34m=\u001b[0m \u001b[0mSearch\u001b[0m\u001b[0;34m(\u001b[0m \u001b[0ma\u001b[0m \u001b[0;34m)\u001b[0m\u001b[0;34m\u001b[0m\u001b[0;34m\u001b[0m\u001b[0m\n\u001b[0;32m----> 2\u001b[0;31m results = search.getProducts(\n\u001b[0m\u001b[1;32m      3\u001b[0m     \u001b[0mdatasetID\u001b[0m\u001b[0;34m,\u001b[0m\u001b[0;34m\u001b[0m\u001b[0;34m\u001b[0m\u001b[0m\n\u001b[1;32m      4\u001b[0m     \u001b[0mgeometry\u001b[0m\u001b[0;34m=\u001b[0m \u001b[0mgeom_1\u001b[0m\u001b[0;34m,\u001b[0m\u001b[0;34m\u001b[0m\u001b[0;34m\u001b[0m\u001b[0m\n\u001b[1;32m      5\u001b[0m     \u001b[0mstartDate\u001b[0m \u001b[0;34m=\u001b[0m \u001b[0mstart_date\u001b[0m\u001b[0;34m,\u001b[0m\u001b[0;34m\u001b[0m\u001b[0;34m\u001b[0m\u001b[0m\n",
      "\u001b[0;32m/opt/conda/lib/python3.8/site-packages/adamapi/search.py\u001b[0m in \u001b[0;36mgetProducts\u001b[0;34m(self, datasetId, startIndex, maxRecords, **kwargs)\u001b[0m\n\u001b[1;32m     68\u001b[0m         \u001b[0;32mif\u001b[0m \u001b[0;34m'geometry'\u001b[0m \u001b[0;32min\u001b[0m \u001b[0mkwargs\u001b[0m\u001b[0;34m:\u001b[0m\u001b[0;34m\u001b[0m\u001b[0;34m\u001b[0m\u001b[0m\n\u001b[1;32m     69\u001b[0m             \u001b[0mself\u001b[0m\u001b[0;34m.\u001b[0m\u001b[0mLOG\u001b[0m\u001b[0;34m.\u001b[0m\u001b[0minfo\u001b[0m\u001b[0;34m(\u001b[0m\u001b[0mparams\u001b[0m\u001b[0;34m)\u001b[0m\u001b[0;34m\u001b[0m\u001b[0;34m\u001b[0m\u001b[0m\n\u001b[0;32m---> 70\u001b[0;31m             \u001b[0mresponse\u001b[0m\u001b[0;34m=\u001b[0m\u001b[0mself\u001b[0m\u001b[0;34m.\u001b[0m\u001b[0mclient\u001b[0m\u001b[0;34m.\u001b[0m\u001b[0mclient\u001b[0m\u001b[0;34m(\u001b[0m\u001b[0murl\u001b[0m\u001b[0;34m,\u001b[0m\u001b[0mparams\u001b[0m\u001b[0;34m,\u001b[0m\u001b[0;34m\"POST\"\u001b[0m\u001b[0;34m)\u001b[0m\u001b[0;34m.\u001b[0m\u001b[0mjson\u001b[0m\u001b[0;34m(\u001b[0m\u001b[0;34m)\u001b[0m\u001b[0;34m\u001b[0m\u001b[0;34m\u001b[0m\u001b[0m\n\u001b[0m\u001b[1;32m     71\u001b[0m         \u001b[0;32melse\u001b[0m\u001b[0;34m:\u001b[0m\u001b[0;34m\u001b[0m\u001b[0;34m\u001b[0m\u001b[0m\n\u001b[1;32m     72\u001b[0m             \u001b[0mresponse\u001b[0m\u001b[0;34m=\u001b[0m\u001b[0mself\u001b[0m\u001b[0;34m.\u001b[0m\u001b[0mclient\u001b[0m\u001b[0;34m.\u001b[0m\u001b[0mclient\u001b[0m\u001b[0;34m(\u001b[0m\u001b[0murl\u001b[0m\u001b[0;34m,\u001b[0m\u001b[0mparams\u001b[0m\u001b[0;34m,\u001b[0m\u001b[0;34m\"GET\"\u001b[0m\u001b[0;34m)\u001b[0m\u001b[0;34m.\u001b[0m\u001b[0mjson\u001b[0m\u001b[0;34m(\u001b[0m\u001b[0;34m)\u001b[0m\u001b[0;34m\u001b[0m\u001b[0;34m\u001b[0m\u001b[0m\n",
      "\u001b[0;32m/opt/conda/lib/python3.8/site-packages/adamapi/authorization.py\u001b[0m in \u001b[0;36mclient\u001b[0;34m(self, query, params, request_type, authorization_required, force_raise, enable_stream)\u001b[0m\n\u001b[1;32m    214\u001b[0m                 \u001b[0;32mreturn\u001b[0m \u001b[0mr\u001b[0m\u001b[0;34m.\u001b[0m\u001b[0mraise_for_status\u001b[0m\u001b[0;34m(\u001b[0m\u001b[0;34m)\u001b[0m\u001b[0;34m\u001b[0m\u001b[0;34m\u001b[0m\u001b[0m\n\u001b[1;32m    215\u001b[0m             \u001b[0;32melse\u001b[0m\u001b[0;34m:\u001b[0m\u001b[0;34m\u001b[0m\u001b[0;34m\u001b[0m\u001b[0m\n\u001b[0;32m--> 216\u001b[0;31m                 \u001b[0;32mraise\u001b[0m \u001b[0mAdamApiError\u001b[0m\u001b[0;34m(\u001b[0m\u001b[0mr\u001b[0m\u001b[0;34m.\u001b[0m\u001b[0mjson\u001b[0m\u001b[0;34m(\u001b[0m\u001b[0;34m)\u001b[0m\u001b[0;34m[\u001b[0m\u001b[0;34m'title'\u001b[0m\u001b[0;34m]\u001b[0m\u001b[0;34m)\u001b[0m\u001b[0;34m\u001b[0m\u001b[0;34m\u001b[0m\u001b[0m\n\u001b[0m\u001b[1;32m    217\u001b[0m         \u001b[0;32melse\u001b[0m\u001b[0;34m:\u001b[0m\u001b[0;34m\u001b[0m\u001b[0;34m\u001b[0m\u001b[0m\n\u001b[1;32m    218\u001b[0m             \u001b[0;32mreturn\u001b[0m \u001b[0mr\u001b[0m\u001b[0;34m\u001b[0m\u001b[0;34m\u001b[0m\u001b[0m\n",
      "\u001b[0;31mAdamApiError\u001b[0m: Internal Server Error"
     ]
    }
   ],
   "source": [
    "search = Search( a )\n",
    "results = search.getProducts(\n",
    "    datasetID, \n",
    "    geometry= geom_1,\n",
    "    startDate = start_date,\n",
    "    endDate = end_date\n",
    " )\n",
    "\n",
    "# Printing the results\n",
    "\n",
    "print('\\033[1m' + 'List of available products:')\n",
    "print ('\\033[0m')\n",
    "count = 1\n",
    "for i in results['content']:\n",
    "\n",
    "        print(\"\\033[1;31;1m\" + \"#\" + str(count))\n",
    "        print ('\\033[0m')\n",
    "        for k in i.items():\n",
    "            print(str(k[0]) + ': ' + str(k[1]))\n",
    "        count = count+1\n",
    "        print('------------------------------------')"
   ]
  },
  {
   "cell_type": "markdown",
   "id": "touched-breeding",
   "metadata": {},
   "source": [
    "## <a id=4.Data_Access></a> **Step 4: Data Access**"
   ]
  },
  {
   "cell_type": "markdown",
   "id": "ultimate-robert",
   "metadata": {},
   "source": [
    "After the data discovery operation that retrieves the availability of products in the catalogue, it is possible to access the data with the <font color='blue'> **getData** </font> function. Each product in the output list intersects the selected geometry and the following example shows how to access a specific product from the list of results obtained in the previous step. While the <font color='red'> **datasetId** </font> is always a mandatory parameter, for each data access request the <font color='blue'> **getData** </font> function needs only one of the following arguments: <font color='red'> **geometry** </font> or <font color='red'> **productId** </font>, that is the value of the <font color='blue'> **_id** </font> field in each product metadata. In the case of a <u>**spatial and temporal search**</u> the geometry must be provided to the function, together with the time range of interest. \n",
    "The output of the <font color='blue'> **getData** </font> function is <u>always</u> a <font color='red'> **.zip** </font> file containing the data retrieved with the data access request, providing the spatial **subset** of the product. The zip file will contain a geotiff file for each of the spatial subsets extracted in the selected time range."
   ]
  },
  {
   "cell_type": "code",
   "execution_count": 13,
   "id": "worldwide-ending",
   "metadata": {},
   "outputs": [],
   "source": [
    "from adamapi import GetData"
   ]
  },
  {
   "cell_type": "markdown",
   "id": "pacific-electron",
   "metadata": {},
   "source": [
    "#### Define a function to select a time range and get data"
   ]
  },
  {
   "cell_type": "code",
   "execution_count": 14,
   "id": "august-agreement",
   "metadata": {},
   "outputs": [],
   "source": [
    "def getZipData(auth, dataset_info):\n",
    "    data=GetData(auth)\n",
    "    image = data.getData(\n",
    "    datasetId = dataset_info['datasetID'],\n",
    "    startDate = dataset_info['startDate'],\n",
    "    endDate = dataset_info['endDate'],\n",
    "    geometry = dataset_info['geometry'],\n",
    "    outputFname = dataset_info['outputFname'])\n",
    "    print(image)"
   ]
  },
  {
   "cell_type": "markdown",
   "id": "pacific-fishing",
   "metadata": {},
   "source": [
    "#### Get PM10 for each day of September 2019, 2020 and 2021 (time 00:00:00)\n",
    "\n",
    "This process can take a bit of time so be patient!"
   ]
  },
  {
   "cell_type": "code",
   "execution_count": 15,
   "id": "three-thirty",
   "metadata": {},
   "outputs": [],
   "source": [
    "import time\n",
    "from IPython.display import clear_output"
   ]
  },
  {
   "cell_type": "code",
   "execution_count": null,
   "id": "declared-flesh",
   "metadata": {
    "collapsed": true,
    "jupyter": {
     "outputs_hidden": true
    },
    "tags": []
   },
   "outputs": [
    {
     "name": "stdout",
     "output_type": "stream",
     "text": [
      "AF  {'type': 'MultiPolygon', 'coordinates': [[[[9.4858320000001, 42.615273], [9.49472, 42.603607], [9.4827770000001, 42.613052], [9.47778, 42.617218], [9.465277, 42.630829], [9.457777, 42.643326], [9.4858320000001, 42.615273]]], [[[9.446665, 42.67889], [9.4480550000001, 42.64944], [9.452221, 42.630272], [9.473888, 42.582222], [9.47805, 42.576111], [9.50555, 42.563889], [9.509998, 42.563606], [9.51139, 42.56721], [9.511665, 42.571663], [9.509443, 42.578049], [9.503054, 42.59166], [9.497221, 42.60083], [9.50028, 42.59861], [9.5202770000001, 42.572495], [9.531666, 42.54916], [9.5338880000001, 42.541939], [9.562222, 42.272774], [9.5599990000001, 42.19221], [9.5555550000001, 42.127777], [9.5533330000001, 42.115555], [9.54583, 42.102219], [9.4480550000001, 41.999443], [9.42555, 41.975], [9.41111, 41.954163], [9.405554, 41.934998], [9.397192, 41.875931], [9.396666, 41.862778], [9.398611, 41.85083], [9.402498, 41.840271], [9.404444, 41.828331], [9.404165, 41.81916], [9.398888, 41.698883], [9.382776, 41.658882], [9.379444, 41.651939], [9.366665, 41.638611], [9.32055, 41.60249], [9.27167, 41.520554], [9.241943, 41.451942], [9.247499, 41.425827], [9.25194, 41.426109], [9.2541660000001, 41.423332], [9.2541660000001, 41.41861], [9.25278, 41.41499], [9.248888, 41.408882], [9.2225, 41.368607], [9.219166, 41.366386], [9.214443, 41.365555], [9.18611, 41.364166], [9.1808320000001, 41.364716], [9.17722, 41.366661], [9.132221, 41.394165], [9.115833, 41.431938], [8.978054, 41.476662], [8.97389, 41.47805], [8.94111, 41.489441], [8.9175, 41.499718], [8.791943, 41.55555], [8.789165, 41.55805], [8.78861, 41.562218], [8.78555, 41.613327], [8.792776, 41.62944], [8.79472, 41.6325], [8.801666, 41.636665], [8.80611, 41.637772], [8.810833, 41.63694], [8.8124980000001, 41.63361], [8.816111, 41.63166], [8.82111, 41.6325], [8.87361, 41.646942], [8.8766650000001, 41.649162], [8.913887, 41.676384], [8.919443, 41.681389], [8.921389, 41.684441], [8.921389, 41.68805], [8.919722, 41.69138], [8.916111, 41.693329], [8.9111100000001, 41.69416], [8.8788870000001, 41.698051], [8.85667, 41.698326], [8.85055, 41.698608], [8.840832, 41.700554], [8.7969440000001, 41.710274], [8.7258320000001, 41.729439], [8.705, 41.75944], [8.74778, 41.810555], [8.78889, 41.853333], [8.803055, 41.8975], [8.8025000000001, 41.901665], [8.800833, 41.904999], [8.7841660000001, 41.924438], [8.78111, 41.926666], [8.773054, 41.929993], [8.749722, 41.933327], [8.744165, 41.933609], [8.740555, 41.931938], [8.738054, 41.929161], [8.735832, 41.921387], [8.7327770000001, 41.919167], [8.717222, 41.912498], [8.707222, 41.910828], [8.66861, 41.908333], [8.627222, 41.90666], [8.592777, 41.95694], [8.58861, 41.963051], [8.589443, 41.96611], [8.593054, 41.968048], [8.6136090000001, 41.97083], [8.634998, 41.96833], [8.6461110000001, 41.969162], [8.664999, 41.982498], [8.6675, 41.98527], [8.66805, 41.988327], [8.659443, 42.008331], [8.740555, 42.040833], [8.744999, 42.046944], [8.744999, 42.051384], [8.742222, 42.058327], [8.68111, 42.106384], [8.63889, 42.12028], [8.6083320000001, 42.13277], [8.587221, 42.169716], [8.5705550000001, 42.22166], [8.6183320000001, 42.253052], [8.648888, 42.258331], [8.68222, 42.265274], [8.68611, 42.26722], [8.6880550000001, 42.270271], [8.687498, 42.27444], [8.6858330000001, 42.277496], [8.631666, 42.336937], [8.6158330000001, 42.348328], [8.60722, 42.351105], [8.594721, 42.35139], [8.584166, 42.349998], [8.5758320000001, 42.383606], [8.665277, 42.51111], [8.71472, 42.566666], [8.721666, 42.57444], [8.886944, 42.62805], [9.055277, 42.677498], [9.058332, 42.689163], [9.0608330000001, 42.69194], [9.083887, 42.710831], [9.087221, 42.713051], [9.115833, 42.728607], [9.11944, 42.73027], [9.148333, 42.73333], [9.153332, 42.73333], [9.251389, 42.720833], [9.2549990000001, 42.718887], [9.269444, 42.702217], [9.27833, 42.690552], [9.283888, 42.676666], [9.28694, 42.674438], [9.2908330000001, 42.673332], [9.29389, 42.67555], [9.31139, 42.690277], [9.31722, 42.69527], [9.319166, 42.698326], [9.34111, 42.734161], [9.342499, 42.737778], [9.343332, 42.746666], [9.338888, 42.79055], [9.3372210000001, 42.798332], [9.3302760000001, 42.811386], [9.321665, 42.81889], [9.31139, 42.82972], [9.309166, 42.8325], [9.308054, 42.836105], [9.340832, 42.994438], [9.344721, 43.000832], [9.34861, 43.002495], [9.3530540000001, 43.003883], [9.383333, 43.00861], [9.418333, 43.010277], [9.424166, 43.01055], [9.458332, 42.989716], [9.460833, 42.986382], [9.4894430000001, 42.814438], [9.4891660000001, 42.805275], [9.485554, 42.793884], [9.468887, 42.769165], [9.46611, 42.76194], [9.455, 42.718605], [9.4483320000001, 42.687218], [9.446665, 42.67889]]], [[[-1.19444, 45.822495], [-1.211945, 45.806938], [-1.23972, 45.858887], [-1.250834, 45.873604], [-1.28222, 45.905548], [-1.285833, 45.907776], [-1.31667, 45.923607], [-1.33917, 45.935829], [-1.365556, 45.950272], [-1.37361, 45.958054], [-1.376111, 45.965271], [-1.403056, 46.046661], [-1.40167, 46.050552], [-1.396111, 46.051109], [-1.38472, 46.049438], [-1.363611, 46.044716], [-1.359167, 46.043053], [-1.273334, 45.995827], [-1.23306, 45.964722], [-1.17306, 45.898605], [-1.170833, 45.891663], [-1.170556, 45.887497], [-1.18194, 45.847771], [-1.18694, 45.83166], [-1.18889, 45.828049], [-1.19444, 45.822495]]], [[[-1.26083, 46.156387], [-1.284167, 46.155548], [-1.299445, 46.156662], [-1.31861, 46.160828], [-1.50694, 46.204163], [-1.520556, 46.20916], [-1.531389, 46.215271], [-1.53444, 46.217773], [-1.55222, 46.241104], [-1.553056, 46.244995], [-1.551944, 46.248055], [-1.548333, 46.25], [-1.503056, 46.255554], [-1.492222, 46.25666], [-1.480278, 46.25666], [-1.474445, 46.25583], [-1.291667, 46.198051], [-1.255556, 46.168327], [-1.254167, 46.164993], [-1.254167, 46.160828], [-1.256667, 46.157776], [-1.26083, 46.156387]]], [[[-2.27083, 46.693329], [-2.276389, 46.692772], [-2.36389, 46.698051], [-2.37, 46.701385], [-2.37833, 46.70916], [-2.385278, 46.717773], [-2.385, 46.72555], [-2.38194, 46.72805], [-2.36611, 46.735275], [-2.360834, 46.736107], [-2.354167, 46.73555], [-2.33361, 46.73055], [-2.303056, 46.718605], [-2.276111, 46.704437], [-2.273056, 46.702217], [-2.268611, 46.696388], [-2.27083, 46.693329]]], [[[-2.196945, 47.01722], [-2.14333, 46.953049], [-2.13722, 46.943886], [-2.13556, 46.936386], [-2.13639, 46.919167], [-2.14139, 46.907776], [-2.145, 46.90583], [-2.18278, 46.949165], [-2.199445, 46.961105], [-2.208889, 46.963882], [-2.221667, 46.965271], [-2.234445, 46.965553], [-2.24472, 46.963882], [-2.250834, 46.963882], [-2.25667, 46.964722], [-2.262778, 46.969719], [-2.28472, 47.020554], [-2.277223, 47.027496], [-2.25667, 47.030548], [-2.24556, 47.031944], [-2.23278, 47.030548], [-2.22194, 47.02861], [-2.20778, 47.023888], [-2.196945, 47.01722]]], [[[-3.06667, 47.306664], [-3.08167, 47.289444], [-3.08583, 47.287773], [-3.108334, 47.295555], [-3.118333, 47.29805], [-3.16417, 47.303329], [-3.16944, 47.303604], [-3.188889, 47.302773], [-3.20528, 47.300278], [-3.21111, 47.300827], [-3.21583, 47.302498], [-3.22306, 47.306664], [-3.2375, 47.315277], [-3.239167, 47.318604], [-3.260278, 47.365273], [-3.26083, 47.369438], [-3.25861, 47.376106], [-3.25222, 47.390549], [-3.24889, 47.392776], [-3.243333, 47.391663], [-3.06333, 47.320274], [-3.06139, 47.317215], [-3.063056, 47.313606], [-3.06667, 47.306664]]], [[[-5.055, 48.454163], [-5.10139, 48.44221], [-5.134723, 48.45472], [-5.134723, 48.458328], [-5.13111, 48.46083], [-5.10556, 48.474716], [-5.06944, 48.482498], [-5.064723, 48.483055], [-5.055, 48.48027], [-5.04889, 48.477776], [-5.045, 48.468605], [-5.05194, 48.45694], [-5.055, 48.454163]]], [[[-3.57667, 48.803886], [-3.582222, 48.803886], [-3.58278, 48.80722], [-3.579722, 48.809715], [-3.575556, 48.81249], [-3.570834, 48.81277], [-3.56528, 48.81166], [-3.56333, 48.808609], [-3.56611, 48.805832], [-3.57667, 48.803886]]], [[[2.5416670000001, 51.09111], [2.5975, 50.995827], [2.597777, 50.925827], [2.650555, 50.816109], [2.7819440000001, 50.755554], [2.867503, 50.713379], [2.898056, 50.703049], [2.943055, 50.741386], [2.960556, 50.7575], [3.008611, 50.769165], [3.02, 50.770554], [3.026988, 50.76984], [3.041667, 50.777222], [3.0508330000001, 50.780273], [3.1163890000001, 50.791664], [3.14333, 50.790833], [3.149722, 50.78999], [3.154444, 50.78833], [3.162222, 50.783607], [3.164722, 50.780548], [3.182874, 50.75705], [3.1872220000001, 50.74667], [3.197778, 50.727219], [3.242222, 50.66805], [3.243055, 50.660271], [3.2786110000001, 50.541664], [3.28, 50.53833], [3.29555, 50.525551], [3.298611, 50.523048], [3.367222, 50.495552], [3.37278, 50.494995], [3.4525, 50.509438], [3.456666, 50.511383], [3.518055, 50.518883], [3.607778, 50.495827], [3.620155, 50.490044], [3.6544440000001, 50.461662], [3.657728, 50.45887], [3.66055, 50.456383], [3.66889, 50.44416], [3.67055, 50.440826], [3.67167, 50.433327], [3.676944, 50.395271], [3.7747220000001, 50.353882], [3.889722, 50.339996], [3.98389, 50.345276], [4.033177, 50.35643], [4.038333, 50.355553], [4.165, 50.283051], [4.194444, 50.237495], [4.17139, 50.137215], [4.147222, 50.009995], [4.149238, 49.978371], [4.174179, 49.979881], [4.1830550000001, 49.97639], [4.215261, 49.959602], [4.2311110000001, 49.96249], [4.24805, 49.964439], [4.317222, 49.969719], [4.413333, 49.949165], [4.43001, 49.945007], [4.445833, 49.940552], [4.458333, 49.938606], [4.46417, 49.93889], [4.510555, 49.947495], [4.673611, 49.996384], [4.6797220000001, 50.001938], [4.69444, 50.041939], [4.697499, 50.05555], [4.693889, 50.06194], [4.687778, 50.067215], [4.688055, 50.07111], [4.693055, 50.083328], [4.696944, 50.09083], [4.763055, 50.135551], [4.81472, 50.165833], [4.819166, 50.16722], [4.832503, 50.16861], [4.882777, 50.154716], [4.894722, 50.140274], [4.894444, 50.13611], [4.8875, 50.131104], [4.883333, 50.129166], [4.880555, 50.12639], [4.853333, 50.095551], [4.838888, 50.06916], [4.820833, 49.992775], [4.863889, 49.80722], [4.8730550000001, 49.797218], [4.906666, 49.789719], [4.9127770000001, 49.78889], [4.924444, 49.789444], [4.93528, 49.790833], [4.944722, 49.79361], [4.959167, 49.802216], [4.984444, 49.804718], [4.996666, 49.802498], [5.331111, 49.656662], [5.392305, 49.62255], [5.3986110000001, 49.621384], [5.415, 49.613327], [5.42722, 49.60694], [5.437778, 49.599998], [5.474166, 49.541107], [5.475555, 49.537773], [5.47611, 49.534164], [5.47389, 49.530548], [5.465278, 49.52166], [5.46361, 49.51778], [5.47028, 49.508888], [5.47305, 49.506104], [5.4775, 49.504166], [5.514444, 49.508888], [5.5305550000001, 49.511108], [5.59333, 49.526382], [5.631944, 49.535828], [5.70222, 49.543053], [5.792222, 49.54583], [5.80788, 49.545044], [5.809999, 49.538887], [5.811666, 49.53638], [5.838611, 49.51416], [5.85528, 49.501106], [5.9777770000001, 49.448608], [5.98139, 49.448326], [6.090555, 49.453049], [6.0944440000001, 49.454163], [6.118055, 49.469719], [6.12, 49.471664], [6.122499, 49.48055], [6.123055, 49.48722], [6.12417, 49.48972], [6.156111, 49.50388], [6.1652770000001, 49.504715], [6.229722, 49.508331], [6.23972, 49.507774], [6.247318, 49.50597], [6.302777, 49.476662], [6.32833, 49.469162], [6.36217, 49.45939], [6.41139, 49.47555], [6.416111, 49.47583], [6.468333, 49.461388], [6.50833, 49.442772], [6.532222, 49.430832], [6.540555, 49.425827], [6.546111, 49.41944], [6.5947220000001, 49.363052], [6.686944, 49.244995], [6.7163890000001, 49.191383], [6.714722, 49.188889], [6.714167, 49.185829], [6.715, 49.18305], [6.723611, 49.171661], [6.7275000000001, 49.167496], [6.730833, 49.166107], [6.735, 49.165276], [6.82194, 49.153885], [6.831388, 49.15305], [6.838888, 49.154999], [6.844166, 49.158333], [6.8594440000001, 49.172493], [6.861111, 49.174995], [6.861111, 49.177773], [6.859722, 49.179993], [6.8550000000001, 49.183884], [6.849722, 49.190552], [6.84111, 49.203331], [6.840278, 49.206108], [6.841389, 49.208885], [6.843055, 49.211388], [6.8475, 49.215271], [6.853889, 49.218048], [6.920555, 49.220551], [6.930555, 49.22083], [6.934166, 49.219719], [7.019444, 49.187492], [7.090555, 49.127495], [7.151667, 49.121109], [7.287777, 49.111107], [7.29167, 49.11222], [7.36, 49.14222], [7.361666, 49.14444], [7.367222, 49.160553], [7.369015, 49.16878], [7.371944, 49.17083], [7.375278, 49.171944], [7.38361, 49.173332], [7.41361, 49.176941], [7.423611, 49.177216], [7.4325000000001, 49.175827], [7.486944, 49.164162], [7.6258330000001, 49.06916], [7.63028, 49.065277], [7.652089, 49.044937], [7.66889, 49.04222], [7.737499, 49.04277], [7.821388, 49.046387], [7.9333320000001, 49.048882], [7.938611, 49.048882], [8.039721, 49.01111], [8.051943, 49.005272], [8.1555540000001, 48.97639], [8.22608, 48.964417], [8.20611, 48.95888], [8.190554, 48.951942], [8.139166, 48.895554], [8.135832, 48.890831], [8.121666, 48.864998], [8.112499, 48.846382], [8.110277, 48.840828], [8.10639, 48.82222], [8.103888, 48.816666], [8.092222, 48.803604], [7.9619440000001, 48.724159], [7.88, 48.66416], [7.80222, 48.575829], [7.7454030000001, 48.42495], [7.736666, 48.3986], [7.736666, 48.389442], [7.743055, 48.371109], [7.75177, 48.345406], [7.750833, 48.336662], [7.746111, 48.330551], [7.693333, 48.276382], [7.607729, 48.164185], [7.580832, 48.122772], [7.578888, 48.11972], [7.576898, 48.113152], [7.5697220000001, 48.08916], [7.5688890000001, 48.085274], [7.56667, 48.059998], [7.56919, 48.044777], [7.571666, 48.037216], [7.574444, 48.034439], [7.583888, 48.027222], [7.61361, 48.006104], [7.618518, 48], [7.6224990000001, 47.993889], [7.624444, 47.986107], [7.624166, 47.976944], [7.622222, 47.96916], [7.584167, 47.903328], [7.557221, 47.862778], [7.526667, 47.788055], [7.510833, 47.703331], [7.5133330000001, 47.68694], [7.51944, 47.66833], [7.521944, 47.66555], [7.528889, 47.66083], [7.5402770000001, 47.655], [7.56111, 47.641663], [7.567222, 47.636665], [7.585833, 47.60833], [7.5897220000001, 47.601944], [7.589747, 47.592697], [7.588268, 47.58448], [7.586944, 47.585], [7.567222, 47.583611], [7.557221, 47.581383], [7.550833, 47.576385], [7.546665, 47.565552], [7.521667, 47.55971], [7.513055, 47.556664], [7.501389, 47.55055], [7.49861, 47.54805], [7.497222, 47.544441], [7.502222, 47.500549], [7.49694, 47.494995], [7.452777, 47.46999], [7.433054, 47.460548], [7.41555, 47.44527], [7.388333, 47.434166], [7.3825, 47.432495], [7.358055, 47.433609], [7.355897, 47.434017], [7.343611, 47.438606], [7.336944, 47.439438], [7.3083320000001, 47.440277], [7.2755550000001, 47.432495], [7.251389, 47.421944], [7.24694, 47.42083], [7.24111, 47.421944], [7.187499, 47.44221], [7.178333, 47.445831], [7.14642, 47.499054], [7.025, 47.508049], [6.990555, 47.497215], [6.884444, 47.372772], [6.88111, 47.36472], [6.879999, 47.360275], [6.88111, 47.356941], [6.9313890000001, 47.35889], [6.980833, 47.361664], [7.00083, 47.364998], [6.971666, 47.291939], [6.839722, 47.17361], [6.8375, 47.171104], [6.838888, 47.16777], [6.84972, 47.164989], [6.793333, 47.130829], [6.69944, 47.063889], [6.678333, 47.034164], [6.639722, 47.004166], [6.629722, 46.99721], [6.620832, 46.994438], [6.566388, 46.979996], [6.528333, 46.971664], [6.460278, 46.895828], [6.446944, 46.839439], [6.45861, 46.785271], [6.4575, 46.78083], [6.452777, 46.77444], [6.4349990000001, 46.758049], [6.366666, 46.720551], [6.355, 46.714439], [6.346666, 46.711388], [6.26917, 46.682777], [6.1299990000001, 46.59333], [6.12778, 46.589996], [6.127222, 46.585831], [6.1297220000001, 46.583054], [6.13528, 46.539719], [6.086944, 46.44944], [6.071111, 46.426384], [6.111111, 46.40972], [6.148333, 46.38861], [6.151667, 46.386383], [6.157222, 46.37722], [6.158333, 46.373886], [6.15861, 46.369995], [6.154166, 46.36305], [6.120277, 46.31194], [6.115, 46.30555], [6.106109, 46.297489], [6.118055, 46.268051], [6.119166, 46.264442], [6.117222, 46.260551], [6.107778, 46.253052], [6.0825, 46.24667], [6.072499, 46.249718], [6.060833, 46.250549], [6.03, 46.241386], [6.009166, 46.233887], [5.98139, 46.221939], [5.968055, 46.212494], [5.966666, 46.209442], [5.96611, 46.20528], [5.967222, 46.20194], [5.996388, 46.146942], [6.12361, 46.148048], [6.133611, 46.14944], [6.152222, 46.15361], [6.185833, 46.17083], [6.189166, 46.173332], [6.245555, 46.21833], [6.2719440000001, 46.26194], [6.24375, 46.31551], [6.22805, 46.319717], [6.225555, 46.322495], [6.23, 46.333885], [6.236388, 46.344719], [6.243333, 46.354996], [6.246388, 46.357773], [6.295555, 46.39416], [6.31111, 46.401382], [6.32833, 46.406944], [6.491944, 46.453049], [6.51028, 46.457771], [6.52, 46.45916], [6.633611, 46.464165], [6.702777, 46.45472], [6.737778, 46.447495], [6.791389, 46.434166], [6.800278, 46.43055], [6.803055, 46.427773], [6.808332, 46.41861], [6.809444, 46.415276], [6.807016, 46.404228], [6.8, 46.378326], [6.78083, 46.166107], [6.781111, 46.162498], [6.78389, 46.148048], [6.788055, 46.14222], [6.873888, 46.088051], [6.9330550000001, 46.055275], [7.0058330000001, 45.999443], [7.00861, 45.996666], [7.030555, 45.96194], [7.03805, 45.931938], [6.99667, 45.885551], [6.987499, 45.876938], [6.980833, 45.872215], [6.973055, 45.868889], [6.943889, 45.85833], [6.92222, 45.852219], [6.908055, 45.849442], [6.8961110000001, 45.850273], [6.874999, 45.85611], [6.869721, 45.855827], [6.81861, 45.839165], [6.808888, 45.831383], [6.8072210000001, 45.827217], [6.79972, 45.796661], [6.7989700000001, 45.78067], [6.80778, 45.734444], [6.8097220000001, 45.727776], [6.8141660000001, 45.72194], [6.969444, 45.596939], [6.98972, 45.53333], [6.99944, 45.518326], [7.002777, 45.516106], [7.089159, 45.47686], [7.146944, 45.43055], [7.15861, 45.377495], [7.129167, 45.262215], [7.127777, 45.25777], [7.1249990000001, 45.254997], [7.064722, 45.223053], [6.939444, 45.179443], [6.826944, 45.149719], [6.8163880000001, 45.156387], [6.771944, 45.16805], [6.760833, 45.168327], [6.6975, 45.150276], [6.688889, 45.147774], [6.675833, 45.143883], [6.637777, 45.126106], [6.634121, 45.124001], [6.6272220000001, 45.11944], [6.6216660000001, 45.11388], [6.61976, 45.110138], [6.661666, 45.039993], [6.746944, 44.91944], [6.751111, 44.91722], [6.7752770000001, 44.905548], [6.84083, 44.874161], [6.8577780000001, 44.866661], [6.8922210000001, 44.860275], [6.904444, 44.859161], [6.917777, 44.861938], [6.936388, 44.871384], [6.948333, 44.869995], [6.964444, 44.865829], [6.973888, 44.862778], [7.002777, 44.852776], [7.009999, 44.84861], [7.031666, 44.831383], [7.02833, 44.74472], [6.980277, 44.691666], [6.9705550000001, 44.684715], [6.950833, 44.664719], [6.852777, 44.540833], [6.8536110000001, 44.517776], [6.876944, 44.376663], [6.878888, 44.373604], [6.9763880000001, 44.284164], [7.031388, 44.246941], [7.348332, 44.131943], [7.3533330000001, 44.131104], [7.418888, 44.125549], [7.423055, 44.126663], [7.4663890000001, 44.138611], [7.52028, 44.1561], [7.61472, 44.180275], [7.66222, 44.17083], [7.6577770000001, 44.144722], [7.658333, 44.137215], [7.661666, 44.131104], [7.66889, 44.122772], [7.7090450000001, 44.091309], [7.70833, 44.07944], [7.70417, 44.07222], [7.66, 44.00833], [7.657222, 44.005272], [7.59833, 43.964722], [7.50111, 43.88694], [7.495, 43.88166], [7.493333, 43.877777], [7.492222, 43.869438], [7.493333, 43.862221], [7.49861, 43.849442], [7.5125000000001, 43.82111], [7.528055, 43.788605], [7.519722, 43.790833], [7.50778, 43.792221], [7.48417, 43.782776], [7.4392930000001, 43.757523], [7.4383330000001, 43.760277], [7.4325000000001, 43.769165], [7.429444, 43.771385], [7.42472, 43.773048], [7.4199990000001, 43.772499], [7.41611, 43.770554], [7.4030550000001, 43.761383], [7.387777, 43.748604], [7.3863890000001, 43.74555], [7.3863890000001, 43.74194], [7.391609, 43.727547], [7.31861, 43.709717], [7.25472, 43.70444], [7.238889, 43.69888], [7.15861, 43.66305], [7.1527780000001, 43.658051], [7.07472, 43.57222], [6.8922210000001, 43.43583], [6.88417, 43.433327], [6.84639, 43.424164], [6.794167, 43.422775], [6.636389, 43.311104], [6.6375, 43.287773], [6.68444, 43.287216], [6.689444, 43.285553], [6.696944, 43.28139], [6.7002770000001, 43.275551], [6.6997210000001, 43.271385], [6.69778, 43.268051], [6.6416660000001, 43.184998], [6.599444, 43.192497], [6.5275, 43.189163], [6.406111, 43.163055], [6.18694, 43.12861], [6.178888, 43.125549], [6.172222, 43.121384], [6.1666660000001, 43.115555], [6.16472, 43.112221], [6.161944, 43.103607], [6.157222, 43.067215], [6.1652770000001, 43.05055], [6.137777, 43.055832], [6.11555, 43.06444], [6.062222, 43.101387], [5.955555, 43.118332], [5.9366660000001, 43.09083], [5.9372220000001, 43.087219], [5.929722, 43.083611], [5.871388, 43.05971], [5.86222, 43.057495], [5.838611, 43.059998], [5.8291660000001, 43.06305], [5.781111, 43.082497], [5.776111, 43.088051], [5.77583, 43.091942], [5.7775, 43.100555], [5.78361, 43.104996], [5.791389, 43.10833], [5.817499, 43.114998], [5.8155550000001, 43.12028], [5.68922, 43.188507], [5.68134, 43.190102], [5.671666, 43.191666], [5.52, 43.209999], [5.415833, 43.21666], [5.39805, 43.217773], [5.380278, 43.219162], [5.36361, 43.221939], [5.3566670000001, 43.226387], [5.35111, 43.23111], [5.35111, 43.235275], [5.355556, 43.247772], [5.360833, 43.253609], [5.367222, 43.258331], [5.372222, 43.264717], [5.373888, 43.268883], [5.373888, 43.276665], [5.36389, 43.328331], [5.361666, 43.335274], [5.348611, 43.351944], [5.335555, 43.361382], [5.3222220000001, 43.366661], [5.316111, 43.367493], [5.30639, 43.365555], [5.272222, 43.356384], [5.258333, 43.34833], [5.2500000000001, 43.345276], [5.22305, 43.33944], [5.213055, 43.338608], [5.09639, 43.336937], [5.05778, 43.341385], [5.0388880000001, 43.347496], [5.03083, 43.35139], [5.042277, 43.37766], [5.040444, 43.381496], [5.04078, 43.38866], [5.041944, 43.391167], [5.04561, 43.393997], [5.063944, 43.401833], [5.074778, 43.404495], [5.077777, 43.404663], [5.092277, 43.402828], [5.1422210000001, 43.416107], [5.1513880000001, 43.417221], [5.188611, 43.43388], [5.23056, 43.464165], [5.232499, 43.467499], [5.230833, 43.490273], [5.2272210000001, 43.496109], [5.031388, 43.556664], [5.0230550000001, 43.553886], [5.021111, 43.549995], [5.010833, 43.516663], [5.009722, 43.512215], [5.01667, 43.488884], [5.0227780000001, 43.484161], [5.0280550000001, 43.482498], [5.045278, 43.480827], [5.0525, 43.476944], [5.0575000000001, 43.471382], [5.039555, 43.458607], [5.0407220000001, 43.45427], [5.0412220000001, 43.44744], [5.04055, 43.439941], [5.0397210000001, 43.437607], [5.0357220000001, 43.434772], [5.017388, 43.428272], [4.994722, 43.425274], [4.991555, 43.425774], [4.988555, 43.42894], [4.957777, 43.424995], [4.935555, 43.432777], [4.924999, 43.435272], [4.919167, 43.435555], [4.876111, 43.423882], [4.853611, 43.41333], [4.83005, 43.411385], [4.828388, 43.406551], [4.833388, 43.404221], [4.839889, 43.403217], [4.842555, 43.399887], [4.844889, 43.391384], [4.83939, 43.390217], [4.822722, 43.395885], [4.815055, 43.399216], [4.793388, 43.409554], [4.783889, 43.414219], [4.75, 43.423607], [4.7438890000001, 43.428604], [4.740833, 43.435272], [4.740833, 43.438606], [4.741944, 43.451385], [4.75, 43.486938], [4.750833, 43.49528], [4.751111, 43.507217], [4.74917, 43.518051], [4.746666, 43.52499], [4.739444, 43.537216], [4.71667, 43.565277], [4.711666, 43.570274], [4.705, 43.574997], [4.696666, 43.57777], [4.727221, 43.441666], [4.7327780000001, 43.428329], [4.736111, 43.42222], [4.741666, 43.417496], [4.731888, 43.400444], [4.7415550000001, 43.395775], [4.7472210000001, 43.393944], [4.7647220000001, 43.3861], [4.7687220000001, 43.383442], [4.771055, 43.380108], [4.772555, 43.375938], [4.77272, 43.373608], [4.771888, 43.37144], [4.767388, 43.36894], [4.75089, 43.36911], [4.652778, 43.359718], [4.619166, 43.361107], [4.6069440000001, 43.361938], [4.60139, 43.363052], [4.583888, 43.369995], [4.573333, 43.379997], [4.5724990000001, 43.387772], [4.57444, 43.391106], [4.591389, 43.40749], [4.598055, 43.417496], [4.601666, 43.424995], [4.60111, 43.428604], [4.597221, 43.434166], [4.59111, 43.439163], [4.583888, 43.443329], [4.565555, 43.449997], [4.5355550000001, 43.458328], [4.50611, 43.462776], [4.47389, 43.461937], [4.453333, 43.460548], [4.439166, 43.458885], [4.421944, 43.453888], [4.32583, 43.457222], [4.321111, 43.458328], [4.318055, 43.461105], [4.316111, 43.464722], [4.317499, 43.471664], [4.321111, 43.492493], [4.319166, 43.499718], [4.31778, 43.503883], [4.30944, 43.512215], [4.28611, 43.505554], [4.2513890000001, 43.493889], [4.24722, 43.491943], [4.241433, 43.485954], [4.29194, 43.45916], [4.28778, 43.45694], [4.205, 43.460274], [4.190555, 43.461937], [4.16222, 43.47111], [4.13111, 43.491661], [4.124722, 43.498329], [4.124444, 43.505272], [4.126666, 43.508331], [4.136389, 43.50805], [4.13833, 43.51138], [4.138888, 43.518883], [4.138055, 43.526108], [4.133055, 43.536659], [4.12778, 43.543053], [4.117222, 43.55138], [4.10805, 43.554993], [4.09639, 43.55805], [4.062222, 43.563332], [4.050278, 43.562218], [3.964722, 43.540833], [3.918611, 43.523888], [3.90778, 43.518608], [3.843611, 43.47555], [3.7225, 43.41166], [3.546667, 43.319717], [3.430555, 43.286942], [3.41528, 43.288605], [3.405278, 43.286659], [3.335, 43.265274], [3.3130560000001, 43.25527], [3.25805, 43.22749], [3.14111, 43.138885], [3.0813880000001, 43.069443], [3.0777770000001, 43.041382], [3.045278, 42.954163], [3.003611, 42.881104], [2.963889, 42.848328], [2.961389, 42.844994], [2.96, 42.837776], [2.972777, 42.812218], [2.979167, 42.806664], [3.012222, 42.79805], [3.03805, 42.728333], [3.0408330000001, 42.616943], [3.041944, 42.60833], [3.0494440000001, 42.553886], [3.053889, 42.546661], [3.060277, 42.539719], [3.06889, 42.536385], [3.091389, 42.528885], [3.110278, 42.526939], [3.119722, 42.524719], [3.139722, 42.51916], [3.143055, 42.516388], [3.16, 42.478333], [3.174444, 42.445549], [3.1776550000001, 42.436806], [3.1711110000001, 42.435555], [3.1583330000001, 42.433327], [3.106111, 42.429161], [3.092222, 42.429993], [3.075833, 42.439438], [3.0494440000001, 42.459717], [3.0477780000001, 42.469719], [3.045278, 42.474716], [2.95, 42.48055], [2.724722, 42.419441], [2.678333, 42.401665], [2.65722, 42.38444], [2.656944, 42.37944], [2.6744440000001, 42.357216], [2.666389, 42.341942], [2.54194, 42.332497], [2.525833, 42.333328], [2.484722, 42.343048], [2.46972, 42.353333], [2.442778, 42.376389], [2.438889, 42.380554], [2.332222, 42.418053], [2.280534, 42.434288], [2.269166, 42.43722], [2.2625, 42.436661], [2.151389, 42.421387], [2.137777, 42.417221], [2.1291670000001, 42.408051], [2.124166, 42.39833], [2.1230550000001, 42.393326], [2.116944, 42.383331], [2.093611, 42.364166], [2.062222, 42.356941], [2.0238890000001, 42.352219], [2.017222, 42.35305], [2.0047220000001, 42.357216], [1.9877780000001, 42.367775], [1.9766660000001, 42.374718], [1.968889, 42.384163], [1.959167, 42.41083], [1.9063890000001, 42.446938], [1.851389, 42.469994], [1.78, 42.488327], [1.723611, 42.50944], [1.723333, 42.515274], [1.724444, 42.524994], [1.725278, 42.529999], [1.735278, 42.554443], [1.7430550000001, 42.563606], [1.753889, 42.57], [1.768055, 42.571106], [1.774722, 42.571106], [1.78172, 42.569962], [1.73861, 42.616386], [1.698333, 42.626106], [1.563056, 42.655548], [1.556389, 42.656387], [1.4919440000001, 42.65361], [1.4811110000001, 42.647217], [1.4458330000001, 42.601944], [1.41722, 42.65083], [1.3902780000001, 42.688332], [1.3591670000001, 42.715271], [1.328333, 42.719994], [1.321666, 42.714996], [1.17389, 42.709717], [1.150833, 42.72361], [1.144722, 42.727776], [1.1408330000001, 42.731941], [1.1377780000001, 42.736938], [1.1408330000001, 42.741661], [1.1400000000001, 42.753052], [1.1322220000001, 42.760826], [1.121111, 42.768608], [1.091666, 42.78444], [1.085, 42.785271], [0.896944, 42.813049], [0.82361100000014, 42.833054], [0.72, 42.859161], [0.712222, 42.858604], [0.692778, 42.853607], [0.66778, 42.839165], [0.651944, 42.784996], [0.65555500000011, 42.754166], [0.668056, 42.748055], [0.68138900000014, 42.729439], [0.683889, 42.713051], [0.683056, 42.70805], [0.68000000000012, 42.693329], [0.675506, 42.688484], [0.661667, 42.69194], [0.59556, 42.695], [0.56, 42.695831], [0.509167, 42.69194], [0.50166700000011, 42.69138], [0.43278, 42.686661], [0.2725, 42.702499], [0.26972200000011, 42.707771], [0.26194400000014, 42.717499], [0.186389, 42.734718], [0.178611, 42.735275], [0.172222, 42.73333], [0.14417, 42.722221], [0.11194400000011, 42.709442], [0.008333, 42.68693], [0, 42.68544], [-0.00556, 42.684998], [-0.05056, 42.69194], [-0.057222, 42.69416], [-0.06194, 42.69778], [-0.06194, 42.703331], [-0.060833, 42.70916], [-0.063056, 42.71583], [-0.12361, 42.7575], [-0.151944, 42.776657], [-0.18, 42.78444], [-0.20556, 42.794167], [-0.2625, 42.817497], [-0.300833, 42.839439], [-0.30556, 42.844162], [-0.308739, 42.848381], [-0.315, 42.835831], [-0.31778, 42.83111], [-0.323611, 42.82666], [-0.39194, 42.796387], [-0.54944, 42.77861], [-0.562222, 42.781387], [-0.712778, 42.8825], [-0.718889, 42.886665], [-0.72389, 42.891388], [-0.73194, 42.899162], [-0.73389, 42.904442], [-0.73278, 42.909164], [-0.72332, 42.918945], [-0.722778, 42.922493], [-0.72417, 42.937218], [-0.742778, 42.9611], [-0.746667, 42.965553], [-0.76, 42.96611], [-0.76694, 42.964722], [-0.786945, 42.95694], [-0.79056, 42.9525], [-0.81861, 42.946106], [-0.93417, 42.9525], [-0.946389, 42.955826], [-0.99361, 42.976105], [-1.07278, 43.00639], [-1.200556, 43.04583], [-1.300278, 43.071663], [-1.34306, 43.039162], [-1.346667, 43.034721], [-1.360278, 43.031662], [-1.398056, 43.03805], [-1.42778, 43.04361], [-1.43444, 43.045555], [-1.445833, 43.051666], [-1.45, 43.056664], [-1.47056, 43.085831], [-1.4725, 43.09111], [-1.46889, 43.095833], [-1.45861, 43.10305], [-1.45167, 43.10305], [-1.429445, 43.116386], [-1.42222, 43.123604], [-1.41139, 43.136665], [-1.385, 43.20166], [-1.38278, 43.217773], [-1.3825, 43.24721], [-1.38417, 43.253052], [-1.39139, 43.262772], [-1.40889, 43.273048], [-1.50361, 43.287773], [-1.65556, 43.309441], [-1.69278, 43.30778], [-1.711389, 43.304161], [-1.73038, 43.298981], [-1.776945, 43.3425], [-1.78088, 43.359924], [-1.73, 43.378883], [-1.666945, 43.385277], [-1.595, 43.43388], [-1.585278, 43.44138], [-1.53194, 43.509995], [-1.528056, 43.514999], [-1.48667, 43.570549], [-1.443889, 43.640549], [-1.4425, 43.66555], [-1.44028, 43.691383], [-1.42472, 43.784721], [-1.34694, 44.053604], [-1.34194, 44.07], [-1.333889, 44.085548], [-1.32917, 44.089722], [-1.326389, 44.094444], [-1.305, 44.195549], [-1.26417, 44.393326], [-1.25861, 44.452217], [-1.24894, 44.49911], [-1.24961, 44.511772], [-1.25011, 44.515106], [-1.23378, 44.558109], [-1.208611, 44.625832], [-1.15639, 44.658333], [-1.146389, 44.65583], [-1.12611, 44.651108], [-1.094167, 44.65333], [-1.085834, 44.65416], [-1.054167, 44.66], [-1.046389, 44.66333], [-1.04056, 44.66861], [-1.03611, 44.675278], [-1.03694, 44.68305], [-1.057222, 44.708054], [-1.0625, 44.713608], [-1.12111, 44.754997], [-1.13444, 44.763611], [-1.158334, 44.773888], [-1.16889, 44.776108], [-1.176667, 44.772774], [-1.22556, 44.713051], [-1.23417, 44.699715], [-1.24, 44.68972], [-1.245, 44.678329], [-1.248056, 44.67083], [-1.250278, 44.662498], [-1.2475, 44.757774], [-1.207222, 45.013329], [-1.168334, 45.208611], [-1.15194, 45.37138], [-1.15222, 45.39222], [-1.148611, 45.427498], [-1.14111, 45.489716], [-1.138889, 45.498055], [-1.095, 45.552773], [-1.08389, 45.564438], [-1.07667, 45.568604], [-1.06806, 45.57083], [-1.058056, 45.571388], [-1.05361, 45.565826], [-1.05194, 45.558327], [-1.05222, 45.554161], [-1.053334, 45.550278], [-1.059167, 45.539444], [-1.06111, 45.53083], [-1.061389, 45.527222], [-1.05778, 45.520828], [-1.045, 45.511665], [-0.99889, 45.479439], [-0.99194, 45.474998], [-0.983889, 45.471107], [-0.97056, 45.466385], [-0.947222, 45.463051], [-0.93694, 45.460548], [-0.92222, 45.452499], [-0.91556, 45.44778], [-0.80806, 45.367218], [-0.80222, 45.362495], [-0.7975, 45.356941], [-0.77111, 45.321938], [-0.759167, 45.30444], [-0.73611, 45.235497], [-0.73444, 45.231331], [-0.733111, 45.224663], [-0.73361, 45.209496], [-0.730611, 45.19133], [-0.714722, 45.130554], [-0.70639, 45.111382], [-0.699445, 45.09861], [-0.54583, 44.896385], [-0.54056, 44.890831], [-0.53667, 44.895554], [-0.53667, 44.899719], [-0.53917, 44.983604], [-0.54167, 44.990273], [-0.554167, 45.023331], [-0.605, 45.051941], [-0.61972, 45.060272], [-0.632222, 45.069717], [-0.643889, 45.079994], [-0.648056, 45.085831], [-0.65528, 45.098328], [-0.668333, 45.124161], [-0.67306, 45.138054], [-0.70604, 45.32205], [-0.717778, 45.357216], [-0.745833, 45.419998], [-0.749722, 45.426384], [-0.77667, 45.4611], [-0.78639, 45.471939], [-0.80361, 45.487221], [-0.8625, 45.528885], [-1.000278, 45.614441], [-1.08167, 45.65555], [-1.08972, 45.659439], [-1.165833, 45.68749], [-1.22333, 45.700554], [-1.23278, 45.698608], [-1.240834, 45.70166], [-1.24281, 45.707825], [-1.242778, 45.710274], [-1.23444, 45.77583], [-1.23056, 45.78805], [-1.22556, 45.793884], [-1.188909, 45.799889], [-1.14594, 45.80294], [-1.148056, 45.867775], [-1.0775, 45.89666], [-1.070833, 45.901382], [-1.06778, 45.908882], [-1.053334, 46.01221], [-1.05056, 46.034439], [-1.05194, 46.037773], [-1.05361, 46.041107], [-1.12, 46.125832], [-1.148611, 46.153328], [-1.10583, 46.258606], [-1.11463, 46.31658], [-1.16222, 46.326942], [-1.16806, 46.326942], [-1.172778, 46.325829], [-1.2, 46.318329], [-1.20417, 46.316666], [-1.207778, 46.31472], [-1.21333, 46.309166], [-1.215278, 46.30555], [-1.220278, 46.289719], [-1.26583, 46.304993], [-1.46972, 46.39278], [-1.6543, 46.445358], [-1.78639, 46.488327], [-1.82194, 46.566109], [-1.8275, 46.583885], [-1.86056, 46.63777], [-1.91389, 46.688606], [-1.91972, 46.693604], [-2.007223, 46.761665], [-2.033334, 46.776382], [-2.05889, 46.786942], [-2.082778, 46.798607], [-2.10139, 46.809166], [-2.10806, 46.813606], [-2.12, 46.82361], [-2.130834, 46.838333], [-2.133334, 46.849716], [-2.133889, 46.891388], [-2.13, 46.89833], [-2.12444, 46.90416], [-2.087778, 46.941666], [-2.03472, 46.981667], [-1.98432, 47.031624], [-1.98417, 47.034439], [-1.9875, 47.040833], [-2.00028, 47.059166], [-2.008334, 47.06721], [-2.02417, 47.079163], [-2.051667, 47.097221], [-2.05889, 47.100555], [-2.0725, 47.10527], [-2.11, 47.117218], [-2.11528, 47.118332], [-2.17083, 47.126663], [-2.165167, 47.221107], [-2.160167, 47.23994], [-2.157167, 47.243275], [-2.154667, 47.244274], [-2.134167, 47.278053], [-2.043612, 47.287216], [-1.998889, 47.282219], [-1.938334, 47.274162], [-1.91889, 47.26944], [-1.91917, 47.266663], [-1.90333, 47.25444], [-1.89167, 47.248604], [-1.8025, 47.211937], [-1.773056, 47.208054], [-1.746389, 47.20694], [-1.735, 47.207771], [-1.73, 47.20916], [-1.72861, 47.210831], [-1.88389, 47.28666], [-1.896945, 47.290833], [-1.921389, 47.297775], [-2.00333, 47.31916], [-2.022223, 47.320549], [-2.034167, 47.320274], [-2.12944, 47.309715], [-2.18756, 47.284607], [-2.194722, 47.27544], [-2.273334, 47.241661], [-2.28917, 47.23888], [-2.43361, 47.262497], [-2.480278, 47.277222], [-2.53556, 47.294998], [-2.540278, 47.29666], [-2.54139, 47.300278], [-2.5275, 47.38611], [-2.47972, 47.413055], [-2.46667, 47.417496], [-2.4475, 47.408333], [-2.44056, 47.403885], [-2.406389, 47.407494], [-2.41056, 47.42305], [-2.4596, 47.45299], [-2.471111, 47.44694], [-2.47667, 47.446388], [-2.481112, 47.447777], [-2.48472, 47.45027], [-2.48694, 47.453049], [-2.491667, 47.49305], [-2.48667, 47.498604], [-2.481112, 47.49944], [-2.474445, 47.499161], [-2.42278, 47.49944], [-2.37472, 47.5], [-2.36861, 47.500275], [-2.36389, 47.501663], [-2.361111, 47.504166], [-2.38833, 47.510277], [-2.50944, 47.52916], [-2.58083, 47.537773], [-2.663611, 47.512772], [-2.79306, 47.48888], [-2.818334, 47.493607], [-2.83361, 47.497215], [-2.837778, 47.499161], [-2.86994, 47.540276], [-2.87028, 47.542774], [-2.868445, 47.547104], [-2.865945, 47.548107], [-2.864111, 47.548607], [-2.845611, 47.548107], [-2.81078, 47.544941], [-2.775278, 47.54722], [-2.755, 47.543884], [-2.736945, 47.543884], [-2.732778, 47.545555], [-2.687222, 47.59416], [-2.685, 47.597221], [-2.680556, 47.613052], [-2.681111, 47.617218], [-2.694723, 47.634995], [-2.698056, 47.637215], [-2.70417, 47.638054], [-2.88883, 47.59972], [-2.925333, 47.581051], [-3.09167, 47.584717], [-3.09528, 47.58722], [-3.119722, 47.598328], [-3.125, 47.599442], [-3.12722, 47.59638], [-3.128334, 47.587494], [-3.12889, 47.52916], [-3.126667, 47.52166], [-3.12028, 47.500549], [-3.09611, 47.484993], [-3.08611, 47.47361], [-3.10639, 47.472221], [-3.13139, 47.47527], [-3.13389, 47.47805], [-3.150278, 47.524994], [-3.148612, 47.52861], [-3.140833, 47.532776], [-3.13639, 47.538887], [-3.135, 47.542496], [-3.13194, 47.559441], [-3.13139, 47.568604], [-3.13222, 47.57666], [-3.134445, 47.58416], [-3.14, 47.593887], [-3.150278, 47.609718], [-3.157222, 47.61388], [-3.190556, 47.62861], [-3.21694, 47.650551], [-3.50889, 47.758606], [-3.633266, 47.777458], [-3.79278, 47.793884], [-3.833889, 47.800552], [-3.84806, 47.805832], [-3.87528, 47.824165], [-3.88833, 47.833611], [-3.89111, 47.836388], [-3.904445, 47.85278], [-3.982223, 47.889717], [-4.10139, 47.874992], [-4.151112, 47.854439], [-4.155834, 47.8361], [-4.15528, 47.83194], [-4.15972, 47.825554], [-4.1675, 47.81721], [-4.18278, 47.804161], [-4.209445, 47.799438], [-4.215, 47.798607], [-4.255834, 47.794716], [-4.26944, 47.794998], [-4.36194, 47.802773], [-4.366389, 47.804161], [-4.369167, 47.806938], [-4.37194, 47.821106], [-4.3725, 47.82527], [-4.370556, 47.82861], [-4.366945, 47.83083], [-4.34833, 47.835548], [-4.34583, 47.838051], [-4.344167, 47.841942], [-4.343334, 47.84944], [-4.343889, 47.85361], [-4.35, 47.871941], [-4.36389, 47.898888], [-4.39222, 47.934441], [-4.419445, 47.960831], [-4.43611, 47.9725], [-4.45083, 47.980827], [-4.48486, 48], [-4.495831, 48.005836], [-4.524721, 48.021111], [-4.529443, 48.022499], [-4.541943, 48.01722], [-4.591111, 48.01694], [-4.689167, 48.03], [-4.69444, 48.031387], [-4.718334, 48.037773], [-4.72614, 48.04058], [-4.710556, 48.065552], [-4.70806, 48.068329], [-4.7025, 48.06916], [-4.360001, 48.113327], [-4.34778, 48.112495], [-4.331944, 48.104439], [-4.30611, 48.09861], [-4.3, 48.098053], [-4.294723, 48.098885], [-4.291667, 48.101387], [-4.28361, 48.11472], [-4.28222, 48.118332], [-4.27611, 48.13916], [-4.27528, 48.143326], [-4.27556, 48.151939], [-4.27806, 48.159164], [-4.30222, 48.193054], [-4.31028, 48.201385], [-4.32028, 48.208328], [-4.441389, 48.238327], [-4.46194, 48.242493], [-4.47472, 48.242218], [-4.48472, 48.239441], [-4.49306, 48.236107], [-4.495001, 48.232773], [-4.49389, 48.229164], [-4.49389, 48.225555], [-4.511111, 48.2], [-4.53722, 48.176109], [-4.54083, 48.17388], [-4.552501, 48.172775], [-4.555834, 48.174995], [-4.62028, 48.26722], [-4.62389, 48.281944], [-4.62139, 48.284721], [-4.57361, 48.328049], [-4.55944, 48.336105], [-4.55111, 48.339439], [-4.53583, 48.343048], [-4.531112, 48.34166], [-4.531389, 48.338051], [-4.54194, 48.318329], [-4.55139, 48.306107], [-4.55083, 48.30305], [-4.54528, 48.298332], [-4.535278, 48.291382], [-4.530556, 48.28999], [-4.408334, 48.283607], [-4.26333, 48.284721], [-4.205278, 48.294716], [-4.18611, 48.299995], [-4.18861, 48.301384], [-4.3, 48.320549], [-4.40222, 48.328331], [-4.43861, 48.333054], [-4.44213, 48.34175], [-4.440556, 48.354996], [-4.605278, 48.344719], [-4.71139, 48.334717], [-4.75278, 48.333328], [-4.758889, 48.333885], [-4.76361, 48.335274], [-4.767222, 48.337494], [-4.775, 48.35055], [-4.784167, 48.366943], [-4.78472, 48.37028], [-4.790278, 48.421387], [-4.790278, 48.426109], [-4.77778, 48.509438], [-4.77556, 48.512772], [-4.758056, 48.533051], [-4.74389, 48.54583], [-4.72889, 48.55888], [-4.701945, 48.57], [-4.6975, 48.571663], [-4.63194, 48.57972], [-4.625556, 48.579994], [-4.604167, 48.57194], [-4.600278, 48.57], [-4.596945, 48.567772], [-4.58972, 48.559998], [-4.58694, 48.573883], [-4.565556, 48.62083], [-4.56361, 48.623886], [-4.54167, 48.635277], [-4.536945, 48.636383], [-4.35417, 48.674164], [-4.17194, 48.687492], [-3.99361, 48.722771], [-3.968056, 48.72555], [-3.97194, 48.714165], [-3.97361, 48.705826], [-3.9725, 48.702217], [-3.96417, 48.685272], [-3.949445, 48.6561], [-3.8575, 48.636108], [-3.851111, 48.655548], [-3.86111, 48.68055], [-3.86028, 48.683609], [-3.83333, 48.713882], [-3.83056, 48.71666], [-3.81056, 48.726105], [-3.72806, 48.712776], [-3.717778, 48.710274], [-3.678334, 48.69472], [-3.638611, 48.681938], [-3.59611, 48.675827], [-3.583056, 48.675827], [-3.575278, 48.679718], [-3.531945, 48.739166], [-3.56278, 48.764717], [-3.5675, 48.76611], [-3.57778, 48.764999], [-3.580556, 48.76694], [-3.58167, 48.774994], [-3.580556, 48.783607], [-3.5775, 48.791107], [-3.575278, 48.794167], [-3.536667, 48.825829], [-3.5125, 48.837219], [-3.47472, 48.840828], [-3.38, 48.82194], [-3.366389, 48.82666], [-3.23139, 48.868607], [-3.220834, 48.870552], [-3.12444, 48.864998], [-3.06083, 48.826385], [-2.87917, 48.67889], [-2.81194, 48.614166], [-2.72056, 48.533051], [-2.695556, 48.513054], [-2.68528, 48.50166], [-2.474445, 48.622498], [-2.464723, 48.629997], [-2.462778, 48.633049], [-2.461667, 48.637215], [-2.418334, 48.65361], [-2.307222, 48.676109], [-2.284445, 48.672218], [-2.128334, 48.638611], [-2.03928, 48.599552], [-2.03961, 48.596886], [-1.98222, 48.51416], [-1.97722, 48.512497], [-1.9725, 48.512772], [-1.94944, 48.524719], [-1.94647, 48.526543], [-1.94361, 48.529999], [-1.94194, 48.533607], [-1.95278, 48.57666], [-1.95528, 48.57944], [-1.963611, 48.587494], [-1.969445, 48.592773], [-1.97889, 48.595833], [-1.984445, 48.596107], [-1.99444, 48.593605], [-2.006667, 48.602776], [-2.008778, 48.630775], [-2.01411, 48.642273], [-2.01678, 48.64844], [-2.01711, 48.65094], [-1.98806, 48.68694], [-1.9325, 48.69722], [-1.84889, 48.70916], [-1.84611, 48.70916], [-1.83889, 48.689163], [-1.83861, 48.684998], [-1.84083, 48.681938], [-1.84444, 48.679718], [-1.861111, 48.672775], [-1.867222, 48.657776], [-1.87, 48.649994], [-1.854167, 48.628883], [-1.846667, 48.62055], [-1.84028, 48.615555], [-1.825556, 48.611382], [-1.812222, 48.61055], [-1.78722, 48.61055], [-1.72278, 48.611107], [-1.64917, 48.615273], [-1.633056, 48.617775], [-1.61944, 48.622215], [-1.61083, 48.62611], [-1.588626, 48.639679], [-1.521111, 48.636383], [-1.465, 48.637215], [-1.36889, 48.64361], [-1.449722, 48.675552], [-1.48972, 48.685829], [-1.49889, 48.689163], [-1.56056, 48.74472], [-1.5625, 48.747772], [-1.563611, 48.751663], [-1.578611, 48.83778], [-1.57556, 48.862778], [-1.564167, 48.91444], [-1.556389, 49.015831], [-1.57667, 49.008331], [-1.58083, 49.00666], [-1.585, 49.008888], [-1.589445, 49.015], [-1.5975, 49.040276], [-1.61, 49.089439], [-1.60972, 49.215], [-1.68111, 49.294441], [-1.70583, 49.318329], [-1.740834, 49.351662], [-1.75, 49.359444], [-1.7775, 49.373604], [-1.79, 49.374992], [-1.80278, 49.374443], [-1.80917, 49.37527], [-1.812222, 49.377777], [-1.84556, 49.499718], [-1.846667, 49.568329], [-1.84, 49.578331], [-1.83806, 49.586388], [-1.83833, 49.59833], [-1.84194, 49.613609], [-1.84861, 49.635826], [-1.855278, 49.64944], [-1.857778, 49.652222], [-1.864444, 49.656944], [-1.88389, 49.66305], [-1.900278, 49.666382], [-1.91306, 49.66777], [-1.941667, 49.67333], [-1.94556, 49.67555], [-1.94611, 49.679443], [-1.94444, 49.71611], [-1.944167, 49.720551], [-1.941667, 49.723885], [-1.938056, 49.72583], [-1.93278, 49.72722], [-1.92639, 49.727493], [-1.91444, 49.72555], [-1.84472, 49.713882], [-1.71528, 49.680275], [-1.673611, 49.664719], [-1.670833, 49.66166], [-1.666945, 49.659721], [-1.64944, 49.657776], [-1.620556, 49.655273], [-1.53722, 49.656662], [-1.518813, 49.658356], [-1.50111, 49.664444], [-1.482778, 49.67555], [-1.47972, 49.678329], [-1.472778, 49.687492], [-1.46667, 49.697777], [-1.41083, 49.704994], [-1.38, 49.70694], [-1.37306, 49.70666], [-1.322778, 49.700829], [-1.288611, 49.694443], [-1.26417, 49.684166], [-1.23861, 49.65583], [-1.23056, 49.630272], [-1.22722, 49.619164], [-1.22778, 49.614441], [-1.23028, 49.611382], [-1.259167, 49.59833], [-1.29222, 49.583885], [-1.296111, 49.581665], [-1.30139, 49.575829], [-1.30444, 49.568329], [-1.305, 49.563606], [-1.303056, 49.547493], [-1.29833, 49.537216], [-1.291945, 49.527771], [-1.28722, 49.522217], [-1.26417, 49.49638], [-1.256667, 49.48805], [-1.251389, 49.482216], [-1.23806, 49.46833], [-1.165278, 49.406662], [-1.11389, 49.365273], [-1.105278, 49.373604], [-1.09167, 49.383049], [-1.08472, 49.38777], [-1.07278, 49.393608], [-1.06778, 49.394722], [-0.976944, 49.39666], [-0.92778, 49.394722], [-0.92139, 49.393883], [-0.90917, 49.383606], [-0.901945, 49.379166], [-0.887778, 49.374443], [-0.868056, 49.368607], [-0.85139, 49.364998], [-0.827222, 49.361664], [-0.72556, 49.351662], [-0.62194, 49.344994], [-0.58056, 49.345276], [-0.50306, 49.346107], [-0.42417, 49.341942], [-0.410833, 49.34083], [-0.38222, 49.331108], [-0.369722, 49.325554], [-0.36, 49.32222], [-0.301111, 49.30416], [-0.2875, 49.299995], [-0.22833, 49.283607], [-0.104167, 49.299164], [-0.09333, 49.301109], [-0.073333, 49.30555], [-0.039444, 49.31472], [0, 49.32877], [0.062222000000133, 49.351944], [0.079167, 49.358887], [0.085556, 49.364166], [0.098611, 49.378883], [0.113611, 49.391388], [0.131944, 49.4025], [0.149167, 49.409439], [0.169444, 49.41416], [0.235278, 49.427216], [0.270278, 49.430275], [0.29524, 49.431458], [0.368611, 49.439438], [0.384722, 49.44221], [0.424722, 49.45166], [0.45138900000012, 49.461105], [0.46333, 49.466942], [0.474167, 49.47361], [0.494444, 49.48805], [0.49166700000012, 49.48805], [0.48333300000013, 49.484444], [0.44138900000013, 49.471664], [0.388056, 49.457771], [0.371667, 49.455551], [0.353611, 49.454163], [0.3225, 49.453049], [0.30916700000012, 49.453331], [0.25611, 49.457222], [0.160833, 49.468887], [0.119167, 49.48472], [0.107222, 49.490829], [0.078056, 49.511665], [0.073889, 49.51778], [0.074167000000102, 49.526665], [0.07722200000012, 49.534164], [0.16972, 49.688889], [0.184444, 49.702774], [0.18750000000011, 49.705276], [0.208889, 49.718048], [0.213333, 49.719719], [0.266944, 49.733604], [0.31111, 49.744995], [0.42694400000011, 49.788605], [0.56333300000011, 49.844719], [0.585833, 49.852776], [0.64027800000014, 49.866104], [0.683333, 49.873604], [0.694722, 49.874992], [0.71333, 49.87555], [1.068611, 49.926109], [1.073611, 49.927216], [1.201944, 49.969719], [1.22, 49.976105], [1.2325, 49.981667], [1.37243, 50.065781], [1.39389, 50.07471], [1.409444, 50.083054], [1.435555, 50.098328], [1.441944, 50.103333], [1.461111, 50.124161], [1.505555, 50.201942], [1.534167, 50.288605], [1.53472, 50.292221], [1.549444, 50.352493], [1.552778, 50.359993], [1.555278, 50.363052], [1.56, 50.364716], [1.585278, 50.370277], [1.598333, 50.37055], [1.603851, 50.36879], [1.562778, 50.39611], [1.560278, 50.399162], [1.558055, 50.4061], [1.577222, 50.528053], [1.564167, 50.68471], [1.564444, 50.705826], [1.5986110000001, 50.809166], [1.625, 50.877777], [1.733333, 50.942497], [1.7458330000001, 50.948051], [1.768889, 50.95583], [1.792778, 50.962776], [1.9433330000001, 50.995277], [2.23528, 51.03805], [2.3594440000001, 51.054443], [2.38472, 51.051941], [2.407222, 51.054993], [2.42305, 51.058052], [2.492222, 51.07611], [2.5166660000001, 51.082771], [2.5416670000001, 51.09111]]]]}\n",
      "\\\r"
     ]
    }
   ],
   "source": [
    "start = time.time()\n",
    "\n",
    "for year in ['2019', '2020', '2021']:\n",
    "    datasetInfo = {\n",
    "    'datasetID' : '69626:EU_CAMS_SURFACE_PM10_G',\n",
    "    'startDate' : year + '-09-01',\n",
    "    'endDate' : year + '-09-30',\n",
    "    'geometry' : geom_1,\n",
    "    'outputFname' : './PM10_NOR_ADAMAPI_' + year + '.zip'\n",
    "    }\n",
    "    getZipData(a, datasetInfo)\n",
    "    \n",
    "end = time.time()\n",
    "clear_output(wait=True)\n",
    "delta1 = end - start\n",
    "print('\\033[1m'+'Processing time: ' + str(round(delta1,2)))"
   ]
  },
  {
   "cell_type": "markdown",
   "id": "spiritual-danish",
   "metadata": {},
   "source": [
    "## <a id=5.Data_Analysis_Visualization></a> **Step 5: Data Analysis and Visualization**"
   ]
  },
  {
   "cell_type": "markdown",
   "id": "stone-drilling",
   "metadata": {},
   "source": [
    "The data retrieved via the Adam API are now available as a zip file that must be unzipped to directly handle the data in a geotiff format. Then with the Python packages provided in the Jupyter environment it is possible to process and visualized the requested product."
   ]
  },
  {
   "cell_type": "markdown",
   "id": "infectious-retail",
   "metadata": {},
   "source": [
    "#### Unzip data"
   ]
  },
  {
   "cell_type": "code",
   "execution_count": null,
   "id": "urban-development",
   "metadata": {},
   "outputs": [],
   "source": [
    "import pathlib\n",
    "import zipfile"
   ]
  },
  {
   "cell_type": "code",
   "execution_count": null,
   "id": "recent-programming",
   "metadata": {},
   "outputs": [],
   "source": [
    "def unzipData(filename):\n",
    "    with zipfile.ZipFile(filename, 'r') as zip_ref:\n",
    "        zip_ref.extractall(path = pathlib.Path(filename).stem)"
   ]
  },
  {
   "cell_type": "code",
   "execution_count": null,
   "id": "spread-phase",
   "metadata": {},
   "outputs": [],
   "source": [
    "for year in ['2019', '2020', '2021']:\n",
    "    unzipData('./PM10_NOR_ADAMAPI_' + year + '.zip')"
   ]
  },
  {
   "cell_type": "markdown",
   "id": "entire-purse",
   "metadata": {},
   "source": [
    "#### Read data and make a monthly average"
   ]
  },
  {
   "cell_type": "code",
   "execution_count": null,
   "id": "expected-workshop",
   "metadata": {},
   "outputs": [],
   "source": [
    "import xarray as xr\n",
    "import glob"
   ]
  },
  {
   "cell_type": "markdown",
   "id": "afraid-vietnamese",
   "metadata": {},
   "source": [
    "We now read these files using `xarray`. First, we make a list of all the geotiff files in a given folder. To ensure each raster is labelled correctly with its time, we can use a helper function `paths_to_datetimeindex()` to extract time information from the file paths we obtained above. We then load and concatenate each dataset along the time dimension using `xarray.open_rasterio()`, convert the resulting `xarray.DataArray` to a `xarray.Dataset`, and give the variable a more useful name (**PM10**)"
   ]
  },
  {
   "cell_type": "code",
   "execution_count": null,
   "id": "hollywood-range",
   "metadata": {},
   "outputs": [],
   "source": [
    "from datetime import datetime"
   ]
  },
  {
   "cell_type": "code",
   "execution_count": null,
   "id": "rental-contemporary",
   "metadata": {},
   "outputs": [],
   "source": [
    "def paths_to_datetimeindex(paths):\n",
    "    return  [datetime.strptime(date.split('_')[-1].split('.')[0], '%Y-%m-%dt%f') for date in paths]"
   ]
  },
  {
   "cell_type": "code",
   "execution_count": null,
   "id": "fixed-container",
   "metadata": {},
   "outputs": [],
   "source": [
    "def getData(dirtif):\n",
    "    geotiff_list = glob.glob(dirtif)\n",
    "    # Create variable used for time axis\n",
    "    time_var = xr.Variable('time', paths_to_datetimeindex(geotiff_list))\n",
    "    # Load in and concatenate all individual GeoTIFFs\n",
    "    geotiffs_da = xr.concat([xr.open_rasterio(i, parse_coordinates=True) for i in geotiff_list],\n",
    "                        dim=time_var)\n",
    "    # Covert our xarray.DataArray into a xarray.Dataset\n",
    "    geotiffs_da = geotiffs_da.to_dataset('band')\n",
    "    # Rename the dimensions to make it CF-convention compliant\n",
    "    geotiffs_da = geotiffs_da.rename_dims({'y': 'latitude', 'x':'longitude'})\n",
    "    # Rename the variable to a more useful name\n",
    "    geotiffs_da = geotiffs_da.rename_vars({1: 'PM10', 'y':'latitude', 'x':'longitude'})\n",
    "\n",
    "    return geotiffs_da"
   ]
  },
  {
   "cell_type": "code",
   "execution_count": null,
   "id": "arctic-condition",
   "metadata": {
    "tags": []
   },
   "outputs": [],
   "source": [
    "geotiff_ds = getData('./PM10_NOR_ADAMAPI_20*/*.tif')\n",
    "geotiff_ds['PM10'].attrs = {'units' : 'µg m-3', 'long_name' : 'Particulate matter < 10 µm'}\n",
    "geotiff_ds"
   ]
  },
  {
   "cell_type": "markdown",
   "id": "refined-sunrise",
   "metadata": {},
   "source": [
    "#### Analyze data"
   ]
  },
  {
   "cell_type": "markdown",
   "id": "military-model",
   "metadata": {},
   "source": [
    "Make yearly average for September month"
   ]
  },
  {
   "cell_type": "code",
   "execution_count": null,
   "id": "external-guitar",
   "metadata": {},
   "outputs": [],
   "source": [
    "geotiff_dm = geotiff_ds.groupby('time.year').mean('time', keep_attrs=True)"
   ]
  },
  {
   "cell_type": "code",
   "execution_count": null,
   "id": "potential-dealing",
   "metadata": {
    "tags": []
   },
   "outputs": [],
   "source": [
    "geotiff_dm"
   ]
  },
  {
   "cell_type": "markdown",
   "id": "distinct-january",
   "metadata": {},
   "source": [
    "#### Visualize data"
   ]
  },
  {
   "cell_type": "code",
   "execution_count": null,
   "id": "floppy-detective",
   "metadata": {},
   "outputs": [],
   "source": [
    "import cartopy.crs as ccrs\n",
    "import matplotlib.pyplot as plt\n",
    "import cmaps"
   ]
  },
  {
   "cell_type": "code",
   "execution_count": null,
   "id": "adjustable-chosen",
   "metadata": {},
   "outputs": [],
   "source": [
    "# generate figure\n",
    "proj_plot = ccrs.Mercator(central_longitude=24.0)\n",
    "\n",
    "lcmap = cmaps.BlueYellowRed\n",
    "# Only plot values greater than 0\n",
    "p = geotiff_dm['PM10'].where(geotiff_dm['PM10'] > 0).plot(x='longitude', y='latitude',transform=ccrs.PlateCarree(),\n",
    "                            subplot_kws={\"projection\": proj_plot},\n",
    "                            size=8,\n",
    "                            col='year', col_wrap=3, robust=True, cmap=lcmap, add_colorbar=True)\n",
    "\n",
    "# We have to set the map's options on all four axes\n",
    "for ax,i in zip(p.axes.flat,  geotiff_dm.year.values):\n",
    "    ax.coastlines()\n",
    "    ax.set_title('Surface PM10\\n' + 'September ' + str(i), fontsize=10)\n",
    "\n",
    "plt.savefig('PM10_september_NOR_2019-2021.png')"
   ]
  },
  {
   "cell_type": "markdown",
   "id": "raising-contract",
   "metadata": {},
   "source": [
    "#### Plot one single date"
   ]
  },
  {
   "cell_type": "code",
   "execution_count": null,
   "id": "complimentary-borough",
   "metadata": {},
   "outputs": [],
   "source": [
    "fig=plt.figure(figsize=(10,10))\n",
    "# Define the projection\n",
    "crs=ccrs.PlateCarree()\n",
    "\n",
    "# We're using cartopy and are plotting in Orthographic projection \n",
    "# (see documentation on cartopy)\n",
    "ax = plt.subplot(1, 1, 1, projection=ccrs.Mercator(central_longitude=12.0))\n",
    "ax.coastlines(resolution='10m')\n",
    "\n",
    "# custom colormap\n",
    "\n",
    "lcmap = cmaps.BlueYellowRed\n",
    "\n",
    "# We need to project our data to the new Mercator projection and for this we use `transform`.\n",
    "# we set the original data projection in transform (here PlateCarree)\n",
    "# we only plot values greather than 0\n",
    "img = geotiff_ds['PM10'].where(geotiff_ds['PM10'] > 0).sel(time='2021-09-15').plot(ax=ax, transform=ccrs.PlateCarree(), cmap=lcmap)  \n",
    "\n",
    "# Title for plot\n",
    "plt.title('Surface PM10 \\n 15th September 2021 over Norway',fontsize = 16, fontweight = 'bold', pad=10)\n",
    "plt.savefig('PM10_september_NOR_2021-09-15.png')"
   ]
  },
  {
   "cell_type": "markdown",
   "id": "norman-journey",
   "metadata": {},
   "source": [
    "#### Interactive plot with bokeh"
   ]
  },
  {
   "cell_type": "code",
   "execution_count": null,
   "id": "chinese-appreciation",
   "metadata": {},
   "outputs": [],
   "source": [
    "import hvplot.xarray"
   ]
  },
  {
   "cell_type": "markdown",
   "id": "legendary-revision",
   "metadata": {},
   "source": [
    "<div align=\"center\">\n",
    "    <h1 style=\"font-size:5vw\">PM10 over Norway from 1st September to 30th September 2021</h1>\n",
    "</div>"
   ]
  },
  {
   "cell_type": "code",
   "execution_count": null,
   "id": "federal-workstation",
   "metadata": {
    "tags": []
   },
   "outputs": [],
   "source": [
    "geotiff_ds.hvplot.labels( text_font_size='6pt', text_color='blue').opts(xoffset=20)\n",
    "geotiff_ds.where(geotiff_ds['PM10'] > 0).sel(time=slice('2021-09-01', '2021-09-30')).PM10.hvplot(\n",
    "    groupby=\"time\",\n",
    "    cmap=lcmap,\n",
    "    geo=True,\n",
    "    coastline='10m',\n",
    "    frame_width=400,\n",
    "    clim=(0,35) \n",
    ")"
   ]
  },
  {
   "cell_type": "markdown",
   "id": "intelligent-violence",
   "metadata": {},
   "source": [
    "#### Plot a timeseries"
   ]
  },
  {
   "cell_type": "markdown",
   "id": "vertical-plane",
   "metadata": {},
   "source": [
    "<div align=\"center\">\n",
    "    <h1 style=\"font-size:5vw\">PM10 over Lillehammer from 1st September to 30th September 2021</h1>\n",
    "</div>"
   ]
  },
  {
   "cell_type": "markdown",
   "id": "patient-cotton",
   "metadata": {},
   "source": [
    "Sort times and then select one location"
   ]
  },
  {
   "cell_type": "code",
   "execution_count": null,
   "id": "incoming-hamburg",
   "metadata": {},
   "outputs": [],
   "source": [
    "latitude = 61.1153\n",
    "longitude = 10.4662"
   ]
  },
  {
   "cell_type": "code",
   "execution_count": null,
   "id": "automotive-tennessee",
   "metadata": {},
   "outputs": [],
   "source": [
    "geotiff_ds = geotiff_ds.sortby('time')\n",
    "ts = geotiff_ds['PM10'].where(geotiff_ds['PM10'] > 0).sel(latitude=latitude, longitude=longitude, method='nearest').sel(time=slice('2021-09-01', '2021-09-30'))"
   ]
  },
  {
   "cell_type": "code",
   "execution_count": null,
   "id": "married-insight",
   "metadata": {},
   "outputs": [],
   "source": [
    "ts.hvplot(color='purple') * ts.hvplot.scatter(marker='o', color='blue', size=15)"
   ]
  },
  {
   "cell_type": "code",
   "execution_count": null,
   "id": "neutral-demand",
   "metadata": {},
   "outputs": [],
   "source": []
  },
  {
   "cell_type": "code",
   "execution_count": null,
   "id": "isolated-caribbean",
   "metadata": {},
   "outputs": [],
   "source": []
  }
 ],
 "metadata": {
  "kernelspec": {
   "display_name": "Python 3",
   "language": "python",
   "name": "python3"
  },
  "language_info": {
   "codemirror_mode": {
    "name": "ipython",
    "version": 3
   },
   "file_extension": ".py",
   "mimetype": "text/x-python",
   "name": "python",
   "nbconvert_exporter": "python",
   "pygments_lexer": "ipython3",
   "version": "3.8.12"
  }
 },
 "nbformat": 4,
 "nbformat_minor": 5
}
